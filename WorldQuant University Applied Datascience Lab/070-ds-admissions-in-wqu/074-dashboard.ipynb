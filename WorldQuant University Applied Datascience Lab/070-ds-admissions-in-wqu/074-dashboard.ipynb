{
 "cells": [
  {
   "cell_type": "markdown",
   "id": "60b680b9-26ab-4004-b835-3dc2fda59938",
   "metadata": {
    "deletable": false,
    "editable": false
   },
   "source": [
    "<font size=\"+3\"><strong>7.4. Experiment Web Application</strong></font>"
   ]
  },
  {
   "cell_type": "markdown",
   "id": "8c95da6c-e2c0-40f9-815d-9d4b0582ec05",
   "metadata": {
    "deletable": false,
    "editable": false
   },
   "source": [
    "During this project, you've made informative data visualizations, built helpful Python classes, and conducted statistical analyses. In this lesson, you're going to combine all of those elements into a single, interactive web application. \n",
    "\n",
    "This web application will be similar to the one you built in Project 6 because it will also have a three-tier architecture. But instead of writing our code in a notebook, this time we'll use `.py` files, like we did in Project 5.\n",
    "\n",
    "This notebook has the instructions and videos for the tasks you need to complete. You'll also launch your application from here. But all the coding will be in the files: `display.py`, `business.py`, and `database.py`."
   ]
  },
  {
   "cell_type": "markdown",
   "id": "025db8e6-16f7-4832-afd0-c7aa3f47f14f",
   "metadata": {
    "deletable": false,
    "editable": false
   },
   "source": [
    "<div class=\"alert alert-block alert-warning\">\n",
    "<b>Warning:</b> The database has changed since this videos for this lesson were filmed. So don't worry if you don't get exactly the same numbers as the instructor for the tasks in this project.\n",
    "</div>"
   ]
  },
  {
   "cell_type": "code",
   "execution_count": null,
   "id": "7eec8dbd-2305-465b-9a8f-25a937352980",
   "metadata": {
    "deletable": false,
    "editable": false,
    "init_cell": true
   },
   "outputs": [],
   "source": [
    "from IPython.display import VimeoVideo\n",
    "\n",
    "VimeoVideo(\"741483390\", h=\"cb46c9caa3\", width=600)"
   ]
  },
  {
   "cell_type": "markdown",
   "id": "8f49c2f9-80f2-4874-8f56-72cc5b1d24cf",
   "metadata": {
    "deletable": false,
    "editable": false
   },
   "source": [
    "<div class=\"alert alert-block alert-warning\">\n",
    "<p><b>Warning:</b> If you have issues with your app launching during this project, try restarting your kernel and re-running the notebook from the beginning. Go to <b>Kernel</b> > <b>Restart Kernel and Clear All Outputs</b>.</p>\n",
    "<p>If that doesn't work, close the browser window for your virtual machine, and then relaunch it from the \"Overview\" section of the WQU learning platform.</p> \n",
    "</div>"
   ]
  },
  {
   "cell_type": "code",
   "execution_count": 2,
   "id": "fa38aa11-fbd3-4466-93f3-a33d78b0246c",
   "metadata": {
    "deletable": false,
    "editable": false
   },
   "outputs": [],
   "source": [
    "# Every time you want to refresh your app,\n",
    "# restart your kernel and rerun these TWO cells\n",
    "from jupyter_dash.comms import _send_jupyter_config_comm_request\n",
    "\n",
    "_send_jupyter_config_comm_request()"
   ]
  },
  {
   "cell_type": "code",
   "execution_count": 5,
   "id": "bee33007-d1e7-4938-ad89-42259f258453",
   "metadata": {
    "deletable": false,
    "editable": false
   },
   "outputs": [
    {
     "name": "stdout",
     "output_type": "stream",
     "text": [
      "Dash app running on https://vm.wqu.edu/proxy/8050/\n"
     ]
    }
   ],
   "source": [
    "# Import `app` object from `display.py` module\n",
    "from display import app\n",
    "from jupyter_dash import JupyterDash  # noQA F401\n",
    "\n",
    "JupyterDash.infer_jupyter_proxy_config()\n",
    "\n",
    "# Start app server\n",
    "app.run_server(host=\"0.0.0.0\", mode=\"external\")"
   ]
  },
  {
   "cell_type": "markdown",
   "id": "a91679bf-1bd8-41a1-bfa3-d06ff7ce2926",
   "metadata": {
    "deletable": false,
    "editable": false
   },
   "source": [
    "# Application Layout"
   ]
  },
  {
   "cell_type": "markdown",
   "id": "d2165b0e-555f-488d-afd5-a69762430945",
   "metadata": {
    "deletable": false,
    "editable": false
   },
   "source": [
    "We're going to build our application using a three-tier architecture. The three `.py` files — or **modules** — represent the three layers of our application. We'll start with our display layer, where we'll keep all the elements that our user will see and interact with."
   ]
  },
  {
   "cell_type": "code",
   "execution_count": null,
   "id": "1b34df23-bbd7-4159-bb5d-1aa42afa4dcd",
   "metadata": {
    "deletable": false,
    "editable": false,
    "init_cell": true
   },
   "outputs": [],
   "source": [
    "VimeoVideo(\"741483369\", h=\"169cf24bb2\", width=600)"
   ]
  },
  {
   "cell_type": "markdown",
   "id": "a67b9ddb-3df4-4bb6-8523-3664d265549f",
   "metadata": {
    "deletable": false,
    "editable": false
   },
   "source": [
    "**Task 7.4.1:** In the `display` module, instantiate a `JupyterDash` application named `app`. Then begin building its layout by adding three `H1` headers with the titles: `\"Applicant Demographics\"`, `\"Experiment\"`, and `\"Results\"`. "
   ]
  },
  {
   "cell_type": "markdown",
   "id": "f7fb0664-be52-46d7-98d1-5f83c3cf3b3f",
   "metadata": {
    "deletable": false,
    "editable": false
   },
   "source": [
    "<div class=\"alert alert-block alert-info\">\n",
    "    <p>You can test this task by restarting your kernel and running the first cell in this notebook. ☝️</p>\n",
    "</div>\n"
   ]
  },
  {
   "cell_type": "markdown",
   "id": "c22db6d5-2f05-41be-9ade-cd6778f24c58",
   "metadata": {
    "deletable": false,
    "editable": false
   },
   "source": [
    "# Demographic Charts"
   ]
  },
  {
   "cell_type": "markdown",
   "id": "c96dca38-9871-4747-bef6-bd20d2969f4b",
   "metadata": {
    "deletable": false,
    "editable": false
   },
   "source": [
    "The first element in our application is the `\"Applicant Demographics\"` section. We'll start by building a drop-down menu that will allow the user to select which visualization they want to see."
   ]
  },
  {
   "cell_type": "code",
   "execution_count": null,
   "id": "494b9112-b61e-468a-84f8-491abbc9df81",
   "metadata": {
    "deletable": false,
    "editable": false,
    "init_cell": true
   },
   "outputs": [],
   "source": [
    "VimeoVideo(\"741483344\", h=\"96b0bc2215\", width=600)"
   ]
  },
  {
   "cell_type": "markdown",
   "id": "040cc683-db9c-4025-8528-cad939ef123d",
   "metadata": {
    "deletable": false,
    "editable": false
   },
   "source": [
    "**Task 7.4.2:** Add a drop-down menu to the `\"Applicant Demographics\"` section of your layout. It should have three options: `\"Nationality\"`, `\"Age\"`, and `\"Education\"`. Be sure to give it the ID `\"demo-plots-dropdown\"`."
   ]
  },
  {
   "cell_type": "markdown",
   "id": "fa55b02c-a6c6-4333-abaa-a69e5026816c",
   "metadata": {
    "deletable": false,
    "editable": false
   },
   "source": [
    "<div class=\"alert alert-block alert-info\">\n",
    "    <p>You can test this task by restarting your kernel and running the first cell in this notebook. ☝️</p>\n",
    "</div>\n"
   ]
  },
  {
   "cell_type": "code",
   "execution_count": null,
   "id": "ac041c94-d3ba-4d02-a959-853a008b6769",
   "metadata": {},
   "outputs": [],
   "source": [
    "\"Bookmark\""
   ]
  },
  {
   "cell_type": "code",
   "execution_count": null,
   "id": "acb28cf8-7a85-42f2-89ab-faef3ba10528",
   "metadata": {
    "deletable": false,
    "editable": false,
    "init_cell": true
   },
   "outputs": [],
   "source": [
    "VimeoVideo(\"741483308\", h=\"71b4f8853f\", width=600)"
   ]
  },
  {
   "cell_type": "markdown",
   "id": "e22d2aba-6121-42fa-951f-56c7ea808bdb",
   "metadata": {
    "deletable": false,
    "editable": false
   },
   "source": [
    "**Task 7.4.3:** Add a `Div` object below your drop-down menu. Give it the ID `\"demo-plots-display\"`. "
   ]
  },
  {
   "cell_type": "markdown",
   "id": "8d94620c-504d-4940-a55f-038634dcc273",
   "metadata": {
    "deletable": false,
    "editable": false
   },
   "source": [
    "<div class=\"alert alert-block alert-info\">\n",
    "    <p>Nothing to test for now. Go to the next task. 😁</p>\n",
    "</div>\n"
   ]
  },
  {
   "cell_type": "code",
   "execution_count": null,
   "id": "64ac3bf4-98d8-4519-86cd-3fb048307fa0",
   "metadata": {
    "deletable": false,
    "editable": false,
    "init_cell": true
   },
   "outputs": [],
   "source": [
    "VimeoVideo(\"741483291\", h=\"7f5953609c\", width=600)"
   ]
  },
  {
   "cell_type": "markdown",
   "id": "cc67db90-dffe-4a72-ac5a-d0211e25e247",
   "metadata": {
    "deletable": false,
    "editable": false
   },
   "source": [
    "**Task 7.4.4:** Complete the `display_demo_graph` function in the `display` module. It should take input from `\"demo-plots-dropdown\"` and pass output to `\"demo-plots-display\"`. For now, it should only return an empty `Graph` object. We'll add to it in later tasks.  "
   ]
  },
  {
   "cell_type": "markdown",
   "id": "3907d957-ed20-415e-a75e-850f412dd67f",
   "metadata": {
    "deletable": false,
    "editable": false
   },
   "source": [
    "<div class=\"alert alert-block alert-info\">\n",
    "    <p>You can test this task by restarting your kernel and running the first cell in this notebook. ☝️</p>\n",
    "</div>\n"
   ]
  },
  {
   "cell_type": "markdown",
   "id": "b1129f00-a6a5-448b-bab3-f9dd13dacdcc",
   "metadata": {
    "deletable": false,
    "editable": false
   },
   "source": [
    "Now that we have the interactive elements needed for our demographic charts, we need to create the components that will retrieve the data for those charts. That means we need to move to the database layer. We'll start by creating the class and method for our choropleth visualization."
   ]
  },
  {
   "cell_type": "code",
   "execution_count": null,
   "id": "c4f723a2-8832-460f-a30f-686e323e9a0b",
   "metadata": {
    "deletable": false,
    "editable": false,
    "init_cell": true
   },
   "outputs": [],
   "source": [
    "VimeoVideo(\"741483275\", h=\"478958c636\", width=600)"
   ]
  },
  {
   "cell_type": "markdown",
   "id": "7e3e68ad-6cb1-4798-ba7b-6de5dbe37697",
   "metadata": {
    "deletable": false,
    "editable": false
   },
   "source": [
    "**Task 7.4.5:** In the `database` module, create a `MongoRepository` class. Build your `__init__` method using the docstring as a guide. To test your work, restart your kernel and rerun the cell below.👇\n",
    "\n",
    "- [What's a class?](../%40textbook/21-python-object-oriented-programming.ipynb#Classes)\n",
    "- [Write a class method in Python.](../%40textbook/21-python-object-oriented-programming.ipynb#Methods)\n",
    "- [What's a choropleth map?](../%40textbook/08-visualization-plotly.ipynb#Choropleth-Maps)"
   ]
  },
  {
   "cell_type": "code",
   "execution_count": null,
   "id": "8f999369-1373-451b-be57-bc844a1b4567",
   "metadata": {
    "deletable": false,
    "editable": false
   },
   "outputs": [],
   "source": [
    "from database import MongoRepository\n",
    "from pymongo.collection import Collection\n",
    "\n",
    "repo = MongoRepository()\n",
    "\n",
    "# Is `MongoRepository.collection` correct type?\n",
    "assert isinstance(repo.collection, Collection)\n",
    "\n",
    "# Is repo connected to correct collection?\n",
    "collection_name = repo.collection.name\n",
    "assert collection_name == \"ds-applicants\"\n",
    "\n",
    "print(\"repo collection:\", collection_name)"
   ]
  },
  {
   "cell_type": "code",
   "execution_count": null,
   "id": "472468c1-b293-4956-8e20-88183fede269",
   "metadata": {
    "deletable": false,
    "editable": false,
    "init_cell": true
   },
   "outputs": [],
   "source": [
    "VimeoVideo(\"741485132\", h=\"b8e0fefe63\", width=600)"
   ]
  },
  {
   "cell_type": "markdown",
   "id": "1391a10c-e86b-4efa-9a26-1d0ae026f4ad",
   "metadata": {
    "deletable": false,
    "editable": false
   },
   "source": [
    "**Task 7.4.6:** Working with the code you wrote in Lesson 7.1, create a `get_nationality_value_counts` method for your `MongoRepository`. Use the docstring as a guide. To test your work, restart your kernel and run the cell below.👇\n",
    "\n",
    "- [Write a class definition in Python.](../%40textbook/21-python-object-oriented-programming.ipynb#Defining-a-Class)\n",
    "- [Write a class method in Python.](../%40textbook/21-python-object-oriented-programming.ipynb#Methods)"
   ]
  },
  {
   "cell_type": "code",
   "execution_count": null,
   "id": "32f3b445-bf84-43bc-a030-8c0cf4ca0378",
   "metadata": {
    "deletable": false,
    "editable": false
   },
   "outputs": [],
   "source": [
    "import pandas as pd\n",
    "from database import MongoRepository\n",
    "\n",
    "repo = MongoRepository()\n",
    "\n",
    "# Does `MongoRepository.get_nationality_value_counts` return DataFrame?\n",
    "df = repo.get_nationality_value_counts(normalize=False)\n",
    "assert isinstance(df, pd.DataFrame)\n",
    "\n",
    "# Does DataFrame have correct columns?\n",
    "cols = sorted(df.columns.tolist())\n",
    "assert cols == [\"count\", \"country_iso2\", \"country_iso3\", \"country_name\"]\n",
    "df.head()"
   ]
  },
  {
   "cell_type": "markdown",
   "id": "90ec364f-fc69-4da8-babf-99e9f2c1233c",
   "metadata": {
    "deletable": false,
    "editable": false
   },
   "source": [
    "OK! We've got the interactive display. We've got the data. It's time to build out the business layer components for our choropleth visualization. "
   ]
  },
  {
   "cell_type": "code",
   "execution_count": null,
   "id": "73fa3d84-1170-4ce9-82ba-6070e204dfe8",
   "metadata": {
    "deletable": false,
    "editable": false,
    "init_cell": true
   },
   "outputs": [],
   "source": [
    "VimeoVideo(\"741485104\", h=\"e799311d01\", width=600)"
   ]
  },
  {
   "cell_type": "markdown",
   "id": "b53308db-159c-47c3-84fb-7258b8d63270",
   "metadata": {
    "deletable": false,
    "editable": false
   },
   "source": [
    "**Task 7.4.7:** In the `business` module, create a `GraphBuilder` class. For now, it should have two methods: `__init__` and `build_nat_choropleth`. For the former, use the docstring as a guide. For the latter, use your code from Lesson 7.1. To test your work, restart your kernel and run the cell below.👇\n",
    "\n",
    "- [Write a class definition in Python.](../%40textbook/21-python-object-oriented-programming.ipynb#Defining-a-Class)\n",
    "- [Write a class method in Python.](../%40textbook/21-python-object-oriented-programming.ipynb#Methods)"
   ]
  },
  {
   "cell_type": "code",
   "execution_count": null,
   "id": "ef5514a2-fcfa-4d89-a276-ee744d63aec4",
   "metadata": {
    "deletable": false,
    "editable": false
   },
   "outputs": [],
   "source": [
    "from business import GraphBuilder\n",
    "from plotly.graph_objects import Figure\n",
    "\n",
    "gb = GraphBuilder()\n",
    "\n",
    "# Does `GraphBuilder.build_nat_choropleth` return a Figure?\n",
    "fig = gb.build_nat_choropleth()\n",
    "assert isinstance(fig, Figure)\n",
    "fig.show()"
   ]
  },
  {
   "cell_type": "markdown",
   "id": "43713b87-80e9-4800-bf83-42c316a05255",
   "metadata": {
    "deletable": false,
    "editable": false
   },
   "source": [
    "Last step for our choropleth: Connecting the business and display layers."
   ]
  },
  {
   "cell_type": "code",
   "execution_count": null,
   "id": "4eb9bc89-ef3b-416d-a484-6a3bed820708",
   "metadata": {
    "deletable": false,
    "editable": false,
    "init_cell": true
   },
   "outputs": [],
   "source": [
    "VimeoVideo(\"741485088\", h=\"db9f1ef285\", width=600)"
   ]
  },
  {
   "cell_type": "markdown",
   "id": "a17cb5be-8065-4baf-a554-b1415e8d1150",
   "metadata": {
    "deletable": false,
    "editable": false
   },
   "source": [
    "**Task 7.4.8:** Add to your `display_demo_graph` function in the `display` module so that it uses a `GraphBuilder` to construct a choropleth map when `\"demo-plots-dropdown\"` is set to `\"Nationality\"`.\n",
    "\n",
    "- [What's a function?](../%40textbook/02-python-advanced.ipynb#Functions)\n",
    "- [Write a function in Python.](../%40textbook/02-python-advanced.ipynb#Functions)\n",
    "- [What's a choropleth map?](../%40textbook/08-visualization-plotly.ipynb#Choropleth-Maps)"
   ]
  },
  {
   "cell_type": "markdown",
   "id": "74b376c2-c269-4654-8ff7-3f0715a1c999",
   "metadata": {
    "deletable": false,
    "editable": false
   },
   "source": [
    "<div class=\"alert alert-block alert-info\">\n",
    "    <p>You can test this task by restarting your kernel and running the first cell in this notebook. ☝️</p>\n",
    "</div>\n"
   ]
  },
  {
   "cell_type": "markdown",
   "id": "db843a4a-4e89-4950-9597-0ee74c998387",
   "metadata": {
    "deletable": false,
    "editable": false
   },
   "source": [
    "Our visualization is looking good! Now we'll repeat the process for our age histogram, adding the necessary components to each of our three layers."
   ]
  },
  {
   "cell_type": "code",
   "execution_count": null,
   "id": "574f2a6a-8236-4ee8-b37a-5d45bd1dc973",
   "metadata": {
    "deletable": false,
    "editable": false,
    "init_cell": true
   },
   "outputs": [],
   "source": [
    "VimeoVideo(\"741485077\", h=\"df549867f8\", width=600)"
   ]
  },
  {
   "cell_type": "markdown",
   "id": "942e5d1b",
   "metadata": {
    "deletable": false,
    "editable": false
   },
   "source": [
    "**Task 7.4.9:** Repeat the process from the previous three tasks, now for the `\"Age\"` histogram. This means you'll need to add a `get_ages` method to your `MongoRepository`, a `build_age_hist` method to your `GraphBuilder`, and adjust your `display_demo_graph` function in the `display` module. To test your work, restart your kernel and run the cells below.👇\n",
    "\n",
    "- [Write a class method in Python.](../%40textbook/21-python-object-oriented-programming.ipynb#Methods)\n",
    "- [Create a histogram using plotly express.](../%40textbook/08-visualization-plotly.ipynb#Histogram)"
   ]
  },
  {
   "cell_type": "code",
   "execution_count": null,
   "id": "e825b5b3-14ee-45f8-82e0-c8f4639a530d",
   "metadata": {
    "deletable": false,
    "editable": false
   },
   "outputs": [],
   "source": [
    "import pandas as pd\n",
    "from database import MongoRepository\n",
    "\n",
    "repo = MongoRepository()\n",
    "# Does `MongoRepository.get_ages` return a Series?\n",
    "ages = repo.get_ages()\n",
    "assert isinstance(ages, pd.Series)\n",
    "ages.head()"
   ]
  },
  {
   "cell_type": "code",
   "execution_count": null,
   "id": "504e0937-1eba-45d8-b974-c60acc9b1704",
   "metadata": {
    "deletable": false,
    "editable": false
   },
   "outputs": [],
   "source": [
    "from business import GraphBuilder\n",
    "from plotly.graph_objects import Figure\n",
    "\n",
    "gb = GraphBuilder()\n",
    "\n",
    "# Does `GraphBuilder.build_nat_choropleth` return a Figure?\n",
    "fig = gb.build_age_hist()\n",
    "assert isinstance(fig, Figure)\n",
    "fig.show()"
   ]
  },
  {
   "cell_type": "markdown",
   "id": "fc3de689-0e68-4a72-8778-0b3b1361273a",
   "metadata": {
    "deletable": false,
    "editable": false
   },
   "source": [
    "<div class=\"alert alert-block alert-info\">\n",
    "    <p>One last test: Restart your kernel and run the first cell in this notebook. ☝️</p>\n",
    "</div>\n"
   ]
  },
  {
   "cell_type": "markdown",
   "id": "47633b94-3830-4391-ac2b-bdd7e09d8d63",
   "metadata": {
    "deletable": false,
    "editable": false
   },
   "source": [
    "Two down, one to go. Time for the education bar chart. "
   ]
  },
  {
   "cell_type": "code",
   "execution_count": null,
   "id": "16e2317a-56ff-4967-bb95-3964eacd9165",
   "metadata": {
    "deletable": false,
    "editable": false,
    "init_cell": true
   },
   "outputs": [],
   "source": [
    "VimeoVideo(\"741485030\", h=\"110532eb64\", width=600)"
   ]
  },
  {
   "cell_type": "markdown",
   "id": "f192a47d",
   "metadata": {
    "deletable": false,
    "editable": false
   },
   "source": [
    "**Task 7.4.10:** Repeat the process, now for the `\"Education\"` bar chart. You'll need to add a `get_ed_value_counts` method to your `MongoRepository`, a `build_ed_bar` method to your `GraphBuilder`, and adjust your `display_demo_graph` function in the `display` module. To test your work, restart your kernel and run the cells below.👇\n",
    "\n",
    "- [Write a class method in Python.](../%40textbook/21-python-object-oriented-programming.ipynb#Methods)\n",
    "- [Create a bar chart using plotly express.](../%40textbook/08-visualization-plotly.ipynb#Bar-Chart)"
   ]
  },
  {
   "cell_type": "code",
   "execution_count": null,
   "id": "49fc134e-f20e-4e6c-934c-1410a1f4e0d7",
   "metadata": {
    "deletable": false,
    "editable": false
   },
   "outputs": [],
   "source": [
    "import pandas as pd\n",
    "from database import MongoRepository\n",
    "\n",
    "# Test  method\n",
    "repo = MongoRepository()\n",
    "\n",
    "# Does `MongoRepository.get_ed_value_counts` return a Series?\n",
    "degrees = repo.get_ed_value_counts(normalize=False)\n",
    "assert isinstance(degrees, pd.Series)\n",
    "\n",
    "# Is Series index ordered correctly?\n",
    "assert degrees.index.tolist() == [\n",
    "    \"High School or Baccalaureate\",\n",
    "    \"Some College (1-3 years)\",\n",
    "    \"Bachelor's degree\",\n",
    "    \"Master's degree\",\n",
    "    \"Doctorate (e.g. PhD)\",\n",
    "]\n",
    "\n",
    "degrees"
   ]
  },
  {
   "cell_type": "code",
   "execution_count": null,
   "id": "9bd7b43c-5451-45c6-affc-5c9e82ce89d8",
   "metadata": {
    "deletable": false,
    "editable": false
   },
   "outputs": [],
   "source": [
    "from business import GraphBuilder\n",
    "from plotly.graph_objects import Figure\n",
    "\n",
    "gb = GraphBuilder()\n",
    "\n",
    "# Does `GraphBuilder.build_ed_bar` return a Figure?\n",
    "fig = gb.build_ed_bar()\n",
    "assert isinstance(fig, Figure)\n",
    "fig.show()"
   ]
  },
  {
   "cell_type": "markdown",
   "id": "1de75e2c-46ec-4335-8e54-ef9f0568c7a2",
   "metadata": {
    "deletable": false,
    "editable": false
   },
   "source": [
    "<div class=\"alert alert-block alert-info\">\n",
    "    <p>One last test: Restart your kernel and run the first cell in this notebook. ☝️</p>\n",
    "</div>\n"
   ]
  },
  {
   "cell_type": "markdown",
   "id": "c182b165",
   "metadata": {
    "deletable": false,
    "editable": false
   },
   "source": [
    "# Experiment"
   ]
  },
  {
   "cell_type": "markdown",
   "id": "38a1e992-e893-4dc2-941b-7c2931aaa6ee",
   "metadata": {
    "deletable": false,
    "editable": false
   },
   "source": [
    "The `\"Experiment\"` section of our application will have two elements: A slider that will allow the user to select the effect size they want to detect, and another slider for the number of days they want the experiment to run."
   ]
  },
  {
   "cell_type": "markdown",
   "id": "97cc329e",
   "metadata": {
    "deletable": false,
    "editable": false
   },
   "source": [
    "## Effect Size Slider"
   ]
  },
  {
   "cell_type": "markdown",
   "id": "ae86bcb5-0a1d-48fa-8193-db9b879aab58",
   "metadata": {
    "deletable": false,
    "editable": false
   },
   "source": [
    "Our effect size slider will need components in the display and business layers."
   ]
  },
  {
   "cell_type": "code",
   "execution_count": null,
   "id": "77bda54d-3a8f-409e-aadf-eb45393c7282",
   "metadata": {
    "deletable": false,
    "editable": false,
    "init_cell": true
   },
   "outputs": [],
   "source": [
    "VimeoVideo(\"741488949\", h=\"3162fd9d7b\", width=600)"
   ]
  },
  {
   "cell_type": "markdown",
   "id": "52135568",
   "metadata": {
    "deletable": false,
    "editable": false
   },
   "source": [
    "**Task 7.4.11:** Add a `Slider` object to the `\"Experiment\"` section of your `app` layout, followed by a `Div` object. Their IDs should be `\"effect-size-slider\"` and `\"effect-size-display\"`, respectively. "
   ]
  },
  {
   "cell_type": "markdown",
   "id": "548cbbee-23c7-4309-a1eb-b4fc1237f648",
   "metadata": {
    "deletable": false,
    "editable": false
   },
   "source": [
    "<div class=\"alert alert-block alert-info\">\n",
    "    <p>You can test this task by restarting your kernel and running the first cell in this notebook. ☝️</p>\n",
    "</div>\n"
   ]
  },
  {
   "cell_type": "code",
   "execution_count": null,
   "id": "18106568-2a8e-4086-a877-21c3f782cb85",
   "metadata": {
    "deletable": false,
    "editable": false,
    "init_cell": true
   },
   "outputs": [],
   "source": [
    "VimeoVideo(\"741488933\", h=\"f560a5cb2c\", width=600)"
   ]
  },
  {
   "cell_type": "markdown",
   "id": "094f9f40-a8ba-4170-8a97-b4fcaf23437a",
   "metadata": {
    "deletable": false,
    "editable": false
   },
   "source": [
    "**Task 7.4.12:** Create a `StatsBuilder` class in the `business` module. It should have two methods for now: `__init__` and `calculate_n_obs`. For the latter, use your code from Lesson 7.3.\n",
    "\n",
    "- [Write a class definition in Python.](../%40textbook/21-python-object-oriented-programming.ipynb#Defining-a-Class)\n",
    "- [Write a class method in Python.](../%40textbook/21-python-object-oriented-programming.ipynb#Methods)"
   ]
  },
  {
   "cell_type": "code",
   "execution_count": null,
   "id": "d8678f7a-c02f-43c6-9f44-451501553d97",
   "metadata": {
    "deletable": false,
    "editable": false
   },
   "outputs": [],
   "source": [
    "from business import StatsBuilder\n",
    "from database import MongoRepository\n",
    "\n",
    "sb = StatsBuilder()\n",
    "\n",
    "# Is `StatsBuilder.repo` the correct data type?\n",
    "assert isinstance(sb.repo, MongoRepository)\n",
    "sb.repo.collection.name"
   ]
  },
  {
   "cell_type": "code",
   "execution_count": null,
   "id": "e038715c-3d2e-4473-b50f-1b3bc77cd5f3",
   "metadata": {
    "deletable": false,
    "editable": false
   },
   "outputs": [],
   "source": [
    "from business import StatsBuilder\n",
    "\n",
    "# Does `StatsBuilder.calculate_n_obs` return an int?\n",
    "n_obs = sb.calculate_n_obs(effect_size=0.2)\n",
    "assert isinstance(n_obs, int)\n",
    "\n",
    "# Does `StatsBuilder.calculate_n_obs` return correct number?\n",
    "assert n_obs == 394\n",
    "print(\"# observations for effect size of 0.2:\", n_obs)"
   ]
  },
  {
   "cell_type": "code",
   "execution_count": null,
   "id": "603107e8-53ce-4494-9198-697bef138a33",
   "metadata": {
    "deletable": false,
    "editable": false,
    "init_cell": true
   },
   "outputs": [],
   "source": [
    "VimeoVideo(\"741488919\", h=\"8edb346c02\", width=600)"
   ]
  },
  {
   "cell_type": "markdown",
   "id": "bbcc5bb9-121a-4f2c-892c-fbf28ad45af8",
   "metadata": {
    "deletable": false,
    "editable": false
   },
   "source": [
    "**Task 7.4.13:** Create a `display_group_size` function in the `display` module. It should take input from `\"effect-size-slider\"`, use your `StatsBuilder` to calculate group size, and send its output to `\"effect-size-display\"`.\n",
    "\n",
    "- [What's a function?](../%40textbook/02-python-advanced.ipynb#Functions)\n",
    "- [Write a function in Python.](../%40textbook/02-python-advanced.ipynb#Functions)"
   ]
  },
  {
   "cell_type": "markdown",
   "id": "8525e890-a371-4b75-bb97-5c4368259e1b",
   "metadata": {
    "deletable": false,
    "editable": false
   },
   "source": [
    "<div class=\"alert alert-block alert-info\">\n",
    "    <p>You can test this task by restarting your kernel and running the first cell in this notebook. ☝️</p>\n",
    "</div>\n"
   ]
  },
  {
   "cell_type": "markdown",
   "id": "a6b06344-8802-4c8a-a034-715dae516a48",
   "metadata": {
    "deletable": false,
    "editable": false
   },
   "source": [
    "## Experiment Duration Slider"
   ]
  },
  {
   "cell_type": "markdown",
   "id": "e127a60a-ed0f-4e27-8a97-071f94d38625",
   "metadata": {
    "deletable": false,
    "editable": false
   },
   "source": [
    "Our experiment duration slider will need components in all three layers: a slider in the display layer, a method for pulling data in the database layer, and a method for using that data to calculate the CDF in the business layer."
   ]
  },
  {
   "cell_type": "code",
   "execution_count": null,
   "id": "52f0e53e-bcb3-4210-bd56-6c81ec15f2ec",
   "metadata": {
    "deletable": false,
    "editable": false,
    "init_cell": true
   },
   "outputs": [],
   "source": [
    "VimeoVideo(\"741488910\", h=\"6abfdfab41\", width=600)"
   ]
  },
  {
   "cell_type": "markdown",
   "id": "79c58055-0783-4b71-ac3b-9da3103acb84",
   "metadata": {
    "deletable": false,
    "editable": false
   },
   "source": [
    "**Task 7.4.14:** Add another `Slider` object to the `\"Experiment\"` section of your `app` layout, followed by a `Div` object. Their IDs should be `\"experiment-days-slider\"` and `\"experiment-days-display\"`, respectively. "
   ]
  },
  {
   "cell_type": "markdown",
   "id": "e184c027-771c-4974-a342-9f71416e7c0d",
   "metadata": {
    "deletable": false,
    "editable": false
   },
   "source": [
    "<div class=\"alert alert-block alert-info\">\n",
    "    <p>You can test this task by restarting your kernel and running the first cell in this notebook. ☝️</p>\n",
    "</div>\n"
   ]
  },
  {
   "cell_type": "code",
   "execution_count": null,
   "id": "95e65fcf-b53f-4854-a835-9952bf94d562",
   "metadata": {
    "deletable": false,
    "editable": false,
    "init_cell": true
   },
   "outputs": [],
   "source": [
    "VimeoVideo(\"741488885\", h=\"28c35436b7\", width=600)"
   ]
  },
  {
   "cell_type": "markdown",
   "id": "a3f24fab-cb88-4b9d-b92a-851da8c45232",
   "metadata": {
    "deletable": false,
    "editable": false
   },
   "source": [
    "**Task 7.4.15:** Create a `get_no_quiz_per_day` method to your `MongoRepository` class and a `calculate_cdf_pct` method to your `StatsBuilder` class. Use your work from Lesson 7.3 as a guide. Once you've passed the tests, submit the Series `no_quiz` to the grader.\n",
    "\n",
    "- [What's a function?](../%40textbook/02-python-advanced.ipynb#Functions)\n",
    "- [Write a function in Python.](../%40textbook/02-python-advanced.ipynb#Functions)\n",
    "- [What's a class method?](../%40textbook/21-python-object-oriented-programming.ipynb#Methods)\n",
    "- [Write a class method in Python.](../%40textbook/21-python-object-oriented-programming.ipynb#Methods)"
   ]
  },
  {
   "cell_type": "code",
   "execution_count": null,
   "id": "4dea1c72-bfbd-43fa-8457-4f6186445d99",
   "metadata": {
    "deletable": false,
    "editable": false,
    "init_cell": true,
    "tags": []
   },
   "outputs": [],
   "source": [
    "import pandas as pd\n",
    "import wqet_grader\n",
    "from database import MongoRepository\n",
    "from teaching_tools.ab_test.reset import Reset\n",
    "\n",
    "# Reset database, just in case\n",
    "r = Reset()\n",
    "r.reset_database()\n",
    "\n",
    "# Initialize grader\n",
    "wqet_grader.init(\"Project 7 Assessment\")\n",
    "\n",
    "\n",
    "# Instantiate `MongoRepository`\n",
    "repo = MongoRepository()\n",
    "\n",
    "# Does `MongoRepository.get_no_quiz_per_day` return a Series?\n",
    "no_quiz = repo.get_no_quiz_per_day()\n",
    "assert isinstance(no_quiz, pd.Series)\n",
    "\n",
    "# Does `MongoRepository.get_no_quiz_per_day` return correct value?\n",
    "assert no_quiz.shape == (30,)\n",
    "\n",
    "print(\"no_quiz shape:\", no_quiz.shape)\n",
    "print(no_quiz.head())\n",
    "\n",
    "# Submit `no_quiz` to grader\n",
    "wqet_grader.grade(\"Project 7 Assessment\", \"Task 7.4.15\", no_quiz)\n"
   ]
  },
  {
   "cell_type": "code",
   "execution_count": null,
   "id": "bdb07b1d-3b1e-415c-8e36-69e454493de8",
   "metadata": {
    "deletable": false,
    "editable": false
   },
   "outputs": [],
   "source": [
    "from business import StatsBuilder\n",
    "\n",
    "sb = StatsBuilder()\n",
    "\n",
    "# Does `StatsBuilder.calculate_cdf_pct` return a float?\n",
    "pct = sb.calculate_cdf_pct(n_obs=394, days=12)\n",
    "assert isinstance(pct, float)\n",
    "\n",
    "# Does `StatsBuilder.calculate_cdf_pct` return correct value\n",
    "assert pct > 95\n",
    "assert pct <= 100\n",
    "\n",
    "print(f\"Probability: {pct}%\")"
   ]
  },
  {
   "cell_type": "code",
   "execution_count": null,
   "id": "9e44f46a-bd60-4429-b797-ac3acc9dbf91",
   "metadata": {},
   "outputs": [],
   "source": [
    "from IPython.display import VimeoVideo"
   ]
  },
  {
   "cell_type": "code",
   "execution_count": null,
   "id": "c6676f40-4857-45f2-957c-79c02535dfc9",
   "metadata": {
    "deletable": false,
    "editable": false,
    "init_cell": true
   },
   "outputs": [],
   "source": [
    "VimeoVideo(\"741488859\", h=\"ed4cc1bd83\", width=600)"
   ]
  },
  {
   "cell_type": "markdown",
   "id": "bfc96920-aebe-49b7-9148-fc9bfc0a9ff4",
   "metadata": {
    "deletable": false,
    "editable": false
   },
   "source": [
    "**Task 7.4.16:** Create a `display_cdf_pct` function in the `display` module. It should take input from `\"experiment-days-slider\"` and `\"effect-size-slider\"`, and pass output to the `\"experiment-days-display\"`."
   ]
  },
  {
   "cell_type": "markdown",
   "id": "701b35dd-9354-4f59-b4cc-97e6ae66d309",
   "metadata": {
    "deletable": false,
    "editable": false
   },
   "source": [
    "<div class=\"alert alert-block alert-info\">\n",
    "    <p>One last test: Restart your kernel and run the first cell in this notebook. ☝️</p>\n",
    "</div>\n"
   ]
  },
  {
   "cell_type": "markdown",
   "id": "ae3c450d-1925-4d4c-aa79-8c1273dc1736",
   "metadata": {
    "deletable": false,
    "editable": false
   },
   "source": [
    "# Results"
   ]
  },
  {
   "cell_type": "markdown",
   "id": "e2b43670-898c-4814-b35c-19627735641a",
   "metadata": {
    "deletable": false,
    "editable": false
   },
   "source": [
    "Last section! For our `\"Results\"`, we'll start with a button in the display layer. When the user presses it, the experiment will be run for the number of days specified by the experiment duration slider. "
   ]
  },
  {
   "cell_type": "code",
   "execution_count": null,
   "id": "378cd6c2-7940-4231-9601-8eb4f586878e",
   "metadata": {
    "deletable": false,
    "editable": false,
    "init_cell": true
   },
   "outputs": [],
   "source": [
    "VimeoVideo(\"741488845\", h=\"8eac1ff22d\", width=600)"
   ]
  },
  {
   "cell_type": "markdown",
   "id": "ad804dc1-3184-41a6-8a7b-b3bb1490b4f4",
   "metadata": {
    "deletable": false,
    "editable": false
   },
   "source": [
    "**Task 7.4.17:** Add a `Button` object to the `\"Results\"` section of your `app` layout, followed by a `Div` object. Their IDs should be `\"start-experiment-button\"` and `\"results-display\"`, respectively."
   ]
  },
  {
   "cell_type": "markdown",
   "id": "c47a152a-1c5c-4a5d-8216-6c40ef479783",
   "metadata": {
    "deletable": false,
    "editable": false
   },
   "source": [
    "<div class=\"alert alert-block alert-info\">\n",
    "    <p>You can test this task by restarting your kernel and running the first cell in this notebook. ☝️</p>\n",
    "</div>\n"
   ]
  },
  {
   "cell_type": "code",
   "execution_count": null,
   "id": "daca07d2-6669-43fe-9e2e-dd4147ef82b8",
   "metadata": {
    "deletable": false,
    "editable": false,
    "init_cell": true
   },
   "outputs": [],
   "source": [
    "VimeoVideo(\"741488824\", h=\"a6880b45b8\", width=600)"
   ]
  },
  {
   "cell_type": "markdown",
   "id": "86402e60-8dd7-4fe2-a456-cb061a9ba1b4",
   "metadata": {
    "deletable": false,
    "editable": false
   },
   "source": [
    "**Task 7.4.18:** Create a `display_results` function to the `display` module. It should take `\"start-experiment-button\"` and `\"experiment-days-slider\"` as input, and pass its results to `\"results-display\"`.\n",
    "\n",
    "- [What's a function?](../%40textbook/02-python-advanced.ipynb#Functions)\n",
    "- [Write a function in Python.](../%40textbook/02-python-advanced.ipynb#Functions)"
   ]
  },
  {
   "cell_type": "markdown",
   "id": "a2256d22-fe67-40bd-b617-ea20f8326ef1",
   "metadata": {
    "deletable": false,
    "editable": false
   },
   "source": [
    "<div class=\"alert alert-block alert-info\">\n",
    "    <p>Nothing to test for now. Go to the next task. 😁</p>\n",
    "</div>\n"
   ]
  },
  {
   "cell_type": "code",
   "execution_count": null,
   "id": "7d28becc-4a3a-4321-957b-7e367e17d4d1",
   "metadata": {
    "deletable": false,
    "editable": false,
    "init_cell": true
   },
   "outputs": [],
   "source": [
    "VimeoVideo(\"741488806\", h=\"136fdd0cd9\", width=600)"
   ]
  },
  {
   "cell_type": "markdown",
   "id": "1d6a109f-8b41-4dc6-83e0-22c4bbffda40",
   "metadata": {
    "deletable": false,
    "editable": false
   },
   "source": [
    "**Task 7.4.19:** Add a `run_experiment` method to your `StatsBuilder` class, and then incorporate it into your `display_results` function. \n",
    "\n",
    "- Write a class method in Python.\n",
    "- [Write a function in Python.](../%40textbook/02-python-advanced.ipynb#Functions)"
   ]
  },
  {
   "cell_type": "code",
   "execution_count": null,
   "id": "d36047b3-1d31-4b1c-95d3-0f229a88f7e1",
   "metadata": {
    "deletable": false,
    "editable": false
   },
   "outputs": [],
   "source": [
    "from business import StatsBuilder\n",
    "from database import MongoRepository\n",
    "from teaching_tools.ab_test.experiment import Experiment\n",
    "\n",
    "mr = MongoRepository()\n",
    "exp = Experiment(repo=mr)\n",
    "sb = StatsBuilder()\n",
    "exp.reset_experiment()\n",
    "\n",
    "# Does `StatsBuilder.run_experiment` add documents to database?\n",
    "docs_before_exp = mr.collection.count_documents({})\n",
    "sb.run_experiment(days=1)\n",
    "docs_after_exp = mr.collection.count_documents({})\n",
    "assert docs_after_exp > docs_before_exp\n",
    "\n",
    "exp.reset_experiment()\n",
    "print(\"Documents added to database:\", docs_after_exp - docs_before_exp)"
   ]
  },
  {
   "cell_type": "markdown",
   "id": "bae39d5f-0d75-4949-b534-e713b6046005",
   "metadata": {
    "deletable": false,
    "editable": false
   },
   "source": [
    "Of course, our user needs to see the results of their experiment. We'll start with a side-by-side bar chart for our contingency table. Again, we'll need to add components to our business and database layers."
   ]
  },
  {
   "cell_type": "code",
   "execution_count": null,
   "id": "1e87d400-0beb-4f77-9871-8b3e10f324ab",
   "metadata": {
    "deletable": false,
    "editable": false,
    "init_cell": true
   },
   "outputs": [],
   "source": [
    "VimeoVideo(\"741488782\", h=\"f5aebc850f\", width=600)"
   ]
  },
  {
   "cell_type": "markdown",
   "id": "a3f25b4a-64b2-49e6-b58c-601ac10e4182",
   "metadata": {
    "deletable": false,
    "editable": false
   },
   "source": [
    "**Task 7.4.20:** Add a `build_contingency_bar` method to your `GraphBuilder` class, and then incorporate it into your `display_results` function. In order for this to work, you'll also need to create a `get_contingency_table` method for your `MongoRepository` class.\n",
    "\n",
    "- [Create a bar chart using plotly express.](../%40textbook/08-visualization-plotly.ipynb#Bar-Chart)\n",
    "- [Write a function in Python.](../%40textbook/02-python-advanced.ipynb#Functions)\n",
    "- [Write a class method in Python.](../%40textbook/21-python-object-oriented-programming.ipynb#Methods)\n",
    "- [What's a contingency table?](../%40textbook/20-statistics.ipynb#Contingency-Tables)\n",
    "- [Create a contingency table using statsmodels.](../%40textbook/20-statistics.ipynb#Contingency-Tables) "
   ]
  },
  {
   "cell_type": "code",
   "execution_count": null,
   "id": "f929ab62-8eb3-4bc8-8fc9-58e291d21a10",
   "metadata": {
    "deletable": false,
    "editable": false
   },
   "outputs": [],
   "source": [
    "import pandas as pd\n",
    "from business import StatsBuilder\n",
    "from database import MongoRepository\n",
    "\n",
    "sb = StatsBuilder()\n",
    "mr = MongoRepository()\n",
    "\n",
    "# Does `MongoRepository.get_contingency_table` return a DataFrame?\n",
    "sb.run_experiment(days=1)\n",
    "contingency_tab = mr.get_contingency_table()\n",
    "assert isinstance(contingency_tab, pd.DataFrame)\n",
    "\n",
    "# Does `MongoRepository.get_contingency_table` return right shape?\n",
    "assert contingency_tab.shape == (2, 2)\n",
    "contingency_tab"
   ]
  },
  {
   "cell_type": "code",
   "execution_count": null,
   "id": "ad76b259-654c-4a06-afbf-bac4d9010b29",
   "metadata": {
    "deletable": false,
    "editable": false
   },
   "outputs": [],
   "source": [
    "from business import GraphBuilder, StatsBuilder\n",
    "from plotly.graph_objects import Figure\n",
    "\n",
    "gb = GraphBuilder()\n",
    "sb = StatsBuilder()\n",
    "\n",
    "# Does `GraphBuilder.build_contingency_bar` return a Figure?\n",
    "sb.run_experiment(days=1)\n",
    "fig = gb.build_contingency_bar()\n",
    "assert isinstance(fig, Figure)\n",
    "fig.show()"
   ]
  },
  {
   "cell_type": "markdown",
   "id": "9d784125-9df3-4f81-8f88-d8a9d7d4214a",
   "metadata": {
    "deletable": false,
    "editable": false
   },
   "source": [
    "Finally, we'll need to add the results from the chi-square test."
   ]
  },
  {
   "cell_type": "code",
   "execution_count": null,
   "id": "e4353018-95ab-4901-b2c1-4ef7bf26d209",
   "metadata": {
    "deletable": false,
    "editable": false,
    "init_cell": true
   },
   "outputs": [],
   "source": [
    "VimeoVideo(\"741488737\", h=\"edd8eacb1c\", width=600)"
   ]
  },
  {
   "cell_type": "markdown",
   "id": "e7df8279-4ee2-48ae-a60c-782af7b71fc8",
   "metadata": {
    "deletable": false,
    "editable": false
   },
   "source": [
    "**Task 7.4.21:** Add a `run_chi_square` method to your `StatsBuilder` class, and then incorporate it into your `display_results` function.\n",
    "\n",
    "- [Write a class method in Python.](../%40textbook/21-python-object-oriented-programming.ipynb#Methods)\n",
    "- [Perform a chi-square test on a contingency table in statsmodels.](../%40textbook/20-statistics.ipynb#Contingency-Tables) "
   ]
  },
  {
   "cell_type": "code",
   "execution_count": 1,
   "id": "77c59852-d49a-4f7a-b171-07115f66814e",
   "metadata": {
    "deletable": false,
    "editable": false
   },
   "outputs": [
    {
     "name": "stdout",
     "output_type": "stream",
     "text": [
      "Experiment p-value: 0.5504066652257602\n"
     ]
    }
   ],
   "source": [
    "from business import StatsBuilder\n",
    "from statsmodels.stats.contingency_tables import _Bunch\n",
    "\n",
    "sb = StatsBuilder()\n",
    "\n",
    "# Does `StatsBuilder.run_chi_square` return a Bunch?\n",
    "sb.run_experiment(days=1)\n",
    "result = sb.run_chi_square()\n",
    "assert isinstance(result, _Bunch)\n",
    "\n",
    "# Is Bunch p-value correct?\n",
    "p_val = result.pvalue\n",
    "assert p_val > 0.05\n",
    "\n",
    "print(\"Experiment p-value:\", p_val)"
   ]
  },
  {
   "cell_type": "markdown",
   "id": "bb659524",
   "metadata": {
    "deletable": false,
    "editable": false
   },
   "source": [
    "---\n",
    "Copyright © 2022 WorldQuant University. This\n",
    "content is licensed solely for personal use. Redistribution or\n",
    "publication of this material is strictly prohibited.\n"
   ]
  }
 ],
 "metadata": {
  "kernelspec": {
   "display_name": "Python 3 (ipykernel)",
   "language": "python",
   "name": "python3"
  },
  "language_info": {
   "codemirror_mode": {
    "name": "ipython",
    "version": 3
   },
   "file_extension": ".py",
   "mimetype": "text/x-python",
   "name": "python",
   "nbconvert_exporter": "python",
   "pygments_lexer": "ipython3",
   "version": "3.9.6"
  },
  "vscode": {
   "interpreter": {
    "hash": "942682b01f502aa261446dc9813cb5208866d4cd375c2bc4cf2bb48cf248003b"
   }
  }
 },
 "nbformat": 4,
 "nbformat_minor": 5
}
