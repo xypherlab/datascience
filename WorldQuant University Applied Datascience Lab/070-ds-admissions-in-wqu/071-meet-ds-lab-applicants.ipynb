{
 "cells": [
  {
   "cell_type": "markdown",
   "id": "04f98d5b-5a67-48e0-b41f-c03ffbd6abb2",
   "metadata": {
    "deletable": false,
    "editable": false
   },
   "source": [
    "<font size=\"+3\"><strong>7.1. Meet the DS Lab Applicants</strong></font>"
   ]
  },
  {
   "cell_type": "markdown",
   "id": "d890ebcb-821f-4531-9be9-9a407bfd29d1",
   "metadata": {
    "deletable": false,
    "editable": false
   },
   "source": [
    "When you decided to start down the path to becoming a data scientist at WQU, the first thing you did was to register an account with us. Then you took our admissions exam test, and began your data science journey! But not everyone who creates an account takes the admissions exam. Is there a way to improve that completion rate?\n",
    "\n",
    "In this project, you'll help run an experiment to see if sending a reminder email to applicants can increase the likelihood that they'll complete the admissions exam. This type of experiment is called a **hypothesis test** or an **A/B test**.\n",
    "\n",
    "In this lesson, we'll try to get a better sense of what kind of people sign up for Applied Data Science Lab — where they're from, how old are they, what have they previously studied, and more. "
   ]
  },
  {
   "cell_type": "markdown",
   "id": "f0fb6a46-cac0-41d8-acaf-74e783b2e5aa",
   "metadata": {
    "deletable": false,
    "editable": false
   },
   "source": [
    "<div class=\"alert alert-block alert-warning\">\n",
    "<b>Data Ethics:</b> This project is based on a real experiment that the WQU data science team conducted in June of 2022 There is, however, one important difference. While the data science team used real student data, you're going to use <b>synthetic data</b>. It is designed to have  characteristics that are similar to the real thing without exposing any actual personal data — like names, birthdays, and email addresses — that would violate our students' privacy. \n",
    "</div>"
   ]
  },
  {
   "cell_type": "code",
   "execution_count": 29,
   "id": "49733fc2-aa26-43aa-977f-1aa6ca576898",
   "metadata": {
    "deletable": false,
    "editable": false,
    "init_cell": true
   },
   "outputs": [
    {
     "data": {
      "text/html": [
       "\n",
       "<style>\n",
       "  \n",
       "  .checkmark {\n",
       "    width: 56px;\n",
       "    height: 56px;\n",
       "    border-radius: 50%;\n",
       "    display: block;\n",
       "    stroke-width: 2;\n",
       "    stroke: #fff;\n",
       "    stroke-miterlimit: 10;\n",
       "    box-shadow: inset 0px 0px 0px #7ac142;\n",
       "    animation: fill .4s ease-in-out .4s forwards, scale .3s ease-in-out .9s both;\n",
       "  }\n",
       "  \n",
       "  .checkmark__circle {\n",
       "    stroke-dasharray: 166;\n",
       "    stroke-dashoffset: 166;\n",
       "    stroke-width: 2;\n",
       "    stroke-miterlimit: 10;\n",
       "    stroke: #7ac142;\n",
       "    fill: none;\n",
       "    animation: stroke .6s cubic-bezier(0.650, 0.000, 0.450, 1.000) forwards;\n",
       "  }\n",
       "  \n",
       "  .checkmark__check {\n",
       "    transform-origin: 50% 50%;\n",
       "    stroke-dasharray: 48;\n",
       "    stroke-dashoffset: 48;\n",
       "    animation: stroke .3s cubic-bezier(0.650, 0.000, 0.450, 1.000) .8s forwards;\n",
       "  }\n",
       "  \n",
       "  .failmark {\n",
       "    width: 56px;\n",
       "    height: 56px;\n",
       "    border-radius: 50%;\n",
       "    display: block;\n",
       "    stroke-width: 2;\n",
       "    stroke: #fff;\n",
       "    stroke-miterlimit: 10;\n",
       "    box-shadow: inset 0px 0px 0px #F34811;\n",
       "    animation: failfill .4s ease-in-out .4s forwards, scale .3s ease-in-out .9s both;\n",
       "  }\n",
       "  \n",
       "  .failmark__circle {\n",
       "    stroke-dasharray: 166;\n",
       "    stroke-dashoffset: 166;\n",
       "    stroke-width: 2;\n",
       "    stroke-miterlimit: 10;\n",
       "    stroke: #F34811;\n",
       "    fill: none;\n",
       "    animation: stroke .6s cubic-bezier(0.650, 0.000, 0.450, 1.000) forwards;\n",
       "  }\n",
       "  \n",
       "  @keyframes stroke {\n",
       "    100% {\n",
       "      stroke-dashoffset: 0;\n",
       "    }\n",
       "  }\n",
       "  \n",
       "  @keyframes scale {\n",
       "    0%, 100% {\n",
       "      transform: none;\n",
       "    }\n",
       "    50% {\n",
       "      transform: scale3d(1.1, 1.1, 1);\n",
       "    }\n",
       "  }\n",
       "  \n",
       "  @keyframes fill {\n",
       "    100% {\n",
       "      box-shadow: inset 0px 0px 0px 30px #7ac142;\n",
       "    }\n",
       "  }\n",
       "  \n",
       "  @keyframes failfill {\n",
       "    100% {\n",
       "      box-shadow: inset 0px 0px 0px 30px #F34811;\n",
       "    }\n",
       "  }\n",
       "  \n",
       "  \n",
       "  .wqet-result {\n",
       "    width: 450px;\n",
       "    clear: both;\n",
       "  }\n",
       "  \n",
       "  .wqet-result .animation {\n",
       "    float: left;\n",
       "    width: 100px;\n",
       "  }\n",
       "  \n",
       "  .wqet-result .animation .checkmark,\n",
       "  .wqet-result .animation .failmark {\n",
       "    margin: 20px auto 20px auto;\n",
       "  }\n",
       "  \n",
       "  .wqet-result .details {\n",
       "    float: right;\n",
       "    width: 349px;\n",
       "    padding: 28px 0;\n",
       "  }\n",
       "  \n",
       "  .wqet-result .details .title {\n",
       "    font-weight: bold;\n",
       "    font-size: 110%;\n",
       "  }\n",
       "  .wqet-result .details p {\n",
       "    margin: 0;\n",
       "  }\n",
       "</style>\n"
      ],
      "text/plain": [
       "<IPython.core.display.HTML object>"
      ]
     },
     "metadata": {},
     "output_type": "display_data"
    }
   ],
   "source": [
    "from pprint import PrettyPrinter\n",
    "\n",
    "import pandas as pd\n",
    "import plotly.express as px\n",
    "import wqet_grader\n",
    "from country_converter import CountryConverter\n",
    "from IPython.display import VimeoVideo\n",
    "from pymongo import MongoClient\n",
    "\n",
    "wqet_grader.init(\"Project 7 Assessment\")\n"
   ]
  },
  {
   "cell_type": "code",
   "execution_count": 2,
   "id": "e79390b8-3738-422a-970f-56076e3da43f",
   "metadata": {
    "deletable": false,
    "editable": false,
    "init_cell": true
   },
   "outputs": [
    {
     "data": {
      "text/html": [
       "\n",
       "        <iframe\n",
       "            width=\"600\"\n",
       "            height=\"300\"\n",
       "            src=\"https://player.vimeo.com/video/733383823?h=d6228d4de1\"\n",
       "            frameborder=\"0\"\n",
       "            allowfullscreen\n",
       "            \n",
       "        ></iframe>\n",
       "        "
      ],
      "text/plain": [
       "<IPython.lib.display.VimeoVideo at 0x7f482c5e87f0>"
      ]
     },
     "execution_count": 2,
     "metadata": {},
     "output_type": "execute_result"
    }
   ],
   "source": [
    "VimeoVideo(\"733383823\", h=\"d6228d4de1\", width=600)"
   ]
  },
  {
   "cell_type": "markdown",
   "id": "d244cc32-3df6-4c1d-8a5d-79b9793e84ab",
   "metadata": {
    "deletable": false,
    "editable": false
   },
   "source": [
    "The DS Lab student data is stored in a MongoDB database. So we'll start the lesson by creating a `PrettyPrinter`, and connecting to the right database and collection."
   ]
  },
  {
   "cell_type": "code",
   "execution_count": 4,
   "id": "12d9a466-b6d6-40f2-9002-93deae179cfd",
   "metadata": {
    "deletable": false,
    "editable": false,
    "init_cell": true
   },
   "outputs": [
    {
     "data": {
      "text/html": [
       "\n",
       "        <iframe\n",
       "            width=\"600\"\n",
       "            height=\"300\"\n",
       "            src=\"https://player.vimeo.com/video/733383369?h=4d221e7fb7\"\n",
       "            frameborder=\"0\"\n",
       "            allowfullscreen\n",
       "            \n",
       "        ></iframe>\n",
       "        "
      ],
      "text/plain": [
       "<IPython.lib.display.VimeoVideo at 0x7f482c5cce80>"
      ]
     },
     "execution_count": 4,
     "metadata": {},
     "output_type": "execute_result"
    }
   ],
   "source": [
    "VimeoVideo(\"733383369\", h=\"4d221e7fb7\", width=600)"
   ]
  },
  {
   "cell_type": "markdown",
   "id": "c126e653-2701-45cd-ab6a-de132230c5ad",
   "metadata": {
    "deletable": false,
    "editable": false
   },
   "source": [
    "**Task 7.1.1:** Instantiate a `PrettyPrinter`, and assign it to the variable `pp`.\n",
    "\n",
    "- [Construct a `PrettyPrinter` instance in pprint.](../%40textbook/11-databases-mongodb.ipynb#Servers-and-Clients)"
   ]
  },
  {
   "cell_type": "code",
   "execution_count": 30,
   "id": "64e6394d-1bf5-4ca6-967a-e7ca4b72be53",
   "metadata": {
    "deletable": false
   },
   "outputs": [
    {
     "name": "stdout",
     "output_type": "stream",
     "text": [
      "pp type: <class 'pprint.PrettyPrinter'>\n"
     ]
    }
   ],
   "source": [
    "pp = PrettyPrinter(indent=2)\n",
    "print(\"pp type:\", type(pp))"
   ]
  },
  {
   "cell_type": "markdown",
   "id": "4034e75d-fe47-436b-aef9-1b6c118a48ef",
   "metadata": {
    "deletable": false,
    "editable": false
   },
   "source": [
    "Next up, let's connect to the MongoDB server."
   ]
  },
  {
   "cell_type": "markdown",
   "id": "f47e77ce-14ca-436d-b9c7-370c8312dc27",
   "metadata": {
    "deletable": false,
    "editable": false
   },
   "source": [
    "# Connect"
   ]
  },
  {
   "cell_type": "code",
   "execution_count": 6,
   "id": "4771faf4-70b9-4f0c-9ba3-844dfc3fbb64",
   "metadata": {
    "deletable": false,
    "editable": false,
    "init_cell": true
   },
   "outputs": [
    {
     "data": {
      "text/html": [
       "\n",
       "        <iframe\n",
       "            width=\"600\"\n",
       "            height=\"300\"\n",
       "            src=\"https://player.vimeo.com/video/733383007?h=13b2c716ac\"\n",
       "            frameborder=\"0\"\n",
       "            allowfullscreen\n",
       "            \n",
       "        ></iframe>\n",
       "        "
      ],
      "text/plain": [
       "<IPython.lib.display.VimeoVideo at 0x7f4805c8bfd0>"
      ]
     },
     "execution_count": 6,
     "metadata": {},
     "output_type": "execute_result"
    }
   ],
   "source": [
    "VimeoVideo(\"733383007\", h=\"13b2c716ac\", width=600)"
   ]
  },
  {
   "cell_type": "markdown",
   "id": "83c655c3-56ae-4112-9f31-4e12035e1d60",
   "metadata": {
    "deletable": false,
    "editable": false
   },
   "source": [
    "**Task 7.1.2:** Create a client that connects to the database running at `localhost` on port `27017`.\n",
    "\n",
    "- [What's a <span id='term'>database client?](../%40textbook/11-databases-mongodb.ipynb#Servers-and-Clients)\n",
    "- [What's a <span id='term'>database server?](../%40textbook/11-databases-mongodb.ipynb#Servers-and-Clients)\n",
    "- [<span id='technique'>Create a client object for a <span id='tool'>MongoDB</span> instance.](../%40textbook/11-databases-mongodb.ipynb#Servers-and-Clients) "
   ]
  },
  {
   "cell_type": "code",
   "execution_count": 31,
   "id": "4cc74b49-b067-4379-bd6f-daa83d884e2a",
   "metadata": {
    "deletable": false
   },
   "outputs": [
    {
     "name": "stdout",
     "output_type": "stream",
     "text": [
      "client type: <class 'pymongo.mongo_client.MongoClient'>\n"
     ]
    }
   ],
   "source": [
    "client = MongoClient(host=\"localhost\",port=27017)\n",
    "print(\"client type:\", type(client))"
   ]
  },
  {
   "cell_type": "markdown",
   "id": "5e41cd44-9c99-4dc2-86d8-7e6497301302",
   "metadata": {
    "deletable": false,
    "editable": false
   },
   "source": [
    "Okay! Let's take a look at the databases that are available to us."
   ]
  },
  {
   "cell_type": "markdown",
   "id": "bbafd982-a8b8-47c7-a1bd-9ec7f26d3a5b",
   "metadata": {
    "deletable": false,
    "editable": false
   },
   "source": [
    "**Task 7.1.3:** Print a list of the databases available on `client`.\n",
    "\n",
    "- [What's an iterator?](../%40textbook/02-python-advanced.ipynb#Iterators-and-Iterables-)\n",
    "- [List the databases of a server using PyMongo.](../%40textbook/11-databases-mongodb.ipynb#Exploring-a-Database)\n",
    "- [Print output using pprint.](../%40textbook/11-databases-mongodb.ipynb#Exploring-a-Database)"
   ]
  },
  {
   "cell_type": "code",
   "execution_count": 32,
   "id": "4335b4c0-3942-4bf3-9b5e-41c0f4ac36a8",
   "metadata": {
    "deletable": false
   },
   "outputs": [
    {
     "name": "stdout",
     "output_type": "stream",
     "text": [
      "[ {'empty': False, 'name': 'admin', 'sizeOnDisk': 40960},\n",
      "  {'empty': False, 'name': 'air-quality', 'sizeOnDisk': 7000064},\n",
      "  {'empty': False, 'name': 'config', 'sizeOnDisk': 73728},\n",
      "  {'empty': False, 'name': 'local', 'sizeOnDisk': 73728},\n",
      "  {'empty': False, 'name': 'wqu-abtest', 'sizeOnDisk': 585728}]\n"
     ]
    }
   ],
   "source": [
    "pp.pprint(list(client.list_databases()))"
   ]
  },
  {
   "cell_type": "markdown",
   "id": "16c4ca5b-f552-4b23-9900-1d5204461f9a",
   "metadata": {
    "deletable": false,
    "editable": false
   },
   "source": [
    "We're interested in the `\"wqu-abtest\"` database, so let's assign a variable and get moving.\n",
    "\n",
    "By the way, did you notice our old friend the air quality data? Isn't it nice to know that if you ever wanted to go back and do those projects again, the data will be there waiting for you?"
   ]
  },
  {
   "cell_type": "code",
   "execution_count": 9,
   "id": "89bea6de-15ee-4baa-a812-44acca2a7d46",
   "metadata": {
    "deletable": false,
    "editable": false,
    "init_cell": true
   },
   "outputs": [
    {
     "data": {
      "text/html": [
       "\n",
       "        <iframe\n",
       "            width=\"600\"\n",
       "            height=\"300\"\n",
       "            src=\"https://player.vimeo.com/video/733382605?h=e0b87a5ff8\"\n",
       "            frameborder=\"0\"\n",
       "            allowfullscreen\n",
       "            \n",
       "        ></iframe>\n",
       "        "
      ],
      "text/plain": [
       "<IPython.lib.display.VimeoVideo at 0x7f4805945a00>"
      ]
     },
     "execution_count": 9,
     "metadata": {},
     "output_type": "execute_result"
    }
   ],
   "source": [
    "VimeoVideo(\"733382605\", h=\"e0b87a5ff8\", width=600)"
   ]
  },
  {
   "cell_type": "markdown",
   "id": "bc9dbfbe-d17c-4989-8803-a2ec928adc21",
   "metadata": {
    "deletable": false,
    "editable": false
   },
   "source": [
    "**Task 7.1.4:** Assign the `\"ds-applicants\"` collection in the `\"wqu-abtest\"` database to the variable name `ds_app`.\n",
    "\n",
    "- [What's a MongoDB collection?](../%40textbook/11-databases-mongodb.ipynb#Collections)\n",
    "- [Access a collection in a database using PyMongo.](../%40textbook/11-databases-mongodb.ipynb#Collections)"
   ]
  },
  {
   "cell_type": "code",
   "execution_count": 33,
   "id": "91b4a2e3-a1f4-4b36-905c-cbe394b3de64",
   "metadata": {
    "deletable": false
   },
   "outputs": [
    {
     "name": "stdout",
     "output_type": "stream",
     "text": [
      "ds_app type: <class 'pymongo.collection.Collection'>\n"
     ]
    }
   ],
   "source": [
    "db = client[\"wqu-abtest\"]\n",
    "ds_app = db[\"ds-applicants\"]\n",
    "print(\"ds_app type:\", type(ds_app))"
   ]
  },
  {
   "cell_type": "markdown",
   "id": "e5b6a640-5073-400c-a4b0-c696b47264c0",
   "metadata": {
    "deletable": false,
    "editable": false
   },
   "source": [
    "Now let's take a look at what we've got. First, let's find out how many applicants are currently in our collection."
   ]
  },
  {
   "cell_type": "markdown",
   "id": "24613d7b-f497-4356-aa59-1a20621bf1e1",
   "metadata": {
    "deletable": false,
    "editable": false
   },
   "source": [
    "# Explore"
   ]
  },
  {
   "cell_type": "code",
   "execution_count": 14,
   "id": "3b204673-98ad-4739-a9e6-7cadad7ef607",
   "metadata": {
    "deletable": false,
    "editable": false,
    "init_cell": true
   },
   "outputs": [
    {
     "data": {
      "text/html": [
       "\n",
       "        <iframe\n",
       "            width=\"600\"\n",
       "            height=\"300\"\n",
       "            src=\"https://player.vimeo.com/video/733382346?h=9da7d3d1d8\"\n",
       "            frameborder=\"0\"\n",
       "            allowfullscreen\n",
       "            \n",
       "        ></iframe>\n",
       "        "
      ],
      "text/plain": [
       "<IPython.lib.display.VimeoVideo at 0x7f4805945610>"
      ]
     },
     "execution_count": 14,
     "metadata": {},
     "output_type": "execute_result"
    }
   ],
   "source": [
    "VimeoVideo(\"733382346\", h=\"9da7d3d1d8\", width=600)"
   ]
  },
  {
   "cell_type": "markdown",
   "id": "f3c401d5-4ab4-458b-b8a6-bfb58afc048b",
   "metadata": {
    "deletable": false,
    "editable": false
   },
   "source": [
    "**Task 7.1.5:** Use the [`count_documents`](https://pymongo.readthedocs.io/en/stable/api/pymongo/collection.html#pymongo.collection.Collection.count_documents) method to see how many documents are in the `ds_app` collection.\n",
    "\n",
    "- [What's a MongoDB document?](../%40textbook/11-databases-mongodb.ipynb#Documents)\n",
    "- [Count the documents in a collection using PyMongo.](../%40textbook/11-databases-mongodb.ipynb#Documents) "
   ]
  },
  {
   "cell_type": "markdown",
   "id": "306c2d08-1945-428c-a031-7efe95159270",
   "metadata": {
    "deletable": false,
    "editable": false
   },
   "source": [
    "<div class=\"alert alert-block alert-warning\">\n",
    "<b>Warning:</b> The exact number of documents in the database has changed since this video was filmed. So don't worry if you don't get exactly the same numbers as the instructor for the tasks in this project.\n",
    "</div>"
   ]
  },
  {
   "cell_type": "code",
   "execution_count": 34,
   "id": "f8fe3935-1eee-4ca0-b9c1-20f396dc01e3",
   "metadata": {
    "deletable": false
   },
   "outputs": [
    {
     "name": "stdout",
     "output_type": "stream",
     "text": [
      "Num. documents in 'ds-applicants': 5025\n"
     ]
    }
   ],
   "source": [
    "# Count documents in `ds_app`\n",
    "n_documents = ds_app.count_documents({})\n",
    "print(\"Num. documents in 'ds-applicants':\", n_documents)"
   ]
  },
  {
   "cell_type": "markdown",
   "id": "2a40ca19-84c2-4c40-9edb-9dff7effc349",
   "metadata": {
    "deletable": false,
    "editable": false
   },
   "source": [
    "So that's the number of individual records in the collection, but what do those records look like? The last time we did anything with a MongoDB database, the data was *semi-structured*, and that's true here as well. Recall that semi-structured data is arranged according to some kind of logic, but it can't be displayed in a regular table of rows and columns. \n",
    "\n",
    "Let's take a look at how these documents are laid out."
   ]
  },
  {
   "cell_type": "code",
   "execution_count": 16,
   "id": "700d21bb-25d7-48b3-9e9a-c8b8b03a8667",
   "metadata": {
    "deletable": false,
    "editable": false,
    "init_cell": true
   },
   "outputs": [
    {
     "data": {
      "text/html": [
       "\n",
       "        <iframe\n",
       "            width=\"600\"\n",
       "            height=\"300\"\n",
       "            src=\"https://player.vimeo.com/video/733380658?h=a7988083f4\"\n",
       "            frameborder=\"0\"\n",
       "            allowfullscreen\n",
       "            \n",
       "        ></iframe>\n",
       "        "
      ],
      "text/plain": [
       "<IPython.lib.display.VimeoVideo at 0x7f4805c82f10>"
      ]
     },
     "execution_count": 16,
     "metadata": {},
     "output_type": "execute_result"
    }
   ],
   "source": [
    "VimeoVideo(\"733380658\", h=\"a7988083f4\", width=600)"
   ]
  },
  {
   "cell_type": "markdown",
   "id": "614c99f1-0a98-4ac3-98e8-17f3cf934b0c",
   "metadata": {
    "deletable": false,
    "editable": false
   },
   "source": [
    "**Task 7.1.6:** Use the [`find_one`](https://pymongo.readthedocs.io/en/stable/api/pymongo/collection.html#pymongo.collection.Collection.find_one) method to retrieve one document from the `ds_app` collection and assign it to the variable name `result`.\n",
    "\n",
    "- [What's <span id='term'>semi-structured data?](../%40textbook/11-databases-mongodb.ipynb#Semi-structured-Data)\n",
    "- [<span id='technique'>Retrieve a document from a collection using <span id='tool'>PyMongo.](../%40textbook/11-databases-mongodb.ipynb#Retrieving-Data)"
   ]
  },
  {
   "cell_type": "code",
   "execution_count": 35,
   "id": "b54abfeb-6f90-4935-9e6a-3736cc98b61e",
   "metadata": {
    "deletable": false
   },
   "outputs": [
    {
     "name": "stdout",
     "output_type": "stream",
     "text": [
      "result type: <class 'dict'>\n",
      "{ '_id': ObjectId('6334b0f7b6df1fda53243ae4'),\n",
      "  'admissionsQuiz': 'incomplete',\n",
      "  'birthday': datetime.datetime(1998, 4, 29, 0, 0),\n",
      "  'countryISO2': 'GB',\n",
      "  'createdAt': datetime.datetime(2022, 5, 13, 15, 2, 44),\n",
      "  'email': 'terry.hassler28@yahow.com',\n",
      "  'firstName': 'Terry',\n",
      "  'gender': 'male',\n",
      "  'highestDegreeEarned': \"Bachelor's degree\",\n",
      "  'lastName': 'Hassler'}\n"
     ]
    }
   ],
   "source": [
    "result = ds_app.find_one({})\n",
    "print(\"result type:\", type(result))\n",
    "pp.pprint(result)"
   ]
  },
  {
   "cell_type": "markdown",
   "id": "8ae5d3e4-7f35-4dd4-88d4-d9132c1436ca",
   "metadata": {
    "deletable": false,
    "editable": false
   },
   "source": [
    "See why we shouldn't be using the real data for an assignment like this? Each document includes the applicant's birthday, country of origin, email address, first and last name, and their highest level of educational attainment — all things that would make our students readily identifiable. Good thing we've got synthetic data instead!"
   ]
  },
  {
   "cell_type": "markdown",
   "id": "e5670b19-e1aa-4ce4-a984-039fabd59c86",
   "metadata": {
    "deletable": false,
    "editable": false
   },
   "source": [
    "## Nationality"
   ]
  },
  {
   "cell_type": "markdown",
   "id": "82f14ab2-f41b-47f1-b76b-32c1619888cf",
   "metadata": {
    "deletable": false,
    "editable": false
   },
   "source": [
    "Let's start the analysis. One of the possibilities in each record is the country of origin. We already know WQU is a pretty diverse place, but we can figure out just *how* diverse it is by seeing where applicants are coming from.\n",
    "\n",
    "First, we'll perform an aggregation to count countries."
   ]
  },
  {
   "cell_type": "code",
   "execution_count": 18,
   "id": "97342fa8-33f1-4760-b246-09e6561aea70",
   "metadata": {
    "deletable": false,
    "editable": false,
    "init_cell": true
   },
   "outputs": [
    {
     "data": {
      "text/html": [
       "\n",
       "        <iframe\n",
       "            width=\"600\"\n",
       "            height=\"300\"\n",
       "            src=\"https://player.vimeo.com/video/733379562?h=8ffd2458e0\"\n",
       "            frameborder=\"0\"\n",
       "            allowfullscreen\n",
       "            \n",
       "        ></iframe>\n",
       "        "
      ],
      "text/plain": [
       "<IPython.lib.display.VimeoVideo at 0x7f48059459d0>"
      ]
     },
     "execution_count": 18,
     "metadata": {},
     "output_type": "execute_result"
    }
   ],
   "source": [
    "VimeoVideo(\"733379562\", h=\"8ffd2458e0\", width=600)"
   ]
  },
  {
   "cell_type": "markdown",
   "id": "299a896b-6128-491f-8724-111177a4bee9",
   "metadata": {
    "deletable": false,
    "editable": false
   },
   "source": [
    "**Task 7.1.7:** Use the [`aggregate`](https://pymongo.readthedocs.io/en/stable/api/pymongo/collection.html#pymongo.collection.Collection.aggregate) method to calculate how many applicants there are from each country.\n",
    "\n",
    "- [Perform aggregation calculations on documents using PyMongo.](../%40textbook/11-databases-mongodb.ipynb#Analyzing-Data)"
   ]
  },
  {
   "cell_type": "markdown",
   "id": "faf27ba3-1fe0-4251-9fd4-a082a66733c0",
   "metadata": {
    "deletable": false,
    "editable": false
   },
   "source": [
    "<div class=\"alert alert-block alert-info\">\n",
    "    <p><b>Tip:</b> ISO stands for \"<b>I</b>nternational <b>O</b>rganization for <b>S</b>tandardization\". So, when you write your query, make sure you're not confusing the letter <code>O</code> with the number <code>0</code>.</p>\n",
    "</div>"
   ]
  },
  {
   "cell_type": "code",
   "execution_count": 36,
   "id": "636cc668-38de-40d7-b65d-03895b9bc6a0",
   "metadata": {
    "deletable": false
   },
   "outputs": [
    {
     "name": "stdout",
     "output_type": "stream",
     "text": [
      "result type: <class 'pymongo.command_cursor.CommandCursor'>\n"
     ]
    }
   ],
   "source": [
    "result = ds_app.aggregate(\n",
    "[\n",
    "    {\n",
    "        \"$group\": {\"_id\":\"$countryISO2\",\"count\":{\"$count\":{}}\n",
    "                  }\n",
    "    }\n",
    "]\n",
    ")\n",
    "print(\"result type:\", type(result))"
   ]
  },
  {
   "cell_type": "markdown",
   "id": "b60a4195-9ae8-4d34-9421-4de3c6f24a50",
   "metadata": {
    "deletable": false,
    "editable": false
   },
   "source": [
    "Next, we'll create and print a DataFrame with the results."
   ]
  },
  {
   "cell_type": "code",
   "execution_count": 21,
   "id": "76e1ba1f-3cd6-4945-b029-6c58b9d8951a",
   "metadata": {
    "deletable": false,
    "editable": false,
    "init_cell": true
   },
   "outputs": [
    {
     "data": {
      "text/html": [
       "\n",
       "        <iframe\n",
       "            width=\"600\"\n",
       "            height=\"300\"\n",
       "            src=\"https://player.vimeo.com/video/733376898?h=fc7f30e75a\"\n",
       "            frameborder=\"0\"\n",
       "            allowfullscreen\n",
       "            \n",
       "        ></iframe>\n",
       "        "
      ],
      "text/plain": [
       "<IPython.lib.display.VimeoVideo at 0x7f4805c92a30>"
      ]
     },
     "execution_count": 21,
     "metadata": {},
     "output_type": "execute_result"
    }
   ],
   "source": [
    "VimeoVideo(\"733376898\", h=\"fc7f30e75a\", width=600)"
   ]
  },
  {
   "cell_type": "markdown",
   "id": "d8c13fd2-3367-4e38-acb3-b1c05c57938f",
   "metadata": {
    "deletable": false,
    "editable": false
   },
   "source": [
    "**Task 7.1.8:** Put your results from the previous task into a DataFrame named `df_nationality`. Your DataFrame should have two columns: `\"country_iso2\"` and `\"count\"`. It should be sorted from the smallest to the largest value of `\"count\"`.\n",
    "\n",
    "- [Create a DataFrame from a dictionary using pandas.](../%40textbook/03-pandas-getting-started.ipynb#Working-with-DataFrames)\n",
    "- [Rename a Series in pandas.](../%40textbook/03-pandas-getting-started.ipynb#Rename-a-Series)\n",
    "- [Sort a DataFrame or Series in pandas.](../%40textbook/03-pandas-getting-started.ipynb#Sorting)"
   ]
  },
  {
   "cell_type": "code",
   "execution_count": 37,
   "id": "2ca64f64-3af3-4a9f-9f41-5c69aaaa346b",
   "metadata": {
    "deletable": false
   },
   "outputs": [
    {
     "name": "stdout",
     "output_type": "stream",
     "text": [
      "df_nationality type: <class 'pandas.core.frame.DataFrame'>\n",
      "df_nationality shape (139, 2)\n"
     ]
    },
    {
     "data": {
      "text/html": [
       "<div>\n",
       "<style scoped>\n",
       "    .dataframe tbody tr th:only-of-type {\n",
       "        vertical-align: middle;\n",
       "    }\n",
       "\n",
       "    .dataframe tbody tr th {\n",
       "        vertical-align: top;\n",
       "    }\n",
       "\n",
       "    .dataframe thead th {\n",
       "        text-align: right;\n",
       "    }\n",
       "</style>\n",
       "<table border=\"1\" class=\"dataframe\">\n",
       "  <thead>\n",
       "    <tr style=\"text-align: right;\">\n",
       "      <th></th>\n",
       "      <th>country_iso2</th>\n",
       "      <th>count</th>\n",
       "    </tr>\n",
       "  </thead>\n",
       "  <tbody>\n",
       "    <tr>\n",
       "      <th>124</th>\n",
       "      <td>TM</td>\n",
       "      <td>1</td>\n",
       "    </tr>\n",
       "    <tr>\n",
       "      <th>133</th>\n",
       "      <td>GY</td>\n",
       "      <td>1</td>\n",
       "    </tr>\n",
       "    <tr>\n",
       "      <th>22</th>\n",
       "      <td>VE</td>\n",
       "      <td>1</td>\n",
       "    </tr>\n",
       "    <tr>\n",
       "      <th>56</th>\n",
       "      <td>SE</td>\n",
       "      <td>1</td>\n",
       "    </tr>\n",
       "    <tr>\n",
       "      <th>26</th>\n",
       "      <td>BA</td>\n",
       "      <td>1</td>\n",
       "    </tr>\n",
       "  </tbody>\n",
       "</table>\n",
       "</div>"
      ],
      "text/plain": [
       "    country_iso2  count\n",
       "124           TM      1\n",
       "133           GY      1\n",
       "22            VE      1\n",
       "56            SE      1\n",
       "26            BA      1"
      ]
     },
     "execution_count": 37,
     "metadata": {},
     "output_type": "execute_result"
    }
   ],
   "source": [
    "df_nationality = pd.DataFrame(result).rename({\"_id\":\"country_iso2\"},axis=\"columns\").sort_values(\"count\")\n",
    "\n",
    "print(\"df_nationality type:\", type(df_nationality))\n",
    "print(\"df_nationality shape\", df_nationality.shape)\n",
    "df_nationality.head()"
   ]
  },
  {
   "cell_type": "markdown",
   "id": "3dc79059-50e6-4d75-85f7-06c174645c47",
   "metadata": {
    "deletable": false,
    "editable": false
   },
   "source": [
    "<div class=\"alert alert-block alert-info\">\n",
    "    <p><b>Tip:</b> If you see that there's no data in <code>df_nationality</code>, it's likely that there's an issue with your query in the previous task.</p>\n",
    "</div>"
   ]
  },
  {
   "cell_type": "markdown",
   "id": "d8bf912f-7dfc-4694-8cc9-0e97b3ee6c84",
   "metadata": {
    "deletable": false,
    "editable": false
   },
   "source": [
    "Now we have the countries, but they're represented using the [ISO 3166-1 alpha-2 standard](https://en.wikipedia.org/wiki/ISO_3166-1_alpha-2), where each country has a two-letter code. It'll be much easier to interpret our data if we have the full country name, so we'll need to do some data enrichment using [country converter](https://github.com/konstantinstadler/country_converter) library.\n",
    "\n",
    "Since `country_converter` is an open-source library, there are several things to think about before we can bring it into our project. The first thing we need to do is figure out if we're even allowed to use the library for the kind of project we're working on by taking a look at the library's license. `country_converter` has a [GNU General Public License](https://www.gnu.org/licenses/gpl-3.0.en.html), so there are no worries there.\n",
    "\n",
    "Second, we need to make sure the software is being actively maintained. If the last time anybody changed the library was back in 2014, we're probably going to run into some problems when we try to use it. `country_converter`'s last update is very recent, so we aren't going to have any trouble there either.\n",
    "\n",
    "Third, we need to see what kinds of quality-control measures are in place. Even if the library was updated five minutes ago and includes a license that gives us permission to do whatever we want, it's going to be entirely useless if it's full of mistakes. Happily, `country_converter`'s testing coverage and build badges look excellent, so we're good to go there as well.\n",
    "\n",
    "The last thing we need to do is make sure the library will do the things we need it to do by looking at its documentation. `country_converter`'s documentation is very thorough, so if we run into any problems, we'll almost certainly be able to figure out what went wrong. \n",
    "\n",
    "`country_converter` looks good across all those dimensions, so let's put it to work!"
   ]
  },
  {
   "cell_type": "code",
   "execution_count": 34,
   "id": "244684c8-62fc-4479-bd1a-80a5c3e67ef8",
   "metadata": {
    "deletable": false,
    "editable": false,
    "init_cell": true
   },
   "outputs": [
    {
     "data": {
      "text/html": [
       "\n",
       "        <iframe\n",
       "            width=\"600\"\n",
       "            height=\"300\"\n",
       "            src=\"https://player.vimeo.com/video/733373453?h=f8e954db9f\"\n",
       "            frameborder=\"0\"\n",
       "            allowfullscreen\n",
       "            \n",
       "        ></iframe>\n",
       "        "
      ],
      "text/plain": [
       "<IPython.lib.display.VimeoVideo at 0x7f4805c92a90>"
      ]
     },
     "execution_count": 34,
     "metadata": {},
     "output_type": "execute_result"
    }
   ],
   "source": [
    "VimeoVideo(\"733373453\", h=\"f8e954db9f\", width=600)"
   ]
  },
  {
   "cell_type": "markdown",
   "id": "0b7b5b9b-00cc-4a2a-ba26-fcc4f7c6414a",
   "metadata": {
    "deletable": false,
    "editable": false
   },
   "source": [
    "**Task 7.1.9:** Instantiate a `CountryConverter` object named `cc`, and then use it to add a `\"country_name\"` column to the DataFrame `df_nationality`.\n",
    "\n",
    "- Convert country names from one format to another using country converter.\n",
    "- [Create new columns derived from existing columns in a DataFrame using pandas.](../%40textbook/03-pandas-getting-started.ipynb#Adding-Columns) "
   ]
  },
  {
   "cell_type": "code",
   "execution_count": 38,
   "id": "9d1d9550-4d0c-418e-8c67-0c037e675096",
   "metadata": {
    "deletable": false
   },
   "outputs": [
    {
     "name": "stdout",
     "output_type": "stream",
     "text": [
      "df_nationality shape: (139, 3)\n"
     ]
    },
    {
     "data": {
      "text/html": [
       "<div>\n",
       "<style scoped>\n",
       "    .dataframe tbody tr th:only-of-type {\n",
       "        vertical-align: middle;\n",
       "    }\n",
       "\n",
       "    .dataframe tbody tr th {\n",
       "        vertical-align: top;\n",
       "    }\n",
       "\n",
       "    .dataframe thead th {\n",
       "        text-align: right;\n",
       "    }\n",
       "</style>\n",
       "<table border=\"1\" class=\"dataframe\">\n",
       "  <thead>\n",
       "    <tr style=\"text-align: right;\">\n",
       "      <th></th>\n",
       "      <th>country_iso2</th>\n",
       "      <th>count</th>\n",
       "      <th>country_name</th>\n",
       "    </tr>\n",
       "  </thead>\n",
       "  <tbody>\n",
       "    <tr>\n",
       "      <th>124</th>\n",
       "      <td>TM</td>\n",
       "      <td>1</td>\n",
       "      <td>Turkmenistan</td>\n",
       "    </tr>\n",
       "    <tr>\n",
       "      <th>133</th>\n",
       "      <td>GY</td>\n",
       "      <td>1</td>\n",
       "      <td>Guyana</td>\n",
       "    </tr>\n",
       "    <tr>\n",
       "      <th>22</th>\n",
       "      <td>VE</td>\n",
       "      <td>1</td>\n",
       "      <td>Venezuela</td>\n",
       "    </tr>\n",
       "    <tr>\n",
       "      <th>56</th>\n",
       "      <td>SE</td>\n",
       "      <td>1</td>\n",
       "      <td>Sweden</td>\n",
       "    </tr>\n",
       "    <tr>\n",
       "      <th>26</th>\n",
       "      <td>BA</td>\n",
       "      <td>1</td>\n",
       "      <td>Bosnia and Herzegovina</td>\n",
       "    </tr>\n",
       "  </tbody>\n",
       "</table>\n",
       "</div>"
      ],
      "text/plain": [
       "    country_iso2  count            country_name\n",
       "124           TM      1            Turkmenistan\n",
       "133           GY      1                  Guyana\n",
       "22            VE      1               Venezuela\n",
       "56            SE      1                  Sweden\n",
       "26            BA      1  Bosnia and Herzegovina"
      ]
     },
     "execution_count": 38,
     "metadata": {},
     "output_type": "execute_result"
    }
   ],
   "source": [
    "cc = CountryConverter()\n",
    "df_nationality[\"country_name\"] = cc.convert(\n",
    "df_nationality[\"country_iso2\"],to=\"name_short\"\n",
    ")\n",
    "\n",
    "print(\"df_nationality shape:\", df_nationality.shape)\n",
    "df_nationality.head()"
   ]
  },
  {
   "cell_type": "markdown",
   "id": "69272550-1a22-40c5-b5c8-60d7039af637",
   "metadata": {
    "deletable": false,
    "editable": false
   },
   "source": [
    "That's better. Okay, let's turn that data into a bar chart."
   ]
  },
  {
   "cell_type": "code",
   "execution_count": 36,
   "id": "39e3b391-cef0-419f-9c1a-b6d63b13e9e5",
   "metadata": {
    "deletable": false,
    "editable": false,
    "init_cell": true
   },
   "outputs": [
    {
     "data": {
      "text/html": [
       "\n",
       "        <iframe\n",
       "            width=\"600\"\n",
       "            height=\"300\"\n",
       "            src=\"https://player.vimeo.com/video/733372561?h=2659ff0dc7\"\n",
       "            frameborder=\"0\"\n",
       "            allowfullscreen\n",
       "            \n",
       "        ></iframe>\n",
       "        "
      ],
      "text/plain": [
       "<IPython.lib.display.VimeoVideo at 0x7f47bcc80430>"
      ]
     },
     "execution_count": 36,
     "metadata": {},
     "output_type": "execute_result"
    }
   ],
   "source": [
    "VimeoVideo(\"733372561\", h=\"2659ff0dc7\", width=600)"
   ]
  },
  {
   "cell_type": "markdown",
   "id": "0a939e42-e6ab-4465-8a72-61f3c0626899",
   "metadata": {
    "deletable": false,
    "editable": false
   },
   "source": [
    "**Task 7.1.10:** Create a horizontal bar chart of the 10 countries with the largest representation in `df_nationality`. Be sure to label your x-axis `\"Frequency [count]\"`, your y-axis `\"Country\"`, and use the title `\"DS Applicants by Country\"`.\n",
    "\n",
    "- [What's a bar chart?](../%40textbook/08-visualization-plotly.ipynb#Bar-Chart)\n",
    "- [Create a bar chart using plotly express.](../%40textbook/08-visualization-plotly.ipynb#Bar-Chart)"
   ]
  },
  {
   "cell_type": "code",
   "execution_count": 39,
   "id": "cb497da2-fb96-4c95-a7f3-aa8c615011a2",
   "metadata": {
    "deletable": false
   },
   "outputs": [
    {
     "data": {
      "application/vnd.plotly.v1+json": {
       "config": {
        "plotlyServerURL": "https://plot.ly"
       },
       "data": [
        {
         "alignmentgroup": "True",
         "hovertemplate": "count=%{x}<br>country_name=%{y}<extra></extra>",
         "legendgroup": "",
         "marker": {
          "color": "#636efa",
          "pattern": {
           "shape": ""
          }
         },
         "name": "",
         "offsetgroup": "",
         "orientation": "h",
         "showlegend": false,
         "textposition": "auto",
         "type": "bar",
         "x": [
          94,
          97,
          109,
          167,
          187,
          254,
          304,
          511,
          568,
          1238
         ],
         "xaxis": "x",
         "y": [
          "Zimbabwe",
          "United States",
          "Philippines",
          "Ghana",
          "Ethiopia",
          "Bangladesh",
          "Kenya",
          "India",
          "Pakistan",
          "Nigeria"
         ],
         "yaxis": "y"
        }
       ],
       "layout": {
        "autosize": true,
        "barmode": "relative",
        "legend": {
         "tracegroupgap": 0
        },
        "template": {
         "data": {
          "bar": [
           {
            "error_x": {
             "color": "#2a3f5f"
            },
            "error_y": {
             "color": "#2a3f5f"
            },
            "marker": {
             "line": {
              "color": "#E5ECF6",
              "width": 0.5
             },
             "pattern": {
              "fillmode": "overlay",
              "size": 10,
              "solidity": 0.2
             }
            },
            "type": "bar"
           }
          ],
          "barpolar": [
           {
            "marker": {
             "line": {
              "color": "#E5ECF6",
              "width": 0.5
             },
             "pattern": {
              "fillmode": "overlay",
              "size": 10,
              "solidity": 0.2
             }
            },
            "type": "barpolar"
           }
          ],
          "carpet": [
           {
            "aaxis": {
             "endlinecolor": "#2a3f5f",
             "gridcolor": "white",
             "linecolor": "white",
             "minorgridcolor": "white",
             "startlinecolor": "#2a3f5f"
            },
            "baxis": {
             "endlinecolor": "#2a3f5f",
             "gridcolor": "white",
             "linecolor": "white",
             "minorgridcolor": "white",
             "startlinecolor": "#2a3f5f"
            },
            "type": "carpet"
           }
          ],
          "choropleth": [
           {
            "colorbar": {
             "outlinewidth": 0,
             "ticks": ""
            },
            "type": "choropleth"
           }
          ],
          "contour": [
           {
            "colorbar": {
             "outlinewidth": 0,
             "ticks": ""
            },
            "colorscale": [
             [
              0,
              "#0d0887"
             ],
             [
              0.1111111111111111,
              "#46039f"
             ],
             [
              0.2222222222222222,
              "#7201a8"
             ],
             [
              0.3333333333333333,
              "#9c179e"
             ],
             [
              0.4444444444444444,
              "#bd3786"
             ],
             [
              0.5555555555555556,
              "#d8576b"
             ],
             [
              0.6666666666666666,
              "#ed7953"
             ],
             [
              0.7777777777777778,
              "#fb9f3a"
             ],
             [
              0.8888888888888888,
              "#fdca26"
             ],
             [
              1,
              "#f0f921"
             ]
            ],
            "type": "contour"
           }
          ],
          "contourcarpet": [
           {
            "colorbar": {
             "outlinewidth": 0,
             "ticks": ""
            },
            "type": "contourcarpet"
           }
          ],
          "heatmap": [
           {
            "colorbar": {
             "outlinewidth": 0,
             "ticks": ""
            },
            "colorscale": [
             [
              0,
              "#0d0887"
             ],
             [
              0.1111111111111111,
              "#46039f"
             ],
             [
              0.2222222222222222,
              "#7201a8"
             ],
             [
              0.3333333333333333,
              "#9c179e"
             ],
             [
              0.4444444444444444,
              "#bd3786"
             ],
             [
              0.5555555555555556,
              "#d8576b"
             ],
             [
              0.6666666666666666,
              "#ed7953"
             ],
             [
              0.7777777777777778,
              "#fb9f3a"
             ],
             [
              0.8888888888888888,
              "#fdca26"
             ],
             [
              1,
              "#f0f921"
             ]
            ],
            "type": "heatmap"
           }
          ],
          "heatmapgl": [
           {
            "colorbar": {
             "outlinewidth": 0,
             "ticks": ""
            },
            "colorscale": [
             [
              0,
              "#0d0887"
             ],
             [
              0.1111111111111111,
              "#46039f"
             ],
             [
              0.2222222222222222,
              "#7201a8"
             ],
             [
              0.3333333333333333,
              "#9c179e"
             ],
             [
              0.4444444444444444,
              "#bd3786"
             ],
             [
              0.5555555555555556,
              "#d8576b"
             ],
             [
              0.6666666666666666,
              "#ed7953"
             ],
             [
              0.7777777777777778,
              "#fb9f3a"
             ],
             [
              0.8888888888888888,
              "#fdca26"
             ],
             [
              1,
              "#f0f921"
             ]
            ],
            "type": "heatmapgl"
           }
          ],
          "histogram": [
           {
            "marker": {
             "pattern": {
              "fillmode": "overlay",
              "size": 10,
              "solidity": 0.2
             }
            },
            "type": "histogram"
           }
          ],
          "histogram2d": [
           {
            "colorbar": {
             "outlinewidth": 0,
             "ticks": ""
            },
            "colorscale": [
             [
              0,
              "#0d0887"
             ],
             [
              0.1111111111111111,
              "#46039f"
             ],
             [
              0.2222222222222222,
              "#7201a8"
             ],
             [
              0.3333333333333333,
              "#9c179e"
             ],
             [
              0.4444444444444444,
              "#bd3786"
             ],
             [
              0.5555555555555556,
              "#d8576b"
             ],
             [
              0.6666666666666666,
              "#ed7953"
             ],
             [
              0.7777777777777778,
              "#fb9f3a"
             ],
             [
              0.8888888888888888,
              "#fdca26"
             ],
             [
              1,
              "#f0f921"
             ]
            ],
            "type": "histogram2d"
           }
          ],
          "histogram2dcontour": [
           {
            "colorbar": {
             "outlinewidth": 0,
             "ticks": ""
            },
            "colorscale": [
             [
              0,
              "#0d0887"
             ],
             [
              0.1111111111111111,
              "#46039f"
             ],
             [
              0.2222222222222222,
              "#7201a8"
             ],
             [
              0.3333333333333333,
              "#9c179e"
             ],
             [
              0.4444444444444444,
              "#bd3786"
             ],
             [
              0.5555555555555556,
              "#d8576b"
             ],
             [
              0.6666666666666666,
              "#ed7953"
             ],
             [
              0.7777777777777778,
              "#fb9f3a"
             ],
             [
              0.8888888888888888,
              "#fdca26"
             ],
             [
              1,
              "#f0f921"
             ]
            ],
            "type": "histogram2dcontour"
           }
          ],
          "mesh3d": [
           {
            "colorbar": {
             "outlinewidth": 0,
             "ticks": ""
            },
            "type": "mesh3d"
           }
          ],
          "parcoords": [
           {
            "line": {
             "colorbar": {
              "outlinewidth": 0,
              "ticks": ""
             }
            },
            "type": "parcoords"
           }
          ],
          "pie": [
           {
            "automargin": true,
            "type": "pie"
           }
          ],
          "scatter": [
           {
            "fillpattern": {
             "fillmode": "overlay",
             "size": 10,
             "solidity": 0.2
            },
            "type": "scatter"
           }
          ],
          "scatter3d": [
           {
            "line": {
             "colorbar": {
              "outlinewidth": 0,
              "ticks": ""
             }
            },
            "marker": {
             "colorbar": {
              "outlinewidth": 0,
              "ticks": ""
             }
            },
            "type": "scatter3d"
           }
          ],
          "scattercarpet": [
           {
            "marker": {
             "colorbar": {
              "outlinewidth": 0,
              "ticks": ""
             }
            },
            "type": "scattercarpet"
           }
          ],
          "scattergeo": [
           {
            "marker": {
             "colorbar": {
              "outlinewidth": 0,
              "ticks": ""
             }
            },
            "type": "scattergeo"
           }
          ],
          "scattergl": [
           {
            "marker": {
             "colorbar": {
              "outlinewidth": 0,
              "ticks": ""
             }
            },
            "type": "scattergl"
           }
          ],
          "scattermapbox": [
           {
            "marker": {
             "colorbar": {
              "outlinewidth": 0,
              "ticks": ""
             }
            },
            "type": "scattermapbox"
           }
          ],
          "scatterpolar": [
           {
            "marker": {
             "colorbar": {
              "outlinewidth": 0,
              "ticks": ""
             }
            },
            "type": "scatterpolar"
           }
          ],
          "scatterpolargl": [
           {
            "marker": {
             "colorbar": {
              "outlinewidth": 0,
              "ticks": ""
             }
            },
            "type": "scatterpolargl"
           }
          ],
          "scatterternary": [
           {
            "marker": {
             "colorbar": {
              "outlinewidth": 0,
              "ticks": ""
             }
            },
            "type": "scatterternary"
           }
          ],
          "surface": [
           {
            "colorbar": {
             "outlinewidth": 0,
             "ticks": ""
            },
            "colorscale": [
             [
              0,
              "#0d0887"
             ],
             [
              0.1111111111111111,
              "#46039f"
             ],
             [
              0.2222222222222222,
              "#7201a8"
             ],
             [
              0.3333333333333333,
              "#9c179e"
             ],
             [
              0.4444444444444444,
              "#bd3786"
             ],
             [
              0.5555555555555556,
              "#d8576b"
             ],
             [
              0.6666666666666666,
              "#ed7953"
             ],
             [
              0.7777777777777778,
              "#fb9f3a"
             ],
             [
              0.8888888888888888,
              "#fdca26"
             ],
             [
              1,
              "#f0f921"
             ]
            ],
            "type": "surface"
           }
          ],
          "table": [
           {
            "cells": {
             "fill": {
              "color": "#EBF0F8"
             },
             "line": {
              "color": "white"
             }
            },
            "header": {
             "fill": {
              "color": "#C8D4E3"
             },
             "line": {
              "color": "white"
             }
            },
            "type": "table"
           }
          ]
         },
         "layout": {
          "annotationdefaults": {
           "arrowcolor": "#2a3f5f",
           "arrowhead": 0,
           "arrowwidth": 1
          },
          "autotypenumbers": "strict",
          "coloraxis": {
           "colorbar": {
            "outlinewidth": 0,
            "ticks": ""
           }
          },
          "colorscale": {
           "diverging": [
            [
             0,
             "#8e0152"
            ],
            [
             0.1,
             "#c51b7d"
            ],
            [
             0.2,
             "#de77ae"
            ],
            [
             0.3,
             "#f1b6da"
            ],
            [
             0.4,
             "#fde0ef"
            ],
            [
             0.5,
             "#f7f7f7"
            ],
            [
             0.6,
             "#e6f5d0"
            ],
            [
             0.7,
             "#b8e186"
            ],
            [
             0.8,
             "#7fbc41"
            ],
            [
             0.9,
             "#4d9221"
            ],
            [
             1,
             "#276419"
            ]
           ],
           "sequential": [
            [
             0,
             "#0d0887"
            ],
            [
             0.1111111111111111,
             "#46039f"
            ],
            [
             0.2222222222222222,
             "#7201a8"
            ],
            [
             0.3333333333333333,
             "#9c179e"
            ],
            [
             0.4444444444444444,
             "#bd3786"
            ],
            [
             0.5555555555555556,
             "#d8576b"
            ],
            [
             0.6666666666666666,
             "#ed7953"
            ],
            [
             0.7777777777777778,
             "#fb9f3a"
            ],
            [
             0.8888888888888888,
             "#fdca26"
            ],
            [
             1,
             "#f0f921"
            ]
           ],
           "sequentialminus": [
            [
             0,
             "#0d0887"
            ],
            [
             0.1111111111111111,
             "#46039f"
            ],
            [
             0.2222222222222222,
             "#7201a8"
            ],
            [
             0.3333333333333333,
             "#9c179e"
            ],
            [
             0.4444444444444444,
             "#bd3786"
            ],
            [
             0.5555555555555556,
             "#d8576b"
            ],
            [
             0.6666666666666666,
             "#ed7953"
            ],
            [
             0.7777777777777778,
             "#fb9f3a"
            ],
            [
             0.8888888888888888,
             "#fdca26"
            ],
            [
             1,
             "#f0f921"
            ]
           ]
          },
          "colorway": [
           "#636efa",
           "#EF553B",
           "#00cc96",
           "#ab63fa",
           "#FFA15A",
           "#19d3f3",
           "#FF6692",
           "#B6E880",
           "#FF97FF",
           "#FECB52"
          ],
          "font": {
           "color": "#2a3f5f"
          },
          "geo": {
           "bgcolor": "white",
           "lakecolor": "white",
           "landcolor": "#E5ECF6",
           "showlakes": true,
           "showland": true,
           "subunitcolor": "white"
          },
          "hoverlabel": {
           "align": "left"
          },
          "hovermode": "closest",
          "mapbox": {
           "style": "light"
          },
          "paper_bgcolor": "white",
          "plot_bgcolor": "#E5ECF6",
          "polar": {
           "angularaxis": {
            "gridcolor": "white",
            "linecolor": "white",
            "ticks": ""
           },
           "bgcolor": "#E5ECF6",
           "radialaxis": {
            "gridcolor": "white",
            "linecolor": "white",
            "ticks": ""
           }
          },
          "scene": {
           "xaxis": {
            "backgroundcolor": "#E5ECF6",
            "gridcolor": "white",
            "gridwidth": 2,
            "linecolor": "white",
            "showbackground": true,
            "ticks": "",
            "zerolinecolor": "white"
           },
           "yaxis": {
            "backgroundcolor": "#E5ECF6",
            "gridcolor": "white",
            "gridwidth": 2,
            "linecolor": "white",
            "showbackground": true,
            "ticks": "",
            "zerolinecolor": "white"
           },
           "zaxis": {
            "backgroundcolor": "#E5ECF6",
            "gridcolor": "white",
            "gridwidth": 2,
            "linecolor": "white",
            "showbackground": true,
            "ticks": "",
            "zerolinecolor": "white"
           }
          },
          "shapedefaults": {
           "line": {
            "color": "#2a3f5f"
           }
          },
          "ternary": {
           "aaxis": {
            "gridcolor": "white",
            "linecolor": "white",
            "ticks": ""
           },
           "baxis": {
            "gridcolor": "white",
            "linecolor": "white",
            "ticks": ""
           },
           "bgcolor": "#E5ECF6",
           "caxis": {
            "gridcolor": "white",
            "linecolor": "white",
            "ticks": ""
           }
          },
          "title": {
           "x": 0.05
          },
          "xaxis": {
           "automargin": true,
           "gridcolor": "white",
           "linecolor": "white",
           "ticks": "",
           "title": {
            "standoff": 15
           },
           "zerolinecolor": "white",
           "zerolinewidth": 2
          },
          "yaxis": {
           "automargin": true,
           "gridcolor": "white",
           "linecolor": "white",
           "ticks": "",
           "title": {
            "standoff": 15
           },
           "zerolinecolor": "white",
           "zerolinewidth": 2
          }
         }
        },
        "title": {
         "text": "DS Applicants by Country"
        },
        "xaxis": {
         "anchor": "y",
         "autorange": true,
         "domain": [
          0,
          1
         ],
         "range": [
          0,
          1303.157894736842
         ],
         "title": {
          "text": "Frequency [count]"
         },
         "type": "linear"
        },
        "yaxis": {
         "anchor": "x",
         "autorange": true,
         "domain": [
          0,
          1
         ],
         "range": [
          -0.5,
          9.5
         ],
         "title": {
          "text": "Country"
         },
         "type": "category"
        }
       }
      },
      "image/png": "[encoded data removed]",
      "text/html": [
       "<div>                            <div id=\"da57b6c1-1ba2-4df1-a89f-482197212b92\" class=\"plotly-graph-div\" style=\"height:525px; width:100%;\"></div>            <script type=\"text/javascript\">                require([\"plotly\"], function(Plotly) {                    window.PLOTLYENV=window.PLOTLYENV || {};                                    if (document.getElementById(\"da57b6c1-1ba2-4df1-a89f-482197212b92\")) {                    Plotly.newPlot(                        \"da57b6c1-1ba2-4df1-a89f-482197212b92\",                        [{\"alignmentgroup\":\"True\",\"hovertemplate\":\"count=%{x}<br>country_name=%{y}<extra></extra>\",\"legendgroup\":\"\",\"marker\":{\"color\":\"#636efa\",\"pattern\":{\"shape\":\"\"}},\"name\":\"\",\"offsetgroup\":\"\",\"orientation\":\"h\",\"showlegend\":false,\"textposition\":\"auto\",\"x\":[94,97,109,167,187,254,304,511,568,1238],\"xaxis\":\"x\",\"y\":[\"Zimbabwe\",\"United States\",\"Philippines\",\"Ghana\",\"Ethiopia\",\"Bangladesh\",\"Kenya\",\"India\",\"Pakistan\",\"Nigeria\"],\"yaxis\":\"y\",\"type\":\"bar\"}],                        {\"template\":{\"data\":{\"histogram2dcontour\":[{\"type\":\"histogram2dcontour\",\"colorbar\":{\"outlinewidth\":0,\"ticks\":\"\"},\"colorscale\":[[0.0,\"#0d0887\"],[0.1111111111111111,\"#46039f\"],[0.2222222222222222,\"#7201a8\"],[0.3333333333333333,\"#9c179e\"],[0.4444444444444444,\"#bd3786\"],[0.5555555555555556,\"#d8576b\"],[0.6666666666666666,\"#ed7953\"],[0.7777777777777778,\"#fb9f3a\"],[0.8888888888888888,\"#fdca26\"],[1.0,\"#f0f921\"]]}],\"choropleth\":[{\"type\":\"choropleth\",\"colorbar\":{\"outlinewidth\":0,\"ticks\":\"\"}}],\"histogram2d\":[{\"type\":\"histogram2d\",\"colorbar\":{\"outlinewidth\":0,\"ticks\":\"\"},\"colorscale\":[[0.0,\"#0d0887\"],[0.1111111111111111,\"#46039f\"],[0.2222222222222222,\"#7201a8\"],[0.3333333333333333,\"#9c179e\"],[0.4444444444444444,\"#bd3786\"],[0.5555555555555556,\"#d8576b\"],[0.6666666666666666,\"#ed7953\"],[0.7777777777777778,\"#fb9f3a\"],[0.8888888888888888,\"#fdca26\"],[1.0,\"#f0f921\"]]}],\"heatmap\":[{\"type\":\"heatmap\",\"colorbar\":{\"outlinewidth\":0,\"ticks\":\"\"},\"colorscale\":[[0.0,\"#0d0887\"],[0.1111111111111111,\"#46039f\"],[0.2222222222222222,\"#7201a8\"],[0.3333333333333333,\"#9c179e\"],[0.4444444444444444,\"#bd3786\"],[0.5555555555555556,\"#d8576b\"],[0.6666666666666666,\"#ed7953\"],[0.7777777777777778,\"#fb9f3a\"],[0.8888888888888888,\"#fdca26\"],[1.0,\"#f0f921\"]]}],\"heatmapgl\":[{\"type\":\"heatmapgl\",\"colorbar\":{\"outlinewidth\":0,\"ticks\":\"\"},\"colorscale\":[[0.0,\"#0d0887\"],[0.1111111111111111,\"#46039f\"],[0.2222222222222222,\"#7201a8\"],[0.3333333333333333,\"#9c179e\"],[0.4444444444444444,\"#bd3786\"],[0.5555555555555556,\"#d8576b\"],[0.6666666666666666,\"#ed7953\"],[0.7777777777777778,\"#fb9f3a\"],[0.8888888888888888,\"#fdca26\"],[1.0,\"#f0f921\"]]}],\"contourcarpet\":[{\"type\":\"contourcarpet\",\"colorbar\":{\"outlinewidth\":0,\"ticks\":\"\"}}],\"contour\":[{\"type\":\"contour\",\"colorbar\":{\"outlinewidth\":0,\"ticks\":\"\"},\"colorscale\":[[0.0,\"#0d0887\"],[0.1111111111111111,\"#46039f\"],[0.2222222222222222,\"#7201a8\"],[0.3333333333333333,\"#9c179e\"],[0.4444444444444444,\"#bd3786\"],[0.5555555555555556,\"#d8576b\"],[0.6666666666666666,\"#ed7953\"],[0.7777777777777778,\"#fb9f3a\"],[0.8888888888888888,\"#fdca26\"],[1.0,\"#f0f921\"]]}],\"surface\":[{\"type\":\"surface\",\"colorbar\":{\"outlinewidth\":0,\"ticks\":\"\"},\"colorscale\":[[0.0,\"#0d0887\"],[0.1111111111111111,\"#46039f\"],[0.2222222222222222,\"#7201a8\"],[0.3333333333333333,\"#9c179e\"],[0.4444444444444444,\"#bd3786\"],[0.5555555555555556,\"#d8576b\"],[0.6666666666666666,\"#ed7953\"],[0.7777777777777778,\"#fb9f3a\"],[0.8888888888888888,\"#fdca26\"],[1.0,\"#f0f921\"]]}],\"mesh3d\":[{\"type\":\"mesh3d\",\"colorbar\":{\"outlinewidth\":0,\"ticks\":\"\"}}],\"scatter\":[{\"fillpattern\":{\"fillmode\":\"overlay\",\"size\":10,\"solidity\":0.2},\"type\":\"scatter\"}],\"parcoords\":[{\"type\":\"parcoords\",\"line\":{\"colorbar\":{\"outlinewidth\":0,\"ticks\":\"\"}}}],\"scatterpolargl\":[{\"type\":\"scatterpolargl\",\"marker\":{\"colorbar\":{\"outlinewidth\":0,\"ticks\":\"\"}}}],\"bar\":[{\"error_x\":{\"color\":\"#2a3f5f\"},\"error_y\":{\"color\":\"#2a3f5f\"},\"marker\":{\"line\":{\"color\":\"#E5ECF6\",\"width\":0.5},\"pattern\":{\"fillmode\":\"overlay\",\"size\":10,\"solidity\":0.2}},\"type\":\"bar\"}],\"scattergeo\":[{\"type\":\"scattergeo\",\"marker\":{\"colorbar\":{\"outlinewidth\":0,\"ticks\":\"\"}}}],\"scatterpolar\":[{\"type\":\"scatterpolar\",\"marker\":{\"colorbar\":{\"outlinewidth\":0,\"ticks\":\"\"}}}],\"histogram\":[{\"marker\":{\"pattern\":{\"fillmode\":\"overlay\",\"size\":10,\"solidity\":0.2}},\"type\":\"histogram\"}],\"scattergl\":[{\"type\":\"scattergl\",\"marker\":{\"colorbar\":{\"outlinewidth\":0,\"ticks\":\"\"}}}],\"scatter3d\":[{\"type\":\"scatter3d\",\"line\":{\"colorbar\":{\"outlinewidth\":0,\"ticks\":\"\"}},\"marker\":{\"colorbar\":{\"outlinewidth\":0,\"ticks\":\"\"}}}],\"scattermapbox\":[{\"type\":\"scattermapbox\",\"marker\":{\"colorbar\":{\"outlinewidth\":0,\"ticks\":\"\"}}}],\"scatterternary\":[{\"type\":\"scatterternary\",\"marker\":{\"colorbar\":{\"outlinewidth\":0,\"ticks\":\"\"}}}],\"scattercarpet\":[{\"type\":\"scattercarpet\",\"marker\":{\"colorbar\":{\"outlinewidth\":0,\"ticks\":\"\"}}}],\"carpet\":[{\"aaxis\":{\"endlinecolor\":\"#2a3f5f\",\"gridcolor\":\"white\",\"linecolor\":\"white\",\"minorgridcolor\":\"white\",\"startlinecolor\":\"#2a3f5f\"},\"baxis\":{\"endlinecolor\":\"#2a3f5f\",\"gridcolor\":\"white\",\"linecolor\":\"white\",\"minorgridcolor\":\"white\",\"startlinecolor\":\"#2a3f5f\"},\"type\":\"carpet\"}],\"table\":[{\"cells\":{\"fill\":{\"color\":\"#EBF0F8\"},\"line\":{\"color\":\"white\"}},\"header\":{\"fill\":{\"color\":\"#C8D4E3\"},\"line\":{\"color\":\"white\"}},\"type\":\"table\"}],\"barpolar\":[{\"marker\":{\"line\":{\"color\":\"#E5ECF6\",\"width\":0.5},\"pattern\":{\"fillmode\":\"overlay\",\"size\":10,\"solidity\":0.2}},\"type\":\"barpolar\"}],\"pie\":[{\"automargin\":true,\"type\":\"pie\"}]},\"layout\":{\"autotypenumbers\":\"strict\",\"colorway\":[\"#636efa\",\"#EF553B\",\"#00cc96\",\"#ab63fa\",\"#FFA15A\",\"#19d3f3\",\"#FF6692\",\"#B6E880\",\"#FF97FF\",\"#FECB52\"],\"font\":{\"color\":\"#2a3f5f\"},\"hovermode\":\"closest\",\"hoverlabel\":{\"align\":\"left\"},\"paper_bgcolor\":\"white\",\"plot_bgcolor\":\"#E5ECF6\",\"polar\":{\"bgcolor\":\"#E5ECF6\",\"angularaxis\":{\"gridcolor\":\"white\",\"linecolor\":\"white\",\"ticks\":\"\"},\"radialaxis\":{\"gridcolor\":\"white\",\"linecolor\":\"white\",\"ticks\":\"\"}},\"ternary\":{\"bgcolor\":\"#E5ECF6\",\"aaxis\":{\"gridcolor\":\"white\",\"linecolor\":\"white\",\"ticks\":\"\"},\"baxis\":{\"gridcolor\":\"white\",\"linecolor\":\"white\",\"ticks\":\"\"},\"caxis\":{\"gridcolor\":\"white\",\"linecolor\":\"white\",\"ticks\":\"\"}},\"coloraxis\":{\"colorbar\":{\"outlinewidth\":0,\"ticks\":\"\"}},\"colorscale\":{\"sequential\":[[0.0,\"#0d0887\"],[0.1111111111111111,\"#46039f\"],[0.2222222222222222,\"#7201a8\"],[0.3333333333333333,\"#9c179e\"],[0.4444444444444444,\"#bd3786\"],[0.5555555555555556,\"#d8576b\"],[0.6666666666666666,\"#ed7953\"],[0.7777777777777778,\"#fb9f3a\"],[0.8888888888888888,\"#fdca26\"],[1.0,\"#f0f921\"]],\"sequentialminus\":[[0.0,\"#0d0887\"],[0.1111111111111111,\"#46039f\"],[0.2222222222222222,\"#7201a8\"],[0.3333333333333333,\"#9c179e\"],[0.4444444444444444,\"#bd3786\"],[0.5555555555555556,\"#d8576b\"],[0.6666666666666666,\"#ed7953\"],[0.7777777777777778,\"#fb9f3a\"],[0.8888888888888888,\"#fdca26\"],[1.0,\"#f0f921\"]],\"diverging\":[[0,\"#8e0152\"],[0.1,\"#c51b7d\"],[0.2,\"#de77ae\"],[0.3,\"#f1b6da\"],[0.4,\"#fde0ef\"],[0.5,\"#f7f7f7\"],[0.6,\"#e6f5d0\"],[0.7,\"#b8e186\"],[0.8,\"#7fbc41\"],[0.9,\"#4d9221\"],[1,\"#276419\"]]},\"xaxis\":{\"gridcolor\":\"white\",\"linecolor\":\"white\",\"ticks\":\"\",\"title\":{\"standoff\":15},\"zerolinecolor\":\"white\",\"automargin\":true,\"zerolinewidth\":2},\"yaxis\":{\"gridcolor\":\"white\",\"linecolor\":\"white\",\"ticks\":\"\",\"title\":{\"standoff\":15},\"zerolinecolor\":\"white\",\"automargin\":true,\"zerolinewidth\":2},\"scene\":{\"xaxis\":{\"backgroundcolor\":\"#E5ECF6\",\"gridcolor\":\"white\",\"linecolor\":\"white\",\"showbackground\":true,\"ticks\":\"\",\"zerolinecolor\":\"white\",\"gridwidth\":2},\"yaxis\":{\"backgroundcolor\":\"#E5ECF6\",\"gridcolor\":\"white\",\"linecolor\":\"white\",\"showbackground\":true,\"ticks\":\"\",\"zerolinecolor\":\"white\",\"gridwidth\":2},\"zaxis\":{\"backgroundcolor\":\"#E5ECF6\",\"gridcolor\":\"white\",\"linecolor\":\"white\",\"showbackground\":true,\"ticks\":\"\",\"zerolinecolor\":\"white\",\"gridwidth\":2}},\"shapedefaults\":{\"line\":{\"color\":\"#2a3f5f\"}},\"annotationdefaults\":{\"arrowcolor\":\"#2a3f5f\",\"arrowhead\":0,\"arrowwidth\":1},\"geo\":{\"bgcolor\":\"white\",\"landcolor\":\"#E5ECF6\",\"subunitcolor\":\"white\",\"showland\":true,\"showlakes\":true,\"lakecolor\":\"white\"},\"title\":{\"x\":0.05},\"mapbox\":{\"style\":\"light\"}}},\"xaxis\":{\"anchor\":\"y\",\"domain\":[0.0,1.0],\"title\":{\"text\":\"Frequency [count]\"}},\"yaxis\":{\"anchor\":\"x\",\"domain\":[0.0,1.0],\"title\":{\"text\":\"Country\"}},\"legend\":{\"tracegroupgap\":0},\"title\":{\"text\":\"DS Applicants by Country\"},\"barmode\":\"relative\"},                        {\"responsive\": true}                    ).then(function(){\n",
       "                            \n",
       "var gd = document.getElementById('da57b6c1-1ba2-4df1-a89f-482197212b92');\n",
       "var x = new MutationObserver(function (mutations, observer) {{\n",
       "        var display = window.getComputedStyle(gd).display;\n",
       "        if (!display || display === 'none') {{\n",
       "            console.log([gd, 'removed!']);\n",
       "            Plotly.purge(gd);\n",
       "            observer.disconnect();\n",
       "        }}\n",
       "}});\n",
       "\n",
       "// Listen for the removal of the full notebook cells\n",
       "var notebookContainer = gd.closest('#notebook-container');\n",
       "if (notebookContainer) {{\n",
       "    x.observe(notebookContainer, {childList: true});\n",
       "}}\n",
       "\n",
       "// Listen for the clearing of the current output cell\n",
       "var outputEl = gd.closest('.output');\n",
       "if (outputEl) {{\n",
       "    x.observe(outputEl, {childList: true});\n",
       "}}\n",
       "\n",
       "                        })                };                });            </script>        </div>"
      ]
     },
     "metadata": {},
     "output_type": "display_data"
    }
   ],
   "source": [
    "# Create horizontal bar chart\n",
    "fig = px.bar(\n",
    "data_frame=df_nationality.tail(10),\n",
    "    x=\"count\",\n",
    "    y=\"country_name\",\n",
    "    orientation=\"h\",\n",
    "    title=\"DS Applicants by Country\"\n",
    ")\n",
    "# Set axis labels\n",
    "fig.update_layout(xaxis_title=\"Frequency [count]\",yaxis_title=\"Country\")\n",
    "fig.show()"
   ]
  },
  {
   "cell_type": "markdown",
   "id": "f3c57200-3d5c-4124-b782-ff10e3d7cf66",
   "metadata": {
    "deletable": false,
    "editable": false
   },
   "source": [
    "That's showing us the raw number of applicants from each country, but since we're working with admissions data, it might be more helpful to see the proportion of applicants each country represents. We can get there by normalizing the dataset."
   ]
  },
  {
   "cell_type": "code",
   "execution_count": 39,
   "id": "d8353c1f-b6df-4fd2-a807-817c48b01a2f",
   "metadata": {
    "deletable": false,
    "editable": false,
    "init_cell": true
   },
   "outputs": [
    {
     "data": {
      "text/html": [
       "\n",
       "        <iframe\n",
       "            width=\"600\"\n",
       "            height=\"300\"\n",
       "            src=\"https://player.vimeo.com/video/733371952?h=a061e33ab8\"\n",
       "            frameborder=\"0\"\n",
       "            allowfullscreen\n",
       "            \n",
       "        ></iframe>\n",
       "        "
      ],
      "text/plain": [
       "<IPython.lib.display.VimeoVideo at 0x7f476bbbbca0>"
      ]
     },
     "execution_count": 39,
     "metadata": {},
     "output_type": "execute_result"
    }
   ],
   "source": [
    "VimeoVideo(\"733371952\", h=\"a061e33ab8\", width=600)"
   ]
  },
  {
   "cell_type": "markdown",
   "id": "96190eeb-20a0-4c1a-9a7b-a4c2a7f71a71",
   "metadata": {
    "deletable": false,
    "editable": false
   },
   "source": [
    "**Task 7.1.11:** Create a `\"count_pct\"` column for `df_nationality` that shows the proportion of applicants from each country.\n",
    "\n",
    "- [Create new columns derived from existing columns in a DataFrame using pandas.](../%40textbook/03-pandas-getting-started.ipynb#Adding-Columns) "
   ]
  },
  {
   "cell_type": "code",
   "execution_count": 40,
   "id": "c1466e95-1a6b-4802-8ab3-b427ea492ade",
   "metadata": {
    "deletable": false
   },
   "outputs": [
    {
     "name": "stdout",
     "output_type": "stream",
     "text": [
      "df_nationality shape: (139, 4)\n"
     ]
    },
    {
     "data": {
      "text/html": [
       "<div>\n",
       "<style scoped>\n",
       "    .dataframe tbody tr th:only-of-type {\n",
       "        vertical-align: middle;\n",
       "    }\n",
       "\n",
       "    .dataframe tbody tr th {\n",
       "        vertical-align: top;\n",
       "    }\n",
       "\n",
       "    .dataframe thead th {\n",
       "        text-align: right;\n",
       "    }\n",
       "</style>\n",
       "<table border=\"1\" class=\"dataframe\">\n",
       "  <thead>\n",
       "    <tr style=\"text-align: right;\">\n",
       "      <th></th>\n",
       "      <th>country_iso2</th>\n",
       "      <th>count</th>\n",
       "      <th>country_name</th>\n",
       "      <th>count_pct</th>\n",
       "    </tr>\n",
       "  </thead>\n",
       "  <tbody>\n",
       "    <tr>\n",
       "      <th>124</th>\n",
       "      <td>TM</td>\n",
       "      <td>1</td>\n",
       "      <td>Turkmenistan</td>\n",
       "      <td>0.0199</td>\n",
       "    </tr>\n",
       "    <tr>\n",
       "      <th>133</th>\n",
       "      <td>GY</td>\n",
       "      <td>1</td>\n",
       "      <td>Guyana</td>\n",
       "      <td>0.0199</td>\n",
       "    </tr>\n",
       "    <tr>\n",
       "      <th>22</th>\n",
       "      <td>VE</td>\n",
       "      <td>1</td>\n",
       "      <td>Venezuela</td>\n",
       "      <td>0.0199</td>\n",
       "    </tr>\n",
       "    <tr>\n",
       "      <th>56</th>\n",
       "      <td>SE</td>\n",
       "      <td>1</td>\n",
       "      <td>Sweden</td>\n",
       "      <td>0.0199</td>\n",
       "    </tr>\n",
       "    <tr>\n",
       "      <th>26</th>\n",
       "      <td>BA</td>\n",
       "      <td>1</td>\n",
       "      <td>Bosnia and Herzegovina</td>\n",
       "      <td>0.0199</td>\n",
       "    </tr>\n",
       "  </tbody>\n",
       "</table>\n",
       "</div>"
      ],
      "text/plain": [
       "    country_iso2  count            country_name  count_pct\n",
       "124           TM      1            Turkmenistan     0.0199\n",
       "133           GY      1                  Guyana     0.0199\n",
       "22            VE      1               Venezuela     0.0199\n",
       "56            SE      1                  Sweden     0.0199\n",
       "26            BA      1  Bosnia and Herzegovina     0.0199"
      ]
     },
     "execution_count": 40,
     "metadata": {},
     "output_type": "execute_result"
    }
   ],
   "source": [
    "df_nationality[\"count_pct\"] = (df_nationality[\"count\"]/df_nationality[\"count\"].sum())*100\n",
    "\n",
    "print(\"df_nationality shape:\", df_nationality.shape)\n",
    "df_nationality.head()"
   ]
  },
  {
   "cell_type": "markdown",
   "id": "48b6f064-4f74-4f17-b387-db167e38d23b",
   "metadata": {
    "deletable": false,
    "editable": false
   },
   "source": [
    "Now we can turn that into a new bar chart."
   ]
  },
  {
   "cell_type": "code",
   "execution_count": 44,
   "id": "39d1846d-c1fb-4d53-a16f-8a43ade1631e",
   "metadata": {
    "deletable": false,
    "editable": false,
    "init_cell": true
   },
   "outputs": [
    {
     "data": {
      "text/html": [
       "\n",
       "        <iframe\n",
       "            width=\"600\"\n",
       "            height=\"300\"\n",
       "            src=\"https://player.vimeo.com/video/733371556?h=7cae7252a8\"\n",
       "            frameborder=\"0\"\n",
       "            allowfullscreen\n",
       "            \n",
       "        ></iframe>\n",
       "        "
      ],
      "text/plain": [
       "<IPython.lib.display.VimeoVideo at 0x7f47689fd1c0>"
      ]
     },
     "execution_count": 44,
     "metadata": {},
     "output_type": "execute_result"
    }
   ],
   "source": [
    "VimeoVideo(\"733371556\", h=\"7cae7252a8\", width=600)"
   ]
  },
  {
   "cell_type": "markdown",
   "id": "dd462082-d240-450c-bfd4-ed87398d0614",
   "metadata": {
    "deletable": false,
    "editable": false
   },
   "source": [
    "**Task 7.1.12:** Recreate your horizontal bar chart of the 10 countries with the largest representation in `df_nationality`, this time with the percentages. Be sure to label your x-axis `\"Frequency [%]\"`, your y-axis `\"Country\"`, and use the title `\"DS Applicants by Country\"`.\n",
    "\n",
    "- [What's a bar chart?](../%40textbook/08-visualization-plotly.ipynb#Bar-Chart)\n",
    "- [Create a bar chart using plotly express.](../%40textbook/08-visualization-plotly.ipynb#Bar-Chart)"
   ]
  },
  {
   "cell_type": "code",
   "execution_count": 41,
   "id": "64360b8e-4122-484d-bb1e-f13f51c284ab",
   "metadata": {
    "deletable": false
   },
   "outputs": [
    {
     "data": {
      "application/vnd.plotly.v1+json": {
       "config": {
        "plotlyServerURL": "https://plot.ly"
       },
       "data": [
        {
         "alignmentgroup": "True",
         "hovertemplate": "count_pct=%{x}<br>country_name=%{y}<extra></extra>",
         "legendgroup": "",
         "marker": {
          "color": "#636efa",
          "pattern": {
           "shape": ""
          }
         },
         "name": "",
         "offsetgroup": "",
         "orientation": "h",
         "showlegend": false,
         "textposition": "auto",
         "type": "bar",
         "x": [
          1.8706467661691544,
          1.9303482587064675,
          2.1691542288557213,
          3.323383084577115,
          3.7213930348258706,
          5.054726368159204,
          6.0497512437810945,
          10.16915422885572,
          11.303482587064677,
          24.636815920398007
         ],
         "xaxis": "x",
         "y": [
          "Zimbabwe",
          "United States",
          "Philippines",
          "Ghana",
          "Ethiopia",
          "Bangladesh",
          "Kenya",
          "India",
          "Pakistan",
          "Nigeria"
         ],
         "yaxis": "y"
        }
       ],
       "layout": {
        "autosize": true,
        "barmode": "relative",
        "legend": {
         "tracegroupgap": 0
        },
        "template": {
         "data": {
          "bar": [
           {
            "error_x": {
             "color": "#2a3f5f"
            },
            "error_y": {
             "color": "#2a3f5f"
            },
            "marker": {
             "line": {
              "color": "#E5ECF6",
              "width": 0.5
             },
             "pattern": {
              "fillmode": "overlay",
              "size": 10,
              "solidity": 0.2
             }
            },
            "type": "bar"
           }
          ],
          "barpolar": [
           {
            "marker": {
             "line": {
              "color": "#E5ECF6",
              "width": 0.5
             },
             "pattern": {
              "fillmode": "overlay",
              "size": 10,
              "solidity": 0.2
             }
            },
            "type": "barpolar"
           }
          ],
          "carpet": [
           {
            "aaxis": {
             "endlinecolor": "#2a3f5f",
             "gridcolor": "white",
             "linecolor": "white",
             "minorgridcolor": "white",
             "startlinecolor": "#2a3f5f"
            },
            "baxis": {
             "endlinecolor": "#2a3f5f",
             "gridcolor": "white",
             "linecolor": "white",
             "minorgridcolor": "white",
             "startlinecolor": "#2a3f5f"
            },
            "type": "carpet"
           }
          ],
          "choropleth": [
           {
            "colorbar": {
             "outlinewidth": 0,
             "ticks": ""
            },
            "type": "choropleth"
           }
          ],
          "contour": [
           {
            "colorbar": {
             "outlinewidth": 0,
             "ticks": ""
            },
            "colorscale": [
             [
              0,
              "#0d0887"
             ],
             [
              0.1111111111111111,
              "#46039f"
             ],
             [
              0.2222222222222222,
              "#7201a8"
             ],
             [
              0.3333333333333333,
              "#9c179e"
             ],
             [
              0.4444444444444444,
              "#bd3786"
             ],
             [
              0.5555555555555556,
              "#d8576b"
             ],
             [
              0.6666666666666666,
              "#ed7953"
             ],
             [
              0.7777777777777778,
              "#fb9f3a"
             ],
             [
              0.8888888888888888,
              "#fdca26"
             ],
             [
              1,
              "#f0f921"
             ]
            ],
            "type": "contour"
           }
          ],
          "contourcarpet": [
           {
            "colorbar": {
             "outlinewidth": 0,
             "ticks": ""
            },
            "type": "contourcarpet"
           }
          ],
          "heatmap": [
           {
            "colorbar": {
             "outlinewidth": 0,
             "ticks": ""
            },
            "colorscale": [
             [
              0,
              "#0d0887"
             ],
             [
              0.1111111111111111,
              "#46039f"
             ],
             [
              0.2222222222222222,
              "#7201a8"
             ],
             [
              0.3333333333333333,
              "#9c179e"
             ],
             [
              0.4444444444444444,
              "#bd3786"
             ],
             [
              0.5555555555555556,
              "#d8576b"
             ],
             [
              0.6666666666666666,
              "#ed7953"
             ],
             [
              0.7777777777777778,
              "#fb9f3a"
             ],
             [
              0.8888888888888888,
              "#fdca26"
             ],
             [
              1,
              "#f0f921"
             ]
            ],
            "type": "heatmap"
           }
          ],
          "heatmapgl": [
           {
            "colorbar": {
             "outlinewidth": 0,
             "ticks": ""
            },
            "colorscale": [
             [
              0,
              "#0d0887"
             ],
             [
              0.1111111111111111,
              "#46039f"
             ],
             [
              0.2222222222222222,
              "#7201a8"
             ],
             [
              0.3333333333333333,
              "#9c179e"
             ],
             [
              0.4444444444444444,
              "#bd3786"
             ],
             [
              0.5555555555555556,
              "#d8576b"
             ],
             [
              0.6666666666666666,
              "#ed7953"
             ],
             [
              0.7777777777777778,
              "#fb9f3a"
             ],
             [
              0.8888888888888888,
              "#fdca26"
             ],
             [
              1,
              "#f0f921"
             ]
            ],
            "type": "heatmapgl"
           }
          ],
          "histogram": [
           {
            "marker": {
             "pattern": {
              "fillmode": "overlay",
              "size": 10,
              "solidity": 0.2
             }
            },
            "type": "histogram"
           }
          ],
          "histogram2d": [
           {
            "colorbar": {
             "outlinewidth": 0,
             "ticks": ""
            },
            "colorscale": [
             [
              0,
              "#0d0887"
             ],
             [
              0.1111111111111111,
              "#46039f"
             ],
             [
              0.2222222222222222,
              "#7201a8"
             ],
             [
              0.3333333333333333,
              "#9c179e"
             ],
             [
              0.4444444444444444,
              "#bd3786"
             ],
             [
              0.5555555555555556,
              "#d8576b"
             ],
             [
              0.6666666666666666,
              "#ed7953"
             ],
             [
              0.7777777777777778,
              "#fb9f3a"
             ],
             [
              0.8888888888888888,
              "#fdca26"
             ],
             [
              1,
              "#f0f921"
             ]
            ],
            "type": "histogram2d"
           }
          ],
          "histogram2dcontour": [
           {
            "colorbar": {
             "outlinewidth": 0,
             "ticks": ""
            },
            "colorscale": [
             [
              0,
              "#0d0887"
             ],
             [
              0.1111111111111111,
              "#46039f"
             ],
             [
              0.2222222222222222,
              "#7201a8"
             ],
             [
              0.3333333333333333,
              "#9c179e"
             ],
             [
              0.4444444444444444,
              "#bd3786"
             ],
             [
              0.5555555555555556,
              "#d8576b"
             ],
             [
              0.6666666666666666,
              "#ed7953"
             ],
             [
              0.7777777777777778,
              "#fb9f3a"
             ],
             [
              0.8888888888888888,
              "#fdca26"
             ],
             [
              1,
              "#f0f921"
             ]
            ],
            "type": "histogram2dcontour"
           }
          ],
          "mesh3d": [
           {
            "colorbar": {
             "outlinewidth": 0,
             "ticks": ""
            },
            "type": "mesh3d"
           }
          ],
          "parcoords": [
           {
            "line": {
             "colorbar": {
              "outlinewidth": 0,
              "ticks": ""
             }
            },
            "type": "parcoords"
           }
          ],
          "pie": [
           {
            "automargin": true,
            "type": "pie"
           }
          ],
          "scatter": [
           {
            "fillpattern": {
             "fillmode": "overlay",
             "size": 10,
             "solidity": 0.2
            },
            "type": "scatter"
           }
          ],
          "scatter3d": [
           {
            "line": {
             "colorbar": {
              "outlinewidth": 0,
              "ticks": ""
             }
            },
            "marker": {
             "colorbar": {
              "outlinewidth": 0,
              "ticks": ""
             }
            },
            "type": "scatter3d"
           }
          ],
          "scattercarpet": [
           {
            "marker": {
             "colorbar": {
              "outlinewidth": 0,
              "ticks": ""
             }
            },
            "type": "scattercarpet"
           }
          ],
          "scattergeo": [
           {
            "marker": {
             "colorbar": {
              "outlinewidth": 0,
              "ticks": ""
             }
            },
            "type": "scattergeo"
           }
          ],
          "scattergl": [
           {
            "marker": {
             "colorbar": {
              "outlinewidth": 0,
              "ticks": ""
             }
            },
            "type": "scattergl"
           }
          ],
          "scattermapbox": [
           {
            "marker": {
             "colorbar": {
              "outlinewidth": 0,
              "ticks": ""
             }
            },
            "type": "scattermapbox"
           }
          ],
          "scatterpolar": [
           {
            "marker": {
             "colorbar": {
              "outlinewidth": 0,
              "ticks": ""
             }
            },
            "type": "scatterpolar"
           }
          ],
          "scatterpolargl": [
           {
            "marker": {
             "colorbar": {
              "outlinewidth": 0,
              "ticks": ""
             }
            },
            "type": "scatterpolargl"
           }
          ],
          "scatterternary": [
           {
            "marker": {
             "colorbar": {
              "outlinewidth": 0,
              "ticks": ""
             }
            },
            "type": "scatterternary"
           }
          ],
          "surface": [
           {
            "colorbar": {
             "outlinewidth": 0,
             "ticks": ""
            },
            "colorscale": [
             [
              0,
              "#0d0887"
             ],
             [
              0.1111111111111111,
              "#46039f"
             ],
             [
              0.2222222222222222,
              "#7201a8"
             ],
             [
              0.3333333333333333,
              "#9c179e"
             ],
             [
              0.4444444444444444,
              "#bd3786"
             ],
             [
              0.5555555555555556,
              "#d8576b"
             ],
             [
              0.6666666666666666,
              "#ed7953"
             ],
             [
              0.7777777777777778,
              "#fb9f3a"
             ],
             [
              0.8888888888888888,
              "#fdca26"
             ],
             [
              1,
              "#f0f921"
             ]
            ],
            "type": "surface"
           }
          ],
          "table": [
           {
            "cells": {
             "fill": {
              "color": "#EBF0F8"
             },
             "line": {
              "color": "white"
             }
            },
            "header": {
             "fill": {
              "color": "#C8D4E3"
             },
             "line": {
              "color": "white"
             }
            },
            "type": "table"
           }
          ]
         },
         "layout": {
          "annotationdefaults": {
           "arrowcolor": "#2a3f5f",
           "arrowhead": 0,
           "arrowwidth": 1
          },
          "autotypenumbers": "strict",
          "coloraxis": {
           "colorbar": {
            "outlinewidth": 0,
            "ticks": ""
           }
          },
          "colorscale": {
           "diverging": [
            [
             0,
             "#8e0152"
            ],
            [
             0.1,
             "#c51b7d"
            ],
            [
             0.2,
             "#de77ae"
            ],
            [
             0.3,
             "#f1b6da"
            ],
            [
             0.4,
             "#fde0ef"
            ],
            [
             0.5,
             "#f7f7f7"
            ],
            [
             0.6,
             "#e6f5d0"
            ],
            [
             0.7,
             "#b8e186"
            ],
            [
             0.8,
             "#7fbc41"
            ],
            [
             0.9,
             "#4d9221"
            ],
            [
             1,
             "#276419"
            ]
           ],
           "sequential": [
            [
             0,
             "#0d0887"
            ],
            [
             0.1111111111111111,
             "#46039f"
            ],
            [
             0.2222222222222222,
             "#7201a8"
            ],
            [
             0.3333333333333333,
             "#9c179e"
            ],
            [
             0.4444444444444444,
             "#bd3786"
            ],
            [
             0.5555555555555556,
             "#d8576b"
            ],
            [
             0.6666666666666666,
             "#ed7953"
            ],
            [
             0.7777777777777778,
             "#fb9f3a"
            ],
            [
             0.8888888888888888,
             "#fdca26"
            ],
            [
             1,
             "#f0f921"
            ]
           ],
           "sequentialminus": [
            [
             0,
             "#0d0887"
            ],
            [
             0.1111111111111111,
             "#46039f"
            ],
            [
             0.2222222222222222,
             "#7201a8"
            ],
            [
             0.3333333333333333,
             "#9c179e"
            ],
            [
             0.4444444444444444,
             "#bd3786"
            ],
            [
             0.5555555555555556,
             "#d8576b"
            ],
            [
             0.6666666666666666,
             "#ed7953"
            ],
            [
             0.7777777777777778,
             "#fb9f3a"
            ],
            [
             0.8888888888888888,
             "#fdca26"
            ],
            [
             1,
             "#f0f921"
            ]
           ]
          },
          "colorway": [
           "#636efa",
           "#EF553B",
           "#00cc96",
           "#ab63fa",
           "#FFA15A",
           "#19d3f3",
           "#FF6692",
           "#B6E880",
           "#FF97FF",
           "#FECB52"
          ],
          "font": {
           "color": "#2a3f5f"
          },
          "geo": {
           "bgcolor": "white",
           "lakecolor": "white",
           "landcolor": "#E5ECF6",
           "showlakes": true,
           "showland": true,
           "subunitcolor": "white"
          },
          "hoverlabel": {
           "align": "left"
          },
          "hovermode": "closest",
          "mapbox": {
           "style": "light"
          },
          "paper_bgcolor": "white",
          "plot_bgcolor": "#E5ECF6",
          "polar": {
           "angularaxis": {
            "gridcolor": "white",
            "linecolor": "white",
            "ticks": ""
           },
           "bgcolor": "#E5ECF6",
           "radialaxis": {
            "gridcolor": "white",
            "linecolor": "white",
            "ticks": ""
           }
          },
          "scene": {
           "xaxis": {
            "backgroundcolor": "#E5ECF6",
            "gridcolor": "white",
            "gridwidth": 2,
            "linecolor": "white",
            "showbackground": true,
            "ticks": "",
            "zerolinecolor": "white"
           },
           "yaxis": {
            "backgroundcolor": "#E5ECF6",
            "gridcolor": "white",
            "gridwidth": 2,
            "linecolor": "white",
            "showbackground": true,
            "ticks": "",
            "zerolinecolor": "white"
           },
           "zaxis": {
            "backgroundcolor": "#E5ECF6",
            "gridcolor": "white",
            "gridwidth": 2,
            "linecolor": "white",
            "showbackground": true,
            "ticks": "",
            "zerolinecolor": "white"
           }
          },
          "shapedefaults": {
           "line": {
            "color": "#2a3f5f"
           }
          },
          "ternary": {
           "aaxis": {
            "gridcolor": "white",
            "linecolor": "white",
            "ticks": ""
           },
           "baxis": {
            "gridcolor": "white",
            "linecolor": "white",
            "ticks": ""
           },
           "bgcolor": "#E5ECF6",
           "caxis": {
            "gridcolor": "white",
            "linecolor": "white",
            "ticks": ""
           }
          },
          "title": {
           "x": 0.05
          },
          "xaxis": {
           "automargin": true,
           "gridcolor": "white",
           "linecolor": "white",
           "ticks": "",
           "title": {
            "standoff": 15
           },
           "zerolinecolor": "white",
           "zerolinewidth": 2
          },
          "yaxis": {
           "automargin": true,
           "gridcolor": "white",
           "linecolor": "white",
           "ticks": "",
           "title": {
            "standoff": 15
           },
           "zerolinecolor": "white",
           "zerolinewidth": 2
          }
         }
        },
        "title": {
         "text": "DS Applicants by Country"
        },
        "xaxis": {
         "anchor": "y",
         "autorange": true,
         "domain": [
          0,
          1
         ],
         "range": [
          0,
          25.933490442524217
         ],
         "title": {
          "text": "Frequency [%]"
         },
         "type": "linear"
        },
        "yaxis": {
         "anchor": "x",
         "autorange": true,
         "domain": [
          0,
          1
         ],
         "range": [
          -0.5,
          9.5
         ],
         "title": {
          "text": "Country"
         },
         "type": "category"
        }
       }
      },
      "image/png": "[encoded data removed]",
      "text/html": [
       "<div>                            <div id=\"634cd1d8-5caf-495c-80df-5559c6836b29\" class=\"plotly-graph-div\" style=\"height:525px; width:100%;\"></div>            <script type=\"text/javascript\">                require([\"plotly\"], function(Plotly) {                    window.PLOTLYENV=window.PLOTLYENV || {};                                    if (document.getElementById(\"634cd1d8-5caf-495c-80df-5559c6836b29\")) {                    Plotly.newPlot(                        \"634cd1d8-5caf-495c-80df-5559c6836b29\",                        [{\"alignmentgroup\":\"True\",\"hovertemplate\":\"count_pct=%{x}<br>country_name=%{y}<extra></extra>\",\"legendgroup\":\"\",\"marker\":{\"color\":\"#636efa\",\"pattern\":{\"shape\":\"\"}},\"name\":\"\",\"offsetgroup\":\"\",\"orientation\":\"h\",\"showlegend\":false,\"textposition\":\"auto\",\"x\":[1.8706467661691544,1.9303482587064675,2.1691542288557213,3.323383084577115,3.7213930348258706,5.054726368159204,6.0497512437810945,10.16915422885572,11.303482587064677,24.636815920398007],\"xaxis\":\"x\",\"y\":[\"Zimbabwe\",\"United States\",\"Philippines\",\"Ghana\",\"Ethiopia\",\"Bangladesh\",\"Kenya\",\"India\",\"Pakistan\",\"Nigeria\"],\"yaxis\":\"y\",\"type\":\"bar\"}],                        {\"template\":{\"data\":{\"histogram2dcontour\":[{\"type\":\"histogram2dcontour\",\"colorbar\":{\"outlinewidth\":0,\"ticks\":\"\"},\"colorscale\":[[0.0,\"#0d0887\"],[0.1111111111111111,\"#46039f\"],[0.2222222222222222,\"#7201a8\"],[0.3333333333333333,\"#9c179e\"],[0.4444444444444444,\"#bd3786\"],[0.5555555555555556,\"#d8576b\"],[0.6666666666666666,\"#ed7953\"],[0.7777777777777778,\"#fb9f3a\"],[0.8888888888888888,\"#fdca26\"],[1.0,\"#f0f921\"]]}],\"choropleth\":[{\"type\":\"choropleth\",\"colorbar\":{\"outlinewidth\":0,\"ticks\":\"\"}}],\"histogram2d\":[{\"type\":\"histogram2d\",\"colorbar\":{\"outlinewidth\":0,\"ticks\":\"\"},\"colorscale\":[[0.0,\"#0d0887\"],[0.1111111111111111,\"#46039f\"],[0.2222222222222222,\"#7201a8\"],[0.3333333333333333,\"#9c179e\"],[0.4444444444444444,\"#bd3786\"],[0.5555555555555556,\"#d8576b\"],[0.6666666666666666,\"#ed7953\"],[0.7777777777777778,\"#fb9f3a\"],[0.8888888888888888,\"#fdca26\"],[1.0,\"#f0f921\"]]}],\"heatmap\":[{\"type\":\"heatmap\",\"colorbar\":{\"outlinewidth\":0,\"ticks\":\"\"},\"colorscale\":[[0.0,\"#0d0887\"],[0.1111111111111111,\"#46039f\"],[0.2222222222222222,\"#7201a8\"],[0.3333333333333333,\"#9c179e\"],[0.4444444444444444,\"#bd3786\"],[0.5555555555555556,\"#d8576b\"],[0.6666666666666666,\"#ed7953\"],[0.7777777777777778,\"#fb9f3a\"],[0.8888888888888888,\"#fdca26\"],[1.0,\"#f0f921\"]]}],\"heatmapgl\":[{\"type\":\"heatmapgl\",\"colorbar\":{\"outlinewidth\":0,\"ticks\":\"\"},\"colorscale\":[[0.0,\"#0d0887\"],[0.1111111111111111,\"#46039f\"],[0.2222222222222222,\"#7201a8\"],[0.3333333333333333,\"#9c179e\"],[0.4444444444444444,\"#bd3786\"],[0.5555555555555556,\"#d8576b\"],[0.6666666666666666,\"#ed7953\"],[0.7777777777777778,\"#fb9f3a\"],[0.8888888888888888,\"#fdca26\"],[1.0,\"#f0f921\"]]}],\"contourcarpet\":[{\"type\":\"contourcarpet\",\"colorbar\":{\"outlinewidth\":0,\"ticks\":\"\"}}],\"contour\":[{\"type\":\"contour\",\"colorbar\":{\"outlinewidth\":0,\"ticks\":\"\"},\"colorscale\":[[0.0,\"#0d0887\"],[0.1111111111111111,\"#46039f\"],[0.2222222222222222,\"#7201a8\"],[0.3333333333333333,\"#9c179e\"],[0.4444444444444444,\"#bd3786\"],[0.5555555555555556,\"#d8576b\"],[0.6666666666666666,\"#ed7953\"],[0.7777777777777778,\"#fb9f3a\"],[0.8888888888888888,\"#fdca26\"],[1.0,\"#f0f921\"]]}],\"surface\":[{\"type\":\"surface\",\"colorbar\":{\"outlinewidth\":0,\"ticks\":\"\"},\"colorscale\":[[0.0,\"#0d0887\"],[0.1111111111111111,\"#46039f\"],[0.2222222222222222,\"#7201a8\"],[0.3333333333333333,\"#9c179e\"],[0.4444444444444444,\"#bd3786\"],[0.5555555555555556,\"#d8576b\"],[0.6666666666666666,\"#ed7953\"],[0.7777777777777778,\"#fb9f3a\"],[0.8888888888888888,\"#fdca26\"],[1.0,\"#f0f921\"]]}],\"mesh3d\":[{\"type\":\"mesh3d\",\"colorbar\":{\"outlinewidth\":0,\"ticks\":\"\"}}],\"scatter\":[{\"fillpattern\":{\"fillmode\":\"overlay\",\"size\":10,\"solidity\":0.2},\"type\":\"scatter\"}],\"parcoords\":[{\"type\":\"parcoords\",\"line\":{\"colorbar\":{\"outlinewidth\":0,\"ticks\":\"\"}}}],\"scatterpolargl\":[{\"type\":\"scatterpolargl\",\"marker\":{\"colorbar\":{\"outlinewidth\":0,\"ticks\":\"\"}}}],\"bar\":[{\"error_x\":{\"color\":\"#2a3f5f\"},\"error_y\":{\"color\":\"#2a3f5f\"},\"marker\":{\"line\":{\"color\":\"#E5ECF6\",\"width\":0.5},\"pattern\":{\"fillmode\":\"overlay\",\"size\":10,\"solidity\":0.2}},\"type\":\"bar\"}],\"scattergeo\":[{\"type\":\"scattergeo\",\"marker\":{\"colorbar\":{\"outlinewidth\":0,\"ticks\":\"\"}}}],\"scatterpolar\":[{\"type\":\"scatterpolar\",\"marker\":{\"colorbar\":{\"outlinewidth\":0,\"ticks\":\"\"}}}],\"histogram\":[{\"marker\":{\"pattern\":{\"fillmode\":\"overlay\",\"size\":10,\"solidity\":0.2}},\"type\":\"histogram\"}],\"scattergl\":[{\"type\":\"scattergl\",\"marker\":{\"colorbar\":{\"outlinewidth\":0,\"ticks\":\"\"}}}],\"scatter3d\":[{\"type\":\"scatter3d\",\"line\":{\"colorbar\":{\"outlinewidth\":0,\"ticks\":\"\"}},\"marker\":{\"colorbar\":{\"outlinewidth\":0,\"ticks\":\"\"}}}],\"scattermapbox\":[{\"type\":\"scattermapbox\",\"marker\":{\"colorbar\":{\"outlinewidth\":0,\"ticks\":\"\"}}}],\"scatterternary\":[{\"type\":\"scatterternary\",\"marker\":{\"colorbar\":{\"outlinewidth\":0,\"ticks\":\"\"}}}],\"scattercarpet\":[{\"type\":\"scattercarpet\",\"marker\":{\"colorbar\":{\"outlinewidth\":0,\"ticks\":\"\"}}}],\"carpet\":[{\"aaxis\":{\"endlinecolor\":\"#2a3f5f\",\"gridcolor\":\"white\",\"linecolor\":\"white\",\"minorgridcolor\":\"white\",\"startlinecolor\":\"#2a3f5f\"},\"baxis\":{\"endlinecolor\":\"#2a3f5f\",\"gridcolor\":\"white\",\"linecolor\":\"white\",\"minorgridcolor\":\"white\",\"startlinecolor\":\"#2a3f5f\"},\"type\":\"carpet\"}],\"table\":[{\"cells\":{\"fill\":{\"color\":\"#EBF0F8\"},\"line\":{\"color\":\"white\"}},\"header\":{\"fill\":{\"color\":\"#C8D4E3\"},\"line\":{\"color\":\"white\"}},\"type\":\"table\"}],\"barpolar\":[{\"marker\":{\"line\":{\"color\":\"#E5ECF6\",\"width\":0.5},\"pattern\":{\"fillmode\":\"overlay\",\"size\":10,\"solidity\":0.2}},\"type\":\"barpolar\"}],\"pie\":[{\"automargin\":true,\"type\":\"pie\"}]},\"layout\":{\"autotypenumbers\":\"strict\",\"colorway\":[\"#636efa\",\"#EF553B\",\"#00cc96\",\"#ab63fa\",\"#FFA15A\",\"#19d3f3\",\"#FF6692\",\"#B6E880\",\"#FF97FF\",\"#FECB52\"],\"font\":{\"color\":\"#2a3f5f\"},\"hovermode\":\"closest\",\"hoverlabel\":{\"align\":\"left\"},\"paper_bgcolor\":\"white\",\"plot_bgcolor\":\"#E5ECF6\",\"polar\":{\"bgcolor\":\"#E5ECF6\",\"angularaxis\":{\"gridcolor\":\"white\",\"linecolor\":\"white\",\"ticks\":\"\"},\"radialaxis\":{\"gridcolor\":\"white\",\"linecolor\":\"white\",\"ticks\":\"\"}},\"ternary\":{\"bgcolor\":\"#E5ECF6\",\"aaxis\":{\"gridcolor\":\"white\",\"linecolor\":\"white\",\"ticks\":\"\"},\"baxis\":{\"gridcolor\":\"white\",\"linecolor\":\"white\",\"ticks\":\"\"},\"caxis\":{\"gridcolor\":\"white\",\"linecolor\":\"white\",\"ticks\":\"\"}},\"coloraxis\":{\"colorbar\":{\"outlinewidth\":0,\"ticks\":\"\"}},\"colorscale\":{\"sequential\":[[0.0,\"#0d0887\"],[0.1111111111111111,\"#46039f\"],[0.2222222222222222,\"#7201a8\"],[0.3333333333333333,\"#9c179e\"],[0.4444444444444444,\"#bd3786\"],[0.5555555555555556,\"#d8576b\"],[0.6666666666666666,\"#ed7953\"],[0.7777777777777778,\"#fb9f3a\"],[0.8888888888888888,\"#fdca26\"],[1.0,\"#f0f921\"]],\"sequentialminus\":[[0.0,\"#0d0887\"],[0.1111111111111111,\"#46039f\"],[0.2222222222222222,\"#7201a8\"],[0.3333333333333333,\"#9c179e\"],[0.4444444444444444,\"#bd3786\"],[0.5555555555555556,\"#d8576b\"],[0.6666666666666666,\"#ed7953\"],[0.7777777777777778,\"#fb9f3a\"],[0.8888888888888888,\"#fdca26\"],[1.0,\"#f0f921\"]],\"diverging\":[[0,\"#8e0152\"],[0.1,\"#c51b7d\"],[0.2,\"#de77ae\"],[0.3,\"#f1b6da\"],[0.4,\"#fde0ef\"],[0.5,\"#f7f7f7\"],[0.6,\"#e6f5d0\"],[0.7,\"#b8e186\"],[0.8,\"#7fbc41\"],[0.9,\"#4d9221\"],[1,\"#276419\"]]},\"xaxis\":{\"gridcolor\":\"white\",\"linecolor\":\"white\",\"ticks\":\"\",\"title\":{\"standoff\":15},\"zerolinecolor\":\"white\",\"automargin\":true,\"zerolinewidth\":2},\"yaxis\":{\"gridcolor\":\"white\",\"linecolor\":\"white\",\"ticks\":\"\",\"title\":{\"standoff\":15},\"zerolinecolor\":\"white\",\"automargin\":true,\"zerolinewidth\":2},\"scene\":{\"xaxis\":{\"backgroundcolor\":\"#E5ECF6\",\"gridcolor\":\"white\",\"linecolor\":\"white\",\"showbackground\":true,\"ticks\":\"\",\"zerolinecolor\":\"white\",\"gridwidth\":2},\"yaxis\":{\"backgroundcolor\":\"#E5ECF6\",\"gridcolor\":\"white\",\"linecolor\":\"white\",\"showbackground\":true,\"ticks\":\"\",\"zerolinecolor\":\"white\",\"gridwidth\":2},\"zaxis\":{\"backgroundcolor\":\"#E5ECF6\",\"gridcolor\":\"white\",\"linecolor\":\"white\",\"showbackground\":true,\"ticks\":\"\",\"zerolinecolor\":\"white\",\"gridwidth\":2}},\"shapedefaults\":{\"line\":{\"color\":\"#2a3f5f\"}},\"annotationdefaults\":{\"arrowcolor\":\"#2a3f5f\",\"arrowhead\":0,\"arrowwidth\":1},\"geo\":{\"bgcolor\":\"white\",\"landcolor\":\"#E5ECF6\",\"subunitcolor\":\"white\",\"showland\":true,\"showlakes\":true,\"lakecolor\":\"white\"},\"title\":{\"x\":0.05},\"mapbox\":{\"style\":\"light\"}}},\"xaxis\":{\"anchor\":\"y\",\"domain\":[0.0,1.0],\"title\":{\"text\":\"Frequency [%]\"}},\"yaxis\":{\"anchor\":\"x\",\"domain\":[0.0,1.0],\"title\":{\"text\":\"Country\"}},\"legend\":{\"tracegroupgap\":0},\"title\":{\"text\":\"DS Applicants by Country\"},\"barmode\":\"relative\"},                        {\"responsive\": true}                    ).then(function(){\n",
       "                            \n",
       "var gd = document.getElementById('634cd1d8-5caf-495c-80df-5559c6836b29');\n",
       "var x = new MutationObserver(function (mutations, observer) {{\n",
       "        var display = window.getComputedStyle(gd).display;\n",
       "        if (!display || display === 'none') {{\n",
       "            console.log([gd, 'removed!']);\n",
       "            Plotly.purge(gd);\n",
       "            observer.disconnect();\n",
       "        }}\n",
       "}});\n",
       "\n",
       "// Listen for the removal of the full notebook cells\n",
       "var notebookContainer = gd.closest('#notebook-container');\n",
       "if (notebookContainer) {{\n",
       "    x.observe(notebookContainer, {childList: true});\n",
       "}}\n",
       "\n",
       "// Listen for the clearing of the current output cell\n",
       "var outputEl = gd.closest('.output');\n",
       "if (outputEl) {{\n",
       "    x.observe(outputEl, {childList: true});\n",
       "}}\n",
       "\n",
       "                        })                };                });            </script>        </div>"
      ]
     },
     "metadata": {},
     "output_type": "display_data"
    }
   ],
   "source": [
    "# Create horizontal bar chart\n",
    "fig = px.bar(\n",
    "data_frame=df_nationality.tail(10),\n",
    "    x=\"count_pct\",\n",
    "    y=\"country_name\",\n",
    "    orientation=\"h\",\n",
    "    title=\"DS Applicants by Country\"\n",
    ")\n",
    "# Set axis labels\n",
    "fig.update_layout(xaxis_title=\"Frequency [%]\",yaxis_title=\"Country\")\n",
    "\n",
    "\n",
    "fig.show()"
   ]
  },
  {
   "cell_type": "markdown",
   "id": "d49f62bf-a1ae-4e6a-9943-2eec9b03bc06",
   "metadata": {
    "deletable": false,
    "editable": false
   },
   "source": [
    "Bar charts are useful, but since we're talking about actual places here, let's see how this data looks when we put it on a world map. However, plotly express requires the [ISO 3166-1 alpha-3](https://en.wikipedia.org/wiki/ISO_3166-1_alpha-3) codes. This means that we'll need to add another column to our DataFrame before we can make our visualization."
   ]
  },
  {
   "cell_type": "code",
   "execution_count": 46,
   "id": "52b58481-c6b7-4e91-bbb0-de290060d64e",
   "metadata": {
    "deletable": false,
    "editable": false,
    "init_cell": true
   },
   "outputs": [
    {
     "data": {
      "text/html": [
       "\n",
       "        <iframe\n",
       "            width=\"600\"\n",
       "            height=\"300\"\n",
       "            src=\"https://player.vimeo.com/video/733370726?h=2b21ee76d2\"\n",
       "            frameborder=\"0\"\n",
       "            allowfullscreen\n",
       "            \n",
       "        ></iframe>\n",
       "        "
      ],
      "text/plain": [
       "<IPython.lib.display.VimeoVideo at 0x7f47689fd940>"
      ]
     },
     "execution_count": 46,
     "metadata": {},
     "output_type": "execute_result"
    }
   ],
   "source": [
    "VimeoVideo(\"733370726\", h=\"2b21ee76d2\", width=600)"
   ]
  },
  {
   "cell_type": "markdown",
   "id": "faf873d3-9736-43a2-8119-1c34661c6b51",
   "metadata": {
    "deletable": false,
    "editable": false
   },
   "source": [
    "**Task 7.1.13:** Add a column named `\"country_iso3\"` to `df_nationality`. It should contain the 3-letter ISO abbreviation for each country in `\"country_iso2\"`. \n",
    "\n",
    "- [Create new columns derived from existing columns in a DataFrame using pandas.](../%40textbook/03-pandas-getting-started.ipynb#Adding-Columns) "
   ]
  },
  {
   "cell_type": "code",
   "execution_count": 42,
   "id": "247f9d15-fa86-4e7d-80d1-92b42041e5f9",
   "metadata": {
    "deletable": false
   },
   "outputs": [
    {
     "name": "stdout",
     "output_type": "stream",
     "text": [
      "df_nationality shape: (139, 5)\n"
     ]
    },
    {
     "data": {
      "text/html": [
       "<div>\n",
       "<style scoped>\n",
       "    .dataframe tbody tr th:only-of-type {\n",
       "        vertical-align: middle;\n",
       "    }\n",
       "\n",
       "    .dataframe tbody tr th {\n",
       "        vertical-align: top;\n",
       "    }\n",
       "\n",
       "    .dataframe thead th {\n",
       "        text-align: right;\n",
       "    }\n",
       "</style>\n",
       "<table border=\"1\" class=\"dataframe\">\n",
       "  <thead>\n",
       "    <tr style=\"text-align: right;\">\n",
       "      <th></th>\n",
       "      <th>country_iso2</th>\n",
       "      <th>count</th>\n",
       "      <th>country_name</th>\n",
       "      <th>count_pct</th>\n",
       "      <th>country_iso3</th>\n",
       "    </tr>\n",
       "  </thead>\n",
       "  <tbody>\n",
       "    <tr>\n",
       "      <th>124</th>\n",
       "      <td>TM</td>\n",
       "      <td>1</td>\n",
       "      <td>Turkmenistan</td>\n",
       "      <td>0.0199</td>\n",
       "      <td>TKM</td>\n",
       "    </tr>\n",
       "    <tr>\n",
       "      <th>133</th>\n",
       "      <td>GY</td>\n",
       "      <td>1</td>\n",
       "      <td>Guyana</td>\n",
       "      <td>0.0199</td>\n",
       "      <td>GUY</td>\n",
       "    </tr>\n",
       "    <tr>\n",
       "      <th>22</th>\n",
       "      <td>VE</td>\n",
       "      <td>1</td>\n",
       "      <td>Venezuela</td>\n",
       "      <td>0.0199</td>\n",
       "      <td>VEN</td>\n",
       "    </tr>\n",
       "    <tr>\n",
       "      <th>56</th>\n",
       "      <td>SE</td>\n",
       "      <td>1</td>\n",
       "      <td>Sweden</td>\n",
       "      <td>0.0199</td>\n",
       "      <td>SWE</td>\n",
       "    </tr>\n",
       "    <tr>\n",
       "      <th>26</th>\n",
       "      <td>BA</td>\n",
       "      <td>1</td>\n",
       "      <td>Bosnia and Herzegovina</td>\n",
       "      <td>0.0199</td>\n",
       "      <td>BIH</td>\n",
       "    </tr>\n",
       "  </tbody>\n",
       "</table>\n",
       "</div>"
      ],
      "text/plain": [
       "    country_iso2  count            country_name  count_pct country_iso3\n",
       "124           TM      1            Turkmenistan     0.0199          TKM\n",
       "133           GY      1                  Guyana     0.0199          GUY\n",
       "22            VE      1               Venezuela     0.0199          VEN\n",
       "56            SE      1                  Sweden     0.0199          SWE\n",
       "26            BA      1  Bosnia and Herzegovina     0.0199          BIH"
      ]
     },
     "execution_count": 42,
     "metadata": {},
     "output_type": "execute_result"
    }
   ],
   "source": [
    "df_nationality[\"country_iso3\"] = cc.convert(df_nationality[\"country_iso2\"],to=\"ISO3\")\n",
    "\n",
    "print(\"df_nationality shape:\", df_nationality.shape)\n",
    "df_nationality.head()"
   ]
  },
  {
   "cell_type": "markdown",
   "id": "a0da31f0-70f8-4f0b-ba98-9c802442ff57",
   "metadata": {
    "deletable": false,
    "editable": false
   },
   "source": [
    "Perfect! Let's turn the table into a map!"
   ]
  },
  {
   "cell_type": "code",
   "execution_count": 50,
   "id": "09ab923f-e84a-47f2-b6dd-bbfe5c184e7c",
   "metadata": {
    "deletable": false,
    "editable": false,
    "init_cell": true
   },
   "outputs": [
    {
     "data": {
      "text/html": [
       "\n",
       "        <iframe\n",
       "            width=\"600\"\n",
       "            height=\"300\"\n",
       "            src=\"https://player.vimeo.com/video/733369606?h=73a380a6c6\"\n",
       "            frameborder=\"0\"\n",
       "            allowfullscreen\n",
       "            \n",
       "        ></iframe>\n",
       "        "
      ],
      "text/plain": [
       "<IPython.lib.display.VimeoVideo at 0x7f47689b5a30>"
      ]
     },
     "execution_count": 50,
     "metadata": {},
     "output_type": "execute_result"
    }
   ],
   "source": [
    "VimeoVideo(\"733369606\", h=\"73a380a6c6\", width=600)"
   ]
  },
  {
   "cell_type": "markdown",
   "id": "8f899ed5-c8cc-424f-bffc-2d1fc2ea409d",
   "metadata": {
    "deletable": false,
    "editable": false
   },
   "source": [
    "**Task 7.1.14:** Create a function `build_nat_choropleth` that returns plotly choropleth map showing the `\"count\"` of DS applicants in each country in the globe. Be sure to set your `projection` to `\"natural earth\"`, and `color_continuous_scale` to `px.colors.sequential.Oranges`.\n",
    "\n",
    "- [What's a choropleth map?](../%40textbook/08-visualization-plotly.ipynb#Choropleth-Maps)\n",
    "- [Create a choropleth map using plotly express.](../%40textbook/08-visualization-plotly.ipynb#Choropleth-Maps)"
   ]
  },
  {
   "cell_type": "code",
   "execution_count": 43,
   "id": "4a2d5ef3-b96b-4e43-b77a-0120ef6e3270",
   "metadata": {
    "deletable": false
   },
   "outputs": [
    {
     "name": "stdout",
     "output_type": "stream",
     "text": [
      "nat_fig type: <class 'plotly.graph_objs._figure.Figure'>\n"
     ]
    },
    {
     "data": {
      "application/vnd.plotly.v1+json": {
       "config": {
        "plotlyServerURL": "https://plot.ly"
       },
       "data": [
        {
         "coloraxis": "coloraxis",
         "geo": "geo",
         "hovertemplate": "country_iso3=%{location}<br>count_pct=%{z}<extra></extra>",
         "locations": [
          "TKM",
          "GUY",
          "VEN",
          "SWE",
          "BIH",
          "DMA",
          "GNQ",
          "ROU",
          "MKD",
          "KHM",
          "PRT",
          "MAC",
          "GNB",
          "CHL",
          "GAB",
          "DJI",
          "STP",
          "AIA",
          "MRT",
          "VUT",
          "ISR",
          "VIR",
          "TLS",
          "CYP",
          "CRI",
          "AND",
          "BRB",
          "BEL",
          "SVK",
          "PER",
          "MDG",
          "BGR",
          "CZE",
          "ARG",
          "ARE",
          "BLR",
          "ERI",
          "HTI",
          "NLD",
          "CAF",
          "NER",
          "TON",
          "WSM",
          "HUN",
          "TJK",
          "COM",
          "MNG",
          "GRC",
          "SRB",
          "PRI",
          "PAN",
          "MUS",
          "BDI",
          "LBN",
          "POL",
          "AGO",
          "ARM",
          "GIN",
          "MMR",
          "ATG",
          "KGZ",
          "FJI",
          "COL",
          "ITA",
          "KAZ",
          "FRA",
          "BTN",
          "KOR",
          "TWN",
          "UKR",
          "COG",
          "SDN",
          "BFA",
          "PNG",
          "SEN",
          "HKG",
          "ESP",
          "JOR",
          "YEM",
          "UZB",
          "LBY",
          "NAM",
          "ALA",
          "AUS",
          "AZE",
          "MOZ",
          "RUS",
          "MLI",
          "TCD",
          "COD",
          "ALB",
          "MEX",
          "TUR",
          "DEU",
          "CAN",
          "CIV",
          "SWZ",
          "SSD",
          "MYS",
          "THA",
          "LSO",
          "BRA",
          "TUN",
          "MAR",
          "GBR",
          "BEN",
          "TGO",
          "SGP",
          "BWA",
          "IRQ",
          "GMB",
          "DZA",
          "LBR",
          "EGY",
          "LKA",
          "TZA",
          "CHN",
          "SLE",
          "RWA",
          "MWI",
          "IDN",
          "NPL",
          "SOM",
          "ZAF",
          "VNM",
          "CMR",
          "ZMB",
          "UGA",
          "AFG",
          "ZWE",
          "USA",
          "PHL",
          "GHA",
          "ETH",
          "BGD",
          "KEN",
          "IND",
          "PAK",
          "NGA"
         ],
         "name": "",
         "type": "choropleth",
         "z": [
          0.01990049751243781,
          0.01990049751243781,
          0.01990049751243781,
          0.01990049751243781,
          0.01990049751243781,
          0.01990049751243781,
          0.01990049751243781,
          0.01990049751243781,
          0.01990049751243781,
          0.01990049751243781,
          0.01990049751243781,
          0.01990049751243781,
          0.01990049751243781,
          0.01990049751243781,
          0.01990049751243781,
          0.01990049751243781,
          0.01990049751243781,
          0.01990049751243781,
          0.01990049751243781,
          0.01990049751243781,
          0.01990049751243781,
          0.01990049751243781,
          0.01990049751243781,
          0.01990049751243781,
          0.01990049751243781,
          0.01990049751243781,
          0.01990049751243781,
          0.01990049751243781,
          0.03980099502487562,
          0.03980099502487562,
          0.03980099502487562,
          0.03980099502487562,
          0.03980099502487562,
          0.03980099502487562,
          0.03980099502487562,
          0.03980099502487562,
          0.03980099502487562,
          0.03980099502487562,
          0.03980099502487562,
          0.03980099502487562,
          0.03980099502487562,
          0.03980099502487562,
          0.03980099502487562,
          0.03980099502487562,
          0.03980099502487562,
          0.03980099502487562,
          0.05970149253731343,
          0.05970149253731343,
          0.05970149253731343,
          0.05970149253731343,
          0.05970149253731343,
          0.05970149253731343,
          0.05970149253731343,
          0.05970149253731343,
          0.05970149253731343,
          0.05970149253731343,
          0.05970149253731343,
          0.05970149253731343,
          0.05970149253731343,
          0.05970149253731343,
          0.05970149253731343,
          0.07960199004975124,
          0.07960199004975124,
          0.07960199004975124,
          0.07960199004975124,
          0.07960199004975124,
          0.07960199004975124,
          0.09950248756218905,
          0.09950248756218905,
          0.09950248756218905,
          0.09950248756218905,
          0.09950248756218905,
          0.09950248756218905,
          0.11940298507462686,
          0.11940298507462686,
          0.11940298507462686,
          0.11940298507462686,
          0.11940298507462686,
          0.11940298507462686,
          0.11940298507462686,
          0.13930348258706468,
          0.13930348258706468,
          0.15920398009950248,
          0.15920398009950248,
          0.15920398009950248,
          0.1791044776119403,
          0.1791044776119403,
          0.1791044776119403,
          0.1990049751243781,
          0.21890547263681592,
          0.21890547263681592,
          0.23880597014925373,
          0.23880597014925373,
          0.23880597014925373,
          0.25870646766169153,
          0.25870646766169153,
          0.27860696517412936,
          0.27860696517412936,
          0.2985074626865672,
          0.2985074626865672,
          0.31840796019900497,
          0.31840796019900497,
          0.31840796019900497,
          0.31840796019900497,
          0.31840796019900497,
          0.3383084577114428,
          0.3383084577114428,
          0.3582089552238806,
          0.3980099502487562,
          0.3980099502487562,
          0.43781094527363185,
          0.47761194029850745,
          0.47761194029850745,
          0.5174129353233831,
          0.6368159203980099,
          0.7562189054726368,
          0.835820895522388,
          0.8955223880597015,
          0.8955223880597015,
          0.9950248756218906,
          1.0149253731343284,
          1.0547263681592038,
          1.0945273631840797,
          1.1343283582089554,
          1.2338308457711442,
          1.2736318407960199,
          1.3134328358208955,
          1.373134328358209,
          1.5323383084577114,
          1.8706467661691544,
          1.9303482587064675,
          2.1691542288557213,
          3.323383084577115,
          3.7213930348258706,
          5.054726368159204,
          6.0497512437810945,
          10.16915422885572,
          11.303482587064677,
          24.636815920398007
         ]
        }
       ],
       "layout": {
        "autosize": true,
        "coloraxis": {
         "colorbar": {
          "title": {
           "text": "count_pct"
          }
         },
         "colorscale": [
          [
           0,
           "rgb(255,245,235)"
          ],
          [
           0.125,
           "rgb(254,230,206)"
          ],
          [
           0.25,
           "rgb(253,208,162)"
          ],
          [
           0.375,
           "rgb(253,174,107)"
          ],
          [
           0.5,
           "rgb(253,141,60)"
          ],
          [
           0.625,
           "rgb(241,105,19)"
          ],
          [
           0.75,
           "rgb(217,72,1)"
          ],
          [
           0.875,
           "rgb(166,54,3)"
          ],
          [
           1,
           "rgb(127,39,4)"
          ]
         ]
        },
        "geo": {
         "center": {},
         "domain": {
          "x": [
           0,
           1
          ],
          "y": [
           0,
           1
          ]
         },
         "projection": {
          "type": "natural earth"
         }
        },
        "legend": {
         "tracegroupgap": 0
        },
        "template": {
         "data": {
          "bar": [
           {
            "error_x": {
             "color": "#2a3f5f"
            },
            "error_y": {
             "color": "#2a3f5f"
            },
            "marker": {
             "line": {
              "color": "#E5ECF6",
              "width": 0.5
             },
             "pattern": {
              "fillmode": "overlay",
              "size": 10,
              "solidity": 0.2
             }
            },
            "type": "bar"
           }
          ],
          "barpolar": [
           {
            "marker": {
             "line": {
              "color": "#E5ECF6",
              "width": 0.5
             },
             "pattern": {
              "fillmode": "overlay",
              "size": 10,
              "solidity": 0.2
             }
            },
            "type": "barpolar"
           }
          ],
          "carpet": [
           {
            "aaxis": {
             "endlinecolor": "#2a3f5f",
             "gridcolor": "white",
             "linecolor": "white",
             "minorgridcolor": "white",
             "startlinecolor": "#2a3f5f"
            },
            "baxis": {
             "endlinecolor": "#2a3f5f",
             "gridcolor": "white",
             "linecolor": "white",
             "minorgridcolor": "white",
             "startlinecolor": "#2a3f5f"
            },
            "type": "carpet"
           }
          ],
          "choropleth": [
           {
            "colorbar": {
             "outlinewidth": 0,
             "ticks": ""
            },
            "type": "choropleth"
           }
          ],
          "contour": [
           {
            "colorbar": {
             "outlinewidth": 0,
             "ticks": ""
            },
            "colorscale": [
             [
              0,
              "#0d0887"
             ],
             [
              0.1111111111111111,
              "#46039f"
             ],
             [
              0.2222222222222222,
              "#7201a8"
             ],
             [
              0.3333333333333333,
              "#9c179e"
             ],
             [
              0.4444444444444444,
              "#bd3786"
             ],
             [
              0.5555555555555556,
              "#d8576b"
             ],
             [
              0.6666666666666666,
              "#ed7953"
             ],
             [
              0.7777777777777778,
              "#fb9f3a"
             ],
             [
              0.8888888888888888,
              "#fdca26"
             ],
             [
              1,
              "#f0f921"
             ]
            ],
            "type": "contour"
           }
          ],
          "contourcarpet": [
           {
            "colorbar": {
             "outlinewidth": 0,
             "ticks": ""
            },
            "type": "contourcarpet"
           }
          ],
          "heatmap": [
           {
            "colorbar": {
             "outlinewidth": 0,
             "ticks": ""
            },
            "colorscale": [
             [
              0,
              "#0d0887"
             ],
             [
              0.1111111111111111,
              "#46039f"
             ],
             [
              0.2222222222222222,
              "#7201a8"
             ],
             [
              0.3333333333333333,
              "#9c179e"
             ],
             [
              0.4444444444444444,
              "#bd3786"
             ],
             [
              0.5555555555555556,
              "#d8576b"
             ],
             [
              0.6666666666666666,
              "#ed7953"
             ],
             [
              0.7777777777777778,
              "#fb9f3a"
             ],
             [
              0.8888888888888888,
              "#fdca26"
             ],
             [
              1,
              "#f0f921"
             ]
            ],
            "type": "heatmap"
           }
          ],
          "heatmapgl": [
           {
            "colorbar": {
             "outlinewidth": 0,
             "ticks": ""
            },
            "colorscale": [
             [
              0,
              "#0d0887"
             ],
             [
              0.1111111111111111,
              "#46039f"
             ],
             [
              0.2222222222222222,
              "#7201a8"
             ],
             [
              0.3333333333333333,
              "#9c179e"
             ],
             [
              0.4444444444444444,
              "#bd3786"
             ],
             [
              0.5555555555555556,
              "#d8576b"
             ],
             [
              0.6666666666666666,
              "#ed7953"
             ],
             [
              0.7777777777777778,
              "#fb9f3a"
             ],
             [
              0.8888888888888888,
              "#fdca26"
             ],
             [
              1,
              "#f0f921"
             ]
            ],
            "type": "heatmapgl"
           }
          ],
          "histogram": [
           {
            "marker": {
             "pattern": {
              "fillmode": "overlay",
              "size": 10,
              "solidity": 0.2
             }
            },
            "type": "histogram"
           }
          ],
          "histogram2d": [
           {
            "colorbar": {
             "outlinewidth": 0,
             "ticks": ""
            },
            "colorscale": [
             [
              0,
              "#0d0887"
             ],
             [
              0.1111111111111111,
              "#46039f"
             ],
             [
              0.2222222222222222,
              "#7201a8"
             ],
             [
              0.3333333333333333,
              "#9c179e"
             ],
             [
              0.4444444444444444,
              "#bd3786"
             ],
             [
              0.5555555555555556,
              "#d8576b"
             ],
             [
              0.6666666666666666,
              "#ed7953"
             ],
             [
              0.7777777777777778,
              "#fb9f3a"
             ],
             [
              0.8888888888888888,
              "#fdca26"
             ],
             [
              1,
              "#f0f921"
             ]
            ],
            "type": "histogram2d"
           }
          ],
          "histogram2dcontour": [
           {
            "colorbar": {
             "outlinewidth": 0,
             "ticks": ""
            },
            "colorscale": [
             [
              0,
              "#0d0887"
             ],
             [
              0.1111111111111111,
              "#46039f"
             ],
             [
              0.2222222222222222,
              "#7201a8"
             ],
             [
              0.3333333333333333,
              "#9c179e"
             ],
             [
              0.4444444444444444,
              "#bd3786"
             ],
             [
              0.5555555555555556,
              "#d8576b"
             ],
             [
              0.6666666666666666,
              "#ed7953"
             ],
             [
              0.7777777777777778,
              "#fb9f3a"
             ],
             [
              0.8888888888888888,
              "#fdca26"
             ],
             [
              1,
              "#f0f921"
             ]
            ],
            "type": "histogram2dcontour"
           }
          ],
          "mesh3d": [
           {
            "colorbar": {
             "outlinewidth": 0,
             "ticks": ""
            },
            "type": "mesh3d"
           }
          ],
          "parcoords": [
           {
            "line": {
             "colorbar": {
              "outlinewidth": 0,
              "ticks": ""
             }
            },
            "type": "parcoords"
           }
          ],
          "pie": [
           {
            "automargin": true,
            "type": "pie"
           }
          ],
          "scatter": [
           {
            "fillpattern": {
             "fillmode": "overlay",
             "size": 10,
             "solidity": 0.2
            },
            "type": "scatter"
           }
          ],
          "scatter3d": [
           {
            "line": {
             "colorbar": {
              "outlinewidth": 0,
              "ticks": ""
             }
            },
            "marker": {
             "colorbar": {
              "outlinewidth": 0,
              "ticks": ""
             }
            },
            "type": "scatter3d"
           }
          ],
          "scattercarpet": [
           {
            "marker": {
             "colorbar": {
              "outlinewidth": 0,
              "ticks": ""
             }
            },
            "type": "scattercarpet"
           }
          ],
          "scattergeo": [
           {
            "marker": {
             "colorbar": {
              "outlinewidth": 0,
              "ticks": ""
             }
            },
            "type": "scattergeo"
           }
          ],
          "scattergl": [
           {
            "marker": {
             "colorbar": {
              "outlinewidth": 0,
              "ticks": ""
             }
            },
            "type": "scattergl"
           }
          ],
          "scattermapbox": [
           {
            "marker": {
             "colorbar": {
              "outlinewidth": 0,
              "ticks": ""
             }
            },
            "type": "scattermapbox"
           }
          ],
          "scatterpolar": [
           {
            "marker": {
             "colorbar": {
              "outlinewidth": 0,
              "ticks": ""
             }
            },
            "type": "scatterpolar"
           }
          ],
          "scatterpolargl": [
           {
            "marker": {
             "colorbar": {
              "outlinewidth": 0,
              "ticks": ""
             }
            },
            "type": "scatterpolargl"
           }
          ],
          "scatterternary": [
           {
            "marker": {
             "colorbar": {
              "outlinewidth": 0,
              "ticks": ""
             }
            },
            "type": "scatterternary"
           }
          ],
          "surface": [
           {
            "colorbar": {
             "outlinewidth": 0,
             "ticks": ""
            },
            "colorscale": [
             [
              0,
              "#0d0887"
             ],
             [
              0.1111111111111111,
              "#46039f"
             ],
             [
              0.2222222222222222,
              "#7201a8"
             ],
             [
              0.3333333333333333,
              "#9c179e"
             ],
             [
              0.4444444444444444,
              "#bd3786"
             ],
             [
              0.5555555555555556,
              "#d8576b"
             ],
             [
              0.6666666666666666,
              "#ed7953"
             ],
             [
              0.7777777777777778,
              "#fb9f3a"
             ],
             [
              0.8888888888888888,
              "#fdca26"
             ],
             [
              1,
              "#f0f921"
             ]
            ],
            "type": "surface"
           }
          ],
          "table": [
           {
            "cells": {
             "fill": {
              "color": "#EBF0F8"
             },
             "line": {
              "color": "white"
             }
            },
            "header": {
             "fill": {
              "color": "#C8D4E3"
             },
             "line": {
              "color": "white"
             }
            },
            "type": "table"
           }
          ]
         },
         "layout": {
          "annotationdefaults": {
           "arrowcolor": "#2a3f5f",
           "arrowhead": 0,
           "arrowwidth": 1
          },
          "autotypenumbers": "strict",
          "coloraxis": {
           "colorbar": {
            "outlinewidth": 0,
            "ticks": ""
           }
          },
          "colorscale": {
           "diverging": [
            [
             0,
             "#8e0152"
            ],
            [
             0.1,
             "#c51b7d"
            ],
            [
             0.2,
             "#de77ae"
            ],
            [
             0.3,
             "#f1b6da"
            ],
            [
             0.4,
             "#fde0ef"
            ],
            [
             0.5,
             "#f7f7f7"
            ],
            [
             0.6,
             "#e6f5d0"
            ],
            [
             0.7,
             "#b8e186"
            ],
            [
             0.8,
             "#7fbc41"
            ],
            [
             0.9,
             "#4d9221"
            ],
            [
             1,
             "#276419"
            ]
           ],
           "sequential": [
            [
             0,
             "#0d0887"
            ],
            [
             0.1111111111111111,
             "#46039f"
            ],
            [
             0.2222222222222222,
             "#7201a8"
            ],
            [
             0.3333333333333333,
             "#9c179e"
            ],
            [
             0.4444444444444444,
             "#bd3786"
            ],
            [
             0.5555555555555556,
             "#d8576b"
            ],
            [
             0.6666666666666666,
             "#ed7953"
            ],
            [
             0.7777777777777778,
             "#fb9f3a"
            ],
            [
             0.8888888888888888,
             "#fdca26"
            ],
            [
             1,
             "#f0f921"
            ]
           ],
           "sequentialminus": [
            [
             0,
             "#0d0887"
            ],
            [
             0.1111111111111111,
             "#46039f"
            ],
            [
             0.2222222222222222,
             "#7201a8"
            ],
            [
             0.3333333333333333,
             "#9c179e"
            ],
            [
             0.4444444444444444,
             "#bd3786"
            ],
            [
             0.5555555555555556,
             "#d8576b"
            ],
            [
             0.6666666666666666,
             "#ed7953"
            ],
            [
             0.7777777777777778,
             "#fb9f3a"
            ],
            [
             0.8888888888888888,
             "#fdca26"
            ],
            [
             1,
             "#f0f921"
            ]
           ]
          },
          "colorway": [
           "#636efa",
           "#EF553B",
           "#00cc96",
           "#ab63fa",
           "#FFA15A",
           "#19d3f3",
           "#FF6692",
           "#B6E880",
           "#FF97FF",
           "#FECB52"
          ],
          "font": {
           "color": "#2a3f5f"
          },
          "geo": {
           "bgcolor": "white",
           "lakecolor": "white",
           "landcolor": "#E5ECF6",
           "showlakes": true,
           "showland": true,
           "subunitcolor": "white"
          },
          "hoverlabel": {
           "align": "left"
          },
          "hovermode": "closest",
          "mapbox": {
           "style": "light"
          },
          "paper_bgcolor": "white",
          "plot_bgcolor": "#E5ECF6",
          "polar": {
           "angularaxis": {
            "gridcolor": "white",
            "linecolor": "white",
            "ticks": ""
           },
           "bgcolor": "#E5ECF6",
           "radialaxis": {
            "gridcolor": "white",
            "linecolor": "white",
            "ticks": ""
           }
          },
          "scene": {
           "xaxis": {
            "backgroundcolor": "#E5ECF6",
            "gridcolor": "white",
            "gridwidth": 2,
            "linecolor": "white",
            "showbackground": true,
            "ticks": "",
            "zerolinecolor": "white"
           },
           "yaxis": {
            "backgroundcolor": "#E5ECF6",
            "gridcolor": "white",
            "gridwidth": 2,
            "linecolor": "white",
            "showbackground": true,
            "ticks": "",
            "zerolinecolor": "white"
           },
           "zaxis": {
            "backgroundcolor": "#E5ECF6",
            "gridcolor": "white",
            "gridwidth": 2,
            "linecolor": "white",
            "showbackground": true,
            "ticks": "",
            "zerolinecolor": "white"
           }
          },
          "shapedefaults": {
           "line": {
            "color": "#2a3f5f"
           }
          },
          "ternary": {
           "aaxis": {
            "gridcolor": "white",
            "linecolor": "white",
            "ticks": ""
           },
           "baxis": {
            "gridcolor": "white",
            "linecolor": "white",
            "ticks": ""
           },
           "bgcolor": "#E5ECF6",
           "caxis": {
            "gridcolor": "white",
            "linecolor": "white",
            "ticks": ""
           }
          },
          "title": {
           "x": 0.05
          },
          "xaxis": {
           "automargin": true,
           "gridcolor": "white",
           "linecolor": "white",
           "ticks": "",
           "title": {
            "standoff": 15
           },
           "zerolinecolor": "white",
           "zerolinewidth": 2
          },
          "yaxis": {
           "automargin": true,
           "gridcolor": "white",
           "linecolor": "white",
           "ticks": "",
           "title": {
            "standoff": 15
           },
           "zerolinecolor": "white",
           "zerolinewidth": 2
          }
         }
        },
        "title": {
         "text": "DS Applicants: Nationality"
        }
       }
      },
      "image/png": "[encoded data removed]",
      "text/html": [
       "<div>                            <div id=\"01265aee-0011-4300-94a5-577b734a8b98\" class=\"plotly-graph-div\" style=\"height:525px; width:100%;\"></div>            <script type=\"text/javascript\">                require([\"plotly\"], function(Plotly) {                    window.PLOTLYENV=window.PLOTLYENV || {};                                    if (document.getElementById(\"01265aee-0011-4300-94a5-577b734a8b98\")) {                    Plotly.newPlot(                        \"01265aee-0011-4300-94a5-577b734a8b98\",                        [{\"coloraxis\":\"coloraxis\",\"geo\":\"geo\",\"hovertemplate\":\"country_iso3=%{location}<br>count_pct=%{z}<extra></extra>\",\"locations\":[\"TKM\",\"GUY\",\"VEN\",\"SWE\",\"BIH\",\"DMA\",\"GNQ\",\"ROU\",\"MKD\",\"KHM\",\"PRT\",\"MAC\",\"GNB\",\"CHL\",\"GAB\",\"DJI\",\"STP\",\"AIA\",\"MRT\",\"VUT\",\"ISR\",\"VIR\",\"TLS\",\"CYP\",\"CRI\",\"AND\",\"BRB\",\"BEL\",\"SVK\",\"PER\",\"MDG\",\"BGR\",\"CZE\",\"ARG\",\"ARE\",\"BLR\",\"ERI\",\"HTI\",\"NLD\",\"CAF\",\"NER\",\"TON\",\"WSM\",\"HUN\",\"TJK\",\"COM\",\"MNG\",\"GRC\",\"SRB\",\"PRI\",\"PAN\",\"MUS\",\"BDI\",\"LBN\",\"POL\",\"AGO\",\"ARM\",\"GIN\",\"MMR\",\"ATG\",\"KGZ\",\"FJI\",\"COL\",\"ITA\",\"KAZ\",\"FRA\",\"BTN\",\"KOR\",\"TWN\",\"UKR\",\"COG\",\"SDN\",\"BFA\",\"PNG\",\"SEN\",\"HKG\",\"ESP\",\"JOR\",\"YEM\",\"UZB\",\"LBY\",\"NAM\",\"ALA\",\"AUS\",\"AZE\",\"MOZ\",\"RUS\",\"MLI\",\"TCD\",\"COD\",\"ALB\",\"MEX\",\"TUR\",\"DEU\",\"CAN\",\"CIV\",\"SWZ\",\"SSD\",\"MYS\",\"THA\",\"LSO\",\"BRA\",\"TUN\",\"MAR\",\"GBR\",\"BEN\",\"TGO\",\"SGP\",\"BWA\",\"IRQ\",\"GMB\",\"DZA\",\"LBR\",\"EGY\",\"LKA\",\"TZA\",\"CHN\",\"SLE\",\"RWA\",\"MWI\",\"IDN\",\"NPL\",\"SOM\",\"ZAF\",\"VNM\",\"CMR\",\"ZMB\",\"UGA\",\"AFG\",\"ZWE\",\"USA\",\"PHL\",\"GHA\",\"ETH\",\"BGD\",\"KEN\",\"IND\",\"PAK\",\"NGA\"],\"name\":\"\",\"z\":[0.01990049751243781,0.01990049751243781,0.01990049751243781,0.01990049751243781,0.01990049751243781,0.01990049751243781,0.01990049751243781,0.01990049751243781,0.01990049751243781,0.01990049751243781,0.01990049751243781,0.01990049751243781,0.01990049751243781,0.01990049751243781,0.01990049751243781,0.01990049751243781,0.01990049751243781,0.01990049751243781,0.01990049751243781,0.01990049751243781,0.01990049751243781,0.01990049751243781,0.01990049751243781,0.01990049751243781,0.01990049751243781,0.01990049751243781,0.01990049751243781,0.01990049751243781,0.03980099502487562,0.03980099502487562,0.03980099502487562,0.03980099502487562,0.03980099502487562,0.03980099502487562,0.03980099502487562,0.03980099502487562,0.03980099502487562,0.03980099502487562,0.03980099502487562,0.03980099502487562,0.03980099502487562,0.03980099502487562,0.03980099502487562,0.03980099502487562,0.03980099502487562,0.03980099502487562,0.05970149253731343,0.05970149253731343,0.05970149253731343,0.05970149253731343,0.05970149253731343,0.05970149253731343,0.05970149253731343,0.05970149253731343,0.05970149253731343,0.05970149253731343,0.05970149253731343,0.05970149253731343,0.05970149253731343,0.05970149253731343,0.05970149253731343,0.07960199004975124,0.07960199004975124,0.07960199004975124,0.07960199004975124,0.07960199004975124,0.07960199004975124,0.09950248756218905,0.09950248756218905,0.09950248756218905,0.09950248756218905,0.09950248756218905,0.09950248756218905,0.11940298507462686,0.11940298507462686,0.11940298507462686,0.11940298507462686,0.11940298507462686,0.11940298507462686,0.11940298507462686,0.13930348258706468,0.13930348258706468,0.15920398009950248,0.15920398009950248,0.15920398009950248,0.1791044776119403,0.1791044776119403,0.1791044776119403,0.1990049751243781,0.21890547263681592,0.21890547263681592,0.23880597014925373,0.23880597014925373,0.23880597014925373,0.25870646766169153,0.25870646766169153,0.27860696517412936,0.27860696517412936,0.2985074626865672,0.2985074626865672,0.31840796019900497,0.31840796019900497,0.31840796019900497,0.31840796019900497,0.31840796019900497,0.3383084577114428,0.3383084577114428,0.3582089552238806,0.3980099502487562,0.3980099502487562,0.43781094527363185,0.47761194029850745,0.47761194029850745,0.5174129353233831,0.6368159203980099,0.7562189054726368,0.835820895522388,0.8955223880597015,0.8955223880597015,0.9950248756218906,1.0149253731343284,1.0547263681592038,1.0945273631840797,1.1343283582089554,1.2338308457711442,1.2736318407960199,1.3134328358208955,1.373134328358209,1.5323383084577114,1.8706467661691544,1.9303482587064675,2.1691542288557213,3.323383084577115,3.7213930348258706,5.054726368159204,6.0497512437810945,10.16915422885572,11.303482587064677,24.636815920398007],\"type\":\"choropleth\"}],                        {\"template\":{\"data\":{\"histogram2dcontour\":[{\"type\":\"histogram2dcontour\",\"colorbar\":{\"outlinewidth\":0,\"ticks\":\"\"},\"colorscale\":[[0.0,\"#0d0887\"],[0.1111111111111111,\"#46039f\"],[0.2222222222222222,\"#7201a8\"],[0.3333333333333333,\"#9c179e\"],[0.4444444444444444,\"#bd3786\"],[0.5555555555555556,\"#d8576b\"],[0.6666666666666666,\"#ed7953\"],[0.7777777777777778,\"#fb9f3a\"],[0.8888888888888888,\"#fdca26\"],[1.0,\"#f0f921\"]]}],\"choropleth\":[{\"type\":\"choropleth\",\"colorbar\":{\"outlinewidth\":0,\"ticks\":\"\"}}],\"histogram2d\":[{\"type\":\"histogram2d\",\"colorbar\":{\"outlinewidth\":0,\"ticks\":\"\"},\"colorscale\":[[0.0,\"#0d0887\"],[0.1111111111111111,\"#46039f\"],[0.2222222222222222,\"#7201a8\"],[0.3333333333333333,\"#9c179e\"],[0.4444444444444444,\"#bd3786\"],[0.5555555555555556,\"#d8576b\"],[0.6666666666666666,\"#ed7953\"],[0.7777777777777778,\"#fb9f3a\"],[0.8888888888888888,\"#fdca26\"],[1.0,\"#f0f921\"]]}],\"heatmap\":[{\"type\":\"heatmap\",\"colorbar\":{\"outlinewidth\":0,\"ticks\":\"\"},\"colorscale\":[[0.0,\"#0d0887\"],[0.1111111111111111,\"#46039f\"],[0.2222222222222222,\"#7201a8\"],[0.3333333333333333,\"#9c179e\"],[0.4444444444444444,\"#bd3786\"],[0.5555555555555556,\"#d8576b\"],[0.6666666666666666,\"#ed7953\"],[0.7777777777777778,\"#fb9f3a\"],[0.8888888888888888,\"#fdca26\"],[1.0,\"#f0f921\"]]}],\"heatmapgl\":[{\"type\":\"heatmapgl\",\"colorbar\":{\"outlinewidth\":0,\"ticks\":\"\"},\"colorscale\":[[0.0,\"#0d0887\"],[0.1111111111111111,\"#46039f\"],[0.2222222222222222,\"#7201a8\"],[0.3333333333333333,\"#9c179e\"],[0.4444444444444444,\"#bd3786\"],[0.5555555555555556,\"#d8576b\"],[0.6666666666666666,\"#ed7953\"],[0.7777777777777778,\"#fb9f3a\"],[0.8888888888888888,\"#fdca26\"],[1.0,\"#f0f921\"]]}],\"contourcarpet\":[{\"type\":\"contourcarpet\",\"colorbar\":{\"outlinewidth\":0,\"ticks\":\"\"}}],\"contour\":[{\"type\":\"contour\",\"colorbar\":{\"outlinewidth\":0,\"ticks\":\"\"},\"colorscale\":[[0.0,\"#0d0887\"],[0.1111111111111111,\"#46039f\"],[0.2222222222222222,\"#7201a8\"],[0.3333333333333333,\"#9c179e\"],[0.4444444444444444,\"#bd3786\"],[0.5555555555555556,\"#d8576b\"],[0.6666666666666666,\"#ed7953\"],[0.7777777777777778,\"#fb9f3a\"],[0.8888888888888888,\"#fdca26\"],[1.0,\"#f0f921\"]]}],\"surface\":[{\"type\":\"surface\",\"colorbar\":{\"outlinewidth\":0,\"ticks\":\"\"},\"colorscale\":[[0.0,\"#0d0887\"],[0.1111111111111111,\"#46039f\"],[0.2222222222222222,\"#7201a8\"],[0.3333333333333333,\"#9c179e\"],[0.4444444444444444,\"#bd3786\"],[0.5555555555555556,\"#d8576b\"],[0.6666666666666666,\"#ed7953\"],[0.7777777777777778,\"#fb9f3a\"],[0.8888888888888888,\"#fdca26\"],[1.0,\"#f0f921\"]]}],\"mesh3d\":[{\"type\":\"mesh3d\",\"colorbar\":{\"outlinewidth\":0,\"ticks\":\"\"}}],\"scatter\":[{\"fillpattern\":{\"fillmode\":\"overlay\",\"size\":10,\"solidity\":0.2},\"type\":\"scatter\"}],\"parcoords\":[{\"type\":\"parcoords\",\"line\":{\"colorbar\":{\"outlinewidth\":0,\"ticks\":\"\"}}}],\"scatterpolargl\":[{\"type\":\"scatterpolargl\",\"marker\":{\"colorbar\":{\"outlinewidth\":0,\"ticks\":\"\"}}}],\"bar\":[{\"error_x\":{\"color\":\"#2a3f5f\"},\"error_y\":{\"color\":\"#2a3f5f\"},\"marker\":{\"line\":{\"color\":\"#E5ECF6\",\"width\":0.5},\"pattern\":{\"fillmode\":\"overlay\",\"size\":10,\"solidity\":0.2}},\"type\":\"bar\"}],\"scattergeo\":[{\"type\":\"scattergeo\",\"marker\":{\"colorbar\":{\"outlinewidth\":0,\"ticks\":\"\"}}}],\"scatterpolar\":[{\"type\":\"scatterpolar\",\"marker\":{\"colorbar\":{\"outlinewidth\":0,\"ticks\":\"\"}}}],\"histogram\":[{\"marker\":{\"pattern\":{\"fillmode\":\"overlay\",\"size\":10,\"solidity\":0.2}},\"type\":\"histogram\"}],\"scattergl\":[{\"type\":\"scattergl\",\"marker\":{\"colorbar\":{\"outlinewidth\":0,\"ticks\":\"\"}}}],\"scatter3d\":[{\"type\":\"scatter3d\",\"line\":{\"colorbar\":{\"outlinewidth\":0,\"ticks\":\"\"}},\"marker\":{\"colorbar\":{\"outlinewidth\":0,\"ticks\":\"\"}}}],\"scattermapbox\":[{\"type\":\"scattermapbox\",\"marker\":{\"colorbar\":{\"outlinewidth\":0,\"ticks\":\"\"}}}],\"scatterternary\":[{\"type\":\"scatterternary\",\"marker\":{\"colorbar\":{\"outlinewidth\":0,\"ticks\":\"\"}}}],\"scattercarpet\":[{\"type\":\"scattercarpet\",\"marker\":{\"colorbar\":{\"outlinewidth\":0,\"ticks\":\"\"}}}],\"carpet\":[{\"aaxis\":{\"endlinecolor\":\"#2a3f5f\",\"gridcolor\":\"white\",\"linecolor\":\"white\",\"minorgridcolor\":\"white\",\"startlinecolor\":\"#2a3f5f\"},\"baxis\":{\"endlinecolor\":\"#2a3f5f\",\"gridcolor\":\"white\",\"linecolor\":\"white\",\"minorgridcolor\":\"white\",\"startlinecolor\":\"#2a3f5f\"},\"type\":\"carpet\"}],\"table\":[{\"cells\":{\"fill\":{\"color\":\"#EBF0F8\"},\"line\":{\"color\":\"white\"}},\"header\":{\"fill\":{\"color\":\"#C8D4E3\"},\"line\":{\"color\":\"white\"}},\"type\":\"table\"}],\"barpolar\":[{\"marker\":{\"line\":{\"color\":\"#E5ECF6\",\"width\":0.5},\"pattern\":{\"fillmode\":\"overlay\",\"size\":10,\"solidity\":0.2}},\"type\":\"barpolar\"}],\"pie\":[{\"automargin\":true,\"type\":\"pie\"}]},\"layout\":{\"autotypenumbers\":\"strict\",\"colorway\":[\"#636efa\",\"#EF553B\",\"#00cc96\",\"#ab63fa\",\"#FFA15A\",\"#19d3f3\",\"#FF6692\",\"#B6E880\",\"#FF97FF\",\"#FECB52\"],\"font\":{\"color\":\"#2a3f5f\"},\"hovermode\":\"closest\",\"hoverlabel\":{\"align\":\"left\"},\"paper_bgcolor\":\"white\",\"plot_bgcolor\":\"#E5ECF6\",\"polar\":{\"bgcolor\":\"#E5ECF6\",\"angularaxis\":{\"gridcolor\":\"white\",\"linecolor\":\"white\",\"ticks\":\"\"},\"radialaxis\":{\"gridcolor\":\"white\",\"linecolor\":\"white\",\"ticks\":\"\"}},\"ternary\":{\"bgcolor\":\"#E5ECF6\",\"aaxis\":{\"gridcolor\":\"white\",\"linecolor\":\"white\",\"ticks\":\"\"},\"baxis\":{\"gridcolor\":\"white\",\"linecolor\":\"white\",\"ticks\":\"\"},\"caxis\":{\"gridcolor\":\"white\",\"linecolor\":\"white\",\"ticks\":\"\"}},\"coloraxis\":{\"colorbar\":{\"outlinewidth\":0,\"ticks\":\"\"}},\"colorscale\":{\"sequential\":[[0.0,\"#0d0887\"],[0.1111111111111111,\"#46039f\"],[0.2222222222222222,\"#7201a8\"],[0.3333333333333333,\"#9c179e\"],[0.4444444444444444,\"#bd3786\"],[0.5555555555555556,\"#d8576b\"],[0.6666666666666666,\"#ed7953\"],[0.7777777777777778,\"#fb9f3a\"],[0.8888888888888888,\"#fdca26\"],[1.0,\"#f0f921\"]],\"sequentialminus\":[[0.0,\"#0d0887\"],[0.1111111111111111,\"#46039f\"],[0.2222222222222222,\"#7201a8\"],[0.3333333333333333,\"#9c179e\"],[0.4444444444444444,\"#bd3786\"],[0.5555555555555556,\"#d8576b\"],[0.6666666666666666,\"#ed7953\"],[0.7777777777777778,\"#fb9f3a\"],[0.8888888888888888,\"#fdca26\"],[1.0,\"#f0f921\"]],\"diverging\":[[0,\"#8e0152\"],[0.1,\"#c51b7d\"],[0.2,\"#de77ae\"],[0.3,\"#f1b6da\"],[0.4,\"#fde0ef\"],[0.5,\"#f7f7f7\"],[0.6,\"#e6f5d0\"],[0.7,\"#b8e186\"],[0.8,\"#7fbc41\"],[0.9,\"#4d9221\"],[1,\"#276419\"]]},\"xaxis\":{\"gridcolor\":\"white\",\"linecolor\":\"white\",\"ticks\":\"\",\"title\":{\"standoff\":15},\"zerolinecolor\":\"white\",\"automargin\":true,\"zerolinewidth\":2},\"yaxis\":{\"gridcolor\":\"white\",\"linecolor\":\"white\",\"ticks\":\"\",\"title\":{\"standoff\":15},\"zerolinecolor\":\"white\",\"automargin\":true,\"zerolinewidth\":2},\"scene\":{\"xaxis\":{\"backgroundcolor\":\"#E5ECF6\",\"gridcolor\":\"white\",\"linecolor\":\"white\",\"showbackground\":true,\"ticks\":\"\",\"zerolinecolor\":\"white\",\"gridwidth\":2},\"yaxis\":{\"backgroundcolor\":\"#E5ECF6\",\"gridcolor\":\"white\",\"linecolor\":\"white\",\"showbackground\":true,\"ticks\":\"\",\"zerolinecolor\":\"white\",\"gridwidth\":2},\"zaxis\":{\"backgroundcolor\":\"#E5ECF6\",\"gridcolor\":\"white\",\"linecolor\":\"white\",\"showbackground\":true,\"ticks\":\"\",\"zerolinecolor\":\"white\",\"gridwidth\":2}},\"shapedefaults\":{\"line\":{\"color\":\"#2a3f5f\"}},\"annotationdefaults\":{\"arrowcolor\":\"#2a3f5f\",\"arrowhead\":0,\"arrowwidth\":1},\"geo\":{\"bgcolor\":\"white\",\"landcolor\":\"#E5ECF6\",\"subunitcolor\":\"white\",\"showland\":true,\"showlakes\":true,\"lakecolor\":\"white\"},\"title\":{\"x\":0.05},\"mapbox\":{\"style\":\"light\"}}},\"geo\":{\"domain\":{\"x\":[0.0,1.0],\"y\":[0.0,1.0]},\"projection\":{\"type\":\"natural earth\"},\"center\":{}},\"coloraxis\":{\"colorbar\":{\"title\":{\"text\":\"count_pct\"}},\"colorscale\":[[0.0,\"rgb(255,245,235)\"],[0.125,\"rgb(254,230,206)\"],[0.25,\"rgb(253,208,162)\"],[0.375,\"rgb(253,174,107)\"],[0.5,\"rgb(253,141,60)\"],[0.625,\"rgb(241,105,19)\"],[0.75,\"rgb(217,72,1)\"],[0.875,\"rgb(166,54,3)\"],[1.0,\"rgb(127,39,4)\"]]},\"legend\":{\"tracegroupgap\":0},\"title\":{\"text\":\"DS Applicants: Nationality\"}},                        {\"responsive\": true}                    ).then(function(){\n",
       "                            \n",
       "var gd = document.getElementById('01265aee-0011-4300-94a5-577b734a8b98');\n",
       "var x = new MutationObserver(function (mutations, observer) {{\n",
       "        var display = window.getComputedStyle(gd).display;\n",
       "        if (!display || display === 'none') {{\n",
       "            console.log([gd, 'removed!']);\n",
       "            Plotly.purge(gd);\n",
       "            observer.disconnect();\n",
       "        }}\n",
       "}});\n",
       "\n",
       "// Listen for the removal of the full notebook cells\n",
       "var notebookContainer = gd.closest('#notebook-container');\n",
       "if (notebookContainer) {{\n",
       "    x.observe(notebookContainer, {childList: true});\n",
       "}}\n",
       "\n",
       "// Listen for the clearing of the current output cell\n",
       "var outputEl = gd.closest('.output');\n",
       "if (outputEl) {{\n",
       "    x.observe(outputEl, {childList: true});\n",
       "}}\n",
       "\n",
       "                        })                };                });            </script>        </div>"
      ]
     },
     "metadata": {},
     "output_type": "display_data"
    }
   ],
   "source": [
    "def build_nat_choropleth():\n",
    "    fig = px.choropleth(\n",
    "    data_frame=df_nationality,\n",
    "        locations=\"country_iso3\",\n",
    "        color=\"count_pct\",\n",
    "        projection=\"natural earth\",\n",
    "        color_continuous_scale=px.colors.sequential.Oranges,\n",
    "        title=\"DS Applicants: Nationality\"\n",
    "    )\n",
    "    return fig\n",
    "\n",
    "\n",
    "nat_fig = build_nat_choropleth()\n",
    "print(\"nat_fig type:\", type(nat_fig))\n",
    "nat_fig.show()"
   ]
  },
  {
   "cell_type": "markdown",
   "id": "2c9bc499-732d-427d-a12c-981b2173bd3b",
   "metadata": {
    "deletable": false,
    "editable": false
   },
   "source": [
    "<div class=\"alert alert-block alert-info\">\n",
    "    <p><b>Note:</b> Political borders are subject to change, debate and dispute. As such, you may see borders on this map that you don't agree with. The political boundaries you see in <a href=\"https://plotly.com/python/map-configuration/\">Plotly</a> are based on the <a href=\"https://www.naturalearthdata.com/\">Natural Earth dataset</a>. You can learn more about their disputed boundaries policy <a href=\"https://www.naturalearthdata.com/about/disputed-boundaries-policy/\">here</a>.</p>\n",
    "</div>"
   ]
  },
  {
   "cell_type": "markdown",
   "id": "67a2bf4e-8182-4e7e-9ac5-d16e6ba8b1cd",
   "metadata": {
    "deletable": false,
    "editable": false
   },
   "source": [
    "Cool! This is showing us what we knew already: most of the applicants come from Nigeria, India, and Pakistan. But this visualization also shows the global diversity of DS Lab students. Almost every country is represented in our student body!"
   ]
  },
  {
   "cell_type": "markdown",
   "id": "e51de95a-c22a-435c-91fd-94a2a43e6002",
   "metadata": {
    "deletable": false,
    "editable": false
   },
   "source": [
    "## Age"
   ]
  },
  {
   "cell_type": "markdown",
   "id": "04a5807e-c9c3-44a4-a428-4b0bb8f93781",
   "metadata": {
    "deletable": false,
    "editable": false
   },
   "source": [
    "Now that we know where the applicants are from, let's see what else we can learn. For instance, how old are DS Lab applicants? We know the birthday of all our applicants, but we'll need to perform another aggregation to calculate their ages. We'll use the `\"$birthday\"` field and the `\"$$NOW\"` variable. "
   ]
  },
  {
   "cell_type": "code",
   "execution_count": 17,
   "id": "8adbe38f-4dca-4174-963c-25ab04af8745",
   "metadata": {
    "deletable": false,
    "editable": false,
    "init_cell": true
   },
   "outputs": [
    {
     "data": {
      "text/html": [
       "\n",
       "        <iframe\n",
       "            width=\"600\"\n",
       "            height=\"300\"\n",
       "            src=\"https://player.vimeo.com/video/733367865?h=6e444cb810\"\n",
       "            frameborder=\"0\"\n",
       "            allowfullscreen\n",
       "            \n",
       "        ></iframe>\n",
       "        "
      ],
      "text/plain": [
       "<IPython.lib.display.VimeoVideo at 0x7f1fe7db9760>"
      ]
     },
     "execution_count": 17,
     "metadata": {},
     "output_type": "execute_result"
    }
   ],
   "source": [
    "VimeoVideo(\"733367865\", h=\"6e444cb810\", width=600)"
   ]
  },
  {
   "cell_type": "markdown",
   "id": "a6d93818-5d34-4f37-9788-0727eea1d2dc",
   "metadata": {
    "deletable": false,
    "editable": false
   },
   "source": [
    "**Task 7.1.15:** Use the [`aggregate`](https://pymongo.readthedocs.io/en/stable/api/pymongo/collection.html#pymongo.collection.Collection.aggregate) method to calculate the age for each of the applicants in `ds_app`. Store the results in `result`.\n",
    "\n",
    "- [Perform aggregation calculations on documents using PyMongo.](../%40textbook/11-databases-mongodb.ipynb#Analyzing-Data)\n",
    "- [Aggregate data using the `$project` operator in PyMongo.](../%40textbook/11-databases-mongodb.ipynb#Aggregation)\n",
    "- [Calculate the difference between dates using the `$dateDiff` operator in PyMongo.](../%40textbook/11-databases-mongodb.ipynb#Aggregation)"
   ]
  },
  {
   "cell_type": "code",
   "execution_count": 44,
   "id": "808dd6da-0664-4eaa-8937-ce9674aa8575",
   "metadata": {
    "deletable": false
   },
   "outputs": [
    {
     "name": "stdout",
     "output_type": "stream",
     "text": [
      "result type: <class 'pymongo.command_cursor.CommandCursor'>\n"
     ]
    }
   ],
   "source": [
    "result = ds_app.aggregate(\n",
    "[\n",
    "    {\n",
    "        \"$project\":{\n",
    "            \"years\":{\n",
    "                \"$dateDiff\":{\n",
    "                    \"startDate\":\"$birthday\",\n",
    "                    \"endDate\":\"$$NOW\",\n",
    "                    \"unit\":\"year\"\n",
    "                }\n",
    "            }\n",
    "        }\n",
    "    }\n",
    "]\n",
    ")\n",
    "\n",
    "print(\"result type:\", type(result))"
   ]
  },
  {
   "cell_type": "markdown",
   "id": "c1c9d2b8-45c9-4330-b69b-799d9bc985cb",
   "metadata": {
    "deletable": false,
    "editable": false
   },
   "source": [
    "Once we have the query results, we can put them into a Series."
   ]
  },
  {
   "cell_type": "code",
   "execution_count": 18,
   "id": "b46aa5fb-b3e6-4415-b023-5405facb602d",
   "metadata": {
    "deletable": false,
    "editable": false,
    "init_cell": true
   },
   "outputs": [
    {
     "data": {
      "text/html": [
       "\n",
       "        <iframe\n",
       "            width=\"600\"\n",
       "            height=\"300\"\n",
       "            src=\"https://player.vimeo.com/video/733367340?h=2b926b1e3a\"\n",
       "            frameborder=\"0\"\n",
       "            allowfullscreen\n",
       "            \n",
       "        ></iframe>\n",
       "        "
      ],
      "text/plain": [
       "<IPython.lib.display.VimeoVideo at 0x7f1fc633c370>"
      ]
     },
     "execution_count": 18,
     "metadata": {},
     "output_type": "execute_result"
    }
   ],
   "source": [
    "VimeoVideo(\"733367340\", h=\"2b926b1e3a\", width=600)"
   ]
  },
  {
   "cell_type": "markdown",
   "id": "42f97e9d-e5a3-4d5d-b87b-435e8a938ac5",
   "metadata": {
    "deletable": false,
    "editable": false
   },
   "source": [
    "**Task 7.1.16:** Read your `result` from the previous task into a DataFrame, and create a Series called `ages`.\n",
    "\n",
    "- [Create a Series in pandas.](../%40textbook/04-pandas-advanced.ipynb#Select-a-Series-from-a-DataFrame)"
   ]
  },
  {
   "cell_type": "code",
   "execution_count": 45,
   "id": "50c92f00-1fb8-437d-913f-1d9af40addb0",
   "metadata": {
    "deletable": false
   },
   "outputs": [
    {
     "name": "stdout",
     "output_type": "stream",
     "text": [
      "ages type: <class 'pandas.core.series.Series'>\n",
      "ages shape: (5025,)\n"
     ]
    },
    {
     "data": {
      "text/plain": [
       "0    24\n",
       "1    23\n",
       "2    28\n",
       "3    38\n",
       "4    32\n",
       "Name: years, dtype: int64"
      ]
     },
     "execution_count": 45,
     "metadata": {},
     "output_type": "execute_result"
    }
   ],
   "source": [
    "ages = pd.DataFrame(result)[\"years\"]\n",
    "\n",
    "print(\"ages type:\", type(ages))\n",
    "print(\"ages shape:\", ages.shape)\n",
    "ages.head()"
   ]
  },
  {
   "cell_type": "markdown",
   "id": "8bb6edee-3bcb-4594-8dcb-ac872a10b703",
   "metadata": {
    "deletable": false,
    "editable": false
   },
   "source": [
    "And finally, plot a histogram to show the distribution of ages."
   ]
  },
  {
   "cell_type": "code",
   "execution_count": 25,
   "id": "871ed9b3-86fa-4630-bd57-2cf2b879d963",
   "metadata": {
    "deletable": false,
    "editable": false,
    "init_cell": true
   },
   "outputs": [
    {
     "data": {
      "text/html": [
       "\n",
       "        <iframe\n",
       "            width=\"600\"\n",
       "            height=\"300\"\n",
       "            src=\"https://player.vimeo.com/video/733366740?h=bb14c884bb\"\n",
       "            frameborder=\"0\"\n",
       "            allowfullscreen\n",
       "            \n",
       "        ></iframe>\n",
       "        "
      ],
      "text/plain": [
       "<IPython.lib.display.VimeoVideo at 0x7f1f5f1a5df0>"
      ]
     },
     "execution_count": 25,
     "metadata": {},
     "output_type": "execute_result"
    }
   ],
   "source": [
    "VimeoVideo(\"733366740\", h=\"bb14c884bb\", width=600)"
   ]
  },
  {
   "cell_type": "markdown",
   "id": "a6d5a3b6-89ad-4d48-8c53-30cffabbb6ea",
   "metadata": {
    "deletable": false,
    "editable": false
   },
   "source": [
    "**Task 7.1.17:** Create function `build_age_hist` that returns a plotly histogram of `ages`. Be sure to label your x-axis `\"Age\"`, your y-axis `\"Frequency [count]\"`, and use the title `\"Distribution of DS Applicant Ages\"`.\n",
    "\n",
    "- [What's a histogram?](../%40textbook/07-visualization-pandas.ipynb#Histograms)\n",
    "- [Create a histogram using plotly express](../%40textbook/08-visualization-plotly.ipynb#Histogram)"
   ]
  },
  {
   "cell_type": "code",
   "execution_count": 46,
   "id": "61b9e736-9cfe-42f0-b8e8-e1c074ba1e69",
   "metadata": {
    "deletable": false
   },
   "outputs": [
    {
     "name": "stdout",
     "output_type": "stream",
     "text": [
      "age_fig type: <class 'plotly.graph_objs._figure.Figure'>\n"
     ]
    },
    {
     "data": {
      "application/vnd.plotly.v1+json": {
       "config": {
        "plotlyServerURL": "https://plot.ly"
       },
       "data": [
        {
         "alignmentgroup": "True",
         "bingroup": "x",
         "hovertemplate": "x=%{x}<br>count=%{y}<extra></extra>",
         "legendgroup": "",
         "marker": {
          "color": "#636efa",
          "pattern": {
           "shape": ""
          }
         },
         "name": "",
         "nbinsx": 20,
         "offsetgroup": "",
         "orientation": "v",
         "showlegend": false,
         "type": "histogram",
         "x": [
          24,
          23,
          28,
          38,
          32,
          32,
          29,
          39,
          24,
          43,
          21,
          27,
          29,
          24,
          26,
          28,
          32,
          23,
          34,
          34,
          25,
          19,
          31,
          32,
          47,
          21,
          21,
          25,
          40,
          35,
          31,
          29,
          23,
          29,
          26,
          35,
          30,
          39,
          30,
          25,
          26,
          20,
          22,
          32,
          33,
          24,
          19,
          28,
          29,
          29,
          23,
          19,
          19,
          19,
          25,
          20,
          19,
          29,
          48,
          26,
          23,
          31,
          21,
          29,
          26,
          29,
          23,
          36,
          26,
          27,
          24,
          39,
          30,
          29,
          25,
          35,
          41,
          24,
          27,
          27,
          41,
          31,
          30,
          33,
          24,
          23,
          24,
          33,
          21,
          41,
          25,
          28,
          21,
          26,
          25,
          30,
          23,
          44,
          22,
          21,
          30,
          27,
          26,
          26,
          33,
          24,
          27,
          24,
          46,
          29,
          21,
          22,
          28,
          29,
          21,
          24,
          29,
          23,
          24,
          34,
          28,
          19,
          38,
          33,
          40,
          38,
          20,
          26,
          33,
          33,
          38,
          46,
          36,
          22,
          23,
          24,
          41,
          21,
          33,
          29,
          25,
          28,
          35,
          32,
          27,
          22,
          30,
          22,
          26,
          21,
          23,
          27,
          27,
          35,
          32,
          41,
          26,
          37,
          23,
          23,
          32,
          35,
          36,
          32,
          30,
          46,
          25,
          19,
          28,
          24,
          35,
          47,
          32,
          30,
          24,
          34,
          27,
          21,
          42,
          22,
          36,
          38,
          28,
          21,
          37,
          25,
          22,
          28,
          22,
          28,
          21,
          32,
          21,
          23,
          33,
          26,
          24,
          28,
          27,
          23,
          45,
          28,
          28,
          27,
          28,
          34,
          37,
          25,
          33,
          52,
          22,
          19,
          40,
          32,
          27,
          32,
          24,
          22,
          36,
          40,
          38,
          22,
          25,
          22,
          44,
          43,
          31,
          24,
          31,
          38,
          46,
          25,
          26,
          26,
          48,
          22,
          25,
          35,
          23,
          23,
          30,
          21,
          22,
          22,
          21,
          21,
          29,
          36,
          25,
          20,
          35,
          29,
          23,
          21,
          23,
          30,
          28,
          22,
          45,
          22,
          25,
          26,
          24,
          27,
          24,
          22,
          27,
          20,
          24,
          23,
          45,
          30,
          72,
          33,
          32,
          24,
          25,
          19,
          35,
          24,
          22,
          38,
          29,
          23,
          27,
          38,
          37,
          25,
          24,
          22,
          25,
          25,
          29,
          29,
          35,
          26,
          19,
          32,
          23,
          31,
          31,
          24,
          38,
          23,
          29,
          22,
          19,
          41,
          24,
          21,
          23,
          33,
          22,
          38,
          24,
          27,
          20,
          28,
          24,
          32,
          24,
          32,
          28,
          26,
          30,
          34,
          23,
          50,
          33,
          30,
          20,
          54,
          25,
          27,
          33,
          33,
          32,
          23,
          26,
          27,
          26,
          22,
          60,
          32,
          30,
          26,
          25,
          20,
          37,
          24,
          34,
          26,
          31,
          19,
          28,
          22,
          29,
          20,
          25,
          24,
          22,
          32,
          27,
          35,
          23,
          38,
          25,
          27,
          29,
          35,
          36,
          19,
          33,
          32,
          29,
          27,
          26,
          26,
          27,
          23,
          23,
          28,
          53,
          35,
          30,
          53,
          20,
          23,
          40,
          52,
          47,
          27,
          24,
          32,
          23,
          25,
          19,
          27,
          20,
          26,
          26,
          20,
          24,
          24,
          20,
          19,
          28,
          36,
          21,
          36,
          26,
          19,
          24,
          21,
          39,
          28,
          30,
          30,
          45,
          37,
          30,
          20,
          28,
          24,
          25,
          39,
          19,
          26,
          28,
          26,
          25,
          20,
          48,
          44,
          41,
          26,
          41,
          36,
          26,
          33,
          43,
          21,
          29,
          21,
          36,
          20,
          19,
          30,
          39,
          33,
          27,
          31,
          47,
          38,
          24,
          28,
          49,
          24,
          21,
          26,
          23,
          22,
          29,
          26,
          22,
          33,
          27,
          30,
          25,
          34,
          25,
          34,
          34,
          31,
          32,
          26,
          31,
          18,
          41,
          25,
          30,
          26,
          35,
          22,
          19,
          22,
          28,
          31,
          19,
          25,
          24,
          28,
          23,
          32,
          20,
          19,
          23,
          38,
          27,
          40,
          36,
          24,
          20,
          27,
          28,
          30,
          22,
          28,
          22,
          23,
          31,
          39,
          23,
          23,
          21,
          29,
          21,
          23,
          21,
          22,
          33,
          26,
          30,
          19,
          28,
          35,
          31,
          18,
          20,
          18,
          19,
          34,
          26,
          33,
          26,
          20,
          25,
          29,
          25,
          18,
          19,
          27,
          24,
          26,
          20,
          28,
          42,
          25,
          30,
          29,
          24,
          31,
          23,
          20,
          29,
          31,
          19,
          27,
          31,
          36,
          27,
          26,
          26,
          26,
          35,
          24,
          25,
          39,
          30,
          22,
          25,
          37,
          31,
          25,
          38,
          23,
          26,
          27,
          19,
          23,
          27,
          25,
          20,
          22,
          22,
          39,
          36,
          23,
          52,
          28,
          26,
          38,
          24,
          32,
          31,
          36,
          34,
          26,
          22,
          32,
          22,
          31,
          19,
          24,
          29,
          28,
          19,
          25,
          27,
          31,
          34,
          20,
          22,
          29,
          25,
          19,
          32,
          32,
          21,
          38,
          26,
          23,
          22,
          31,
          27,
          19,
          20,
          39,
          21,
          23,
          31,
          38,
          25,
          20,
          21,
          29,
          25,
          30,
          27,
          37,
          48,
          29,
          25,
          28,
          23,
          23,
          30,
          22,
          62,
          25,
          34,
          23,
          29,
          29,
          24,
          19,
          21,
          26,
          33,
          22,
          23,
          24,
          37,
          22,
          20,
          19,
          28,
          35,
          26,
          22,
          26,
          23,
          28,
          33,
          32,
          20,
          42,
          46,
          31,
          26,
          24,
          25,
          39,
          21,
          24,
          26,
          27,
          26,
          37,
          21,
          35,
          33,
          34,
          27,
          38,
          23,
          27,
          25,
          31,
          32,
          22,
          21,
          26,
          24,
          21,
          27,
          20,
          23,
          26,
          46,
          35,
          41,
          35,
          23,
          31,
          19,
          23,
          25,
          33,
          43,
          26,
          18,
          25,
          21,
          22,
          47,
          29,
          20,
          33,
          21,
          24,
          26,
          47,
          28,
          19,
          21,
          30,
          21,
          20,
          26,
          23,
          33,
          31,
          30,
          25,
          31,
          37,
          24,
          30,
          55,
          21,
          23,
          39,
          25,
          22,
          24,
          24,
          30,
          21,
          20,
          21,
          19,
          18,
          27,
          37,
          23,
          32,
          21,
          43,
          43,
          23,
          66,
          43,
          25,
          30,
          23,
          21,
          19,
          20,
          21,
          20,
          24,
          21,
          45,
          21,
          29,
          39,
          25,
          28,
          30,
          30,
          27,
          28,
          43,
          37,
          27,
          30,
          21,
          24,
          28,
          25,
          20,
          32,
          27,
          24,
          48,
          24,
          22,
          22,
          53,
          22,
          22,
          26,
          21,
          28,
          47,
          37,
          34,
          27,
          37,
          36,
          29,
          26,
          22,
          29,
          25,
          34,
          25,
          23,
          33,
          21,
          35,
          28,
          24,
          19,
          25,
          37,
          42,
          29,
          24,
          39,
          24,
          22,
          24,
          34,
          24,
          31,
          26,
          29,
          24,
          23,
          30,
          22,
          42,
          27,
          23,
          52,
          24,
          34,
          27,
          30,
          32,
          29,
          18,
          32,
          22,
          20,
          29,
          24,
          29,
          26,
          23,
          27,
          40,
          26,
          37,
          44,
          20,
          25,
          23,
          33,
          21,
          29,
          24,
          37,
          25,
          21,
          49,
          25,
          36,
          24,
          24,
          34,
          25,
          22,
          53,
          30,
          22,
          29,
          33,
          27,
          30,
          40,
          23,
          21,
          18,
          22,
          30,
          32,
          24,
          25,
          22,
          38,
          40,
          26,
          35,
          39,
          18,
          35,
          26,
          23,
          26,
          29,
          21,
          29,
          26,
          37,
          32,
          34,
          25,
          23,
          29,
          33,
          32,
          35,
          37,
          20,
          40,
          25,
          25,
          21,
          26,
          26,
          32,
          32,
          30,
          51,
          27,
          22,
          36,
          33,
          24,
          22,
          22,
          23,
          29,
          30,
          30,
          26,
          27,
          35,
          22,
          29,
          22,
          27,
          27,
          31,
          27,
          31,
          19,
          34,
          39,
          24,
          20,
          30,
          22,
          22,
          24,
          20,
          27,
          30,
          30,
          28,
          27,
          35,
          35,
          21,
          34,
          29,
          46,
          33,
          29,
          22,
          20,
          26,
          27,
          26,
          18,
          36,
          24,
          20,
          40,
          25,
          33,
          24,
          27,
          32,
          34,
          46,
          36,
          41,
          24,
          21,
          33,
          33,
          31,
          24,
          22,
          20,
          26,
          22,
          29,
          24,
          30,
          29,
          34,
          25,
          27,
          22,
          29,
          33,
          32,
          26,
          29,
          53,
          37,
          40,
          30,
          19,
          22,
          32,
          28,
          34,
          22,
          34,
          29,
          46,
          29,
          29,
          25,
          39,
          27,
          36,
          33,
          28,
          32,
          23,
          29,
          26,
          20,
          18,
          21,
          32,
          25,
          26,
          19,
          37,
          49,
          32,
          24,
          25,
          43,
          39,
          30,
          25,
          25,
          29,
          24,
          31,
          25,
          24,
          21,
          26,
          24,
          26,
          34,
          27,
          31,
          31,
          19,
          24,
          21,
          24,
          19,
          26,
          27,
          31,
          28,
          26,
          29,
          31,
          34,
          33,
          18,
          19,
          41,
          28,
          21,
          23,
          24,
          24,
          38,
          24,
          24,
          26,
          24,
          38,
          27,
          24,
          27,
          29,
          27,
          22,
          34,
          25,
          31,
          46,
          39,
          27,
          30,
          26,
          24,
          23,
          21,
          38,
          30,
          28,
          27,
          55,
          29,
          27,
          52,
          23,
          24,
          44,
          22,
          23,
          27,
          41,
          24,
          43,
          23,
          18,
          28,
          35,
          27,
          20,
          38,
          24,
          25,
          20,
          42,
          24,
          27,
          40,
          28,
          19,
          21,
          29,
          23,
          31,
          33,
          36,
          25,
          40,
          31,
          27,
          27,
          27,
          20,
          29,
          32,
          35,
          29,
          25,
          22,
          33,
          58,
          27,
          18,
          43,
          21,
          21,
          30,
          27,
          19,
          26,
          24,
          38,
          30,
          29,
          26,
          20,
          26,
          51,
          22,
          26,
          61,
          27,
          26,
          23,
          26,
          24,
          21,
          39,
          29,
          20,
          35,
          29,
          24,
          34,
          21,
          20,
          27,
          52,
          26,
          41,
          33,
          29,
          18,
          26,
          20,
          24,
          25,
          29,
          33,
          33,
          27,
          22,
          22,
          21,
          20,
          42,
          22,
          19,
          39,
          28,
          18,
          23,
          24,
          24,
          22,
          27,
          23,
          21,
          24,
          28,
          28,
          32,
          26,
          20,
          41,
          35,
          22,
          24,
          44,
          24,
          20,
          27,
          26,
          29,
          26,
          47,
          27,
          23,
          23,
          22,
          29,
          39,
          22,
          20,
          40,
          22,
          24,
          26,
          39,
          38,
          25,
          21,
          24,
          25,
          28,
          29,
          21,
          39,
          25,
          30,
          29,
          37,
          37,
          29,
          41,
          29,
          18,
          28,
          33,
          19,
          28,
          23,
          33,
          21,
          23,
          29,
          30,
          33,
          25,
          20,
          30,
          23,
          39,
          58,
          45,
          21,
          30,
          30,
          25,
          21,
          23,
          25,
          22,
          19,
          21,
          31,
          22,
          27,
          21,
          33,
          27,
          32,
          50,
          28,
          48,
          38,
          28,
          31,
          26,
          31,
          24,
          21,
          21,
          32,
          19,
          35,
          27,
          22,
          38,
          45,
          23,
          33,
          22,
          25,
          23,
          24,
          19,
          42,
          30,
          24,
          33,
          30,
          39,
          23,
          40,
          33,
          29,
          30,
          29,
          53,
          24,
          28,
          22,
          23,
          32,
          24,
          22,
          36,
          26,
          24,
          31,
          25,
          28,
          25,
          23,
          21,
          23,
          24,
          29,
          42,
          24,
          25,
          21,
          22,
          46,
          28,
          23,
          23,
          22,
          46,
          59,
          20,
          19,
          19,
          37,
          24,
          25,
          20,
          25,
          33,
          26,
          19,
          23,
          24,
          35,
          24,
          63,
          26,
          40,
          26,
          19,
          22,
          18,
          23,
          56,
          23,
          31,
          22,
          19,
          33,
          32,
          22,
          20,
          22,
          41,
          24,
          29,
          23,
          34,
          26,
          26,
          32,
          29,
          30,
          19,
          37,
          24,
          24,
          22,
          26,
          41,
          22,
          31,
          27,
          45,
          32,
          28,
          26,
          38,
          22,
          27,
          29,
          32,
          22,
          46,
          19,
          20,
          29,
          20,
          19,
          28,
          30,
          26,
          37,
          44,
          27,
          19,
          38,
          22,
          32,
          30,
          20,
          26,
          23,
          26,
          32,
          34,
          22,
          25,
          38,
          20,
          24,
          23,
          27,
          38,
          39,
          28,
          32,
          32,
          23,
          32,
          36,
          19,
          34,
          34,
          24,
          29,
          27,
          40,
          19,
          18,
          22,
          56,
          23,
          26,
          40,
          29,
          21,
          20,
          23,
          39,
          35,
          30,
          39,
          28,
          25,
          20,
          28,
          29,
          19,
          41,
          27,
          29,
          51,
          26,
          36,
          26,
          32,
          24,
          23,
          28,
          19,
          24,
          28,
          22,
          32,
          42,
          29,
          25,
          25,
          23,
          24,
          31,
          33,
          20,
          26,
          22,
          32,
          21,
          24,
          23,
          29,
          21,
          25,
          39,
          27,
          41,
          22,
          22,
          44,
          26,
          21,
          23,
          27,
          29,
          31,
          44,
          19,
          28,
          25,
          24,
          21,
          23,
          26,
          25,
          19,
          24,
          24,
          27,
          26,
          29,
          21,
          25,
          20,
          21,
          21,
          34,
          23,
          22,
          30,
          28,
          29,
          21,
          24,
          52,
          20,
          19,
          24,
          29,
          22,
          29,
          34,
          26,
          27,
          22,
          21,
          31,
          22,
          38,
          46,
          21,
          36,
          28,
          27,
          25,
          30,
          22,
          27,
          37,
          19,
          31,
          25,
          28,
          24,
          32,
          37,
          25,
          35,
          25,
          31,
          30,
          23,
          18,
          22,
          27,
          27,
          27,
          19,
          45,
          28,
          37,
          34,
          33,
          25,
          39,
          25,
          23,
          35,
          25,
          25,
          39,
          29,
          29,
          23,
          47,
          26,
          23,
          21,
          34,
          22,
          23,
          23,
          30,
          46,
          19,
          19,
          41,
          44,
          25,
          41,
          27,
          23,
          32,
          21,
          25,
          26,
          23,
          30,
          30,
          24,
          22,
          40,
          21,
          19,
          39,
          26,
          21,
          36,
          36,
          31,
          40,
          24,
          20,
          20,
          22,
          35,
          25,
          26,
          21,
          42,
          27,
          26,
          30,
          35,
          49,
          20,
          22,
          33,
          38,
          27,
          40,
          27,
          29,
          23,
          21,
          23,
          33,
          35,
          22,
          24,
          31,
          32,
          24,
          31,
          22,
          35,
          21,
          25,
          40,
          34,
          21,
          23,
          30,
          40,
          22,
          26,
          40,
          26,
          39,
          21,
          22,
          28,
          45,
          21,
          27,
          18,
          26,
          30,
          27,
          19,
          31,
          28,
          27,
          45,
          37,
          33,
          26,
          31,
          26,
          31,
          20,
          18,
          26,
          23,
          30,
          36,
          36,
          32,
          20,
          37,
          33,
          29,
          22,
          24,
          20,
          34,
          30,
          23,
          29,
          22,
          31,
          43,
          31,
          24,
          33,
          24,
          22,
          23,
          41,
          32,
          27,
          26,
          22,
          23,
          20,
          28,
          22,
          32,
          20,
          28,
          39,
          19,
          40,
          39,
          27,
          42,
          25,
          26,
          26,
          29,
          38,
          29,
          36,
          27,
          19,
          21,
          18,
          18,
          23,
          28,
          28,
          39,
          28,
          27,
          30,
          26,
          20,
          29,
          33,
          49,
          48,
          30,
          22,
          31,
          22,
          29,
          26,
          26,
          24,
          42,
          31,
          35,
          29,
          37,
          34,
          22,
          25,
          19,
          33,
          45,
          23,
          18,
          18,
          30,
          26,
          23,
          29,
          30,
          30,
          30,
          34,
          23,
          25,
          45,
          27,
          38,
          43,
          34,
          33,
          45,
          26,
          21,
          37,
          36,
          25,
          19,
          29,
          25,
          60,
          32,
          33,
          23,
          18,
          23,
          22,
          29,
          40,
          39,
          20,
          28,
          24,
          45,
          40,
          33,
          41,
          61,
          20,
          19,
          22,
          46,
          26,
          27,
          31,
          19,
          32,
          25,
          29,
          32,
          37,
          23,
          24,
          21,
          57,
          34,
          40,
          18,
          28,
          28,
          22,
          22,
          32,
          26,
          36,
          23,
          22,
          46,
          22,
          21,
          50,
          28,
          31,
          20,
          44,
          21,
          26,
          19,
          27,
          18,
          27,
          35,
          24,
          21,
          43,
          20,
          31,
          21,
          25,
          39,
          18,
          23,
          24,
          30,
          21,
          30,
          33,
          39,
          33,
          21,
          28,
          30,
          41,
          20,
          39,
          27,
          24,
          34,
          57,
          29,
          35,
          38,
          23,
          29,
          30,
          22,
          32,
          25,
          51,
          27,
          27,
          31,
          24,
          19,
          25,
          24,
          28,
          34,
          29,
          27,
          28,
          41,
          49,
          26,
          19,
          26,
          43,
          31,
          28,
          40,
          19,
          21,
          40,
          19,
          25,
          28,
          28,
          22,
          24,
          36,
          20,
          24,
          37,
          45,
          23,
          29,
          46,
          28,
          44,
          20,
          22,
          23,
          23,
          24,
          37,
          50,
          22,
          24,
          31,
          26,
          29,
          29,
          29,
          26,
          26,
          33,
          19,
          34,
          24,
          22,
          32,
          25,
          27,
          27,
          28,
          22,
          24,
          25,
          24,
          23,
          20,
          26,
          23,
          36,
          18,
          39,
          25,
          26,
          29,
          27,
          22,
          44,
          54,
          21,
          24,
          29,
          26,
          29,
          32,
          22,
          41,
          48,
          22,
          55,
          27,
          30,
          45,
          24,
          34,
          31,
          39,
          39,
          31,
          24,
          28,
          33,
          33,
          24,
          21,
          30,
          20,
          33,
          30,
          37,
          35,
          30,
          22,
          18,
          20,
          30,
          31,
          20,
          28,
          32,
          31,
          29,
          32,
          25,
          22,
          23,
          23,
          35,
          22,
          19,
          32,
          38,
          35,
          27,
          24,
          22,
          32,
          25,
          25,
          28,
          20,
          23,
          22,
          24,
          47,
          22,
          24,
          25,
          23,
          28,
          33,
          38,
          51,
          31,
          48,
          26,
          33,
          27,
          21,
          27,
          26,
          22,
          23,
          45,
          25,
          29,
          41,
          25,
          20,
          33,
          23,
          19,
          26,
          27,
          22,
          20,
          35,
          48,
          23,
          22,
          42,
          30,
          31,
          21,
          24,
          36,
          20,
          19,
          39,
          19,
          39,
          25,
          21,
          31,
          43,
          29,
          26,
          29,
          36,
          27,
          23,
          24,
          25,
          23,
          34,
          27,
          21,
          30,
          39,
          29,
          25,
          33,
          31,
          26,
          28,
          34,
          19,
          28,
          22,
          36,
          22,
          31,
          30,
          20,
          48,
          21,
          30,
          44,
          34,
          22,
          27,
          38,
          20,
          23,
          27,
          24,
          40,
          41,
          43,
          31,
          24,
          30,
          21,
          22,
          37,
          57,
          22,
          29,
          25,
          28,
          30,
          21,
          32,
          22,
          22,
          43,
          28,
          23,
          23,
          26,
          33,
          29,
          25,
          22,
          24,
          32,
          53,
          30,
          29,
          22,
          22,
          26,
          30,
          33,
          21,
          21,
          36,
          22,
          24,
          30,
          26,
          45,
          25,
          24,
          29,
          37,
          35,
          38,
          19,
          29,
          25,
          24,
          27,
          32,
          32,
          44,
          33,
          25,
          21,
          21,
          24,
          27,
          33,
          26,
          32,
          25,
          25,
          30,
          33,
          33,
          23,
          29,
          28,
          25,
          54,
          26,
          43,
          28,
          23,
          24,
          27,
          30,
          29,
          38,
          28,
          29,
          42,
          28,
          35,
          25,
          27,
          26,
          32,
          43,
          31,
          22,
          20,
          29,
          19,
          22,
          31,
          39,
          39,
          27,
          27,
          22,
          24,
          25,
          33,
          38,
          48,
          22,
          27,
          30,
          24,
          30,
          24,
          36,
          21,
          25,
          20,
          24,
          30,
          23,
          38,
          25,
          32,
          22,
          28,
          29,
          25,
          22,
          29,
          22,
          25,
          23,
          34,
          34,
          30,
          24,
          25,
          20,
          19,
          31,
          30,
          52,
          34,
          19,
          27,
          37,
          35,
          35,
          20,
          24,
          50,
          33,
          18,
          26,
          20,
          18,
          26,
          20,
          19,
          22,
          21,
          27,
          61,
          25,
          18,
          27,
          39,
          24,
          24,
          20,
          22,
          34,
          41,
          33,
          58,
          28,
          22,
          25,
          23,
          20,
          26,
          20,
          25,
          29,
          37,
          27,
          26,
          33,
          39,
          33,
          35,
          20,
          30,
          21,
          25,
          24,
          27,
          24,
          22,
          22,
          34,
          26,
          29,
          24,
          24,
          23,
          18,
          39,
          26,
          38,
          31,
          21,
          25,
          25,
          28,
          28,
          35,
          43,
          21,
          42,
          31,
          21,
          31,
          24,
          41,
          23,
          40,
          19,
          32,
          30,
          26,
          27,
          18,
          37,
          23,
          26,
          26,
          24,
          30,
          23,
          22,
          30,
          21,
          20,
          38,
          21,
          26,
          35,
          35,
          46,
          40,
          30,
          21,
          23,
          24,
          40,
          31,
          41,
          23,
          41,
          26,
          23,
          37,
          25,
          21,
          24,
          19,
          34,
          26,
          24,
          24,
          28,
          20,
          47,
          49,
          43,
          46,
          26,
          24,
          24,
          21,
          19,
          32,
          36,
          19,
          37,
          25,
          29,
          32,
          24,
          28,
          19,
          24,
          25,
          25,
          28,
          48,
          27,
          23,
          23,
          25,
          22,
          24,
          26,
          26,
          30,
          19,
          41,
          22,
          23,
          22,
          42,
          37,
          22,
          21,
          27,
          19,
          28,
          33,
          22,
          40,
          19,
          45,
          29,
          26,
          34,
          21,
          26,
          23,
          34,
          25,
          23,
          29,
          33,
          19,
          25,
          36,
          36,
          32,
          18,
          21,
          35,
          34,
          31,
          31,
          38,
          29,
          21,
          32,
          28,
          26,
          20,
          26,
          22,
          38,
          30,
          31,
          22,
          36,
          39,
          28,
          35,
          20,
          45,
          28,
          40,
          43,
          24,
          23,
          20,
          30,
          43,
          30,
          22,
          40,
          24,
          23,
          21,
          29,
          37,
          25,
          22,
          21,
          33,
          23,
          29,
          34,
          28,
          28,
          30,
          26,
          25,
          23,
          23,
          24,
          39,
          22,
          31,
          42,
          27,
          19,
          32,
          35,
          23,
          46,
          23,
          26,
          23,
          29,
          41,
          24,
          35,
          22,
          26,
          21,
          29,
          29,
          22,
          45,
          24,
          28,
          25,
          31,
          25,
          42,
          30,
          39,
          39,
          24,
          38,
          30,
          26,
          20,
          21,
          36,
          21,
          24,
          27,
          29,
          52,
          27,
          25,
          42,
          20,
          32,
          25,
          30,
          27,
          24,
          38,
          24,
          24,
          25,
          27,
          24,
          21,
          28,
          36,
          32,
          26,
          29,
          27,
          21,
          36,
          37,
          28,
          27,
          20,
          31,
          20,
          23,
          24,
          21,
          29,
          37,
          24,
          51,
          29,
          20,
          29,
          53,
          22,
          25,
          26,
          30,
          32,
          38,
          32,
          19,
          30,
          41,
          40,
          30,
          30,
          30,
          39,
          51,
          37,
          24,
          19,
          37,
          31,
          26,
          20,
          19,
          19,
          27,
          35,
          27,
          28,
          28,
          22,
          25,
          30,
          23,
          35,
          23,
          26,
          40,
          39,
          20,
          30,
          42,
          33,
          47,
          19,
          21,
          29,
          18,
          31,
          29,
          20,
          28,
          36,
          39,
          30,
          28,
          25,
          27,
          29,
          24,
          23,
          24,
          31,
          24,
          23,
          25,
          35,
          38,
          22,
          24,
          34,
          35,
          55,
          28,
          29,
          26,
          23,
          21,
          25,
          19,
          27,
          25,
          30,
          40,
          25,
          41,
          22,
          25,
          27,
          22,
          26,
          26,
          19,
          28,
          32,
          26,
          32,
          36,
          25,
          27,
          25,
          30,
          21,
          29,
          21,
          21,
          26,
          20,
          24,
          28,
          36,
          21,
          28,
          44,
          24,
          32,
          37,
          36,
          23,
          18,
          34,
          35,
          35,
          29,
          53,
          24,
          24,
          23,
          41,
          26,
          27,
          23,
          25,
          25,
          29,
          23,
          31,
          40,
          37,
          27,
          23,
          25,
          24,
          22,
          39,
          40,
          34,
          22,
          38,
          23,
          25,
          35,
          24,
          23,
          34,
          32,
          25,
          28,
          18,
          35,
          31,
          30,
          26,
          29,
          33,
          22,
          26,
          36,
          22,
          30,
          33,
          23,
          20,
          23,
          24,
          28,
          26,
          40,
          32,
          22,
          36,
          23,
          25,
          22,
          29,
          28,
          23,
          27,
          25,
          27,
          22,
          30,
          29,
          22,
          48,
          35,
          32,
          29,
          27,
          27,
          23,
          19,
          24,
          32,
          25,
          41,
          21,
          20,
          30,
          20,
          25,
          21,
          22,
          28,
          33,
          31,
          30,
          24,
          22,
          25,
          24,
          21,
          29,
          21,
          23,
          34,
          27,
          28,
          24,
          31,
          35,
          23,
          29,
          31,
          32,
          37,
          28,
          27,
          31,
          23,
          33,
          31,
          33,
          31,
          29,
          28,
          27,
          23,
          20,
          44,
          24,
          29,
          26,
          39,
          21,
          36,
          32,
          31,
          22,
          32,
          20,
          26,
          36,
          19,
          36,
          24,
          24,
          38,
          35,
          21,
          35,
          18,
          26,
          34,
          20,
          22,
          19,
          24,
          28,
          22,
          23,
          21,
          26,
          29,
          23,
          29,
          36,
          22,
          32,
          24,
          22,
          21,
          33,
          34,
          22,
          33,
          26,
          28,
          20,
          24,
          26,
          20,
          22,
          26,
          20,
          26,
          25,
          23,
          26,
          29,
          31,
          37,
          27,
          19,
          40,
          26,
          37,
          20,
          23,
          34,
          30,
          24,
          20,
          28,
          21,
          49,
          41,
          28,
          27,
          32,
          28,
          34,
          26,
          36,
          24,
          33,
          22,
          51,
          21,
          40,
          21,
          25,
          24,
          29,
          25,
          19,
          34,
          31,
          29,
          24,
          41,
          24,
          26,
          23,
          27,
          34,
          39,
          31,
          27,
          28,
          26,
          23,
          21,
          28,
          42,
          28,
          25,
          52,
          28,
          43,
          21,
          26,
          19,
          39,
          37,
          27,
          49,
          25,
          43,
          20,
          26,
          27,
          26,
          30,
          24,
          28,
          26,
          63,
          27,
          22,
          26,
          37,
          22,
          22,
          24,
          26,
          33,
          45,
          29,
          25,
          28,
          36,
          22,
          23,
          29,
          22,
          46,
          21,
          31,
          24,
          21,
          42,
          32,
          41,
          35,
          32,
          43,
          27,
          24,
          30,
          26,
          22,
          43,
          33,
          23,
          23,
          21,
          23,
          23,
          25,
          30,
          24,
          23,
          43,
          34,
          23,
          31,
          21,
          23,
          29,
          33,
          41,
          24,
          23,
          30,
          47,
          25,
          26,
          23,
          42,
          23,
          28,
          34,
          25,
          21,
          34,
          19,
          26,
          19,
          20,
          42,
          26,
          31,
          23,
          24,
          21,
          23,
          44,
          18,
          28,
          20,
          33,
          29,
          19,
          30,
          21,
          20,
          29,
          33,
          25,
          20,
          22,
          22,
          46,
          22,
          21,
          29,
          30,
          42,
          34,
          34,
          26,
          22,
          33,
          38,
          25,
          26,
          22,
          19,
          30,
          30,
          19,
          22,
          33,
          29,
          24,
          24,
          20,
          24,
          32,
          24,
          28,
          27,
          29,
          25,
          38,
          23,
          28,
          30,
          26,
          27,
          19,
          22,
          27,
          27,
          25,
          23,
          24,
          29,
          25,
          30,
          25,
          31,
          28,
          29,
          23,
          25,
          20,
          28,
          35,
          43,
          20,
          28,
          48,
          23,
          28,
          27,
          28,
          34,
          22,
          30,
          26,
          25,
          26,
          27,
          30,
          44,
          43,
          31,
          48,
          18,
          24,
          32,
          19,
          23,
          30,
          20,
          19,
          23,
          24,
          40,
          19,
          31,
          39,
          19,
          23,
          18,
          26,
          29,
          23,
          25,
          22,
          23,
          24,
          19,
          30,
          23,
          31,
          29,
          24,
          31,
          22,
          20,
          24,
          19,
          28,
          39,
          21,
          23,
          25,
          27,
          28,
          31,
          35,
          22,
          33,
          27,
          31,
          20,
          33,
          28,
          23,
          39,
          19,
          23,
          22,
          29,
          25,
          38,
          25,
          24,
          31,
          46,
          21,
          42,
          28,
          38,
          38,
          20,
          24,
          37,
          34,
          19,
          39,
          33,
          29,
          36,
          23,
          31,
          18,
          39,
          21,
          24,
          32,
          31,
          23,
          31,
          31,
          38,
          34,
          42,
          24,
          33,
          21,
          31,
          27,
          28,
          28,
          36,
          25,
          23,
          26,
          24,
          52,
          27,
          30,
          29,
          24,
          31,
          27,
          29,
          18,
          26,
          24,
          34,
          28,
          19,
          23,
          51,
          26,
          30,
          30,
          24,
          25,
          18,
          23,
          26,
          20,
          29,
          23,
          27,
          23,
          26,
          24,
          20,
          29,
          20,
          27,
          58,
          19,
          35,
          47,
          31,
          21,
          20,
          28,
          27,
          24,
          25,
          22,
          26,
          32,
          25,
          24,
          22,
          27,
          36,
          24,
          19,
          20,
          46,
          36,
          35,
          19,
          24,
          43,
          29,
          23,
          30,
          24,
          22,
          41,
          22,
          26,
          29,
          19,
          30,
          36,
          21,
          26,
          26,
          37,
          37,
          42,
          32,
          21,
          27,
          20,
          33,
          26,
          28,
          24,
          20,
          32,
          28,
          21,
          18,
          27,
          34,
          26,
          31,
          44,
          34,
          26,
          56,
          26,
          22,
          23,
          20,
          28,
          20,
          33,
          24,
          27,
          26,
          21,
          29,
          34,
          20,
          42,
          27,
          23,
          26,
          21,
          40,
          25,
          28,
          26,
          27,
          28,
          27,
          27,
          30,
          31,
          23,
          36,
          45,
          19,
          41,
          35,
          18,
          24,
          19,
          30,
          18,
          21,
          22,
          37,
          25,
          29,
          26,
          40,
          20,
          24,
          28,
          19,
          32,
          31,
          18,
          19,
          25,
          23,
          25,
          31,
          18,
          28,
          24,
          20,
          26,
          28,
          25,
          20,
          30,
          22,
          31,
          25,
          20,
          18,
          27,
          29,
          24,
          27,
          26,
          23,
          21,
          24,
          33,
          19,
          19,
          20,
          44,
          23,
          31,
          24,
          31,
          20,
          28,
          24,
          22,
          25,
          25,
          26,
          30,
          24,
          22,
          41,
          24,
          34,
          40,
          28,
          41,
          23,
          45,
          32,
          26,
          31,
          20,
          24,
          29,
          20,
          33,
          24,
          45,
          22,
          34,
          24,
          30,
          22,
          18,
          27,
          29,
          39,
          25,
          23,
          27,
          19,
          32,
          26,
          41,
          26,
          28,
          19,
          30,
          23,
          24,
          46,
          36,
          22,
          23,
          27,
          46,
          37,
          25,
          27,
          32,
          24,
          33,
          33,
          35,
          21,
          27,
          38,
          21,
          64,
          25,
          24,
          41,
          26,
          20,
          26,
          20,
          34,
          35,
          24,
          43,
          37,
          24,
          21,
          23,
          23,
          36,
          19,
          25,
          25,
          22,
          37,
          19,
          32,
          24,
          20,
          24,
          32,
          29,
          41,
          27,
          34,
          42,
          29,
          32,
          27,
          25,
          32,
          30,
          20,
          26,
          55,
          21,
          26,
          31,
          20,
          26,
          24,
          32,
          21,
          44,
          24,
          29,
          37,
          31,
          19,
          32,
          28,
          37,
          27,
          33,
          21,
          47,
          22,
          25,
          24,
          24,
          20,
          25,
          25,
          49,
          32,
          40,
          22,
          34,
          31,
          26,
          19,
          21,
          31,
          41,
          35,
          19,
          28,
          32,
          24,
          34,
          29,
          25,
          20,
          27,
          27,
          21,
          25,
          23,
          27,
          31,
          23,
          21,
          21,
          35,
          33,
          25,
          18,
          32,
          24,
          25,
          20,
          31,
          30,
          25,
          32,
          36,
          41,
          24,
          23,
          24,
          32,
          38,
          28,
          37,
          31,
          18,
          31,
          48,
          21,
          33,
          24,
          22,
          21,
          30,
          20,
          42,
          33,
          23,
          21,
          40,
          26,
          25,
          27,
          21,
          23,
          25,
          23,
          24,
          19,
          31,
          33,
          32,
          18,
          22,
          26,
          19,
          28,
          31,
          32,
          39,
          34,
          34,
          24,
          20,
          19,
          27,
          45,
          25,
          21,
          26,
          21,
          27,
          32,
          33,
          37,
          31,
          30,
          28,
          26,
          30,
          23,
          22,
          36,
          33,
          21,
          20,
          34,
          22,
          24,
          19,
          38,
          19,
          44,
          27,
          37,
          31,
          34,
          21,
          20,
          33,
          19,
          22,
          32,
          28,
          32,
          44,
          26,
          24,
          25,
          18,
          40,
          43,
          42,
          37,
          23,
          30,
          29,
          26,
          26,
          39,
          30,
          24,
          34,
          32,
          32,
          32,
          35,
          40,
          35,
          21,
          20,
          18,
          30,
          24,
          43,
          23,
          40,
          20,
          22,
          27,
          59,
          27,
          37,
          35,
          29,
          29,
          27,
          21,
          25,
          24,
          34,
          25,
          25,
          38,
          19,
          27,
          28,
          24,
          33,
          20,
          59,
          25,
          22,
          24,
          22,
          21,
          26,
          19,
          28,
          30,
          29,
          20,
          36,
          20,
          28,
          28,
          28,
          27,
          30,
          26,
          23,
          24,
          26,
          20,
          22,
          26,
          29,
          22,
          20,
          35,
          43,
          26,
          26,
          26,
          29,
          33,
          19,
          42,
          39,
          25,
          42,
          27,
          23,
          27,
          31,
          29,
          25,
          31,
          36,
          28,
          39,
          31,
          24,
          20,
          33,
          36,
          31,
          19,
          28,
          38,
          37,
          21,
          25,
          29,
          36,
          24,
          23,
          18,
          25,
          36,
          29,
          26,
          30,
          23,
          33,
          21,
          23,
          20,
          27,
          37,
          43,
          27,
          35,
          31,
          29,
          21,
          20,
          31,
          34,
          29,
          31,
          22,
          32,
          22,
          25,
          22,
          22,
          24,
          32,
          22,
          40,
          25,
          24,
          44,
          21,
          20,
          35,
          23,
          31,
          47,
          18,
          28,
          24,
          43,
          25,
          30,
          22,
          23,
          39,
          23,
          24,
          26,
          20,
          26,
          20,
          32,
          26,
          37,
          47,
          24,
          20,
          23,
          38,
          25,
          25,
          20,
          47,
          21,
          35,
          38,
          28,
          31,
          30,
          20,
          18,
          25,
          26,
          22,
          23,
          22,
          33,
          20,
          19,
          37,
          19,
          19,
          32,
          27,
          39,
          29,
          22,
          24,
          25,
          28,
          18,
          27,
          26,
          27,
          49,
          22,
          20,
          37,
          23,
          25,
          63,
          27,
          27,
          33,
          31,
          27,
          23,
          19,
          24,
          39,
          26,
          33,
          29,
          31,
          28,
          25,
          29,
          26,
          34,
          25,
          33,
          23,
          37,
          20,
          40,
          25,
          45,
          40,
          33,
          26,
          24,
          26,
          23,
          24,
          22,
          30,
          32,
          34,
          21,
          24,
          23,
          25,
          40,
          22,
          36,
          22,
          29,
          34,
          33,
          22,
          38,
          21,
          23,
          25,
          20,
          26,
          30,
          28,
          30,
          25,
          22,
          23,
          25,
          27,
          26,
          28,
          27,
          26,
          41,
          34,
          31,
          24,
          23,
          21,
          22,
          21,
          29,
          23,
          26,
          24,
          29,
          24,
          23,
          31,
          25,
          19,
          24,
          20,
          26,
          35,
          35,
          19,
          24,
          20,
          31,
          19,
          23,
          26,
          34,
          38,
          27,
          47,
          32,
          42,
          28,
          27,
          35,
          25,
          18,
          26,
          22,
          37,
          47,
          27,
          43,
          27,
          36,
          28,
          30,
          22,
          26,
          21,
          40,
          30,
          36,
          42,
          23,
          21,
          32,
          28,
          20,
          51,
          28,
          29,
          30,
          37,
          23,
          28,
          29,
          24,
          19,
          32,
          24,
          21,
          22,
          33,
          26,
          31,
          36,
          30,
          31,
          28,
          37,
          28,
          21,
          29,
          23,
          21,
          38,
          35,
          20,
          35,
          22,
          27,
          37,
          41,
          23,
          24,
          25,
          29,
          23,
          23,
          48,
          29,
          24,
          27,
          26,
          26,
          29,
          21,
          21,
          24,
          22,
          20,
          23,
          24,
          22,
          19,
          39,
          21,
          31,
          23,
          31,
          31,
          19,
          41,
          28,
          24,
          36,
          24,
          22,
          24,
          22,
          27,
          30,
          25,
          27,
          27,
          34,
          24,
          40,
          19,
          21,
          27,
          18,
          31,
          41,
          23,
          23,
          20,
          30,
          27,
          44,
          23,
          19,
          42,
          36,
          39,
          32,
          29,
          40,
          23,
          28,
          21,
          24,
          24,
          27,
          23,
          41,
          28,
          22,
          22,
          36,
          30,
          35,
          34,
          25,
          36,
          34,
          20,
          31,
          22,
          39,
          21,
          25,
          20,
          26,
          27,
          20,
          21,
          22,
          20,
          25,
          32,
          23,
          27,
          43,
          29,
          29,
          29,
          25,
          39,
          24,
          18,
          28,
          29,
          23,
          22,
          38,
          22,
          36,
          26,
          32,
          33,
          26,
          22,
          47,
          23,
          38,
          23,
          32,
          23,
          36,
          22,
          18,
          21,
          21,
          24,
          24,
          22,
          30,
          40,
          22,
          36,
          18,
          21,
          25,
          27,
          29,
          22,
          18,
          23,
          24,
          29,
          26,
          25,
          23,
          21,
          36,
          24,
          25,
          42,
          53,
          30,
          34,
          26,
          23,
          22,
          27,
          20,
          24,
          51,
          26,
          29,
          41,
          25,
          22,
          20,
          21,
          36,
          27,
          36,
          37,
          23,
          32,
          36,
          20,
          24,
          25,
          24,
          40,
          18,
          23,
          34,
          31,
          21,
          30,
          22,
          29,
          31,
          49,
          23,
          29,
          32,
          27,
          22,
          29,
          22,
          31,
          26,
          44,
          29,
          37,
          18,
          23,
          33,
          24,
          30,
          31,
          24,
          25,
          20,
          20,
          22,
          24,
          24,
          37,
          28,
          33,
          40,
          28,
          21,
          25,
          25,
          25,
          29,
          40,
          24,
          36,
          33,
          20,
          26,
          48,
          29,
          23,
          40,
          28,
          27,
          39,
          40,
          27,
          24,
          22,
          27,
          29,
          21,
          29,
          19,
          41,
          31,
          29,
          28,
          18,
          18,
          37,
          25,
          23,
          29,
          30,
          26,
          23,
          37,
          29,
          43,
          30,
          26,
          26,
          28,
          41,
          26,
          34,
          20,
          20,
          27,
          40,
          29,
          37,
          25,
          33,
          21,
          41,
          19,
          22,
          28,
          23,
          30,
          28,
          22,
          24,
          24,
          24,
          38,
          34,
          63,
          21,
          41,
          30,
          36,
          22,
          37,
          32,
          43,
          27,
          22,
          18,
          27,
          33,
          27,
          36,
          25,
          28,
          35,
          33,
          32,
          28,
          26,
          30,
          37,
          31,
          26,
          27,
          34,
          45,
          45,
          25,
          19,
          35,
          48,
          19,
          25,
          29,
          24,
          28,
          34,
          21,
          27,
          30,
          33,
          28,
          37,
          25,
          26,
          19,
          22,
          38,
          24,
          22,
          26,
          36,
          45,
          25,
          43,
          20,
          25,
          19,
          28,
          22,
          30,
          25,
          26,
          22,
          21,
          26,
          26,
          18,
          21,
          26,
          34,
          20,
          30,
          19,
          28,
          23,
          30,
          37,
          30,
          28,
          25,
          30,
          29,
          23,
          32,
          24,
          26,
          29,
          37,
          23,
          39,
          34,
          29,
          18,
          26,
          32,
          30,
          23,
          47,
          39,
          19,
          21,
          42,
          30,
          28,
          38,
          19,
          24,
          28,
          41,
          34,
          22,
          37,
          23,
          22,
          31,
          31,
          29,
          24,
          30,
          21,
          23,
          28,
          27,
          20,
          26,
          39,
          23,
          29,
          36,
          36,
          25,
          21,
          34,
          28,
          28,
          31,
          30,
          22,
          25,
          24,
          27,
          26,
          35,
          34,
          29,
          20,
          31,
          25,
          41,
          26,
          40,
          24,
          26,
          26,
          37,
          21,
          39,
          22,
          32,
          25,
          30,
          23,
          28,
          26,
          27,
          35,
          42,
          30,
          27,
          25,
          27,
          43,
          30,
          31,
          24,
          36,
          35,
          27,
          29,
          21,
          25,
          21,
          22,
          35,
          25,
          19,
          27,
          39,
          29,
          34,
          26,
          36,
          23,
          19,
          35,
          35,
          30,
          46,
          25,
          36,
          24,
          24,
          29,
          26,
          24,
          32,
          20,
          30,
          26,
          25,
          20,
          29,
          28,
          25,
          30,
          29,
          28,
          22,
          42,
          34,
          30,
          22,
          20,
          42,
          28,
          18,
          29,
          31,
          19,
          24,
          28,
          35,
          29,
          26,
          31,
          37,
          38,
          23,
          25,
          27,
          41,
          26,
          36,
          36,
          31,
          33,
          35,
          23,
          24,
          24,
          23,
          47,
          23,
          24,
          25,
          22,
          20,
          22,
          23,
          25,
          40,
          22,
          21,
          29,
          24,
          38,
          22,
          18,
          25,
          27,
          44,
          37,
          22,
          32,
          28,
          21,
          23,
          21,
          26,
          29,
          34,
          38,
          25,
          24,
          24,
          31,
          21,
          24,
          29,
          33,
          20,
          23,
          23,
          24,
          27,
          23,
          39,
          26,
          43,
          22,
          24,
          26,
          25,
          27,
          31,
          24,
          24,
          23,
          30,
          19,
          38,
          33,
          30,
          33,
          43,
          24,
          21,
          24,
          28,
          20,
          27,
          33,
          29,
          35,
          27,
          26,
          30,
          38,
          30,
          20,
          22,
          30,
          36,
          25,
          24,
          22,
          24,
          28,
          34,
          18,
          25,
          28,
          21,
          42,
          19,
          33,
          26,
          27,
          32,
          18,
          36,
          37,
          33,
          19,
          32,
          39,
          30,
          28,
          25,
          40,
          22,
          28,
          22,
          27,
          29,
          23,
          25,
          27,
          36,
          24,
          35,
          19,
          42,
          23,
          19,
          22,
          25,
          20,
          25,
          31,
          63,
          23,
          19,
          21,
          24,
          41,
          27,
          21,
          24,
          25,
          28,
          24,
          20,
          33,
          36,
          27,
          35,
          26,
          27,
          26,
          21,
          22,
          37,
          26,
          22,
          28,
          35,
          24,
          23,
          26,
          23,
          35,
          29,
          22,
          25,
          36,
          25,
          24,
          25,
          23,
          22,
          38,
          30,
          22,
          23,
          35,
          22,
          37,
          23,
          21,
          26,
          33,
          28,
          37,
          21,
          18,
          33,
          26,
          29,
          26,
          29,
          19,
          47,
          30,
          22,
          20,
          28,
          23,
          28,
          24,
          30,
          25,
          21,
          20,
          46,
          24,
          29,
          24,
          29,
          36,
          28,
          24,
          20,
          43,
          34,
          26,
          34,
          21,
          45,
          40,
          24,
          21,
          27,
          37,
          30,
          32,
          39,
          30
         ],
         "xaxis": "x",
         "yaxis": "y"
        }
       ],
       "layout": {
        "autosize": true,
        "barmode": "relative",
        "legend": {
         "tracegroupgap": 0
        },
        "template": {
         "data": {
          "bar": [
           {
            "error_x": {
             "color": "#2a3f5f"
            },
            "error_y": {
             "color": "#2a3f5f"
            },
            "marker": {
             "line": {
              "color": "#E5ECF6",
              "width": 0.5
             },
             "pattern": {
              "fillmode": "overlay",
              "size": 10,
              "solidity": 0.2
             }
            },
            "type": "bar"
           }
          ],
          "barpolar": [
           {
            "marker": {
             "line": {
              "color": "#E5ECF6",
              "width": 0.5
             },
             "pattern": {
              "fillmode": "overlay",
              "size": 10,
              "solidity": 0.2
             }
            },
            "type": "barpolar"
           }
          ],
          "carpet": [
           {
            "aaxis": {
             "endlinecolor": "#2a3f5f",
             "gridcolor": "white",
             "linecolor": "white",
             "minorgridcolor": "white",
             "startlinecolor": "#2a3f5f"
            },
            "baxis": {
             "endlinecolor": "#2a3f5f",
             "gridcolor": "white",
             "linecolor": "white",
             "minorgridcolor": "white",
             "startlinecolor": "#2a3f5f"
            },
            "type": "carpet"
           }
          ],
          "choropleth": [
           {
            "colorbar": {
             "outlinewidth": 0,
             "ticks": ""
            },
            "type": "choropleth"
           }
          ],
          "contour": [
           {
            "colorbar": {
             "outlinewidth": 0,
             "ticks": ""
            },
            "colorscale": [
             [
              0,
              "#0d0887"
             ],
             [
              0.1111111111111111,
              "#46039f"
             ],
             [
              0.2222222222222222,
              "#7201a8"
             ],
             [
              0.3333333333333333,
              "#9c179e"
             ],
             [
              0.4444444444444444,
              "#bd3786"
             ],
             [
              0.5555555555555556,
              "#d8576b"
             ],
             [
              0.6666666666666666,
              "#ed7953"
             ],
             [
              0.7777777777777778,
              "#fb9f3a"
             ],
             [
              0.8888888888888888,
              "#fdca26"
             ],
             [
              1,
              "#f0f921"
             ]
            ],
            "type": "contour"
           }
          ],
          "contourcarpet": [
           {
            "colorbar": {
             "outlinewidth": 0,
             "ticks": ""
            },
            "type": "contourcarpet"
           }
          ],
          "heatmap": [
           {
            "colorbar": {
             "outlinewidth": 0,
             "ticks": ""
            },
            "colorscale": [
             [
              0,
              "#0d0887"
             ],
             [
              0.1111111111111111,
              "#46039f"
             ],
             [
              0.2222222222222222,
              "#7201a8"
             ],
             [
              0.3333333333333333,
              "#9c179e"
             ],
             [
              0.4444444444444444,
              "#bd3786"
             ],
             [
              0.5555555555555556,
              "#d8576b"
             ],
             [
              0.6666666666666666,
              "#ed7953"
             ],
             [
              0.7777777777777778,
              "#fb9f3a"
             ],
             [
              0.8888888888888888,
              "#fdca26"
             ],
             [
              1,
              "#f0f921"
             ]
            ],
            "type": "heatmap"
           }
          ],
          "heatmapgl": [
           {
            "colorbar": {
             "outlinewidth": 0,
             "ticks": ""
            },
            "colorscale": [
             [
              0,
              "#0d0887"
             ],
             [
              0.1111111111111111,
              "#46039f"
             ],
             [
              0.2222222222222222,
              "#7201a8"
             ],
             [
              0.3333333333333333,
              "#9c179e"
             ],
             [
              0.4444444444444444,
              "#bd3786"
             ],
             [
              0.5555555555555556,
              "#d8576b"
             ],
             [
              0.6666666666666666,
              "#ed7953"
             ],
             [
              0.7777777777777778,
              "#fb9f3a"
             ],
             [
              0.8888888888888888,
              "#fdca26"
             ],
             [
              1,
              "#f0f921"
             ]
            ],
            "type": "heatmapgl"
           }
          ],
          "histogram": [
           {
            "marker": {
             "pattern": {
              "fillmode": "overlay",
              "size": 10,
              "solidity": 0.2
             }
            },
            "type": "histogram"
           }
          ],
          "histogram2d": [
           {
            "colorbar": {
             "outlinewidth": 0,
             "ticks": ""
            },
            "colorscale": [
             [
              0,
              "#0d0887"
             ],
             [
              0.1111111111111111,
              "#46039f"
             ],
             [
              0.2222222222222222,
              "#7201a8"
             ],
             [
              0.3333333333333333,
              "#9c179e"
             ],
             [
              0.4444444444444444,
              "#bd3786"
             ],
             [
              0.5555555555555556,
              "#d8576b"
             ],
             [
              0.6666666666666666,
              "#ed7953"
             ],
             [
              0.7777777777777778,
              "#fb9f3a"
             ],
             [
              0.8888888888888888,
              "#fdca26"
             ],
             [
              1,
              "#f0f921"
             ]
            ],
            "type": "histogram2d"
           }
          ],
          "histogram2dcontour": [
           {
            "colorbar": {
             "outlinewidth": 0,
             "ticks": ""
            },
            "colorscale": [
             [
              0,
              "#0d0887"
             ],
             [
              0.1111111111111111,
              "#46039f"
             ],
             [
              0.2222222222222222,
              "#7201a8"
             ],
             [
              0.3333333333333333,
              "#9c179e"
             ],
             [
              0.4444444444444444,
              "#bd3786"
             ],
             [
              0.5555555555555556,
              "#d8576b"
             ],
             [
              0.6666666666666666,
              "#ed7953"
             ],
             [
              0.7777777777777778,
              "#fb9f3a"
             ],
             [
              0.8888888888888888,
              "#fdca26"
             ],
             [
              1,
              "#f0f921"
             ]
            ],
            "type": "histogram2dcontour"
           }
          ],
          "mesh3d": [
           {
            "colorbar": {
             "outlinewidth": 0,
             "ticks": ""
            },
            "type": "mesh3d"
           }
          ],
          "parcoords": [
           {
            "line": {
             "colorbar": {
              "outlinewidth": 0,
              "ticks": ""
             }
            },
            "type": "parcoords"
           }
          ],
          "pie": [
           {
            "automargin": true,
            "type": "pie"
           }
          ],
          "scatter": [
           {
            "fillpattern": {
             "fillmode": "overlay",
             "size": 10,
             "solidity": 0.2
            },
            "type": "scatter"
           }
          ],
          "scatter3d": [
           {
            "line": {
             "colorbar": {
              "outlinewidth": 0,
              "ticks": ""
             }
            },
            "marker": {
             "colorbar": {
              "outlinewidth": 0,
              "ticks": ""
             }
            },
            "type": "scatter3d"
           }
          ],
          "scattercarpet": [
           {
            "marker": {
             "colorbar": {
              "outlinewidth": 0,
              "ticks": ""
             }
            },
            "type": "scattercarpet"
           }
          ],
          "scattergeo": [
           {
            "marker": {
             "colorbar": {
              "outlinewidth": 0,
              "ticks": ""
             }
            },
            "type": "scattergeo"
           }
          ],
          "scattergl": [
           {
            "marker": {
             "colorbar": {
              "outlinewidth": 0,
              "ticks": ""
             }
            },
            "type": "scattergl"
           }
          ],
          "scattermapbox": [
           {
            "marker": {
             "colorbar": {
              "outlinewidth": 0,
              "ticks": ""
             }
            },
            "type": "scattermapbox"
           }
          ],
          "scatterpolar": [
           {
            "marker": {
             "colorbar": {
              "outlinewidth": 0,
              "ticks": ""
             }
            },
            "type": "scatterpolar"
           }
          ],
          "scatterpolargl": [
           {
            "marker": {
             "colorbar": {
              "outlinewidth": 0,
              "ticks": ""
             }
            },
            "type": "scatterpolargl"
           }
          ],
          "scatterternary": [
           {
            "marker": {
             "colorbar": {
              "outlinewidth": 0,
              "ticks": ""
             }
            },
            "type": "scatterternary"
           }
          ],
          "surface": [
           {
            "colorbar": {
             "outlinewidth": 0,
             "ticks": ""
            },
            "colorscale": [
             [
              0,
              "#0d0887"
             ],
             [
              0.1111111111111111,
              "#46039f"
             ],
             [
              0.2222222222222222,
              "#7201a8"
             ],
             [
              0.3333333333333333,
              "#9c179e"
             ],
             [
              0.4444444444444444,
              "#bd3786"
             ],
             [
              0.5555555555555556,
              "#d8576b"
             ],
             [
              0.6666666666666666,
              "#ed7953"
             ],
             [
              0.7777777777777778,
              "#fb9f3a"
             ],
             [
              0.8888888888888888,
              "#fdca26"
             ],
             [
              1,
              "#f0f921"
             ]
            ],
            "type": "surface"
           }
          ],
          "table": [
           {
            "cells": {
             "fill": {
              "color": "#EBF0F8"
             },
             "line": {
              "color": "white"
             }
            },
            "header": {
             "fill": {
              "color": "#C8D4E3"
             },
             "line": {
              "color": "white"
             }
            },
            "type": "table"
           }
          ]
         },
         "layout": {
          "annotationdefaults": {
           "arrowcolor": "#2a3f5f",
           "arrowhead": 0,
           "arrowwidth": 1
          },
          "autotypenumbers": "strict",
          "coloraxis": {
           "colorbar": {
            "outlinewidth": 0,
            "ticks": ""
           }
          },
          "colorscale": {
           "diverging": [
            [
             0,
             "#8e0152"
            ],
            [
             0.1,
             "#c51b7d"
            ],
            [
             0.2,
             "#de77ae"
            ],
            [
             0.3,
             "#f1b6da"
            ],
            [
             0.4,
             "#fde0ef"
            ],
            [
             0.5,
             "#f7f7f7"
            ],
            [
             0.6,
             "#e6f5d0"
            ],
            [
             0.7,
             "#b8e186"
            ],
            [
             0.8,
             "#7fbc41"
            ],
            [
             0.9,
             "#4d9221"
            ],
            [
             1,
             "#276419"
            ]
           ],
           "sequential": [
            [
             0,
             "#0d0887"
            ],
            [
             0.1111111111111111,
             "#46039f"
            ],
            [
             0.2222222222222222,
             "#7201a8"
            ],
            [
             0.3333333333333333,
             "#9c179e"
            ],
            [
             0.4444444444444444,
             "#bd3786"
            ],
            [
             0.5555555555555556,
             "#d8576b"
            ],
            [
             0.6666666666666666,
             "#ed7953"
            ],
            [
             0.7777777777777778,
             "#fb9f3a"
            ],
            [
             0.8888888888888888,
             "#fdca26"
            ],
            [
             1,
             "#f0f921"
            ]
           ],
           "sequentialminus": [
            [
             0,
             "#0d0887"
            ],
            [
             0.1111111111111111,
             "#46039f"
            ],
            [
             0.2222222222222222,
             "#7201a8"
            ],
            [
             0.3333333333333333,
             "#9c179e"
            ],
            [
             0.4444444444444444,
             "#bd3786"
            ],
            [
             0.5555555555555556,
             "#d8576b"
            ],
            [
             0.6666666666666666,
             "#ed7953"
            ],
            [
             0.7777777777777778,
             "#fb9f3a"
            ],
            [
             0.8888888888888888,
             "#fdca26"
            ],
            [
             1,
             "#f0f921"
            ]
           ]
          },
          "colorway": [
           "#636efa",
           "#EF553B",
           "#00cc96",
           "#ab63fa",
           "#FFA15A",
           "#19d3f3",
           "#FF6692",
           "#B6E880",
           "#FF97FF",
           "#FECB52"
          ],
          "font": {
           "color": "#2a3f5f"
          },
          "geo": {
           "bgcolor": "white",
           "lakecolor": "white",
           "landcolor": "#E5ECF6",
           "showlakes": true,
           "showland": true,
           "subunitcolor": "white"
          },
          "hoverlabel": {
           "align": "left"
          },
          "hovermode": "closest",
          "mapbox": {
           "style": "light"
          },
          "paper_bgcolor": "white",
          "plot_bgcolor": "#E5ECF6",
          "polar": {
           "angularaxis": {
            "gridcolor": "white",
            "linecolor": "white",
            "ticks": ""
           },
           "bgcolor": "#E5ECF6",
           "radialaxis": {
            "gridcolor": "white",
            "linecolor": "white",
            "ticks": ""
           }
          },
          "scene": {
           "xaxis": {
            "backgroundcolor": "#E5ECF6",
            "gridcolor": "white",
            "gridwidth": 2,
            "linecolor": "white",
            "showbackground": true,
            "ticks": "",
            "zerolinecolor": "white"
           },
           "yaxis": {
            "backgroundcolor": "#E5ECF6",
            "gridcolor": "white",
            "gridwidth": 2,
            "linecolor": "white",
            "showbackground": true,
            "ticks": "",
            "zerolinecolor": "white"
           },
           "zaxis": {
            "backgroundcolor": "#E5ECF6",
            "gridcolor": "white",
            "gridwidth": 2,
            "linecolor": "white",
            "showbackground": true,
            "ticks": "",
            "zerolinecolor": "white"
           }
          },
          "shapedefaults": {
           "line": {
            "color": "#2a3f5f"
           }
          },
          "ternary": {
           "aaxis": {
            "gridcolor": "white",
            "linecolor": "white",
            "ticks": ""
           },
           "baxis": {
            "gridcolor": "white",
            "linecolor": "white",
            "ticks": ""
           },
           "bgcolor": "#E5ECF6",
           "caxis": {
            "gridcolor": "white",
            "linecolor": "white",
            "ticks": ""
           }
          },
          "title": {
           "x": 0.05
          },
          "xaxis": {
           "automargin": true,
           "gridcolor": "white",
           "linecolor": "white",
           "ticks": "",
           "title": {
            "standoff": 15
           },
           "zerolinecolor": "white",
           "zerolinewidth": 2
          },
          "yaxis": {
           "automargin": true,
           "gridcolor": "white",
           "linecolor": "white",
           "ticks": "",
           "title": {
            "standoff": 15
           },
           "zerolinecolor": "white",
           "zerolinewidth": 2
          }
         }
        },
        "title": {
         "text": "DS Applicants: Distribution of Ages"
        },
        "xaxis": {
         "anchor": "y",
         "autorange": true,
         "domain": [
          0,
          1
         ],
         "range": [
          14.5,
          74.5
         ],
         "title": {
          "text": "Age"
         },
         "type": "linear"
        },
        "yaxis": {
         "anchor": "x",
         "autorange": true,
         "domain": [
          0,
          1
         ],
         "range": [
          0,
          1621.0526315789473
         ],
         "title": {
          "text": "Frequency [count]"
         }
        }
       }
      },
      "image/png": "[encoded data removed]",
      "text/html": [
       "<div>                            <div id=\"a1d27574-05a5-4745-b8e5-9fbcdb3fcc8f\" class=\"plotly-graph-div\" style=\"height:525px; width:100%;\"></div>            <script type=\"text/javascript\">                require([\"plotly\"], function(Plotly) {                    window.PLOTLYENV=window.PLOTLYENV || {};                                    if (document.getElementById(\"a1d27574-05a5-4745-b8e5-9fbcdb3fcc8f\")) {                    Plotly.newPlot(                        \"a1d27574-05a5-4745-b8e5-9fbcdb3fcc8f\",                        [{\"alignmentgroup\":\"True\",\"bingroup\":\"x\",\"hovertemplate\":\"x=%{x}<br>count=%{y}<extra></extra>\",\"legendgroup\":\"\",\"marker\":{\"color\":\"#636efa\",\"pattern\":{\"shape\":\"\"}},\"name\":\"\",\"nbinsx\":20,\"offsetgroup\":\"\",\"orientation\":\"v\",\"showlegend\":false,\"x\":[24,23,28,38,32,32,29,39,24,43,21,27,29,24,26,28,32,23,34,34,25,19,31,32,47,21,21,25,40,35,31,29,23,29,26,35,30,39,30,25,26,20,22,32,33,24,19,28,29,29,23,19,19,19,25,20,19,29,48,26,23,31,21,29,26,29,23,36,26,27,24,39,30,29,25,35,41,24,27,27,41,31,30,33,24,23,24,33,21,41,25,28,21,26,25,30,23,44,22,21,30,27,26,26,33,24,27,24,46,29,21,22,28,29,21,24,29,23,24,34,28,19,38,33,40,38,20,26,33,33,38,46,36,22,23,24,41,21,33,29,25,28,35,32,27,22,30,22,26,21,23,27,27,35,32,41,26,37,23,23,32,35,36,32,30,46,25,19,28,24,35,47,32,30,24,34,27,21,42,22,36,38,28,21,37,25,22,28,22,28,21,32,21,23,33,26,24,28,27,23,45,28,28,27,28,34,37,25,33,52,22,19,40,32,27,32,24,22,36,40,38,22,25,22,44,43,31,24,31,38,46,25,26,26,48,22,25,35,23,23,30,21,22,22,21,21,29,36,25,20,35,29,23,21,23,30,28,22,45,22,25,26,24,27,24,22,27,20,24,23,45,30,72,33,32,24,25,19,35,24,22,38,29,23,27,38,37,25,24,22,25,25,29,29,35,26,19,32,23,31,31,24,38,23,29,22,19,41,24,21,23,33,22,38,24,27,20,28,24,32,24,32,28,26,30,34,23,50,33,30,20,54,25,27,33,33,32,23,26,27,26,22,60,32,30,26,25,20,37,24,34,26,31,19,28,22,29,20,25,24,22,32,27,35,23,38,25,27,29,35,36,19,33,32,29,27,26,26,27,23,23,28,53,35,30,53,20,23,40,52,47,27,24,32,23,25,19,27,20,26,26,20,24,24,20,19,28,36,21,36,26,19,24,21,39,28,30,30,45,37,30,20,28,24,25,39,19,26,28,26,25,20,48,44,41,26,41,36,26,33,43,21,29,21,36,20,19,30,39,33,27,31,47,38,24,28,49,24,21,26,23,22,29,26,22,33,27,30,25,34,25,34,34,31,32,26,31,18,41,25,30,26,35,22,19,22,28,31,19,25,24,28,23,32,20,19,23,38,27,40,36,24,20,27,28,30,22,28,22,23,31,39,23,23,21,29,21,23,21,22,33,26,30,19,28,35,31,18,20,18,19,34,26,33,26,20,25,29,25,18,19,27,24,26,20,28,42,25,30,29,24,31,23,20,29,31,19,27,31,36,27,26,26,26,35,24,25,39,30,22,25,37,31,25,38,23,26,27,19,23,27,25,20,22,22,39,36,23,52,28,26,38,24,32,31,36,34,26,22,32,22,31,19,24,29,28,19,25,27,31,34,20,22,29,25,19,32,32,21,38,26,23,22,31,27,19,20,39,21,23,31,38,25,20,21,29,25,30,27,37,48,29,25,28,23,23,30,22,62,25,34,23,29,29,24,19,21,26,33,22,23,24,37,22,20,19,28,35,26,22,26,23,28,33,32,20,42,46,31,26,24,25,39,21,24,26,27,26,37,21,35,33,34,27,38,23,27,25,31,32,22,21,26,24,21,27,20,23,26,46,35,41,35,23,31,19,23,25,33,43,26,18,25,21,22,47,29,20,33,21,24,26,47,28,19,21,30,21,20,26,23,33,31,30,25,31,37,24,30,55,21,23,39,25,22,24,24,30,21,20,21,19,18,27,37,23,32,21,43,43,23,66,43,25,30,23,21,19,20,21,20,24,21,45,21,29,39,25,28,30,30,27,28,43,37,27,30,21,24,28,25,20,32,27,24,48,24,22,22,53,22,22,26,21,28,47,37,34,27,37,36,29,26,22,29,25,34,25,23,33,21,35,28,24,19,25,37,42,29,24,39,24,22,24,34,24,31,26,29,24,23,30,22,42,27,23,52,24,34,27,30,32,29,18,32,22,20,29,24,29,26,23,27,40,26,37,44,20,25,23,33,21,29,24,37,25,21,49,25,36,24,24,34,25,22,53,30,22,29,33,27,30,40,23,21,18,22,30,32,24,25,22,38,40,26,35,39,18,35,26,23,26,29,21,29,26,37,32,34,25,23,29,33,32,35,37,20,40,25,25,21,26,26,32,32,30,51,27,22,36,33,24,22,22,23,29,30,30,26,27,35,22,29,22,27,27,31,27,31,19,34,39,24,20,30,22,22,24,20,27,30,30,28,27,35,35,21,34,29,46,33,29,22,20,26,27,26,18,36,24,20,40,25,33,24,27,32,34,46,36,41,24,21,33,33,31,24,22,20,26,22,29,24,30,29,34,25,27,22,29,33,32,26,29,53,37,40,30,19,22,32,28,34,22,34,29,46,29,29,25,39,27,36,33,28,32,23,29,26,20,18,21,32,25,26,19,37,49,32,24,25,43,39,30,25,25,29,24,31,25,24,21,26,24,26,34,27,31,31,19,24,21,24,19,26,27,31,28,26,29,31,34,33,18,19,41,28,21,23,24,24,38,24,24,26,24,38,27,24,27,29,27,22,34,25,31,46,39,27,30,26,24,23,21,38,30,28,27,55,29,27,52,23,24,44,22,23,27,41,24,43,23,18,28,35,27,20,38,24,25,20,42,24,27,40,28,19,21,29,23,31,33,36,25,40,31,27,27,27,20,29,32,35,29,25,22,33,58,27,18,43,21,21,30,27,19,26,24,38,30,29,26,20,26,51,22,26,61,27,26,23,26,24,21,39,29,20,35,29,24,34,21,20,27,52,26,41,33,29,18,26,20,24,25,29,33,33,27,22,22,21,20,42,22,19,39,28,18,23,24,24,22,27,23,21,24,28,28,32,26,20,41,35,22,24,44,24,20,27,26,29,26,47,27,23,23,22,29,39,22,20,40,22,24,26,39,38,25,21,24,25,28,29,21,39,25,30,29,37,37,29,41,29,18,28,33,19,28,23,33,21,23,29,30,33,25,20,30,23,39,58,45,21,30,30,25,21,23,25,22,19,21,31,22,27,21,33,27,32,50,28,48,38,28,31,26,31,24,21,21,32,19,35,27,22,38,45,23,33,22,25,23,24,19,42,30,24,33,30,39,23,40,33,29,30,29,53,24,28,22,23,32,24,22,36,26,24,31,25,28,25,23,21,23,24,29,42,24,25,21,22,46,28,23,23,22,46,59,20,19,19,37,24,25,20,25,33,26,19,23,24,35,24,63,26,40,26,19,22,18,23,56,23,31,22,19,33,32,22,20,22,41,24,29,23,34,26,26,32,29,30,19,37,24,24,22,26,41,22,31,27,45,32,28,26,38,22,27,29,32,22,46,19,20,29,20,19,28,30,26,37,44,27,19,38,22,32,30,20,26,23,26,32,34,22,25,38,20,24,23,27,38,39,28,32,32,23,32,36,19,34,34,24,29,27,40,19,18,22,56,23,26,40,29,21,20,23,39,35,30,39,28,25,20,28,29,19,41,27,29,51,26,36,26,32,24,23,28,19,24,28,22,32,42,29,25,25,23,24,31,33,20,26,22,32,21,24,23,29,21,25,39,27,41,22,22,44,26,21,23,27,29,31,44,19,28,25,24,21,23,26,25,19,24,24,27,26,29,21,25,20,21,21,34,23,22,30,28,29,21,24,52,20,19,24,29,22,29,34,26,27,22,21,31,22,38,46,21,36,28,27,25,30,22,27,37,19,31,25,28,24,32,37,25,35,25,31,30,23,18,22,27,27,27,19,45,28,37,34,33,25,39,25,23,35,25,25,39,29,29,23,47,26,23,21,34,22,23,23,30,46,19,19,41,44,25,41,27,23,32,21,25,26,23,30,30,24,22,40,21,19,39,26,21,36,36,31,40,24,20,20,22,35,25,26,21,42,27,26,30,35,49,20,22,33,38,27,40,27,29,23,21,23,33,35,22,24,31,32,24,31,22,35,21,25,40,34,21,23,30,40,22,26,40,26,39,21,22,28,45,21,27,18,26,30,27,19,31,28,27,45,37,33,26,31,26,31,20,18,26,23,30,36,36,32,20,37,33,29,22,24,20,34,30,23,29,22,31,43,31,24,33,24,22,23,41,32,27,26,22,23,20,28,22,32,20,28,39,19,40,39,27,42,25,26,26,29,38,29,36,27,19,21,18,18,23,28,28,39,28,27,30,26,20,29,33,49,48,30,22,31,22,29,26,26,24,42,31,35,29,37,34,22,25,19,33,45,23,18,18,30,26,23,29,30,30,30,34,23,25,45,27,38,43,34,33,45,26,21,37,36,25,19,29,25,60,32,33,23,18,23,22,29,40,39,20,28,24,45,40,33,41,61,20,19,22,46,26,27,31,19,32,25,29,32,37,23,24,21,57,34,40,18,28,28,22,22,32,26,36,23,22,46,22,21,50,28,31,20,44,21,26,19,27,18,27,35,24,21,43,20,31,21,25,39,18,23,24,30,21,30,33,39,33,21,28,30,41,20,39,27,24,34,57,29,35,38,23,29,30,22,32,25,51,27,27,31,24,19,25,24,28,34,29,27,28,41,49,26,19,26,43,31,28,40,19,21,40,19,25,28,28,22,24,36,20,24,37,45,23,29,46,28,44,20,22,23,23,24,37,50,22,24,31,26,29,29,29,26,26,33,19,34,24,22,32,25,27,27,28,22,24,25,24,23,20,26,23,36,18,39,25,26,29,27,22,44,54,21,24,29,26,29,32,22,41,48,22,55,27,30,45,24,34,31,39,39,31,24,28,33,33,24,21,30,20,33,30,37,35,30,22,18,20,30,31,20,28,32,31,29,32,25,22,23,23,35,22,19,32,38,35,27,24,22,32,25,25,28,20,23,22,24,47,22,24,25,23,28,33,38,51,31,48,26,33,27,21,27,26,22,23,45,25,29,41,25,20,33,23,19,26,27,22,20,35,48,23,22,42,30,31,21,24,36,20,19,39,19,39,25,21,31,43,29,26,29,36,27,23,24,25,23,34,27,21,30,39,29,25,33,31,26,28,34,19,28,22,36,22,31,30,20,48,21,30,44,34,22,27,38,20,23,27,24,40,41,43,31,24,30,21,22,37,57,22,29,25,28,30,21,32,22,22,43,28,23,23,26,33,29,25,22,24,32,53,30,29,22,22,26,30,33,21,21,36,22,24,30,26,45,25,24,29,37,35,38,19,29,25,24,27,32,32,44,33,25,21,21,24,27,33,26,32,25,25,30,33,33,23,29,28,25,54,26,43,28,23,24,27,30,29,38,28,29,42,28,35,25,27,26,32,43,31,22,20,29,19,22,31,39,39,27,27,22,24,25,33,38,48,22,27,30,24,30,24,36,21,25,20,24,30,23,38,25,32,22,28,29,25,22,29,22,25,23,34,34,30,24,25,20,19,31,30,52,34,19,27,37,35,35,20,24,50,33,18,26,20,18,26,20,19,22,21,27,61,25,18,27,39,24,24,20,22,34,41,33,58,28,22,25,23,20,26,20,25,29,37,27,26,33,39,33,35,20,30,21,25,24,27,24,22,22,34,26,29,24,24,23,18,39,26,38,31,21,25,25,28,28,35,43,21,42,31,21,31,24,41,23,40,19,32,30,26,27,18,37,23,26,26,24,30,23,22,30,21,20,38,21,26,35,35,46,40,30,21,23,24,40,31,41,23,41,26,23,37,25,21,24,19,34,26,24,24,28,20,47,49,43,46,26,24,24,21,19,32,36,19,37,25,29,32,24,28,19,24,25,25,28,48,27,23,23,25,22,24,26,26,30,19,41,22,23,22,42,37,22,21,27,19,28,33,22,40,19,45,29,26,34,21,26,23,34,25,23,29,33,19,25,36,36,32,18,21,35,34,31,31,38,29,21,32,28,26,20,26,22,38,30,31,22,36,39,28,35,20,45,28,40,43,24,23,20,30,43,30,22,40,24,23,21,29,37,25,22,21,33,23,29,34,28,28,30,26,25,23,23,24,39,22,31,42,27,19,32,35,23,46,23,26,23,29,41,24,35,22,26,21,29,29,22,45,24,28,25,31,25,42,30,39,39,24,38,30,26,20,21,36,21,24,27,29,52,27,25,42,20,32,25,30,27,24,38,24,24,25,27,24,21,28,36,32,26,29,27,21,36,37,28,27,20,31,20,23,24,21,29,37,24,51,29,20,29,53,22,25,26,30,32,38,32,19,30,41,40,30,30,30,39,51,37,24,19,37,31,26,20,19,19,27,35,27,28,28,22,25,30,23,35,23,26,40,39,20,30,42,33,47,19,21,29,18,31,29,20,28,36,39,30,28,25,27,29,24,23,24,31,24,23,25,35,38,22,24,34,35,55,28,29,26,23,21,25,19,27,25,30,40,25,41,22,25,27,22,26,26,19,28,32,26,32,36,25,27,25,30,21,29,21,21,26,20,24,28,36,21,28,44,24,32,37,36,23,18,34,35,35,29,53,24,24,23,41,26,27,23,25,25,29,23,31,40,37,27,23,25,24,22,39,40,34,22,38,23,25,35,24,23,34,32,25,28,18,35,31,30,26,29,33,22,26,36,22,30,33,23,20,23,24,28,26,40,32,22,36,23,25,22,29,28,23,27,25,27,22,30,29,22,48,35,32,29,27,27,23,19,24,32,25,41,21,20,30,20,25,21,22,28,33,31,30,24,22,25,24,21,29,21,23,34,27,28,24,31,35,23,29,31,32,37,28,27,31,23,33,31,33,31,29,28,27,23,20,44,24,29,26,39,21,36,32,31,22,32,20,26,36,19,36,24,24,38,35,21,35,18,26,34,20,22,19,24,28,22,23,21,26,29,23,29,36,22,32,24,22,21,33,34,22,33,26,28,20,24,26,20,22,26,20,26,25,23,26,29,31,37,27,19,40,26,37,20,23,34,30,24,20,28,21,49,41,28,27,32,28,34,26,36,24,33,22,51,21,40,21,25,24,29,25,19,34,31,29,24,41,24,26,23,27,34,39,31,27,28,26,23,21,28,42,28,25,52,28,43,21,26,19,39,37,27,49,25,43,20,26,27,26,30,24,28,26,63,27,22,26,37,22,22,24,26,33,45,29,25,28,36,22,23,29,22,46,21,31,24,21,42,32,41,35,32,43,27,24,30,26,22,43,33,23,23,21,23,23,25,30,24,23,43,34,23,31,21,23,29,33,41,24,23,30,47,25,26,23,42,23,28,34,25,21,34,19,26,19,20,42,26,31,23,24,21,23,44,18,28,20,33,29,19,30,21,20,29,33,25,20,22,22,46,22,21,29,30,42,34,34,26,22,33,38,25,26,22,19,30,30,19,22,33,29,24,24,20,24,32,24,28,27,29,25,38,23,28,30,26,27,19,22,27,27,25,23,24,29,25,30,25,31,28,29,23,25,20,28,35,43,20,28,48,23,28,27,28,34,22,30,26,25,26,27,30,44,43,31,48,18,24,32,19,23,30,20,19,23,24,40,19,31,39,19,23,18,26,29,23,25,22,23,24,19,30,23,31,29,24,31,22,20,24,19,28,39,21,23,25,27,28,31,35,22,33,27,31,20,33,28,23,39,19,23,22,29,25,38,25,24,31,46,21,42,28,38,38,20,24,37,34,19,39,33,29,36,23,31,18,39,21,24,32,31,23,31,31,38,34,42,24,33,21,31,27,28,28,36,25,23,26,24,52,27,30,29,24,31,27,29,18,26,24,34,28,19,23,51,26,30,30,24,25,18,23,26,20,29,23,27,23,26,24,20,29,20,27,58,19,35,47,31,21,20,28,27,24,25,22,26,32,25,24,22,27,36,24,19,20,46,36,35,19,24,43,29,23,30,24,22,41,22,26,29,19,30,36,21,26,26,37,37,42,32,21,27,20,33,26,28,24,20,32,28,21,18,27,34,26,31,44,34,26,56,26,22,23,20,28,20,33,24,27,26,21,29,34,20,42,27,23,26,21,40,25,28,26,27,28,27,27,30,31,23,36,45,19,41,35,18,24,19,30,18,21,22,37,25,29,26,40,20,24,28,19,32,31,18,19,25,23,25,31,18,28,24,20,26,28,25,20,30,22,31,25,20,18,27,29,24,27,26,23,21,24,33,19,19,20,44,23,31,24,31,20,28,24,22,25,25,26,30,24,22,41,24,34,40,28,41,23,45,32,26,31,20,24,29,20,33,24,45,22,34,24,30,22,18,27,29,39,25,23,27,19,32,26,41,26,28,19,30,23,24,46,36,22,23,27,46,37,25,27,32,24,33,33,35,21,27,38,21,64,25,24,41,26,20,26,20,34,35,24,43,37,24,21,23,23,36,19,25,25,22,37,19,32,24,20,24,32,29,41,27,34,42,29,32,27,25,32,30,20,26,55,21,26,31,20,26,24,32,21,44,24,29,37,31,19,32,28,37,27,33,21,47,22,25,24,24,20,25,25,49,32,40,22,34,31,26,19,21,31,41,35,19,28,32,24,34,29,25,20,27,27,21,25,23,27,31,23,21,21,35,33,25,18,32,24,25,20,31,30,25,32,36,41,24,23,24,32,38,28,37,31,18,31,48,21,33,24,22,21,30,20,42,33,23,21,40,26,25,27,21,23,25,23,24,19,31,33,32,18,22,26,19,28,31,32,39,34,34,24,20,19,27,45,25,21,26,21,27,32,33,37,31,30,28,26,30,23,22,36,33,21,20,34,22,24,19,38,19,44,27,37,31,34,21,20,33,19,22,32,28,32,44,26,24,25,18,40,43,42,37,23,30,29,26,26,39,30,24,34,32,32,32,35,40,35,21,20,18,30,24,43,23,40,20,22,27,59,27,37,35,29,29,27,21,25,24,34,25,25,38,19,27,28,24,33,20,59,25,22,24,22,21,26,19,28,30,29,20,36,20,28,28,28,27,30,26,23,24,26,20,22,26,29,22,20,35,43,26,26,26,29,33,19,42,39,25,42,27,23,27,31,29,25,31,36,28,39,31,24,20,33,36,31,19,28,38,37,21,25,29,36,24,23,18,25,36,29,26,30,23,33,21,23,20,27,37,43,27,35,31,29,21,20,31,34,29,31,22,32,22,25,22,22,24,32,22,40,25,24,44,21,20,35,23,31,47,18,28,24,43,25,30,22,23,39,23,24,26,20,26,20,32,26,37,47,24,20,23,38,25,25,20,47,21,35,38,28,31,30,20,18,25,26,22,23,22,33,20,19,37,19,19,32,27,39,29,22,24,25,28,18,27,26,27,49,22,20,37,23,25,63,27,27,33,31,27,23,19,24,39,26,33,29,31,28,25,29,26,34,25,33,23,37,20,40,25,45,40,33,26,24,26,23,24,22,30,32,34,21,24,23,25,40,22,36,22,29,34,33,22,38,21,23,25,20,26,30,28,30,25,22,23,25,27,26,28,27,26,41,34,31,24,23,21,22,21,29,23,26,24,29,24,23,31,25,19,24,20,26,35,35,19,24,20,31,19,23,26,34,38,27,47,32,42,28,27,35,25,18,26,22,37,47,27,43,27,36,28,30,22,26,21,40,30,36,42,23,21,32,28,20,51,28,29,30,37,23,28,29,24,19,32,24,21,22,33,26,31,36,30,31,28,37,28,21,29,23,21,38,35,20,35,22,27,37,41,23,24,25,29,23,23,48,29,24,27,26,26,29,21,21,24,22,20,23,24,22,19,39,21,31,23,31,31,19,41,28,24,36,24,22,24,22,27,30,25,27,27,34,24,40,19,21,27,18,31,41,23,23,20,30,27,44,23,19,42,36,39,32,29,40,23,28,21,24,24,27,23,41,28,22,22,36,30,35,34,25,36,34,20,31,22,39,21,25,20,26,27,20,21,22,20,25,32,23,27,43,29,29,29,25,39,24,18,28,29,23,22,38,22,36,26,32,33,26,22,47,23,38,23,32,23,36,22,18,21,21,24,24,22,30,40,22,36,18,21,25,27,29,22,18,23,24,29,26,25,23,21,36,24,25,42,53,30,34,26,23,22,27,20,24,51,26,29,41,25,22,20,21,36,27,36,37,23,32,36,20,24,25,24,40,18,23,34,31,21,30,22,29,31,49,23,29,32,27,22,29,22,31,26,44,29,37,18,23,33,24,30,31,24,25,20,20,22,24,24,37,28,33,40,28,21,25,25,25,29,40,24,36,33,20,26,48,29,23,40,28,27,39,40,27,24,22,27,29,21,29,19,41,31,29,28,18,18,37,25,23,29,30,26,23,37,29,43,30,26,26,28,41,26,34,20,20,27,40,29,37,25,33,21,41,19,22,28,23,30,28,22,24,24,24,38,34,63,21,41,30,36,22,37,32,43,27,22,18,27,33,27,36,25,28,35,33,32,28,26,30,37,31,26,27,34,45,45,25,19,35,48,19,25,29,24,28,34,21,27,30,33,28,37,25,26,19,22,38,24,22,26,36,45,25,43,20,25,19,28,22,30,25,26,22,21,26,26,18,21,26,34,20,30,19,28,23,30,37,30,28,25,30,29,23,32,24,26,29,37,23,39,34,29,18,26,32,30,23,47,39,19,21,42,30,28,38,19,24,28,41,34,22,37,23,22,31,31,29,24,30,21,23,28,27,20,26,39,23,29,36,36,25,21,34,28,28,31,30,22,25,24,27,26,35,34,29,20,31,25,41,26,40,24,26,26,37,21,39,22,32,25,30,23,28,26,27,35,42,30,27,25,27,43,30,31,24,36,35,27,29,21,25,21,22,35,25,19,27,39,29,34,26,36,23,19,35,35,30,46,25,36,24,24,29,26,24,32,20,30,26,25,20,29,28,25,30,29,28,22,42,34,30,22,20,42,28,18,29,31,19,24,28,35,29,26,31,37,38,23,25,27,41,26,36,36,31,33,35,23,24,24,23,47,23,24,25,22,20,22,23,25,40,22,21,29,24,38,22,18,25,27,44,37,22,32,28,21,23,21,26,29,34,38,25,24,24,31,21,24,29,33,20,23,23,24,27,23,39,26,43,22,24,26,25,27,31,24,24,23,30,19,38,33,30,33,43,24,21,24,28,20,27,33,29,35,27,26,30,38,30,20,22,30,36,25,24,22,24,28,34,18,25,28,21,42,19,33,26,27,32,18,36,37,33,19,32,39,30,28,25,40,22,28,22,27,29,23,25,27,36,24,35,19,42,23,19,22,25,20,25,31,63,23,19,21,24,41,27,21,24,25,28,24,20,33,36,27,35,26,27,26,21,22,37,26,22,28,35,24,23,26,23,35,29,22,25,36,25,24,25,23,22,38,30,22,23,35,22,37,23,21,26,33,28,37,21,18,33,26,29,26,29,19,47,30,22,20,28,23,28,24,30,25,21,20,46,24,29,24,29,36,28,24,20,43,34,26,34,21,45,40,24,21,27,37,30,32,39,30],\"xaxis\":\"x\",\"yaxis\":\"y\",\"type\":\"histogram\"}],                        {\"template\":{\"data\":{\"histogram2dcontour\":[{\"type\":\"histogram2dcontour\",\"colorbar\":{\"outlinewidth\":0,\"ticks\":\"\"},\"colorscale\":[[0.0,\"#0d0887\"],[0.1111111111111111,\"#46039f\"],[0.2222222222222222,\"#7201a8\"],[0.3333333333333333,\"#9c179e\"],[0.4444444444444444,\"#bd3786\"],[0.5555555555555556,\"#d8576b\"],[0.6666666666666666,\"#ed7953\"],[0.7777777777777778,\"#fb9f3a\"],[0.8888888888888888,\"#fdca26\"],[1.0,\"#f0f921\"]]}],\"choropleth\":[{\"type\":\"choropleth\",\"colorbar\":{\"outlinewidth\":0,\"ticks\":\"\"}}],\"histogram2d\":[{\"type\":\"histogram2d\",\"colorbar\":{\"outlinewidth\":0,\"ticks\":\"\"},\"colorscale\":[[0.0,\"#0d0887\"],[0.1111111111111111,\"#46039f\"],[0.2222222222222222,\"#7201a8\"],[0.3333333333333333,\"#9c179e\"],[0.4444444444444444,\"#bd3786\"],[0.5555555555555556,\"#d8576b\"],[0.6666666666666666,\"#ed7953\"],[0.7777777777777778,\"#fb9f3a\"],[0.8888888888888888,\"#fdca26\"],[1.0,\"#f0f921\"]]}],\"heatmap\":[{\"type\":\"heatmap\",\"colorbar\":{\"outlinewidth\":0,\"ticks\":\"\"},\"colorscale\":[[0.0,\"#0d0887\"],[0.1111111111111111,\"#46039f\"],[0.2222222222222222,\"#7201a8\"],[0.3333333333333333,\"#9c179e\"],[0.4444444444444444,\"#bd3786\"],[0.5555555555555556,\"#d8576b\"],[0.6666666666666666,\"#ed7953\"],[0.7777777777777778,\"#fb9f3a\"],[0.8888888888888888,\"#fdca26\"],[1.0,\"#f0f921\"]]}],\"heatmapgl\":[{\"type\":\"heatmapgl\",\"colorbar\":{\"outlinewidth\":0,\"ticks\":\"\"},\"colorscale\":[[0.0,\"#0d0887\"],[0.1111111111111111,\"#46039f\"],[0.2222222222222222,\"#7201a8\"],[0.3333333333333333,\"#9c179e\"],[0.4444444444444444,\"#bd3786\"],[0.5555555555555556,\"#d8576b\"],[0.6666666666666666,\"#ed7953\"],[0.7777777777777778,\"#fb9f3a\"],[0.8888888888888888,\"#fdca26\"],[1.0,\"#f0f921\"]]}],\"contourcarpet\":[{\"type\":\"contourcarpet\",\"colorbar\":{\"outlinewidth\":0,\"ticks\":\"\"}}],\"contour\":[{\"type\":\"contour\",\"colorbar\":{\"outlinewidth\":0,\"ticks\":\"\"},\"colorscale\":[[0.0,\"#0d0887\"],[0.1111111111111111,\"#46039f\"],[0.2222222222222222,\"#7201a8\"],[0.3333333333333333,\"#9c179e\"],[0.4444444444444444,\"#bd3786\"],[0.5555555555555556,\"#d8576b\"],[0.6666666666666666,\"#ed7953\"],[0.7777777777777778,\"#fb9f3a\"],[0.8888888888888888,\"#fdca26\"],[1.0,\"#f0f921\"]]}],\"surface\":[{\"type\":\"surface\",\"colorbar\":{\"outlinewidth\":0,\"ticks\":\"\"},\"colorscale\":[[0.0,\"#0d0887\"],[0.1111111111111111,\"#46039f\"],[0.2222222222222222,\"#7201a8\"],[0.3333333333333333,\"#9c179e\"],[0.4444444444444444,\"#bd3786\"],[0.5555555555555556,\"#d8576b\"],[0.6666666666666666,\"#ed7953\"],[0.7777777777777778,\"#fb9f3a\"],[0.8888888888888888,\"#fdca26\"],[1.0,\"#f0f921\"]]}],\"mesh3d\":[{\"type\":\"mesh3d\",\"colorbar\":{\"outlinewidth\":0,\"ticks\":\"\"}}],\"scatter\":[{\"fillpattern\":{\"fillmode\":\"overlay\",\"size\":10,\"solidity\":0.2},\"type\":\"scatter\"}],\"parcoords\":[{\"type\":\"parcoords\",\"line\":{\"colorbar\":{\"outlinewidth\":0,\"ticks\":\"\"}}}],\"scatterpolargl\":[{\"type\":\"scatterpolargl\",\"marker\":{\"colorbar\":{\"outlinewidth\":0,\"ticks\":\"\"}}}],\"bar\":[{\"error_x\":{\"color\":\"#2a3f5f\"},\"error_y\":{\"color\":\"#2a3f5f\"},\"marker\":{\"line\":{\"color\":\"#E5ECF6\",\"width\":0.5},\"pattern\":{\"fillmode\":\"overlay\",\"size\":10,\"solidity\":0.2}},\"type\":\"bar\"}],\"scattergeo\":[{\"type\":\"scattergeo\",\"marker\":{\"colorbar\":{\"outlinewidth\":0,\"ticks\":\"\"}}}],\"scatterpolar\":[{\"type\":\"scatterpolar\",\"marker\":{\"colorbar\":{\"outlinewidth\":0,\"ticks\":\"\"}}}],\"histogram\":[{\"marker\":{\"pattern\":{\"fillmode\":\"overlay\",\"size\":10,\"solidity\":0.2}},\"type\":\"histogram\"}],\"scattergl\":[{\"type\":\"scattergl\",\"marker\":{\"colorbar\":{\"outlinewidth\":0,\"ticks\":\"\"}}}],\"scatter3d\":[{\"type\":\"scatter3d\",\"line\":{\"colorbar\":{\"outlinewidth\":0,\"ticks\":\"\"}},\"marker\":{\"colorbar\":{\"outlinewidth\":0,\"ticks\":\"\"}}}],\"scattermapbox\":[{\"type\":\"scattermapbox\",\"marker\":{\"colorbar\":{\"outlinewidth\":0,\"ticks\":\"\"}}}],\"scatterternary\":[{\"type\":\"scatterternary\",\"marker\":{\"colorbar\":{\"outlinewidth\":0,\"ticks\":\"\"}}}],\"scattercarpet\":[{\"type\":\"scattercarpet\",\"marker\":{\"colorbar\":{\"outlinewidth\":0,\"ticks\":\"\"}}}],\"carpet\":[{\"aaxis\":{\"endlinecolor\":\"#2a3f5f\",\"gridcolor\":\"white\",\"linecolor\":\"white\",\"minorgridcolor\":\"white\",\"startlinecolor\":\"#2a3f5f\"},\"baxis\":{\"endlinecolor\":\"#2a3f5f\",\"gridcolor\":\"white\",\"linecolor\":\"white\",\"minorgridcolor\":\"white\",\"startlinecolor\":\"#2a3f5f\"},\"type\":\"carpet\"}],\"table\":[{\"cells\":{\"fill\":{\"color\":\"#EBF0F8\"},\"line\":{\"color\":\"white\"}},\"header\":{\"fill\":{\"color\":\"#C8D4E3\"},\"line\":{\"color\":\"white\"}},\"type\":\"table\"}],\"barpolar\":[{\"marker\":{\"line\":{\"color\":\"#E5ECF6\",\"width\":0.5},\"pattern\":{\"fillmode\":\"overlay\",\"size\":10,\"solidity\":0.2}},\"type\":\"barpolar\"}],\"pie\":[{\"automargin\":true,\"type\":\"pie\"}]},\"layout\":{\"autotypenumbers\":\"strict\",\"colorway\":[\"#636efa\",\"#EF553B\",\"#00cc96\",\"#ab63fa\",\"#FFA15A\",\"#19d3f3\",\"#FF6692\",\"#B6E880\",\"#FF97FF\",\"#FECB52\"],\"font\":{\"color\":\"#2a3f5f\"},\"hovermode\":\"closest\",\"hoverlabel\":{\"align\":\"left\"},\"paper_bgcolor\":\"white\",\"plot_bgcolor\":\"#E5ECF6\",\"polar\":{\"bgcolor\":\"#E5ECF6\",\"angularaxis\":{\"gridcolor\":\"white\",\"linecolor\":\"white\",\"ticks\":\"\"},\"radialaxis\":{\"gridcolor\":\"white\",\"linecolor\":\"white\",\"ticks\":\"\"}},\"ternary\":{\"bgcolor\":\"#E5ECF6\",\"aaxis\":{\"gridcolor\":\"white\",\"linecolor\":\"white\",\"ticks\":\"\"},\"baxis\":{\"gridcolor\":\"white\",\"linecolor\":\"white\",\"ticks\":\"\"},\"caxis\":{\"gridcolor\":\"white\",\"linecolor\":\"white\",\"ticks\":\"\"}},\"coloraxis\":{\"colorbar\":{\"outlinewidth\":0,\"ticks\":\"\"}},\"colorscale\":{\"sequential\":[[0.0,\"#0d0887\"],[0.1111111111111111,\"#46039f\"],[0.2222222222222222,\"#7201a8\"],[0.3333333333333333,\"#9c179e\"],[0.4444444444444444,\"#bd3786\"],[0.5555555555555556,\"#d8576b\"],[0.6666666666666666,\"#ed7953\"],[0.7777777777777778,\"#fb9f3a\"],[0.8888888888888888,\"#fdca26\"],[1.0,\"#f0f921\"]],\"sequentialminus\":[[0.0,\"#0d0887\"],[0.1111111111111111,\"#46039f\"],[0.2222222222222222,\"#7201a8\"],[0.3333333333333333,\"#9c179e\"],[0.4444444444444444,\"#bd3786\"],[0.5555555555555556,\"#d8576b\"],[0.6666666666666666,\"#ed7953\"],[0.7777777777777778,\"#fb9f3a\"],[0.8888888888888888,\"#fdca26\"],[1.0,\"#f0f921\"]],\"diverging\":[[0,\"#8e0152\"],[0.1,\"#c51b7d\"],[0.2,\"#de77ae\"],[0.3,\"#f1b6da\"],[0.4,\"#fde0ef\"],[0.5,\"#f7f7f7\"],[0.6,\"#e6f5d0\"],[0.7,\"#b8e186\"],[0.8,\"#7fbc41\"],[0.9,\"#4d9221\"],[1,\"#276419\"]]},\"xaxis\":{\"gridcolor\":\"white\",\"linecolor\":\"white\",\"ticks\":\"\",\"title\":{\"standoff\":15},\"zerolinecolor\":\"white\",\"automargin\":true,\"zerolinewidth\":2},\"yaxis\":{\"gridcolor\":\"white\",\"linecolor\":\"white\",\"ticks\":\"\",\"title\":{\"standoff\":15},\"zerolinecolor\":\"white\",\"automargin\":true,\"zerolinewidth\":2},\"scene\":{\"xaxis\":{\"backgroundcolor\":\"#E5ECF6\",\"gridcolor\":\"white\",\"linecolor\":\"white\",\"showbackground\":true,\"ticks\":\"\",\"zerolinecolor\":\"white\",\"gridwidth\":2},\"yaxis\":{\"backgroundcolor\":\"#E5ECF6\",\"gridcolor\":\"white\",\"linecolor\":\"white\",\"showbackground\":true,\"ticks\":\"\",\"zerolinecolor\":\"white\",\"gridwidth\":2},\"zaxis\":{\"backgroundcolor\":\"#E5ECF6\",\"gridcolor\":\"white\",\"linecolor\":\"white\",\"showbackground\":true,\"ticks\":\"\",\"zerolinecolor\":\"white\",\"gridwidth\":2}},\"shapedefaults\":{\"line\":{\"color\":\"#2a3f5f\"}},\"annotationdefaults\":{\"arrowcolor\":\"#2a3f5f\",\"arrowhead\":0,\"arrowwidth\":1},\"geo\":{\"bgcolor\":\"white\",\"landcolor\":\"#E5ECF6\",\"subunitcolor\":\"white\",\"showland\":true,\"showlakes\":true,\"lakecolor\":\"white\"},\"title\":{\"x\":0.05},\"mapbox\":{\"style\":\"light\"}}},\"xaxis\":{\"anchor\":\"y\",\"domain\":[0.0,1.0],\"title\":{\"text\":\"Age\"}},\"yaxis\":{\"anchor\":\"x\",\"domain\":[0.0,1.0],\"title\":{\"text\":\"Frequency [count]\"}},\"legend\":{\"tracegroupgap\":0},\"title\":{\"text\":\"DS Applicants: Distribution of Ages\"},\"barmode\":\"relative\"},                        {\"responsive\": true}                    ).then(function(){\n",
       "                            \n",
       "var gd = document.getElementById('a1d27574-05a5-4745-b8e5-9fbcdb3fcc8f');\n",
       "var x = new MutationObserver(function (mutations, observer) {{\n",
       "        var display = window.getComputedStyle(gd).display;\n",
       "        if (!display || display === 'none') {{\n",
       "            console.log([gd, 'removed!']);\n",
       "            Plotly.purge(gd);\n",
       "            observer.disconnect();\n",
       "        }}\n",
       "}});\n",
       "\n",
       "// Listen for the removal of the full notebook cells\n",
       "var notebookContainer = gd.closest('#notebook-container');\n",
       "if (notebookContainer) {{\n",
       "    x.observe(notebookContainer, {childList: true});\n",
       "}}\n",
       "\n",
       "// Listen for the clearing of the current output cell\n",
       "var outputEl = gd.closest('.output');\n",
       "if (outputEl) {{\n",
       "    x.observe(outputEl, {childList: true});\n",
       "}}\n",
       "\n",
       "                        })                };                });            </script>        </div>"
      ]
     },
     "metadata": {},
     "output_type": "display_data"
    }
   ],
   "source": [
    "def build_age_hist():\n",
    "    # Create histogram of `ages`\n",
    "    fig = px.histogram(x=ages,nbins=20,title=\"DS Applicants: Distribution of Ages\")\n",
    "    # Set axis labels\n",
    "    fig.update_layout(xaxis_title=\"Age\",yaxis_title=\"Frequency [count]\")\n",
    "    return fig\n",
    "\n",
    "\n",
    "age_fig = build_age_hist()\n",
    "print(\"age_fig type:\", type(age_fig))\n",
    "age_fig.show()"
   ]
  },
  {
   "cell_type": "markdown",
   "id": "75441a77",
   "metadata": {
    "deletable": false,
    "editable": false
   },
   "source": [
    "It looks like most of our applicants are in their twenties, but we also have applicants in their 70s. What a wonderful example of lifelong learning. Role models for all of us!"
   ]
  },
  {
   "cell_type": "markdown",
   "id": "d29dbca8-889e-484a-b9ad-e7ef44dc7d50",
   "metadata": {
    "deletable": false,
    "editable": false
   },
   "source": [
    "## Education"
   ]
  },
  {
   "cell_type": "markdown",
   "id": "3cee6113-15d2-4375-a113-b4a6c583c023",
   "metadata": {
    "deletable": false,
    "editable": false
   },
   "source": [
    "Okay, there's one more attribute left for us to explore: educational attainment. Which degrees do our applicants have? First, let's count the number of applicants in each category..."
   ]
  },
  {
   "cell_type": "code",
   "execution_count": 47,
   "id": "2d2b99dc-12a2-474c-be15-52482225f195",
   "metadata": {
    "deletable": false,
    "editable": false,
    "init_cell": true
   },
   "outputs": [
    {
     "data": {
      "text/html": [
       "\n",
       "        <iframe\n",
       "            width=\"600\"\n",
       "            height=\"300\"\n",
       "            src=\"https://player.vimeo.com/video/733366435?h=c6d3a83830\"\n",
       "            frameborder=\"0\"\n",
       "            allowfullscreen\n",
       "            \n",
       "        ></iframe>\n",
       "        "
      ],
      "text/plain": [
       "<IPython.lib.display.VimeoVideo at 0x7f1ff1615f70>"
      ]
     },
     "execution_count": 47,
     "metadata": {},
     "output_type": "execute_result"
    }
   ],
   "source": [
    "VimeoVideo(\"733366435\", h=\"c6d3a83830\", width=600)"
   ]
  },
  {
   "cell_type": "markdown",
   "id": "3a297e76-3067-4990-aa59-ec444e5e83ef",
   "metadata": {
    "deletable": false,
    "editable": false
   },
   "source": [
    "**Task 7.1.18:** Use the [`aggregate`](https://pymongo.readthedocs.io/en/stable/api/pymongo/collection.html#pymongo.collection.Collection.aggregate) method to calculate value counts for highest degree earned in `ds_app`.\n",
    "\n",
    "- [Aggregate data in a series using `value_counts` in pandas.](../%40textbook/04-pandas-advanced.ipynb#Working-with-value_counts-in-a-Series)"
   ]
  },
  {
   "cell_type": "code",
   "execution_count": 61,
   "id": "cb60d49a-b716-4a77-81b9-f285b9451f8f",
   "metadata": {
    "deletable": false
   },
   "outputs": [
    {
     "name": "stdout",
     "output_type": "stream",
     "text": [
      "result type: <class 'pymongo.command_cursor.CommandCursor'>\n"
     ]
    }
   ],
   "source": [
    "result =  ds_app.aggregate(\n",
    "[\n",
    "    {\n",
    "        \"$group\":{\n",
    "            \"_id\":\"$highestDegreeEarned\",\n",
    "            \"count\": {\"$count\":{}}\n",
    "                \n",
    "            \n",
    "        }\n",
    "    }\n",
    "]\n",
    ")\n",
    "\n",
    "print(\"result type:\", type(result))"
   ]
  },
  {
   "cell_type": "markdown",
   "id": "96c36e6b-d0b6-49ab-8f1b-97a22eacd572",
   "metadata": {
    "deletable": false,
    "editable": false
   },
   "source": [
    "... and create a Series..."
   ]
  },
  {
   "cell_type": "code",
   "execution_count": 49,
   "id": "49d3df53-4df4-4ae5-b8d0-3e4ab9e9192d",
   "metadata": {
    "deletable": false,
    "editable": false,
    "init_cell": true
   },
   "outputs": [
    {
     "data": {
      "text/html": [
       "\n",
       "        <iframe\n",
       "            width=\"600\"\n",
       "            height=\"300\"\n",
       "            src=\"https://player.vimeo.com/video/733365459?h=5c14d30a9e\"\n",
       "            frameborder=\"0\"\n",
       "            allowfullscreen\n",
       "            \n",
       "        ></iframe>\n",
       "        "
      ],
      "text/plain": [
       "<IPython.lib.display.VimeoVideo at 0x7f1ff1615df0>"
      ]
     },
     "execution_count": 49,
     "metadata": {},
     "output_type": "execute_result"
    }
   ],
   "source": [
    "VimeoVideo(\"733365459\", h=\"5c14d30a9e\", width=600)"
   ]
  },
  {
   "cell_type": "markdown",
   "id": "9f1381b0-0c8a-43c3-9b16-a781b1e4668d",
   "metadata": {
    "deletable": false,
    "editable": false
   },
   "source": [
    "**Task 7.1.19:** Read your `result` from the previous task into a Series `education`.\n",
    "\n",
    "- [Create a Series in pandas.](../%40textbook/04-pandas-advanced.ipynb#Select-a-Series-from-a-DataFrame)"
   ]
  },
  {
   "cell_type": "code",
   "execution_count": 62,
   "id": "dd9469a7-6c73-43ea-a4ec-b893770fb3f0",
   "metadata": {
    "deletable": false
   },
   "outputs": [
    {
     "name": "stdout",
     "output_type": "stream",
     "text": [
      "education type: <class 'pandas.core.series.Series'>\n",
      "education shape: (5,)\n"
     ]
    },
    {
     "data": {
      "text/plain": [
       "highest_degree_earned\n",
       "Master's degree                  862\n",
       "High School or Baccalaureate     832\n",
       "Bachelor's degree               2643\n",
       "Some College (1-3 years)         612\n",
       "Doctorate (e.g. PhD)              76\n",
       "Name: count, dtype: int64"
      ]
     },
     "execution_count": 62,
     "metadata": {},
     "output_type": "execute_result"
    }
   ],
   "source": [
    "education = (\n",
    "pd.DataFrame(result)\n",
    "    .rename({\"_id\":\"highest_degree_earned\"},axis=\"columns\")\n",
    "    .set_index(\"highest_degree_earned\")\n",
    "    .squeeze()\n",
    ")\n",
    "\n",
    "print(\"education type:\", type(education))\n",
    "print(\"education shape:\", education.shape)\n",
    "education.head()"
   ]
  },
  {
   "cell_type": "markdown",
   "id": "eff903bc-8584-4071-8ac3-9a31ced814b0",
   "metadata": {
    "deletable": false,
    "editable": false
   },
   "source": [
    "... and... wait! We need to sort these categories more logically. Since we're talking about the highest level of education our applicants have, we need to sort the categories hierarchically rather than alphabetically or numerically. The order should be: `\"High School or Baccalaureate\"`, `\"Some College (1-3 years)\"`, `\"Bachelor's Degree\"`, `\"Master's Degree\"`, and `\"Doctorate (e.g. PhD)\"`. Let's do that with a function."
   ]
  },
  {
   "cell_type": "code",
   "execution_count": 63,
   "id": "0d32f96f-bb75-4d4c-b9ab-c965095b781a",
   "metadata": {
    "deletable": false,
    "editable": false,
    "init_cell": true
   },
   "outputs": [
    {
     "data": {
      "text/html": [
       "\n",
       "        <iframe\n",
       "            width=\"600\"\n",
       "            height=\"300\"\n",
       "            src=\"https://player.vimeo.com/video/733362518?h=90dd9a3394\"\n",
       "            frameborder=\"0\"\n",
       "            allowfullscreen\n",
       "            \n",
       "        ></iframe>\n",
       "        "
      ],
      "text/plain": [
       "<IPython.lib.display.VimeoVideo at 0x7f1f5f0b0a30>"
      ]
     },
     "execution_count": 63,
     "metadata": {},
     "output_type": "execute_result"
    }
   ],
   "source": [
    "VimeoVideo(\"733362518\", h=\"90dd9a3394\", width=600)"
   ]
  },
  {
   "cell_type": "markdown",
   "id": "2ea903ce-6c83-430a-b387-21c5e268be16",
   "metadata": {
    "deletable": false,
    "editable": false
   },
   "source": [
    "**Task 7.1.20:** Complete the `ed_sort` function below so that it can be used to sort the index of `education`. When you're satisfied that you're going to end up with a properly-sorted Series, submit your code to the grader.\n",
    "\n",
    "- What's a dictionary comprehension?\n",
    "- [Sort a DataFrame or Series in pandas.](../%40textbook/03-pandas-getting-started.ipynb#Sorting)"
   ]
  },
  {
   "cell_type": "code",
   "execution_count": 66,
   "id": "ed35da32-c9a3-44c9-a383-f6f01c89f1d6",
   "metadata": {
    "deletable": false
   },
   "outputs": [
    {
     "data": {
      "text/plain": [
       "highest_degree_earned\n",
       "High School or Baccalaureate     832\n",
       "Some College (1-3 years)         612\n",
       "Bachelor's degree               2643\n",
       "Master's degree                  862\n",
       "Doctorate (e.g. PhD)              76\n",
       "Name: count, dtype: int64"
      ]
     },
     "execution_count": 66,
     "metadata": {},
     "output_type": "execute_result"
    }
   ],
   "source": [
    "def ed_sort(counts):\n",
    "    \"\"\"Sort array `counts` from highest to lowest degree earned.\"\"\"\n",
    "    degrees = [\n",
    "        \"High School or Baccalaureate\",\n",
    "        \"Some College (1-3 years)\",\n",
    "        \"Bachelor's degree\",\n",
    "        \"Master's degree\",\n",
    "        \"Doctorate (e.g. PhD)\",\n",
    "    ]\n",
    "    mapping = {k:v for v, k in enumerate(degrees)}\n",
    "    sort_order = [mapping[c] for c in counts]\n",
    "    return sort_order\n",
    "\n",
    "\n",
    "education.sort_index(key=ed_sort, inplace=True)\n",
    "education"
   ]
  },
  {
   "cell_type": "code",
   "execution_count": 67,
   "id": "84ae9aa7-4ade-4014-8f6a-502745598e6d",
   "metadata": {
    "deletable": false,
    "editable": false
   },
   "outputs": [
    {
     "data": {
      "text/html": [
       "\n",
       "    <div class=\"wqet-result\">\n",
       "      <div class=\"animation\">\n",
       "        <svg class=\"checkmark\" xmlns=\"http://www.w3.org/2000/svg\" viewBox=\"0 0 52 52\">\n",
       "          <circle class=\"checkmark__circle\" cx=\"26\" cy=\"26\" r=\"25\" fill=\"none\"/>\n",
       "          <path class=\"checkmark__check\" fill=\"none\" d=\"M14.1 27.2l7.1 7.2 16.7-16.8\"/>\n",
       "        </svg>\n",
       "      </div>\n",
       "      <div class=\"details\">\n",
       "        <p class=\"title\"><p>Boom! You got it.</p></p>\n",
       "        <p>Score: 1</p>\n",
       "      </div>\n",
       "    </div>\n"
      ],
      "text/plain": [
       "<IPython.core.display.HTML object>"
      ]
     },
     "metadata": {},
     "output_type": "display_data"
    }
   ],
   "source": [
    "wqet_grader.grade(\"Project 7 Assessment\", \"Task 7.1.20\", education)\n"
   ]
  },
  {
   "cell_type": "markdown",
   "id": "820af5a8-5af8-4ed1-93fc-a725baaa719a",
   "metadata": {
    "deletable": false,
    "editable": false
   },
   "source": [
    "Now we can make a bar chart showing the educational attainment of the applicants. Make sure the levels are sorted correctly!"
   ]
  },
  {
   "cell_type": "code",
   "execution_count": 68,
   "id": "b0789165-0cfe-4e86-97a3-2833451d2ca8",
   "metadata": {
    "deletable": false,
    "editable": false,
    "init_cell": true
   },
   "outputs": [
    {
     "data": {
      "text/html": [
       "\n",
       "        <iframe\n",
       "            width=\"600\"\n",
       "            height=\"300\"\n",
       "            src=\"https://player.vimeo.com/video/733360047?h=b17fffc11b\"\n",
       "            frameborder=\"0\"\n",
       "            allowfullscreen\n",
       "            \n",
       "        ></iframe>\n",
       "        "
      ],
      "text/plain": [
       "<IPython.lib.display.VimeoVideo at 0x7f1f5f0c2310>"
      ]
     },
     "execution_count": 68,
     "metadata": {},
     "output_type": "execute_result"
    }
   ],
   "source": [
    "VimeoVideo(\"733360047\", h=\"b17fffc11b\", width=600)"
   ]
  },
  {
   "cell_type": "markdown",
   "id": "9a059634-2f94-4d7f-bceb-d9f1ac35ecc6",
   "metadata": {
    "deletable": false,
    "editable": false
   },
   "source": [
    "**Task 7.1.21:** Create a function `build_ed_bar` that returns a plotly horizontal bar chart of `education`. Be sure to label your x-axis `\"Frequency [count]\"`, y-axis `\"Highest Degree Earned\"`, and use the title `\"DS Applicant Education Levels\"`.\n",
    "\n",
    "- [What's a bar chart?](../%40textbook/08-visualization-plotly.ipynb#Bar-Chart)\n",
    "- [Create a bar chart using plotly express.](../%40textbook/08-visualization-plotly.ipynb#Bar-Chart)"
   ]
  },
  {
   "cell_type": "code",
   "execution_count": 69,
   "id": "5bb18be2-c9cf-4223-b081-f82c385a1fe0",
   "metadata": {
    "deletable": false
   },
   "outputs": [
    {
     "name": "stdout",
     "output_type": "stream",
     "text": [
      "ed_fig type: <class 'plotly.graph_objs._figure.Figure'>\n"
     ]
    },
    {
     "data": {
      "application/vnd.plotly.v1+json": {
       "config": {
        "plotlyServerURL": "https://plot.ly"
       },
       "data": [
        {
         "alignmentgroup": "True",
         "hovertemplate": "x=%{x}<br>y=%{y}<extra></extra>",
         "legendgroup": "",
         "marker": {
          "color": "#636efa",
          "pattern": {
           "shape": ""
          }
         },
         "name": "",
         "offsetgroup": "",
         "orientation": "h",
         "showlegend": false,
         "textposition": "auto",
         "type": "bar",
         "x": [
          832,
          612,
          2643,
          862,
          76
         ],
         "xaxis": "x",
         "y": [
          "High School or Baccalaureate",
          "Some College (1-3 years)",
          "Bachelor's degree",
          "Master's degree",
          "Doctorate (e.g. PhD)"
         ],
         "yaxis": "y"
        }
       ],
       "layout": {
        "autosize": true,
        "barmode": "relative",
        "legend": {
         "tracegroupgap": 0
        },
        "template": {
         "data": {
          "bar": [
           {
            "error_x": {
             "color": "#2a3f5f"
            },
            "error_y": {
             "color": "#2a3f5f"
            },
            "marker": {
             "line": {
              "color": "#E5ECF6",
              "width": 0.5
             },
             "pattern": {
              "fillmode": "overlay",
              "size": 10,
              "solidity": 0.2
             }
            },
            "type": "bar"
           }
          ],
          "barpolar": [
           {
            "marker": {
             "line": {
              "color": "#E5ECF6",
              "width": 0.5
             },
             "pattern": {
              "fillmode": "overlay",
              "size": 10,
              "solidity": 0.2
             }
            },
            "type": "barpolar"
           }
          ],
          "carpet": [
           {
            "aaxis": {
             "endlinecolor": "#2a3f5f",
             "gridcolor": "white",
             "linecolor": "white",
             "minorgridcolor": "white",
             "startlinecolor": "#2a3f5f"
            },
            "baxis": {
             "endlinecolor": "#2a3f5f",
             "gridcolor": "white",
             "linecolor": "white",
             "minorgridcolor": "white",
             "startlinecolor": "#2a3f5f"
            },
            "type": "carpet"
           }
          ],
          "choropleth": [
           {
            "colorbar": {
             "outlinewidth": 0,
             "ticks": ""
            },
            "type": "choropleth"
           }
          ],
          "contour": [
           {
            "colorbar": {
             "outlinewidth": 0,
             "ticks": ""
            },
            "colorscale": [
             [
              0,
              "#0d0887"
             ],
             [
              0.1111111111111111,
              "#46039f"
             ],
             [
              0.2222222222222222,
              "#7201a8"
             ],
             [
              0.3333333333333333,
              "#9c179e"
             ],
             [
              0.4444444444444444,
              "#bd3786"
             ],
             [
              0.5555555555555556,
              "#d8576b"
             ],
             [
              0.6666666666666666,
              "#ed7953"
             ],
             [
              0.7777777777777778,
              "#fb9f3a"
             ],
             [
              0.8888888888888888,
              "#fdca26"
             ],
             [
              1,
              "#f0f921"
             ]
            ],
            "type": "contour"
           }
          ],
          "contourcarpet": [
           {
            "colorbar": {
             "outlinewidth": 0,
             "ticks": ""
            },
            "type": "contourcarpet"
           }
          ],
          "heatmap": [
           {
            "colorbar": {
             "outlinewidth": 0,
             "ticks": ""
            },
            "colorscale": [
             [
              0,
              "#0d0887"
             ],
             [
              0.1111111111111111,
              "#46039f"
             ],
             [
              0.2222222222222222,
              "#7201a8"
             ],
             [
              0.3333333333333333,
              "#9c179e"
             ],
             [
              0.4444444444444444,
              "#bd3786"
             ],
             [
              0.5555555555555556,
              "#d8576b"
             ],
             [
              0.6666666666666666,
              "#ed7953"
             ],
             [
              0.7777777777777778,
              "#fb9f3a"
             ],
             [
              0.8888888888888888,
              "#fdca26"
             ],
             [
              1,
              "#f0f921"
             ]
            ],
            "type": "heatmap"
           }
          ],
          "heatmapgl": [
           {
            "colorbar": {
             "outlinewidth": 0,
             "ticks": ""
            },
            "colorscale": [
             [
              0,
              "#0d0887"
             ],
             [
              0.1111111111111111,
              "#46039f"
             ],
             [
              0.2222222222222222,
              "#7201a8"
             ],
             [
              0.3333333333333333,
              "#9c179e"
             ],
             [
              0.4444444444444444,
              "#bd3786"
             ],
             [
              0.5555555555555556,
              "#d8576b"
             ],
             [
              0.6666666666666666,
              "#ed7953"
             ],
             [
              0.7777777777777778,
              "#fb9f3a"
             ],
             [
              0.8888888888888888,
              "#fdca26"
             ],
             [
              1,
              "#f0f921"
             ]
            ],
            "type": "heatmapgl"
           }
          ],
          "histogram": [
           {
            "marker": {
             "pattern": {
              "fillmode": "overlay",
              "size": 10,
              "solidity": 0.2
             }
            },
            "type": "histogram"
           }
          ],
          "histogram2d": [
           {
            "colorbar": {
             "outlinewidth": 0,
             "ticks": ""
            },
            "colorscale": [
             [
              0,
              "#0d0887"
             ],
             [
              0.1111111111111111,
              "#46039f"
             ],
             [
              0.2222222222222222,
              "#7201a8"
             ],
             [
              0.3333333333333333,
              "#9c179e"
             ],
             [
              0.4444444444444444,
              "#bd3786"
             ],
             [
              0.5555555555555556,
              "#d8576b"
             ],
             [
              0.6666666666666666,
              "#ed7953"
             ],
             [
              0.7777777777777778,
              "#fb9f3a"
             ],
             [
              0.8888888888888888,
              "#fdca26"
             ],
             [
              1,
              "#f0f921"
             ]
            ],
            "type": "histogram2d"
           }
          ],
          "histogram2dcontour": [
           {
            "colorbar": {
             "outlinewidth": 0,
             "ticks": ""
            },
            "colorscale": [
             [
              0,
              "#0d0887"
             ],
             [
              0.1111111111111111,
              "#46039f"
             ],
             [
              0.2222222222222222,
              "#7201a8"
             ],
             [
              0.3333333333333333,
              "#9c179e"
             ],
             [
              0.4444444444444444,
              "#bd3786"
             ],
             [
              0.5555555555555556,
              "#d8576b"
             ],
             [
              0.6666666666666666,
              "#ed7953"
             ],
             [
              0.7777777777777778,
              "#fb9f3a"
             ],
             [
              0.8888888888888888,
              "#fdca26"
             ],
             [
              1,
              "#f0f921"
             ]
            ],
            "type": "histogram2dcontour"
           }
          ],
          "mesh3d": [
           {
            "colorbar": {
             "outlinewidth": 0,
             "ticks": ""
            },
            "type": "mesh3d"
           }
          ],
          "parcoords": [
           {
            "line": {
             "colorbar": {
              "outlinewidth": 0,
              "ticks": ""
             }
            },
            "type": "parcoords"
           }
          ],
          "pie": [
           {
            "automargin": true,
            "type": "pie"
           }
          ],
          "scatter": [
           {
            "fillpattern": {
             "fillmode": "overlay",
             "size": 10,
             "solidity": 0.2
            },
            "type": "scatter"
           }
          ],
          "scatter3d": [
           {
            "line": {
             "colorbar": {
              "outlinewidth": 0,
              "ticks": ""
             }
            },
            "marker": {
             "colorbar": {
              "outlinewidth": 0,
              "ticks": ""
             }
            },
            "type": "scatter3d"
           }
          ],
          "scattercarpet": [
           {
            "marker": {
             "colorbar": {
              "outlinewidth": 0,
              "ticks": ""
             }
            },
            "type": "scattercarpet"
           }
          ],
          "scattergeo": [
           {
            "marker": {
             "colorbar": {
              "outlinewidth": 0,
              "ticks": ""
             }
            },
            "type": "scattergeo"
           }
          ],
          "scattergl": [
           {
            "marker": {
             "colorbar": {
              "outlinewidth": 0,
              "ticks": ""
             }
            },
            "type": "scattergl"
           }
          ],
          "scattermapbox": [
           {
            "marker": {
             "colorbar": {
              "outlinewidth": 0,
              "ticks": ""
             }
            },
            "type": "scattermapbox"
           }
          ],
          "scatterpolar": [
           {
            "marker": {
             "colorbar": {
              "outlinewidth": 0,
              "ticks": ""
             }
            },
            "type": "scatterpolar"
           }
          ],
          "scatterpolargl": [
           {
            "marker": {
             "colorbar": {
              "outlinewidth": 0,
              "ticks": ""
             }
            },
            "type": "scatterpolargl"
           }
          ],
          "scatterternary": [
           {
            "marker": {
             "colorbar": {
              "outlinewidth": 0,
              "ticks": ""
             }
            },
            "type": "scatterternary"
           }
          ],
          "surface": [
           {
            "colorbar": {
             "outlinewidth": 0,
             "ticks": ""
            },
            "colorscale": [
             [
              0,
              "#0d0887"
             ],
             [
              0.1111111111111111,
              "#46039f"
             ],
             [
              0.2222222222222222,
              "#7201a8"
             ],
             [
              0.3333333333333333,
              "#9c179e"
             ],
             [
              0.4444444444444444,
              "#bd3786"
             ],
             [
              0.5555555555555556,
              "#d8576b"
             ],
             [
              0.6666666666666666,
              "#ed7953"
             ],
             [
              0.7777777777777778,
              "#fb9f3a"
             ],
             [
              0.8888888888888888,
              "#fdca26"
             ],
             [
              1,
              "#f0f921"
             ]
            ],
            "type": "surface"
           }
          ],
          "table": [
           {
            "cells": {
             "fill": {
              "color": "#EBF0F8"
             },
             "line": {
              "color": "white"
             }
            },
            "header": {
             "fill": {
              "color": "#C8D4E3"
             },
             "line": {
              "color": "white"
             }
            },
            "type": "table"
           }
          ]
         },
         "layout": {
          "annotationdefaults": {
           "arrowcolor": "#2a3f5f",
           "arrowhead": 0,
           "arrowwidth": 1
          },
          "autotypenumbers": "strict",
          "coloraxis": {
           "colorbar": {
            "outlinewidth": 0,
            "ticks": ""
           }
          },
          "colorscale": {
           "diverging": [
            [
             0,
             "#8e0152"
            ],
            [
             0.1,
             "#c51b7d"
            ],
            [
             0.2,
             "#de77ae"
            ],
            [
             0.3,
             "#f1b6da"
            ],
            [
             0.4,
             "#fde0ef"
            ],
            [
             0.5,
             "#f7f7f7"
            ],
            [
             0.6,
             "#e6f5d0"
            ],
            [
             0.7,
             "#b8e186"
            ],
            [
             0.8,
             "#7fbc41"
            ],
            [
             0.9,
             "#4d9221"
            ],
            [
             1,
             "#276419"
            ]
           ],
           "sequential": [
            [
             0,
             "#0d0887"
            ],
            [
             0.1111111111111111,
             "#46039f"
            ],
            [
             0.2222222222222222,
             "#7201a8"
            ],
            [
             0.3333333333333333,
             "#9c179e"
            ],
            [
             0.4444444444444444,
             "#bd3786"
            ],
            [
             0.5555555555555556,
             "#d8576b"
            ],
            [
             0.6666666666666666,
             "#ed7953"
            ],
            [
             0.7777777777777778,
             "#fb9f3a"
            ],
            [
             0.8888888888888888,
             "#fdca26"
            ],
            [
             1,
             "#f0f921"
            ]
           ],
           "sequentialminus": [
            [
             0,
             "#0d0887"
            ],
            [
             0.1111111111111111,
             "#46039f"
            ],
            [
             0.2222222222222222,
             "#7201a8"
            ],
            [
             0.3333333333333333,
             "#9c179e"
            ],
            [
             0.4444444444444444,
             "#bd3786"
            ],
            [
             0.5555555555555556,
             "#d8576b"
            ],
            [
             0.6666666666666666,
             "#ed7953"
            ],
            [
             0.7777777777777778,
             "#fb9f3a"
            ],
            [
             0.8888888888888888,
             "#fdca26"
            ],
            [
             1,
             "#f0f921"
            ]
           ]
          },
          "colorway": [
           "#636efa",
           "#EF553B",
           "#00cc96",
           "#ab63fa",
           "#FFA15A",
           "#19d3f3",
           "#FF6692",
           "#B6E880",
           "#FF97FF",
           "#FECB52"
          ],
          "font": {
           "color": "#2a3f5f"
          },
          "geo": {
           "bgcolor": "white",
           "lakecolor": "white",
           "landcolor": "#E5ECF6",
           "showlakes": true,
           "showland": true,
           "subunitcolor": "white"
          },
          "hoverlabel": {
           "align": "left"
          },
          "hovermode": "closest",
          "mapbox": {
           "style": "light"
          },
          "paper_bgcolor": "white",
          "plot_bgcolor": "#E5ECF6",
          "polar": {
           "angularaxis": {
            "gridcolor": "white",
            "linecolor": "white",
            "ticks": ""
           },
           "bgcolor": "#E5ECF6",
           "radialaxis": {
            "gridcolor": "white",
            "linecolor": "white",
            "ticks": ""
           }
          },
          "scene": {
           "xaxis": {
            "backgroundcolor": "#E5ECF6",
            "gridcolor": "white",
            "gridwidth": 2,
            "linecolor": "white",
            "showbackground": true,
            "ticks": "",
            "zerolinecolor": "white"
           },
           "yaxis": {
            "backgroundcolor": "#E5ECF6",
            "gridcolor": "white",
            "gridwidth": 2,
            "linecolor": "white",
            "showbackground": true,
            "ticks": "",
            "zerolinecolor": "white"
           },
           "zaxis": {
            "backgroundcolor": "#E5ECF6",
            "gridcolor": "white",
            "gridwidth": 2,
            "linecolor": "white",
            "showbackground": true,
            "ticks": "",
            "zerolinecolor": "white"
           }
          },
          "shapedefaults": {
           "line": {
            "color": "#2a3f5f"
           }
          },
          "ternary": {
           "aaxis": {
            "gridcolor": "white",
            "linecolor": "white",
            "ticks": ""
           },
           "baxis": {
            "gridcolor": "white",
            "linecolor": "white",
            "ticks": ""
           },
           "bgcolor": "#E5ECF6",
           "caxis": {
            "gridcolor": "white",
            "linecolor": "white",
            "ticks": ""
           }
          },
          "title": {
           "x": 0.05
          },
          "xaxis": {
           "automargin": true,
           "gridcolor": "white",
           "linecolor": "white",
           "ticks": "",
           "title": {
            "standoff": 15
           },
           "zerolinecolor": "white",
           "zerolinewidth": 2
          },
          "yaxis": {
           "automargin": true,
           "gridcolor": "white",
           "linecolor": "white",
           "ticks": "",
           "title": {
            "standoff": 15
           },
           "zerolinecolor": "white",
           "zerolinewidth": 2
          }
         }
        },
        "title": {
         "text": "DS Applicant: Highest Degree Earned"
        },
        "xaxis": {
         "anchor": "y",
         "autorange": true,
         "domain": [
          0,
          1
         ],
         "range": [
          0,
          2782.1052631578946
         ],
         "title": {
          "text": "Frequency [count]"
         },
         "type": "linear"
        },
        "yaxis": {
         "anchor": "x",
         "autorange": true,
         "domain": [
          0,
          1
         ],
         "range": [
          -0.5,
          4.5
         ],
         "title": {
          "text": "Highest Degree Earned"
         },
         "type": "category"
        }
       }
      },
      "image/png": "[encoded data removed]",
      "text/html": [
       "<div>                            <div id=\"6d44ce11-bf29-4407-a5a3-f0d346f6de45\" class=\"plotly-graph-div\" style=\"height:525px; width:100%;\"></div>            <script type=\"text/javascript\">                require([\"plotly\"], function(Plotly) {                    window.PLOTLYENV=window.PLOTLYENV || {};                                    if (document.getElementById(\"6d44ce11-bf29-4407-a5a3-f0d346f6de45\")) {                    Plotly.newPlot(                        \"6d44ce11-bf29-4407-a5a3-f0d346f6de45\",                        [{\"alignmentgroup\":\"True\",\"hovertemplate\":\"x=%{x}<br>y=%{y}<extra></extra>\",\"legendgroup\":\"\",\"marker\":{\"color\":\"#636efa\",\"pattern\":{\"shape\":\"\"}},\"name\":\"\",\"offsetgroup\":\"\",\"orientation\":\"h\",\"showlegend\":false,\"textposition\":\"auto\",\"x\":[832,612,2643,862,76],\"xaxis\":\"x\",\"y\":[\"High School or Baccalaureate\",\"Some College (1-3 years)\",\"Bachelor's degree\",\"Master's degree\",\"Doctorate (e.g. PhD)\"],\"yaxis\":\"y\",\"type\":\"bar\"}],                        {\"template\":{\"data\":{\"histogram2dcontour\":[{\"type\":\"histogram2dcontour\",\"colorbar\":{\"outlinewidth\":0,\"ticks\":\"\"},\"colorscale\":[[0.0,\"#0d0887\"],[0.1111111111111111,\"#46039f\"],[0.2222222222222222,\"#7201a8\"],[0.3333333333333333,\"#9c179e\"],[0.4444444444444444,\"#bd3786\"],[0.5555555555555556,\"#d8576b\"],[0.6666666666666666,\"#ed7953\"],[0.7777777777777778,\"#fb9f3a\"],[0.8888888888888888,\"#fdca26\"],[1.0,\"#f0f921\"]]}],\"choropleth\":[{\"type\":\"choropleth\",\"colorbar\":{\"outlinewidth\":0,\"ticks\":\"\"}}],\"histogram2d\":[{\"type\":\"histogram2d\",\"colorbar\":{\"outlinewidth\":0,\"ticks\":\"\"},\"colorscale\":[[0.0,\"#0d0887\"],[0.1111111111111111,\"#46039f\"],[0.2222222222222222,\"#7201a8\"],[0.3333333333333333,\"#9c179e\"],[0.4444444444444444,\"#bd3786\"],[0.5555555555555556,\"#d8576b\"],[0.6666666666666666,\"#ed7953\"],[0.7777777777777778,\"#fb9f3a\"],[0.8888888888888888,\"#fdca26\"],[1.0,\"#f0f921\"]]}],\"heatmap\":[{\"type\":\"heatmap\",\"colorbar\":{\"outlinewidth\":0,\"ticks\":\"\"},\"colorscale\":[[0.0,\"#0d0887\"],[0.1111111111111111,\"#46039f\"],[0.2222222222222222,\"#7201a8\"],[0.3333333333333333,\"#9c179e\"],[0.4444444444444444,\"#bd3786\"],[0.5555555555555556,\"#d8576b\"],[0.6666666666666666,\"#ed7953\"],[0.7777777777777778,\"#fb9f3a\"],[0.8888888888888888,\"#fdca26\"],[1.0,\"#f0f921\"]]}],\"heatmapgl\":[{\"type\":\"heatmapgl\",\"colorbar\":{\"outlinewidth\":0,\"ticks\":\"\"},\"colorscale\":[[0.0,\"#0d0887\"],[0.1111111111111111,\"#46039f\"],[0.2222222222222222,\"#7201a8\"],[0.3333333333333333,\"#9c179e\"],[0.4444444444444444,\"#bd3786\"],[0.5555555555555556,\"#d8576b\"],[0.6666666666666666,\"#ed7953\"],[0.7777777777777778,\"#fb9f3a\"],[0.8888888888888888,\"#fdca26\"],[1.0,\"#f0f921\"]]}],\"contourcarpet\":[{\"type\":\"contourcarpet\",\"colorbar\":{\"outlinewidth\":0,\"ticks\":\"\"}}],\"contour\":[{\"type\":\"contour\",\"colorbar\":{\"outlinewidth\":0,\"ticks\":\"\"},\"colorscale\":[[0.0,\"#0d0887\"],[0.1111111111111111,\"#46039f\"],[0.2222222222222222,\"#7201a8\"],[0.3333333333333333,\"#9c179e\"],[0.4444444444444444,\"#bd3786\"],[0.5555555555555556,\"#d8576b\"],[0.6666666666666666,\"#ed7953\"],[0.7777777777777778,\"#fb9f3a\"],[0.8888888888888888,\"#fdca26\"],[1.0,\"#f0f921\"]]}],\"surface\":[{\"type\":\"surface\",\"colorbar\":{\"outlinewidth\":0,\"ticks\":\"\"},\"colorscale\":[[0.0,\"#0d0887\"],[0.1111111111111111,\"#46039f\"],[0.2222222222222222,\"#7201a8\"],[0.3333333333333333,\"#9c179e\"],[0.4444444444444444,\"#bd3786\"],[0.5555555555555556,\"#d8576b\"],[0.6666666666666666,\"#ed7953\"],[0.7777777777777778,\"#fb9f3a\"],[0.8888888888888888,\"#fdca26\"],[1.0,\"#f0f921\"]]}],\"mesh3d\":[{\"type\":\"mesh3d\",\"colorbar\":{\"outlinewidth\":0,\"ticks\":\"\"}}],\"scatter\":[{\"fillpattern\":{\"fillmode\":\"overlay\",\"size\":10,\"solidity\":0.2},\"type\":\"scatter\"}],\"parcoords\":[{\"type\":\"parcoords\",\"line\":{\"colorbar\":{\"outlinewidth\":0,\"ticks\":\"\"}}}],\"scatterpolargl\":[{\"type\":\"scatterpolargl\",\"marker\":{\"colorbar\":{\"outlinewidth\":0,\"ticks\":\"\"}}}],\"bar\":[{\"error_x\":{\"color\":\"#2a3f5f\"},\"error_y\":{\"color\":\"#2a3f5f\"},\"marker\":{\"line\":{\"color\":\"#E5ECF6\",\"width\":0.5},\"pattern\":{\"fillmode\":\"overlay\",\"size\":10,\"solidity\":0.2}},\"type\":\"bar\"}],\"scattergeo\":[{\"type\":\"scattergeo\",\"marker\":{\"colorbar\":{\"outlinewidth\":0,\"ticks\":\"\"}}}],\"scatterpolar\":[{\"type\":\"scatterpolar\",\"marker\":{\"colorbar\":{\"outlinewidth\":0,\"ticks\":\"\"}}}],\"histogram\":[{\"marker\":{\"pattern\":{\"fillmode\":\"overlay\",\"size\":10,\"solidity\":0.2}},\"type\":\"histogram\"}],\"scattergl\":[{\"type\":\"scattergl\",\"marker\":{\"colorbar\":{\"outlinewidth\":0,\"ticks\":\"\"}}}],\"scatter3d\":[{\"type\":\"scatter3d\",\"line\":{\"colorbar\":{\"outlinewidth\":0,\"ticks\":\"\"}},\"marker\":{\"colorbar\":{\"outlinewidth\":0,\"ticks\":\"\"}}}],\"scattermapbox\":[{\"type\":\"scattermapbox\",\"marker\":{\"colorbar\":{\"outlinewidth\":0,\"ticks\":\"\"}}}],\"scatterternary\":[{\"type\":\"scatterternary\",\"marker\":{\"colorbar\":{\"outlinewidth\":0,\"ticks\":\"\"}}}],\"scattercarpet\":[{\"type\":\"scattercarpet\",\"marker\":{\"colorbar\":{\"outlinewidth\":0,\"ticks\":\"\"}}}],\"carpet\":[{\"aaxis\":{\"endlinecolor\":\"#2a3f5f\",\"gridcolor\":\"white\",\"linecolor\":\"white\",\"minorgridcolor\":\"white\",\"startlinecolor\":\"#2a3f5f\"},\"baxis\":{\"endlinecolor\":\"#2a3f5f\",\"gridcolor\":\"white\",\"linecolor\":\"white\",\"minorgridcolor\":\"white\",\"startlinecolor\":\"#2a3f5f\"},\"type\":\"carpet\"}],\"table\":[{\"cells\":{\"fill\":{\"color\":\"#EBF0F8\"},\"line\":{\"color\":\"white\"}},\"header\":{\"fill\":{\"color\":\"#C8D4E3\"},\"line\":{\"color\":\"white\"}},\"type\":\"table\"}],\"barpolar\":[{\"marker\":{\"line\":{\"color\":\"#E5ECF6\",\"width\":0.5},\"pattern\":{\"fillmode\":\"overlay\",\"size\":10,\"solidity\":0.2}},\"type\":\"barpolar\"}],\"pie\":[{\"automargin\":true,\"type\":\"pie\"}]},\"layout\":{\"autotypenumbers\":\"strict\",\"colorway\":[\"#636efa\",\"#EF553B\",\"#00cc96\",\"#ab63fa\",\"#FFA15A\",\"#19d3f3\",\"#FF6692\",\"#B6E880\",\"#FF97FF\",\"#FECB52\"],\"font\":{\"color\":\"#2a3f5f\"},\"hovermode\":\"closest\",\"hoverlabel\":{\"align\":\"left\"},\"paper_bgcolor\":\"white\",\"plot_bgcolor\":\"#E5ECF6\",\"polar\":{\"bgcolor\":\"#E5ECF6\",\"angularaxis\":{\"gridcolor\":\"white\",\"linecolor\":\"white\",\"ticks\":\"\"},\"radialaxis\":{\"gridcolor\":\"white\",\"linecolor\":\"white\",\"ticks\":\"\"}},\"ternary\":{\"bgcolor\":\"#E5ECF6\",\"aaxis\":{\"gridcolor\":\"white\",\"linecolor\":\"white\",\"ticks\":\"\"},\"baxis\":{\"gridcolor\":\"white\",\"linecolor\":\"white\",\"ticks\":\"\"},\"caxis\":{\"gridcolor\":\"white\",\"linecolor\":\"white\",\"ticks\":\"\"}},\"coloraxis\":{\"colorbar\":{\"outlinewidth\":0,\"ticks\":\"\"}},\"colorscale\":{\"sequential\":[[0.0,\"#0d0887\"],[0.1111111111111111,\"#46039f\"],[0.2222222222222222,\"#7201a8\"],[0.3333333333333333,\"#9c179e\"],[0.4444444444444444,\"#bd3786\"],[0.5555555555555556,\"#d8576b\"],[0.6666666666666666,\"#ed7953\"],[0.7777777777777778,\"#fb9f3a\"],[0.8888888888888888,\"#fdca26\"],[1.0,\"#f0f921\"]],\"sequentialminus\":[[0.0,\"#0d0887\"],[0.1111111111111111,\"#46039f\"],[0.2222222222222222,\"#7201a8\"],[0.3333333333333333,\"#9c179e\"],[0.4444444444444444,\"#bd3786\"],[0.5555555555555556,\"#d8576b\"],[0.6666666666666666,\"#ed7953\"],[0.7777777777777778,\"#fb9f3a\"],[0.8888888888888888,\"#fdca26\"],[1.0,\"#f0f921\"]],\"diverging\":[[0,\"#8e0152\"],[0.1,\"#c51b7d\"],[0.2,\"#de77ae\"],[0.3,\"#f1b6da\"],[0.4,\"#fde0ef\"],[0.5,\"#f7f7f7\"],[0.6,\"#e6f5d0\"],[0.7,\"#b8e186\"],[0.8,\"#7fbc41\"],[0.9,\"#4d9221\"],[1,\"#276419\"]]},\"xaxis\":{\"gridcolor\":\"white\",\"linecolor\":\"white\",\"ticks\":\"\",\"title\":{\"standoff\":15},\"zerolinecolor\":\"white\",\"automargin\":true,\"zerolinewidth\":2},\"yaxis\":{\"gridcolor\":\"white\",\"linecolor\":\"white\",\"ticks\":\"\",\"title\":{\"standoff\":15},\"zerolinecolor\":\"white\",\"automargin\":true,\"zerolinewidth\":2},\"scene\":{\"xaxis\":{\"backgroundcolor\":\"#E5ECF6\",\"gridcolor\":\"white\",\"linecolor\":\"white\",\"showbackground\":true,\"ticks\":\"\",\"zerolinecolor\":\"white\",\"gridwidth\":2},\"yaxis\":{\"backgroundcolor\":\"#E5ECF6\",\"gridcolor\":\"white\",\"linecolor\":\"white\",\"showbackground\":true,\"ticks\":\"\",\"zerolinecolor\":\"white\",\"gridwidth\":2},\"zaxis\":{\"backgroundcolor\":\"#E5ECF6\",\"gridcolor\":\"white\",\"linecolor\":\"white\",\"showbackground\":true,\"ticks\":\"\",\"zerolinecolor\":\"white\",\"gridwidth\":2}},\"shapedefaults\":{\"line\":{\"color\":\"#2a3f5f\"}},\"annotationdefaults\":{\"arrowcolor\":\"#2a3f5f\",\"arrowhead\":0,\"arrowwidth\":1},\"geo\":{\"bgcolor\":\"white\",\"landcolor\":\"#E5ECF6\",\"subunitcolor\":\"white\",\"showland\":true,\"showlakes\":true,\"lakecolor\":\"white\"},\"title\":{\"x\":0.05},\"mapbox\":{\"style\":\"light\"}}},\"xaxis\":{\"anchor\":\"y\",\"domain\":[0.0,1.0],\"title\":{\"text\":\"Frequency [count]\"}},\"yaxis\":{\"anchor\":\"x\",\"domain\":[0.0,1.0],\"title\":{\"text\":\"Highest Degree Earned\"}},\"legend\":{\"tracegroupgap\":0},\"title\":{\"text\":\"DS Applicant: Highest Degree Earned\"},\"barmode\":\"relative\"},                        {\"responsive\": true}                    ).then(function(){\n",
       "                            \n",
       "var gd = document.getElementById('6d44ce11-bf29-4407-a5a3-f0d346f6de45');\n",
       "var x = new MutationObserver(function (mutations, observer) {{\n",
       "        var display = window.getComputedStyle(gd).display;\n",
       "        if (!display || display === 'none') {{\n",
       "            console.log([gd, 'removed!']);\n",
       "            Plotly.purge(gd);\n",
       "            observer.disconnect();\n",
       "        }}\n",
       "}});\n",
       "\n",
       "// Listen for the removal of the full notebook cells\n",
       "var notebookContainer = gd.closest('#notebook-container');\n",
       "if (notebookContainer) {{\n",
       "    x.observe(notebookContainer, {childList: true});\n",
       "}}\n",
       "\n",
       "// Listen for the clearing of the current output cell\n",
       "var outputEl = gd.closest('.output');\n",
       "if (outputEl) {{\n",
       "    x.observe(outputEl, {childList: true});\n",
       "}}\n",
       "\n",
       "                        })                };                });            </script>        </div>"
      ]
     },
     "metadata": {},
     "output_type": "display_data"
    }
   ],
   "source": [
    "def build_ed_bar():\n",
    "    # Create bar chart\n",
    "    fig = px.bar(\n",
    "    x=education,\n",
    "        y=education.index,\n",
    "        orientation=\"h\",\n",
    "        title=\"DS Applicant: Highest Degree Earned\"\n",
    "    )\n",
    "    \n",
    "    \n",
    "    # Add axis labels\n",
    "    fig.update_layout(xaxis_title=\"Frequency [count]\",yaxis_title=\"Highest Degree Earned\")\n",
    "    return fig\n",
    "\n",
    "\n",
    "ed_fig = build_ed_bar()\n",
    "print(\"ed_fig type:\", type(ed_fig))\n",
    "ed_fig.show()"
   ]
  },
  {
   "cell_type": "markdown",
   "id": "14d4bdd6",
   "metadata": {
    "deletable": false,
    "editable": false
   },
   "source": [
    "---\n",
    "Copyright © 2022 WorldQuant University. This\n",
    "content is licensed solely for personal use. Redistribution or\n",
    "publication of this material is strictly prohibited.\n"
   ]
  }
 ],
 "metadata": {
  "kernelspec": {
   "display_name": "Python 3 (ipykernel)",
   "language": "python",
   "name": "python3"
  },
  "language_info": {
   "codemirror_mode": {
    "name": "ipython",
    "version": 3
   },
   "file_extension": ".py",
   "mimetype": "text/x-python",
   "name": "python",
   "nbconvert_exporter": "python",
   "pygments_lexer": "ipython3",
   "version": "3.9.6"
  }
 },
 "nbformat": 4,
 "nbformat_minor": 5
}
