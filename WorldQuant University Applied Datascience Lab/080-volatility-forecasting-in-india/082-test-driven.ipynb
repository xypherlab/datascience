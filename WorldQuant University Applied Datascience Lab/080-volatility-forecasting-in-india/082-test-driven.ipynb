{
 "cells": [
  {
   "cell_type": "markdown",
   "id": "2271075b",
   "metadata": {
    "deletable": false,
    "editable": false
   },
   "source": [
    "<font size=\"+3\"><strong>8.2. Test Driven Development</strong></font>"
   ]
  },
  {
   "cell_type": "markdown",
   "id": "d31ac132-2255-4533-8ba8-a3de3fc98f29",
   "metadata": {
    "deletable": false,
    "editable": false
   },
   "source": [
    "In the previous lesson, we learned how to get data from an API. In this lesson, we have two goals. First, we'll take the code we used to access the API and build an `AlphaVantageAPI` class. This will allow us to reuse our code. Second, we'll create a `SQLRepository` class that will help us load our stock data into a SQLite database and then extract it for later use. Additionally, we'll build this code using a technique called **test driven development**, where we'll use `assert` statements to make sure everything is working properly. That way, we'll avoid issues later when we build our application."
   ]
  },
  {
   "cell_type": "code",
   "execution_count": 3,
   "id": "7457bb4a-c3d1-42c0-8b57-2b4872e5d3e3",
   "metadata": {
    "deletable": false,
    "editable": false,
    "init_cell": true
   },
   "outputs": [
    {
     "name": "stdout",
     "output_type": "stream",
     "text": [
      "The autoreload extension is already loaded. To reload it, use:\n",
      "  %reload_ext autoreload\n",
      "The sql extension is already loaded. To reload it, use:\n",
      "  %reload_ext sql\n"
     ]
    },
    {
     "data": {
      "text/html": [
       "\n",
       "<style>\n",
       "  \n",
       "  .checkmark {\n",
       "    width: 56px;\n",
       "    height: 56px;\n",
       "    border-radius: 50%;\n",
       "    display: block;\n",
       "    stroke-width: 2;\n",
       "    stroke: #fff;\n",
       "    stroke-miterlimit: 10;\n",
       "    box-shadow: inset 0px 0px 0px #7ac142;\n",
       "    animation: fill .4s ease-in-out .4s forwards, scale .3s ease-in-out .9s both;\n",
       "  }\n",
       "  \n",
       "  .checkmark__circle {\n",
       "    stroke-dasharray: 166;\n",
       "    stroke-dashoffset: 166;\n",
       "    stroke-width: 2;\n",
       "    stroke-miterlimit: 10;\n",
       "    stroke: #7ac142;\n",
       "    fill: none;\n",
       "    animation: stroke .6s cubic-bezier(0.650, 0.000, 0.450, 1.000) forwards;\n",
       "  }\n",
       "  \n",
       "  .checkmark__check {\n",
       "    transform-origin: 50% 50%;\n",
       "    stroke-dasharray: 48;\n",
       "    stroke-dashoffset: 48;\n",
       "    animation: stroke .3s cubic-bezier(0.650, 0.000, 0.450, 1.000) .8s forwards;\n",
       "  }\n",
       "  \n",
       "  .failmark {\n",
       "    width: 56px;\n",
       "    height: 56px;\n",
       "    border-radius: 50%;\n",
       "    display: block;\n",
       "    stroke-width: 2;\n",
       "    stroke: #fff;\n",
       "    stroke-miterlimit: 10;\n",
       "    box-shadow: inset 0px 0px 0px #F34811;\n",
       "    animation: failfill .4s ease-in-out .4s forwards, scale .3s ease-in-out .9s both;\n",
       "  }\n",
       "  \n",
       "  .failmark__circle {\n",
       "    stroke-dasharray: 166;\n",
       "    stroke-dashoffset: 166;\n",
       "    stroke-width: 2;\n",
       "    stroke-miterlimit: 10;\n",
       "    stroke: #F34811;\n",
       "    fill: none;\n",
       "    animation: stroke .6s cubic-bezier(0.650, 0.000, 0.450, 1.000) forwards;\n",
       "  }\n",
       "  \n",
       "  @keyframes stroke {\n",
       "    100% {\n",
       "      stroke-dashoffset: 0;\n",
       "    }\n",
       "  }\n",
       "  \n",
       "  @keyframes scale {\n",
       "    0%, 100% {\n",
       "      transform: none;\n",
       "    }\n",
       "    50% {\n",
       "      transform: scale3d(1.1, 1.1, 1);\n",
       "    }\n",
       "  }\n",
       "  \n",
       "  @keyframes fill {\n",
       "    100% {\n",
       "      box-shadow: inset 0px 0px 0px 30px #7ac142;\n",
       "    }\n",
       "  }\n",
       "  \n",
       "  @keyframes failfill {\n",
       "    100% {\n",
       "      box-shadow: inset 0px 0px 0px 30px #F34811;\n",
       "    }\n",
       "  }\n",
       "  \n",
       "  \n",
       "  .wqet-result {\n",
       "    width: 450px;\n",
       "    clear: both;\n",
       "  }\n",
       "  \n",
       "  .wqet-result .animation {\n",
       "    float: left;\n",
       "    width: 100px;\n",
       "  }\n",
       "  \n",
       "  .wqet-result .animation .checkmark,\n",
       "  .wqet-result .animation .failmark {\n",
       "    margin: 20px auto 20px auto;\n",
       "  }\n",
       "  \n",
       "  .wqet-result .details {\n",
       "    float: right;\n",
       "    width: 349px;\n",
       "    padding: 28px 0;\n",
       "  }\n",
       "  \n",
       "  .wqet-result .details .title {\n",
       "    font-weight: bold;\n",
       "    font-size: 110%;\n",
       "  }\n",
       "  .wqet-result .details p {\n",
       "    margin: 0;\n",
       "  }\n",
       "</style>\n"
      ],
      "text/plain": [
       "<IPython.core.display.HTML object>"
      ]
     },
     "metadata": {},
     "output_type": "display_data"
    }
   ],
   "source": [
    "%load_ext autoreload\n",
    "%load_ext sql\n",
    "%autoreload 2\n",
    "\n",
    "import sqlite3\n",
    "\n",
    "import matplotlib.pyplot as plt\n",
    "import pandas as pd\n",
    "import wqet_grader\n",
    "from config import settings\n",
    "from IPython.display import VimeoVideo\n",
    "\n",
    "wqet_grader.init(\"Project 8 Assessment\")"
   ]
  },
  {
   "cell_type": "code",
   "execution_count": 2,
   "id": "e2d25c88-8aa5-46ec-8cc2-f73dd7838c28",
   "metadata": {
    "deletable": false,
    "editable": false,
    "init_cell": true
   },
   "outputs": [
    {
     "data": {
      "text/html": [
       "\n",
       "        <iframe\n",
       "            width=\"600\"\n",
       "            height=\"300\"\n",
       "            src=\"https://player.vimeo.com/video/764766424?h=88dbe3bff8\"\n",
       "            frameborder=\"0\"\n",
       "            allowfullscreen\n",
       "            \n",
       "        ></iframe>\n",
       "        "
      ],
      "text/plain": [
       "<IPython.lib.display.VimeoVideo at 0x7f7f257ebf10>"
      ]
     },
     "execution_count": 2,
     "metadata": {},
     "output_type": "execute_result"
    }
   ],
   "source": [
    "VimeoVideo(\"764766424\", h=\"88dbe3bff8\", width=600)"
   ]
  },
  {
   "cell_type": "markdown",
   "id": "603adedd-56fa-44be-8e5b-c4a802fd1da6",
   "metadata": {
    "deletable": false,
    "editable": false
   },
   "source": [
    "# Building Our Data Module"
   ]
  },
  {
   "cell_type": "markdown",
   "id": "18b7926f-cf91-4835-bfe2-cb40ec52eff3",
   "metadata": {
    "deletable": false,
    "editable": false
   },
   "source": [
    "For our application, we're going to keep all the classes we use to extract, transform, and load data in a single module that we'll call `data`."
   ]
  },
  {
   "cell_type": "markdown",
   "id": "727cc9a0-4f06-4356-84fd-6024f6ac4421",
   "metadata": {
    "deletable": false,
    "editable": false
   },
   "source": [
    "## AlphaVantage API Class"
   ]
  },
  {
   "cell_type": "markdown",
   "id": "2886d630-b241-42a9-8664-480902419af8",
   "metadata": {
    "deletable": false,
    "editable": false
   },
   "source": [
    "Let's get started by taking the code we created in the last lesson and incorporating it into a class that will be in charge of getting data from the AlphaVantage API."
   ]
  },
  {
   "cell_type": "code",
   "execution_count": 4,
   "id": "31c89005-0f6f-4470-aaed-f2fde4abd8f4",
   "metadata": {
    "deletable": false,
    "editable": false,
    "init_cell": true
   },
   "outputs": [
    {
     "data": {
      "text/html": [
       "\n",
       "        <iframe\n",
       "            width=\"600\"\n",
       "            height=\"300\"\n",
       "            src=\"https://player.vimeo.com/video/764766399?h=08b6a61e84\"\n",
       "            frameborder=\"0\"\n",
       "            allowfullscreen\n",
       "            \n",
       "        ></iframe>\n",
       "        "
      ],
      "text/plain": [
       "<IPython.lib.display.VimeoVideo at 0x7f7e7f313d90>"
      ]
     },
     "execution_count": 4,
     "metadata": {},
     "output_type": "execute_result"
    }
   ],
   "source": [
    "VimeoVideo(\"764766399\", h=\"08b6a61e84\", width=600)"
   ]
  },
  {
   "cell_type": "markdown",
   "id": "393281a3-373c-4b43-9918-2593d4e5eb07",
   "metadata": {
    "deletable": false,
    "editable": false
   },
   "source": [
    "**Task 8.2.1:** In the `data` module, create a class definition for `AlphaVantageAPI`. For now, making sure that it has an `__init__` method that attaches your API key as the attribute `__api_key`. Once you're done, import the class below and create an instance of it called `av`.\n",
    "\n",
    "- [What's a class?](../%40textbook/21-python-object-oriented-programming.ipynb#Classes)\n",
    "- [Write a class definition in Python.](../%40textbook/21-python-object-oriented-programming.ipynb#Defining-a-Class)\n",
    "- [Write a class method in Python.](../%40textbook/21-python-object-oriented-programming.ipynb#Methods)"
   ]
  },
  {
   "cell_type": "code",
   "execution_count": 5,
   "id": "8c02dbac-7559-4db2-b0dd-b29c8fb623e1",
   "metadata": {
    "deletable": false
   },
   "outputs": [
    {
     "name": "stdout",
     "output_type": "stream",
     "text": [
      "av type: <class 'data.AlphaVantageAPI'>\n"
     ]
    }
   ],
   "source": [
    "# Import `AlphaVantageAPI`\n",
    "from data import AlphaVantageAPI\n",
    "\n",
    "# Create instance of `AlphaVantageAPI` class\n",
    "av = AlphaVantageAPI()\n",
    "\n",
    "print(\"av type:\", type(av))"
   ]
  },
  {
   "cell_type": "markdown",
   "id": "a21cb1bc-b617-430e-91eb-72a692f7f209",
   "metadata": {
    "deletable": false,
    "editable": false
   },
   "source": [
    "Remember the `get_daily` function we made in the last lesson? Now we're going to turn it into a class method."
   ]
  },
  {
   "cell_type": "code",
   "execution_count": 6,
   "id": "3d43365b-5f88-42ed-b339-b37dca0ab371",
   "metadata": {
    "deletable": false,
    "editable": false,
    "init_cell": true
   },
   "outputs": [
    {
     "data": {
      "text/html": [
       "\n",
       "        <iframe\n",
       "            width=\"600\"\n",
       "            height=\"300\"\n",
       "            src=\"https://player.vimeo.com/video/764766380?h=5b4cf7c753\"\n",
       "            frameborder=\"0\"\n",
       "            allowfullscreen\n",
       "            \n",
       "        ></iframe>\n",
       "        "
      ],
      "text/plain": [
       "<IPython.lib.display.VimeoVideo at 0x7f7f2462ab20>"
      ]
     },
     "execution_count": 6,
     "metadata": {},
     "output_type": "execute_result"
    }
   ],
   "source": [
    "VimeoVideo(\"764766380\", h=\"5b4cf7c753\", width=600)"
   ]
  },
  {
   "cell_type": "markdown",
   "id": "7e7017bd-fb32-42d2-a4a2-1b8b206efde0",
   "metadata": {
    "deletable": false,
    "editable": false
   },
   "source": [
    "**Task 8.2.2:** Create a `get_daily` method for your `AlphaVantageAPI` class. Once you're done, use the cell below to fetch the stock data for the renewable energy company [Suzlon](https://www.suzlon.com/) and assign it to the DataFrame `df_suzlon`.\n",
    "\n",
    "- [Write a class method in Python.](../%40textbook/21-python-object-oriented-programming.ipynb#Methods)"
   ]
  },
  {
   "cell_type": "code",
   "execution_count": 7,
   "id": "d7659f8c-819a-4742-93e5-7b0dec31b808",
   "metadata": {
    "deletable": false
   },
   "outputs": [
    {
     "name": "stdout",
     "output_type": "stream",
     "text": [
      "df_suzlon type: <class 'pandas.core.frame.DataFrame'>\n",
      "df_suzlon shape: (4224, 5)\n"
     ]
    },
    {
     "data": {
      "text/html": [
       "<div>\n",
       "<style scoped>\n",
       "    .dataframe tbody tr th:only-of-type {\n",
       "        vertical-align: middle;\n",
       "    }\n",
       "\n",
       "    .dataframe tbody tr th {\n",
       "        vertical-align: top;\n",
       "    }\n",
       "\n",
       "    .dataframe thead th {\n",
       "        text-align: right;\n",
       "    }\n",
       "</style>\n",
       "<table border=\"1\" class=\"dataframe\">\n",
       "  <thead>\n",
       "    <tr style=\"text-align: right;\">\n",
       "      <th></th>\n",
       "      <th>open</th>\n",
       "      <th>high</th>\n",
       "      <th>low</th>\n",
       "      <th>close</th>\n",
       "      <th>volume</th>\n",
       "    </tr>\n",
       "    <tr>\n",
       "      <th>date</th>\n",
       "      <th></th>\n",
       "      <th></th>\n",
       "      <th></th>\n",
       "      <th></th>\n",
       "      <th></th>\n",
       "    </tr>\n",
       "  </thead>\n",
       "  <tbody>\n",
       "    <tr>\n",
       "      <th>2022-12-15</th>\n",
       "      <td>10.82</td>\n",
       "      <td>11.25</td>\n",
       "      <td>10.68</td>\n",
       "      <td>10.94</td>\n",
       "      <td>75285344.0</td>\n",
       "    </tr>\n",
       "    <tr>\n",
       "      <th>2022-12-14</th>\n",
       "      <td>10.21</td>\n",
       "      <td>11.00</td>\n",
       "      <td>10.09</td>\n",
       "      <td>10.89</td>\n",
       "      <td>77322329.0</td>\n",
       "    </tr>\n",
       "    <tr>\n",
       "      <th>2022-12-13</th>\n",
       "      <td>10.32</td>\n",
       "      <td>10.44</td>\n",
       "      <td>10.04</td>\n",
       "      <td>10.11</td>\n",
       "      <td>47061240.0</td>\n",
       "    </tr>\n",
       "    <tr>\n",
       "      <th>2022-12-12</th>\n",
       "      <td>9.26</td>\n",
       "      <td>10.31</td>\n",
       "      <td>9.26</td>\n",
       "      <td>10.26</td>\n",
       "      <td>62018665.0</td>\n",
       "    </tr>\n",
       "    <tr>\n",
       "      <th>2022-12-09</th>\n",
       "      <td>9.88</td>\n",
       "      <td>9.89</td>\n",
       "      <td>9.24</td>\n",
       "      <td>9.33</td>\n",
       "      <td>32410693.0</td>\n",
       "    </tr>\n",
       "  </tbody>\n",
       "</table>\n",
       "</div>"
      ],
      "text/plain": [
       "             open   high    low  close      volume\n",
       "date                                              \n",
       "2022-12-15  10.82  11.25  10.68  10.94  75285344.0\n",
       "2022-12-14  10.21  11.00  10.09  10.89  77322329.0\n",
       "2022-12-13  10.32  10.44  10.04  10.11  47061240.0\n",
       "2022-12-12   9.26  10.31   9.26  10.26  62018665.0\n",
       "2022-12-09   9.88   9.89   9.24   9.33  32410693.0"
      ]
     },
     "execution_count": 7,
     "metadata": {},
     "output_type": "execute_result"
    }
   ],
   "source": [
    "# Define Suzlon ticker symbol\n",
    "ticker = \"SUZLON.BSE\"\n",
    "\n",
    "# Use your `av` object to get daily data\n",
    "df_suzlon = av.get_daily(ticker=ticker)\n",
    "\n",
    "print(\"df_suzlon type:\", type(df_suzlon))\n",
    "print(\"df_suzlon shape:\", df_suzlon.shape)\n",
    "df_suzlon.head()"
   ]
  },
  {
   "cell_type": "markdown",
   "id": "d904c7f4-515b-4ccb-b29e-1aa46b370889",
   "metadata": {
    "deletable": false,
    "editable": false
   },
   "source": [
    "Okay! The next thing we need to do is test our new method to make sure it works the way we want it to. Usually, these sorts of tests are written *before* writing the method, but, in this first case, we'll do it the other way around in order to get a better sense of how assert statements work."
   ]
  },
  {
   "cell_type": "code",
   "execution_count": 8,
   "id": "398fd46a-6cbf-4861-947f-e690c85c0963",
   "metadata": {
    "deletable": false,
    "editable": false,
    "init_cell": true
   },
   "outputs": [
    {
     "data": {
      "text/html": [
       "\n",
       "        <iframe\n",
       "            width=\"600\"\n",
       "            height=\"300\"\n",
       "            src=\"https://player.vimeo.com/video/764766326?h=3ffc1a1a2f\"\n",
       "            frameborder=\"0\"\n",
       "            allowfullscreen\n",
       "            \n",
       "        ></iframe>\n",
       "        "
      ],
      "text/plain": [
       "<IPython.lib.display.VimeoVideo at 0x7f7f24219cd0>"
      ]
     },
     "execution_count": 8,
     "metadata": {},
     "output_type": "execute_result"
    }
   ],
   "source": [
    "VimeoVideo(\"764766326\", h=\"3ffc1a1a2f\", width=600)"
   ]
  },
  {
   "cell_type": "markdown",
   "id": "0cb9dd91-7734-4489-b887-ad096608fb48",
   "metadata": {
    "deletable": false,
    "editable": false
   },
   "source": [
    "**Task 8.2.3:** Create four assert statements to test the output of your `get_daily` method. Use the comments below as a guide.\n",
    "\n",
    "- [What's an assert statement?](../%40textbook/02-python-advanced.ipynb#Testing-Code)\n",
    "- [Write an assert statement in Python.](../%40textbook/02-python-advanced.ipynb#Testing-Code)"
   ]
  },
  {
   "cell_type": "code",
   "execution_count": 25,
   "id": "abfe54a3-585b-46db-9b75-5e2c8fc73a31",
   "metadata": {
    "deletable": false
   },
   "outputs": [],
   "source": [
    "# Does `get_daily` return a DataFrame?\n",
    "assert isinstance(df_suzlon,pd.DataFrame)\n",
    "\n",
    "# Does DataFrame have 5 columns?\n",
    "assert df_suzlon.shape[1] == 5\n",
    "# Does DataFrame have a DatetimeIndex?\n",
    "assert isinstance(df_suzlon.index,pd.DatetimeIndex)\n",
    "\n",
    "# Is the index name \"date\"?\n",
    "assert df_suzlon.index.name == \"date\""
   ]
  },
  {
   "cell_type": "code",
   "execution_count": 26,
   "id": "f2bb68e2-f811-4f37-9bb3-54acb8f14561",
   "metadata": {
    "deletable": false,
    "editable": false,
    "init_cell": true
   },
   "outputs": [
    {
     "data": {
      "text/html": [
       "\n",
       "        <iframe\n",
       "            width=\"600\"\n",
       "            height=\"300\"\n",
       "            src=\"https://player.vimeo.com/video/764766298?h=282ced7752\"\n",
       "            frameborder=\"0\"\n",
       "            allowfullscreen\n",
       "            \n",
       "        ></iframe>\n",
       "        "
      ],
      "text/plain": [
       "<IPython.lib.display.VimeoVideo at 0x7f7ee726cac0>"
      ]
     },
     "execution_count": 26,
     "metadata": {},
     "output_type": "execute_result"
    }
   ],
   "source": [
    "VimeoVideo(\"764766298\", h=\"282ced7752\", width=600)"
   ]
  },
  {
   "cell_type": "markdown",
   "id": "d36acde5-df71-4ea1-a99e-3caa32c35dd6",
   "metadata": {
    "deletable": false,
    "editable": false
   },
   "source": [
    "**Task 8.2.4:** Create two more tests for the output of your `get_daily` method. Use the comments below as a guide.\n",
    "\n",
    "- [What's an assert statement?](../%40textbook/02-python-advanced.ipynb#Testing-Code)\n",
    "- [Write an assert statement in Python.](../%40textbook/02-python-advanced.ipynb#Testing-Code)"
   ]
  },
  {
   "cell_type": "code",
   "execution_count": 38,
   "id": "98a10e7f-d01d-4ac1-be84-7ada5f3de346",
   "metadata": {
    "deletable": false
   },
   "outputs": [],
   "source": [
    "# Does DataFrame have correct column names?\n",
    "assert df_suzlon.columns.to_list() == ['open','high','low','close','volume']\n",
    "# Are columns correct data type?\n",
    "assert all(df_suzlon.dtypes == float)"
   ]
  },
  {
   "cell_type": "markdown",
   "id": "905320f3-19d6-4004-9953-5a695e27bf8e",
   "metadata": {
    "deletable": false,
    "editable": false
   },
   "source": [
    "Okay! Now that our `AlphaVantageAPI` is ready to get data, let's turn our focus to the class we'll need for storing our data in our SQLite database."
   ]
  },
  {
   "cell_type": "markdown",
   "id": "d69dc9cf-3851-4edb-a152-03c53daf90d4",
   "metadata": {
    "deletable": false,
    "editable": false,
    "tags": []
   },
   "source": [
    "## SQL Repository Class"
   ]
  },
  {
   "cell_type": "markdown",
   "id": "bc1c1102-040c-4776-8cbf-cb1cefdeca17",
   "metadata": {
    "deletable": false,
    "editable": false
   },
   "source": [
    "It wouldn't be efficient if our application needed to get data from the AlphaVantage API every time we wanted to explore our data or build a model, so we'll need to store our data in a database. Because our data is highly structured (each DataFrame we extract from AlphaVantage is always going to have the same five columns), it makes sense to use a SQL database.\n",
    "\n",
    "We'll use SQLite for our database. For consistency, this database will always have the same name, which we've stored in our `.env` file."
   ]
  },
  {
   "cell_type": "code",
   "execution_count": 39,
   "id": "c74dc79b-6582-49ba-b82f-2fe40cdec14c",
   "metadata": {
    "deletable": false,
    "editable": false,
    "init_cell": true
   },
   "outputs": [
    {
     "data": {
      "text/html": [
       "\n",
       "        <iframe\n",
       "            width=\"600\"\n",
       "            height=\"300\"\n",
       "            src=\"https://player.vimeo.com/video/764766285?h=7b6487a28d\"\n",
       "            frameborder=\"0\"\n",
       "            allowfullscreen\n",
       "            \n",
       "        ></iframe>\n",
       "        "
      ],
      "text/plain": [
       "<IPython.lib.display.VimeoVideo at 0x7f7ee726cc70>"
      ]
     },
     "execution_count": 39,
     "metadata": {},
     "output_type": "execute_result"
    }
   ],
   "source": [
    "VimeoVideo(\"764766285\", h=\"7b6487a28d\", width=600)"
   ]
  },
  {
   "cell_type": "markdown",
   "id": "1fa42d18-8b9d-4379-8d5c-76dea153d003",
   "metadata": {
    "deletable": false,
    "editable": false
   },
   "source": [
    "**Task 8.2.5:** Connect to the database whose name is stored in the `.env` file for this project. Be sure to set the `check_same_thread` argument to `False`. Assign the connection to the variable `connection`.\n",
    "\n",
    "- [Open a connection to a SQL database using sqlite3.](../%40textbook/10-databases-sql.ipynb#sqlite3)"
   ]
  },
  {
   "cell_type": "code",
   "execution_count": 41,
   "id": "348adcae-ef3e-4933-81b9-2fbc1ce42587",
   "metadata": {
    "deletable": false
   },
   "outputs": [
    {
     "name": "stdout",
     "output_type": "stream",
     "text": [
      "connection type: <class 'sqlite3.Connection'>\n"
     ]
    }
   ],
   "source": [
    "connection = sqlite3.connect(database=settings.db_name,check_same_thread=False)\n",
    "\n",
    "print(\"connection type:\", type(connection))"
   ]
  },
  {
   "cell_type": "markdown",
   "id": "71142242-06d8-47c4-9612-d79dd8e34c20",
   "metadata": {
    "deletable": false,
    "editable": false
   },
   "source": [
    "We've got a connection, and now we need to start building the class that will handle all our transactions with the database. With this class, though, we're going to create our tests *before* writing the class definition."
   ]
  },
  {
   "cell_type": "code",
   "execution_count": 42,
   "id": "2010032f-eafd-42ec-bbe4-31971b0e8cc8",
   "metadata": {
    "deletable": false,
    "editable": false,
    "init_cell": true
   },
   "outputs": [
    {
     "data": {
      "text/html": [
       "\n",
       "        <iframe\n",
       "            width=\"600\"\n",
       "            height=\"300\"\n",
       "            src=\"https://player.vimeo.com/video/764766249?h=4359c98af4\"\n",
       "            frameborder=\"0\"\n",
       "            allowfullscreen\n",
       "            \n",
       "        ></iframe>\n",
       "        "
      ],
      "text/plain": [
       "<IPython.lib.display.VimeoVideo at 0x7f7ee7164880>"
      ]
     },
     "execution_count": 42,
     "metadata": {},
     "output_type": "execute_result"
    }
   ],
   "source": [
    "VimeoVideo(\"764766249\", h=\"4359c98af4\", width=600)"
   ]
  },
  {
   "cell_type": "markdown",
   "id": "14fb7efd-beb7-4712-b126-4e2248a7de76",
   "metadata": {
    "deletable": false,
    "editable": false
   },
   "source": [
    "**Task 8.2.6:** Write two tests for the `SQLRepository` class, using the comments below as a guide.\n",
    "\n",
    "- [What's an assert statement?](../%40textbook/02-python-advanced.ipynb#Testing-Code)\n",
    "- [Write an assert statement in Python.](../%40textbook/02-python-advanced.ipynb#Testing-Code)"
   ]
  },
  {
   "cell_type": "code",
   "execution_count": 44,
   "id": "3b0341f4-f282-437d-8a0f-55949197051f",
   "metadata": {},
   "outputs": [
    {
     "data": {
      "text/plain": [
       "True"
      ]
     },
     "execution_count": 44,
     "metadata": {},
     "output_type": "execute_result"
    }
   ],
   "source": [
    "hasattr(df_suzlon,\"shape\")"
   ]
  },
  {
   "cell_type": "code",
   "execution_count": 48,
   "id": "f443ad9f-6b93-4c97-b525-1168921a4ee7",
   "metadata": {
    "deletable": false
   },
   "outputs": [],
   "source": [
    "# Import class definition\n",
    "from data import SQLRepository\n",
    "\n",
    "# Create instance of class\n",
    "repo = SQLRepository(connection=connection)\n",
    "\n",
    "# Does `repo` have a \"connection\" attribute?\n",
    "assert hasattr(repo,\"connection\")\n",
    "\n",
    "# Is the \"connection\" attribute a SQLite `Connection`?\n",
    "assert isinstance(repo.connection,sqlite3.Connection)"
   ]
  },
  {
   "cell_type": "markdown",
   "id": "a25753a8-ec5a-4de7-b8f9-6864e0189e5d",
   "metadata": {
    "deletable": false,
    "editable": false
   },
   "source": [
    "<div class=\"alert alert-info\" role=\"alert\">\n",
    "    <p><b>Tip:</b> You won't be able to run this ☝️ code block until you complete the task below. 👇</p>\n",
    "</div>"
   ]
  },
  {
   "cell_type": "code",
   "execution_count": 47,
   "id": "044cbbac-0aa4-4a9a-a6d8-d5966333da72",
   "metadata": {
    "deletable": false,
    "editable": false,
    "init_cell": true
   },
   "outputs": [
    {
     "data": {
      "text/html": [
       "\n",
       "        <iframe\n",
       "            width=\"600\"\n",
       "            height=\"300\"\n",
       "            src=\"https://player.vimeo.com/video/764766224?h=71655b61c2\"\n",
       "            frameborder=\"0\"\n",
       "            allowfullscreen\n",
       "            \n",
       "        ></iframe>\n",
       "        "
      ],
      "text/plain": [
       "<IPython.lib.display.VimeoVideo at 0x7f7f2421ed90>"
      ]
     },
     "execution_count": 47,
     "metadata": {},
     "output_type": "execute_result"
    }
   ],
   "source": [
    "VimeoVideo(\"764766224\", h=\"71655b61c2\", width=600)"
   ]
  },
  {
   "cell_type": "markdown",
   "id": "e3fe6a9e-c8c8-4a1f-b6e0-8bec234691d0",
   "metadata": {
    "deletable": false,
    "editable": false
   },
   "source": [
    "**Task 8.2.7:** Create a definition for your `SQLRepository` class. For now, just complete the `__init__` method. Once you're done, use the code you wrote in the previous task to test it.\n",
    "\n",
    "- [What's a class?](../%40textbook/21-python-object-oriented-programming.ipynb#Classes)\n",
    "- [Write a class definition in Python.](../%40textbook/21-python-object-oriented-programming.ipynb#Defining-a-Class)\n",
    "- [Write a class method in Python.](../%40textbook/21-python-object-oriented-programming.ipynb#Methods)"
   ]
  },
  {
   "cell_type": "markdown",
   "id": "ac9d773d-4ed7-4fb7-8bcd-09cae0774ffb",
   "metadata": {
    "deletable": false,
    "editable": false
   },
   "source": [
    "The next method we need for the `SQLRepository` class is one that allows us to store information. In SQL talk, this is generally referred to as **inserting** tables into the database."
   ]
  },
  {
   "cell_type": "code",
   "execution_count": 49,
   "id": "e0537e8c-5a93-4fe7-9865-f2991b5de9ba",
   "metadata": {
    "deletable": false,
    "editable": false,
    "init_cell": true
   },
   "outputs": [
    {
     "data": {
      "text/html": [
       "\n",
       "        <iframe\n",
       "            width=\"600\"\n",
       "            height=\"300\"\n",
       "            src=\"https://player.vimeo.com/video/764766175?h=6d2f030425\"\n",
       "            frameborder=\"0\"\n",
       "            allowfullscreen\n",
       "            \n",
       "        ></iframe>\n",
       "        "
      ],
      "text/plain": [
       "<IPython.lib.display.VimeoVideo at 0x7f7ee716e640>"
      ]
     },
     "execution_count": 49,
     "metadata": {},
     "output_type": "execute_result"
    }
   ],
   "source": [
    "VimeoVideo(\"764766175\", h=\"6d2f030425\", width=600)"
   ]
  },
  {
   "cell_type": "markdown",
   "id": "ae1fd1a0-a8bc-4c38-8239-9d3f40b34dad",
   "metadata": {
    "deletable": false,
    "editable": false
   },
   "source": [
    "**Task 8.2.8:** Add an `insert_table` method to your `SQLRepository` class. As a guide use the assert statements below and the docstring in the `data` module. When you're done, run the cell below to check your work.\n",
    "\n",
    "- [Write a class method in Python.](../%40textbook/21-python-object-oriented-programming.ipynb#Methods)"
   ]
  },
  {
   "cell_type": "code",
   "execution_count": 50,
   "id": "2210e278-a640-41e7-b1a1-8aaa357d9d2e",
   "metadata": {
    "deletable": false
   },
   "outputs": [],
   "source": [
    "response = repo.insert_table(table_name=ticker, records=df_suzlon, if_exists=\"replace\")\n",
    "\n",
    "# Does your method return a dictionary?\n",
    "assert isinstance(response, dict)\n",
    "\n",
    "# Are the keys of that dictionary correct?\n",
    "assert sorted(list(response.keys())) == [\"records_inserted\", \"transaction_successful\"]"
   ]
  },
  {
   "cell_type": "markdown",
   "id": "7a23e148-e5ff-4f06-b708-9efed1306c10",
   "metadata": {
    "deletable": false,
    "editable": false
   },
   "source": [
    "If our method is passing the assert statements, we know it's returning a record of the database transaction, but we still need to check whether the data has actually been added to the database."
   ]
  },
  {
   "cell_type": "code",
   "execution_count": 51,
   "id": "122dbfd9-84b8-46b7-aa3b-b2d52556d5f9",
   "metadata": {
    "deletable": false,
    "editable": false,
    "init_cell": true
   },
   "outputs": [
    {
     "data": {
      "text/html": [
       "\n",
       "        <iframe\n",
       "            width=\"600\"\n",
       "            height=\"300\"\n",
       "            src=\"https://player.vimeo.com/video/764766150?h=80fc271c75\"\n",
       "            frameborder=\"0\"\n",
       "            allowfullscreen\n",
       "            \n",
       "        ></iframe>\n",
       "        "
      ],
      "text/plain": [
       "<IPython.lib.display.VimeoVideo at 0x7f7ee7168a00>"
      ]
     },
     "execution_count": 51,
     "metadata": {},
     "output_type": "execute_result"
    }
   ],
   "source": [
    "VimeoVideo(\"764766150\", h=\"80fc271c75\", width=600)"
   ]
  },
  {
   "cell_type": "markdown",
   "id": "e955cbbb-01cc-4c2d-8daf-16288aa250db",
   "metadata": {
    "deletable": false,
    "editable": false
   },
   "source": [
    "**Task 8.2.9:** Write a SQL query to get the **first five rows** of the table of Suzlon data you just inserted into the database.\n",
    "\n",
    "- [Write a basic query in SQL.](../%40textbook/10-databases-sql.ipynb#Querying-a-Database)"
   ]
  },
  {
   "cell_type": "code",
   "execution_count": 53,
   "id": "7757a902-f0eb-4dfe-a11f-a4bc328ceb69",
   "metadata": {
    "deletable": false
   },
   "outputs": [
    {
     "data": {
      "text/plain": [
       "'Connected: @/home/jovyan/work/ds-curriculum/080-volatility-forecasting-in-india/stocks.sqlite'"
      ]
     },
     "execution_count": 53,
     "metadata": {},
     "output_type": "execute_result"
    }
   ],
   "source": [
    "%sql sqlite:////home/jovyan/work/ds-curriculum/080-volatility-forecasting-in-india/stocks.sqlite"
   ]
  },
  {
   "cell_type": "code",
   "execution_count": 54,
   "id": "9d49b614-60bf-4759-a18f-71361ce2a88c",
   "metadata": {
    "deletable": false
   },
   "outputs": [
    {
     "name": "stdout",
     "output_type": "stream",
     "text": [
      " * sqlite:////home/jovyan/work/ds-curriculum/080-volatility-forecasting-in-india/stocks.sqlite\n",
      "Done.\n"
     ]
    },
    {
     "data": {
      "text/html": [
       "<table>\n",
       "    <thead>\n",
       "        <tr>\n",
       "            <th>date</th>\n",
       "            <th>open</th>\n",
       "            <th>high</th>\n",
       "            <th>low</th>\n",
       "            <th>close</th>\n",
       "            <th>volume</th>\n",
       "        </tr>\n",
       "    </thead>\n",
       "    <tbody>\n",
       "        <tr>\n",
       "            <td>2022-12-15 00:00:00</td>\n",
       "            <td>10.82</td>\n",
       "            <td>11.25</td>\n",
       "            <td>10.68</td>\n",
       "            <td>10.94</td>\n",
       "            <td>75285344.0</td>\n",
       "        </tr>\n",
       "        <tr>\n",
       "            <td>2022-12-14 00:00:00</td>\n",
       "            <td>10.21</td>\n",
       "            <td>11.0</td>\n",
       "            <td>10.09</td>\n",
       "            <td>10.89</td>\n",
       "            <td>77322329.0</td>\n",
       "        </tr>\n",
       "        <tr>\n",
       "            <td>2022-12-13 00:00:00</td>\n",
       "            <td>10.32</td>\n",
       "            <td>10.44</td>\n",
       "            <td>10.04</td>\n",
       "            <td>10.11</td>\n",
       "            <td>47061240.0</td>\n",
       "        </tr>\n",
       "        <tr>\n",
       "            <td>2022-12-12 00:00:00</td>\n",
       "            <td>9.26</td>\n",
       "            <td>10.31</td>\n",
       "            <td>9.26</td>\n",
       "            <td>10.26</td>\n",
       "            <td>62018665.0</td>\n",
       "        </tr>\n",
       "        <tr>\n",
       "            <td>2022-12-09 00:00:00</td>\n",
       "            <td>9.88</td>\n",
       "            <td>9.89</td>\n",
       "            <td>9.24</td>\n",
       "            <td>9.33</td>\n",
       "            <td>32410693.0</td>\n",
       "        </tr>\n",
       "    </tbody>\n",
       "</table>"
      ],
      "text/plain": [
       "[('2022-12-15 00:00:00', 10.82, 11.25, 10.68, 10.94, 75285344.0),\n",
       " ('2022-12-14 00:00:00', 10.21, 11.0, 10.09, 10.89, 77322329.0),\n",
       " ('2022-12-13 00:00:00', 10.32, 10.44, 10.04, 10.11, 47061240.0),\n",
       " ('2022-12-12 00:00:00', 9.26, 10.31, 9.26, 10.26, 62018665.0),\n",
       " ('2022-12-09 00:00:00', 9.88, 9.89, 9.24, 9.33, 32410693.0)]"
      ]
     },
     "execution_count": 54,
     "metadata": {},
     "output_type": "execute_result"
    }
   ],
   "source": [
    "%%sql\n",
    "SELECT *\n",
    "FROM 'SUZLON.BSE'\n",
    "LIMIT 5"
   ]
  },
  {
   "cell_type": "markdown",
   "id": "1f599a58-461c-4dae-9372-328f4241aa29",
   "metadata": {
    "deletable": false,
    "editable": false
   },
   "source": [
    "We can get **insert** data into our database, but let's not forget that we need to **read** data from it, too. Reading will be a little more complex than inserting, so let's start by writing code in this notebook before we incorporate it into our `SQLRepository` class."
   ]
  },
  {
   "cell_type": "code",
   "execution_count": 55,
   "id": "791fe7af-0907-47ac-95d1-3606db045731",
   "metadata": {
    "deletable": false,
    "editable": false,
    "init_cell": true
   },
   "outputs": [
    {
     "data": {
      "text/html": [
       "\n",
       "        <iframe\n",
       "            width=\"600\"\n",
       "            height=\"300\"\n",
       "            src=\"https://player.vimeo.com/video/764766109?h=d04a7a3f9f\"\n",
       "            frameborder=\"0\"\n",
       "            allowfullscreen\n",
       "            \n",
       "        ></iframe>\n",
       "        "
      ],
      "text/plain": [
       "<IPython.lib.display.VimeoVideo at 0x7f7ee71684f0>"
      ]
     },
     "execution_count": 55,
     "metadata": {},
     "output_type": "execute_result"
    }
   ],
   "source": [
    "VimeoVideo(\"764766109\", h=\"d04a7a3f9f\", width=600)"
   ]
  },
  {
   "cell_type": "markdown",
   "id": "141e2c94-3a4f-4d8b-a84c-3cfb814d90ce",
   "metadata": {
    "deletable": false,
    "editable": false
   },
   "source": [
    "**Task 8.2.10:** First, write a SQL query to get **all** the Suzlon data. Then use pandas to extract the data from the database and read it into a DataFrame, names `df_suzlon_test`.\n",
    "\n",
    "- [Write a basic query in SQL.](../%40textbook/10-databases-sql.ipynb#Querying-a-Database)\n",
    "- [Read SQL query into a DataFrame using pandas.](../%40textbook/10-databases-sql.ipynb#Using-pandas-with-SQL-Databases)"
   ]
  },
  {
   "cell_type": "code",
   "execution_count": 57,
   "id": "088da36d-e462-4be4-9f1a-c52586efce5a",
   "metadata": {
    "deletable": false
   },
   "outputs": [
    {
     "name": "stdout",
     "output_type": "stream",
     "text": [
      "df_suzlon_test type: <class 'pandas.core.frame.DataFrame'>\n",
      "\n",
      "<class 'pandas.core.frame.DataFrame'>\n",
      "DatetimeIndex: 5 entries, 2022-12-15 to 2022-12-09\n",
      "Data columns (total 5 columns):\n",
      " #   Column  Non-Null Count  Dtype  \n",
      "---  ------  --------------  -----  \n",
      " 0   open    5 non-null      float64\n",
      " 1   high    5 non-null      float64\n",
      " 2   low     5 non-null      float64\n",
      " 3   close   5 non-null      float64\n",
      " 4   volume  5 non-null      float64\n",
      "dtypes: float64(5)\n",
      "memory usage: 240.0 bytes\n",
      "None\n"
     ]
    },
    {
     "data": {
      "text/html": [
       "<div>\n",
       "<style scoped>\n",
       "    .dataframe tbody tr th:only-of-type {\n",
       "        vertical-align: middle;\n",
       "    }\n",
       "\n",
       "    .dataframe tbody tr th {\n",
       "        vertical-align: top;\n",
       "    }\n",
       "\n",
       "    .dataframe thead th {\n",
       "        text-align: right;\n",
       "    }\n",
       "</style>\n",
       "<table border=\"1\" class=\"dataframe\">\n",
       "  <thead>\n",
       "    <tr style=\"text-align: right;\">\n",
       "      <th></th>\n",
       "      <th>open</th>\n",
       "      <th>high</th>\n",
       "      <th>low</th>\n",
       "      <th>close</th>\n",
       "      <th>volume</th>\n",
       "    </tr>\n",
       "    <tr>\n",
       "      <th>date</th>\n",
       "      <th></th>\n",
       "      <th></th>\n",
       "      <th></th>\n",
       "      <th></th>\n",
       "      <th></th>\n",
       "    </tr>\n",
       "  </thead>\n",
       "  <tbody>\n",
       "    <tr>\n",
       "      <th>2022-12-15</th>\n",
       "      <td>10.82</td>\n",
       "      <td>11.25</td>\n",
       "      <td>10.68</td>\n",
       "      <td>10.94</td>\n",
       "      <td>75285344.0</td>\n",
       "    </tr>\n",
       "    <tr>\n",
       "      <th>2022-12-14</th>\n",
       "      <td>10.21</td>\n",
       "      <td>11.00</td>\n",
       "      <td>10.09</td>\n",
       "      <td>10.89</td>\n",
       "      <td>77322329.0</td>\n",
       "    </tr>\n",
       "    <tr>\n",
       "      <th>2022-12-13</th>\n",
       "      <td>10.32</td>\n",
       "      <td>10.44</td>\n",
       "      <td>10.04</td>\n",
       "      <td>10.11</td>\n",
       "      <td>47061240.0</td>\n",
       "    </tr>\n",
       "    <tr>\n",
       "      <th>2022-12-12</th>\n",
       "      <td>9.26</td>\n",
       "      <td>10.31</td>\n",
       "      <td>9.26</td>\n",
       "      <td>10.26</td>\n",
       "      <td>62018665.0</td>\n",
       "    </tr>\n",
       "    <tr>\n",
       "      <th>2022-12-09</th>\n",
       "      <td>9.88</td>\n",
       "      <td>9.89</td>\n",
       "      <td>9.24</td>\n",
       "      <td>9.33</td>\n",
       "      <td>32410693.0</td>\n",
       "    </tr>\n",
       "  </tbody>\n",
       "</table>\n",
       "</div>"
      ],
      "text/plain": [
       "             open   high    low  close      volume\n",
       "date                                              \n",
       "2022-12-15  10.82  11.25  10.68  10.94  75285344.0\n",
       "2022-12-14  10.21  11.00  10.09  10.89  77322329.0\n",
       "2022-12-13  10.32  10.44  10.04  10.11  47061240.0\n",
       "2022-12-12   9.26  10.31   9.26  10.26  62018665.0\n",
       "2022-12-09   9.88   9.89   9.24   9.33  32410693.0"
      ]
     },
     "execution_count": 57,
     "metadata": {},
     "output_type": "execute_result"
    }
   ],
   "source": [
    "sql = \"SELECT * FROM 'SUZLON.BSE' LIMIT 5\"\n",
    "df_suzlon_test = pd.read_sql(\n",
    "sql=sql,con=connection,parse_dates=[\"date\"],index_col=\"date\"\n",
    ")\n",
    "\n",
    "print(\"df_suzlon_test type:\", type(df_suzlon_test))\n",
    "print()\n",
    "print(df_suzlon_test.info())\n",
    "df_suzlon_test.head()"
   ]
  },
  {
   "cell_type": "markdown",
   "id": "90924b2f",
   "metadata": {
    "deletable": false,
    "editable": false
   },
   "source": [
    "Now that we know how to read a table from our database, let's turn our code into a proper function. But since we're doing backwards designs, we need to start with our tests."
   ]
  },
  {
   "cell_type": "code",
   "execution_count": 58,
   "id": "57334058-77d4-4832-a26f-db004bb90993",
   "metadata": {
    "deletable": false,
    "editable": false,
    "init_cell": true
   },
   "outputs": [
    {
     "data": {
      "text/html": [
       "\n",
       "        <iframe\n",
       "            width=\"600\"\n",
       "            height=\"300\"\n",
       "            src=\"https://player.vimeo.com/video/764772699?h=6d97cff2e8\"\n",
       "            frameborder=\"0\"\n",
       "            allowfullscreen\n",
       "            \n",
       "        ></iframe>\n",
       "        "
      ],
      "text/plain": [
       "<IPython.lib.display.VimeoVideo at 0x7f7ee716ee20>"
      ]
     },
     "execution_count": 58,
     "metadata": {},
     "output_type": "execute_result"
    }
   ],
   "source": [
    "VimeoVideo(\"764772699\", h=\"6d97cff2e8\", width=600)"
   ]
  },
  {
   "cell_type": "markdown",
   "id": "ba48f1ad-fc92-488b-9d79-368be138df52",
   "metadata": {
    "deletable": false,
    "editable": false
   },
   "source": [
    "**Task 8.2.11:** <a id=\"task-8211\"></a>Complete the assert statements below to test your `read_table` function. Use the comments as a guide.\n",
    "\n",
    "- [What's an assert statement?](../%40textbook/02-python-advanced.ipynb#Testing-Code)\n",
    "- [Write an assert statement in Python.](../%40textbook/02-python-advanced.ipynb#Testing-Code)"
   ]
  },
  {
   "cell_type": "code",
   "execution_count": 70,
   "id": "9d89c5e7-a3d8-4ce7-9dd1-654cab786e20",
   "metadata": {
    "deletable": false,
    "tags": [
     "raises-exception"
    ]
   },
   "outputs": [
    {
     "name": "stdout",
     "output_type": "stream",
     "text": [
      "df_suzlon shape: (2500, 5)\n",
      "\n",
      "<class 'pandas.core.frame.DataFrame'>\n",
      "DatetimeIndex: 2500 entries, 2022-12-15 to 2012-10-18\n",
      "Data columns (total 5 columns):\n",
      " #   Column  Non-Null Count  Dtype  \n",
      "---  ------  --------------  -----  \n",
      " 0   open    2500 non-null   float64\n",
      " 1   high    2500 non-null   float64\n",
      " 2   low     2500 non-null   float64\n",
      " 3   close   2500 non-null   float64\n",
      " 4   volume  2500 non-null   float64\n",
      "dtypes: float64(5)\n",
      "memory usage: 117.2 KB\n",
      "None\n"
     ]
    },
    {
     "data": {
      "text/html": [
       "<div>\n",
       "<style scoped>\n",
       "    .dataframe tbody tr th:only-of-type {\n",
       "        vertical-align: middle;\n",
       "    }\n",
       "\n",
       "    .dataframe tbody tr th {\n",
       "        vertical-align: top;\n",
       "    }\n",
       "\n",
       "    .dataframe thead th {\n",
       "        text-align: right;\n",
       "    }\n",
       "</style>\n",
       "<table border=\"1\" class=\"dataframe\">\n",
       "  <thead>\n",
       "    <tr style=\"text-align: right;\">\n",
       "      <th></th>\n",
       "      <th>open</th>\n",
       "      <th>high</th>\n",
       "      <th>low</th>\n",
       "      <th>close</th>\n",
       "      <th>volume</th>\n",
       "    </tr>\n",
       "    <tr>\n",
       "      <th>date</th>\n",
       "      <th></th>\n",
       "      <th></th>\n",
       "      <th></th>\n",
       "      <th></th>\n",
       "      <th></th>\n",
       "    </tr>\n",
       "  </thead>\n",
       "  <tbody>\n",
       "    <tr>\n",
       "      <th>2022-12-15</th>\n",
       "      <td>10.82</td>\n",
       "      <td>11.25</td>\n",
       "      <td>10.68</td>\n",
       "      <td>10.94</td>\n",
       "      <td>75285344.0</td>\n",
       "    </tr>\n",
       "    <tr>\n",
       "      <th>2022-12-14</th>\n",
       "      <td>10.21</td>\n",
       "      <td>11.00</td>\n",
       "      <td>10.09</td>\n",
       "      <td>10.89</td>\n",
       "      <td>77322329.0</td>\n",
       "    </tr>\n",
       "    <tr>\n",
       "      <th>2022-12-13</th>\n",
       "      <td>10.32</td>\n",
       "      <td>10.44</td>\n",
       "      <td>10.04</td>\n",
       "      <td>10.11</td>\n",
       "      <td>47061240.0</td>\n",
       "    </tr>\n",
       "    <tr>\n",
       "      <th>2022-12-12</th>\n",
       "      <td>9.26</td>\n",
       "      <td>10.31</td>\n",
       "      <td>9.26</td>\n",
       "      <td>10.26</td>\n",
       "      <td>62018665.0</td>\n",
       "    </tr>\n",
       "    <tr>\n",
       "      <th>2022-12-09</th>\n",
       "      <td>9.88</td>\n",
       "      <td>9.89</td>\n",
       "      <td>9.24</td>\n",
       "      <td>9.33</td>\n",
       "      <td>32410693.0</td>\n",
       "    </tr>\n",
       "  </tbody>\n",
       "</table>\n",
       "</div>"
      ],
      "text/plain": [
       "             open   high    low  close      volume\n",
       "date                                              \n",
       "2022-12-15  10.82  11.25  10.68  10.94  75285344.0\n",
       "2022-12-14  10.21  11.00  10.09  10.89  77322329.0\n",
       "2022-12-13  10.32  10.44  10.04  10.11  47061240.0\n",
       "2022-12-12   9.26  10.31   9.26  10.26  62018665.0\n",
       "2022-12-09   9.88   9.89   9.24   9.33  32410693.0"
      ]
     },
     "execution_count": 70,
     "metadata": {},
     "output_type": "execute_result"
    }
   ],
   "source": [
    "# Assign `read_table` output to `df_suzlon`\n",
    "df_suzlon = repo.read_table(table_name=\"SUZLON.BSE\", limit=2500)  # noQA F821\n",
    "\n",
    "# Is `df_suzlon` a DataFrame?\n",
    "assert isinstance(df_suzlon,pd.DataFrame)\n",
    "\n",
    "# Does it have a `DatetimeIndex`?\n",
    "assert isinstance(df_suzlon.index,pd.DatetimeIndex)\n",
    "\n",
    "# Is the index named \"date\"?\n",
    "assert df_suzlon.index.name == \"date\"\n",
    "\n",
    "# Does it have 2,500 rows and 5 columns?\n",
    "assert df_suzlon.shape == (2500,5)\n",
    "\n",
    "# Are the column names correct?\n",
    "assert df_suzlon.columns.to_list() == ['open','high','low','close','volume']\n",
    "\n",
    "# Are the column data types correct?\n",
    "assert all(df_suzlon.dtypes == float)\n",
    "\n",
    "# Print `df_suzlon` info\n",
    "print(\"df_suzlon shape:\", df_suzlon.shape)\n",
    "print()\n",
    "print(df_suzlon.info())\n",
    "df_suzlon.head()"
   ]
  },
  {
   "cell_type": "markdown",
   "id": "363900a4",
   "metadata": {
    "deletable": false,
    "editable": false
   },
   "source": [
    "<div class=\"alert alert-info\" role=\"alert\">\n",
    "    <p><b>Tip:</b> You won't be able to run this ☝️ code block until you complete the task below. 👇</p>\n",
    "</div>"
   ]
  },
  {
   "cell_type": "code",
   "execution_count": 61,
   "id": "cf5b908a-ea9f-4519-b672-680b6cca8b9b",
   "metadata": {
    "deletable": false,
    "editable": false,
    "init_cell": true
   },
   "outputs": [
    {
     "data": {
      "text/html": [
       "\n",
       "        <iframe\n",
       "            width=\"600\"\n",
       "            height=\"300\"\n",
       "            src=\"https://player.vimeo.com/video/764772667?h=afbd47543a\"\n",
       "            frameborder=\"0\"\n",
       "            allowfullscreen\n",
       "            \n",
       "        ></iframe>\n",
       "        "
      ],
      "text/plain": [
       "<IPython.lib.display.VimeoVideo at 0x7f7ee706a670>"
      ]
     },
     "execution_count": 61,
     "metadata": {},
     "output_type": "execute_result"
    }
   ],
   "source": [
    "VimeoVideo(\"764772667\", h=\"afbd47543a\", width=600)"
   ]
  },
  {
   "cell_type": "markdown",
   "id": "23275ea4-d927-4491-8bca-cc67097cae7a",
   "metadata": {
    "deletable": false,
    "editable": false
   },
   "source": [
    "**Task 8.2.12:** Expand on the code you're written above to complete the `read_table` function below. Use the docstring as a guide.\n",
    "\n",
    "- [What's a function?](../%40textbook/02-python-advanced.ipynb#Functions)\n",
    "- [Write a function in Python.](../%40textbook/02-python-advanced.ipynb#Functions)\n",
    "- [Write a basic query in SQL.](../%40textbook/10-databases-sql.ipynb#Querying-a-Database)"
   ]
  },
  {
   "cell_type": "markdown",
   "id": "df998521-2247-4c21-9617-494032d59511",
   "metadata": {
    "deletable": false,
    "editable": false
   },
   "source": [
    "<div class=\"alert alert-info\" role=\"alert\">\n",
    "    <p><b>Tip:</b> Remember that we stored our data sorted <b>descending</b> by date. It'll definitely make our <code>read_table</code> easier to implement!</p>\n",
    "</div>"
   ]
  },
  {
   "cell_type": "code",
   "execution_count": 66,
   "id": "88dc894f-3953-4d6c-8d05-5ab0dd51ad95",
   "metadata": {
    "deletable": false
   },
   "outputs": [],
   "source": [
    "def read_table(table_name,limit):\n",
    "\n",
    "    \"\"\"Read table from database.\n",
    "\n",
    "    Parameters\n",
    "    ----------\n",
    "    table_name : str\n",
    "        Name of table in SQLite database.\n",
    "    limit : int, None, optional\n",
    "        Number of most recent records to retrieve. If `None`, all\n",
    "        records are retrieved. By default, `None`.\n",
    "\n",
    "    Returns\n",
    "    -------\n",
    "    pd.DataFrame\n",
    "        Index is DatetimeIndex \"date\". Columns are 'open', 'high',\n",
    "        'low', 'close', and 'volume'. All columns are numeric.\n",
    "    \"\"\"\n",
    "    # Create SQL query (with optional limit)\n",
    "    if limit:\n",
    "        sql = f\"SELECT * FROM '{table_name}' LIMIT {limit}\"\n",
    "    else:\n",
    "        sql = f\"SELECT * FROM '{table_name}'\"\n",
    "    \n",
    "\n",
    "    # Retrieve data, read into DataFrame\n",
    "    df = pd.read_sql(\n",
    "    sql=sql,con=connection,parse_dates=[\"date\"],index_col=\"date\"\n",
    "    )\n",
    "\n",
    "\n",
    "    # Return DataFrame\n",
    "    return df"
   ]
  },
  {
   "cell_type": "code",
   "execution_count": 68,
   "id": "ff6083c1-eddd-4301-9808-0d149e1974f1",
   "metadata": {
    "deletable": false,
    "editable": false,
    "init_cell": true
   },
   "outputs": [
    {
     "data": {
      "text/html": [
       "\n",
       "        <iframe\n",
       "            width=\"600\"\n",
       "            height=\"300\"\n",
       "            src=\"https://player.vimeo.com/video/764772652?h=9f89b8c66e\"\n",
       "            frameborder=\"0\"\n",
       "            allowfullscreen\n",
       "            \n",
       "        ></iframe>\n",
       "        "
      ],
      "text/plain": [
       "<IPython.lib.display.VimeoVideo at 0x7f7ee714fb80>"
      ]
     },
     "execution_count": 68,
     "metadata": {},
     "output_type": "execute_result"
    }
   ],
   "source": [
    "VimeoVideo(\"764772652\", h=\"9f89b8c66e\", width=600)"
   ]
  },
  {
   "cell_type": "markdown",
   "id": "b2fb4e46-3af8-489c-924c-a2ad9f973b37",
   "metadata": {
    "deletable": false,
    "editable": false
   },
   "source": [
    "**Task 8.2.13:** Turn the `read_table` function into a method for your `SQLRepository` class.\n",
    "\n",
    "- [Write a class method in Python.](../%40textbook/21-python-object-oriented-programming.ipynb#Methods)"
   ]
  },
  {
   "cell_type": "code",
   "execution_count": 69,
   "id": "cffacffd-b62f-4c64-b047-c6f271d75d09",
   "metadata": {
    "deletable": false,
    "editable": false,
    "init_cell": true
   },
   "outputs": [
    {
     "data": {
      "text/html": [
       "\n",
       "        <iframe\n",
       "            width=\"600\"\n",
       "            height=\"300\"\n",
       "            src=\"https://player.vimeo.com/video/764772632?h=3e374abcc3\"\n",
       "            frameborder=\"0\"\n",
       "            allowfullscreen\n",
       "            \n",
       "        ></iframe>\n",
       "        "
      ],
      "text/plain": [
       "<IPython.lib.display.VimeoVideo at 0x7f7ee701a9a0>"
      ]
     },
     "execution_count": 69,
     "metadata": {},
     "output_type": "execute_result"
    }
   ],
   "source": [
    "VimeoVideo(\"764772632\", h=\"3e374abcc3\", width=600)"
   ]
  },
  {
   "cell_type": "markdown",
   "id": "0ce86bf2-4246-4f84-8f4e-c4b42acc7676",
   "metadata": {
    "deletable": false,
    "editable": false
   },
   "source": [
    "**Task 8.2.14:** Return to task <a href=\"#task-8211\">Task 8.2.11</a> and change the code so that you're testing your class method instead of your notebook function.\n",
    "\n",
    "- [What's an assert statement?](../%40textbook/02-python-advanced.ipynb#Testing-Code)\n",
    "- [Write an assert statement in Python.](../%40textbook/02-python-advanced.ipynb#Testing-Code)"
   ]
  },
  {
   "cell_type": "markdown",
   "id": "76507396-e592-4704-9c56-c2a64d817fa6",
   "metadata": {
    "deletable": false,
    "editable": false
   },
   "source": [
    "Excellent! We have everything we need to get data from AlphaVantage, save that data in our database, and access it later on. Now it's time to do a little exploratory analysis to compare the stocks of the two companies we have data for. "
   ]
  },
  {
   "cell_type": "markdown",
   "id": "95b3fb61-9b65-438f-8ed4-08b1e52e63cc",
   "metadata": {
    "deletable": false,
    "editable": false
   },
   "source": [
    "# Comparing Stock Returns"
   ]
  },
  {
   "cell_type": "markdown",
   "id": "90e82934-8192-43a2-a700-30a2fd64d678",
   "metadata": {
    "deletable": false,
    "editable": false
   },
   "source": [
    "We already have the data for Suzlon Energy in our database, but we need to add the data for Ambuja Cement before we can compare the two stocks."
   ]
  },
  {
   "cell_type": "code",
   "execution_count": 71,
   "id": "3de56b52-2bcb-4ac4-9937-4fb57785d875",
   "metadata": {
    "deletable": false,
    "editable": false,
    "init_cell": true
   },
   "outputs": [
    {
     "data": {
      "text/html": [
       "\n",
       "        <iframe\n",
       "            width=\"600\"\n",
       "            height=\"300\"\n",
       "            src=\"https://player.vimeo.com/video/764772620?h=d635a99b74\"\n",
       "            frameborder=\"0\"\n",
       "            allowfullscreen\n",
       "            \n",
       "        ></iframe>\n",
       "        "
      ],
      "text/plain": [
       "<IPython.lib.display.VimeoVideo at 0x7f7ee706af40>"
      ]
     },
     "execution_count": 71,
     "metadata": {},
     "output_type": "execute_result"
    }
   ],
   "source": [
    "VimeoVideo(\"764772620\", h=\"d635a99b74\", width=600)"
   ]
  },
  {
   "cell_type": "markdown",
   "id": "7070d872-2f79-4a1b-bdf6-ac5b9354f9ec",
   "metadata": {
    "deletable": false,
    "editable": false
   },
   "source": [
    "**Task 8.2.15:** Use the instances of the `AlphaVantageAPI` and `SQLRepository` classes you created in this lesson (`av` and `repo`, respectively) to get the stock data for Ambuja Cement and read it into the database.\n",
    "\n",
    "- [Write a basic query in SQL.](../%40textbook/10-databases-sql.ipynb#Querying-a-Database)\n",
    "- [Read SQL query into a DataFrame using pandas.](../%40textbook/10-databases-sql.ipynb#Using-pandas-with-SQL-Databases)"
   ]
  },
  {
   "cell_type": "code",
   "execution_count": 73,
   "id": "877ec8a6-1a9e-4ab5-b4d3-59e0248adaca",
   "metadata": {
    "deletable": false
   },
   "outputs": [
    {
     "data": {
      "text/plain": [
       "{'transaction_successful': True, 'records_inserted': 4424}"
      ]
     },
     "execution_count": 73,
     "metadata": {},
     "output_type": "execute_result"
    }
   ],
   "source": [
    "ticker = \"AMBUJACEM.BSE\"\n",
    "\n",
    "# Get Ambuja data using `av`\n",
    "ambuja_records = av.get_daily(ticker=ticker)\n",
    "\n",
    "# Insert `ambuja_records` database using `repo`\n",
    "response = repo.insert_table(\n",
    "table_name=ticker,records=ambuja_records,if_exists=\"replace\"\n",
    ")\n",
    "\n",
    "response"
   ]
  },
  {
   "cell_type": "markdown",
   "id": "006550f0-599d-47a7-ae8e-c59b21854809",
   "metadata": {
    "deletable": false,
    "editable": false
   },
   "source": [
    "Let's take a look at the data to make sure we're getting what we need."
   ]
  },
  {
   "cell_type": "code",
   "execution_count": 74,
   "id": "47b36d65-e255-499f-9f98-5b0e5f65be6f",
   "metadata": {
    "deletable": false,
    "editable": false,
    "init_cell": true
   },
   "outputs": [
    {
     "data": {
      "text/html": [
       "\n",
       "        <iframe\n",
       "            width=\"600\"\n",
       "            height=\"300\"\n",
       "            src=\"https://player.vimeo.com/video/764772601?h=f0be0fbb1a\"\n",
       "            frameborder=\"0\"\n",
       "            allowfullscreen\n",
       "            \n",
       "        ></iframe>\n",
       "        "
      ],
      "text/plain": [
       "<IPython.lib.display.VimeoVideo at 0x7f7ee714f160>"
      ]
     },
     "execution_count": 74,
     "metadata": {},
     "output_type": "execute_result"
    }
   ],
   "source": [
    "VimeoVideo(\"764772601\", h=\"f0be0fbb1a\", width=600)"
   ]
  },
  {
   "cell_type": "markdown",
   "id": "111e376f-f8d6-454b-bffe-540d2e392371",
   "metadata": {
    "deletable": false,
    "editable": false
   },
   "source": [
    "**Task 8.2.16:** Using the `read_table` method you've added to your `SQLRepository`, extract the most recent 2,500 rows of data for Ambuja Cement from the database and assign the result to `df_ambuja`.\n",
    "\n",
    "- [Write a basic query in SQL.](../%40textbook/10-databases-sql.ipynb#Querying-a-Database)\n",
    "- [Read SQL query into a DataFrame using pandas.](../%40textbook/10-databases-sql.ipynb#Using-pandas-with-SQL-Databases)"
   ]
  },
  {
   "cell_type": "code",
   "execution_count": 75,
   "id": "645a6c99-a4ac-4525-8876-cf9ca89cb4d6",
   "metadata": {
    "deletable": false
   },
   "outputs": [
    {
     "name": "stdout",
     "output_type": "stream",
     "text": [
      "df_ambuja type: <class 'pandas.core.frame.DataFrame'>\n",
      "df_ambuja shape: (2500, 5)\n"
     ]
    },
    {
     "data": {
      "text/html": [
       "<div>\n",
       "<style scoped>\n",
       "    .dataframe tbody tr th:only-of-type {\n",
       "        vertical-align: middle;\n",
       "    }\n",
       "\n",
       "    .dataframe tbody tr th {\n",
       "        vertical-align: top;\n",
       "    }\n",
       "\n",
       "    .dataframe thead th {\n",
       "        text-align: right;\n",
       "    }\n",
       "</style>\n",
       "<table border=\"1\" class=\"dataframe\">\n",
       "  <thead>\n",
       "    <tr style=\"text-align: right;\">\n",
       "      <th></th>\n",
       "      <th>open</th>\n",
       "      <th>high</th>\n",
       "      <th>low</th>\n",
       "      <th>close</th>\n",
       "      <th>volume</th>\n",
       "    </tr>\n",
       "    <tr>\n",
       "      <th>date</th>\n",
       "      <th></th>\n",
       "      <th></th>\n",
       "      <th></th>\n",
       "      <th></th>\n",
       "      <th></th>\n",
       "    </tr>\n",
       "  </thead>\n",
       "  <tbody>\n",
       "    <tr>\n",
       "      <th>2022-12-15</th>\n",
       "      <td>580.55</td>\n",
       "      <td>583.55</td>\n",
       "      <td>558.95</td>\n",
       "      <td>561.05</td>\n",
       "      <td>133019.0</td>\n",
       "    </tr>\n",
       "    <tr>\n",
       "      <th>2022-12-14</th>\n",
       "      <td>585.40</td>\n",
       "      <td>589.30</td>\n",
       "      <td>581.45</td>\n",
       "      <td>582.15</td>\n",
       "      <td>46841.0</td>\n",
       "    </tr>\n",
       "    <tr>\n",
       "      <th>2022-12-13</th>\n",
       "      <td>585.05</td>\n",
       "      <td>589.00</td>\n",
       "      <td>583.10</td>\n",
       "      <td>584.25</td>\n",
       "      <td>55064.0</td>\n",
       "    </tr>\n",
       "    <tr>\n",
       "      <th>2022-12-12</th>\n",
       "      <td>580.60</td>\n",
       "      <td>587.25</td>\n",
       "      <td>573.50</td>\n",
       "      <td>584.85</td>\n",
       "      <td>87534.0</td>\n",
       "    </tr>\n",
       "    <tr>\n",
       "      <th>2022-12-09</th>\n",
       "      <td>593.50</td>\n",
       "      <td>598.15</td>\n",
       "      <td>572.50</td>\n",
       "      <td>580.95</td>\n",
       "      <td>316301.0</td>\n",
       "    </tr>\n",
       "  </tbody>\n",
       "</table>\n",
       "</div>"
      ],
      "text/plain": [
       "              open    high     low   close    volume\n",
       "date                                                \n",
       "2022-12-15  580.55  583.55  558.95  561.05  133019.0\n",
       "2022-12-14  585.40  589.30  581.45  582.15   46841.0\n",
       "2022-12-13  585.05  589.00  583.10  584.25   55064.0\n",
       "2022-12-12  580.60  587.25  573.50  584.85   87534.0\n",
       "2022-12-09  593.50  598.15  572.50  580.95  316301.0"
      ]
     },
     "execution_count": 75,
     "metadata": {},
     "output_type": "execute_result"
    }
   ],
   "source": [
    "ticker = \"AMBUJACEM.BSE\"\n",
    "df_ambuja = repo.read_table(table_name=ticker,limit=2500)\n",
    "\n",
    "print(\"df_ambuja type:\", type(df_ambuja))\n",
    "print(\"df_ambuja shape:\", df_ambuja.shape)\n",
    "df_ambuja.head()"
   ]
  },
  {
   "cell_type": "markdown",
   "id": "a14158b0-ea28-4b0b-adb5-fc45103bd869",
   "metadata": {
    "deletable": false,
    "editable": false
   },
   "source": [
    "We've spent a lot of time so far looking at this data, but what does it actually represent? It turns out the stock market is a lot like any other market: people buy and sell goods. The prices of those goods can go up or down depending on factors like supply and demand. In the case of a stock market, the goods being sold are stocks (also called equities or securities), which represent an ownership stake in a corporation.\n",
    "\n",
    "During each trading day, the price of a stock will change, so when we're looking at whether a stock might be a good investment, we look at four types of numbers: open, high, low, close, volume. **Open** is exactly what it sounds like: the selling price of a share when the market opens for the day. Similarly, **close** is the selling price of a share when the market closes at the end of the day, and **high** and **low** are the respective maximum and minimum prices of a share over the course of the day. **Volume** is the number of shares of a given stock that have been bought and sold that day. Generally speaking, a firm whose shares have seen a high volume of trading will see more price variation of the course of the day than a firm whose shares have been more lightly traded.\n",
    "\n",
    "Let's visualize how the price of Ambuja Cement changes over the last decade."
   ]
  },
  {
   "cell_type": "code",
   "execution_count": 76,
   "id": "cdb00c46-8a0b-4cde-ba15-beeed3eb3f4a",
   "metadata": {
    "deletable": false,
    "editable": false,
    "init_cell": true
   },
   "outputs": [
    {
     "data": {
      "text/html": [
       "\n",
       "        <iframe\n",
       "            width=\"600\"\n",
       "            height=\"300\"\n",
       "            src=\"https://player.vimeo.com/video/764772582?h=c2b9c56782\"\n",
       "            frameborder=\"0\"\n",
       "            allowfullscreen\n",
       "            \n",
       "        ></iframe>\n",
       "        "
      ],
      "text/plain": [
       "<IPython.lib.display.VimeoVideo at 0x7f7ee701a6d0>"
      ]
     },
     "execution_count": 76,
     "metadata": {},
     "output_type": "execute_result"
    }
   ],
   "source": [
    "VimeoVideo(\"764772582\", h=\"c2b9c56782\", width=600)"
   ]
  },
  {
   "cell_type": "markdown",
   "id": "efd079bf-b7c4-4b04-a583-50678306daaa",
   "metadata": {
    "deletable": false,
    "editable": false
   },
   "source": [
    "**Task 8.2.17:** Plot the closing price of `df_ambuja`. Be sure to label your axes and include a legend.\n",
    "\n",
    "- [Make a line plot with time series data in pandas.](../%40textbook/07-visualization-pandas.ipynb#Line-Plots)"
   ]
  },
  {
   "cell_type": "code",
   "execution_count": 79,
   "id": "4904ceb7-832a-4cf3-bf99-6913d984f9f1",
   "metadata": {
    "deletable": false
   },
   "outputs": [
    {
     "data": {
      "text/plain": [
       "<matplotlib.legend.Legend at 0x7f7edeeb0700>"
      ]
     },
     "execution_count": 79,
     "metadata": {},
     "output_type": "execute_result"
    },
    {
     "data": {
      "image/png": "[encoded data removed]",
      "text/plain": [
       "<Figure size 1080x432 with 1 Axes>"
      ]
     },
     "metadata": {
      "needs_background": "light"
     },
     "output_type": "display_data"
    }
   ],
   "source": [
    "fig, ax = plt.subplots(figsize=(15, 6))\n",
    "# Plot `df_ambuja` closing price\n",
    "df_ambuja[\"close\"].plot(ax=ax,label=\"AMBUJACEM\",color=\"C1\")\n",
    "\n",
    "# Label axes\n",
    "plt.xlabel(\"Date\")\n",
    "plt.ylabel(\"Closing Price\")\n",
    "\n",
    "\n",
    "# Add legend\n",
    "plt.legend()"
   ]
  },
  {
   "cell_type": "markdown",
   "id": "178995dd-eb82-49a4-90b7-978bb22ec100",
   "metadata": {
    "deletable": false,
    "editable": false
   },
   "source": [
    "Let's add the closing price of Suzlon to our graph so we can compare the two."
   ]
  },
  {
   "cell_type": "code",
   "execution_count": 80,
   "id": "7c500665-7dcb-4ad9-b897-cadee0e13b64",
   "metadata": {
    "deletable": false,
    "editable": false,
    "init_cell": true
   },
   "outputs": [
    {
     "data": {
      "text/html": [
       "\n",
       "        <iframe\n",
       "            width=\"600\"\n",
       "            height=\"300\"\n",
       "            src=\"https://player.vimeo.com/video/764772560?h=cabe95603f\"\n",
       "            frameborder=\"0\"\n",
       "            allowfullscreen\n",
       "            \n",
       "        ></iframe>\n",
       "        "
      ],
      "text/plain": [
       "<IPython.lib.display.VimeoVideo at 0x7f7edeef4f10>"
      ]
     },
     "execution_count": 80,
     "metadata": {},
     "output_type": "execute_result"
    }
   ],
   "source": [
    "VimeoVideo(\"764772560\", h=\"cabe95603f\", width=600)"
   ]
  },
  {
   "cell_type": "markdown",
   "id": "69c60268-0e80-4273-9687-7aae48197885",
   "metadata": {
    "deletable": false,
    "editable": false
   },
   "source": [
    "**Task 8.2.18:** Create a plot that shows the closing prices of `df_suzlon` and `df_ambuja`. Again, label your axes and include a legend.\n",
    "\n",
    "- [Make a line plot with time series data in pandas.](../%40textbook/07-visualization-pandas.ipynb#Line-Plots)"
   ]
  },
  {
   "cell_type": "code",
   "execution_count": 84,
   "id": "a4b12ff3-d790-4ad2-b1f8-22e97a1149e4",
   "metadata": {
    "deletable": false
   },
   "outputs": [
    {
     "data": {
      "text/plain": [
       "<matplotlib.legend.Legend at 0x7f7ee716cf10>"
      ]
     },
     "execution_count": 84,
     "metadata": {},
     "output_type": "execute_result"
    },
    {
     "data": {
      "image/png": "[encoded data removed]",
      "text/plain": [
       "<Figure size 1080x432 with 1 Axes>"
      ]
     },
     "metadata": {
      "needs_background": "light"
     },
     "output_type": "display_data"
    }
   ],
   "source": [
    "fig, ax = plt.subplots(figsize=(15, 6))\n",
    "# Plot `df_suzlon` and `df_ambuja`\n",
    "df_suzlon[\"close\"].plot(ax=ax,label=\"SUZLON\",color=\"C2\")\n",
    "df_ambuja[\"close\"].plot(ax=ax,label=\"AMBUJACEM\",color=\"C1\")\n",
    "# Label axes\n",
    "plt.xlabel(\"Date\")\n",
    "plt.ylabel(\"Closing Price\")\n",
    "# Add legend\n",
    "plt.legend()"
   ]
  },
  {
   "cell_type": "markdown",
   "id": "f1f00230-e924-4cee-828d-ac69bff887c4",
   "metadata": {
    "deletable": false,
    "editable": false
   },
   "source": [
    "Looking at this plot, we might conclude that Ambuja Cement is a \"better\" stock than Suzlon energy because its price is higher. But price is just one factor that an investor must consider when creating an investment strategy. What is definitely true is that it's hard to do a head-to-head comparison of these two stocks because there's such a large price difference.\n",
    "\n",
    "One way in which investors compare stocks is by looking at their **returns** instead. A return is the change in value in an investment, represented as a percentage. So let's look at the daily returns for our two stocks."
   ]
  },
  {
   "cell_type": "code",
   "execution_count": 85,
   "id": "54d227d9-a193-4b3c-8fd4-e7972b065a16",
   "metadata": {
    "deletable": false,
    "editable": false,
    "init_cell": true
   },
   "outputs": [
    {
     "data": {
      "text/html": [
       "\n",
       "        <iframe\n",
       "            width=\"600\"\n",
       "            height=\"300\"\n",
       "            src=\"https://player.vimeo.com/video/764772521?h=48fb7816c9\"\n",
       "            frameborder=\"0\"\n",
       "            allowfullscreen\n",
       "            \n",
       "        ></iframe>\n",
       "        "
      ],
      "text/plain": [
       "<IPython.lib.display.VimeoVideo at 0x7f7edea25370>"
      ]
     },
     "execution_count": 85,
     "metadata": {},
     "output_type": "execute_result"
    }
   ],
   "source": [
    "VimeoVideo(\"764772521\", h=\"48fb7816c9\", width=600)"
   ]
  },
  {
   "cell_type": "markdown",
   "id": "d0e2da22-819d-4e67-8d20-8abe1d34c0c3",
   "metadata": {
    "deletable": false,
    "editable": false
   },
   "source": [
    "**Task 8.2.19:** Add a `\"return\"` column to `df_ambuja` that shows the percentage change in the `\"close\"` column from one day to the next.\n",
    "\n",
    "- [Calculate the percentage change of a column using pandas.](../%40textbook/18-ts-models.ipynb#Calculating-Returns)\n",
    "- [Create new columns derived from existing columns in a DataFrame using pandas.](../%40textbook/03-pandas-getting-started.ipynb#Adding-Columns)"
   ]
  },
  {
   "cell_type": "markdown",
   "id": "94587ffb-277a-4e0e-801e-d6017956504f",
   "metadata": {
    "deletable": false,
    "editable": false
   },
   "source": [
    "<div class=\"alert alert-info\" role=\"alert\">\n",
    "    <p><b>Tip:</b> Our two DataFrames are sorted <b>descending</b> by date, but you'll need to make sure they're sorted <b>ascending</b> in order to calculate their returns.</p>\n",
    "</div>"
   ]
  },
  {
   "cell_type": "code",
   "execution_count": 90,
   "id": "00c4020b-5304-4b59-bcfc-ba90bd05e5ed",
   "metadata": {
    "deletable": false
   },
   "outputs": [
    {
     "name": "stdout",
     "output_type": "stream",
     "text": [
      "df_ambuja shape: (2500, 6)\n",
      "<class 'pandas.core.frame.DataFrame'>\n",
      "DatetimeIndex: 2500 entries, 2012-10-18 to 2022-12-15\n",
      "Data columns (total 6 columns):\n",
      " #   Column  Non-Null Count  Dtype  \n",
      "---  ------  --------------  -----  \n",
      " 0   open    2500 non-null   float64\n",
      " 1   high    2500 non-null   float64\n",
      " 2   low     2500 non-null   float64\n",
      " 3   close   2500 non-null   float64\n",
      " 4   volume  2500 non-null   float64\n",
      " 5   return  2499 non-null   float64\n",
      "dtypes: float64(6)\n",
      "memory usage: 136.7 KB\n",
      "None\n"
     ]
    },
    {
     "data": {
      "text/html": [
       "<div>\n",
       "<style scoped>\n",
       "    .dataframe tbody tr th:only-of-type {\n",
       "        vertical-align: middle;\n",
       "    }\n",
       "\n",
       "    .dataframe tbody tr th {\n",
       "        vertical-align: top;\n",
       "    }\n",
       "\n",
       "    .dataframe thead th {\n",
       "        text-align: right;\n",
       "    }\n",
       "</style>\n",
       "<table border=\"1\" class=\"dataframe\">\n",
       "  <thead>\n",
       "    <tr style=\"text-align: right;\">\n",
       "      <th></th>\n",
       "      <th>open</th>\n",
       "      <th>high</th>\n",
       "      <th>low</th>\n",
       "      <th>close</th>\n",
       "      <th>volume</th>\n",
       "      <th>return</th>\n",
       "    </tr>\n",
       "    <tr>\n",
       "      <th>date</th>\n",
       "      <th></th>\n",
       "      <th></th>\n",
       "      <th></th>\n",
       "      <th></th>\n",
       "      <th></th>\n",
       "      <th></th>\n",
       "    </tr>\n",
       "  </thead>\n",
       "  <tbody>\n",
       "    <tr>\n",
       "      <th>2012-10-18</th>\n",
       "      <td>205.85</td>\n",
       "      <td>207.80</td>\n",
       "      <td>201.60</td>\n",
       "      <td>203.60</td>\n",
       "      <td>581227.0</td>\n",
       "      <td>NaN</td>\n",
       "    </tr>\n",
       "    <tr>\n",
       "      <th>2012-10-19</th>\n",
       "      <td>204.40</td>\n",
       "      <td>208.25</td>\n",
       "      <td>203.25</td>\n",
       "      <td>206.45</td>\n",
       "      <td>597384.0</td>\n",
       "      <td>1.399804</td>\n",
       "    </tr>\n",
       "    <tr>\n",
       "      <th>2012-10-22</th>\n",
       "      <td>206.80</td>\n",
       "      <td>206.80</td>\n",
       "      <td>201.90</td>\n",
       "      <td>203.70</td>\n",
       "      <td>132130.0</td>\n",
       "      <td>-1.332042</td>\n",
       "    </tr>\n",
       "    <tr>\n",
       "      <th>2012-10-23</th>\n",
       "      <td>204.00</td>\n",
       "      <td>206.55</td>\n",
       "      <td>202.05</td>\n",
       "      <td>203.00</td>\n",
       "      <td>95027.0</td>\n",
       "      <td>-0.343643</td>\n",
       "    </tr>\n",
       "    <tr>\n",
       "      <th>2012-10-25</th>\n",
       "      <td>202.35</td>\n",
       "      <td>207.20</td>\n",
       "      <td>201.00</td>\n",
       "      <td>205.85</td>\n",
       "      <td>138060.0</td>\n",
       "      <td>1.403941</td>\n",
       "    </tr>\n",
       "  </tbody>\n",
       "</table>\n",
       "</div>"
      ],
      "text/plain": [
       "              open    high     low   close    volume    return\n",
       "date                                                          \n",
       "2012-10-18  205.85  207.80  201.60  203.60  581227.0       NaN\n",
       "2012-10-19  204.40  208.25  203.25  206.45  597384.0  1.399804\n",
       "2012-10-22  206.80  206.80  201.90  203.70  132130.0 -1.332042\n",
       "2012-10-23  204.00  206.55  202.05  203.00   95027.0 -0.343643\n",
       "2012-10-25  202.35  207.20  201.00  205.85  138060.0  1.403941"
      ]
     },
     "execution_count": 90,
     "metadata": {},
     "output_type": "execute_result"
    }
   ],
   "source": [
    "# Sort DataFrame ascending by date\n",
    "df_ambuja.sort_index(ascending=True,inplace=True)\n",
    "\n",
    "# Create \"return\" column\n",
    "df_ambuja[\"return\"] = df_ambuja[\"close\"].pct_change()*100\n",
    "\n",
    "print(\"df_ambuja shape:\", df_ambuja.shape)\n",
    "print(df_ambuja.info())\n",
    "df_ambuja.head()"
   ]
  },
  {
   "cell_type": "code",
   "execution_count": 91,
   "id": "ba984e64-3e2b-4d95-a490-ec010a560bc9",
   "metadata": {
    "deletable": false,
    "editable": false,
    "init_cell": true
   },
   "outputs": [
    {
     "data": {
      "text/html": [
       "\n",
       "        <iframe\n",
       "            width=\"600\"\n",
       "            height=\"300\"\n",
       "            src=\"https://player.vimeo.com/video/764772505?h=0d303013a8\"\n",
       "            frameborder=\"0\"\n",
       "            allowfullscreen\n",
       "            \n",
       "        ></iframe>\n",
       "        "
      ],
      "text/plain": [
       "<IPython.lib.display.VimeoVideo at 0x7f7e72cac040>"
      ]
     },
     "execution_count": 91,
     "metadata": {},
     "output_type": "execute_result"
    }
   ],
   "source": [
    "VimeoVideo(\"764772505\", h=\"0d303013a8\", width=600)"
   ]
  },
  {
   "cell_type": "markdown",
   "id": "7eb59639-3ea3-4519-a87f-0f723a1be4d5",
   "metadata": {
    "deletable": false,
    "editable": false
   },
   "source": [
    "**Task 8.2.20:** Add a `\"return\"` column to `df_suzlon`.\n",
    "\n",
    "- [Calculate the percentage change of a column using pandas.](../%40textbook/18-ts-models.ipynb#Calculating-Returns)\n",
    "- [Create new columns derived from existing columns in a DataFrame using pandas.](../%40textbook/03-pandas-getting-started.ipynb#Adding-Columns)"
   ]
  },
  {
   "cell_type": "code",
   "execution_count": 92,
   "id": "3076a820-add7-4541-95df-b4cda12c5fbc",
   "metadata": {
    "deletable": false
   },
   "outputs": [
    {
     "name": "stdout",
     "output_type": "stream",
     "text": [
      "df_suzlon shape: (2500, 6)\n",
      "<class 'pandas.core.frame.DataFrame'>\n",
      "DatetimeIndex: 2500 entries, 2012-10-18 to 2022-12-15\n",
      "Data columns (total 6 columns):\n",
      " #   Column  Non-Null Count  Dtype  \n",
      "---  ------  --------------  -----  \n",
      " 0   open    2500 non-null   float64\n",
      " 1   high    2500 non-null   float64\n",
      " 2   low     2500 non-null   float64\n",
      " 3   close   2500 non-null   float64\n",
      " 4   volume  2500 non-null   float64\n",
      " 5   return  2499 non-null   float64\n",
      "dtypes: float64(6)\n",
      "memory usage: 136.7 KB\n",
      "None\n"
     ]
    },
    {
     "data": {
      "text/html": [
       "<div>\n",
       "<style scoped>\n",
       "    .dataframe tbody tr th:only-of-type {\n",
       "        vertical-align: middle;\n",
       "    }\n",
       "\n",
       "    .dataframe tbody tr th {\n",
       "        vertical-align: top;\n",
       "    }\n",
       "\n",
       "    .dataframe thead th {\n",
       "        text-align: right;\n",
       "    }\n",
       "</style>\n",
       "<table border=\"1\" class=\"dataframe\">\n",
       "  <thead>\n",
       "    <tr style=\"text-align: right;\">\n",
       "      <th></th>\n",
       "      <th>open</th>\n",
       "      <th>high</th>\n",
       "      <th>low</th>\n",
       "      <th>close</th>\n",
       "      <th>volume</th>\n",
       "      <th>return</th>\n",
       "    </tr>\n",
       "    <tr>\n",
       "      <th>date</th>\n",
       "      <th></th>\n",
       "      <th></th>\n",
       "      <th></th>\n",
       "      <th></th>\n",
       "      <th></th>\n",
       "      <th></th>\n",
       "    </tr>\n",
       "  </thead>\n",
       "  <tbody>\n",
       "    <tr>\n",
       "      <th>2012-10-18</th>\n",
       "      <td>15.75</td>\n",
       "      <td>15.90</td>\n",
       "      <td>15.65</td>\n",
       "      <td>15.80</td>\n",
       "      <td>2127742.0</td>\n",
       "      <td>NaN</td>\n",
       "    </tr>\n",
       "    <tr>\n",
       "      <th>2012-10-19</th>\n",
       "      <td>15.90</td>\n",
       "      <td>15.90</td>\n",
       "      <td>15.55</td>\n",
       "      <td>15.65</td>\n",
       "      <td>2471279.0</td>\n",
       "      <td>-0.949367</td>\n",
       "    </tr>\n",
       "    <tr>\n",
       "      <th>2012-10-22</th>\n",
       "      <td>15.60</td>\n",
       "      <td>16.35</td>\n",
       "      <td>15.55</td>\n",
       "      <td>16.05</td>\n",
       "      <td>3612602.0</td>\n",
       "      <td>2.555911</td>\n",
       "    </tr>\n",
       "    <tr>\n",
       "      <th>2012-10-23</th>\n",
       "      <td>16.10</td>\n",
       "      <td>16.10</td>\n",
       "      <td>15.45</td>\n",
       "      <td>15.50</td>\n",
       "      <td>4658159.0</td>\n",
       "      <td>-3.426791</td>\n",
       "    </tr>\n",
       "    <tr>\n",
       "      <th>2012-10-25</th>\n",
       "      <td>15.50</td>\n",
       "      <td>15.95</td>\n",
       "      <td>15.25</td>\n",
       "      <td>15.80</td>\n",
       "      <td>4415602.0</td>\n",
       "      <td>1.935484</td>\n",
       "    </tr>\n",
       "  </tbody>\n",
       "</table>\n",
       "</div>"
      ],
      "text/plain": [
       "             open   high    low  close     volume    return\n",
       "date                                                       \n",
       "2012-10-18  15.75  15.90  15.65  15.80  2127742.0       NaN\n",
       "2012-10-19  15.90  15.90  15.55  15.65  2471279.0 -0.949367\n",
       "2012-10-22  15.60  16.35  15.55  16.05  3612602.0  2.555911\n",
       "2012-10-23  16.10  16.10  15.45  15.50  4658159.0 -3.426791\n",
       "2012-10-25  15.50  15.95  15.25  15.80  4415602.0  1.935484"
      ]
     },
     "execution_count": 92,
     "metadata": {},
     "output_type": "execute_result"
    }
   ],
   "source": [
    "# Sort DataFrame ascending by date\n",
    "df_suzlon.sort_index(ascending=True,inplace=True)\n",
    "\n",
    "# Create \"return\" column\n",
    "df_suzlon[\"return\"] = df_suzlon[\"close\"].pct_change()*100\n",
    "\n",
    "print(\"df_suzlon shape:\", df_suzlon.shape)\n",
    "print(df_suzlon.info())\n",
    "df_suzlon.head()"
   ]
  },
  {
   "cell_type": "code",
   "execution_count": 93,
   "id": "7fa2e2e8-7573-4c01-a8a9-34c83b987817",
   "metadata": {
    "deletable": false,
    "editable": false
   },
   "outputs": [
    {
     "data": {
      "text/html": [
       "\n",
       "    <div class=\"wqet-result\">\n",
       "      <div class=\"animation\">\n",
       "        <svg class=\"checkmark\" xmlns=\"http://www.w3.org/2000/svg\" viewBox=\"0 0 52 52\">\n",
       "          <circle class=\"checkmark__circle\" cx=\"26\" cy=\"26\" r=\"25\" fill=\"none\"/>\n",
       "          <path class=\"checkmark__check\" fill=\"none\" d=\"M14.1 27.2l7.1 7.2 16.7-16.8\"/>\n",
       "        </svg>\n",
       "      </div>\n",
       "      <div class=\"details\">\n",
       "        <p class=\"title\"><p>Way to go!</p></p>\n",
       "        <p>Score: 1</p>\n",
       "      </div>\n",
       "    </div>\n"
      ],
      "text/plain": [
       "<IPython.core.display.HTML object>"
      ]
     },
     "metadata": {},
     "output_type": "display_data"
    }
   ],
   "source": [
    "wqet_grader.grade(\"Project 8 Assessment\", \"Task 8.2.20\", df_suzlon)"
   ]
  },
  {
   "cell_type": "markdown",
   "id": "e04ec796-6fda-416a-9257-11dddae0b628",
   "metadata": {
    "deletable": false,
    "editable": false
   },
   "source": [
    "Now let's plot the returns for our two companies and see how the two compare."
   ]
  },
  {
   "cell_type": "code",
   "execution_count": 94,
   "id": "9a11867c-c13f-41e2-80b7-66c8f64ee3e0",
   "metadata": {
    "deletable": false,
    "editable": false,
    "init_cell": true
   },
   "outputs": [
    {
     "data": {
      "text/html": [
       "\n",
       "        <iframe\n",
       "            width=\"600\"\n",
       "            height=\"300\"\n",
       "            src=\"https://player.vimeo.com/video/764772480?h=b8ebd6bd2f\"\n",
       "            frameborder=\"0\"\n",
       "            allowfullscreen\n",
       "            \n",
       "        ></iframe>\n",
       "        "
      ],
      "text/plain": [
       "<IPython.lib.display.VimeoVideo at 0x7f7e72c8b670>"
      ]
     },
     "execution_count": 94,
     "metadata": {},
     "output_type": "execute_result"
    }
   ],
   "source": [
    "VimeoVideo(\"764772480\", h=\"b8ebd6bd2f\", width=600)"
   ]
  },
  {
   "cell_type": "markdown",
   "id": "d85d36bb-6b5c-4f31-a8af-47240071ee6b",
   "metadata": {
    "deletable": false,
    "editable": false
   },
   "source": [
    "**Task 8.2.21:** Plot the returns for `df_suzlon` and `df_ambuja`. Be sure to label your axes and use legend.\n",
    "\n",
    "- [Make a line plot with time series data in pandas.](../%40textbook/07-visualization-pandas.ipynb#Line-Plots)"
   ]
  },
  {
   "cell_type": "code",
   "execution_count": 95,
   "id": "d95138c2-4fc2-4b42-96f2-62ab7e9ab874",
   "metadata": {
    "deletable": false
   },
   "outputs": [
    {
     "data": {
      "text/plain": [
       "<matplotlib.legend.Legend at 0x7f7e72c9ad90>"
      ]
     },
     "execution_count": 95,
     "metadata": {},
     "output_type": "execute_result"
    },
    {
     "data": {
      "image/png": "[encoded data removed]",
      "text/plain": [
       "<Figure size 1080x432 with 1 Axes>"
      ]
     },
     "metadata": {
      "needs_background": "light"
     },
     "output_type": "display_data"
    }
   ],
   "source": [
    "fig, ax = plt.subplots(figsize=(15, 6))\n",
    "# Plot `df_suzlon` and `df_ambuja`\n",
    "df_suzlon[\"return\"].plot(ax=ax,label=\"SUZLON\",color=\"C2\")\n",
    "df_ambuja[\"return\"].plot(ax=ax,label=\"AMBUJACEM\",color=\"C1\")\n",
    "# Label axes\n",
    "plt.xlabel(\"Date\")\n",
    "plt.ylabel(\"Return\")\n",
    "# Add legend\n",
    "plt.legend()"
   ]
  },
  {
   "cell_type": "markdown",
   "id": "6cd81a16-179a-47b2-8ab5-532f19cbf55a",
   "metadata": {
    "deletable": false,
    "editable": false
   },
   "source": [
    "Success! By representing returns as a percentage, we're able to compare two stocks that have very different prices. But what is this visualization telling us? We can see that the returns for Suzlon have a wider spread. We see big gains and big losses. In contrast, the spread for Ambuja is narrower, meaning that the price doesn't fluctuate as much. \n",
    "\n",
    "Another name for this day-to-day fluctuation in returns is called [**volatility**](https://en.wikipedia.org/wiki/Volatility_(finance)), which is another important factor for investors. So in the next lesson, we'll learn more about volatility and then build a time series model to predict it."
   ]
  },
  {
   "cell_type": "markdown",
   "id": "f14c9ed5",
   "metadata": {
    "deletable": false,
    "editable": false
   },
   "source": [
    "---\n",
    "Copyright © 2022 WorldQuant University. This\n",
    "content is licensed solely for personal use. Redistribution or\n",
    "publication of this material is strictly prohibited.\n"
   ]
  }
 ],
 "metadata": {
  "kernelspec": {
   "display_name": "Python 3 (ipykernel)",
   "language": "python",
   "name": "python3"
  },
  "language_info": {
   "codemirror_mode": {
    "name": "ipython",
    "version": 3
   },
   "file_extension": ".py",
   "mimetype": "text/x-python",
   "name": "python",
   "nbconvert_exporter": "python",
   "pygments_lexer": "ipython3",
   "version": "3.9.6"
  },
  "toc-autonumbering": false,
  "toc-showmarkdowntxt": false
 },
 "nbformat": 4,
 "nbformat_minor": 5
}
