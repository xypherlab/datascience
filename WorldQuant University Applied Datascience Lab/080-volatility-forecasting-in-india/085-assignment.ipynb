{
 "cells": [
  {
   "cell_type": "markdown",
   "id": "60f7d8d3-f009-4820-ae85-2bd74e335df7",
   "metadata": {
    "deletable": false,
    "editable": false
   },
   "source": [
    "<font size=\"+3\"><strong>8.5 Volatility Forecasting in South Africa 🇿🇦</strong></font>"
   ]
  },
  {
   "cell_type": "markdown",
   "id": "bf78a758-00f0-410d-a132-26651040d081",
   "metadata": {
    "deletable": false,
    "editable": false
   },
   "source": [
    "In this assignment you'll build a model to predict stock volatility for the telecommunications company [MTN Group](https://www.mtn.co.za/home/)."
   ]
  },
  {
   "cell_type": "markdown",
   "id": "3fce9868-1587-4786-8dbc-96a7748b6bcb",
   "metadata": {
    "deletable": false,
    "editable": false
   },
   "source": [
    "<div class=\"alert alert-info\" role=\"alert\">\n",
    "    <p><b>Tip:</b> There are some tasks in this assignment that you can complete by importing functions and classes you created for your app. Give it a try!</p>\n",
    "</div>"
   ]
  },
  {
   "cell_type": "markdown",
   "id": "7b6da0d1-a050-43f5-bfb9-3f7083d37583",
   "metadata": {
    "deletable": false,
    "editable": false
   },
   "source": [
    "<div class=\"alert alert-block alert-warning\">\n",
    "<p><b>Warning:</b> There are some tasks in this assignment where there is an extra code block that will transform your work into a <code>submission</code> that's compatible with the grader. Be sure to run those cells and inspect the <code>submission</code> before you submit to the grader.</p> \n",
    "</div>"
   ]
  },
  {
   "cell_type": "code",
   "execution_count": 1,
   "id": "c0ee5fa1-d6d4-438e-bfb8-6bddb7675494",
   "metadata": {
    "deletable": false,
    "editable": false,
    "init_cell": true
   },
   "outputs": [
    {
     "data": {
      "text/html": [
       "\n",
       "<style>\n",
       "  \n",
       "  .checkmark {\n",
       "    width: 56px;\n",
       "    height: 56px;\n",
       "    border-radius: 50%;\n",
       "    display: block;\n",
       "    stroke-width: 2;\n",
       "    stroke: #fff;\n",
       "    stroke-miterlimit: 10;\n",
       "    box-shadow: inset 0px 0px 0px #7ac142;\n",
       "    animation: fill .4s ease-in-out .4s forwards, scale .3s ease-in-out .9s both;\n",
       "  }\n",
       "  \n",
       "  .checkmark__circle {\n",
       "    stroke-dasharray: 166;\n",
       "    stroke-dashoffset: 166;\n",
       "    stroke-width: 2;\n",
       "    stroke-miterlimit: 10;\n",
       "    stroke: #7ac142;\n",
       "    fill: none;\n",
       "    animation: stroke .6s cubic-bezier(0.650, 0.000, 0.450, 1.000) forwards;\n",
       "  }\n",
       "  \n",
       "  .checkmark__check {\n",
       "    transform-origin: 50% 50%;\n",
       "    stroke-dasharray: 48;\n",
       "    stroke-dashoffset: 48;\n",
       "    animation: stroke .3s cubic-bezier(0.650, 0.000, 0.450, 1.000) .8s forwards;\n",
       "  }\n",
       "  \n",
       "  .failmark {\n",
       "    width: 56px;\n",
       "    height: 56px;\n",
       "    border-radius: 50%;\n",
       "    display: block;\n",
       "    stroke-width: 2;\n",
       "    stroke: #fff;\n",
       "    stroke-miterlimit: 10;\n",
       "    box-shadow: inset 0px 0px 0px #F34811;\n",
       "    animation: failfill .4s ease-in-out .4s forwards, scale .3s ease-in-out .9s both;\n",
       "  }\n",
       "  \n",
       "  .failmark__circle {\n",
       "    stroke-dasharray: 166;\n",
       "    stroke-dashoffset: 166;\n",
       "    stroke-width: 2;\n",
       "    stroke-miterlimit: 10;\n",
       "    stroke: #F34811;\n",
       "    fill: none;\n",
       "    animation: stroke .6s cubic-bezier(0.650, 0.000, 0.450, 1.000) forwards;\n",
       "  }\n",
       "  \n",
       "  @keyframes stroke {\n",
       "    100% {\n",
       "      stroke-dashoffset: 0;\n",
       "    }\n",
       "  }\n",
       "  \n",
       "  @keyframes scale {\n",
       "    0%, 100% {\n",
       "      transform: none;\n",
       "    }\n",
       "    50% {\n",
       "      transform: scale3d(1.1, 1.1, 1);\n",
       "    }\n",
       "  }\n",
       "  \n",
       "  @keyframes fill {\n",
       "    100% {\n",
       "      box-shadow: inset 0px 0px 0px 30px #7ac142;\n",
       "    }\n",
       "  }\n",
       "  \n",
       "  @keyframes failfill {\n",
       "    100% {\n",
       "      box-shadow: inset 0px 0px 0px 30px #F34811;\n",
       "    }\n",
       "  }\n",
       "  \n",
       "  \n",
       "  .wqet-result {\n",
       "    width: 450px;\n",
       "    clear: both;\n",
       "  }\n",
       "  \n",
       "  .wqet-result .animation {\n",
       "    float: left;\n",
       "    width: 100px;\n",
       "  }\n",
       "  \n",
       "  .wqet-result .animation .checkmark,\n",
       "  .wqet-result .animation .failmark {\n",
       "    margin: 20px auto 20px auto;\n",
       "  }\n",
       "  \n",
       "  .wqet-result .details {\n",
       "    float: right;\n",
       "    width: 349px;\n",
       "    padding: 28px 0;\n",
       "  }\n",
       "  \n",
       "  .wqet-result .details .title {\n",
       "    font-weight: bold;\n",
       "    font-size: 110%;\n",
       "  }\n",
       "  .wqet-result .details p {\n",
       "    margin: 0;\n",
       "  }\n",
       "</style>\n"
      ],
      "text/plain": [
       "<IPython.core.display.HTML object>"
      ]
     },
     "metadata": {},
     "output_type": "display_data"
    }
   ],
   "source": [
    "%load_ext autoreload\n",
    "%autoreload 2\n",
    "\n",
    "import wqet_grader\n",
    "from arch.univariate.base import ARCHModelResult\n",
    "\n",
    "wqet_grader.init(\"Project 8 Assessment\")\n"
   ]
  },
  {
   "cell_type": "code",
   "execution_count": 52,
   "id": "382ab84c-4d1f-4527-a563-0bb2f609c4f6",
   "metadata": {
    "deletable": false
   },
   "outputs": [],
   "source": [
    "# Import your libraries here\n",
    "from statsmodels.graphics.tsaplots import plot_acf, plot_pacf\n",
    "import os\n",
    "import sqlite3\n",
    "from glob import glob\n",
    "import matplotlib.pyplot as plt\n",
    "import numpy as np\n",
    "import joblib\n",
    "import pandas as pd\n",
    "import requests\n",
    "from config import settings\n",
    "from data import SQLRepository\n",
    "from arch import arch_model"
   ]
  },
  {
   "cell_type": "markdown",
   "id": "40dca6b3-8a8b-4f67-b7c0-4fb38d2ad3ac",
   "metadata": {
    "deletable": false,
    "editable": false
   },
   "source": [
    "# Working with APIs"
   ]
  },
  {
   "cell_type": "markdown",
   "id": "48ca26b3-b34b-49bf-b57e-7efeb6eeb262",
   "metadata": {
    "deletable": false,
    "editable": false
   },
   "source": [
    "**Task 8.5.1:** Create a URL to get **all** the stock data for MTN Group (`\"MTNOY\"`) from AlphaVantage in JSON format. Be sure to use the `https://learn-api.wqu.edu` hostname. And don't worry: your submission won't include your API key!"
   ]
  },
  {
   "cell_type": "code",
   "execution_count": 6,
   "id": "cc651730-dd9f-4fca-981d-759eb0e365d7",
   "metadata": {
    "deletable": false
   },
   "outputs": [
    {
     "name": "stdout",
     "output_type": "stream",
     "text": [
      "url type: <class 'str'>\n"
     ]
    },
    {
     "data": {
      "text/plain": [
       "'https://learn-api.wqu.edu/1/data-services/alpha-vantage/query?function=TIME_SERIES_DAILY&symbol=MTNOY&outputsize=full&datatype=json&apikey=bc7c06013092e233773ba813df07ba10f527d0b52eb8ba63227041a146d63adf9dbb860a96365c7bf39ddee54da6527ed6827d47f6fbcab27224a17c6c75e5d296a88c8503cff74880c7fffa3e4708140931bfe4a33f210559a67c223904d0147e667c19ffd89727edf36c6bbc8b1652da6430171bc14aa6518d0325f7b04726'"
      ]
     },
     "execution_count": 6,
     "metadata": {},
     "output_type": "execute_result"
    }
   ],
   "source": [
    "ticker = \"MTNOY\"\n",
    "output_size = \"full\"\n",
    "data_type = \"json\"\n",
    "\n",
    "url = (\"https://learn-api.wqu.edu/1/data-services/alpha-vantage/query?\"\n",
    "        \"function=TIME_SERIES_DAILY&\"\n",
    "       f\"symbol={ticker}&\"\n",
    "       f\"outputsize={output_size}&\"\n",
    "       f\"datatype={data_type}&\"\n",
    "       f\"apikey={settings.alpha_api_key}\"\n",
    "      )\n",
    "\n",
    "print(\"url type:\", type(url))\n",
    "url"
   ]
  },
  {
   "cell_type": "code",
   "execution_count": 7,
   "id": "4fc33ddb-0a96-4c9d-b6cb-6bf0f13d0a8e",
   "metadata": {
    "deletable": false,
    "editable": false
   },
   "outputs": [
    {
     "data": {
      "text/plain": [
       "'https://learn-api.wqu.edu/1/data-services/alpha-vantage/query?function=TIME_SERIES_DAILY&symbol=MTNOY&outputsize=full&datatype=json&apikey='"
      ]
     },
     "execution_count": 7,
     "metadata": {},
     "output_type": "execute_result"
    }
   ],
   "source": [
    "# Remove API key for submission\n",
    "submission_851 = url[:139]\n",
    "submission_851"
   ]
  },
  {
   "cell_type": "code",
   "execution_count": 8,
   "id": "fc6dd1e1-e796-4340-8b5f-be56f7600ee9",
   "metadata": {
    "deletable": false,
    "editable": false
   },
   "outputs": [
    {
     "data": {
      "text/html": [
       "\n",
       "    <div class=\"wqet-result\">\n",
       "      <div class=\"animation\">\n",
       "        <svg class=\"checkmark\" xmlns=\"http://www.w3.org/2000/svg\" viewBox=\"0 0 52 52\">\n",
       "          <circle class=\"checkmark__circle\" cx=\"26\" cy=\"26\" r=\"25\" fill=\"none\"/>\n",
       "          <path class=\"checkmark__check\" fill=\"none\" d=\"M14.1 27.2l7.1 7.2 16.7-16.8\"/>\n",
       "        </svg>\n",
       "      </div>\n",
       "      <div class=\"details\">\n",
       "        <p class=\"title\"><p>Boom! You got it.</p></p>\n",
       "        <p>Score: 1</p>\n",
       "      </div>\n",
       "    </div>\n"
      ],
      "text/plain": [
       "<IPython.core.display.HTML object>"
      ]
     },
     "metadata": {},
     "output_type": "display_data"
    }
   ],
   "source": [
    "wqet_grader.grade(\"Project 8 Assessment\", \"Task 8.5.1\", submission_851)"
   ]
  },
  {
   "cell_type": "markdown",
   "id": "eacea647-a614-4daf-9573-d0a56191fca9",
   "metadata": {
    "deletable": false,
    "editable": false
   },
   "source": [
    "**Task 8.5.2:** Create an HTTP request for the URL you created in the previous task. The grader will evaluate your work by looking at the ticker symbol in the `\"Meta Data\"` key-value pair in your response."
   ]
  },
  {
   "cell_type": "code",
   "execution_count": 9,
   "id": "ed726ed0-0bc9-43a0-9d50-5a16382c8bf8",
   "metadata": {
    "deletable": false
   },
   "outputs": [
    {
     "name": "stdout",
     "output_type": "stream",
     "text": [
      "response type: <class 'requests.models.Response'>\n"
     ]
    }
   ],
   "source": [
    "response = requests.get(url)\n",
    "\n",
    "print(\"response type:\", type(response))"
   ]
  },
  {
   "cell_type": "code",
   "execution_count": 10,
   "id": "3a6ec61c-96b3-4974-aa8d-359b8646c5c8",
   "metadata": {
    "deletable": false,
    "editable": false
   },
   "outputs": [
    {
     "data": {
      "text/plain": [
       "'MTNOY'"
      ]
     },
     "execution_count": 10,
     "metadata": {},
     "output_type": "execute_result"
    }
   ],
   "source": [
    "# Get symbol in `\"Meta Data\"`\n",
    "submission_852 = response.json()[\"Meta Data\"][\"2. Symbol\"]\n",
    "submission_852"
   ]
  },
  {
   "cell_type": "code",
   "execution_count": 11,
   "id": "dc8be4bd-fdd6-4f83-a6ac-3e6b05c3d04d",
   "metadata": {
    "deletable": false,
    "editable": false
   },
   "outputs": [
    {
     "data": {
      "text/html": [
       "\n",
       "    <div class=\"wqet-result\">\n",
       "      <div class=\"animation\">\n",
       "        <svg class=\"checkmark\" xmlns=\"http://www.w3.org/2000/svg\" viewBox=\"0 0 52 52\">\n",
       "          <circle class=\"checkmark__circle\" cx=\"26\" cy=\"26\" r=\"25\" fill=\"none\"/>\n",
       "          <path class=\"checkmark__check\" fill=\"none\" d=\"M14.1 27.2l7.1 7.2 16.7-16.8\"/>\n",
       "        </svg>\n",
       "      </div>\n",
       "      <div class=\"details\">\n",
       "        <p class=\"title\"><p>🥳</p></p>\n",
       "        <p>Score: 1</p>\n",
       "      </div>\n",
       "    </div>\n"
      ],
      "text/plain": [
       "<IPython.core.display.HTML object>"
      ]
     },
     "metadata": {},
     "output_type": "display_data"
    }
   ],
   "source": [
    "wqet_grader.grade(\"Project 8 Assessment\", \"Task 8.5.2\", submission_852)"
   ]
  },
  {
   "cell_type": "markdown",
   "id": "db7ba892-56ad-4e90-b315-a1a2f7bad45a",
   "metadata": {
    "deletable": false,
    "editable": false
   },
   "source": [
    "**Task 8.5.3:** Get status code of your `response` and assign it to the variable `response_code`."
   ]
  },
  {
   "cell_type": "code",
   "execution_count": 12,
   "id": "8c1f19d1-5169-4aaa-b7c9-430306eec30a",
   "metadata": {
    "deletable": false
   },
   "outputs": [
    {
     "name": "stdout",
     "output_type": "stream",
     "text": [
      "code type: <class 'int'>\n"
     ]
    },
    {
     "data": {
      "text/plain": [
       "200"
      ]
     },
     "execution_count": 12,
     "metadata": {},
     "output_type": "execute_result"
    }
   ],
   "source": [
    "response_code = response.status_code\n",
    "\n",
    "print(\"code type:\", type(response_code))\n",
    "response_code"
   ]
  },
  {
   "cell_type": "code",
   "execution_count": 13,
   "id": "e430d185-758f-494a-808a-30a02bc8a42a",
   "metadata": {
    "deletable": false,
    "editable": false
   },
   "outputs": [
    {
     "data": {
      "text/html": [
       "\n",
       "    <div class=\"wqet-result\">\n",
       "      <div class=\"animation\">\n",
       "        <svg class=\"checkmark\" xmlns=\"http://www.w3.org/2000/svg\" viewBox=\"0 0 52 52\">\n",
       "          <circle class=\"checkmark__circle\" cx=\"26\" cy=\"26\" r=\"25\" fill=\"none\"/>\n",
       "          <path class=\"checkmark__check\" fill=\"none\" d=\"M14.1 27.2l7.1 7.2 16.7-16.8\"/>\n",
       "        </svg>\n",
       "      </div>\n",
       "      <div class=\"details\">\n",
       "        <p class=\"title\"><p>Yes! Keep on rockin'. 🎸That's right.</p></p>\n",
       "        <p>Score: 1</p>\n",
       "      </div>\n",
       "    </div>\n"
      ],
      "text/plain": [
       "<IPython.core.display.HTML object>"
      ]
     },
     "metadata": {},
     "output_type": "display_data"
    }
   ],
   "source": [
    "wqet_grader.grade(\"Project 8 Assessment\", \"Task 8.5.3\", response_code)"
   ]
  },
  {
   "cell_type": "markdown",
   "id": "e8444d34-d5de-4319-ad39-2cb4c9f9e121",
   "metadata": {
    "deletable": false,
    "editable": false
   },
   "source": [
    "# Test-Driven Development"
   ]
  },
  {
   "cell_type": "markdown",
   "id": "52d0d03b-e556-4945-ac5b-b523b4380c01",
   "metadata": {
    "deletable": false,
    "editable": false
   },
   "source": [
    "**Task 8.5.4:** Create a DataFrame `df_mtnoy` with all the stock data for MTN. Make sure that the DataFrame has the correct type of index and column names. The grader will evaluate your work by looking at the row in `df_mtnoy` for 6 December 2021."
   ]
  },
  {
   "cell_type": "code",
   "execution_count": 14,
   "id": "f824b958-dea2-4a04-8966-aeeda112c855",
   "metadata": {
    "deletable": false
   },
   "outputs": [
    {
     "name": "stdout",
     "output_type": "stream",
     "text": [
      "df_mtnoy type: <class 'pandas.core.frame.DataFrame'>\n"
     ]
    },
    {
     "data": {
      "text/html": [
       "<div>\n",
       "<style scoped>\n",
       "    .dataframe tbody tr th:only-of-type {\n",
       "        vertical-align: middle;\n",
       "    }\n",
       "\n",
       "    .dataframe tbody tr th {\n",
       "        vertical-align: top;\n",
       "    }\n",
       "\n",
       "    .dataframe thead th {\n",
       "        text-align: right;\n",
       "    }\n",
       "</style>\n",
       "<table border=\"1\" class=\"dataframe\">\n",
       "  <thead>\n",
       "    <tr style=\"text-align: right;\">\n",
       "      <th></th>\n",
       "      <th>open</th>\n",
       "      <th>high</th>\n",
       "      <th>low</th>\n",
       "      <th>close</th>\n",
       "      <th>volume</th>\n",
       "    </tr>\n",
       "    <tr>\n",
       "      <th>date</th>\n",
       "      <th></th>\n",
       "      <th></th>\n",
       "      <th></th>\n",
       "      <th></th>\n",
       "      <th></th>\n",
       "    </tr>\n",
       "  </thead>\n",
       "  <tbody>\n",
       "    <tr>\n",
       "      <th>2022-12-15</th>\n",
       "      <td>7.170</td>\n",
       "      <td>7.200</td>\n",
       "      <td>7.025</td>\n",
       "      <td>7.058</td>\n",
       "      <td>28846.0</td>\n",
       "    </tr>\n",
       "    <tr>\n",
       "      <th>2022-12-14</th>\n",
       "      <td>7.830</td>\n",
       "      <td>8.100</td>\n",
       "      <td>7.540</td>\n",
       "      <td>7.790</td>\n",
       "      <td>90111.0</td>\n",
       "    </tr>\n",
       "    <tr>\n",
       "      <th>2022-12-13</th>\n",
       "      <td>7.531</td>\n",
       "      <td>7.770</td>\n",
       "      <td>7.530</td>\n",
       "      <td>7.670</td>\n",
       "      <td>20956.0</td>\n",
       "    </tr>\n",
       "    <tr>\n",
       "      <th>2022-12-12</th>\n",
       "      <td>7.410</td>\n",
       "      <td>7.500</td>\n",
       "      <td>7.410</td>\n",
       "      <td>7.470</td>\n",
       "      <td>9192.0</td>\n",
       "    </tr>\n",
       "    <tr>\n",
       "      <th>2022-12-09</th>\n",
       "      <td>7.550</td>\n",
       "      <td>7.615</td>\n",
       "      <td>7.500</td>\n",
       "      <td>7.500</td>\n",
       "      <td>14393.0</td>\n",
       "    </tr>\n",
       "  </tbody>\n",
       "</table>\n",
       "</div>"
      ],
      "text/plain": [
       "             open   high    low  close   volume\n",
       "date                                           \n",
       "2022-12-15  7.170  7.200  7.025  7.058  28846.0\n",
       "2022-12-14  7.830  8.100  7.540  7.790  90111.0\n",
       "2022-12-13  7.531  7.770  7.530  7.670  20956.0\n",
       "2022-12-12  7.410  7.500  7.410  7.470   9192.0\n",
       "2022-12-09  7.550  7.615  7.500  7.500  14393.0"
      ]
     },
     "execution_count": 14,
     "metadata": {},
     "output_type": "execute_result"
    }
   ],
   "source": [
    "from data import AlphaVantageAPI\n",
    "av = AlphaVantageAPI()\n",
    "ticker = \"MTNOY\"\n",
    "df_mtnoy = av.get_daily(ticker=ticker)\n",
    "\n",
    "print(\"df_mtnoy type:\", type(df_mtnoy))\n",
    "df_mtnoy.head()"
   ]
  },
  {
   "cell_type": "code",
   "execution_count": 15,
   "id": "47e24e07-e525-400e-bb12-7eb37a120ae7",
   "metadata": {
    "deletable": false,
    "editable": false
   },
   "outputs": [
    {
     "data": {
      "text/html": [
       "<div>\n",
       "<style scoped>\n",
       "    .dataframe tbody tr th:only-of-type {\n",
       "        vertical-align: middle;\n",
       "    }\n",
       "\n",
       "    .dataframe tbody tr th {\n",
       "        vertical-align: top;\n",
       "    }\n",
       "\n",
       "    .dataframe thead th {\n",
       "        text-align: right;\n",
       "    }\n",
       "</style>\n",
       "<table border=\"1\" class=\"dataframe\">\n",
       "  <thead>\n",
       "    <tr style=\"text-align: right;\">\n",
       "      <th></th>\n",
       "      <th>open</th>\n",
       "      <th>high</th>\n",
       "      <th>low</th>\n",
       "      <th>close</th>\n",
       "      <th>volume</th>\n",
       "    </tr>\n",
       "  </thead>\n",
       "  <tbody>\n",
       "    <tr>\n",
       "      <th>2021-12-06</th>\n",
       "      <td>10.16</td>\n",
       "      <td>10.18</td>\n",
       "      <td>10.11</td>\n",
       "      <td>10.11</td>\n",
       "      <td>13542.0</td>\n",
       "    </tr>\n",
       "  </tbody>\n",
       "</table>\n",
       "</div>"
      ],
      "text/plain": [
       "             open   high    low  close   volume\n",
       "2021-12-06  10.16  10.18  10.11  10.11  13542.0"
      ]
     },
     "execution_count": 15,
     "metadata": {},
     "output_type": "execute_result"
    }
   ],
   "source": [
    "# Get row for 6 Dec 2021\n",
    "submission_854 = df_mtnoy.loc[\"2021-12-06\"].to_frame().T\n",
    "submission_854"
   ]
  },
  {
   "cell_type": "code",
   "execution_count": 16,
   "id": "71b96beb-9727-4b29-b003-33a1c0d4d2e4",
   "metadata": {
    "deletable": false,
    "editable": false
   },
   "outputs": [
    {
     "data": {
      "text/html": [
       "\n",
       "    <div class=\"wqet-result\">\n",
       "      <div class=\"animation\">\n",
       "        <svg class=\"checkmark\" xmlns=\"http://www.w3.org/2000/svg\" viewBox=\"0 0 52 52\">\n",
       "          <circle class=\"checkmark__circle\" cx=\"26\" cy=\"26\" r=\"25\" fill=\"none\"/>\n",
       "          <path class=\"checkmark__check\" fill=\"none\" d=\"M14.1 27.2l7.1 7.2 16.7-16.8\"/>\n",
       "        </svg>\n",
       "      </div>\n",
       "      <div class=\"details\">\n",
       "        <p class=\"title\"><p>Wow, you're making great progress.</p></p>\n",
       "        <p>Score: 1</p>\n",
       "      </div>\n",
       "    </div>\n"
      ],
      "text/plain": [
       "<IPython.core.display.HTML object>"
      ]
     },
     "metadata": {},
     "output_type": "display_data"
    }
   ],
   "source": [
    "wqet_grader.grade(\"Project 8 Assessment\", \"Task 8.5.4\", submission_854)\n"
   ]
  },
  {
   "cell_type": "markdown",
   "id": "a01e7eda-d059-4d2b-a265-87683e0de495",
   "metadata": {
    "deletable": false,
    "editable": false
   },
   "source": [
    "**Task 8.5.5:** Connect to the database whose name is stored in the `.env` file for this project. Be sure to set the `check_same_thread` argument to `False`. Assign the connection to the variable `connection`. The grader will evaluate your work by looking at the database location assigned to `connection`."
   ]
  },
  {
   "cell_type": "code",
   "execution_count": 17,
   "id": "8120ddb5-e093-4940-b61b-fcb4d03a1d46",
   "metadata": {
    "deletable": false
   },
   "outputs": [
    {
     "data": {
      "text/plain": [
       "<sqlite3.Connection at 0x7f65e77ac8a0>"
      ]
     },
     "execution_count": 17,
     "metadata": {},
     "output_type": "execute_result"
    }
   ],
   "source": [
    "connection = sqlite3.connect(database=settings.db_name,check_same_thread=False)\n",
    "connection"
   ]
  },
  {
   "cell_type": "code",
   "execution_count": 18,
   "id": "06885a80-527c-40a3-8dac-bbb875a5e8ff",
   "metadata": {
    "deletable": false,
    "editable": false
   },
   "outputs": [
    {
     "data": {
      "text/plain": [
       "'/home/jovyan/work/ds-curriculum/080-volatility-forecasting-in-india/stocks.sqlite'"
      ]
     },
     "execution_count": 18,
     "metadata": {},
     "output_type": "execute_result"
    }
   ],
   "source": [
    "# Get location of database for `connection`\n",
    "submission_855 = connection.cursor().execute(\"PRAGMA database_list;\").fetchall()[0][-1]\n",
    "submission_855"
   ]
  },
  {
   "cell_type": "code",
   "execution_count": 19,
   "id": "23693fab-c358-4543-ba4e-b298e7b70db5",
   "metadata": {
    "deletable": false,
    "editable": false
   },
   "outputs": [
    {
     "data": {
      "text/html": [
       "\n",
       "    <div class=\"wqet-result\">\n",
       "      <div class=\"animation\">\n",
       "        <svg class=\"checkmark\" xmlns=\"http://www.w3.org/2000/svg\" viewBox=\"0 0 52 52\">\n",
       "          <circle class=\"checkmark__circle\" cx=\"26\" cy=\"26\" r=\"25\" fill=\"none\"/>\n",
       "          <path class=\"checkmark__check\" fill=\"none\" d=\"M14.1 27.2l7.1 7.2 16.7-16.8\"/>\n",
       "        </svg>\n",
       "      </div>\n",
       "      <div class=\"details\">\n",
       "        <p class=\"title\"><p>Way to go!</p></p>\n",
       "        <p>Score: 1</p>\n",
       "      </div>\n",
       "    </div>\n"
      ],
      "text/plain": [
       "<IPython.core.display.HTML object>"
      ]
     },
     "metadata": {},
     "output_type": "display_data"
    }
   ],
   "source": [
    "wqet_grader.grade(\"Project 8 Assessment\", \"Task 8.5.5\", submission_855)"
   ]
  },
  {
   "cell_type": "markdown",
   "id": "c7e58c4e-4c18-4093-82e4-f7cdd3808354",
   "metadata": {
    "deletable": false,
    "editable": false
   },
   "source": [
    "**Task 8.5.6:** Insert `df_mtnoy` into your database. The grader will evaluate your work by looking at the first five rows of the `MTNOY` table in the database."
   ]
  },
  {
   "cell_type": "code",
   "execution_count": 21,
   "id": "77bf08cb-68fe-4228-b036-e7265020f37f",
   "metadata": {},
   "outputs": [],
   "source": [
    "from data import SQLRepository\n",
    "repo = SQLRepository(connection=connection)"
   ]
  },
  {
   "cell_type": "code",
   "execution_count": 22,
   "id": "ec4611bd-76cf-42d9-b6f2-5adaca67bb42",
   "metadata": {
    "deletable": false
   },
   "outputs": [],
   "source": [
    "# Insert `MTNOY` data into database\n",
    "response = repo.insert_table(table_name=ticker, records=df_mtnoy, if_exists=\"replace\")"
   ]
  },
  {
   "cell_type": "code",
   "execution_count": 23,
   "id": "5de1c59f-46e4-4e30-a7fc-ca24f9021391",
   "metadata": {
    "deletable": false,
    "editable": false
   },
   "outputs": [
    {
     "data": {
      "text/html": [
       "<div>\n",
       "<style scoped>\n",
       "    .dataframe tbody tr th:only-of-type {\n",
       "        vertical-align: middle;\n",
       "    }\n",
       "\n",
       "    .dataframe tbody tr th {\n",
       "        vertical-align: top;\n",
       "    }\n",
       "\n",
       "    .dataframe thead th {\n",
       "        text-align: right;\n",
       "    }\n",
       "</style>\n",
       "<table border=\"1\" class=\"dataframe\">\n",
       "  <thead>\n",
       "    <tr style=\"text-align: right;\">\n",
       "      <th></th>\n",
       "      <th>date</th>\n",
       "      <th>open</th>\n",
       "      <th>high</th>\n",
       "      <th>low</th>\n",
       "      <th>close</th>\n",
       "      <th>volume</th>\n",
       "    </tr>\n",
       "  </thead>\n",
       "  <tbody>\n",
       "    <tr>\n",
       "      <th>0</th>\n",
       "      <td>2022-12-15 00:00:00</td>\n",
       "      <td>7.170</td>\n",
       "      <td>7.200</td>\n",
       "      <td>7.025</td>\n",
       "      <td>7.058</td>\n",
       "      <td>28846.0</td>\n",
       "    </tr>\n",
       "    <tr>\n",
       "      <th>1</th>\n",
       "      <td>2022-12-14 00:00:00</td>\n",
       "      <td>7.830</td>\n",
       "      <td>8.100</td>\n",
       "      <td>7.540</td>\n",
       "      <td>7.790</td>\n",
       "      <td>90111.0</td>\n",
       "    </tr>\n",
       "    <tr>\n",
       "      <th>2</th>\n",
       "      <td>2022-12-13 00:00:00</td>\n",
       "      <td>7.531</td>\n",
       "      <td>7.770</td>\n",
       "      <td>7.530</td>\n",
       "      <td>7.670</td>\n",
       "      <td>20956.0</td>\n",
       "    </tr>\n",
       "    <tr>\n",
       "      <th>3</th>\n",
       "      <td>2022-12-12 00:00:00</td>\n",
       "      <td>7.410</td>\n",
       "      <td>7.500</td>\n",
       "      <td>7.410</td>\n",
       "      <td>7.470</td>\n",
       "      <td>9192.0</td>\n",
       "    </tr>\n",
       "    <tr>\n",
       "      <th>4</th>\n",
       "      <td>2022-12-09 00:00:00</td>\n",
       "      <td>7.550</td>\n",
       "      <td>7.615</td>\n",
       "      <td>7.500</td>\n",
       "      <td>7.500</td>\n",
       "      <td>14393.0</td>\n",
       "    </tr>\n",
       "  </tbody>\n",
       "</table>\n",
       "</div>"
      ],
      "text/plain": [
       "                  date   open   high    low  close   volume\n",
       "0  2022-12-15 00:00:00  7.170  7.200  7.025  7.058  28846.0\n",
       "1  2022-12-14 00:00:00  7.830  8.100  7.540  7.790  90111.0\n",
       "2  2022-12-13 00:00:00  7.531  7.770  7.530  7.670  20956.0\n",
       "3  2022-12-12 00:00:00  7.410  7.500  7.410  7.470   9192.0\n",
       "4  2022-12-09 00:00:00  7.550  7.615  7.500  7.500  14393.0"
      ]
     },
     "execution_count": 23,
     "metadata": {},
     "output_type": "execute_result"
    }
   ],
   "source": [
    "# Get first five rows of `MTNOY` table\n",
    "submission_856 = pd.read_sql(sql=\"SELECT * FROM MTNOY LIMIT 5\", con=connection)\n",
    "submission_856"
   ]
  },
  {
   "cell_type": "code",
   "execution_count": 24,
   "id": "3521180e-8ff1-40e4-8437-2fbef7a0e014",
   "metadata": {
    "deletable": false,
    "editable": false
   },
   "outputs": [
    {
     "data": {
      "text/html": [
       "\n",
       "    <div class=\"wqet-result\">\n",
       "      <div class=\"animation\">\n",
       "        <svg class=\"checkmark\" xmlns=\"http://www.w3.org/2000/svg\" viewBox=\"0 0 52 52\">\n",
       "          <circle class=\"checkmark__circle\" cx=\"26\" cy=\"26\" r=\"25\" fill=\"none\"/>\n",
       "          <path class=\"checkmark__check\" fill=\"none\" d=\"M14.1 27.2l7.1 7.2 16.7-16.8\"/>\n",
       "        </svg>\n",
       "      </div>\n",
       "      <div class=\"details\">\n",
       "        <p class=\"title\"><p>Awesome work.</p></p>\n",
       "        <p>Score: 1</p>\n",
       "      </div>\n",
       "    </div>\n"
      ],
      "text/plain": [
       "<IPython.core.display.HTML object>"
      ]
     },
     "metadata": {},
     "output_type": "display_data"
    }
   ],
   "source": [
    "wqet_grader.grade(\"Project 8 Assessment\", \"Task 8.5.6\", submission_856)\n"
   ]
  },
  {
   "cell_type": "markdown",
   "id": "c5116f99-6084-44d9-a624-05dce0038f17",
   "metadata": {
    "deletable": false,
    "editable": false
   },
   "source": [
    "**Task 8.5.7:** Read the `MTNOY` table from your database and assign the output to `df_mtnoy_read`. The grader will evaluate your work by looking at the row for 27 April 2022."
   ]
  },
  {
   "cell_type": "code",
   "execution_count": 25,
   "id": "c21ced05-9e7f-4e2e-9c17-770b8cbf1433",
   "metadata": {
    "deletable": false
   },
   "outputs": [
    {
     "name": "stdout",
     "output_type": "stream",
     "text": [
      "df_mtnoy_read type: <class 'pandas.core.frame.DataFrame'>\n",
      "df_mtnoy_read shape: (3886, 5)\n"
     ]
    },
    {
     "data": {
      "text/html": [
       "<div>\n",
       "<style scoped>\n",
       "    .dataframe tbody tr th:only-of-type {\n",
       "        vertical-align: middle;\n",
       "    }\n",
       "\n",
       "    .dataframe tbody tr th {\n",
       "        vertical-align: top;\n",
       "    }\n",
       "\n",
       "    .dataframe thead th {\n",
       "        text-align: right;\n",
       "    }\n",
       "</style>\n",
       "<table border=\"1\" class=\"dataframe\">\n",
       "  <thead>\n",
       "    <tr style=\"text-align: right;\">\n",
       "      <th></th>\n",
       "      <th>open</th>\n",
       "      <th>high</th>\n",
       "      <th>low</th>\n",
       "      <th>close</th>\n",
       "      <th>volume</th>\n",
       "    </tr>\n",
       "    <tr>\n",
       "      <th>date</th>\n",
       "      <th></th>\n",
       "      <th></th>\n",
       "      <th></th>\n",
       "      <th></th>\n",
       "      <th></th>\n",
       "    </tr>\n",
       "  </thead>\n",
       "  <tbody>\n",
       "    <tr>\n",
       "      <th>2022-12-15</th>\n",
       "      <td>7.170</td>\n",
       "      <td>7.200</td>\n",
       "      <td>7.025</td>\n",
       "      <td>7.058</td>\n",
       "      <td>28846.0</td>\n",
       "    </tr>\n",
       "    <tr>\n",
       "      <th>2022-12-14</th>\n",
       "      <td>7.830</td>\n",
       "      <td>8.100</td>\n",
       "      <td>7.540</td>\n",
       "      <td>7.790</td>\n",
       "      <td>90111.0</td>\n",
       "    </tr>\n",
       "    <tr>\n",
       "      <th>2022-12-13</th>\n",
       "      <td>7.531</td>\n",
       "      <td>7.770</td>\n",
       "      <td>7.530</td>\n",
       "      <td>7.670</td>\n",
       "      <td>20956.0</td>\n",
       "    </tr>\n",
       "    <tr>\n",
       "      <th>2022-12-12</th>\n",
       "      <td>7.410</td>\n",
       "      <td>7.500</td>\n",
       "      <td>7.410</td>\n",
       "      <td>7.470</td>\n",
       "      <td>9192.0</td>\n",
       "    </tr>\n",
       "    <tr>\n",
       "      <th>2022-12-09</th>\n",
       "      <td>7.550</td>\n",
       "      <td>7.615</td>\n",
       "      <td>7.500</td>\n",
       "      <td>7.500</td>\n",
       "      <td>14393.0</td>\n",
       "    </tr>\n",
       "  </tbody>\n",
       "</table>\n",
       "</div>"
      ],
      "text/plain": [
       "             open   high    low  close   volume\n",
       "date                                           \n",
       "2022-12-15  7.170  7.200  7.025  7.058  28846.0\n",
       "2022-12-14  7.830  8.100  7.540  7.790  90111.0\n",
       "2022-12-13  7.531  7.770  7.530  7.670  20956.0\n",
       "2022-12-12  7.410  7.500  7.410  7.470   9192.0\n",
       "2022-12-09  7.550  7.615  7.500  7.500  14393.0"
      ]
     },
     "execution_count": 25,
     "metadata": {},
     "output_type": "execute_result"
    }
   ],
   "source": [
    "sql = \"SELECT * FROM 'MTNOY'\"\n",
    "df_mtnoy_read = pd.read_sql(\n",
    "sql=sql,con=connection,parse_dates=[\"date\"],index_col=\"date\"\n",
    ")\n",
    "print(\"df_mtnoy_read type:\", type(df_mtnoy_read))\n",
    "print(\"df_mtnoy_read shape:\", df_mtnoy_read.shape)\n",
    "df_mtnoy_read.head()"
   ]
  },
  {
   "cell_type": "code",
   "execution_count": 26,
   "id": "9385fdc8-f435-4dd4-b648-148553713027",
   "metadata": {
    "deletable": false,
    "editable": false
   },
   "outputs": [
    {
     "data": {
      "text/html": [
       "<div>\n",
       "<style scoped>\n",
       "    .dataframe tbody tr th:only-of-type {\n",
       "        vertical-align: middle;\n",
       "    }\n",
       "\n",
       "    .dataframe tbody tr th {\n",
       "        vertical-align: top;\n",
       "    }\n",
       "\n",
       "    .dataframe thead th {\n",
       "        text-align: right;\n",
       "    }\n",
       "</style>\n",
       "<table border=\"1\" class=\"dataframe\">\n",
       "  <thead>\n",
       "    <tr style=\"text-align: right;\">\n",
       "      <th></th>\n",
       "      <th>open</th>\n",
       "      <th>high</th>\n",
       "      <th>low</th>\n",
       "      <th>close</th>\n",
       "      <th>volume</th>\n",
       "    </tr>\n",
       "  </thead>\n",
       "  <tbody>\n",
       "    <tr>\n",
       "      <th>2022-04-27</th>\n",
       "      <td>10.71</td>\n",
       "      <td>10.85</td>\n",
       "      <td>10.5</td>\n",
       "      <td>10.65</td>\n",
       "      <td>23927.0</td>\n",
       "    </tr>\n",
       "  </tbody>\n",
       "</table>\n",
       "</div>"
      ],
      "text/plain": [
       "             open   high   low  close   volume\n",
       "2022-04-27  10.71  10.85  10.5  10.65  23927.0"
      ]
     },
     "execution_count": 26,
     "metadata": {},
     "output_type": "execute_result"
    }
   ],
   "source": [
    "# Get row for 27 April 2022\n",
    "submission_857 = df_mtnoy_read.loc[\"2022-04-27\"].to_frame().T\n",
    "submission_857"
   ]
  },
  {
   "cell_type": "code",
   "execution_count": 27,
   "id": "a270d917-920d-479e-bc68-bd26d6d94cbc",
   "metadata": {
    "deletable": false,
    "editable": false
   },
   "outputs": [
    {
     "data": {
      "text/html": [
       "\n",
       "    <div class=\"wqet-result\">\n",
       "      <div class=\"animation\">\n",
       "        <svg class=\"checkmark\" xmlns=\"http://www.w3.org/2000/svg\" viewBox=\"0 0 52 52\">\n",
       "          <circle class=\"checkmark__circle\" cx=\"26\" cy=\"26\" r=\"25\" fill=\"none\"/>\n",
       "          <path class=\"checkmark__check\" fill=\"none\" d=\"M14.1 27.2l7.1 7.2 16.7-16.8\"/>\n",
       "        </svg>\n",
       "      </div>\n",
       "      <div class=\"details\">\n",
       "        <p class=\"title\"><p>Party time! 🎉🎉🎉</p></p>\n",
       "        <p>Score: 1</p>\n",
       "      </div>\n",
       "    </div>\n"
      ],
      "text/plain": [
       "<IPython.core.display.HTML object>"
      ]
     },
     "metadata": {},
     "output_type": "display_data"
    }
   ],
   "source": [
    "wqet_grader.grade(\"Project 8 Assessment\", \"Task 8.5.7\", submission_857)\n"
   ]
  },
  {
   "cell_type": "markdown",
   "id": "2fc6f791-aba6-469b-ac16-a4bf4ba7c430",
   "metadata": {
    "deletable": false,
    "editable": false
   },
   "source": [
    "# Predicting Volatility"
   ]
  },
  {
   "cell_type": "markdown",
   "id": "887a8bf2-c686-4310-9795-a82710cb91dd",
   "metadata": {
    "deletable": false,
    "editable": false
   },
   "source": [
    "## Prepare Data"
   ]
  },
  {
   "cell_type": "markdown",
   "id": "766651e1-cfc3-4ae4-bdf8-7bd861b50ddc",
   "metadata": {
    "deletable": false,
    "editable": false
   },
   "source": [
    "**Task 8.5.8:** Create a Series `y_mtnoy` with the 2,500 most recent returns for MTN. The grader will evaluate your work by looking at the volatility for 9 August 2022."
   ]
  },
  {
   "cell_type": "code",
   "execution_count": 28,
   "id": "d20b3176-ec01-4fc1-b989-2210fa789430",
   "metadata": {},
   "outputs": [],
   "source": [
    "def wrangle_data(ticker,n_observations):\n",
    "\n",
    "    \"\"\"Extract table data from database. Calculate returns.\n",
    "\n",
    "    Parameters\n",
    "    ----------\n",
    "    ticker : str\n",
    "        The ticker symbol of the stock (also table name in database).\n",
    "\n",
    "    n_observations : int\n",
    "        Number of observations to return.\n",
    "\n",
    "    Returns\n",
    "    -------\n",
    "    pd.Series\n",
    "        Name will be `\"return\"`. There will be no `NaN` values.\n",
    "    \"\"\"\n",
    "    # Get table from database\n",
    "    df = repo.read_table(table_name=ticker,limit=n_observations+1)\n",
    "\n",
    "    # Sort DataFrame ascending by date\n",
    "    df.sort_index(ascending=True,inplace=True)\n",
    "\n",
    "    # Create \"return\" column\n",
    "    df[\"return\"]=df[\"close\"].pct_change()*100\n",
    "\n",
    "    # Return returns\n",
    "    return df[\"return\"].dropna()"
   ]
  },
  {
   "cell_type": "code",
   "execution_count": 29,
   "id": "77195d27-2fc2-4520-bf60-5d6a88b4eb20",
   "metadata": {
    "deletable": false
   },
   "outputs": [
    {
     "name": "stdout",
     "output_type": "stream",
     "text": [
      "y_mtnoy type: <class 'pandas.core.series.Series'>\n",
      "y_mtnoy shape: (2500,)\n"
     ]
    },
    {
     "data": {
      "text/plain": [
       "date\n",
       "2013-01-14    0.295276\n",
       "2013-01-15   -2.796860\n",
       "2013-01-16    1.463907\n",
       "2013-01-17    0.248756\n",
       "2013-01-18   -0.739454\n",
       "Name: return, dtype: float64"
      ]
     },
     "execution_count": 29,
     "metadata": {},
     "output_type": "execute_result"
    }
   ],
   "source": [
    "\n",
    "y_mtnoy = wrangle_data(ticker=\"MTNOY\", n_observations=2500)\n",
    "\n",
    "print(\"y_mtnoy type:\", type(y_mtnoy))\n",
    "print(\"y_mtnoy shape:\", y_mtnoy.shape)\n",
    "y_mtnoy.head()"
   ]
  },
  {
   "cell_type": "code",
   "execution_count": 30,
   "id": "8f69f37e-6731-4d04-9a57-1f2645f8b8ea",
   "metadata": {
    "deletable": false,
    "editable": false
   },
   "outputs": [
    {
     "data": {
      "text/plain": [
       "1.5783540022547893"
      ]
     },
     "execution_count": 30,
     "metadata": {},
     "output_type": "execute_result"
    }
   ],
   "source": [
    "# Get data for 8 Aug 2022\n",
    "submission_859 = float(y_mtnoy[\"2022-08-09\"])\n",
    "submission_859"
   ]
  },
  {
   "cell_type": "code",
   "execution_count": 31,
   "id": "0b824f5d-b593-47f5-9fc8-944dc7444323",
   "metadata": {
    "deletable": false,
    "editable": false
   },
   "outputs": [
    {
     "data": {
      "text/html": [
       "\n",
       "    <div class=\"wqet-result\">\n",
       "      <div class=\"animation\">\n",
       "        <svg class=\"checkmark\" xmlns=\"http://www.w3.org/2000/svg\" viewBox=\"0 0 52 52\">\n",
       "          <circle class=\"checkmark__circle\" cx=\"26\" cy=\"26\" r=\"25\" fill=\"none\"/>\n",
       "          <path class=\"checkmark__check\" fill=\"none\" d=\"M14.1 27.2l7.1 7.2 16.7-16.8\"/>\n",
       "        </svg>\n",
       "      </div>\n",
       "      <div class=\"details\">\n",
       "        <p class=\"title\"><p>Wow, you're making great progress.</p></p>\n",
       "        <p>Score: 1</p>\n",
       "      </div>\n",
       "    </div>\n"
      ],
      "text/plain": [
       "<IPython.core.display.HTML object>"
      ]
     },
     "metadata": {},
     "output_type": "display_data"
    }
   ],
   "source": [
    "wqet_grader.grade(\"Project 8 Assessment\", \"Task 8.5.8\", submission_859)"
   ]
  },
  {
   "cell_type": "markdown",
   "id": "22b5ad92-a906-4a3b-a21c-2f916fa5a80a",
   "metadata": {
    "deletable": false,
    "editable": false
   },
   "source": [
    "**Task 8.5.9:** Calculate daily volatility for `y_mtnoy`, and assign the result to `mtnoy_daily_volatility`."
   ]
  },
  {
   "cell_type": "code",
   "execution_count": 32,
   "id": "5e7b86ce-1a34-4ab5-bd2d-0a2c6057cba7",
   "metadata": {
    "deletable": false
   },
   "outputs": [
    {
     "name": "stdout",
     "output_type": "stream",
     "text": [
      "mtnoy_daily_volatility type: <class 'float'>\n",
      "MTN Daily Volatility: 2.9150959859115475\n"
     ]
    }
   ],
   "source": [
    "mtnoy_daily_volatility = y_mtnoy.std()\n",
    "\n",
    "print(\"mtnoy_daily_volatility type:\", type(mtnoy_daily_volatility))\n",
    "print(\"MTN Daily Volatility:\", mtnoy_daily_volatility)"
   ]
  },
  {
   "cell_type": "code",
   "execution_count": 33,
   "id": "43fd19e6-26ce-4afd-9e72-89dbd9ffbcde",
   "metadata": {
    "deletable": false,
    "editable": false
   },
   "outputs": [
    {
     "data": {
      "text/html": [
       "\n",
       "    <div class=\"wqet-result\">\n",
       "      <div class=\"animation\">\n",
       "        <svg class=\"checkmark\" xmlns=\"http://www.w3.org/2000/svg\" viewBox=\"0 0 52 52\">\n",
       "          <circle class=\"checkmark__circle\" cx=\"26\" cy=\"26\" r=\"25\" fill=\"none\"/>\n",
       "          <path class=\"checkmark__check\" fill=\"none\" d=\"M14.1 27.2l7.1 7.2 16.7-16.8\"/>\n",
       "        </svg>\n",
       "      </div>\n",
       "      <div class=\"details\">\n",
       "        <p class=\"title\"><p>Way to go!</p></p>\n",
       "        <p>Score: 1</p>\n",
       "      </div>\n",
       "    </div>\n"
      ],
      "text/plain": [
       "<IPython.core.display.HTML object>"
      ]
     },
     "metadata": {},
     "output_type": "display_data"
    }
   ],
   "source": [
    "wqet_grader.grade(\"Project 8 Assessment\", \"Task 8.5.9\", mtnoy_daily_volatility)"
   ]
  },
  {
   "cell_type": "markdown",
   "id": "13ccc254-53e0-44ec-850f-27a1da11cecd",
   "metadata": {
    "deletable": false,
    "editable": false
   },
   "source": [
    "**Task 8.5.10:** Calculate the annual volatility for `y_mtnoy`, and assign the result to `mtnoy_annual_volatility`."
   ]
  },
  {
   "cell_type": "code",
   "execution_count": 36,
   "id": "071ff510-8490-4f16-8e39-ec4212cb8a2f",
   "metadata": {
    "deletable": false
   },
   "outputs": [
    {
     "name": "stdout",
     "output_type": "stream",
     "text": [
      "mtnoy_annual_volatility type: <class 'float'>\n",
      "MTN Annual Volatility: 46.27571415962761\n"
     ]
    }
   ],
   "source": [
    "mtnoy_annual_volatility = mtnoy_daily_volatility*(252)**0.5\n",
    "\n",
    "print(\"mtnoy_annual_volatility type:\", type(mtnoy_annual_volatility))\n",
    "print(\"MTN Annual Volatility:\", mtnoy_annual_volatility)"
   ]
  },
  {
   "cell_type": "code",
   "execution_count": 37,
   "id": "961e80f9-d22d-4853-8156-cf189e04918b",
   "metadata": {
    "deletable": false,
    "editable": false
   },
   "outputs": [
    {
     "data": {
      "text/html": [
       "\n",
       "    <div class=\"wqet-result\">\n",
       "      <div class=\"animation\">\n",
       "        <svg class=\"checkmark\" xmlns=\"http://www.w3.org/2000/svg\" viewBox=\"0 0 52 52\">\n",
       "          <circle class=\"checkmark__circle\" cx=\"26\" cy=\"26\" r=\"25\" fill=\"none\"/>\n",
       "          <path class=\"checkmark__check\" fill=\"none\" d=\"M14.1 27.2l7.1 7.2 16.7-16.8\"/>\n",
       "        </svg>\n",
       "      </div>\n",
       "      <div class=\"details\">\n",
       "        <p class=\"title\"><p>🥳</p></p>\n",
       "        <p>Score: 1</p>\n",
       "      </div>\n",
       "    </div>\n"
      ],
      "text/plain": [
       "<IPython.core.display.HTML object>"
      ]
     },
     "metadata": {},
     "output_type": "display_data"
    }
   ],
   "source": [
    "wqet_grader.grade(\"Project 8 Assessment\", \"Task 8.5.10\", float(mtnoy_annual_volatility))"
   ]
  },
  {
   "cell_type": "markdown",
   "id": "8ee1c68c-b1f9-469a-ad61-c77c367602a0",
   "metadata": {
    "deletable": false,
    "editable": false
   },
   "source": [
    "**Task 8.5.11:** Create a time series line plot for `y_mtnoy`. Be sure to label the x-axis `\"Date\"`, the y-axis `\"Returns\"`, and use the title `\"Time Series of MTNOY Returns\"`."
   ]
  },
  {
   "cell_type": "code",
   "execution_count": 40,
   "id": "f878a581-4624-4cc9-a1bf-f87b00c1bdee",
   "metadata": {
    "deletable": false
   },
   "outputs": [
    {
     "data": {
      "image/png": "[encoded data removed]",
      "text/plain": [
       "<Figure size 1080x432 with 1 Axes>"
      ]
     },
     "metadata": {
      "needs_background": "light"
     },
     "output_type": "display_data"
    }
   ],
   "source": [
    "# Create `fig` and `ax`\n",
    "fig, ax = plt.subplots(figsize=(15, 6))\n",
    "\n",
    "# Plot `y_mtnoy` on `ax`\n",
    "y_mtnoy.plot(ax=ax, label=\"MTNOY\")\n",
    "\n",
    "# Add axis labels\n",
    "plt.xlabel(\"Date\")\n",
    "plt.ylabel(\"Return\")\n",
    "\n",
    "# Add title\n",
    "plt.title(\"Time Series of MTNOY Returns\")\n",
    "\n",
    "# Don't delete the code below 👇\n",
    "plt.savefig(\"images/8-5-11.png\", dpi=150)\n"
   ]
  },
  {
   "cell_type": "code",
   "execution_count": 41,
   "id": "e5921338-55d3-496b-b332-4d675edb4f8c",
   "metadata": {
    "deletable": false,
    "editable": false
   },
   "outputs": [
    {
     "data": {
      "text/html": [
       "\n",
       "    <div class=\"wqet-result\">\n",
       "      <div class=\"animation\">\n",
       "        <svg class=\"checkmark\" xmlns=\"http://www.w3.org/2000/svg\" viewBox=\"0 0 52 52\">\n",
       "          <circle class=\"checkmark__circle\" cx=\"26\" cy=\"26\" r=\"25\" fill=\"none\"/>\n",
       "          <path class=\"checkmark__check\" fill=\"none\" d=\"M14.1 27.2l7.1 7.2 16.7-16.8\"/>\n",
       "        </svg>\n",
       "      </div>\n",
       "      <div class=\"details\">\n",
       "        <p class=\"title\"><p>Python master 😁</p></p>\n",
       "        <p>Score: 1</p>\n",
       "      </div>\n",
       "    </div>\n"
      ],
      "text/plain": [
       "<IPython.core.display.HTML object>"
      ]
     },
     "metadata": {},
     "output_type": "display_data"
    }
   ],
   "source": [
    "with open(\"images/8-5-11.png\", \"rb\") as file:\n",
    "    wqet_grader.grade(\"Project 8 Assessment\", \"Task 8.5.11\", file)"
   ]
  },
  {
   "cell_type": "markdown",
   "id": "e54a73ab-05ca-4f25-aa63-b3ee1b3c651f",
   "metadata": {
    "deletable": false,
    "editable": false
   },
   "source": [
    "**Task 8.5.12:** Create an ACF plot of the squared returns for MTN. Be sure to label the x-axis `\"Lag [days]\"`, the y-axis `\"Correlation Coefficient\"`, and use the title `\"ACF of MTNOY Squared Returns\"`."
   ]
  },
  {
   "cell_type": "code",
   "execution_count": 44,
   "id": "f373a576-6782-4599-88e8-187a52939184",
   "metadata": {
    "deletable": false
   },
   "outputs": [
    {
     "data": {
      "image/png": "[encoded data removed]",
      "text/plain": [
       "<Figure size 1080x432 with 1 Axes>"
      ]
     },
     "metadata": {
      "needs_background": "light"
     },
     "output_type": "display_data"
    }
   ],
   "source": [
    "fig, ax = plt.subplots(figsize=(15, 6))\n",
    "\n",
    "# Create ACF of squared returns\n",
    "plot_acf(y_mtnoy**2,ax=ax)\n",
    "\n",
    "# Add axis labels\n",
    "plt.xlabel(\"Lag [days]\")\n",
    "plt.ylabel(\"Correlation Coefficient\")\n",
    "\n",
    "# Add title\n",
    "plt.title(\"ACF of MTNOY Squared Returns\")\n",
    "\n",
    "# Don't delete the code below 👇\n",
    "plt.savefig(\"images/8-5-12.png\", dpi=150)\n"
   ]
  },
  {
   "cell_type": "code",
   "execution_count": 45,
   "id": "e0199e63-9c0c-4d53-8355-69e0f0f9854a",
   "metadata": {
    "deletable": false,
    "editable": false
   },
   "outputs": [
    {
     "data": {
      "text/html": [
       "\n",
       "    <div class=\"wqet-result\">\n",
       "      <div class=\"animation\">\n",
       "        <svg class=\"checkmark\" xmlns=\"http://www.w3.org/2000/svg\" viewBox=\"0 0 52 52\">\n",
       "          <circle class=\"checkmark__circle\" cx=\"26\" cy=\"26\" r=\"25\" fill=\"none\"/>\n",
       "          <path class=\"checkmark__check\" fill=\"none\" d=\"M14.1 27.2l7.1 7.2 16.7-16.8\"/>\n",
       "        </svg>\n",
       "      </div>\n",
       "      <div class=\"details\">\n",
       "        <p class=\"title\"><p>Very impressive.</p></p>\n",
       "        <p>Score: 1</p>\n",
       "      </div>\n",
       "    </div>\n"
      ],
      "text/plain": [
       "<IPython.core.display.HTML object>"
      ]
     },
     "metadata": {},
     "output_type": "display_data"
    }
   ],
   "source": [
    "with open(\"images/8-5-12.png\", \"rb\") as file:\n",
    "    wqet_grader.grade(\"Project 8 Assessment\", \"Task 8.5.12\", file)"
   ]
  },
  {
   "cell_type": "markdown",
   "id": "d27d1dfc-91cb-4bb2-8f3d-bf2550e4c164",
   "metadata": {
    "deletable": false,
    "editable": false
   },
   "source": [
    "**Task 8.5.13:** Create a PACF plot of the squared returns for MTN. Be sure to label the x-axis `\"Lag [days]\"`, the y-axis `\"Correlation Coefficient\"`, and use the title `\"PACF of MTNOY Squared Returns\"`."
   ]
  },
  {
   "cell_type": "code",
   "execution_count": 46,
   "id": "0bb12eab-db2e-40dd-9695-0861c7639d65",
   "metadata": {
    "deletable": false
   },
   "outputs": [
    {
     "data": {
      "image/png": "[encoded data removed]",
      "text/plain": [
       "<Figure size 1080x432 with 1 Axes>"
      ]
     },
     "metadata": {
      "needs_background": "light"
     },
     "output_type": "display_data"
    }
   ],
   "source": [
    "fig, ax = plt.subplots(figsize=(15, 6))\n",
    "\n",
    "# Create ACF of squared returns\n",
    "plot_pacf(y_mtnoy**2,ax=ax)\n",
    "\n",
    "# Add axis labels\n",
    "plt.xlabel(\"Lag [days]\")\n",
    "plt.ylabel(\"Correlation Coefficient\")\n",
    "\n",
    "# Add title\n",
    "plt.title(\"PACF of MTNOY Squared Returns\")\n",
    "\n",
    "\n",
    "# Don't delete the code below 👇\n",
    "plt.savefig(\"images/8-5-13.png\", dpi=150)\n"
   ]
  },
  {
   "cell_type": "code",
   "execution_count": 47,
   "id": "5d13ac14-4b5a-4a27-bd59-7386b73e88f5",
   "metadata": {
    "deletable": false,
    "editable": false
   },
   "outputs": [
    {
     "data": {
      "text/html": [
       "\n",
       "    <div class=\"wqet-result\">\n",
       "      <div class=\"animation\">\n",
       "        <svg class=\"checkmark\" xmlns=\"http://www.w3.org/2000/svg\" viewBox=\"0 0 52 52\">\n",
       "          <circle class=\"checkmark__circle\" cx=\"26\" cy=\"26\" r=\"25\" fill=\"none\"/>\n",
       "          <path class=\"checkmark__check\" fill=\"none\" d=\"M14.1 27.2l7.1 7.2 16.7-16.8\"/>\n",
       "        </svg>\n",
       "      </div>\n",
       "      <div class=\"details\">\n",
       "        <p class=\"title\"><p>Excellent! Keep going.</p></p>\n",
       "        <p>Score: 1</p>\n",
       "      </div>\n",
       "    </div>\n"
      ],
      "text/plain": [
       "<IPython.core.display.HTML object>"
      ]
     },
     "metadata": {},
     "output_type": "display_data"
    }
   ],
   "source": [
    "with open(\"images/8-5-13.png\", \"rb\") as file:\n",
    "    wqet_grader.grade(\"Project 8 Assessment\", \"Task 8.5.13\", file)"
   ]
  },
  {
   "cell_type": "markdown",
   "id": "7f5371b6-1830-4033-b062-d739c68ed61f",
   "metadata": {
    "deletable": false,
    "editable": false
   },
   "source": [
    "**Task 8.5.14:** Create a training set `y_mtnoy_train` that contains the first 80% of the observations in `y_mtnoy`. "
   ]
  },
  {
   "cell_type": "code",
   "execution_count": 49,
   "id": "fa2bac6e-467d-441c-937b-ba2a561135ce",
   "metadata": {
    "deletable": false
   },
   "outputs": [
    {
     "name": "stdout",
     "output_type": "stream",
     "text": [
      "y_mtnoy_train type: <class 'pandas.core.series.Series'>\n",
      "y_mtnoy_train shape: (2000,)\n"
     ]
    },
    {
     "data": {
      "text/plain": [
       "date\n",
       "2013-01-14    0.295276\n",
       "2013-01-15   -2.796860\n",
       "2013-01-16    1.463907\n",
       "2013-01-17    0.248756\n",
       "2013-01-18   -0.739454\n",
       "Name: return, dtype: float64"
      ]
     },
     "execution_count": 49,
     "metadata": {},
     "output_type": "execute_result"
    }
   ],
   "source": [
    "cutoff_test =  int(len(y_mtnoy)*0.8)\n",
    "y_mtnoy_train = y_mtnoy.iloc[:cutoff_test]\n",
    "\n",
    "print(\"y_mtnoy_train type:\", type(y_mtnoy_train))\n",
    "print(\"y_mtnoy_train shape:\", y_mtnoy_train.shape)\n",
    "y_mtnoy_train.head()"
   ]
  },
  {
   "cell_type": "code",
   "execution_count": 50,
   "id": "6e729032-f647-4fe6-8024-0c351510f1ad",
   "metadata": {
    "deletable": false,
    "editable": false
   },
   "outputs": [
    {
     "data": {
      "text/html": [
       "\n",
       "    <div class=\"wqet-result\">\n",
       "      <div class=\"animation\">\n",
       "        <svg class=\"checkmark\" xmlns=\"http://www.w3.org/2000/svg\" viewBox=\"0 0 52 52\">\n",
       "          <circle class=\"checkmark__circle\" cx=\"26\" cy=\"26\" r=\"25\" fill=\"none\"/>\n",
       "          <path class=\"checkmark__check\" fill=\"none\" d=\"M14.1 27.2l7.1 7.2 16.7-16.8\"/>\n",
       "        </svg>\n",
       "      </div>\n",
       "      <div class=\"details\">\n",
       "        <p class=\"title\"><p>Python master 😁</p></p>\n",
       "        <p>Score: 1</p>\n",
       "      </div>\n",
       "    </div>\n"
      ],
      "text/plain": [
       "<IPython.core.display.HTML object>"
      ]
     },
     "metadata": {},
     "output_type": "display_data"
    }
   ],
   "source": [
    "wqet_grader.grade(\"Project 8 Assessment\", \"Task 8.5.14\", y_mtnoy_train)"
   ]
  },
  {
   "cell_type": "markdown",
   "id": "3b648d47-1a70-4ce8-919f-0b7b84d91524",
   "metadata": {
    "deletable": false,
    "editable": false
   },
   "source": [
    "## Build Model"
   ]
  },
  {
   "cell_type": "markdown",
   "id": "5d5ea8b0-13a7-423a-9007-d2b5ef2c95b8",
   "metadata": {
    "deletable": false,
    "editable": false
   },
   "source": [
    "**Task 8.5.15:** Build and fit a GARCH model using the data in `y_mtnoy`. Try different values for `p` and `q`, using the summary to assess its performance. The grader will evaluate whether your `model` is the correct data type."
   ]
  },
  {
   "cell_type": "code",
   "execution_count": 53,
   "id": "557513ff-a639-4a97-b1cb-99c285d7b522",
   "metadata": {
    "deletable": false
   },
   "outputs": [
    {
     "name": "stdout",
     "output_type": "stream",
     "text": [
      "model type: <class 'arch.univariate.base.ARCHModelResult'>\n"
     ]
    }
   ],
   "source": [
    "# Build and train model\n",
    "model = arch_model(\n",
    "y_mtnoy_train,\n",
    "    p=1,\n",
    "    q=1,\n",
    "    rescale=False\n",
    ").fit(disp=0)\n",
    "\n",
    "print(\"model type:\", type(model))\n",
    "\n",
    "# Show model summary\n"
   ]
  },
  {
   "cell_type": "code",
   "execution_count": 54,
   "id": "619ae9e9-b24f-4575-a15b-bd8e1b3b892e",
   "metadata": {
    "deletable": false
   },
   "outputs": [
    {
     "data": {
      "text/plain": [
       "True"
      ]
     },
     "execution_count": 54,
     "metadata": {},
     "output_type": "execute_result"
    }
   ],
   "source": [
    "submission_8515 = isinstance(model, ARCHModelResult)\n",
    "submission_8515"
   ]
  },
  {
   "cell_type": "code",
   "execution_count": 55,
   "id": "84a8f42a-b3fc-4756-a7be-32a6355ea8a6",
   "metadata": {
    "deletable": false,
    "editable": false
   },
   "outputs": [
    {
     "data": {
      "text/html": [
       "\n",
       "    <div class=\"wqet-result\">\n",
       "      <div class=\"animation\">\n",
       "        <svg class=\"checkmark\" xmlns=\"http://www.w3.org/2000/svg\" viewBox=\"0 0 52 52\">\n",
       "          <circle class=\"checkmark__circle\" cx=\"26\" cy=\"26\" r=\"25\" fill=\"none\"/>\n",
       "          <path class=\"checkmark__check\" fill=\"none\" d=\"M14.1 27.2l7.1 7.2 16.7-16.8\"/>\n",
       "        </svg>\n",
       "      </div>\n",
       "      <div class=\"details\">\n",
       "        <p class=\"title\"><p>Boom! You got it.</p></p>\n",
       "        <p>Score: 1</p>\n",
       "      </div>\n",
       "    </div>\n"
      ],
      "text/plain": [
       "<IPython.core.display.HTML object>"
      ]
     },
     "metadata": {},
     "output_type": "display_data"
    }
   ],
   "source": [
    "wqet_grader.grade(\"Project 8 Assessment\", \"Task 8.5.15\", [submission_8515])"
   ]
  },
  {
   "cell_type": "markdown",
   "id": "8dd49091-ae8a-4486-8f40-07916cdd9a7f",
   "metadata": {
    "deletable": false,
    "editable": false
   },
   "source": [
    "**Task 8.5.16:** Plot the standardized residuals for your `model`. Be sure to label the x-axis `\"Date\"`, the y-axis `\"Value\"`, and use the title `\"MTNOY GARCH Model Standardized Residuals\"`."
   ]
  },
  {
   "cell_type": "code",
   "execution_count": 56,
   "id": "870dfbd9-70f9-4cd1-8a1c-6a234ebece70",
   "metadata": {
    "deletable": false
   },
   "outputs": [
    {
     "data": {
      "image/png": "[encoded data removed]",
      "text/plain": [
       "<Figure size 1080x432 with 1 Axes>"
      ]
     },
     "metadata": {
      "needs_background": "light"
     },
     "output_type": "display_data"
    }
   ],
   "source": [
    "fig, ax = plt.subplots(figsize=(15, 6))\n",
    "\n",
    "# Plot standardized residuals\n",
    "model.std_resid.plot(ax=ax,label=\"Standardized Residuals\")\n",
    "\n",
    "# Add axis labels\n",
    "plt.xlabel(\"Date\")\n",
    "\n",
    "# Add title\n",
    "plt.title(\"MTNOY GARCH Model Standardized Residuals\")\n",
    "\n",
    "# Don't delete the code below 👇\n",
    "plt.savefig(\"images/8-5-16.png\", dpi=150)\n"
   ]
  },
  {
   "cell_type": "code",
   "execution_count": 57,
   "id": "f1b77391-c596-425c-93c8-eea265cb7080",
   "metadata": {
    "deletable": false,
    "editable": false
   },
   "outputs": [
    {
     "data": {
      "text/html": [
       "\n",
       "    <div class=\"wqet-result\">\n",
       "      <div class=\"animation\">\n",
       "        <svg class=\"checkmark\" xmlns=\"http://www.w3.org/2000/svg\" viewBox=\"0 0 52 52\">\n",
       "          <circle class=\"checkmark__circle\" cx=\"26\" cy=\"26\" r=\"25\" fill=\"none\"/>\n",
       "          <path class=\"checkmark__check\" fill=\"none\" d=\"M14.1 27.2l7.1 7.2 16.7-16.8\"/>\n",
       "        </svg>\n",
       "      </div>\n",
       "      <div class=\"details\">\n",
       "        <p class=\"title\"><p>That's the right answer. Keep it up!</p></p>\n",
       "        <p>Score: 1</p>\n",
       "      </div>\n",
       "    </div>\n"
      ],
      "text/plain": [
       "<IPython.core.display.HTML object>"
      ]
     },
     "metadata": {},
     "output_type": "display_data"
    }
   ],
   "source": [
    "with open(\"images/8-5-16.png\", \"rb\") as file:\n",
    "    wqet_grader.grade(\"Project 8 Assessment\", \"Task 8.5.16\", file)"
   ]
  },
  {
   "cell_type": "markdown",
   "id": "557d6ea7-475a-40c2-adcc-293e4f627028",
   "metadata": {
    "deletable": false,
    "editable": false
   },
   "source": [
    "**Task 8.5.17:** Create an ACF plot of the squared, standardized residuals of your `model`. Be sure to label the x-axis `\"Lag [days]\"`, the y-axis `\"Correlation Coefficient\"`, and use the title `\"ACF of MTNOY GARCH Model Standardized Residuals\"`."
   ]
  },
  {
   "cell_type": "code",
   "execution_count": 58,
   "id": "b4ae466c-b745-40b8-afaf-94c1fd9fa3bb",
   "metadata": {
    "deletable": false
   },
   "outputs": [
    {
     "data": {
      "image/png": "[encoded data removed]",
      "text/plain": [
       "<Figure size 1080x432 with 1 Axes>"
      ]
     },
     "metadata": {
      "needs_background": "light"
     },
     "output_type": "display_data"
    }
   ],
   "source": [
    "fig, ax = plt.subplots(figsize=(15, 6))\n",
    "\n",
    "# Create ACF of squared, standardized residuals\n",
    "plot_acf(model.std_resid**2,ax=ax)\n",
    "\n",
    "# Add axis labels\n",
    "plt.xlabel(\"Lag [days]\")\n",
    "plt.ylabel(\"Correlation Coefficient\");\n",
    "\n",
    "# Add title\n",
    "plt.title(\"ACF of MTNOY GARCH Model Standardized Residuals\")\n",
    "\n",
    "# Don't delete the code below 👇\n",
    "plt.savefig(\"images/8-5-17.png\", dpi=150)\n"
   ]
  },
  {
   "cell_type": "code",
   "execution_count": 59,
   "id": "1cecf57c-4cbc-4486-ad14-7cf89ce4a32b",
   "metadata": {
    "deletable": false,
    "editable": false
   },
   "outputs": [
    {
     "data": {
      "text/html": [
       "\n",
       "    <div class=\"wqet-result\">\n",
       "      <div class=\"animation\">\n",
       "        <svg class=\"checkmark\" xmlns=\"http://www.w3.org/2000/svg\" viewBox=\"0 0 52 52\">\n",
       "          <circle class=\"checkmark__circle\" cx=\"26\" cy=\"26\" r=\"25\" fill=\"none\"/>\n",
       "          <path class=\"checkmark__check\" fill=\"none\" d=\"M14.1 27.2l7.1 7.2 16.7-16.8\"/>\n",
       "        </svg>\n",
       "      </div>\n",
       "      <div class=\"details\">\n",
       "        <p class=\"title\"><p>Python master 😁</p></p>\n",
       "        <p>Score: 1</p>\n",
       "      </div>\n",
       "    </div>\n"
      ],
      "text/plain": [
       "<IPython.core.display.HTML object>"
      ]
     },
     "metadata": {},
     "output_type": "display_data"
    }
   ],
   "source": [
    "with open(\"images/8-5-17.png\", \"rb\") as file:\n",
    "    wqet_grader.grade(\"Project 8 Assessment\", \"Task 8.5.17\", file)"
   ]
  },
  {
   "cell_type": "markdown",
   "id": "0c7f8468-7d27-4861-85a7-97a884508f46",
   "metadata": {
    "deletable": false,
    "editable": false
   },
   "source": [
    "# Model Deployment"
   ]
  },
  {
   "cell_type": "markdown",
   "id": "57cb133e-279f-4043-835f-498470b3123f",
   "metadata": {
    "deletable": false,
    "editable": false
   },
   "source": [
    "**Ungraded Task:** If it's not already running, start your app server.  "
   ]
  },
  {
   "cell_type": "markdown",
   "id": "932e8b3b-e6e2-4ee9-9364-682ee7c77a31",
   "metadata": {
    "deletable": false,
    "editable": false
   },
   "source": [
    "**Task 8.5.18:** Change the `fit` method of your `GarchModel` class so that, when a model is done training, two more attributes are added to the object: `self.aic` with the AIC for the model, and `self.bic` with the BIC for the model. When you're done, use the cell below to check your work."
   ]
  },
  {
   "cell_type": "markdown",
   "id": "560a44b8-ad93-4334-a472-7930d0686b85",
   "metadata": {
    "deletable": false,
    "editable": false
   },
   "source": [
    "<div class=\"alert alert-info\" role=\"alert\">\n",
    "    <p><b>Tip:</b> How can you access the AIC and BIC scores programmatically? Every <code>ARCHModelResult</code> has an <code>.aic</code> and a <code>.bic</code> attribute.</p>\n",
    "</div>"
   ]
  },
  {
   "cell_type": "code",
   "execution_count": 61,
   "id": "9d21c4ae-23e0-4e6b-87a6-e3b3feaac022",
   "metadata": {
    "deletable": false
   },
   "outputs": [],
   "source": [
    "# Import `build_model` function\n",
    "from main import build_model\n",
    "\n",
    "# Build model using new `MTNOY` data\n",
    "model = build_model(ticker=\"MTNOY\", use_new_data=True)\n",
    "\n",
    "# Wrangle `MTNOY` returns\n",
    "model.wrangle_data(n_observations=2500)\n",
    "\n",
    "# Fit GARCH(1,1) model to data\n",
    "model.fit(p=1, q=1)\n",
    "\n",
    "# Does model have AIC and BIC attributes?\n",
    "assert hasattr(model, \"aic\")\n",
    "assert hasattr(model, \"bic\")"
   ]
  },
  {
   "cell_type": "code",
   "execution_count": 62,
   "id": "e8ca123c-69eb-4f63-bfea-735954ecf913",
   "metadata": {
    "deletable": false
   },
   "outputs": [
    {
     "data": {
      "text/plain": [
       "{'has_aic': True, 'has_bic': True}"
      ]
     },
     "execution_count": 62,
     "metadata": {},
     "output_type": "execute_result"
    }
   ],
   "source": [
    "# Put test results into dictionary\n",
    "submission_8518 = {\"has_aic\": hasattr(model, \"aic\"), \"has_bic\": hasattr(model, \"bic\")}\n",
    "submission_8518"
   ]
  },
  {
   "cell_type": "code",
   "execution_count": 63,
   "id": "d7a06937-7f76-48d6-a9b1-57307eeab2b0",
   "metadata": {
    "deletable": false,
    "editable": false
   },
   "outputs": [
    {
     "data": {
      "text/html": [
       "\n",
       "    <div class=\"wqet-result\">\n",
       "      <div class=\"animation\">\n",
       "        <svg class=\"checkmark\" xmlns=\"http://www.w3.org/2000/svg\" viewBox=\"0 0 52 52\">\n",
       "          <circle class=\"checkmark__circle\" cx=\"26\" cy=\"26\" r=\"25\" fill=\"none\"/>\n",
       "          <path class=\"checkmark__check\" fill=\"none\" d=\"M14.1 27.2l7.1 7.2 16.7-16.8\"/>\n",
       "        </svg>\n",
       "      </div>\n",
       "      <div class=\"details\">\n",
       "        <p class=\"title\"><p>Boom! You got it.</p></p>\n",
       "        <p>Score: 1</p>\n",
       "      </div>\n",
       "    </div>\n"
      ],
      "text/plain": [
       "<IPython.core.display.HTML object>"
      ]
     },
     "metadata": {},
     "output_type": "display_data"
    }
   ],
   "source": [
    "wqet_grader.grade(\"Project 8 Assessment\", \"Task 8.5.18\", submission_8518)"
   ]
  },
  {
   "cell_type": "markdown",
   "id": "e9d7daf1-57df-42fe-958a-155d30abfd44",
   "metadata": {
    "deletable": false,
    "editable": false
   },
   "source": [
    "**Task 8.5.19:** Change the `fit_model` function in the `main` module so that the `\"message\"` it returns includes the AIC and BIC scores. For example, the message should look something like this:\n",
    "\n",
    "```\n",
    "\"Trained and saved 'models/2022-10-12T23:10:06.577238_MTNOY.pkl'. Metrics: AIC 9892.184665169907, BIC 9914.588275008075.\"\n",
    "```\n",
    "\n",
    "\n",
    "When you're done, use the cell below to check your work."
   ]
  },
  {
   "cell_type": "code",
   "execution_count": 65,
   "id": "9a5d6564-3e0d-410c-93a6-026d5ccf9c03",
   "metadata": {
    "deletable": false
   },
   "outputs": [
    {
     "data": {
      "text/plain": [
       "{'ticker': 'MTNOY',\n",
       " 'use_new_data': False,\n",
       " 'n_observations': 2500,\n",
       " 'p': 1,\n",
       " 'q': 1,\n",
       " 'success': True,\n",
       " 'message': \"Trained and saved 'models/2022-12-16T18:21:29.719132_MTNOY.pkl'. Metrics: AIC 12003.02429592052, BIC 12026.320479963946\"}"
      ]
     },
     "execution_count": 65,
     "metadata": {},
     "output_type": "execute_result"
    }
   ],
   "source": [
    "# Import `FitIn` class and `fit_model` function\n",
    "from main import FitIn, fit_model\n",
    "\n",
    "# Instantiate `FitIn` object\n",
    "request = FitIn(ticker=\"MTNOY\", use_new_data=False, n_observations=2500, p=1, q=1)\n",
    "\n",
    "# Build model and fit to data, following parameters in `request`\n",
    "fit_out = fit_model(request=request)\n",
    "\n",
    "# Inspect `fit_out`\n",
    "fit_out"
   ]
  },
  {
   "cell_type": "code",
   "execution_count": 66,
   "id": "14d1652c-976f-4a9d-8621-ecc22027ea1b",
   "metadata": {
    "deletable": false,
    "editable": false
   },
   "outputs": [
    {
     "data": {
      "text/html": [
       "\n",
       "    <div class=\"wqet-result\">\n",
       "      <div class=\"animation\">\n",
       "        <svg class=\"checkmark\" xmlns=\"http://www.w3.org/2000/svg\" viewBox=\"0 0 52 52\">\n",
       "          <circle class=\"checkmark__circle\" cx=\"26\" cy=\"26\" r=\"25\" fill=\"none\"/>\n",
       "          <path class=\"checkmark__check\" fill=\"none\" d=\"M14.1 27.2l7.1 7.2 16.7-16.8\"/>\n",
       "        </svg>\n",
       "      </div>\n",
       "      <div class=\"details\">\n",
       "        <p class=\"title\"><p>Good work!</p></p>\n",
       "        <p>Score: 1</p>\n",
       "      </div>\n",
       "    </div>\n"
      ],
      "text/plain": [
       "<IPython.core.display.HTML object>"
      ]
     },
     "metadata": {},
     "output_type": "display_data"
    }
   ],
   "source": [
    "wqet_grader.grade(\"Project 8 Assessment\", \"Task 8.5.19\", fit_out)"
   ]
  },
  {
   "cell_type": "markdown",
   "id": "564d1013-53c8-4e14-9ccb-637d5f13858f",
   "metadata": {
    "deletable": false,
    "editable": false
   },
   "source": [
    "**Task 8.5.20:** Create a `post` request to hit the `\"/fit\"` path running at `\"http://localhost:8008\"`. You should train a GARCH(1,1) model on 2500 observations of the MTN data you already downloaded. Pass in your parameters as a dictionary using the `json` argument. The grader will evaluate the JSON of your `response`."
   ]
  },
  {
   "cell_type": "code",
   "execution_count": 67,
   "id": "253b5d85-c46e-43c0-a2a9-36ae32ebeede",
   "metadata": {
    "deletable": false
   },
   "outputs": [
    {
     "name": "stdout",
     "output_type": "stream",
     "text": [
      "response type: <class 'requests.models.Response'>\n",
      "response status code: 200\n"
     ]
    }
   ],
   "source": [
    "# URL of `/fit` path\n",
    "url = \"http://localhost:8008/fit\"\n",
    "# Data to send to path\n",
    "json = {\n",
    "    \"ticker\":\"MTN\",\n",
    "    \"use_new_data\":True,\n",
    "    \"n_observations\": 2500,\n",
    "    \"p\":1,\n",
    "    \"q\":1\n",
    "}\n",
    "# Response of post request\n",
    "response = requests.post(url=url,json=json)\n",
    "\n",
    "print(\"response type:\", type(response))\n",
    "print(\"response status code:\", response.status_code)"
   ]
  },
  {
   "cell_type": "code",
   "execution_count": 68,
   "id": "22d33702-a57b-4c41-8d06-ce8a045932cb",
   "metadata": {
    "deletable": false
   },
   "outputs": [
    {
     "data": {
      "text/plain": [
       "{'ticker': 'MTN',\n",
       " 'use_new_data': True,\n",
       " 'n_observations': 2500,\n",
       " 'p': 1,\n",
       " 'q': 1,\n",
       " 'success': True,\n",
       " 'message': \"Trained and saved 'models/2022-12-16T18:22:50.865357_MTN.pkl'. Metrics: AIC 9741.064212405683, BIC 9764.360396449109\"}"
      ]
     },
     "execution_count": 68,
     "metadata": {},
     "output_type": "execute_result"
    }
   ],
   "source": [
    "submission_8520 = response.json()\n",
    "submission_8520"
   ]
  },
  {
   "cell_type": "code",
   "execution_count": 69,
   "id": "3bcb5f49-dc56-49d4-abc7-97e29a7ad58b",
   "metadata": {
    "deletable": false,
    "editable": false
   },
   "outputs": [
    {
     "ename": "Exception",
     "evalue": "Could not grade submission: Could not verify access to this assessment: Received error from WQET submission API: Could not find existing program enrollment for user",
     "output_type": "error",
     "traceback": [
      "\u001b[0;31m---------------------------------------------------------------------------\u001b[0m",
      "\u001b[0;31mException\u001b[0m                                 Traceback (most recent call last)",
      "Cell \u001b[0;32mIn [69], line 1\u001b[0m\n\u001b[0;32m----> 1\u001b[0m wqet_grader\u001b[38;5;241m.\u001b[39mgrade(\u001b[38;5;124m\"\u001b[39m\u001b[38;5;124mProject 8 Assessment\u001b[39m\u001b[38;5;124m\"\u001b[39m, \u001b[38;5;124m\"\u001b[39m\u001b[38;5;124mTask 8.5.20\u001b[39m\u001b[38;5;124m\"\u001b[39m, submission_8520)\n",
      "File \u001b[0;32m/opt/conda/lib/python3.9/site-packages/wqet_grader/__init__.py:182\u001b[0m, in \u001b[0;36mgrade\u001b[0;34m(assessment_id, question_id, submission)\u001b[0m\n\u001b[1;32m    177\u001b[0m \u001b[38;5;28;01mdef\u001b[39;00m \u001b[38;5;21mgrade\u001b[39m(assessment_id, question_id, submission):\n\u001b[1;32m    178\u001b[0m   submission_object \u001b[38;5;241m=\u001b[39m {\n\u001b[1;32m    179\u001b[0m     \u001b[38;5;124m'\u001b[39m\u001b[38;5;124mtype\u001b[39m\u001b[38;5;124m'\u001b[39m: \u001b[38;5;124m'\u001b[39m\u001b[38;5;124msimple\u001b[39m\u001b[38;5;124m'\u001b[39m,\n\u001b[1;32m    180\u001b[0m     \u001b[38;5;124m'\u001b[39m\u001b[38;5;124margument\u001b[39m\u001b[38;5;124m'\u001b[39m: [submission]\n\u001b[1;32m    181\u001b[0m   }\n\u001b[0;32m--> 182\u001b[0m   \u001b[38;5;28;01mreturn\u001b[39;00m show_score(\u001b[43mgrade_submission\u001b[49m\u001b[43m(\u001b[49m\u001b[43massessment_id\u001b[49m\u001b[43m,\u001b[49m\u001b[43m \u001b[49m\u001b[43mquestion_id\u001b[49m\u001b[43m,\u001b[49m\u001b[43m \u001b[49m\u001b[43msubmission_object\u001b[49m\u001b[43m)\u001b[49m)\n",
      "File \u001b[0;32m/opt/conda/lib/python3.9/site-packages/wqet_grader/transport.py:146\u001b[0m, in \u001b[0;36mgrade_submission\u001b[0;34m(assessment_id, question_id, submission_object)\u001b[0m\n\u001b[1;32m    144\u001b[0m     \u001b[38;5;28;01mraise\u001b[39;00m \u001b[38;5;167;01mException\u001b[39;00m(\u001b[38;5;124m'\u001b[39m\u001b[38;5;124mGrader raised error: \u001b[39m\u001b[38;5;132;01m{}\u001b[39;00m\u001b[38;5;124m'\u001b[39m\u001b[38;5;241m.\u001b[39mformat(error[\u001b[38;5;124m'\u001b[39m\u001b[38;5;124mmessage\u001b[39m\u001b[38;5;124m'\u001b[39m]))\n\u001b[1;32m    145\u001b[0m   \u001b[38;5;28;01melse\u001b[39;00m:\n\u001b[0;32m--> 146\u001b[0m     \u001b[38;5;28;01mraise\u001b[39;00m \u001b[38;5;167;01mException\u001b[39;00m(\u001b[38;5;124m'\u001b[39m\u001b[38;5;124mCould not grade submission: \u001b[39m\u001b[38;5;132;01m{}\u001b[39;00m\u001b[38;5;124m'\u001b[39m\u001b[38;5;241m.\u001b[39mformat(error[\u001b[38;5;124m'\u001b[39m\u001b[38;5;124mmessage\u001b[39m\u001b[38;5;124m'\u001b[39m]))\n\u001b[1;32m    147\u001b[0m result \u001b[38;5;241m=\u001b[39m envelope[\u001b[38;5;124m'\u001b[39m\u001b[38;5;124mdata\u001b[39m\u001b[38;5;124m'\u001b[39m][\u001b[38;5;124m'\u001b[39m\u001b[38;5;124mresult\u001b[39m\u001b[38;5;124m'\u001b[39m]\n\u001b[1;32m    149\u001b[0m \u001b[38;5;66;03m# Used only in testing\u001b[39;00m\n",
      "\u001b[0;31mException\u001b[0m: Could not grade submission: Could not verify access to this assessment: Received error from WQET submission API: Could not find existing program enrollment for user"
     ]
    }
   ],
   "source": [
    "wqet_grader.grade(\"Project 8 Assessment\", \"Task 8.5.20\", submission_8520)"
   ]
  },
  {
   "cell_type": "markdown",
   "id": "e4ae0ba2-f654-4cf8-9fc5-021810a2c638",
   "metadata": {
    "deletable": false,
    "editable": false
   },
   "source": [
    "**Task 8.5.21:** Create a `post` request to hit the `\"/predict\"` path running at `\"http://localhost:8008\"`. You should get the 5-day volatility forecast for MTN. When you're satisfied, submit your work to the grader."
   ]
  },
  {
   "cell_type": "code",
   "execution_count": 70,
   "id": "9b85f251-5bc3-44c9-b07e-715ffeae8d30",
   "metadata": {
    "deletable": false
   },
   "outputs": [
    {
     "name": "stdout",
     "output_type": "stream",
     "text": [
      "response type: <class 'requests.models.Response'>\n",
      "response status code: 200\n"
     ]
    }
   ],
   "source": [
    "# URL of `/predict` path\n",
    "url =  \"http://localhost:8008/predict\"\n",
    "# Data to send to path\n",
    "json = {\n",
    "    \"ticker\":\"MTN\",\n",
    "    \"n_days\":5\n",
    "    \n",
    "}\n",
    "# Response of post request\n",
    "response = requests.post(url=url,json=json)\n",
    "\n",
    "print(\"response type:\", type(response))\n",
    "print(\"response status code:\", response.status_code)"
   ]
  },
  {
   "cell_type": "code",
   "execution_count": 74,
   "id": "4c084ed3-9df4-4d94-bf98-1fafdafe3066",
   "metadata": {},
   "outputs": [
    {
     "name": "stdout",
     "output_type": "stream",
     "text": [
      "Collecting dropbox\n",
      "  Downloading dropbox-11.36.0-py3-none-any.whl (594 kB)\n",
      "\u001b[K     |████████████████████████████████| 594 kB 3.8 MB/s eta 0:00:01\n",
      "\u001b[?25hRequirement already satisfied: six>=1.12.0 in /opt/conda/lib/python3.9/site-packages (from dropbox) (1.15.0)\n",
      "Requirement already satisfied: requests>=2.16.2 in /opt/conda/lib/python3.9/site-packages (from dropbox) (2.26.0)\n",
      "Collecting stone>=2.*\n",
      "  Downloading stone-3.3.1-py3-none-any.whl (162 kB)\n",
      "\u001b[K     |████████████████████████████████| 162 kB 115.7 MB/s eta 0:00:01\n",
      "\u001b[?25hRequirement already satisfied: certifi>=2017.4.17 in /opt/conda/lib/python3.9/site-packages (from requests>=2.16.2->dropbox) (2022.9.24)\n",
      "Requirement already satisfied: urllib3<1.27,>=1.21.1 in /opt/conda/lib/python3.9/site-packages (from requests>=2.16.2->dropbox) (1.26.6)\n",
      "Requirement already satisfied: charset-normalizer~=2.0.0 in /opt/conda/lib/python3.9/site-packages (from requests>=2.16.2->dropbox) (2.0.0)\n",
      "Requirement already satisfied: idna<4,>=2.5 in /opt/conda/lib/python3.9/site-packages (from requests>=2.16.2->dropbox) (3.1)\n",
      "Collecting ply>=3.4\n",
      "  Downloading ply-3.11-py2.py3-none-any.whl (49 kB)\n",
      "\u001b[K     |████████████████████████████████| 49 kB 10.3 MB/s eta 0:00:01\n",
      "\u001b[?25hInstalling collected packages: ply, stone, dropbox\n",
      "Successfully installed dropbox-11.36.0 ply-3.11 stone-3.3.1\n",
      "Note: you may need to restart the kernel to use updated packages.\n"
     ]
    }
   ],
   "source": [
    "pip install dropbox"
   ]
  },
  {
   "cell_type": "code",
   "execution_count": 75,
   "id": "1d389d4f-63b5-4012-8745-b1c111735dc1",
   "metadata": {},
   "outputs": [
    {
     "name": "stdout",
     "output_type": "stream",
     "text": [
      "Progress: 1.35% - /home/jovyan/work/ds-curriculum/080-volatility-forecasting-in-india/085-assignment.ipynb\r"
     ]
    },
    {
     "ename": "AuthError",
     "evalue": "AuthError('474864221c754b0ea0816cb21c699500', AuthError('invalid_access_token', None))",
     "output_type": "error",
     "traceback": [
      "\u001b[0;31m---------------------------------------------------------------------------\u001b[0m",
      "\u001b[0;31mAuthError\u001b[0m                                 Traceback (most recent call last)",
      "Cell \u001b[0;32mIn [75], line 47\u001b[0m\n\u001b[1;32m     42\u001b[0m     d \u001b[38;5;241m=\u001b[39m dropbox\u001b[38;5;241m.\u001b[39mDropbox(\u001b[38;5;124m'\u001b[39m\u001b[38;5;124msl.BVHnaE4PEjllTdXKbHFoZ_EcbRbkZEcFjffC1o6fl01jTB0U7pxgvMCnCzc8Nt9CojJvJST9gxuUZnyFH3udAa6j71guaf3YTYbzyurgHIqLKLQ7IEA0vxt8jCklQSt3W-0C9okY\u001b[39m\u001b[38;5;124m'\u001b[39m)\n\u001b[1;32m     45\u001b[0m     \u001b[38;5;28;01mwith\u001b[39;00m filepath\u001b[38;5;241m.\u001b[39mopen(\u001b[38;5;124m\"\u001b[39m\u001b[38;5;124mrb\u001b[39m\u001b[38;5;124m\"\u001b[39m) \u001b[38;5;28;01mas\u001b[39;00m f:\n\u001b[0;32m---> 47\u001b[0m        meta \u001b[38;5;241m=\u001b[39m d\u001b[38;5;241m.\u001b[39mfiles_upload(f\u001b[38;5;241m.\u001b[39mread(), targetfile, mode\u001b[38;5;241m=\u001b[39mdropbox\u001b[38;5;241m.\u001b[39mfiles\u001b[38;5;241m.\u001b[39mWriteMode(\u001b[38;5;124m\"\u001b[39m\u001b[38;5;124moverwrite\u001b[39m\u001b[38;5;124m\"\u001b[39m))\n\u001b[1;32m     49\u001b[0m \u001b[38;5;28mprint\u001b[39m(\u001b[38;5;124m\"\u001b[39m\u001b[38;5;124mDone!\u001b[39m\u001b[38;5;124m\"\u001b[39m)\n",
      "File \u001b[0;32m/opt/conda/lib/python3.9/site-packages/dropbox/base.py:3210\u001b[0m, in \u001b[0;36mDropboxBase.files_upload\u001b[0;34m(self, f, path, mode, autorename, client_modified, mute, property_groups, strict_conflict, content_hash)\u001b[0m\n\u001b[1;32m   3178\u001b[0m \u001b[38;5;124;03m\"\"\"\u001b[39;00m\n\u001b[1;32m   3179\u001b[0m \u001b[38;5;124;03mCreate a new file with the contents provided in the request. Do not use\u001b[39;00m\n\u001b[1;32m   3180\u001b[0m \u001b[38;5;124;03mthis to upload a file larger than 150 MB. Instead, create an upload\u001b[39;00m\n\u001b[0;32m   (...)\u001b[0m\n\u001b[1;32m   3200\u001b[0m \u001b[38;5;124;03m    :class:`dropbox.files.UploadError`\u001b[39;00m\n\u001b[1;32m   3201\u001b[0m \u001b[38;5;124;03m\"\"\"\u001b[39;00m\n\u001b[1;32m   3202\u001b[0m arg \u001b[38;5;241m=\u001b[39m files\u001b[38;5;241m.\u001b[39mUploadArg(path,\n\u001b[1;32m   3203\u001b[0m                       mode,\n\u001b[1;32m   3204\u001b[0m                       autorename,\n\u001b[0;32m   (...)\u001b[0m\n\u001b[1;32m   3208\u001b[0m                       strict_conflict,\n\u001b[1;32m   3209\u001b[0m                       content_hash)\n\u001b[0;32m-> 3210\u001b[0m r \u001b[38;5;241m=\u001b[39m \u001b[38;5;28;43mself\u001b[39;49m\u001b[38;5;241;43m.\u001b[39;49m\u001b[43mrequest\u001b[49m\u001b[43m(\u001b[49m\n\u001b[1;32m   3211\u001b[0m \u001b[43m    \u001b[49m\u001b[43mfiles\u001b[49m\u001b[38;5;241;43m.\u001b[39;49m\u001b[43mupload\u001b[49m\u001b[43m,\u001b[49m\n\u001b[1;32m   3212\u001b[0m \u001b[43m    \u001b[49m\u001b[38;5;124;43m'\u001b[39;49m\u001b[38;5;124;43mfiles\u001b[39;49m\u001b[38;5;124;43m'\u001b[39;49m\u001b[43m,\u001b[49m\n\u001b[1;32m   3213\u001b[0m \u001b[43m    \u001b[49m\u001b[43marg\u001b[49m\u001b[43m,\u001b[49m\n\u001b[1;32m   3214\u001b[0m \u001b[43m    \u001b[49m\u001b[43mf\u001b[49m\u001b[43m,\u001b[49m\n\u001b[1;32m   3215\u001b[0m \u001b[43m\u001b[49m\u001b[43m)\u001b[49m\n\u001b[1;32m   3216\u001b[0m \u001b[38;5;28;01mreturn\u001b[39;00m r\n",
      "File \u001b[0;32m/opt/conda/lib/python3.9/site-packages/dropbox/dropbox_client.py:326\u001b[0m, in \u001b[0;36m_DropboxTransport.request\u001b[0;34m(self, route, namespace, request_arg, request_binary, timeout)\u001b[0m\n\u001b[1;32m    315\u001b[0m \u001b[38;5;28;01mif\u001b[39;00m (timeout \u001b[38;5;129;01mis\u001b[39;00m \u001b[38;5;28;01mNone\u001b[39;00m \u001b[38;5;129;01mand\u001b[39;00m\n\u001b[1;32m    316\u001b[0m         route \u001b[38;5;241m==\u001b[39m files\u001b[38;5;241m.\u001b[39mlist_folder_longpoll):\n\u001b[1;32m    317\u001b[0m     \u001b[38;5;66;03m# The client normally sends a timeout value to the\u001b[39;00m\n\u001b[0;32m   (...)\u001b[0m\n\u001b[1;32m    322\u001b[0m     \u001b[38;5;66;03m# due to a shorter socket timeout.\u001b[39;00m\n\u001b[1;32m    323\u001b[0m     \u001b[38;5;66;03m# NB: This is done here because base.py is auto-generated\u001b[39;00m\n\u001b[1;32m    324\u001b[0m     timeout \u001b[38;5;241m=\u001b[39m request_arg\u001b[38;5;241m.\u001b[39mtimeout \u001b[38;5;241m+\u001b[39m \u001b[38;5;241m90\u001b[39m\n\u001b[0;32m--> 326\u001b[0m res \u001b[38;5;241m=\u001b[39m \u001b[38;5;28;43mself\u001b[39;49m\u001b[38;5;241;43m.\u001b[39;49m\u001b[43mrequest_json_string_with_retry\u001b[49m\u001b[43m(\u001b[49m\u001b[43mhost\u001b[49m\u001b[43m,\u001b[49m\n\u001b[1;32m    327\u001b[0m \u001b[43m                                          \u001b[49m\u001b[43mroute_name\u001b[49m\u001b[43m,\u001b[49m\n\u001b[1;32m    328\u001b[0m \u001b[43m                                          \u001b[49m\u001b[43mroute_style\u001b[49m\u001b[43m,\u001b[49m\n\u001b[1;32m    329\u001b[0m \u001b[43m                                          \u001b[49m\u001b[43mserialized_arg\u001b[49m\u001b[43m,\u001b[49m\n\u001b[1;32m    330\u001b[0m \u001b[43m                                          \u001b[49m\u001b[43mauth_type\u001b[49m\u001b[43m,\u001b[49m\n\u001b[1;32m    331\u001b[0m \u001b[43m                                          \u001b[49m\u001b[43mrequest_binary\u001b[49m\u001b[43m,\u001b[49m\n\u001b[1;32m    332\u001b[0m \u001b[43m                                          \u001b[49m\u001b[43mtimeout\u001b[49m\u001b[38;5;241;43m=\u001b[39;49m\u001b[43mtimeout\u001b[49m\u001b[43m)\u001b[49m\n\u001b[1;32m    333\u001b[0m decoded_obj_result \u001b[38;5;241m=\u001b[39m json\u001b[38;5;241m.\u001b[39mloads(res\u001b[38;5;241m.\u001b[39mobj_result)\n\u001b[1;32m    334\u001b[0m \u001b[38;5;28;01mif\u001b[39;00m \u001b[38;5;28misinstance\u001b[39m(res, RouteResult):\n",
      "File \u001b[0;32m/opt/conda/lib/python3.9/site-packages/dropbox/dropbox_client.py:476\u001b[0m, in \u001b[0;36m_DropboxTransport.request_json_string_with_retry\u001b[0;34m(self, host, route_name, route_style, request_json_arg, auth_type, request_binary, timeout)\u001b[0m\n\u001b[1;32m    474\u001b[0m \u001b[38;5;28mself\u001b[39m\u001b[38;5;241m.\u001b[39m_logger\u001b[38;5;241m.\u001b[39minfo(\u001b[38;5;124m'\u001b[39m\u001b[38;5;124mRequest to \u001b[39m\u001b[38;5;132;01m%s\u001b[39;00m\u001b[38;5;124m'\u001b[39m, route_name)\n\u001b[1;32m    475\u001b[0m \u001b[38;5;28;01mtry\u001b[39;00m:\n\u001b[0;32m--> 476\u001b[0m     \u001b[38;5;28;01mreturn\u001b[39;00m \u001b[38;5;28;43mself\u001b[39;49m\u001b[38;5;241;43m.\u001b[39;49m\u001b[43mrequest_json_string\u001b[49m\u001b[43m(\u001b[49m\u001b[43mhost\u001b[49m\u001b[43m,\u001b[49m\n\u001b[1;32m    477\u001b[0m \u001b[43m                                    \u001b[49m\u001b[43mroute_name\u001b[49m\u001b[43m,\u001b[49m\n\u001b[1;32m    478\u001b[0m \u001b[43m                                    \u001b[49m\u001b[43mroute_style\u001b[49m\u001b[43m,\u001b[49m\n\u001b[1;32m    479\u001b[0m \u001b[43m                                    \u001b[49m\u001b[43mrequest_json_arg\u001b[49m\u001b[43m,\u001b[49m\n\u001b[1;32m    480\u001b[0m \u001b[43m                                    \u001b[49m\u001b[43mauth_type\u001b[49m\u001b[43m,\u001b[49m\n\u001b[1;32m    481\u001b[0m \u001b[43m                                    \u001b[49m\u001b[43mrequest_binary\u001b[49m\u001b[43m,\u001b[49m\n\u001b[1;32m    482\u001b[0m \u001b[43m                                    \u001b[49m\u001b[43mtimeout\u001b[49m\u001b[38;5;241;43m=\u001b[39;49m\u001b[43mtimeout\u001b[49m\u001b[43m)\u001b[49m\n\u001b[1;32m    483\u001b[0m \u001b[38;5;28;01mexcept\u001b[39;00m AuthError \u001b[38;5;28;01mas\u001b[39;00m e:\n\u001b[1;32m    484\u001b[0m     \u001b[38;5;28;01mif\u001b[39;00m e\u001b[38;5;241m.\u001b[39merror \u001b[38;5;129;01mand\u001b[39;00m e\u001b[38;5;241m.\u001b[39merror\u001b[38;5;241m.\u001b[39mis_expired_access_token():\n",
      "File \u001b[0;32m/opt/conda/lib/python3.9/site-packages/dropbox/dropbox_client.py:596\u001b[0m, in \u001b[0;36m_DropboxTransport.request_json_string\u001b[0;34m(self, host, func_name, route_style, request_json_arg, auth_type, request_binary, timeout)\u001b[0m\n\u001b[1;32m    587\u001b[0m     timeout \u001b[38;5;241m=\u001b[39m \u001b[38;5;28mself\u001b[39m\u001b[38;5;241m.\u001b[39m_timeout\n\u001b[1;32m    589\u001b[0m r \u001b[38;5;241m=\u001b[39m \u001b[38;5;28mself\u001b[39m\u001b[38;5;241m.\u001b[39m_session\u001b[38;5;241m.\u001b[39mpost(url,\n\u001b[1;32m    590\u001b[0m                        headers\u001b[38;5;241m=\u001b[39mheaders,\n\u001b[1;32m    591\u001b[0m                        data\u001b[38;5;241m=\u001b[39mbody,\n\u001b[0;32m   (...)\u001b[0m\n\u001b[1;32m    594\u001b[0m                        timeout\u001b[38;5;241m=\u001b[39mtimeout,\n\u001b[1;32m    595\u001b[0m                        )\n\u001b[0;32m--> 596\u001b[0m \u001b[38;5;28;43mself\u001b[39;49m\u001b[38;5;241;43m.\u001b[39;49m\u001b[43mraise_dropbox_error_for_resp\u001b[49m\u001b[43m(\u001b[49m\u001b[43mr\u001b[49m\u001b[43m)\u001b[49m\n\u001b[1;32m    597\u001b[0m request_id \u001b[38;5;241m=\u001b[39m r\u001b[38;5;241m.\u001b[39mheaders\u001b[38;5;241m.\u001b[39mget(\u001b[38;5;124m'\u001b[39m\u001b[38;5;124mx-dropbox-request-id\u001b[39m\u001b[38;5;124m'\u001b[39m)\n\u001b[1;32m    598\u001b[0m \u001b[38;5;28;01mif\u001b[39;00m r\u001b[38;5;241m.\u001b[39mstatus_code \u001b[38;5;129;01min\u001b[39;00m (\u001b[38;5;241m403\u001b[39m, \u001b[38;5;241m404\u001b[39m, \u001b[38;5;241m409\u001b[39m):\n",
      "File \u001b[0;32m/opt/conda/lib/python3.9/site-packages/dropbox/dropbox_client.py:639\u001b[0m, in \u001b[0;36m_DropboxTransport.raise_dropbox_error_for_resp\u001b[0;34m(self, res)\u001b[0m\n\u001b[1;32m    634\u001b[0m     \u001b[38;5;28;01massert\u001b[39;00m res\u001b[38;5;241m.\u001b[39mheaders\u001b[38;5;241m.\u001b[39mget(\u001b[38;5;124m'\u001b[39m\u001b[38;5;124mcontent-type\u001b[39m\u001b[38;5;124m'\u001b[39m) \u001b[38;5;241m==\u001b[39m \u001b[38;5;124m'\u001b[39m\u001b[38;5;124mapplication/json\u001b[39m\u001b[38;5;124m'\u001b[39m, (\n\u001b[1;32m    635\u001b[0m         \u001b[38;5;124m'\u001b[39m\u001b[38;5;124mExpected content-type to be application/json, got \u001b[39m\u001b[38;5;132;01m%r\u001b[39;00m\u001b[38;5;124m'\u001b[39m \u001b[38;5;241m%\u001b[39m\n\u001b[1;32m    636\u001b[0m         res\u001b[38;5;241m.\u001b[39mheaders\u001b[38;5;241m.\u001b[39mget(\u001b[38;5;124m'\u001b[39m\u001b[38;5;124mcontent-type\u001b[39m\u001b[38;5;124m'\u001b[39m))\n\u001b[1;32m    637\u001b[0m     err \u001b[38;5;241m=\u001b[39m stone_serializers\u001b[38;5;241m.\u001b[39mjson_compat_obj_decode(\n\u001b[1;32m    638\u001b[0m         AuthError_validator, res\u001b[38;5;241m.\u001b[39mjson()[\u001b[38;5;124m'\u001b[39m\u001b[38;5;124merror\u001b[39m\u001b[38;5;124m'\u001b[39m])\n\u001b[0;32m--> 639\u001b[0m     \u001b[38;5;28;01mraise\u001b[39;00m AuthError(request_id, err)\n\u001b[1;32m    640\u001b[0m \u001b[38;5;28;01melif\u001b[39;00m res\u001b[38;5;241m.\u001b[39mstatus_code \u001b[38;5;241m==\u001b[39m HTTP_STATUS_INVALID_PATH_ROOT:\n\u001b[1;32m    641\u001b[0m     err \u001b[38;5;241m=\u001b[39m stone_serializers\u001b[38;5;241m.\u001b[39mjson_compat_obj_decode(\n\u001b[1;32m    642\u001b[0m         PathRootError_validator, res\u001b[38;5;241m.\u001b[39mjson()[\u001b[38;5;124m'\u001b[39m\u001b[38;5;124merror\u001b[39m\u001b[38;5;124m'\u001b[39m])\n",
      "\u001b[0;31mAuthError\u001b[0m: AuthError('474864221c754b0ea0816cb21c699500', AuthError('invalid_access_token', None))"
     ]
    }
   ],
   "source": [
    "import pathlib\n",
    "import dropbox\n",
    "import re\n",
    "import os\n",
    "def getListOfFiles(dirName):\n",
    "\n",
    "    listOfFile = os.listdir(dirName)\n",
    "    allFiles = list()\n",
    "   \n",
    "    for entry in listOfFile:\n",
    "        \n",
    "        fullPath = os.path.join(dirName, entry)\n",
    "        \n",
    "        if os.path.isdir(fullPath):\n",
    "            allFiles = allFiles + getListOfFiles(fullPath)\n",
    "        else:\n",
    "            allFiles.append(fullPath)\n",
    "                \n",
    "    return allFiles \n",
    "\n",
    "directory=\"/home/jovyan/work/ds-curriculum/080-volatility-forecasting-in-india\"\n",
    "listOfFiles = getListOfFiles(directory)\n",
    "for (dirpath, dirnames, filenames) in os.walk(directory):\n",
    "        listOfFiles += [os.path.join(dirpath, file) for file in filenames]\n",
    "total=len(listOfFiles)\n",
    "i=0\n",
    "for elem in listOfFiles:\n",
    "        \n",
    "    filepath= os.path.join(directory,elem)\n",
    "    i=i+1\n",
    "\n",
    "    folder = pathlib.Path(\".\")   \n",
    "    filename = filepath         \n",
    "    print(\"Progress: \"+str(round((float(i)/float(total))*100,2))+\"% - \"+filename, end='\\r')\n",
    "    filepath = folder / filename  \n",
    "\n",
    "   \n",
    "    target = \"/WQUFolder\"             \n",
    "    targetfile = target + filename   \n",
    "\n",
    "   \n",
    "    d = dropbox.Dropbox('sl.BVHnaE4PEjllTdXKbHFoZ_EcbRbkZEcFjffC1o6fl01jTB0U7pxgvMCnCzc8Nt9CojJvJST9gxuUZnyFH3udAa6j71guaf3YTYbzyurgHIqLKLQ7IEA0vxt8jCklQSt3W-0C9ok')\n",
    "\n",
    "    \n",
    "    with filepath.open(\"rb\") as f:\n",
    "\n",
    "       meta = d.files_upload(f.read(), targetfile, mode=dropbox.files.WriteMode(\"overwrite\"))\n",
    "\n",
    "print(\"Done!\")\n"
   ]
  },
  {
   "cell_type": "code",
   "execution_count": 71,
   "id": "d2808c6b-4607-40c9-8674-0b04e4bf3f93",
   "metadata": {
    "deletable": false
   },
   "outputs": [
    {
     "data": {
      "text/plain": [
       "{'ticker': 'MTN',\n",
       " 'n_days': 5,\n",
       " 'success': True,\n",
       " 'forecast': {'2022-12-16T00:00:00': 2.0420007174027135,\n",
       "  '2022-12-19T00:00:00': 2.0378698767733323,\n",
       "  '2022-12-20T00:00:00': 2.0338326141927747,\n",
       "  '2022-12-21T00:00:00': 2.0298869737374248,\n",
       "  '2022-12-22T00:00:00': 2.026031033633013},\n",
       " 'message': ''}"
      ]
     },
     "execution_count": 71,
     "metadata": {},
     "output_type": "execute_result"
    }
   ],
   "source": [
    "submission_8521 = response.json()\n",
    "submission_8521"
   ]
  },
  {
   "cell_type": "code",
   "execution_count": 72,
   "id": "e4713ff4-7e12-4328-962e-c8688819c54a",
   "metadata": {
    "deletable": false,
    "editable": false
   },
   "outputs": [
    {
     "ename": "Exception",
     "evalue": "Could not grade submission: Could not verify access to this assessment: Received error from WQET submission API: Could not find existing program enrollment for user",
     "output_type": "error",
     "traceback": [
      "\u001b[0;31m---------------------------------------------------------------------------\u001b[0m",
      "\u001b[0;31mException\u001b[0m                                 Traceback (most recent call last)",
      "Cell \u001b[0;32mIn [72], line 1\u001b[0m\n\u001b[0;32m----> 1\u001b[0m wqet_grader\u001b[38;5;241m.\u001b[39mgrade(\u001b[38;5;124m\"\u001b[39m\u001b[38;5;124mProject 8 Assessment\u001b[39m\u001b[38;5;124m\"\u001b[39m, \u001b[38;5;124m\"\u001b[39m\u001b[38;5;124mTask 8.5.21\u001b[39m\u001b[38;5;124m\"\u001b[39m, submission_8521)\n",
      "File \u001b[0;32m/opt/conda/lib/python3.9/site-packages/wqet_grader/__init__.py:182\u001b[0m, in \u001b[0;36mgrade\u001b[0;34m(assessment_id, question_id, submission)\u001b[0m\n\u001b[1;32m    177\u001b[0m \u001b[38;5;28;01mdef\u001b[39;00m \u001b[38;5;21mgrade\u001b[39m(assessment_id, question_id, submission):\n\u001b[1;32m    178\u001b[0m   submission_object \u001b[38;5;241m=\u001b[39m {\n\u001b[1;32m    179\u001b[0m     \u001b[38;5;124m'\u001b[39m\u001b[38;5;124mtype\u001b[39m\u001b[38;5;124m'\u001b[39m: \u001b[38;5;124m'\u001b[39m\u001b[38;5;124msimple\u001b[39m\u001b[38;5;124m'\u001b[39m,\n\u001b[1;32m    180\u001b[0m     \u001b[38;5;124m'\u001b[39m\u001b[38;5;124margument\u001b[39m\u001b[38;5;124m'\u001b[39m: [submission]\n\u001b[1;32m    181\u001b[0m   }\n\u001b[0;32m--> 182\u001b[0m   \u001b[38;5;28;01mreturn\u001b[39;00m show_score(\u001b[43mgrade_submission\u001b[49m\u001b[43m(\u001b[49m\u001b[43massessment_id\u001b[49m\u001b[43m,\u001b[49m\u001b[43m \u001b[49m\u001b[43mquestion_id\u001b[49m\u001b[43m,\u001b[49m\u001b[43m \u001b[49m\u001b[43msubmission_object\u001b[49m\u001b[43m)\u001b[49m)\n",
      "File \u001b[0;32m/opt/conda/lib/python3.9/site-packages/wqet_grader/transport.py:146\u001b[0m, in \u001b[0;36mgrade_submission\u001b[0;34m(assessment_id, question_id, submission_object)\u001b[0m\n\u001b[1;32m    144\u001b[0m     \u001b[38;5;28;01mraise\u001b[39;00m \u001b[38;5;167;01mException\u001b[39;00m(\u001b[38;5;124m'\u001b[39m\u001b[38;5;124mGrader raised error: \u001b[39m\u001b[38;5;132;01m{}\u001b[39;00m\u001b[38;5;124m'\u001b[39m\u001b[38;5;241m.\u001b[39mformat(error[\u001b[38;5;124m'\u001b[39m\u001b[38;5;124mmessage\u001b[39m\u001b[38;5;124m'\u001b[39m]))\n\u001b[1;32m    145\u001b[0m   \u001b[38;5;28;01melse\u001b[39;00m:\n\u001b[0;32m--> 146\u001b[0m     \u001b[38;5;28;01mraise\u001b[39;00m \u001b[38;5;167;01mException\u001b[39;00m(\u001b[38;5;124m'\u001b[39m\u001b[38;5;124mCould not grade submission: \u001b[39m\u001b[38;5;132;01m{}\u001b[39;00m\u001b[38;5;124m'\u001b[39m\u001b[38;5;241m.\u001b[39mformat(error[\u001b[38;5;124m'\u001b[39m\u001b[38;5;124mmessage\u001b[39m\u001b[38;5;124m'\u001b[39m]))\n\u001b[1;32m    147\u001b[0m result \u001b[38;5;241m=\u001b[39m envelope[\u001b[38;5;124m'\u001b[39m\u001b[38;5;124mdata\u001b[39m\u001b[38;5;124m'\u001b[39m][\u001b[38;5;124m'\u001b[39m\u001b[38;5;124mresult\u001b[39m\u001b[38;5;124m'\u001b[39m]\n\u001b[1;32m    149\u001b[0m \u001b[38;5;66;03m# Used only in testing\u001b[39;00m\n",
      "\u001b[0;31mException\u001b[0m: Could not grade submission: Could not verify access to this assessment: Received error from WQET submission API: Could not find existing program enrollment for user"
     ]
    }
   ],
   "source": [
    "wqet_grader.grade(\"Project 8 Assessment\", \"Task 8.5.21\", submission_8521)"
   ]
  },
  {
   "cell_type": "markdown",
   "id": "792f0ecb",
   "metadata": {
    "deletable": false,
    "editable": false
   },
   "source": [
    "---\n",
    "Copyright © 2022 WorldQuant University. This\n",
    "content is licensed solely for personal use. Redistribution or\n",
    "publication of this material is strictly prohibited.\n"
   ]
  }
 ],
 "metadata": {
  "kernelspec": {
   "display_name": "Python 3 (ipykernel)",
   "language": "python",
   "name": "python3"
  },
  "language_info": {
   "codemirror_mode": {
    "name": "ipython",
    "version": 3
   },
   "file_extension": ".py",
   "mimetype": "text/x-python",
   "name": "python",
   "nbconvert_exporter": "python",
   "pygments_lexer": "ipython3",
   "version": "3.9.6"
  }
 },
 "nbformat": 4,
 "nbformat_minor": 5
}
