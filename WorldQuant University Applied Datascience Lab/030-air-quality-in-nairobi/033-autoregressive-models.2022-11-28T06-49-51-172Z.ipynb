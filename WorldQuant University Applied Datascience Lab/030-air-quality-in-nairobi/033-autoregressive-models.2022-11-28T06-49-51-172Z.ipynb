{
 "cells": [
  {
   "cell_type": "markdown",
   "id": "da0b1108-1533-44cb-9ca3-97c6cccd6a5e",
   "metadata": {
    "deletable": false,
    "editable": false
   },
   "source": [
    "<font size=\"+3\"><strong>3.3. Autoregressive Models</strong></font>"
   ]
  },
  {
   "cell_type": "code",
   "execution_count": 69,
   "id": "2a2428fb-63b3-47b2-94c2-34501f9e3f3e",
   "metadata": {
    "deletable": false,
    "editable": false,
    "init_cell": true
   },
   "outputs": [],
   "source": [
    "import warnings\n",
    "\n",
    "import matplotlib.pyplot as plt\n",
    "import pandas as pd\n",
    "import plotly.express as px\n",
    "from IPython.display import VimeoVideo\n",
    "from pymongo import MongoClient\n",
    "from sklearn.metrics import mean_absolute_error\n",
    "from statsmodels.graphics.tsaplots import plot_acf, plot_pacf\n",
    "from statsmodels.tsa.ar_model import AutoReg\n",
    "\n",
    "warnings.simplefilter(action=\"ignore\", category=FutureWarning)"
   ]
  },
  {
   "cell_type": "code",
   "execution_count": 70,
   "id": "9eca7320-2e2e-4b55-a563-309800e09daa",
   "metadata": {},
   "outputs": [],
   "source": [
    "from IPython.display import VimeoVideo"
   ]
  },
  {
   "cell_type": "code",
   "execution_count": 71,
   "id": "38e20181-2307-4291-a9ea-26c84453f377",
   "metadata": {
    "deletable": false,
    "editable": false,
    "init_cell": true
   },
   "outputs": [
    {
     "data": {
      "text/html": [
       "\n",
       "        <iframe\n",
       "            width=\"600\"\n",
       "            height=\"300\"\n",
       "            src=\"https://player.vimeo.com/video/665851858?h=e39fc3d260\"\n",
       "            frameborder=\"0\"\n",
       "            allowfullscreen\n",
       "            \n",
       "        ></iframe>\n",
       "        "
      ],
      "text/plain": [
       "<IPython.lib.display.VimeoVideo at 0x7fb510dd2b20>"
      ]
     },
     "execution_count": 71,
     "metadata": {},
     "output_type": "execute_result"
    }
   ],
   "source": [
    "VimeoVideo(\"665851858\", h=\"e39fc3d260\", width=600)"
   ]
  },
  {
   "cell_type": "markdown",
   "id": "19b28a2d-f364-4479-99f4-273cfcbd59e2",
   "metadata": {
    "deletable": false,
    "editable": false
   },
   "source": [
    "# Prepare Data"
   ]
  },
  {
   "cell_type": "markdown",
   "id": "00ce3f87-f7f4-482c-9c41-09173cdcefbb",
   "metadata": {
    "deletable": false,
    "editable": false,
    "tags": []
   },
   "source": [
    "## Import"
   ]
  },
  {
   "cell_type": "code",
   "execution_count": 3,
   "id": "9da64f93-2a92-46a7-8541-4bee1807745e",
   "metadata": {
    "deletable": false,
    "editable": false,
    "init_cell": true
   },
   "outputs": [
    {
     "data": {
      "text/html": [
       "\n",
       "        <iframe\n",
       "            width=\"600\"\n",
       "            height=\"300\"\n",
       "            src=\"https://player.vimeo.com/video/665851852?h=16aa0a56e6\"\n",
       "            frameborder=\"0\"\n",
       "            allowfullscreen\n",
       "            \n",
       "        ></iframe>\n",
       "        "
      ],
      "text/plain": [
       "<IPython.lib.display.VimeoVideo at 0x7fb5302a5fa0>"
      ]
     },
     "execution_count": 3,
     "metadata": {},
     "output_type": "execute_result"
    }
   ],
   "source": [
    "VimeoVideo(\"665851852\", h=\"16aa0a56e6\", width=600)"
   ]
  },
  {
   "cell_type": "markdown",
   "id": "4664b45c-ad3f-42e7-95c9-d1a566a31af1",
   "metadata": {
    "deletable": false,
    "editable": false
   },
   "source": [
    "**Task 3.3.1:** Complete to the create a client to connect to the MongoDB server, assigns the `\"air-quality\"` database to `db`, and assigned the `\"nairobi\"` connection to `nairobi`.\n",
    "\n",
    "- [<span id='technique'>Create a client object for a <span id='tool'>MongoDB</span> instance.](../%40textbook/11-databases-mongodb.ipynb#Servers-and-Clients) \n",
    "- [<span id='technique'>Access a database using <span id='tool'>PyMongo.](../%40textbook/11-databases-mongodb.ipynb#Servers-and-Clients)\n",
    "- [<span id='technique'>Access a collection in a database using <span id='tool'>PyMongo.](../%40textbook/11-databases-mongodb.ipynb#Collections)"
   ]
  },
  {
   "cell_type": "code",
   "execution_count": 4,
   "id": "9fe15e42-c61c-4d0b-8372-6c8e61409c2a",
   "metadata": {
    "deletable": false
   },
   "outputs": [],
   "source": [
    "client = MongoClient(host=\"localhost\",port=27017)\n",
    "db = client[\"air-quality\"]\n",
    "nairobi = db[\"nairobi\"]"
   ]
  },
  {
   "cell_type": "code",
   "execution_count": 5,
   "id": "ffb6d217-6809-42ed-bd49-939b92c64d40",
   "metadata": {
    "deletable": false,
    "editable": false,
    "init_cell": true
   },
   "outputs": [
    {
     "data": {
      "text/html": [
       "\n",
       "        <iframe\n",
       "            width=\"600\"\n",
       "            height=\"300\"\n",
       "            src=\"https://player.vimeo.com/video/665851840?h=e048425f49\"\n",
       "            frameborder=\"0\"\n",
       "            allowfullscreen\n",
       "            \n",
       "        ></iframe>\n",
       "        "
      ],
      "text/plain": [
       "<IPython.lib.display.VimeoVideo at 0x7fb47a9c1220>"
      ]
     },
     "execution_count": 5,
     "metadata": {},
     "output_type": "execute_result"
    }
   ],
   "source": [
    "VimeoVideo(\"665851840\", h=\"e048425f49\", width=600)"
   ]
  },
  {
   "cell_type": "markdown",
   "id": "2d69b42e-025e-46ac-a4cb-2623d8f155a1",
   "metadata": {
    "deletable": false,
    "editable": false
   },
   "source": [
    "**Task 3.3.2:** Change the `wrangle` function below so that it returns a Series of the resampled data instead of a DataFrame."
   ]
  },
  {
   "cell_type": "code",
   "execution_count": 72,
   "id": "7ed78dd3-1e79-453f-867e-a6a092eb80a9",
   "metadata": {
    "deletable": false
   },
   "outputs": [],
   "source": [
    "def wrangle(collection):\n",
    "    results = collection.find(\n",
    "        {\"metadata.site\": 29, \"metadata.measurement\": \"P2\"},\n",
    "        projection={\"P2\": 1, \"timestamp\": 1, \"_id\": 0},\n",
    "    )\n",
    "\n",
    "    # Read data into DataFrame\n",
    "    df = pd.DataFrame(list(results)).set_index(\"timestamp\")\n",
    "\n",
    "    # Localize timezone\n",
    "    df.index = df.index.tz_localize(\"UTC\").tz_convert(\"Africa/Nairobi\")\n",
    "\n",
    "    # Remove outliers\n",
    "    df = df[df[\"P2\"] < 500]\n",
    "\n",
    "    # Resample to 1hr window\n",
    "    y = df[\"P2\"].resample(\"1H\").mean().fillna(method='ffill')\n",
    "\n",
    "    return y"
   ]
  },
  {
   "cell_type": "markdown",
   "id": "18d44196-3c70-4bf7-a2e0-3e061480be1d",
   "metadata": {
    "deletable": false,
    "editable": false
   },
   "source": [
    "**Task 3.3.3:** Use your wrangle function to read the data from the `nairobi` collection into the Series `y`."
   ]
  },
  {
   "cell_type": "code",
   "execution_count": 73,
   "id": "51ac4862-d53e-4ec9-8c30-b97be3156a7e",
   "metadata": {
    "deletable": false
   },
   "outputs": [
    {
     "data": {
      "text/plain": [
       "timestamp\n",
       "2018-09-01 03:00:00+03:00    17.541667\n",
       "2018-09-01 04:00:00+03:00    15.800000\n",
       "2018-09-01 05:00:00+03:00    11.420000\n",
       "2018-09-01 06:00:00+03:00    11.614167\n",
       "2018-09-01 07:00:00+03:00    17.665000\n",
       "Freq: H, Name: P2, dtype: float64"
      ]
     },
     "execution_count": 73,
     "metadata": {},
     "output_type": "execute_result"
    }
   ],
   "source": [
    "y = wrangle(nairobi)\n",
    "y.head()"
   ]
  },
  {
   "cell_type": "code",
   "execution_count": 74,
   "id": "bc377937-46d2-4b73-b79a-acf4fd37603b",
   "metadata": {
    "deletable": false
   },
   "outputs": [],
   "source": [
    "# Check your work\n",
    "assert isinstance(y, pd.Series), f\"`y` should be a Series, not type {type(y)}\"\n",
    "assert len(y) == 2928, f\"`y` should have 2928 observations, not {len(y)}\"\n",
    "assert y.isnull().sum() == 0"
   ]
  },
  {
   "cell_type": "markdown",
   "id": "8730fa2c-0970-42b1-bb18-d334bd8d8b2d",
   "metadata": {
    "deletable": false,
    "editable": false
   },
   "source": [
    "## Explore"
   ]
  },
  {
   "cell_type": "code",
   "execution_count": 14,
   "id": "86d3d7a9-ac9d-47f6-8b7e-d2eeda8e5d42",
   "metadata": {
    "deletable": false,
    "editable": false,
    "init_cell": true
   },
   "outputs": [
    {
     "data": {
      "text/html": [
       "\n",
       "        <iframe\n",
       "            width=\"600\"\n",
       "            height=\"300\"\n",
       "            src=\"https://player.vimeo.com/video/665851830?h=85f58bc92b\"\n",
       "            frameborder=\"0\"\n",
       "            allowfullscreen\n",
       "            \n",
       "        ></iframe>\n",
       "        "
      ],
      "text/plain": [
       "<IPython.lib.display.VimeoVideo at 0x7fb47a9c10a0>"
      ]
     },
     "execution_count": 14,
     "metadata": {},
     "output_type": "execute_result"
    }
   ],
   "source": [
    "VimeoVideo(\"665851830\", h=\"85f58bc92b\", width=600)"
   ]
  },
  {
   "cell_type": "markdown",
   "id": "a5829db3-8427-4f78-81b7-d4068ad5d480",
   "metadata": {
    "deletable": false,
    "editable": false
   },
   "source": [
    "**Task 3.3.4:** Create an ACF plot for the data in `y`. Be sure to label the x-axis as `\"Lag [hours]\"` and the y-axis as `\"Correlation Coefficient\"`.\n",
    "\n",
    "- [What's an <span id='term'>ACF plot?](../%40textbook/17-ts-core.ipynb#ACF-Plot)\n",
    "- [<span id='technique'>Create an ACF plot using <span id='tool'>statsmodels](../%40textbook/18-ts-models.ipynb#Creating-an-ACF-Plot)"
   ]
  },
  {
   "cell_type": "code",
   "execution_count": 75,
   "id": "bda3cfc3-6353-4c19-806c-d91b7e44ad5c",
   "metadata": {
    "deletable": false
   },
   "outputs": [
    {
     "data": {
      "image/png": "[encoded data removed]",
      "text/plain": [
       "<Figure size 1080x432 with 1 Axes>"
      ]
     },
     "metadata": {
      "needs_background": "light"
     },
     "output_type": "display_data"
    }
   ],
   "source": [
    "fig, ax = plt.subplots(figsize=(15, 6))\n",
    "plot_acf(y,ax=ax)\n",
    "plt.xlabel(\"Lag [hours]\")\n",
    "plt.ylabel(\"Correlation Coefficient\");"
   ]
  },
  {
   "cell_type": "code",
   "execution_count": 23,
   "id": "4e32a266-ac58-40ab-8344-3d9023745828",
   "metadata": {
    "deletable": false,
    "editable": false,
    "init_cell": true
   },
   "outputs": [
    {
     "data": {
      "text/html": [
       "\n",
       "        <iframe\n",
       "            width=\"600\"\n",
       "            height=\"300\"\n",
       "            src=\"https://player.vimeo.com/video/665851811?h=ee3a2b5c24\"\n",
       "            frameborder=\"0\"\n",
       "            allowfullscreen\n",
       "            \n",
       "        ></iframe>\n",
       "        "
      ],
      "text/plain": [
       "<IPython.lib.display.VimeoVideo at 0x7fb462444b50>"
      ]
     },
     "execution_count": 23,
     "metadata": {},
     "output_type": "execute_result"
    }
   ],
   "source": [
    "VimeoVideo(\"665851811\", h=\"ee3a2b5c24\", width=600)"
   ]
  },
  {
   "cell_type": "code",
   "execution_count": 25,
   "id": "70d04440-c960-4900-9db1-47d2b58636b7",
   "metadata": {},
   "outputs": [
    {
     "data": {
      "text/plain": [
       "0.6506810900745511"
      ]
     },
     "execution_count": 25,
     "metadata": {},
     "output_type": "execute_result"
    }
   ],
   "source": [
    "y.shift(1).corr(y.shift(2))"
   ]
  },
  {
   "cell_type": "markdown",
   "id": "fbda5fe7-9fc3-424f-99f6-fc8131ae11ec",
   "metadata": {
    "deletable": false,
    "editable": false
   },
   "source": [
    "**Task 3.3.5:** Create an PACF plot for the data in `y`. Be sure to label the x-axis as `\"Lag [hours]\"` and the y-axis as `\"Correlation Coefficient\"`.\n",
    "\n",
    "- [What's an <span id='term'>PACF plot?](../%40textbook/17-ts-core.ipynb#PACF-Plot)\n",
    "- [<span id='technique'>Create an PACF plot using <span id='tool'>statsmodels](../%40textbook/18-ts-models.ipynb#Creating-a-PACF-Plot)"
   ]
  },
  {
   "cell_type": "code",
   "execution_count": 26,
   "id": "c8df06e5-8c82-4f97-af26-baa3c2eaa6d6",
   "metadata": {
    "deletable": false
   },
   "outputs": [
    {
     "data": {
      "image/png": "[encoded data removed]",
      "text/plain": [
       "<Figure size 1080x432 with 1 Axes>"
      ]
     },
     "metadata": {
      "needs_background": "light"
     },
     "output_type": "display_data"
    }
   ],
   "source": [
    "fig, ax = plt.subplots(figsize=(15, 6))\n",
    "plot_pacf(y,ax=ax)\n",
    "plt.xlabel(\"Lag [hours]\")\n",
    "plt.ylabel(\"Correlation Coefficient\");"
   ]
  },
  {
   "cell_type": "markdown",
   "id": "c21e2444-6d8b-4e01-8033-881720d97069",
   "metadata": {
    "deletable": false,
    "editable": false
   },
   "source": [
    "## Split"
   ]
  },
  {
   "cell_type": "code",
   "execution_count": 27,
   "id": "4babfeaf-69c4-4827-8c55-e3df0c482c66",
   "metadata": {
    "deletable": false,
    "editable": false,
    "init_cell": true
   },
   "outputs": [
    {
     "data": {
      "text/html": [
       "\n",
       "        <iframe\n",
       "            width=\"600\"\n",
       "            height=\"300\"\n",
       "            src=\"https://player.vimeo.com/video/665851798?h=6c191cd94c\"\n",
       "            frameborder=\"0\"\n",
       "            allowfullscreen\n",
       "            \n",
       "        ></iframe>\n",
       "        "
      ],
      "text/plain": [
       "<IPython.lib.display.VimeoVideo at 0x7fb4624b74f0>"
      ]
     },
     "execution_count": 27,
     "metadata": {},
     "output_type": "execute_result"
    }
   ],
   "source": [
    "VimeoVideo(\"665851798\", h=\"6c191cd94c\", width=600)"
   ]
  },
  {
   "cell_type": "markdown",
   "id": "8ab7de17-39eb-4098-ac2d-f1202cd622b6",
   "metadata": {
    "deletable": false,
    "editable": false
   },
   "source": [
    "**Task 3.3.6:** Split `y` into training and test sets. The first 95% of the data should be in your training set. The remaining 5% should be in the test set.\n",
    "\n",
    "- [<span id='technique'>Divide data into training and test sets in <span id='tool'>pandas.](../%40textbook/18-ts-models.ipynb#Splitting-the-Data-in-pandas)"
   ]
  },
  {
   "cell_type": "code",
   "execution_count": 76,
   "id": "c60edd04-b3d6-497b-8a30-5bdd2ea47383",
   "metadata": {
    "deletable": false
   },
   "outputs": [
    {
     "name": "stdout",
     "output_type": "stream",
     "text": [
      "2781\n"
     ]
    }
   ],
   "source": [
    "cutoff = int(len(y)*0.95)\n",
    "\n",
    "y_train = y.iloc[:cutoff]\n",
    "y_test =  y.iloc[cutoff:]\n",
    "print(len(y_train))"
   ]
  },
  {
   "cell_type": "markdown",
   "id": "3357bfd8-d9b8-4cb0-a777-4865150169ea",
   "metadata": {
    "deletable": false,
    "editable": false
   },
   "source": [
    "# Build Model"
   ]
  },
  {
   "cell_type": "markdown",
   "id": "324141f7-b68d-4128-bdc6-05d4339d31d3",
   "metadata": {
    "deletable": false,
    "editable": false
   },
   "source": [
    "## Baseline"
   ]
  },
  {
   "cell_type": "markdown",
   "id": "a4481ead-912b-483a-a828-1183836eb280",
   "metadata": {
    "deletable": false,
    "editable": false
   },
   "source": [
    "**Task 3.3.7:** Calculate the baseline mean absolute error for your model.\n",
    "\n",
    "- [<span id='technique'>Calculate summary statistics for a DataFrame or Series in <span id='tool'>pandas.](../%40textbook/04-pandas-advanced.ipynb#Calculate-Summary-Statistics-for-a-DataFrame-or-Series)"
   ]
  },
  {
   "cell_type": "code",
   "execution_count": 77,
   "id": "e2acfb6f-5296-401f-856d-4d9bccc0c4a7",
   "metadata": {
    "deletable": false
   },
   "outputs": [
    {
     "name": "stdout",
     "output_type": "stream",
     "text": [
      "Mean P2 Reading: 9.22\n",
      "Baseline MAE: 3.71\n"
     ]
    }
   ],
   "source": [
    "y_train_mean = y_train.mean()\n",
    "y_pred_baseline = [y_train_mean] * len(y_train)\n",
    "mae_baseline = mean_absolute_error(y_train, y_pred_baseline)\n",
    "\n",
    "print(\"Mean P2 Reading:\", round(y_train_mean, 2))\n",
    "print(\"Baseline MAE:\", round(mae_baseline, 2))"
   ]
  },
  {
   "cell_type": "markdown",
   "id": "f7b59427-6cbe-4a1a-a927-81bcbacdb28f",
   "metadata": {
    "deletable": false,
    "editable": false
   },
   "source": [
    "## Iterate"
   ]
  },
  {
   "cell_type": "code",
   "execution_count": 32,
   "id": "70c66e0c-48dc-45c6-8525-21e4dd1bcd94",
   "metadata": {
    "deletable": false,
    "editable": false,
    "init_cell": true
   },
   "outputs": [
    {
     "data": {
      "text/html": [
       "\n",
       "        <iframe\n",
       "            width=\"600\"\n",
       "            height=\"300\"\n",
       "            src=\"https://player.vimeo.com/video/665851769?h=94a4296cde\"\n",
       "            frameborder=\"0\"\n",
       "            allowfullscreen\n",
       "            \n",
       "        ></iframe>\n",
       "        "
      ],
      "text/plain": [
       "<IPython.lib.display.VimeoVideo at 0x7fb4623c9f10>"
      ]
     },
     "execution_count": 32,
     "metadata": {},
     "output_type": "execute_result"
    }
   ],
   "source": [
    "VimeoVideo(\"665851769\", h=\"94a4296cde\", width=600)"
   ]
  },
  {
   "cell_type": "markdown",
   "id": "82f28564-9154-4570-ac9a-6aee95e1fb21",
   "metadata": {
    "deletable": false,
    "editable": false
   },
   "source": [
    "**Task 3.3.8:** Instantiate an [`AutoReg`](https://www.statsmodels.org/stable/generated/statsmodels.tsa.ar_model.AutoReg.html) model and fit it to the training data `y_train`. Be sure to set the `lags` argument to `26`.\n",
    "\n",
    "- [What's an <span id='term'>AR model?](../%40textbook/17-ts-core.ipynb#Autoregression-Models)\n",
    "- [<span id='technique'>Instantiate a predictor in <span id='tool'>statsmodels.](../%40textbook/18-ts-models.ipynb#Splitting-the-Data-in-pandas)\n",
    "- [<span id='technique'>Train a model in <span id='tool'>statsmodels.](../%40textbook/18-ts-models.ipynb#Iterating)"
   ]
  },
  {
   "cell_type": "code",
   "execution_count": 78,
   "id": "b73acf9a-c29b-4506-9d5b-91035067a4a3",
   "metadata": {
    "deletable": false
   },
   "outputs": [],
   "source": [
    "model = AutoReg(y_train,lags=26).fit()"
   ]
  },
  {
   "cell_type": "code",
   "execution_count": 35,
   "id": "ee52eb26-e623-4d40-8d41-49dd7cfad152",
   "metadata": {
    "deletable": false,
    "editable": false,
    "init_cell": true
   },
   "outputs": [
    {
     "data": {
      "text/html": [
       "\n",
       "        <iframe\n",
       "            width=\"600\"\n",
       "            height=\"300\"\n",
       "            src=\"https://player.vimeo.com/video/665851746?h=1a4511e883\"\n",
       "            frameborder=\"0\"\n",
       "            allowfullscreen\n",
       "            \n",
       "        ></iframe>\n",
       "        "
      ],
      "text/plain": [
       "<IPython.lib.display.VimeoVideo at 0x7fb4620d7cd0>"
      ]
     },
     "execution_count": 35,
     "metadata": {},
     "output_type": "execute_result"
    }
   ],
   "source": [
    "VimeoVideo(\"665851746\", h=\"1a4511e883\", width=600)"
   ]
  },
  {
   "cell_type": "markdown",
   "id": "3f8df0e4-7bdf-4448-a2df-7f125933242e",
   "metadata": {
    "deletable": false,
    "editable": false
   },
   "source": [
    "**Task 3.3.9:** Generate a list of training predictions for your model and use them to calculate your training mean absolute error. \n",
    "\n",
    "- [<span id='technique'>Generate in-sample predictions for a model in <span id='tool'>statsmodels.](../%40textbook/18-ts-models.ipynb#Iterating)\n",
    "- [<span id='technique'>Calculate the mean absolute error for a list of predictions in <span id='tool'>scikit-learn.](../%40textbook/15-ml-regression.ipynb#Calculating-the-Mean-Absolute-Error-for-a-List-of-Predictions)"
   ]
  },
  {
   "cell_type": "code",
   "execution_count": 79,
   "id": "b9f9dd78-85e9-4c8e-bb48-c8595fa6621c",
   "metadata": {},
   "outputs": [
    {
     "data": {
      "text/plain": [
       "26"
      ]
     },
     "execution_count": 79,
     "metadata": {},
     "output_type": "execute_result"
    }
   ],
   "source": [
    "model.predict().isnull().sum()"
   ]
  },
  {
   "cell_type": "code",
   "execution_count": 80,
   "id": "b277ad1e-8eb0-4ccf-a073-295486fa247a",
   "metadata": {
    "deletable": false
   },
   "outputs": [
    {
     "name": "stdout",
     "output_type": "stream",
     "text": [
      "Training MAE: 2.2809871656467036\n"
     ]
    }
   ],
   "source": [
    "y_pred = model.predict().dropna()\n",
    "training_mae = mean_absolute_error(y_train.iloc[26:],y_pred)\n",
    "print(\"Training MAE:\", training_mae)"
   ]
  },
  {
   "cell_type": "code",
   "execution_count": 42,
   "id": "a519ef88-5f74-414b-877c-038afa9d7111",
   "metadata": {
    "deletable": false,
    "editable": false,
    "init_cell": true
   },
   "outputs": [
    {
     "data": {
      "text/html": [
       "\n",
       "        <iframe\n",
       "            width=\"600\"\n",
       "            height=\"300\"\n",
       "            src=\"https://player.vimeo.com/video/665851744?h=60d053b455\"\n",
       "            frameborder=\"0\"\n",
       "            allowfullscreen\n",
       "            \n",
       "        ></iframe>\n",
       "        "
      ],
      "text/plain": [
       "<IPython.lib.display.VimeoVideo at 0x7fb461b311f0>"
      ]
     },
     "execution_count": 42,
     "metadata": {},
     "output_type": "execute_result"
    }
   ],
   "source": [
    "VimeoVideo(\"665851744\", h=\"60d053b455\", width=600)"
   ]
  },
  {
   "cell_type": "markdown",
   "id": "973c1eab-f79f-4c77-a3fe-e6a464092d3c",
   "metadata": {
    "deletable": false,
    "editable": false
   },
   "source": [
    "**Task 3.3.10:** Use `y_train` and `y_pred` to calculate the residuals for your model.\n",
    "\n",
    "- [What's a <span id='term'>residual?](../%40textbook/12-ml-core.ipynb#Residuals)\n",
    "- [<span id='technique'>Create new columns derived from existing columns in a DataFrame using <span id='tool'>pandas.](../%40textbook/03-pandas-getting-started.ipynb#Adding-Columns)"
   ]
  },
  {
   "cell_type": "code",
   "execution_count": 82,
   "id": "dad3f406-422b-4faf-a5fa-b29d60f61c0c",
   "metadata": {
    "deletable": false
   },
   "outputs": [
    {
     "data": {
      "text/plain": [
       "timestamp\n",
       "2018-12-25 19:00:00+03:00   -0.392002\n",
       "2018-12-25 20:00:00+03:00   -1.573180\n",
       "2018-12-25 21:00:00+03:00   -0.735747\n",
       "2018-12-25 22:00:00+03:00   -2.022221\n",
       "2018-12-25 23:00:00+03:00   -0.061916\n",
       "Freq: H, dtype: float64"
      ]
     },
     "execution_count": 82,
     "metadata": {},
     "output_type": "execute_result"
    }
   ],
   "source": [
    "y_train_resid = model.resid\n",
    "y_train_resid.tail()"
   ]
  },
  {
   "cell_type": "code",
   "execution_count": 45,
   "id": "8553d7cb-6a1f-4390-b641-d12f8123cfd8",
   "metadata": {
    "deletable": false,
    "editable": false,
    "init_cell": true
   },
   "outputs": [
    {
     "data": {
      "text/html": [
       "\n",
       "        <iframe\n",
       "            width=\"600\"\n",
       "            height=\"300\"\n",
       "            src=\"https://player.vimeo.com/video/665851712?h=9ff0cdba9c\"\n",
       "            frameborder=\"0\"\n",
       "            allowfullscreen\n",
       "            \n",
       "        ></iframe>\n",
       "        "
      ],
      "text/plain": [
       "<IPython.lib.display.VimeoVideo at 0x7fb461b316d0>"
      ]
     },
     "execution_count": 45,
     "metadata": {},
     "output_type": "execute_result"
    }
   ],
   "source": [
    "VimeoVideo(\"665851712\", h=\"9ff0cdba9c\", width=600)"
   ]
  },
  {
   "cell_type": "markdown",
   "id": "0d4130f7-cbcb-45d9-9b27-c27871620fcb",
   "metadata": {
    "deletable": false,
    "editable": false
   },
   "source": [
    "**Task 3.3.11:** Create a plot of `y_train_resid`.\n",
    "\n",
    "- [<span id='technique'>Create a line plot using <span id='tool'>pandas.](../%40textbook/07-visualization-pandas.ipynb#Line-Plots)"
   ]
  },
  {
   "cell_type": "code",
   "execution_count": 83,
   "id": "2cc7744d-cc2e-429c-84af-adf5ba487a2b",
   "metadata": {
    "deletable": false
   },
   "outputs": [
    {
     "data": {
      "image/png": "[encoded data removed]",
      "text/plain": [
       "<Figure size 1080x432 with 1 Axes>"
      ]
     },
     "metadata": {
      "needs_background": "light"
     },
     "output_type": "display_data"
    }
   ],
   "source": [
    "fig, ax = plt.subplots(figsize=(15, 6))\n",
    "y_train_resid.plot(ylabel=\"Residual Value\", ax = ax);"
   ]
  },
  {
   "cell_type": "code",
   "execution_count": 47,
   "id": "a8c3eaf6-5fb5-4465-aa42-52375ed5a435",
   "metadata": {
    "deletable": false,
    "editable": false,
    "init_cell": true
   },
   "outputs": [
    {
     "data": {
      "text/html": [
       "\n",
       "        <iframe\n",
       "            width=\"600\"\n",
       "            height=\"300\"\n",
       "            src=\"https://player.vimeo.com/video/665851702?h=b494adc297\"\n",
       "            frameborder=\"0\"\n",
       "            allowfullscreen\n",
       "            \n",
       "        ></iframe>\n",
       "        "
      ],
      "text/plain": [
       "<IPython.lib.display.VimeoVideo at 0x7fb461565a60>"
      ]
     },
     "execution_count": 47,
     "metadata": {},
     "output_type": "execute_result"
    }
   ],
   "source": [
    "VimeoVideo(\"665851702\", h=\"b494adc297\", width=600)"
   ]
  },
  {
   "cell_type": "markdown",
   "id": "de34974c-d25d-4bf9-8b33-f5b91d346c59",
   "metadata": {
    "deletable": false,
    "editable": false
   },
   "source": [
    "**Task 3.3.12:** Create a histogram of `y_train_resid`.\n",
    "\n",
    "- [<span id='technique'>Create a histogram using <span id='tool'>plotly express.](../%40textbook/06-visualization-matplotlib.ipynb#Histograms)"
   ]
  },
  {
   "cell_type": "code",
   "execution_count": 84,
   "id": "f7c63952-50da-4ff1-b781-a2eea54a5071",
   "metadata": {
    "deletable": false
   },
   "outputs": [
    {
     "data": {
      "text/plain": [
       "Text(0.5, 1.0, 'AR(26), Distribution of Residuals')"
      ]
     },
     "execution_count": 84,
     "metadata": {},
     "output_type": "execute_result"
    },
    {
     "data": {
      "image/png": "[encoded data removed]",
      "text/plain": [
       "<Figure size 432x288 with 1 Axes>"
      ]
     },
     "metadata": {
      "needs_background": "light"
     },
     "output_type": "display_data"
    }
   ],
   "source": [
    "y_train_resid.hist()\n",
    "plt.xlabel(\"Residual Value\")\n",
    "plt.ylabel(\"Frequency\")\n",
    "plt.title(\"AR(26), Distribution of Residuals\")"
   ]
  },
  {
   "cell_type": "code",
   "execution_count": 50,
   "id": "a1132cfd-28f3-4ae1-9c51-31eb5acf1e40",
   "metadata": {
    "deletable": false,
    "editable": false,
    "init_cell": true
   },
   "outputs": [
    {
     "data": {
      "text/html": [
       "\n",
       "        <iframe\n",
       "            width=\"600\"\n",
       "            height=\"300\"\n",
       "            src=\"https://player.vimeo.com/video/665851684?h=d6d782a1f3\"\n",
       "            frameborder=\"0\"\n",
       "            allowfullscreen\n",
       "            \n",
       "        ></iframe>\n",
       "        "
      ],
      "text/plain": [
       "<IPython.lib.display.VimeoVideo at 0x7fb4614a54f0>"
      ]
     },
     "execution_count": 50,
     "metadata": {},
     "output_type": "execute_result"
    }
   ],
   "source": [
    "VimeoVideo(\"665851684\", h=\"d6d782a1f3\", width=600)"
   ]
  },
  {
   "cell_type": "markdown",
   "id": "706b0579-4c23-4aee-ab59-10fadfb19dc6",
   "metadata": {
    "deletable": false,
    "editable": false
   },
   "source": [
    "**Task 3.3.13:** Create an ACF plot of `y_train_resid`.\n",
    "\n",
    "- [What's an <span id='term'>ACF plot?](../%40textbook/17-ts-core.ipynb#ACF-Plot)\n",
    "- [<span id='technique'>Create an ACF plot using <span id='tool'>statsmodels](../%40textbook/18-ts-models.ipynb#ACF-Plots)"
   ]
  },
  {
   "cell_type": "code",
   "execution_count": 85,
   "id": "b31cb392-055d-4029-b57f-ef26f89b45c7",
   "metadata": {
    "deletable": false
   },
   "outputs": [
    {
     "data": {
      "image/png": "[encoded data removed]",
      "text/plain": [
       "<Figure size 1080x432 with 1 Axes>"
      ]
     },
     "execution_count": 85,
     "metadata": {},
     "output_type": "execute_result"
    },
    {
     "data": {
      "image/png": "[encoded data removed]",
      "text/plain": [
       "<Figure size 1080x432 with 1 Axes>"
      ]
     },
     "metadata": {
      "needs_background": "light"
     },
     "output_type": "display_data"
    }
   ],
   "source": [
    "fig, ax = plt.subplots(figsize=(15, 6))\n",
    "plot_acf(y_train_resid,ax=ax)"
   ]
  },
  {
   "cell_type": "markdown",
   "id": "67b7658d-3e87-40c4-8a9e-aa6195bbd328",
   "metadata": {
    "deletable": false,
    "editable": false
   },
   "source": [
    "## Evaluate"
   ]
  },
  {
   "cell_type": "code",
   "execution_count": 52,
   "id": "c17200fd-545e-45b4-b538-49519d08d767",
   "metadata": {
    "deletable": false,
    "editable": false,
    "init_cell": true
   },
   "outputs": [
    {
     "data": {
      "text/html": [
       "\n",
       "        <iframe\n",
       "            width=\"600\"\n",
       "            height=\"300\"\n",
       "            src=\"https://player.vimeo.com/video/665851662?h=72e767e121\"\n",
       "            frameborder=\"0\"\n",
       "            allowfullscreen\n",
       "            \n",
       "        ></iframe>\n",
       "        "
      ],
      "text/plain": [
       "<IPython.lib.display.VimeoVideo at 0x7fb461ce63a0>"
      ]
     },
     "execution_count": 52,
     "metadata": {},
     "output_type": "execute_result"
    }
   ],
   "source": [
    "VimeoVideo(\"665851662\", h=\"72e767e121\", width=600)"
   ]
  },
  {
   "cell_type": "code",
   "execution_count": 86,
   "id": "6e99f126-474f-444b-aa9a-a53ebe000ade",
   "metadata": {},
   "outputs": [
    {
     "data": {
      "text/plain": [
       "Timestamp('2018-12-26 00:00:00+0300', tz='Africa/Nairobi', freq='H')"
      ]
     },
     "execution_count": 86,
     "metadata": {},
     "output_type": "execute_result"
    }
   ],
   "source": [
    "y_test.index.min()"
   ]
  },
  {
   "cell_type": "markdown",
   "id": "cf6cbc76-e549-43d6-8f27-67cf049788ac",
   "metadata": {
    "deletable": false,
    "editable": false,
    "jp-MarkdownHeadingCollapsed": true,
    "tags": []
   },
   "source": [
    "**Task 3.3.14:** Calculate the test mean absolute error for your model.\n",
    "\n",
    "- [<span id='technique'>Generate out-of-sample predictions using model in <span id='tool'>statsmodels.](../%40textbook/18-ts-models.ipynb#Out-of-Sample-Predictions)\n",
    "- [<span id='technique'>Calculate the mean absolute error for a list of predictions in <span id='tool'>scikit-learn.](../%40textbook/15-ml-regression.ipynb#Calculating-the-Mean-Absolute-Error-for-a-List-of-Predictions)"
   ]
  },
  {
   "cell_type": "code",
   "execution_count": 87,
   "id": "51979f18-ff64-4d76-a350-e81377968149",
   "metadata": {
    "deletable": false
   },
   "outputs": [
    {
     "name": "stdout",
     "output_type": "stream",
     "text": [
      "Test MAE: 3.0136439495039054\n"
     ]
    }
   ],
   "source": [
    "y_pred_test = model.predict(y_test.index.min(),y_test.index.max())\n",
    "test_mae = mean_absolute_error(y_test,y_pred_test)\n",
    "print(\"Test MAE:\", test_mae)"
   ]
  },
  {
   "cell_type": "markdown",
   "id": "7af0acb5-50f8-4cef-b757-10079aca4286",
   "metadata": {
    "deletable": false,
    "editable": false
   },
   "source": [
    "**Task 3.3.15:** Create a DataFrame `test_predictions` that has two columns: `\"y_test\"` and `\"y_pred\"`. The first should contain the true values for your test set, and the second should contain your model's predictions. Be sure the index of `test_predictions` matches the index of `y_test`.\n",
    "\n",
    "- [<span id='technique'>Create a DataFrame from a dictionary using <span id='tool'>pandas.](../%40textbook/03-pandas-getting-started.ipynb#Working-with-DataFrames)"
   ]
  },
  {
   "cell_type": "code",
   "execution_count": 88,
   "id": "02a1d44e-c3e4-4ea5-8040-cd203687c88b",
   "metadata": {
    "deletable": false
   },
   "outputs": [],
   "source": [
    "df_pred_test = pd.DataFrame(\n",
    "    {\"y_test\": y_test, \"y_pred\": y_pred_test}, index=y_test.index\n",
    ")"
   ]
  },
  {
   "cell_type": "code",
   "execution_count": 57,
   "id": "f7a4d03f-7be0-4043-b946-5e22a27aa4ee",
   "metadata": {
    "deletable": false,
    "editable": false,
    "init_cell": true
   },
   "outputs": [
    {
     "data": {
      "text/html": [
       "\n",
       "        <iframe\n",
       "            width=\"600\"\n",
       "            height=\"300\"\n",
       "            src=\"https://player.vimeo.com/video/665851628?h=29b43e482e\"\n",
       "            frameborder=\"0\"\n",
       "            allowfullscreen\n",
       "            \n",
       "        ></iframe>\n",
       "        "
      ],
      "text/plain": [
       "<IPython.lib.display.VimeoVideo at 0x7fb4613954f0>"
      ]
     },
     "execution_count": 57,
     "metadata": {},
     "output_type": "execute_result"
    }
   ],
   "source": [
    "VimeoVideo(\"665851628\", h=\"29b43e482e\", width=600)"
   ]
  },
  {
   "cell_type": "markdown",
   "id": "aa368395-555c-4219-a924-15f38b79d32e",
   "metadata": {
    "deletable": false,
    "editable": false
   },
   "source": [
    "**Task 3.3.16:** Create a time series plot for the values in `test_predictions` using plotly express. Be sure that the y-axis is properly labeled as `\"P2\"`.\n",
    "\n",
    "- [<span id='technique'>Create a line plot in <span id='tool'>plotly express.](../%40textbook/07-visualization-pandas.ipynb#Line-Plots)"
   ]
  },
  {
   "cell_type": "code",
   "execution_count": 89,
   "id": "6fe8be4e-05ed-4789-976b-93faff7b4103",
   "metadata": {
    "deletable": false
   },
   "outputs": [
    {
     "data": {
      "application/vnd.plotly.v1+json": {
       "config": {
        "plotlyServerURL": "https://plot.ly"
       },
       "data": [
        {
         "hovertemplate": "variable=y_test<br>timestamp=%{x}<br>P2=%{y}<extra></extra>",
         "legendgroup": "y_test",
         "line": {
          "color": "#636efa",
          "dash": "solid"
         },
         "marker": {
          "symbol": "circle"
         },
         "mode": "lines",
         "name": "y_test",
         "orientation": "v",
         "showlegend": true,
         "type": "scatter",
         "x": [
          "2018-12-26T00:00:00+03:00",
          "2018-12-26T01:00:00+03:00",
          "2018-12-26T02:00:00+03:00",
          "2018-12-26T03:00:00+03:00",
          "2018-12-26T04:00:00+03:00",
          "2018-12-26T05:00:00+03:00",
          "2018-12-26T06:00:00+03:00",
          "2018-12-26T07:00:00+03:00",
          "2018-12-26T08:00:00+03:00",
          "2018-12-26T09:00:00+03:00",
          "2018-12-26T10:00:00+03:00",
          "2018-12-26T11:00:00+03:00",
          "2018-12-26T12:00:00+03:00",
          "2018-12-26T13:00:00+03:00",
          "2018-12-26T14:00:00+03:00",
          "2018-12-26T15:00:00+03:00",
          "2018-12-26T16:00:00+03:00",
          "2018-12-26T17:00:00+03:00",
          "2018-12-26T18:00:00+03:00",
          "2018-12-26T19:00:00+03:00",
          "2018-12-26T20:00:00+03:00",
          "2018-12-26T21:00:00+03:00",
          "2018-12-26T22:00:00+03:00",
          "2018-12-26T23:00:00+03:00",
          "2018-12-27T00:00:00+03:00",
          "2018-12-27T01:00:00+03:00",
          "2018-12-27T02:00:00+03:00",
          "2018-12-27T03:00:00+03:00",
          "2018-12-27T04:00:00+03:00",
          "2018-12-27T05:00:00+03:00",
          "2018-12-27T06:00:00+03:00",
          "2018-12-27T07:00:00+03:00",
          "2018-12-27T08:00:00+03:00",
          "2018-12-27T09:00:00+03:00",
          "2018-12-27T10:00:00+03:00",
          "2018-12-27T11:00:00+03:00",
          "2018-12-27T12:00:00+03:00",
          "2018-12-27T13:00:00+03:00",
          "2018-12-27T14:00:00+03:00",
          "2018-12-27T15:00:00+03:00",
          "2018-12-27T16:00:00+03:00",
          "2018-12-27T17:00:00+03:00",
          "2018-12-27T18:00:00+03:00",
          "2018-12-27T19:00:00+03:00",
          "2018-12-27T20:00:00+03:00",
          "2018-12-27T21:00:00+03:00",
          "2018-12-27T22:00:00+03:00",
          "2018-12-27T23:00:00+03:00",
          "2018-12-28T00:00:00+03:00",
          "2018-12-28T01:00:00+03:00",
          "2018-12-28T02:00:00+03:00",
          "2018-12-28T03:00:00+03:00",
          "2018-12-28T04:00:00+03:00",
          "2018-12-28T05:00:00+03:00",
          "2018-12-28T06:00:00+03:00",
          "2018-12-28T07:00:00+03:00",
          "2018-12-28T08:00:00+03:00",
          "2018-12-28T09:00:00+03:00",
          "2018-12-28T10:00:00+03:00",
          "2018-12-28T11:00:00+03:00",
          "2018-12-28T12:00:00+03:00",
          "2018-12-28T13:00:00+03:00",
          "2018-12-28T14:00:00+03:00",
          "2018-12-28T15:00:00+03:00",
          "2018-12-28T16:00:00+03:00",
          "2018-12-28T17:00:00+03:00",
          "2018-12-28T18:00:00+03:00",
          "2018-12-28T19:00:00+03:00",
          "2018-12-28T20:00:00+03:00",
          "2018-12-28T21:00:00+03:00",
          "2018-12-28T22:00:00+03:00",
          "2018-12-28T23:00:00+03:00",
          "2018-12-29T00:00:00+03:00",
          "2018-12-29T01:00:00+03:00",
          "2018-12-29T02:00:00+03:00",
          "2018-12-29T03:00:00+03:00",
          "2018-12-29T04:00:00+03:00",
          "2018-12-29T05:00:00+03:00",
          "2018-12-29T06:00:00+03:00",
          "2018-12-29T07:00:00+03:00",
          "2018-12-29T08:00:00+03:00",
          "2018-12-29T09:00:00+03:00",
          "2018-12-29T10:00:00+03:00",
          "2018-12-29T11:00:00+03:00",
          "2018-12-29T12:00:00+03:00",
          "2018-12-29T13:00:00+03:00",
          "2018-12-29T14:00:00+03:00",
          "2018-12-29T15:00:00+03:00",
          "2018-12-29T16:00:00+03:00",
          "2018-12-29T17:00:00+03:00",
          "2018-12-29T18:00:00+03:00",
          "2018-12-29T19:00:00+03:00",
          "2018-12-29T20:00:00+03:00",
          "2018-12-29T21:00:00+03:00",
          "2018-12-29T22:00:00+03:00",
          "2018-12-29T23:00:00+03:00",
          "2018-12-30T00:00:00+03:00",
          "2018-12-30T01:00:00+03:00",
          "2018-12-30T02:00:00+03:00",
          "2018-12-30T03:00:00+03:00",
          "2018-12-30T04:00:00+03:00",
          "2018-12-30T05:00:00+03:00",
          "2018-12-30T06:00:00+03:00",
          "2018-12-30T07:00:00+03:00",
          "2018-12-30T08:00:00+03:00",
          "2018-12-30T09:00:00+03:00",
          "2018-12-30T10:00:00+03:00",
          "2018-12-30T11:00:00+03:00",
          "2018-12-30T12:00:00+03:00",
          "2018-12-30T13:00:00+03:00",
          "2018-12-30T14:00:00+03:00",
          "2018-12-30T15:00:00+03:00",
          "2018-12-30T16:00:00+03:00",
          "2018-12-30T17:00:00+03:00",
          "2018-12-30T18:00:00+03:00",
          "2018-12-30T19:00:00+03:00",
          "2018-12-30T20:00:00+03:00",
          "2018-12-30T21:00:00+03:00",
          "2018-12-30T22:00:00+03:00",
          "2018-12-30T23:00:00+03:00",
          "2018-12-31T00:00:00+03:00",
          "2018-12-31T01:00:00+03:00",
          "2018-12-31T02:00:00+03:00",
          "2018-12-31T03:00:00+03:00",
          "2018-12-31T04:00:00+03:00",
          "2018-12-31T05:00:00+03:00",
          "2018-12-31T06:00:00+03:00",
          "2018-12-31T07:00:00+03:00",
          "2018-12-31T08:00:00+03:00",
          "2018-12-31T09:00:00+03:00",
          "2018-12-31T10:00:00+03:00",
          "2018-12-31T11:00:00+03:00",
          "2018-12-31T12:00:00+03:00",
          "2018-12-31T13:00:00+03:00",
          "2018-12-31T14:00:00+03:00",
          "2018-12-31T15:00:00+03:00",
          "2018-12-31T16:00:00+03:00",
          "2018-12-31T17:00:00+03:00",
          "2018-12-31T18:00:00+03:00",
          "2018-12-31T19:00:00+03:00",
          "2018-12-31T20:00:00+03:00",
          "2018-12-31T21:00:00+03:00",
          "2018-12-31T22:00:00+03:00",
          "2018-12-31T23:00:00+03:00",
          "2019-01-01T00:00:00+03:00",
          "2019-01-01T01:00:00+03:00",
          "2019-01-01T02:00:00+03:00"
         ],
         "xaxis": "x",
         "y": [
          5.679090909090909,
          5.3625,
          4.786666666666666,
          4.956666666666667,
          5.055833333333333,
          6.649166666666666,
          9.023076923076923,
          12.549999999999999,
          12.660000000000002,
          7.8875,
          7.891666666666667,
          7.315833333333334,
          6.871666666666666,
          7.678333333333334,
          8.410833333333334,
          8.0675,
          7.591666666666666,
          8.046666666666667,
          9.750833333333334,
          10.7875,
          12.111666666666666,
          11.222499999999998,
          11.319166666666668,
          11.920833333333334,
          11.211666666666666,
          10.700000000000001,
          10.860833333333334,
          10.734166666666667,
          11.626666666666667,
          14.8075,
          16.232499999999998,
          13.711666666666666,
          13.253333333333332,
          11.1075,
          9.843333333333334,
          8.756666666666666,
          6.6827272727272735,
          5.564166666666666,
          5.940833333333334,
          6.248333333333334,
          5.610833333333333,
          5.36,
          6.805,
          7.7491666666666665,
          7.6883333333333335,
          7.9575000000000005,
          8.355833333333333,
          7.927499999999999,
          7.077500000000001,
          6.189166666666666,
          5.964166666666666,
          5.290833333333333,
          5.249230769230769,
          5.539166666666667,
          7.700833333333333,
          6.321666666666666,
          5.31,
          5.590833333333333,
          9.894545454545455,
          8.965,
          6.790909090909091,
          4.291666666666667,
          3.7733333333333334,
          3.8183333333333334,
          2.4125,
          2.7283333333333335,
          4.4366666666666665,
          7.18,
          5.463333333333334,
          6.325833333333333,
          6.043333333333333,
          6.139166666666667,
          6.895,
          5.803333333333334,
          4.690833333333333,
          4.31,
          4.380833333333333,
          4.5441666666666665,
          4.725833333333333,
          8.7225,
          9.244166666666667,
          6.950833333333333,
          5.716666666666666,
          6.649166666666667,
          5.304545454545455,
          4.0475,
          3.279166666666667,
          3.1683333333333334,
          4.786666666666666,
          3.6775,
          5.6675,
          9.015833333333333,
          11.7675,
          5.255,
          3.751666666666667,
          5.39,
          5.245,
          3.7716666666666665,
          2.9,
          4.3133333333333335,
          4.815833333333333,
          4.783333333333333,
          8.78,
          12.159166666666666,
          6.246666666666666,
          6.7681818181818185,
          4.42,
          4.523333333333333,
          4.723333333333334,
          3.7883333333333336,
          3.5124999999999997,
          2.705,
          2.9791666666666665,
          3.56,
          5.141666666666667,
          8.37,
          7.223333333333334,
          5.802499999999999,
          6.460833333333333,
          9.676666666666668,
          4.254166666666666,
          4.1475,
          3.5191666666666666,
          5.368333333333333,
          5.2700000000000005,
          5.809166666666667,
          6.935,
          7.97,
          9.533333333333333,
          9.635,
          8.9625,
          5.713333333333334,
          5.913333333333334,
          5.800833333333333,
          5.44,
          4.477,
          5.445454545454545,
          4.4871428571428575,
          7.290909090909091,
          9.476666666666667,
          10.4025,
          9.150833333333333,
          7.060833333333334,
          7.854166666666667,
          9.755833333333333,
          12.665,
          18.803333333333335
         ],
         "yaxis": "y"
        },
        {
         "hovertemplate": "variable=y_pred<br>timestamp=%{x}<br>P2=%{y}<extra></extra>",
         "legendgroup": "y_pred",
         "line": {
          "color": "#EF553B",
          "dash": "solid"
         },
         "marker": {
          "symbol": "circle"
         },
         "mode": "lines",
         "name": "y_pred",
         "orientation": "v",
         "showlegend": true,
         "type": "scatter",
         "x": [
          "2018-12-26T00:00:00+03:00",
          "2018-12-26T01:00:00+03:00",
          "2018-12-26T02:00:00+03:00",
          "2018-12-26T03:00:00+03:00",
          "2018-12-26T04:00:00+03:00",
          "2018-12-26T05:00:00+03:00",
          "2018-12-26T06:00:00+03:00",
          "2018-12-26T07:00:00+03:00",
          "2018-12-26T08:00:00+03:00",
          "2018-12-26T09:00:00+03:00",
          "2018-12-26T10:00:00+03:00",
          "2018-12-26T11:00:00+03:00",
          "2018-12-26T12:00:00+03:00",
          "2018-12-26T13:00:00+03:00",
          "2018-12-26T14:00:00+03:00",
          "2018-12-26T15:00:00+03:00",
          "2018-12-26T16:00:00+03:00",
          "2018-12-26T17:00:00+03:00",
          "2018-12-26T18:00:00+03:00",
          "2018-12-26T19:00:00+03:00",
          "2018-12-26T20:00:00+03:00",
          "2018-12-26T21:00:00+03:00",
          "2018-12-26T22:00:00+03:00",
          "2018-12-26T23:00:00+03:00",
          "2018-12-27T00:00:00+03:00",
          "2018-12-27T01:00:00+03:00",
          "2018-12-27T02:00:00+03:00",
          "2018-12-27T03:00:00+03:00",
          "2018-12-27T04:00:00+03:00",
          "2018-12-27T05:00:00+03:00",
          "2018-12-27T06:00:00+03:00",
          "2018-12-27T07:00:00+03:00",
          "2018-12-27T08:00:00+03:00",
          "2018-12-27T09:00:00+03:00",
          "2018-12-27T10:00:00+03:00",
          "2018-12-27T11:00:00+03:00",
          "2018-12-27T12:00:00+03:00",
          "2018-12-27T13:00:00+03:00",
          "2018-12-27T14:00:00+03:00",
          "2018-12-27T15:00:00+03:00",
          "2018-12-27T16:00:00+03:00",
          "2018-12-27T17:00:00+03:00",
          "2018-12-27T18:00:00+03:00",
          "2018-12-27T19:00:00+03:00",
          "2018-12-27T20:00:00+03:00",
          "2018-12-27T21:00:00+03:00",
          "2018-12-27T22:00:00+03:00",
          "2018-12-27T23:00:00+03:00",
          "2018-12-28T00:00:00+03:00",
          "2018-12-28T01:00:00+03:00",
          "2018-12-28T02:00:00+03:00",
          "2018-12-28T03:00:00+03:00",
          "2018-12-28T04:00:00+03:00",
          "2018-12-28T05:00:00+03:00",
          "2018-12-28T06:00:00+03:00",
          "2018-12-28T07:00:00+03:00",
          "2018-12-28T08:00:00+03:00",
          "2018-12-28T09:00:00+03:00",
          "2018-12-28T10:00:00+03:00",
          "2018-12-28T11:00:00+03:00",
          "2018-12-28T12:00:00+03:00",
          "2018-12-28T13:00:00+03:00",
          "2018-12-28T14:00:00+03:00",
          "2018-12-28T15:00:00+03:00",
          "2018-12-28T16:00:00+03:00",
          "2018-12-28T17:00:00+03:00",
          "2018-12-28T18:00:00+03:00",
          "2018-12-28T19:00:00+03:00",
          "2018-12-28T20:00:00+03:00",
          "2018-12-28T21:00:00+03:00",
          "2018-12-28T22:00:00+03:00",
          "2018-12-28T23:00:00+03:00",
          "2018-12-29T00:00:00+03:00",
          "2018-12-29T01:00:00+03:00",
          "2018-12-29T02:00:00+03:00",
          "2018-12-29T03:00:00+03:00",
          "2018-12-29T04:00:00+03:00",
          "2018-12-29T05:00:00+03:00",
          "2018-12-29T06:00:00+03:00",
          "2018-12-29T07:00:00+03:00",
          "2018-12-29T08:00:00+03:00",
          "2018-12-29T09:00:00+03:00",
          "2018-12-29T10:00:00+03:00",
          "2018-12-29T11:00:00+03:00",
          "2018-12-29T12:00:00+03:00",
          "2018-12-29T13:00:00+03:00",
          "2018-12-29T14:00:00+03:00",
          "2018-12-29T15:00:00+03:00",
          "2018-12-29T16:00:00+03:00",
          "2018-12-29T17:00:00+03:00",
          "2018-12-29T18:00:00+03:00",
          "2018-12-29T19:00:00+03:00",
          "2018-12-29T20:00:00+03:00",
          "2018-12-29T21:00:00+03:00",
          "2018-12-29T22:00:00+03:00",
          "2018-12-29T23:00:00+03:00",
          "2018-12-30T00:00:00+03:00",
          "2018-12-30T01:00:00+03:00",
          "2018-12-30T02:00:00+03:00",
          "2018-12-30T03:00:00+03:00",
          "2018-12-30T04:00:00+03:00",
          "2018-12-30T05:00:00+03:00",
          "2018-12-30T06:00:00+03:00",
          "2018-12-30T07:00:00+03:00",
          "2018-12-30T08:00:00+03:00",
          "2018-12-30T09:00:00+03:00",
          "2018-12-30T10:00:00+03:00",
          "2018-12-30T11:00:00+03:00",
          "2018-12-30T12:00:00+03:00",
          "2018-12-30T13:00:00+03:00",
          "2018-12-30T14:00:00+03:00",
          "2018-12-30T15:00:00+03:00",
          "2018-12-30T16:00:00+03:00",
          "2018-12-30T17:00:00+03:00",
          "2018-12-30T18:00:00+03:00",
          "2018-12-30T19:00:00+03:00",
          "2018-12-30T20:00:00+03:00",
          "2018-12-30T21:00:00+03:00",
          "2018-12-30T22:00:00+03:00",
          "2018-12-30T23:00:00+03:00",
          "2018-12-31T00:00:00+03:00",
          "2018-12-31T01:00:00+03:00",
          "2018-12-31T02:00:00+03:00",
          "2018-12-31T03:00:00+03:00",
          "2018-12-31T04:00:00+03:00",
          "2018-12-31T05:00:00+03:00",
          "2018-12-31T06:00:00+03:00",
          "2018-12-31T07:00:00+03:00",
          "2018-12-31T08:00:00+03:00",
          "2018-12-31T09:00:00+03:00",
          "2018-12-31T10:00:00+03:00",
          "2018-12-31T11:00:00+03:00",
          "2018-12-31T12:00:00+03:00",
          "2018-12-31T13:00:00+03:00",
          "2018-12-31T14:00:00+03:00",
          "2018-12-31T15:00:00+03:00",
          "2018-12-31T16:00:00+03:00",
          "2018-12-31T17:00:00+03:00",
          "2018-12-31T18:00:00+03:00",
          "2018-12-31T19:00:00+03:00",
          "2018-12-31T20:00:00+03:00",
          "2018-12-31T21:00:00+03:00",
          "2018-12-31T22:00:00+03:00",
          "2018-12-31T23:00:00+03:00",
          "2019-01-01T00:00:00+03:00",
          "2019-01-01T01:00:00+03:00",
          "2019-01-01T02:00:00+03:00"
         ],
         "xaxis": "x",
         "y": [
          6.717606382234214,
          7.25927368186754,
          7.311587511724085,
          7.551141195476701,
          7.744001428237617,
          8.147630932741139,
          8.37251629118032,
          8.58942670025977,
          8.594783029431452,
          8.408272028822427,
          8.150029655186183,
          8.170253268223888,
          8.23245977139176,
          8.42479810161674,
          8.486064994979046,
          8.37284453269129,
          8.516089947824467,
          8.643899519928686,
          8.83719620605995,
          8.946285532549465,
          8.857616896816584,
          8.57968753263597,
          8.558510837413515,
          8.431761154407523,
          8.568131085483158,
          8.59999036039306,
          8.6756579958309,
          8.746551804161413,
          8.835328406479714,
          8.929982302424646,
          9.01683394429395,
          9.030653834030185,
          9.001976732190387,
          8.931066362637019,
          8.86491182437265,
          8.834765232062585,
          8.85485291002391,
          8.876906561544162,
          8.913747266962218,
          8.952829557992045,
          8.992981120072777,
          9.06533685616087,
          9.10660516526668,
          9.110299852439518,
          9.075595880529685,
          9.023806160271317,
          8.966596564175669,
          8.96113030903225,
          8.948031855941128,
          8.975897975843646,
          8.996642083106368,
          9.030727187556973,
          9.070417407184786,
          9.102486595443702,
          9.122772646900057,
          9.124089607889308,
          9.103458067511184,
          9.075793581682671,
          9.048889132797044,
          9.032894503861616,
          9.030590668472907,
          9.039924643470794,
          9.055142237145747,
          9.077449217043306,
          9.102128605166234,
          9.122431923261443,
          9.13533297978346,
          9.13271019305231,
          9.118163516021804,
          9.09797173956751,
          9.080438755541902,
          9.067666671119914,
          9.067317126911226,
          9.070602570999363,
          9.083642557116447,
          9.098291251638317,
          9.11396671510984,
          9.12697930376373,
          9.132477886205333,
          9.130508631651733,
          9.121816642522715,
          9.109260046650046,
          9.097908392471865,
          9.090245571826832,
          9.088037218255408,
          9.091348734068626,
          9.098956487187978,
          9.108930717764242,
          9.119323076727063,
          9.127293325137252,
          9.130656031350215,
          9.12892957754778,
          9.122695029929442,
          9.114460469342895,
          9.10671309491825,
          9.10172883510357,
          9.100013023631519,
          9.102508511767974,
          9.107340671410414,
          9.114239983554818,
          9.120785018319056,
          9.125587046763451,
          9.127580205719692,
          9.126122101381565,
          9.122126735132088,
          9.116846136252143,
          9.111794410252632,
          9.108451972441568,
          9.107436875515392,
          9.108867504927716,
          9.112273619312283,
          9.116690392394222,
          9.120975947060632,
          9.124069166573893,
          9.125175618514032,
          9.124142704555306,
          9.121429883483632,
          9.117901976479065,
          9.114618086199833,
          9.112399718003298,
          9.111789586954902,
          9.112745204527887,
          9.115052616578458,
          9.117914951861609,
          9.120702234205947,
          9.122621569243902,
          9.123245683092364,
          9.122528152570883,
          9.120713205470196,
          9.118415418038044,
          9.116273377440464,
          9.114832163470531,
          9.114439785114293,
          9.11511058823713,
          9.11661281473032,
          9.118520377402149,
          9.120312381587262,
          9.121534169996572,
          9.121906384322774,
          9.121382671062417,
          9.120176086263221,
          9.118658241063121,
          9.117254986239804,
          9.116332249060825,
          9.116089954543359,
          9.116556280732283,
          9.117551451527195
         ],
         "yaxis": "y"
        }
       ],
       "layout": {
        "autosize": true,
        "legend": {
         "title": {
          "text": "variable"
         },
         "tracegroupgap": 0
        },
        "margin": {
         "t": 60
        },
        "template": {
         "data": {
          "bar": [
           {
            "error_x": {
             "color": "#2a3f5f"
            },
            "error_y": {
             "color": "#2a3f5f"
            },
            "marker": {
             "line": {
              "color": "#E5ECF6",
              "width": 0.5
             },
             "pattern": {
              "fillmode": "overlay",
              "size": 10,
              "solidity": 0.2
             }
            },
            "type": "bar"
           }
          ],
          "barpolar": [
           {
            "marker": {
             "line": {
              "color": "#E5ECF6",
              "width": 0.5
             },
             "pattern": {
              "fillmode": "overlay",
              "size": 10,
              "solidity": 0.2
             }
            },
            "type": "barpolar"
           }
          ],
          "carpet": [
           {
            "aaxis": {
             "endlinecolor": "#2a3f5f",
             "gridcolor": "white",
             "linecolor": "white",
             "minorgridcolor": "white",
             "startlinecolor": "#2a3f5f"
            },
            "baxis": {
             "endlinecolor": "#2a3f5f",
             "gridcolor": "white",
             "linecolor": "white",
             "minorgridcolor": "white",
             "startlinecolor": "#2a3f5f"
            },
            "type": "carpet"
           }
          ],
          "choropleth": [
           {
            "colorbar": {
             "outlinewidth": 0,
             "ticks": ""
            },
            "type": "choropleth"
           }
          ],
          "contour": [
           {
            "colorbar": {
             "outlinewidth": 0,
             "ticks": ""
            },
            "colorscale": [
             [
              0,
              "#0d0887"
             ],
             [
              0.1111111111111111,
              "#46039f"
             ],
             [
              0.2222222222222222,
              "#7201a8"
             ],
             [
              0.3333333333333333,
              "#9c179e"
             ],
             [
              0.4444444444444444,
              "#bd3786"
             ],
             [
              0.5555555555555556,
              "#d8576b"
             ],
             [
              0.6666666666666666,
              "#ed7953"
             ],
             [
              0.7777777777777778,
              "#fb9f3a"
             ],
             [
              0.8888888888888888,
              "#fdca26"
             ],
             [
              1,
              "#f0f921"
             ]
            ],
            "type": "contour"
           }
          ],
          "contourcarpet": [
           {
            "colorbar": {
             "outlinewidth": 0,
             "ticks": ""
            },
            "type": "contourcarpet"
           }
          ],
          "heatmap": [
           {
            "colorbar": {
             "outlinewidth": 0,
             "ticks": ""
            },
            "colorscale": [
             [
              0,
              "#0d0887"
             ],
             [
              0.1111111111111111,
              "#46039f"
             ],
             [
              0.2222222222222222,
              "#7201a8"
             ],
             [
              0.3333333333333333,
              "#9c179e"
             ],
             [
              0.4444444444444444,
              "#bd3786"
             ],
             [
              0.5555555555555556,
              "#d8576b"
             ],
             [
              0.6666666666666666,
              "#ed7953"
             ],
             [
              0.7777777777777778,
              "#fb9f3a"
             ],
             [
              0.8888888888888888,
              "#fdca26"
             ],
             [
              1,
              "#f0f921"
             ]
            ],
            "type": "heatmap"
           }
          ],
          "heatmapgl": [
           {
            "colorbar": {
             "outlinewidth": 0,
             "ticks": ""
            },
            "colorscale": [
             [
              0,
              "#0d0887"
             ],
             [
              0.1111111111111111,
              "#46039f"
             ],
             [
              0.2222222222222222,
              "#7201a8"
             ],
             [
              0.3333333333333333,
              "#9c179e"
             ],
             [
              0.4444444444444444,
              "#bd3786"
             ],
             [
              0.5555555555555556,
              "#d8576b"
             ],
             [
              0.6666666666666666,
              "#ed7953"
             ],
             [
              0.7777777777777778,
              "#fb9f3a"
             ],
             [
              0.8888888888888888,
              "#fdca26"
             ],
             [
              1,
              "#f0f921"
             ]
            ],
            "type": "heatmapgl"
           }
          ],
          "histogram": [
           {
            "marker": {
             "pattern": {
              "fillmode": "overlay",
              "size": 10,
              "solidity": 0.2
             }
            },
            "type": "histogram"
           }
          ],
          "histogram2d": [
           {
            "colorbar": {
             "outlinewidth": 0,
             "ticks": ""
            },
            "colorscale": [
             [
              0,
              "#0d0887"
             ],
             [
              0.1111111111111111,
              "#46039f"
             ],
             [
              0.2222222222222222,
              "#7201a8"
             ],
             [
              0.3333333333333333,
              "#9c179e"
             ],
             [
              0.4444444444444444,
              "#bd3786"
             ],
             [
              0.5555555555555556,
              "#d8576b"
             ],
             [
              0.6666666666666666,
              "#ed7953"
             ],
             [
              0.7777777777777778,
              "#fb9f3a"
             ],
             [
              0.8888888888888888,
              "#fdca26"
             ],
             [
              1,
              "#f0f921"
             ]
            ],
            "type": "histogram2d"
           }
          ],
          "histogram2dcontour": [
           {
            "colorbar": {
             "outlinewidth": 0,
             "ticks": ""
            },
            "colorscale": [
             [
              0,
              "#0d0887"
             ],
             [
              0.1111111111111111,
              "#46039f"
             ],
             [
              0.2222222222222222,
              "#7201a8"
             ],
             [
              0.3333333333333333,
              "#9c179e"
             ],
             [
              0.4444444444444444,
              "#bd3786"
             ],
             [
              0.5555555555555556,
              "#d8576b"
             ],
             [
              0.6666666666666666,
              "#ed7953"
             ],
             [
              0.7777777777777778,
              "#fb9f3a"
             ],
             [
              0.8888888888888888,
              "#fdca26"
             ],
             [
              1,
              "#f0f921"
             ]
            ],
            "type": "histogram2dcontour"
           }
          ],
          "mesh3d": [
           {
            "colorbar": {
             "outlinewidth": 0,
             "ticks": ""
            },
            "type": "mesh3d"
           }
          ],
          "parcoords": [
           {
            "line": {
             "colorbar": {
              "outlinewidth": 0,
              "ticks": ""
             }
            },
            "type": "parcoords"
           }
          ],
          "pie": [
           {
            "automargin": true,
            "type": "pie"
           }
          ],
          "scatter": [
           {
            "fillpattern": {
             "fillmode": "overlay",
             "size": 10,
             "solidity": 0.2
            },
            "type": "scatter"
           }
          ],
          "scatter3d": [
           {
            "line": {
             "colorbar": {
              "outlinewidth": 0,
              "ticks": ""
             }
            },
            "marker": {
             "colorbar": {
              "outlinewidth": 0,
              "ticks": ""
             }
            },
            "type": "scatter3d"
           }
          ],
          "scattercarpet": [
           {
            "marker": {
             "colorbar": {
              "outlinewidth": 0,
              "ticks": ""
             }
            },
            "type": "scattercarpet"
           }
          ],
          "scattergeo": [
           {
            "marker": {
             "colorbar": {
              "outlinewidth": 0,
              "ticks": ""
             }
            },
            "type": "scattergeo"
           }
          ],
          "scattergl": [
           {
            "marker": {
             "colorbar": {
              "outlinewidth": 0,
              "ticks": ""
             }
            },
            "type": "scattergl"
           }
          ],
          "scattermapbox": [
           {
            "marker": {
             "colorbar": {
              "outlinewidth": 0,
              "ticks": ""
             }
            },
            "type": "scattermapbox"
           }
          ],
          "scatterpolar": [
           {
            "marker": {
             "colorbar": {
              "outlinewidth": 0,
              "ticks": ""
             }
            },
            "type": "scatterpolar"
           }
          ],
          "scatterpolargl": [
           {
            "marker": {
             "colorbar": {
              "outlinewidth": 0,
              "ticks": ""
             }
            },
            "type": "scatterpolargl"
           }
          ],
          "scatterternary": [
           {
            "marker": {
             "colorbar": {
              "outlinewidth": 0,
              "ticks": ""
             }
            },
            "type": "scatterternary"
           }
          ],
          "surface": [
           {
            "colorbar": {
             "outlinewidth": 0,
             "ticks": ""
            },
            "colorscale": [
             [
              0,
              "#0d0887"
             ],
             [
              0.1111111111111111,
              "#46039f"
             ],
             [
              0.2222222222222222,
              "#7201a8"
             ],
             [
              0.3333333333333333,
              "#9c179e"
             ],
             [
              0.4444444444444444,
              "#bd3786"
             ],
             [
              0.5555555555555556,
              "#d8576b"
             ],
             [
              0.6666666666666666,
              "#ed7953"
             ],
             [
              0.7777777777777778,
              "#fb9f3a"
             ],
             [
              0.8888888888888888,
              "#fdca26"
             ],
             [
              1,
              "#f0f921"
             ]
            ],
            "type": "surface"
           }
          ],
          "table": [
           {
            "cells": {
             "fill": {
              "color": "#EBF0F8"
             },
             "line": {
              "color": "white"
             }
            },
            "header": {
             "fill": {
              "color": "#C8D4E3"
             },
             "line": {
              "color": "white"
             }
            },
            "type": "table"
           }
          ]
         },
         "layout": {
          "annotationdefaults": {
           "arrowcolor": "#2a3f5f",
           "arrowhead": 0,
           "arrowwidth": 1
          },
          "autotypenumbers": "strict",
          "coloraxis": {
           "colorbar": {
            "outlinewidth": 0,
            "ticks": ""
           }
          },
          "colorscale": {
           "diverging": [
            [
             0,
             "#8e0152"
            ],
            [
             0.1,
             "#c51b7d"
            ],
            [
             0.2,
             "#de77ae"
            ],
            [
             0.3,
             "#f1b6da"
            ],
            [
             0.4,
             "#fde0ef"
            ],
            [
             0.5,
             "#f7f7f7"
            ],
            [
             0.6,
             "#e6f5d0"
            ],
            [
             0.7,
             "#b8e186"
            ],
            [
             0.8,
             "#7fbc41"
            ],
            [
             0.9,
             "#4d9221"
            ],
            [
             1,
             "#276419"
            ]
           ],
           "sequential": [
            [
             0,
             "#0d0887"
            ],
            [
             0.1111111111111111,
             "#46039f"
            ],
            [
             0.2222222222222222,
             "#7201a8"
            ],
            [
             0.3333333333333333,
             "#9c179e"
            ],
            [
             0.4444444444444444,
             "#bd3786"
            ],
            [
             0.5555555555555556,
             "#d8576b"
            ],
            [
             0.6666666666666666,
             "#ed7953"
            ],
            [
             0.7777777777777778,
             "#fb9f3a"
            ],
            [
             0.8888888888888888,
             "#fdca26"
            ],
            [
             1,
             "#f0f921"
            ]
           ],
           "sequentialminus": [
            [
             0,
             "#0d0887"
            ],
            [
             0.1111111111111111,
             "#46039f"
            ],
            [
             0.2222222222222222,
             "#7201a8"
            ],
            [
             0.3333333333333333,
             "#9c179e"
            ],
            [
             0.4444444444444444,
             "#bd3786"
            ],
            [
             0.5555555555555556,
             "#d8576b"
            ],
            [
             0.6666666666666666,
             "#ed7953"
            ],
            [
             0.7777777777777778,
             "#fb9f3a"
            ],
            [
             0.8888888888888888,
             "#fdca26"
            ],
            [
             1,
             "#f0f921"
            ]
           ]
          },
          "colorway": [
           "#636efa",
           "#EF553B",
           "#00cc96",
           "#ab63fa",
           "#FFA15A",
           "#19d3f3",
           "#FF6692",
           "#B6E880",
           "#FF97FF",
           "#FECB52"
          ],
          "font": {
           "color": "#2a3f5f"
          },
          "geo": {
           "bgcolor": "white",
           "lakecolor": "white",
           "landcolor": "#E5ECF6",
           "showlakes": true,
           "showland": true,
           "subunitcolor": "white"
          },
          "hoverlabel": {
           "align": "left"
          },
          "hovermode": "closest",
          "mapbox": {
           "style": "light"
          },
          "paper_bgcolor": "white",
          "plot_bgcolor": "#E5ECF6",
          "polar": {
           "angularaxis": {
            "gridcolor": "white",
            "linecolor": "white",
            "ticks": ""
           },
           "bgcolor": "#E5ECF6",
           "radialaxis": {
            "gridcolor": "white",
            "linecolor": "white",
            "ticks": ""
           }
          },
          "scene": {
           "xaxis": {
            "backgroundcolor": "#E5ECF6",
            "gridcolor": "white",
            "gridwidth": 2,
            "linecolor": "white",
            "showbackground": true,
            "ticks": "",
            "zerolinecolor": "white"
           },
           "yaxis": {
            "backgroundcolor": "#E5ECF6",
            "gridcolor": "white",
            "gridwidth": 2,
            "linecolor": "white",
            "showbackground": true,
            "ticks": "",
            "zerolinecolor": "white"
           },
           "zaxis": {
            "backgroundcolor": "#E5ECF6",
            "gridcolor": "white",
            "gridwidth": 2,
            "linecolor": "white",
            "showbackground": true,
            "ticks": "",
            "zerolinecolor": "white"
           }
          },
          "shapedefaults": {
           "line": {
            "color": "#2a3f5f"
           }
          },
          "ternary": {
           "aaxis": {
            "gridcolor": "white",
            "linecolor": "white",
            "ticks": ""
           },
           "baxis": {
            "gridcolor": "white",
            "linecolor": "white",
            "ticks": ""
           },
           "bgcolor": "#E5ECF6",
           "caxis": {
            "gridcolor": "white",
            "linecolor": "white",
            "ticks": ""
           }
          },
          "title": {
           "x": 0.05
          },
          "xaxis": {
           "automargin": true,
           "gridcolor": "white",
           "linecolor": "white",
           "ticks": "",
           "title": {
            "standoff": 15
           },
           "zerolinecolor": "white",
           "zerolinewidth": 2
          },
          "yaxis": {
           "automargin": true,
           "gridcolor": "white",
           "linecolor": "white",
           "ticks": "",
           "title": {
            "standoff": 15
           },
           "zerolinecolor": "white",
           "zerolinewidth": 2
          }
         }
        },
        "xaxis": {
         "anchor": "y",
         "autorange": true,
         "domain": [
          0,
          1
         ],
         "range": [
          "2018-12-26",
          "2019-01-01 02:00"
         ],
         "title": {
          "text": "timestamp"
         },
         "type": "date"
        },
        "yaxis": {
         "anchor": "x",
         "autorange": true,
         "domain": [
          0,
          1
         ],
         "range": [
          1.5018981481481481,
          19.713935185185186
         ],
         "title": {
          "text": "P2"
         },
         "type": "linear"
        }
       }
      },
      "image/png": "[encoded data removed]",
      "text/html": [
       "<div>                            <div id=\"0101e91b-2d40-42b2-b5a2-329b6147ae10\" class=\"plotly-graph-div\" style=\"height:525px; width:100%;\"></div>            <script type=\"text/javascript\">                require([\"plotly\"], function(Plotly) {                    window.PLOTLYENV=window.PLOTLYENV || {};                                    if (document.getElementById(\"0101e91b-2d40-42b2-b5a2-329b6147ae10\")) {                    Plotly.newPlot(                        \"0101e91b-2d40-42b2-b5a2-329b6147ae10\",                        [{\"hovertemplate\":\"variable=y_test<br>timestamp=%{x}<br>P2=%{y}<extra></extra>\",\"legendgroup\":\"y_test\",\"line\":{\"color\":\"#636efa\",\"dash\":\"solid\"},\"marker\":{\"symbol\":\"circle\"},\"mode\":\"lines\",\"name\":\"y_test\",\"orientation\":\"v\",\"showlegend\":true,\"x\":[\"2018-12-26T00:00:00+03:00\",\"2018-12-26T01:00:00+03:00\",\"2018-12-26T02:00:00+03:00\",\"2018-12-26T03:00:00+03:00\",\"2018-12-26T04:00:00+03:00\",\"2018-12-26T05:00:00+03:00\",\"2018-12-26T06:00:00+03:00\",\"2018-12-26T07:00:00+03:00\",\"2018-12-26T08:00:00+03:00\",\"2018-12-26T09:00:00+03:00\",\"2018-12-26T10:00:00+03:00\",\"2018-12-26T11:00:00+03:00\",\"2018-12-26T12:00:00+03:00\",\"2018-12-26T13:00:00+03:00\",\"2018-12-26T14:00:00+03:00\",\"2018-12-26T15:00:00+03:00\",\"2018-12-26T16:00:00+03:00\",\"2018-12-26T17:00:00+03:00\",\"2018-12-26T18:00:00+03:00\",\"2018-12-26T19:00:00+03:00\",\"2018-12-26T20:00:00+03:00\",\"2018-12-26T21:00:00+03:00\",\"2018-12-26T22:00:00+03:00\",\"2018-12-26T23:00:00+03:00\",\"2018-12-27T00:00:00+03:00\",\"2018-12-27T01:00:00+03:00\",\"2018-12-27T02:00:00+03:00\",\"2018-12-27T03:00:00+03:00\",\"2018-12-27T04:00:00+03:00\",\"2018-12-27T05:00:00+03:00\",\"2018-12-27T06:00:00+03:00\",\"2018-12-27T07:00:00+03:00\",\"2018-12-27T08:00:00+03:00\",\"2018-12-27T09:00:00+03:00\",\"2018-12-27T10:00:00+03:00\",\"2018-12-27T11:00:00+03:00\",\"2018-12-27T12:00:00+03:00\",\"2018-12-27T13:00:00+03:00\",\"2018-12-27T14:00:00+03:00\",\"2018-12-27T15:00:00+03:00\",\"2018-12-27T16:00:00+03:00\",\"2018-12-27T17:00:00+03:00\",\"2018-12-27T18:00:00+03:00\",\"2018-12-27T19:00:00+03:00\",\"2018-12-27T20:00:00+03:00\",\"2018-12-27T21:00:00+03:00\",\"2018-12-27T22:00:00+03:00\",\"2018-12-27T23:00:00+03:00\",\"2018-12-28T00:00:00+03:00\",\"2018-12-28T01:00:00+03:00\",\"2018-12-28T02:00:00+03:00\",\"2018-12-28T03:00:00+03:00\",\"2018-12-28T04:00:00+03:00\",\"2018-12-28T05:00:00+03:00\",\"2018-12-28T06:00:00+03:00\",\"2018-12-28T07:00:00+03:00\",\"2018-12-28T08:00:00+03:00\",\"2018-12-28T09:00:00+03:00\",\"2018-12-28T10:00:00+03:00\",\"2018-12-28T11:00:00+03:00\",\"2018-12-28T12:00:00+03:00\",\"2018-12-28T13:00:00+03:00\",\"2018-12-28T14:00:00+03:00\",\"2018-12-28T15:00:00+03:00\",\"2018-12-28T16:00:00+03:00\",\"2018-12-28T17:00:00+03:00\",\"2018-12-28T18:00:00+03:00\",\"2018-12-28T19:00:00+03:00\",\"2018-12-28T20:00:00+03:00\",\"2018-12-28T21:00:00+03:00\",\"2018-12-28T22:00:00+03:00\",\"2018-12-28T23:00:00+03:00\",\"2018-12-29T00:00:00+03:00\",\"2018-12-29T01:00:00+03:00\",\"2018-12-29T02:00:00+03:00\",\"2018-12-29T03:00:00+03:00\",\"2018-12-29T04:00:00+03:00\",\"2018-12-29T05:00:00+03:00\",\"2018-12-29T06:00:00+03:00\",\"2018-12-29T07:00:00+03:00\",\"2018-12-29T08:00:00+03:00\",\"2018-12-29T09:00:00+03:00\",\"2018-12-29T10:00:00+03:00\",\"2018-12-29T11:00:00+03:00\",\"2018-12-29T12:00:00+03:00\",\"2018-12-29T13:00:00+03:00\",\"2018-12-29T14:00:00+03:00\",\"2018-12-29T15:00:00+03:00\",\"2018-12-29T16:00:00+03:00\",\"2018-12-29T17:00:00+03:00\",\"2018-12-29T18:00:00+03:00\",\"2018-12-29T19:00:00+03:00\",\"2018-12-29T20:00:00+03:00\",\"2018-12-29T21:00:00+03:00\",\"2018-12-29T22:00:00+03:00\",\"2018-12-29T23:00:00+03:00\",\"2018-12-30T00:00:00+03:00\",\"2018-12-30T01:00:00+03:00\",\"2018-12-30T02:00:00+03:00\",\"2018-12-30T03:00:00+03:00\",\"2018-12-30T04:00:00+03:00\",\"2018-12-30T05:00:00+03:00\",\"2018-12-30T06:00:00+03:00\",\"2018-12-30T07:00:00+03:00\",\"2018-12-30T08:00:00+03:00\",\"2018-12-30T09:00:00+03:00\",\"2018-12-30T10:00:00+03:00\",\"2018-12-30T11:00:00+03:00\",\"2018-12-30T12:00:00+03:00\",\"2018-12-30T13:00:00+03:00\",\"2018-12-30T14:00:00+03:00\",\"2018-12-30T15:00:00+03:00\",\"2018-12-30T16:00:00+03:00\",\"2018-12-30T17:00:00+03:00\",\"2018-12-30T18:00:00+03:00\",\"2018-12-30T19:00:00+03:00\",\"2018-12-30T20:00:00+03:00\",\"2018-12-30T21:00:00+03:00\",\"2018-12-30T22:00:00+03:00\",\"2018-12-30T23:00:00+03:00\",\"2018-12-31T00:00:00+03:00\",\"2018-12-31T01:00:00+03:00\",\"2018-12-31T02:00:00+03:00\",\"2018-12-31T03:00:00+03:00\",\"2018-12-31T04:00:00+03:00\",\"2018-12-31T05:00:00+03:00\",\"2018-12-31T06:00:00+03:00\",\"2018-12-31T07:00:00+03:00\",\"2018-12-31T08:00:00+03:00\",\"2018-12-31T09:00:00+03:00\",\"2018-12-31T10:00:00+03:00\",\"2018-12-31T11:00:00+03:00\",\"2018-12-31T12:00:00+03:00\",\"2018-12-31T13:00:00+03:00\",\"2018-12-31T14:00:00+03:00\",\"2018-12-31T15:00:00+03:00\",\"2018-12-31T16:00:00+03:00\",\"2018-12-31T17:00:00+03:00\",\"2018-12-31T18:00:00+03:00\",\"2018-12-31T19:00:00+03:00\",\"2018-12-31T20:00:00+03:00\",\"2018-12-31T21:00:00+03:00\",\"2018-12-31T22:00:00+03:00\",\"2018-12-31T23:00:00+03:00\",\"2019-01-01T00:00:00+03:00\",\"2019-01-01T01:00:00+03:00\",\"2019-01-01T02:00:00+03:00\"],\"xaxis\":\"x\",\"y\":[5.679090909090909,5.3625,4.786666666666666,4.956666666666667,5.055833333333333,6.649166666666666,9.023076923076923,12.549999999999999,12.660000000000002,7.8875,7.891666666666667,7.315833333333334,6.871666666666666,7.678333333333334,8.410833333333334,8.0675,7.591666666666666,8.046666666666667,9.750833333333334,10.7875,12.111666666666666,11.222499999999998,11.319166666666668,11.920833333333334,11.211666666666666,10.700000000000001,10.860833333333334,10.734166666666667,11.626666666666667,14.8075,16.232499999999998,13.711666666666666,13.253333333333332,11.1075,9.843333333333334,8.756666666666666,6.6827272727272735,5.564166666666666,5.940833333333334,6.248333333333334,5.610833333333333,5.36,6.805,7.7491666666666665,7.6883333333333335,7.9575000000000005,8.355833333333333,7.927499999999999,7.077500000000001,6.189166666666666,5.964166666666666,5.290833333333333,5.249230769230769,5.539166666666667,7.700833333333333,6.321666666666666,5.31,5.590833333333333,9.894545454545455,8.965,6.790909090909091,4.291666666666667,3.7733333333333334,3.8183333333333334,2.4125,2.7283333333333335,4.4366666666666665,7.18,5.463333333333334,6.325833333333333,6.043333333333333,6.139166666666667,6.895,5.803333333333334,4.690833333333333,4.31,4.380833333333333,4.5441666666666665,4.725833333333333,8.7225,9.244166666666667,6.950833333333333,5.716666666666666,6.649166666666667,5.304545454545455,4.0475,3.279166666666667,3.1683333333333334,4.786666666666666,3.6775,5.6675,9.015833333333333,11.7675,5.255,3.751666666666667,5.39,5.245,3.7716666666666665,2.9,4.3133333333333335,4.815833333333333,4.783333333333333,8.78,12.159166666666666,6.246666666666666,6.7681818181818185,4.42,4.523333333333333,4.723333333333334,3.7883333333333336,3.5124999999999997,2.705,2.9791666666666665,3.56,5.141666666666667,8.37,7.223333333333334,5.802499999999999,6.460833333333333,9.676666666666668,4.254166666666666,4.1475,3.5191666666666666,5.368333333333333,5.2700000000000005,5.809166666666667,6.935,7.97,9.533333333333333,9.635,8.9625,5.713333333333334,5.913333333333334,5.800833333333333,5.44,4.477,5.445454545454545,4.4871428571428575,7.290909090909091,9.476666666666667,10.4025,9.150833333333333,7.060833333333334,7.854166666666667,9.755833333333333,12.665,18.803333333333335],\"yaxis\":\"y\",\"type\":\"scatter\"},{\"hovertemplate\":\"variable=y_pred<br>timestamp=%{x}<br>P2=%{y}<extra></extra>\",\"legendgroup\":\"y_pred\",\"line\":{\"color\":\"#EF553B\",\"dash\":\"solid\"},\"marker\":{\"symbol\":\"circle\"},\"mode\":\"lines\",\"name\":\"y_pred\",\"orientation\":\"v\",\"showlegend\":true,\"x\":[\"2018-12-26T00:00:00+03:00\",\"2018-12-26T01:00:00+03:00\",\"2018-12-26T02:00:00+03:00\",\"2018-12-26T03:00:00+03:00\",\"2018-12-26T04:00:00+03:00\",\"2018-12-26T05:00:00+03:00\",\"2018-12-26T06:00:00+03:00\",\"2018-12-26T07:00:00+03:00\",\"2018-12-26T08:00:00+03:00\",\"2018-12-26T09:00:00+03:00\",\"2018-12-26T10:00:00+03:00\",\"2018-12-26T11:00:00+03:00\",\"2018-12-26T12:00:00+03:00\",\"2018-12-26T13:00:00+03:00\",\"2018-12-26T14:00:00+03:00\",\"2018-12-26T15:00:00+03:00\",\"2018-12-26T16:00:00+03:00\",\"2018-12-26T17:00:00+03:00\",\"2018-12-26T18:00:00+03:00\",\"2018-12-26T19:00:00+03:00\",\"2018-12-26T20:00:00+03:00\",\"2018-12-26T21:00:00+03:00\",\"2018-12-26T22:00:00+03:00\",\"2018-12-26T23:00:00+03:00\",\"2018-12-27T00:00:00+03:00\",\"2018-12-27T01:00:00+03:00\",\"2018-12-27T02:00:00+03:00\",\"2018-12-27T03:00:00+03:00\",\"2018-12-27T04:00:00+03:00\",\"2018-12-27T05:00:00+03:00\",\"2018-12-27T06:00:00+03:00\",\"2018-12-27T07:00:00+03:00\",\"2018-12-27T08:00:00+03:00\",\"2018-12-27T09:00:00+03:00\",\"2018-12-27T10:00:00+03:00\",\"2018-12-27T11:00:00+03:00\",\"2018-12-27T12:00:00+03:00\",\"2018-12-27T13:00:00+03:00\",\"2018-12-27T14:00:00+03:00\",\"2018-12-27T15:00:00+03:00\",\"2018-12-27T16:00:00+03:00\",\"2018-12-27T17:00:00+03:00\",\"2018-12-27T18:00:00+03:00\",\"2018-12-27T19:00:00+03:00\",\"2018-12-27T20:00:00+03:00\",\"2018-12-27T21:00:00+03:00\",\"2018-12-27T22:00:00+03:00\",\"2018-12-27T23:00:00+03:00\",\"2018-12-28T00:00:00+03:00\",\"2018-12-28T01:00:00+03:00\",\"2018-12-28T02:00:00+03:00\",\"2018-12-28T03:00:00+03:00\",\"2018-12-28T04:00:00+03:00\",\"2018-12-28T05:00:00+03:00\",\"2018-12-28T06:00:00+03:00\",\"2018-12-28T07:00:00+03:00\",\"2018-12-28T08:00:00+03:00\",\"2018-12-28T09:00:00+03:00\",\"2018-12-28T10:00:00+03:00\",\"2018-12-28T11:00:00+03:00\",\"2018-12-28T12:00:00+03:00\",\"2018-12-28T13:00:00+03:00\",\"2018-12-28T14:00:00+03:00\",\"2018-12-28T15:00:00+03:00\",\"2018-12-28T16:00:00+03:00\",\"2018-12-28T17:00:00+03:00\",\"2018-12-28T18:00:00+03:00\",\"2018-12-28T19:00:00+03:00\",\"2018-12-28T20:00:00+03:00\",\"2018-12-28T21:00:00+03:00\",\"2018-12-28T22:00:00+03:00\",\"2018-12-28T23:00:00+03:00\",\"2018-12-29T00:00:00+03:00\",\"2018-12-29T01:00:00+03:00\",\"2018-12-29T02:00:00+03:00\",\"2018-12-29T03:00:00+03:00\",\"2018-12-29T04:00:00+03:00\",\"2018-12-29T05:00:00+03:00\",\"2018-12-29T06:00:00+03:00\",\"2018-12-29T07:00:00+03:00\",\"2018-12-29T08:00:00+03:00\",\"2018-12-29T09:00:00+03:00\",\"2018-12-29T10:00:00+03:00\",\"2018-12-29T11:00:00+03:00\",\"2018-12-29T12:00:00+03:00\",\"2018-12-29T13:00:00+03:00\",\"2018-12-29T14:00:00+03:00\",\"2018-12-29T15:00:00+03:00\",\"2018-12-29T16:00:00+03:00\",\"2018-12-29T17:00:00+03:00\",\"2018-12-29T18:00:00+03:00\",\"2018-12-29T19:00:00+03:00\",\"2018-12-29T20:00:00+03:00\",\"2018-12-29T21:00:00+03:00\",\"2018-12-29T22:00:00+03:00\",\"2018-12-29T23:00:00+03:00\",\"2018-12-30T00:00:00+03:00\",\"2018-12-30T01:00:00+03:00\",\"2018-12-30T02:00:00+03:00\",\"2018-12-30T03:00:00+03:00\",\"2018-12-30T04:00:00+03:00\",\"2018-12-30T05:00:00+03:00\",\"2018-12-30T06:00:00+03:00\",\"2018-12-30T07:00:00+03:00\",\"2018-12-30T08:00:00+03:00\",\"2018-12-30T09:00:00+03:00\",\"2018-12-30T10:00:00+03:00\",\"2018-12-30T11:00:00+03:00\",\"2018-12-30T12:00:00+03:00\",\"2018-12-30T13:00:00+03:00\",\"2018-12-30T14:00:00+03:00\",\"2018-12-30T15:00:00+03:00\",\"2018-12-30T16:00:00+03:00\",\"2018-12-30T17:00:00+03:00\",\"2018-12-30T18:00:00+03:00\",\"2018-12-30T19:00:00+03:00\",\"2018-12-30T20:00:00+03:00\",\"2018-12-30T21:00:00+03:00\",\"2018-12-30T22:00:00+03:00\",\"2018-12-30T23:00:00+03:00\",\"2018-12-31T00:00:00+03:00\",\"2018-12-31T01:00:00+03:00\",\"2018-12-31T02:00:00+03:00\",\"2018-12-31T03:00:00+03:00\",\"2018-12-31T04:00:00+03:00\",\"2018-12-31T05:00:00+03:00\",\"2018-12-31T06:00:00+03:00\",\"2018-12-31T07:00:00+03:00\",\"2018-12-31T08:00:00+03:00\",\"2018-12-31T09:00:00+03:00\",\"2018-12-31T10:00:00+03:00\",\"2018-12-31T11:00:00+03:00\",\"2018-12-31T12:00:00+03:00\",\"2018-12-31T13:00:00+03:00\",\"2018-12-31T14:00:00+03:00\",\"2018-12-31T15:00:00+03:00\",\"2018-12-31T16:00:00+03:00\",\"2018-12-31T17:00:00+03:00\",\"2018-12-31T18:00:00+03:00\",\"2018-12-31T19:00:00+03:00\",\"2018-12-31T20:00:00+03:00\",\"2018-12-31T21:00:00+03:00\",\"2018-12-31T22:00:00+03:00\",\"2018-12-31T23:00:00+03:00\",\"2019-01-01T00:00:00+03:00\",\"2019-01-01T01:00:00+03:00\",\"2019-01-01T02:00:00+03:00\"],\"xaxis\":\"x\",\"y\":[6.717606382234214,7.25927368186754,7.311587511724085,7.551141195476701,7.744001428237617,8.147630932741139,8.37251629118032,8.58942670025977,8.594783029431452,8.408272028822427,8.150029655186183,8.170253268223888,8.23245977139176,8.42479810161674,8.486064994979046,8.37284453269129,8.516089947824467,8.643899519928686,8.83719620605995,8.946285532549465,8.857616896816584,8.57968753263597,8.558510837413515,8.431761154407523,8.568131085483158,8.59999036039306,8.6756579958309,8.746551804161413,8.835328406479714,8.929982302424646,9.01683394429395,9.030653834030185,9.001976732190387,8.931066362637019,8.86491182437265,8.834765232062585,8.85485291002391,8.876906561544162,8.913747266962218,8.952829557992045,8.992981120072777,9.06533685616087,9.10660516526668,9.110299852439518,9.075595880529685,9.023806160271317,8.966596564175669,8.96113030903225,8.948031855941128,8.975897975843646,8.996642083106368,9.030727187556973,9.070417407184786,9.102486595443702,9.122772646900057,9.124089607889308,9.103458067511184,9.075793581682671,9.048889132797044,9.032894503861616,9.030590668472907,9.039924643470794,9.055142237145747,9.077449217043306,9.102128605166234,9.122431923261443,9.13533297978346,9.13271019305231,9.118163516021804,9.09797173956751,9.080438755541902,9.067666671119914,9.067317126911226,9.070602570999363,9.083642557116447,9.098291251638317,9.11396671510984,9.12697930376373,9.132477886205333,9.130508631651733,9.121816642522715,9.109260046650046,9.097908392471865,9.090245571826832,9.088037218255408,9.091348734068626,9.098956487187978,9.108930717764242,9.119323076727063,9.127293325137252,9.130656031350215,9.12892957754778,9.122695029929442,9.114460469342895,9.10671309491825,9.10172883510357,9.100013023631519,9.102508511767974,9.107340671410414,9.114239983554818,9.120785018319056,9.125587046763451,9.127580205719692,9.126122101381565,9.122126735132088,9.116846136252143,9.111794410252632,9.108451972441568,9.107436875515392,9.108867504927716,9.112273619312283,9.116690392394222,9.120975947060632,9.124069166573893,9.125175618514032,9.124142704555306,9.121429883483632,9.117901976479065,9.114618086199833,9.112399718003298,9.111789586954902,9.112745204527887,9.115052616578458,9.117914951861609,9.120702234205947,9.122621569243902,9.123245683092364,9.122528152570883,9.120713205470196,9.118415418038044,9.116273377440464,9.114832163470531,9.114439785114293,9.11511058823713,9.11661281473032,9.118520377402149,9.120312381587262,9.121534169996572,9.121906384322774,9.121382671062417,9.120176086263221,9.118658241063121,9.117254986239804,9.116332249060825,9.116089954543359,9.116556280732283,9.117551451527195],\"yaxis\":\"y\",\"type\":\"scatter\"}],                        {\"template\":{\"data\":{\"histogram2dcontour\":[{\"type\":\"histogram2dcontour\",\"colorbar\":{\"outlinewidth\":0,\"ticks\":\"\"},\"colorscale\":[[0.0,\"#0d0887\"],[0.1111111111111111,\"#46039f\"],[0.2222222222222222,\"#7201a8\"],[0.3333333333333333,\"#9c179e\"],[0.4444444444444444,\"#bd3786\"],[0.5555555555555556,\"#d8576b\"],[0.6666666666666666,\"#ed7953\"],[0.7777777777777778,\"#fb9f3a\"],[0.8888888888888888,\"#fdca26\"],[1.0,\"#f0f921\"]]}],\"choropleth\":[{\"type\":\"choropleth\",\"colorbar\":{\"outlinewidth\":0,\"ticks\":\"\"}}],\"histogram2d\":[{\"type\":\"histogram2d\",\"colorbar\":{\"outlinewidth\":0,\"ticks\":\"\"},\"colorscale\":[[0.0,\"#0d0887\"],[0.1111111111111111,\"#46039f\"],[0.2222222222222222,\"#7201a8\"],[0.3333333333333333,\"#9c179e\"],[0.4444444444444444,\"#bd3786\"],[0.5555555555555556,\"#d8576b\"],[0.6666666666666666,\"#ed7953\"],[0.7777777777777778,\"#fb9f3a\"],[0.8888888888888888,\"#fdca26\"],[1.0,\"#f0f921\"]]}],\"heatmap\":[{\"type\":\"heatmap\",\"colorbar\":{\"outlinewidth\":0,\"ticks\":\"\"},\"colorscale\":[[0.0,\"#0d0887\"],[0.1111111111111111,\"#46039f\"],[0.2222222222222222,\"#7201a8\"],[0.3333333333333333,\"#9c179e\"],[0.4444444444444444,\"#bd3786\"],[0.5555555555555556,\"#d8576b\"],[0.6666666666666666,\"#ed7953\"],[0.7777777777777778,\"#fb9f3a\"],[0.8888888888888888,\"#fdca26\"],[1.0,\"#f0f921\"]]}],\"heatmapgl\":[{\"type\":\"heatmapgl\",\"colorbar\":{\"outlinewidth\":0,\"ticks\":\"\"},\"colorscale\":[[0.0,\"#0d0887\"],[0.1111111111111111,\"#46039f\"],[0.2222222222222222,\"#7201a8\"],[0.3333333333333333,\"#9c179e\"],[0.4444444444444444,\"#bd3786\"],[0.5555555555555556,\"#d8576b\"],[0.6666666666666666,\"#ed7953\"],[0.7777777777777778,\"#fb9f3a\"],[0.8888888888888888,\"#fdca26\"],[1.0,\"#f0f921\"]]}],\"contourcarpet\":[{\"type\":\"contourcarpet\",\"colorbar\":{\"outlinewidth\":0,\"ticks\":\"\"}}],\"contour\":[{\"type\":\"contour\",\"colorbar\":{\"outlinewidth\":0,\"ticks\":\"\"},\"colorscale\":[[0.0,\"#0d0887\"],[0.1111111111111111,\"#46039f\"],[0.2222222222222222,\"#7201a8\"],[0.3333333333333333,\"#9c179e\"],[0.4444444444444444,\"#bd3786\"],[0.5555555555555556,\"#d8576b\"],[0.6666666666666666,\"#ed7953\"],[0.7777777777777778,\"#fb9f3a\"],[0.8888888888888888,\"#fdca26\"],[1.0,\"#f0f921\"]]}],\"surface\":[{\"type\":\"surface\",\"colorbar\":{\"outlinewidth\":0,\"ticks\":\"\"},\"colorscale\":[[0.0,\"#0d0887\"],[0.1111111111111111,\"#46039f\"],[0.2222222222222222,\"#7201a8\"],[0.3333333333333333,\"#9c179e\"],[0.4444444444444444,\"#bd3786\"],[0.5555555555555556,\"#d8576b\"],[0.6666666666666666,\"#ed7953\"],[0.7777777777777778,\"#fb9f3a\"],[0.8888888888888888,\"#fdca26\"],[1.0,\"#f0f921\"]]}],\"mesh3d\":[{\"type\":\"mesh3d\",\"colorbar\":{\"outlinewidth\":0,\"ticks\":\"\"}}],\"scatter\":[{\"fillpattern\":{\"fillmode\":\"overlay\",\"size\":10,\"solidity\":0.2},\"type\":\"scatter\"}],\"parcoords\":[{\"type\":\"parcoords\",\"line\":{\"colorbar\":{\"outlinewidth\":0,\"ticks\":\"\"}}}],\"scatterpolargl\":[{\"type\":\"scatterpolargl\",\"marker\":{\"colorbar\":{\"outlinewidth\":0,\"ticks\":\"\"}}}],\"bar\":[{\"error_x\":{\"color\":\"#2a3f5f\"},\"error_y\":{\"color\":\"#2a3f5f\"},\"marker\":{\"line\":{\"color\":\"#E5ECF6\",\"width\":0.5},\"pattern\":{\"fillmode\":\"overlay\",\"size\":10,\"solidity\":0.2}},\"type\":\"bar\"}],\"scattergeo\":[{\"type\":\"scattergeo\",\"marker\":{\"colorbar\":{\"outlinewidth\":0,\"ticks\":\"\"}}}],\"scatterpolar\":[{\"type\":\"scatterpolar\",\"marker\":{\"colorbar\":{\"outlinewidth\":0,\"ticks\":\"\"}}}],\"histogram\":[{\"marker\":{\"pattern\":{\"fillmode\":\"overlay\",\"size\":10,\"solidity\":0.2}},\"type\":\"histogram\"}],\"scattergl\":[{\"type\":\"scattergl\",\"marker\":{\"colorbar\":{\"outlinewidth\":0,\"ticks\":\"\"}}}],\"scatter3d\":[{\"type\":\"scatter3d\",\"line\":{\"colorbar\":{\"outlinewidth\":0,\"ticks\":\"\"}},\"marker\":{\"colorbar\":{\"outlinewidth\":0,\"ticks\":\"\"}}}],\"scattermapbox\":[{\"type\":\"scattermapbox\",\"marker\":{\"colorbar\":{\"outlinewidth\":0,\"ticks\":\"\"}}}],\"scatterternary\":[{\"type\":\"scatterternary\",\"marker\":{\"colorbar\":{\"outlinewidth\":0,\"ticks\":\"\"}}}],\"scattercarpet\":[{\"type\":\"scattercarpet\",\"marker\":{\"colorbar\":{\"outlinewidth\":0,\"ticks\":\"\"}}}],\"carpet\":[{\"aaxis\":{\"endlinecolor\":\"#2a3f5f\",\"gridcolor\":\"white\",\"linecolor\":\"white\",\"minorgridcolor\":\"white\",\"startlinecolor\":\"#2a3f5f\"},\"baxis\":{\"endlinecolor\":\"#2a3f5f\",\"gridcolor\":\"white\",\"linecolor\":\"white\",\"minorgridcolor\":\"white\",\"startlinecolor\":\"#2a3f5f\"},\"type\":\"carpet\"}],\"table\":[{\"cells\":{\"fill\":{\"color\":\"#EBF0F8\"},\"line\":{\"color\":\"white\"}},\"header\":{\"fill\":{\"color\":\"#C8D4E3\"},\"line\":{\"color\":\"white\"}},\"type\":\"table\"}],\"barpolar\":[{\"marker\":{\"line\":{\"color\":\"#E5ECF6\",\"width\":0.5},\"pattern\":{\"fillmode\":\"overlay\",\"size\":10,\"solidity\":0.2}},\"type\":\"barpolar\"}],\"pie\":[{\"automargin\":true,\"type\":\"pie\"}]},\"layout\":{\"autotypenumbers\":\"strict\",\"colorway\":[\"#636efa\",\"#EF553B\",\"#00cc96\",\"#ab63fa\",\"#FFA15A\",\"#19d3f3\",\"#FF6692\",\"#B6E880\",\"#FF97FF\",\"#FECB52\"],\"font\":{\"color\":\"#2a3f5f\"},\"hovermode\":\"closest\",\"hoverlabel\":{\"align\":\"left\"},\"paper_bgcolor\":\"white\",\"plot_bgcolor\":\"#E5ECF6\",\"polar\":{\"bgcolor\":\"#E5ECF6\",\"angularaxis\":{\"gridcolor\":\"white\",\"linecolor\":\"white\",\"ticks\":\"\"},\"radialaxis\":{\"gridcolor\":\"white\",\"linecolor\":\"white\",\"ticks\":\"\"}},\"ternary\":{\"bgcolor\":\"#E5ECF6\",\"aaxis\":{\"gridcolor\":\"white\",\"linecolor\":\"white\",\"ticks\":\"\"},\"baxis\":{\"gridcolor\":\"white\",\"linecolor\":\"white\",\"ticks\":\"\"},\"caxis\":{\"gridcolor\":\"white\",\"linecolor\":\"white\",\"ticks\":\"\"}},\"coloraxis\":{\"colorbar\":{\"outlinewidth\":0,\"ticks\":\"\"}},\"colorscale\":{\"sequential\":[[0.0,\"#0d0887\"],[0.1111111111111111,\"#46039f\"],[0.2222222222222222,\"#7201a8\"],[0.3333333333333333,\"#9c179e\"],[0.4444444444444444,\"#bd3786\"],[0.5555555555555556,\"#d8576b\"],[0.6666666666666666,\"#ed7953\"],[0.7777777777777778,\"#fb9f3a\"],[0.8888888888888888,\"#fdca26\"],[1.0,\"#f0f921\"]],\"sequentialminus\":[[0.0,\"#0d0887\"],[0.1111111111111111,\"#46039f\"],[0.2222222222222222,\"#7201a8\"],[0.3333333333333333,\"#9c179e\"],[0.4444444444444444,\"#bd3786\"],[0.5555555555555556,\"#d8576b\"],[0.6666666666666666,\"#ed7953\"],[0.7777777777777778,\"#fb9f3a\"],[0.8888888888888888,\"#fdca26\"],[1.0,\"#f0f921\"]],\"diverging\":[[0,\"#8e0152\"],[0.1,\"#c51b7d\"],[0.2,\"#de77ae\"],[0.3,\"#f1b6da\"],[0.4,\"#fde0ef\"],[0.5,\"#f7f7f7\"],[0.6,\"#e6f5d0\"],[0.7,\"#b8e186\"],[0.8,\"#7fbc41\"],[0.9,\"#4d9221\"],[1,\"#276419\"]]},\"xaxis\":{\"gridcolor\":\"white\",\"linecolor\":\"white\",\"ticks\":\"\",\"title\":{\"standoff\":15},\"zerolinecolor\":\"white\",\"automargin\":true,\"zerolinewidth\":2},\"yaxis\":{\"gridcolor\":\"white\",\"linecolor\":\"white\",\"ticks\":\"\",\"title\":{\"standoff\":15},\"zerolinecolor\":\"white\",\"automargin\":true,\"zerolinewidth\":2},\"scene\":{\"xaxis\":{\"backgroundcolor\":\"#E5ECF6\",\"gridcolor\":\"white\",\"linecolor\":\"white\",\"showbackground\":true,\"ticks\":\"\",\"zerolinecolor\":\"white\",\"gridwidth\":2},\"yaxis\":{\"backgroundcolor\":\"#E5ECF6\",\"gridcolor\":\"white\",\"linecolor\":\"white\",\"showbackground\":true,\"ticks\":\"\",\"zerolinecolor\":\"white\",\"gridwidth\":2},\"zaxis\":{\"backgroundcolor\":\"#E5ECF6\",\"gridcolor\":\"white\",\"linecolor\":\"white\",\"showbackground\":true,\"ticks\":\"\",\"zerolinecolor\":\"white\",\"gridwidth\":2}},\"shapedefaults\":{\"line\":{\"color\":\"#2a3f5f\"}},\"annotationdefaults\":{\"arrowcolor\":\"#2a3f5f\",\"arrowhead\":0,\"arrowwidth\":1},\"geo\":{\"bgcolor\":\"white\",\"landcolor\":\"#E5ECF6\",\"subunitcolor\":\"white\",\"showland\":true,\"showlakes\":true,\"lakecolor\":\"white\"},\"title\":{\"x\":0.05},\"mapbox\":{\"style\":\"light\"}}},\"xaxis\":{\"anchor\":\"y\",\"domain\":[0.0,1.0],\"title\":{\"text\":\"timestamp\"}},\"yaxis\":{\"anchor\":\"x\",\"domain\":[0.0,1.0],\"title\":{\"text\":\"P2\"}},\"legend\":{\"title\":{\"text\":\"variable\"},\"tracegroupgap\":0},\"margin\":{\"t\":60}},                        {\"responsive\": true}                    ).then(function(){\n",
       "                            \n",
       "var gd = document.getElementById('0101e91b-2d40-42b2-b5a2-329b6147ae10');\n",
       "var x = new MutationObserver(function (mutations, observer) {{\n",
       "        var display = window.getComputedStyle(gd).display;\n",
       "        if (!display || display === 'none') {{\n",
       "            console.log([gd, 'removed!']);\n",
       "            Plotly.purge(gd);\n",
       "            observer.disconnect();\n",
       "        }}\n",
       "}});\n",
       "\n",
       "// Listen for the removal of the full notebook cells\n",
       "var notebookContainer = gd.closest('#notebook-container');\n",
       "if (notebookContainer) {{\n",
       "    x.observe(notebookContainer, {childList: true});\n",
       "}}\n",
       "\n",
       "// Listen for the clearing of the current output cell\n",
       "var outputEl = gd.closest('.output');\n",
       "if (outputEl) {{\n",
       "    x.observe(outputEl, {childList: true});\n",
       "}}\n",
       "\n",
       "                        })                };                });            </script>        </div>"
      ]
     },
     "metadata": {},
     "output_type": "display_data"
    }
   ],
   "source": [
    "fig = px.line(df_pred_test, labels={\"value\": \"P2\"})\n",
    "fig.show()"
   ]
  },
  {
   "cell_type": "code",
   "execution_count": 91,
   "id": "914b5af2-deca-4283-8afc-82ab25540d2f",
   "metadata": {
    "deletable": false,
    "editable": false,
    "init_cell": true
   },
   "outputs": [
    {
     "data": {
      "text/html": [
       "\n",
       "        <iframe\n",
       "            width=\"600\"\n",
       "            height=\"300\"\n",
       "            src=\"https://player.vimeo.com/video/665851599?h=bb30d96e43\"\n",
       "            frameborder=\"0\"\n",
       "            allowfullscreen\n",
       "            \n",
       "        ></iframe>\n",
       "        "
      ],
      "text/plain": [
       "<IPython.lib.display.VimeoVideo at 0x7fb510d816d0>"
      ]
     },
     "execution_count": 91,
     "metadata": {},
     "output_type": "execute_result"
    }
   ],
   "source": [
    "VimeoVideo(\"665851599\", h=\"bb30d96e43\", width=600)"
   ]
  },
  {
   "cell_type": "markdown",
   "id": "85a40559-c6ea-41ed-bc53-29f0971a732a",
   "metadata": {
    "deletable": false,
    "editable": false
   },
   "source": [
    "**Task 3.3.17:** Perform walk-forward validation for your model for the entire test set `y_test`. Store your model's predictions in the Series `y_pred_wfv`. \n",
    "\n",
    "- [What's <span id='term'>walk-forward validation?](../%40textbook/17-ts-core.ipynb#Walk-Forward-Validation)\n",
    "- [<span id='technique'>Perform walk-forward validation for time series model.](../%40textbook/18-ts-models.ipynb#Walk-forward-Validation)"
   ]
  },
  {
   "cell_type": "code",
   "execution_count": 94,
   "id": "02bc327a-1722-44cc-9588-5d084b540730",
   "metadata": {},
   "outputs": [
    {
     "name": "stdout",
     "output_type": "stream",
     "text": [
      "147\n"
     ]
    }
   ],
   "source": [
    "print(len(y_test))"
   ]
  },
  {
   "cell_type": "code",
   "execution_count": null,
   "id": "92379eeb-4546-4bad-b11a-ec2477eaf6cc",
   "metadata": {},
   "outputs": [
    {
     "name": "stdout",
     "output_type": "stream",
     "text": [
      "146\r"
     ]
    }
   ],
   "source": [
    "y_pred_wfv = pd.Series()\n",
    "history = y_train.copy()\n",
    "\n",
    "for i in range(len(y_test)):\n",
    "    print(i, end='\\r', flush=True)\n",
    "    model=AutoReg(history,lags=26).fit()\n",
    "    next_pred = model.forecast()\n",
    "    y_pred_wfv = y_pred_wfv.append(next_pred)\n",
    "    history=history.append(y_test[next_pred.index])\n",
    "    "
   ]
  },
  {
   "cell_type": "code",
   "execution_count": 98,
   "id": "59e96947-8165-4883-9a19-ec3967076c5c",
   "metadata": {},
   "outputs": [
    {
     "data": {
      "text/plain": [
       "147"
      ]
     },
     "execution_count": 98,
     "metadata": {},
     "output_type": "execute_result"
    }
   ],
   "source": [
    "len(y_pred_wfv)"
   ]
  },
  {
   "cell_type": "code",
   "execution_count": 61,
   "id": "07942e75-e567-48b7-a162-a16fc6c1712b",
   "metadata": {},
   "outputs": [
    {
     "data": {
      "text/plain": [
       "timestamp\n",
       "2018-12-25 23:00:00+03:00    6.422727\n",
       "Freq: H, Name: P2, dtype: float64"
      ]
     },
     "execution_count": 61,
     "metadata": {},
     "output_type": "execute_result"
    }
   ],
   "source": [
    "history.tail(1)"
   ]
  },
  {
   "cell_type": "code",
   "execution_count": 64,
   "id": "df878bf4-d403-4cd8-84e7-e22007097f44",
   "metadata": {},
   "outputs": [
    {
     "data": {
      "text/plain": [
       "timestamp\n",
       "2018-12-26 00:00:00+03:00    5.679091\n",
       "Freq: H, Name: P2, dtype: float64"
      ]
     },
     "execution_count": 64,
     "metadata": {},
     "output_type": "execute_result"
    }
   ],
   "source": [
    "y_test.head(1)"
   ]
  },
  {
   "cell_type": "code",
   "execution_count": 99,
   "id": "81401774-34c5-4108-b4fd-18e35035be47",
   "metadata": {
    "deletable": false,
    "editable": false,
    "init_cell": true
   },
   "outputs": [
    {
     "data": {
      "text/html": [
       "\n",
       "        <iframe\n",
       "            width=\"600\"\n",
       "            height=\"300\"\n",
       "            src=\"https://player.vimeo.com/video/665851568?h=a764ab5416\"\n",
       "            frameborder=\"0\"\n",
       "            allowfullscreen\n",
       "            \n",
       "        ></iframe>\n",
       "        "
      ],
      "text/plain": [
       "<IPython.lib.display.VimeoVideo at 0x7fb459463ca0>"
      ]
     },
     "execution_count": 99,
     "metadata": {},
     "output_type": "execute_result"
    }
   ],
   "source": [
    "VimeoVideo(\"665851568\", h=\"a764ab5416\", width=600)"
   ]
  },
  {
   "cell_type": "markdown",
   "id": "4695b215-7312-4cd9-9e21-0603f5f9151b",
   "metadata": {
    "deletable": false,
    "editable": false
   },
   "source": [
    "**Task 3.3.18:** Calculate the test mean absolute error for your model.\n",
    "\n",
    "- [<span id='technique'>Calculate the mean absolute error for a list of predictions in <span id='tool'>scikit-learn.](../%40textbook/15-ml-regression.ipynb#Calculating-the-Mean-Absolute-Error-for-a-List-of-Predictions)"
   ]
  },
  {
   "cell_type": "code",
   "execution_count": 100,
   "id": "1aba2273-eba8-4ace-8bbd-245fecd828f1",
   "metadata": {
    "deletable": false
   },
   "outputs": [
    {
     "name": "stdout",
     "output_type": "stream",
     "text": [
      "Test MAE (walk forward validation): 1.4\n"
     ]
    }
   ],
   "source": [
    "test_mae = mean_absolute_error(y_test,y_pred_wfv)\n",
    "print(\"Test MAE (walk forward validation):\", round(test_mae, 2))"
   ]
  },
  {
   "cell_type": "markdown",
   "id": "6d8662e5-ab31-4eee-b0d2-0a34a207f697",
   "metadata": {
    "deletable": false,
    "editable": false
   },
   "source": [
    "# Communicate Results"
   ]
  },
  {
   "cell_type": "code",
   "execution_count": 101,
   "id": "b90b7a1f-f4ad-419b-b4f1-c3e6f96f0e44",
   "metadata": {
    "deletable": false,
    "editable": false,
    "init_cell": true
   },
   "outputs": [
    {
     "data": {
      "text/html": [
       "\n",
       "        <iframe\n",
       "            width=\"600\"\n",
       "            height=\"300\"\n",
       "            src=\"https://player.vimeo.com/video/665851553?h=46338036cc\"\n",
       "            frameborder=\"0\"\n",
       "            allowfullscreen\n",
       "            \n",
       "        ></iframe>\n",
       "        "
      ],
      "text/plain": [
       "<IPython.lib.display.VimeoVideo at 0x7fb4594f2f10>"
      ]
     },
     "execution_count": 101,
     "metadata": {},
     "output_type": "execute_result"
    }
   ],
   "source": [
    "VimeoVideo(\"665851553\", h=\"46338036cc\", width=600)"
   ]
  },
  {
   "cell_type": "markdown",
   "id": "1bbfa94d-a026-49fd-b1f6-b9d162c3aa53",
   "metadata": {
    "deletable": false,
    "editable": false
   },
   "source": [
    "**Task 3.3.19:** Print out the parameters for your trained model.\n",
    "\n",
    "- [<span id='technique'>Access model parameters in <span id='tool'>statsmodels](../%40textbook/18-ts-models.ipynb#Communicating-the-Results)"
   ]
  },
  {
   "cell_type": "code",
   "execution_count": 103,
   "id": "5f31e84c-2e76-4438-ab7c-0e96a21cc298",
   "metadata": {
    "deletable": false,
    "tags": []
   },
   "outputs": [
    {
     "name": "stdout",
     "output_type": "stream",
     "text": [
      "intercept    2.011432\n",
      "P2.L1        0.587118\n",
      "P2.L2        0.019796\n",
      "P2.L3        0.023615\n",
      "P2.L4        0.027187\n",
      "P2.L5        0.044014\n",
      "P2.L6       -0.102128\n",
      "P2.L7        0.029583\n",
      "P2.L8        0.049867\n",
      "P2.L9       -0.016897\n",
      "P2.L10       0.032438\n",
      "P2.L11       0.064360\n",
      "P2.L12       0.005987\n",
      "P2.L13       0.018375\n",
      "P2.L14      -0.007636\n",
      "P2.L15      -0.016075\n",
      "P2.L16      -0.015953\n",
      "P2.L17      -0.035444\n",
      "P2.L18       0.000756\n",
      "P2.L19      -0.003907\n",
      "P2.L20      -0.020655\n",
      "P2.L21      -0.012578\n",
      "P2.L22       0.052499\n",
      "P2.L23       0.074229\n",
      "P2.L24      -0.023806\n",
      "P2.L25       0.090577\n",
      "P2.L26      -0.088323\n",
      "dtype: float64\n"
     ]
    }
   ],
   "source": [
    "print(model.params)"
   ]
  },
  {
   "cell_type": "code",
   "execution_count": 104,
   "id": "9c3ed2e8-8363-475f-89d7-880acd4c2516",
   "metadata": {
    "deletable": false,
    "editable": false,
    "init_cell": true
   },
   "outputs": [
    {
     "data": {
      "text/html": [
       "\n",
       "        <iframe\n",
       "            width=\"600\"\n",
       "            height=\"300\"\n",
       "            src=\"https://player.vimeo.com/video/665851529?h=39284d37ac\"\n",
       "            frameborder=\"0\"\n",
       "            allowfullscreen\n",
       "            \n",
       "        ></iframe>\n",
       "        "
      ],
      "text/plain": [
       "<IPython.lib.display.VimeoVideo at 0x7fb4593c07f0>"
      ]
     },
     "execution_count": 104,
     "metadata": {},
     "output_type": "execute_result"
    }
   ],
   "source": [
    "VimeoVideo(\"665851529\", h=\"39284d37ac\", width=600)"
   ]
  },
  {
   "cell_type": "markdown",
   "id": "6c81a4e3-da69-402a-a621-7cb794b684d8",
   "metadata": {
    "deletable": false,
    "editable": false,
    "tags": []
   },
   "source": [
    "**Task 3.3.20:** Put the values for `y_test` and `y_pred_wfv` into the DataFrame `df_pred_test` (don't forget the index). Then plot `df_pred_test` using plotly express.\n",
    "\n",
    "- [<span id='technique'>Create a line plot in <span id='tool'>plotly express.](../%40textbook/07-visualization-pandas.ipynb#Line-Plots)"
   ]
  },
  {
   "cell_type": "code",
   "execution_count": 106,
   "id": "28486e70-6719-4ed6-a326-4a5fe7dddcab",
   "metadata": {
    "deletable": false
   },
   "outputs": [
    {
     "data": {
      "application/vnd.plotly.v1+json": {
       "config": {
        "plotlyServerURL": "https://plot.ly"
       },
       "data": [
        {
         "hovertemplate": "variable=y_test<br>index=%{x}<br>PM2.5=%{y}<extra></extra>",
         "legendgroup": "y_test",
         "line": {
          "color": "#636efa",
          "dash": "solid"
         },
         "marker": {
          "symbol": "circle"
         },
         "mode": "lines",
         "name": "y_test",
         "orientation": "v",
         "showlegend": true,
         "type": "scatter",
         "x": [
          "2018-12-26T00:00:00+03:00",
          "2018-12-26T01:00:00+03:00",
          "2018-12-26T02:00:00+03:00",
          "2018-12-26T03:00:00+03:00",
          "2018-12-26T04:00:00+03:00",
          "2018-12-26T05:00:00+03:00",
          "2018-12-26T06:00:00+03:00",
          "2018-12-26T07:00:00+03:00",
          "2018-12-26T08:00:00+03:00",
          "2018-12-26T09:00:00+03:00",
          "2018-12-26T10:00:00+03:00",
          "2018-12-26T11:00:00+03:00",
          "2018-12-26T12:00:00+03:00",
          "2018-12-26T13:00:00+03:00",
          "2018-12-26T14:00:00+03:00",
          "2018-12-26T15:00:00+03:00",
          "2018-12-26T16:00:00+03:00",
          "2018-12-26T17:00:00+03:00",
          "2018-12-26T18:00:00+03:00",
          "2018-12-26T19:00:00+03:00",
          "2018-12-26T20:00:00+03:00",
          "2018-12-26T21:00:00+03:00",
          "2018-12-26T22:00:00+03:00",
          "2018-12-26T23:00:00+03:00",
          "2018-12-27T00:00:00+03:00",
          "2018-12-27T01:00:00+03:00",
          "2018-12-27T02:00:00+03:00",
          "2018-12-27T03:00:00+03:00",
          "2018-12-27T04:00:00+03:00",
          "2018-12-27T05:00:00+03:00",
          "2018-12-27T06:00:00+03:00",
          "2018-12-27T07:00:00+03:00",
          "2018-12-27T08:00:00+03:00",
          "2018-12-27T09:00:00+03:00",
          "2018-12-27T10:00:00+03:00",
          "2018-12-27T11:00:00+03:00",
          "2018-12-27T12:00:00+03:00",
          "2018-12-27T13:00:00+03:00",
          "2018-12-27T14:00:00+03:00",
          "2018-12-27T15:00:00+03:00",
          "2018-12-27T16:00:00+03:00",
          "2018-12-27T17:00:00+03:00",
          "2018-12-27T18:00:00+03:00",
          "2018-12-27T19:00:00+03:00",
          "2018-12-27T20:00:00+03:00",
          "2018-12-27T21:00:00+03:00",
          "2018-12-27T22:00:00+03:00",
          "2018-12-27T23:00:00+03:00",
          "2018-12-28T00:00:00+03:00",
          "2018-12-28T01:00:00+03:00",
          "2018-12-28T02:00:00+03:00",
          "2018-12-28T03:00:00+03:00",
          "2018-12-28T04:00:00+03:00",
          "2018-12-28T05:00:00+03:00",
          "2018-12-28T06:00:00+03:00",
          "2018-12-28T07:00:00+03:00",
          "2018-12-28T08:00:00+03:00",
          "2018-12-28T09:00:00+03:00",
          "2018-12-28T10:00:00+03:00",
          "2018-12-28T11:00:00+03:00",
          "2018-12-28T12:00:00+03:00",
          "2018-12-28T13:00:00+03:00",
          "2018-12-28T14:00:00+03:00",
          "2018-12-28T15:00:00+03:00",
          "2018-12-28T16:00:00+03:00",
          "2018-12-28T17:00:00+03:00",
          "2018-12-28T18:00:00+03:00",
          "2018-12-28T19:00:00+03:00",
          "2018-12-28T20:00:00+03:00",
          "2018-12-28T21:00:00+03:00",
          "2018-12-28T22:00:00+03:00",
          "2018-12-28T23:00:00+03:00",
          "2018-12-29T00:00:00+03:00",
          "2018-12-29T01:00:00+03:00",
          "2018-12-29T02:00:00+03:00",
          "2018-12-29T03:00:00+03:00",
          "2018-12-29T04:00:00+03:00",
          "2018-12-29T05:00:00+03:00",
          "2018-12-29T06:00:00+03:00",
          "2018-12-29T07:00:00+03:00",
          "2018-12-29T08:00:00+03:00",
          "2018-12-29T09:00:00+03:00",
          "2018-12-29T10:00:00+03:00",
          "2018-12-29T11:00:00+03:00",
          "2018-12-29T12:00:00+03:00",
          "2018-12-29T13:00:00+03:00",
          "2018-12-29T14:00:00+03:00",
          "2018-12-29T15:00:00+03:00",
          "2018-12-29T16:00:00+03:00",
          "2018-12-29T17:00:00+03:00",
          "2018-12-29T18:00:00+03:00",
          "2018-12-29T19:00:00+03:00",
          "2018-12-29T20:00:00+03:00",
          "2018-12-29T21:00:00+03:00",
          "2018-12-29T22:00:00+03:00",
          "2018-12-29T23:00:00+03:00",
          "2018-12-30T00:00:00+03:00",
          "2018-12-30T01:00:00+03:00",
          "2018-12-30T02:00:00+03:00",
          "2018-12-30T03:00:00+03:00",
          "2018-12-30T04:00:00+03:00",
          "2018-12-30T05:00:00+03:00",
          "2018-12-30T06:00:00+03:00",
          "2018-12-30T07:00:00+03:00",
          "2018-12-30T08:00:00+03:00",
          "2018-12-30T09:00:00+03:00",
          "2018-12-30T10:00:00+03:00",
          "2018-12-30T11:00:00+03:00",
          "2018-12-30T12:00:00+03:00",
          "2018-12-30T13:00:00+03:00",
          "2018-12-30T14:00:00+03:00",
          "2018-12-30T15:00:00+03:00",
          "2018-12-30T16:00:00+03:00",
          "2018-12-30T17:00:00+03:00",
          "2018-12-30T18:00:00+03:00",
          "2018-12-30T19:00:00+03:00",
          "2018-12-30T20:00:00+03:00",
          "2018-12-30T21:00:00+03:00",
          "2018-12-30T22:00:00+03:00",
          "2018-12-30T23:00:00+03:00",
          "2018-12-31T00:00:00+03:00",
          "2018-12-31T01:00:00+03:00",
          "2018-12-31T02:00:00+03:00",
          "2018-12-31T03:00:00+03:00",
          "2018-12-31T04:00:00+03:00",
          "2018-12-31T05:00:00+03:00",
          "2018-12-31T06:00:00+03:00",
          "2018-12-31T07:00:00+03:00",
          "2018-12-31T08:00:00+03:00",
          "2018-12-31T09:00:00+03:00",
          "2018-12-31T10:00:00+03:00",
          "2018-12-31T11:00:00+03:00",
          "2018-12-31T12:00:00+03:00",
          "2018-12-31T13:00:00+03:00",
          "2018-12-31T14:00:00+03:00",
          "2018-12-31T15:00:00+03:00",
          "2018-12-31T16:00:00+03:00",
          "2018-12-31T17:00:00+03:00",
          "2018-12-31T18:00:00+03:00",
          "2018-12-31T19:00:00+03:00",
          "2018-12-31T20:00:00+03:00",
          "2018-12-31T21:00:00+03:00",
          "2018-12-31T22:00:00+03:00",
          "2018-12-31T23:00:00+03:00",
          "2019-01-01T00:00:00+03:00",
          "2019-01-01T01:00:00+03:00",
          "2019-01-01T02:00:00+03:00"
         ],
         "xaxis": "x",
         "y": [
          5.679090909090909,
          5.3625,
          4.786666666666666,
          4.956666666666667,
          5.055833333333333,
          6.649166666666666,
          9.023076923076923,
          12.549999999999999,
          12.660000000000002,
          7.8875,
          7.891666666666667,
          7.315833333333334,
          6.871666666666666,
          7.678333333333334,
          8.410833333333334,
          8.0675,
          7.591666666666666,
          8.046666666666667,
          9.750833333333334,
          10.7875,
          12.111666666666666,
          11.222499999999998,
          11.319166666666668,
          11.920833333333334,
          11.211666666666666,
          10.700000000000001,
          10.860833333333334,
          10.734166666666667,
          11.626666666666667,
          14.8075,
          16.232499999999998,
          13.711666666666666,
          13.253333333333332,
          11.1075,
          9.843333333333334,
          8.756666666666666,
          6.6827272727272735,
          5.564166666666666,
          5.940833333333334,
          6.248333333333334,
          5.610833333333333,
          5.36,
          6.805,
          7.7491666666666665,
          7.6883333333333335,
          7.9575000000000005,
          8.355833333333333,
          7.927499999999999,
          7.077500000000001,
          6.189166666666666,
          5.964166666666666,
          5.290833333333333,
          5.249230769230769,
          5.539166666666667,
          7.700833333333333,
          6.321666666666666,
          5.31,
          5.590833333333333,
          9.894545454545455,
          8.965,
          6.790909090909091,
          4.291666666666667,
          3.7733333333333334,
          3.8183333333333334,
          2.4125,
          2.7283333333333335,
          4.4366666666666665,
          7.18,
          5.463333333333334,
          6.325833333333333,
          6.043333333333333,
          6.139166666666667,
          6.895,
          5.803333333333334,
          4.690833333333333,
          4.31,
          4.380833333333333,
          4.5441666666666665,
          4.725833333333333,
          8.7225,
          9.244166666666667,
          6.950833333333333,
          5.716666666666666,
          6.649166666666667,
          5.304545454545455,
          4.0475,
          3.279166666666667,
          3.1683333333333334,
          4.786666666666666,
          3.6775,
          5.6675,
          9.015833333333333,
          11.7675,
          5.255,
          3.751666666666667,
          5.39,
          5.245,
          3.7716666666666665,
          2.9,
          4.3133333333333335,
          4.815833333333333,
          4.783333333333333,
          8.78,
          12.159166666666666,
          6.246666666666666,
          6.7681818181818185,
          4.42,
          4.523333333333333,
          4.723333333333334,
          3.7883333333333336,
          3.5124999999999997,
          2.705,
          2.9791666666666665,
          3.56,
          5.141666666666667,
          8.37,
          7.223333333333334,
          5.802499999999999,
          6.460833333333333,
          9.676666666666668,
          4.254166666666666,
          4.1475,
          3.5191666666666666,
          5.368333333333333,
          5.2700000000000005,
          5.809166666666667,
          6.935,
          7.97,
          9.533333333333333,
          9.635,
          8.9625,
          5.713333333333334,
          5.913333333333334,
          5.800833333333333,
          5.44,
          4.477,
          5.445454545454545,
          4.4871428571428575,
          7.290909090909091,
          9.476666666666667,
          10.4025,
          9.150833333333333,
          7.060833333333334,
          7.854166666666667,
          9.755833333333333,
          12.665,
          18.803333333333335
         ],
         "yaxis": "y"
        },
        {
         "hovertemplate": "variable=y_pred_wfv<br>index=%{x}<br>PM2.5=%{y}<extra></extra>",
         "legendgroup": "y_pred_wfv",
         "line": {
          "color": "#EF553B",
          "dash": "solid"
         },
         "marker": {
          "symbol": "circle"
         },
         "mode": "lines",
         "name": "y_pred_wfv",
         "orientation": "v",
         "showlegend": true,
         "type": "scatter",
         "x": [
          "2018-12-26T00:00:00+03:00",
          "2018-12-26T01:00:00+03:00",
          "2018-12-26T02:00:00+03:00",
          "2018-12-26T03:00:00+03:00",
          "2018-12-26T04:00:00+03:00",
          "2018-12-26T05:00:00+03:00",
          "2018-12-26T06:00:00+03:00",
          "2018-12-26T07:00:00+03:00",
          "2018-12-26T08:00:00+03:00",
          "2018-12-26T09:00:00+03:00",
          "2018-12-26T10:00:00+03:00",
          "2018-12-26T11:00:00+03:00",
          "2018-12-26T12:00:00+03:00",
          "2018-12-26T13:00:00+03:00",
          "2018-12-26T14:00:00+03:00",
          "2018-12-26T15:00:00+03:00",
          "2018-12-26T16:00:00+03:00",
          "2018-12-26T17:00:00+03:00",
          "2018-12-26T18:00:00+03:00",
          "2018-12-26T19:00:00+03:00",
          "2018-12-26T20:00:00+03:00",
          "2018-12-26T21:00:00+03:00",
          "2018-12-26T22:00:00+03:00",
          "2018-12-26T23:00:00+03:00",
          "2018-12-27T00:00:00+03:00",
          "2018-12-27T01:00:00+03:00",
          "2018-12-27T02:00:00+03:00",
          "2018-12-27T03:00:00+03:00",
          "2018-12-27T04:00:00+03:00",
          "2018-12-27T05:00:00+03:00",
          "2018-12-27T06:00:00+03:00",
          "2018-12-27T07:00:00+03:00",
          "2018-12-27T08:00:00+03:00",
          "2018-12-27T09:00:00+03:00",
          "2018-12-27T10:00:00+03:00",
          "2018-12-27T11:00:00+03:00",
          "2018-12-27T12:00:00+03:00",
          "2018-12-27T13:00:00+03:00",
          "2018-12-27T14:00:00+03:00",
          "2018-12-27T15:00:00+03:00",
          "2018-12-27T16:00:00+03:00",
          "2018-12-27T17:00:00+03:00",
          "2018-12-27T18:00:00+03:00",
          "2018-12-27T19:00:00+03:00",
          "2018-12-27T20:00:00+03:00",
          "2018-12-27T21:00:00+03:00",
          "2018-12-27T22:00:00+03:00",
          "2018-12-27T23:00:00+03:00",
          "2018-12-28T00:00:00+03:00",
          "2018-12-28T01:00:00+03:00",
          "2018-12-28T02:00:00+03:00",
          "2018-12-28T03:00:00+03:00",
          "2018-12-28T04:00:00+03:00",
          "2018-12-28T05:00:00+03:00",
          "2018-12-28T06:00:00+03:00",
          "2018-12-28T07:00:00+03:00",
          "2018-12-28T08:00:00+03:00",
          "2018-12-28T09:00:00+03:00",
          "2018-12-28T10:00:00+03:00",
          "2018-12-28T11:00:00+03:00",
          "2018-12-28T12:00:00+03:00",
          "2018-12-28T13:00:00+03:00",
          "2018-12-28T14:00:00+03:00",
          "2018-12-28T15:00:00+03:00",
          "2018-12-28T16:00:00+03:00",
          "2018-12-28T17:00:00+03:00",
          "2018-12-28T18:00:00+03:00",
          "2018-12-28T19:00:00+03:00",
          "2018-12-28T20:00:00+03:00",
          "2018-12-28T21:00:00+03:00",
          "2018-12-28T22:00:00+03:00",
          "2018-12-28T23:00:00+03:00",
          "2018-12-29T00:00:00+03:00",
          "2018-12-29T01:00:00+03:00",
          "2018-12-29T02:00:00+03:00",
          "2018-12-29T03:00:00+03:00",
          "2018-12-29T04:00:00+03:00",
          "2018-12-29T05:00:00+03:00",
          "2018-12-29T06:00:00+03:00",
          "2018-12-29T07:00:00+03:00",
          "2018-12-29T08:00:00+03:00",
          "2018-12-29T09:00:00+03:00",
          "2018-12-29T10:00:00+03:00",
          "2018-12-29T11:00:00+03:00",
          "2018-12-29T12:00:00+03:00",
          "2018-12-29T13:00:00+03:00",
          "2018-12-29T14:00:00+03:00",
          "2018-12-29T15:00:00+03:00",
          "2018-12-29T16:00:00+03:00",
          "2018-12-29T17:00:00+03:00",
          "2018-12-29T18:00:00+03:00",
          "2018-12-29T19:00:00+03:00",
          "2018-12-29T20:00:00+03:00",
          "2018-12-29T21:00:00+03:00",
          "2018-12-29T22:00:00+03:00",
          "2018-12-29T23:00:00+03:00",
          "2018-12-30T00:00:00+03:00",
          "2018-12-30T01:00:00+03:00",
          "2018-12-30T02:00:00+03:00",
          "2018-12-30T03:00:00+03:00",
          "2018-12-30T04:00:00+03:00",
          "2018-12-30T05:00:00+03:00",
          "2018-12-30T06:00:00+03:00",
          "2018-12-30T07:00:00+03:00",
          "2018-12-30T08:00:00+03:00",
          "2018-12-30T09:00:00+03:00",
          "2018-12-30T10:00:00+03:00",
          "2018-12-30T11:00:00+03:00",
          "2018-12-30T12:00:00+03:00",
          "2018-12-30T13:00:00+03:00",
          "2018-12-30T14:00:00+03:00",
          "2018-12-30T15:00:00+03:00",
          "2018-12-30T16:00:00+03:00",
          "2018-12-30T17:00:00+03:00",
          "2018-12-30T18:00:00+03:00",
          "2018-12-30T19:00:00+03:00",
          "2018-12-30T20:00:00+03:00",
          "2018-12-30T21:00:00+03:00",
          "2018-12-30T22:00:00+03:00",
          "2018-12-30T23:00:00+03:00",
          "2018-12-31T00:00:00+03:00",
          "2018-12-31T01:00:00+03:00",
          "2018-12-31T02:00:00+03:00",
          "2018-12-31T03:00:00+03:00",
          "2018-12-31T04:00:00+03:00",
          "2018-12-31T05:00:00+03:00",
          "2018-12-31T06:00:00+03:00",
          "2018-12-31T07:00:00+03:00",
          "2018-12-31T08:00:00+03:00",
          "2018-12-31T09:00:00+03:00",
          "2018-12-31T10:00:00+03:00",
          "2018-12-31T11:00:00+03:00",
          "2018-12-31T12:00:00+03:00",
          "2018-12-31T13:00:00+03:00",
          "2018-12-31T14:00:00+03:00",
          "2018-12-31T15:00:00+03:00",
          "2018-12-31T16:00:00+03:00",
          "2018-12-31T17:00:00+03:00",
          "2018-12-31T18:00:00+03:00",
          "2018-12-31T19:00:00+03:00",
          "2018-12-31T20:00:00+03:00",
          "2018-12-31T21:00:00+03:00",
          "2018-12-31T22:00:00+03:00",
          "2018-12-31T23:00:00+03:00",
          "2019-01-01T00:00:00+03:00",
          "2019-01-01T01:00:00+03:00",
          "2019-01-01T02:00:00+03:00"
         ],
         "xaxis": "x",
         "y": [
          6.717606382234214,
          6.652194153166813,
          6.180631450063729,
          6.010500441698376,
          6.102229429989028,
          6.366213097721237,
          7.3348919685277565,
          8.859726857002228,
          10.856627021627652,
          10.841276830834824,
          8.043093300542973,
          8.095211669052949,
          7.587844865032639,
          7.083080303531331,
          7.435465753855043,
          8.35798987947985,
          8.323210171239088,
          8.238523896930412,
          9.062359838289652,
          9.897086260334328,
          10.071516909711407,
          10.67133977044055,
          10.1783095836148,
          9.93252509255356,
          10.32139682048205,
          9.849853804521079,
          9.629951983342213,
          9.825779515426927,
          10.129750625685798,
          11.02572690789771,
          13.495762848784475,
          14.321074635731792,
          12.630899721299969,
          12.255667732411634,
          10.426898125571231,
          9.622108291318725,
          8.784640979900702,
          7.855371040836418,
          7.030693121445796,
          7.253740079224203,
          7.648775340369043,
          7.3788499521922635,
          7.434615927121597,
          8.308747643706495,
          8.292707908874476,
          8.114550301508512,
          7.969711521915277,
          8.127193906431886,
          7.794302997329907,
          7.124894286287724,
          6.81015301189239,
          7.037314619795884,
          6.956352497881276,
          7.157415931087755,
          7.467728716197901,
          8.588393957260944,
          7.297057124617517,
          6.905153267046724,
          6.686769208011232,
          8.931416662561233,
          8.091820550694354,
          7.007291497718762,
          5.732320096374111,
          5.367111827370233,
          4.942063294766223,
          4.40936956811221,
          4.84709648726929,
          6.014437850657489,
          7.6769746561122485,
          6.7382808189995504,
          7.34049707549213,
          6.982710535804596,
          6.60138646159231,
          6.591608033458574,
          6.095808104963807,
          5.319627888322802,
          5.311808161377923,
          5.798991306212423,
          5.672759334997327,
          5.987733391912822,
          8.559105016547992,
          9.233537790388757,
          7.7863756338586905,
          7.1546523086171945,
          7.034990829445141,
          5.692206849404795,
          4.656321915797948,
          4.572237517423801,
          4.699777367339206,
          5.568190120650865,
          5.567223043416854,
          6.878139822853777,
          8.928609069168349,
          10.146324872321168,
          6.484753766537111,
          5.584591801360912,
          6.108691349145713,
          5.535320472757171,
          4.239490365099525,
          4.5923583341277885,
          5.533001149998808,
          5.847012054907331,
          6.591625781679907,
          9.064321547146317,
          10.938469148939049,
          7.02057479191698,
          7.082838864803246,
          5.650490906389269,
          5.182616806938304,
          4.525631211758405,
          5.219525987746976,
          4.868652483674972,
          4.370757853227398,
          5.565510998031623,
          5.991804610859411,
          6.822639474754523,
          8.129122877156025,
          7.37135862000529,
          5.884182195547504,
          6.4133444215033375,
          8.309935035984994,
          4.915091809218943,
          4.942190635703385,
          4.866936820690331,
          6.275264075855257,
          6.339095597712035,
          7.46235354374595,
          7.993042473597638,
          8.438439460934244,
          8.340990650987415,
          9.133672707147479,
          8.229645018130087,
          6.312007475776222,
          6.273773816388057,
          5.979293453295595,
          5.7913474870750985,
          5.3534529530670625,
          6.90586281899422,
          6.445058123176566,
          7.840165077645197,
          9.352590239301321,
          9.88967327931992,
          8.76562282382849,
          7.3642280916663125,
          7.791623086652448,
          7.865696772568415,
          10.259856231008902
         ],
         "yaxis": "y"
        }
       ],
       "layout": {
        "autosize": true,
        "legend": {
         "title": {
          "text": "variable"
         },
         "tracegroupgap": 0
        },
        "margin": {
         "t": 60
        },
        "template": {
         "data": {
          "bar": [
           {
            "error_x": {
             "color": "#2a3f5f"
            },
            "error_y": {
             "color": "#2a3f5f"
            },
            "marker": {
             "line": {
              "color": "#E5ECF6",
              "width": 0.5
             },
             "pattern": {
              "fillmode": "overlay",
              "size": 10,
              "solidity": 0.2
             }
            },
            "type": "bar"
           }
          ],
          "barpolar": [
           {
            "marker": {
             "line": {
              "color": "#E5ECF6",
              "width": 0.5
             },
             "pattern": {
              "fillmode": "overlay",
              "size": 10,
              "solidity": 0.2
             }
            },
            "type": "barpolar"
           }
          ],
          "carpet": [
           {
            "aaxis": {
             "endlinecolor": "#2a3f5f",
             "gridcolor": "white",
             "linecolor": "white",
             "minorgridcolor": "white",
             "startlinecolor": "#2a3f5f"
            },
            "baxis": {
             "endlinecolor": "#2a3f5f",
             "gridcolor": "white",
             "linecolor": "white",
             "minorgridcolor": "white",
             "startlinecolor": "#2a3f5f"
            },
            "type": "carpet"
           }
          ],
          "choropleth": [
           {
            "colorbar": {
             "outlinewidth": 0,
             "ticks": ""
            },
            "type": "choropleth"
           }
          ],
          "contour": [
           {
            "colorbar": {
             "outlinewidth": 0,
             "ticks": ""
            },
            "colorscale": [
             [
              0,
              "#0d0887"
             ],
             [
              0.1111111111111111,
              "#46039f"
             ],
             [
              0.2222222222222222,
              "#7201a8"
             ],
             [
              0.3333333333333333,
              "#9c179e"
             ],
             [
              0.4444444444444444,
              "#bd3786"
             ],
             [
              0.5555555555555556,
              "#d8576b"
             ],
             [
              0.6666666666666666,
              "#ed7953"
             ],
             [
              0.7777777777777778,
              "#fb9f3a"
             ],
             [
              0.8888888888888888,
              "#fdca26"
             ],
             [
              1,
              "#f0f921"
             ]
            ],
            "type": "contour"
           }
          ],
          "contourcarpet": [
           {
            "colorbar": {
             "outlinewidth": 0,
             "ticks": ""
            },
            "type": "contourcarpet"
           }
          ],
          "heatmap": [
           {
            "colorbar": {
             "outlinewidth": 0,
             "ticks": ""
            },
            "colorscale": [
             [
              0,
              "#0d0887"
             ],
             [
              0.1111111111111111,
              "#46039f"
             ],
             [
              0.2222222222222222,
              "#7201a8"
             ],
             [
              0.3333333333333333,
              "#9c179e"
             ],
             [
              0.4444444444444444,
              "#bd3786"
             ],
             [
              0.5555555555555556,
              "#d8576b"
             ],
             [
              0.6666666666666666,
              "#ed7953"
             ],
             [
              0.7777777777777778,
              "#fb9f3a"
             ],
             [
              0.8888888888888888,
              "#fdca26"
             ],
             [
              1,
              "#f0f921"
             ]
            ],
            "type": "heatmap"
           }
          ],
          "heatmapgl": [
           {
            "colorbar": {
             "outlinewidth": 0,
             "ticks": ""
            },
            "colorscale": [
             [
              0,
              "#0d0887"
             ],
             [
              0.1111111111111111,
              "#46039f"
             ],
             [
              0.2222222222222222,
              "#7201a8"
             ],
             [
              0.3333333333333333,
              "#9c179e"
             ],
             [
              0.4444444444444444,
              "#bd3786"
             ],
             [
              0.5555555555555556,
              "#d8576b"
             ],
             [
              0.6666666666666666,
              "#ed7953"
             ],
             [
              0.7777777777777778,
              "#fb9f3a"
             ],
             [
              0.8888888888888888,
              "#fdca26"
             ],
             [
              1,
              "#f0f921"
             ]
            ],
            "type": "heatmapgl"
           }
          ],
          "histogram": [
           {
            "marker": {
             "pattern": {
              "fillmode": "overlay",
              "size": 10,
              "solidity": 0.2
             }
            },
            "type": "histogram"
           }
          ],
          "histogram2d": [
           {
            "colorbar": {
             "outlinewidth": 0,
             "ticks": ""
            },
            "colorscale": [
             [
              0,
              "#0d0887"
             ],
             [
              0.1111111111111111,
              "#46039f"
             ],
             [
              0.2222222222222222,
              "#7201a8"
             ],
             [
              0.3333333333333333,
              "#9c179e"
             ],
             [
              0.4444444444444444,
              "#bd3786"
             ],
             [
              0.5555555555555556,
              "#d8576b"
             ],
             [
              0.6666666666666666,
              "#ed7953"
             ],
             [
              0.7777777777777778,
              "#fb9f3a"
             ],
             [
              0.8888888888888888,
              "#fdca26"
             ],
             [
              1,
              "#f0f921"
             ]
            ],
            "type": "histogram2d"
           }
          ],
          "histogram2dcontour": [
           {
            "colorbar": {
             "outlinewidth": 0,
             "ticks": ""
            },
            "colorscale": [
             [
              0,
              "#0d0887"
             ],
             [
              0.1111111111111111,
              "#46039f"
             ],
             [
              0.2222222222222222,
              "#7201a8"
             ],
             [
              0.3333333333333333,
              "#9c179e"
             ],
             [
              0.4444444444444444,
              "#bd3786"
             ],
             [
              0.5555555555555556,
              "#d8576b"
             ],
             [
              0.6666666666666666,
              "#ed7953"
             ],
             [
              0.7777777777777778,
              "#fb9f3a"
             ],
             [
              0.8888888888888888,
              "#fdca26"
             ],
             [
              1,
              "#f0f921"
             ]
            ],
            "type": "histogram2dcontour"
           }
          ],
          "mesh3d": [
           {
            "colorbar": {
             "outlinewidth": 0,
             "ticks": ""
            },
            "type": "mesh3d"
           }
          ],
          "parcoords": [
           {
            "line": {
             "colorbar": {
              "outlinewidth": 0,
              "ticks": ""
             }
            },
            "type": "parcoords"
           }
          ],
          "pie": [
           {
            "automargin": true,
            "type": "pie"
           }
          ],
          "scatter": [
           {
            "fillpattern": {
             "fillmode": "overlay",
             "size": 10,
             "solidity": 0.2
            },
            "type": "scatter"
           }
          ],
          "scatter3d": [
           {
            "line": {
             "colorbar": {
              "outlinewidth": 0,
              "ticks": ""
             }
            },
            "marker": {
             "colorbar": {
              "outlinewidth": 0,
              "ticks": ""
             }
            },
            "type": "scatter3d"
           }
          ],
          "scattercarpet": [
           {
            "marker": {
             "colorbar": {
              "outlinewidth": 0,
              "ticks": ""
             }
            },
            "type": "scattercarpet"
           }
          ],
          "scattergeo": [
           {
            "marker": {
             "colorbar": {
              "outlinewidth": 0,
              "ticks": ""
             }
            },
            "type": "scattergeo"
           }
          ],
          "scattergl": [
           {
            "marker": {
             "colorbar": {
              "outlinewidth": 0,
              "ticks": ""
             }
            },
            "type": "scattergl"
           }
          ],
          "scattermapbox": [
           {
            "marker": {
             "colorbar": {
              "outlinewidth": 0,
              "ticks": ""
             }
            },
            "type": "scattermapbox"
           }
          ],
          "scatterpolar": [
           {
            "marker": {
             "colorbar": {
              "outlinewidth": 0,
              "ticks": ""
             }
            },
            "type": "scatterpolar"
           }
          ],
          "scatterpolargl": [
           {
            "marker": {
             "colorbar": {
              "outlinewidth": 0,
              "ticks": ""
             }
            },
            "type": "scatterpolargl"
           }
          ],
          "scatterternary": [
           {
            "marker": {
             "colorbar": {
              "outlinewidth": 0,
              "ticks": ""
             }
            },
            "type": "scatterternary"
           }
          ],
          "surface": [
           {
            "colorbar": {
             "outlinewidth": 0,
             "ticks": ""
            },
            "colorscale": [
             [
              0,
              "#0d0887"
             ],
             [
              0.1111111111111111,
              "#46039f"
             ],
             [
              0.2222222222222222,
              "#7201a8"
             ],
             [
              0.3333333333333333,
              "#9c179e"
             ],
             [
              0.4444444444444444,
              "#bd3786"
             ],
             [
              0.5555555555555556,
              "#d8576b"
             ],
             [
              0.6666666666666666,
              "#ed7953"
             ],
             [
              0.7777777777777778,
              "#fb9f3a"
             ],
             [
              0.8888888888888888,
              "#fdca26"
             ],
             [
              1,
              "#f0f921"
             ]
            ],
            "type": "surface"
           }
          ],
          "table": [
           {
            "cells": {
             "fill": {
              "color": "#EBF0F8"
             },
             "line": {
              "color": "white"
             }
            },
            "header": {
             "fill": {
              "color": "#C8D4E3"
             },
             "line": {
              "color": "white"
             }
            },
            "type": "table"
           }
          ]
         },
         "layout": {
          "annotationdefaults": {
           "arrowcolor": "#2a3f5f",
           "arrowhead": 0,
           "arrowwidth": 1
          },
          "autotypenumbers": "strict",
          "coloraxis": {
           "colorbar": {
            "outlinewidth": 0,
            "ticks": ""
           }
          },
          "colorscale": {
           "diverging": [
            [
             0,
             "#8e0152"
            ],
            [
             0.1,
             "#c51b7d"
            ],
            [
             0.2,
             "#de77ae"
            ],
            [
             0.3,
             "#f1b6da"
            ],
            [
             0.4,
             "#fde0ef"
            ],
            [
             0.5,
             "#f7f7f7"
            ],
            [
             0.6,
             "#e6f5d0"
            ],
            [
             0.7,
             "#b8e186"
            ],
            [
             0.8,
             "#7fbc41"
            ],
            [
             0.9,
             "#4d9221"
            ],
            [
             1,
             "#276419"
            ]
           ],
           "sequential": [
            [
             0,
             "#0d0887"
            ],
            [
             0.1111111111111111,
             "#46039f"
            ],
            [
             0.2222222222222222,
             "#7201a8"
            ],
            [
             0.3333333333333333,
             "#9c179e"
            ],
            [
             0.4444444444444444,
             "#bd3786"
            ],
            [
             0.5555555555555556,
             "#d8576b"
            ],
            [
             0.6666666666666666,
             "#ed7953"
            ],
            [
             0.7777777777777778,
             "#fb9f3a"
            ],
            [
             0.8888888888888888,
             "#fdca26"
            ],
            [
             1,
             "#f0f921"
            ]
           ],
           "sequentialminus": [
            [
             0,
             "#0d0887"
            ],
            [
             0.1111111111111111,
             "#46039f"
            ],
            [
             0.2222222222222222,
             "#7201a8"
            ],
            [
             0.3333333333333333,
             "#9c179e"
            ],
            [
             0.4444444444444444,
             "#bd3786"
            ],
            [
             0.5555555555555556,
             "#d8576b"
            ],
            [
             0.6666666666666666,
             "#ed7953"
            ],
            [
             0.7777777777777778,
             "#fb9f3a"
            ],
            [
             0.8888888888888888,
             "#fdca26"
            ],
            [
             1,
             "#f0f921"
            ]
           ]
          },
          "colorway": [
           "#636efa",
           "#EF553B",
           "#00cc96",
           "#ab63fa",
           "#FFA15A",
           "#19d3f3",
           "#FF6692",
           "#B6E880",
           "#FF97FF",
           "#FECB52"
          ],
          "font": {
           "color": "#2a3f5f"
          },
          "geo": {
           "bgcolor": "white",
           "lakecolor": "white",
           "landcolor": "#E5ECF6",
           "showlakes": true,
           "showland": true,
           "subunitcolor": "white"
          },
          "hoverlabel": {
           "align": "left"
          },
          "hovermode": "closest",
          "mapbox": {
           "style": "light"
          },
          "paper_bgcolor": "white",
          "plot_bgcolor": "#E5ECF6",
          "polar": {
           "angularaxis": {
            "gridcolor": "white",
            "linecolor": "white",
            "ticks": ""
           },
           "bgcolor": "#E5ECF6",
           "radialaxis": {
            "gridcolor": "white",
            "linecolor": "white",
            "ticks": ""
           }
          },
          "scene": {
           "xaxis": {
            "backgroundcolor": "#E5ECF6",
            "gridcolor": "white",
            "gridwidth": 2,
            "linecolor": "white",
            "showbackground": true,
            "ticks": "",
            "zerolinecolor": "white"
           },
           "yaxis": {
            "backgroundcolor": "#E5ECF6",
            "gridcolor": "white",
            "gridwidth": 2,
            "linecolor": "white",
            "showbackground": true,
            "ticks": "",
            "zerolinecolor": "white"
           },
           "zaxis": {
            "backgroundcolor": "#E5ECF6",
            "gridcolor": "white",
            "gridwidth": 2,
            "linecolor": "white",
            "showbackground": true,
            "ticks": "",
            "zerolinecolor": "white"
           }
          },
          "shapedefaults": {
           "line": {
            "color": "#2a3f5f"
           }
          },
          "ternary": {
           "aaxis": {
            "gridcolor": "white",
            "linecolor": "white",
            "ticks": ""
           },
           "baxis": {
            "gridcolor": "white",
            "linecolor": "white",
            "ticks": ""
           },
           "bgcolor": "#E5ECF6",
           "caxis": {
            "gridcolor": "white",
            "linecolor": "white",
            "ticks": ""
           }
          },
          "title": {
           "x": 0.05
          },
          "xaxis": {
           "automargin": true,
           "gridcolor": "white",
           "linecolor": "white",
           "ticks": "",
           "title": {
            "standoff": 15
           },
           "zerolinecolor": "white",
           "zerolinewidth": 2
          },
          "yaxis": {
           "automargin": true,
           "gridcolor": "white",
           "linecolor": "white",
           "ticks": "",
           "title": {
            "standoff": 15
           },
           "zerolinecolor": "white",
           "zerolinewidth": 2
          }
         }
        },
        "xaxis": {
         "anchor": "y",
         "autorange": true,
         "domain": [
          0,
          1
         ],
         "range": [
          "2018-12-26",
          "2019-01-01 02:00"
         ],
         "title": {
          "text": "index"
         },
         "type": "date"
        },
        "yaxis": {
         "anchor": "x",
         "autorange": true,
         "domain": [
          0,
          1
         ],
         "range": [
          1.5018981481481481,
          19.713935185185186
         ],
         "title": {
          "text": "PM2.5"
         },
         "type": "linear"
        }
       }
      },
      "image/png": "[encoded data removed]",
      "text/html": [
       "<div>                            <div id=\"65484bfb-7c80-470b-aad1-65bb0f2dd90a\" class=\"plotly-graph-div\" style=\"height:525px; width:100%;\"></div>            <script type=\"text/javascript\">                require([\"plotly\"], function(Plotly) {                    window.PLOTLYENV=window.PLOTLYENV || {};                                    if (document.getElementById(\"65484bfb-7c80-470b-aad1-65bb0f2dd90a\")) {                    Plotly.newPlot(                        \"65484bfb-7c80-470b-aad1-65bb0f2dd90a\",                        [{\"hovertemplate\":\"variable=y_test<br>index=%{x}<br>PM2.5=%{y}<extra></extra>\",\"legendgroup\":\"y_test\",\"line\":{\"color\":\"#636efa\",\"dash\":\"solid\"},\"marker\":{\"symbol\":\"circle\"},\"mode\":\"lines\",\"name\":\"y_test\",\"orientation\":\"v\",\"showlegend\":true,\"x\":[\"2018-12-26T00:00:00+03:00\",\"2018-12-26T01:00:00+03:00\",\"2018-12-26T02:00:00+03:00\",\"2018-12-26T03:00:00+03:00\",\"2018-12-26T04:00:00+03:00\",\"2018-12-26T05:00:00+03:00\",\"2018-12-26T06:00:00+03:00\",\"2018-12-26T07:00:00+03:00\",\"2018-12-26T08:00:00+03:00\",\"2018-12-26T09:00:00+03:00\",\"2018-12-26T10:00:00+03:00\",\"2018-12-26T11:00:00+03:00\",\"2018-12-26T12:00:00+03:00\",\"2018-12-26T13:00:00+03:00\",\"2018-12-26T14:00:00+03:00\",\"2018-12-26T15:00:00+03:00\",\"2018-12-26T16:00:00+03:00\",\"2018-12-26T17:00:00+03:00\",\"2018-12-26T18:00:00+03:00\",\"2018-12-26T19:00:00+03:00\",\"2018-12-26T20:00:00+03:00\",\"2018-12-26T21:00:00+03:00\",\"2018-12-26T22:00:00+03:00\",\"2018-12-26T23:00:00+03:00\",\"2018-12-27T00:00:00+03:00\",\"2018-12-27T01:00:00+03:00\",\"2018-12-27T02:00:00+03:00\",\"2018-12-27T03:00:00+03:00\",\"2018-12-27T04:00:00+03:00\",\"2018-12-27T05:00:00+03:00\",\"2018-12-27T06:00:00+03:00\",\"2018-12-27T07:00:00+03:00\",\"2018-12-27T08:00:00+03:00\",\"2018-12-27T09:00:00+03:00\",\"2018-12-27T10:00:00+03:00\",\"2018-12-27T11:00:00+03:00\",\"2018-12-27T12:00:00+03:00\",\"2018-12-27T13:00:00+03:00\",\"2018-12-27T14:00:00+03:00\",\"2018-12-27T15:00:00+03:00\",\"2018-12-27T16:00:00+03:00\",\"2018-12-27T17:00:00+03:00\",\"2018-12-27T18:00:00+03:00\",\"2018-12-27T19:00:00+03:00\",\"2018-12-27T20:00:00+03:00\",\"2018-12-27T21:00:00+03:00\",\"2018-12-27T22:00:00+03:00\",\"2018-12-27T23:00:00+03:00\",\"2018-12-28T00:00:00+03:00\",\"2018-12-28T01:00:00+03:00\",\"2018-12-28T02:00:00+03:00\",\"2018-12-28T03:00:00+03:00\",\"2018-12-28T04:00:00+03:00\",\"2018-12-28T05:00:00+03:00\",\"2018-12-28T06:00:00+03:00\",\"2018-12-28T07:00:00+03:00\",\"2018-12-28T08:00:00+03:00\",\"2018-12-28T09:00:00+03:00\",\"2018-12-28T10:00:00+03:00\",\"2018-12-28T11:00:00+03:00\",\"2018-12-28T12:00:00+03:00\",\"2018-12-28T13:00:00+03:00\",\"2018-12-28T14:00:00+03:00\",\"2018-12-28T15:00:00+03:00\",\"2018-12-28T16:00:00+03:00\",\"2018-12-28T17:00:00+03:00\",\"2018-12-28T18:00:00+03:00\",\"2018-12-28T19:00:00+03:00\",\"2018-12-28T20:00:00+03:00\",\"2018-12-28T21:00:00+03:00\",\"2018-12-28T22:00:00+03:00\",\"2018-12-28T23:00:00+03:00\",\"2018-12-29T00:00:00+03:00\",\"2018-12-29T01:00:00+03:00\",\"2018-12-29T02:00:00+03:00\",\"2018-12-29T03:00:00+03:00\",\"2018-12-29T04:00:00+03:00\",\"2018-12-29T05:00:00+03:00\",\"2018-12-29T06:00:00+03:00\",\"2018-12-29T07:00:00+03:00\",\"2018-12-29T08:00:00+03:00\",\"2018-12-29T09:00:00+03:00\",\"2018-12-29T10:00:00+03:00\",\"2018-12-29T11:00:00+03:00\",\"2018-12-29T12:00:00+03:00\",\"2018-12-29T13:00:00+03:00\",\"2018-12-29T14:00:00+03:00\",\"2018-12-29T15:00:00+03:00\",\"2018-12-29T16:00:00+03:00\",\"2018-12-29T17:00:00+03:00\",\"2018-12-29T18:00:00+03:00\",\"2018-12-29T19:00:00+03:00\",\"2018-12-29T20:00:00+03:00\",\"2018-12-29T21:00:00+03:00\",\"2018-12-29T22:00:00+03:00\",\"2018-12-29T23:00:00+03:00\",\"2018-12-30T00:00:00+03:00\",\"2018-12-30T01:00:00+03:00\",\"2018-12-30T02:00:00+03:00\",\"2018-12-30T03:00:00+03:00\",\"2018-12-30T04:00:00+03:00\",\"2018-12-30T05:00:00+03:00\",\"2018-12-30T06:00:00+03:00\",\"2018-12-30T07:00:00+03:00\",\"2018-12-30T08:00:00+03:00\",\"2018-12-30T09:00:00+03:00\",\"2018-12-30T10:00:00+03:00\",\"2018-12-30T11:00:00+03:00\",\"2018-12-30T12:00:00+03:00\",\"2018-12-30T13:00:00+03:00\",\"2018-12-30T14:00:00+03:00\",\"2018-12-30T15:00:00+03:00\",\"2018-12-30T16:00:00+03:00\",\"2018-12-30T17:00:00+03:00\",\"2018-12-30T18:00:00+03:00\",\"2018-12-30T19:00:00+03:00\",\"2018-12-30T20:00:00+03:00\",\"2018-12-30T21:00:00+03:00\",\"2018-12-30T22:00:00+03:00\",\"2018-12-30T23:00:00+03:00\",\"2018-12-31T00:00:00+03:00\",\"2018-12-31T01:00:00+03:00\",\"2018-12-31T02:00:00+03:00\",\"2018-12-31T03:00:00+03:00\",\"2018-12-31T04:00:00+03:00\",\"2018-12-31T05:00:00+03:00\",\"2018-12-31T06:00:00+03:00\",\"2018-12-31T07:00:00+03:00\",\"2018-12-31T08:00:00+03:00\",\"2018-12-31T09:00:00+03:00\",\"2018-12-31T10:00:00+03:00\",\"2018-12-31T11:00:00+03:00\",\"2018-12-31T12:00:00+03:00\",\"2018-12-31T13:00:00+03:00\",\"2018-12-31T14:00:00+03:00\",\"2018-12-31T15:00:00+03:00\",\"2018-12-31T16:00:00+03:00\",\"2018-12-31T17:00:00+03:00\",\"2018-12-31T18:00:00+03:00\",\"2018-12-31T19:00:00+03:00\",\"2018-12-31T20:00:00+03:00\",\"2018-12-31T21:00:00+03:00\",\"2018-12-31T22:00:00+03:00\",\"2018-12-31T23:00:00+03:00\",\"2019-01-01T00:00:00+03:00\",\"2019-01-01T01:00:00+03:00\",\"2019-01-01T02:00:00+03:00\"],\"xaxis\":\"x\",\"y\":[5.679090909090909,5.3625,4.786666666666666,4.956666666666667,5.055833333333333,6.649166666666666,9.023076923076923,12.549999999999999,12.660000000000002,7.8875,7.891666666666667,7.315833333333334,6.871666666666666,7.678333333333334,8.410833333333334,8.0675,7.591666666666666,8.046666666666667,9.750833333333334,10.7875,12.111666666666666,11.222499999999998,11.319166666666668,11.920833333333334,11.211666666666666,10.700000000000001,10.860833333333334,10.734166666666667,11.626666666666667,14.8075,16.232499999999998,13.711666666666666,13.253333333333332,11.1075,9.843333333333334,8.756666666666666,6.6827272727272735,5.564166666666666,5.940833333333334,6.248333333333334,5.610833333333333,5.36,6.805,7.7491666666666665,7.6883333333333335,7.9575000000000005,8.355833333333333,7.927499999999999,7.077500000000001,6.189166666666666,5.964166666666666,5.290833333333333,5.249230769230769,5.539166666666667,7.700833333333333,6.321666666666666,5.31,5.590833333333333,9.894545454545455,8.965,6.790909090909091,4.291666666666667,3.7733333333333334,3.8183333333333334,2.4125,2.7283333333333335,4.4366666666666665,7.18,5.463333333333334,6.325833333333333,6.043333333333333,6.139166666666667,6.895,5.803333333333334,4.690833333333333,4.31,4.380833333333333,4.5441666666666665,4.725833333333333,8.7225,9.244166666666667,6.950833333333333,5.716666666666666,6.649166666666667,5.304545454545455,4.0475,3.279166666666667,3.1683333333333334,4.786666666666666,3.6775,5.6675,9.015833333333333,11.7675,5.255,3.751666666666667,5.39,5.245,3.7716666666666665,2.9,4.3133333333333335,4.815833333333333,4.783333333333333,8.78,12.159166666666666,6.246666666666666,6.7681818181818185,4.42,4.523333333333333,4.723333333333334,3.7883333333333336,3.5124999999999997,2.705,2.9791666666666665,3.56,5.141666666666667,8.37,7.223333333333334,5.802499999999999,6.460833333333333,9.676666666666668,4.254166666666666,4.1475,3.5191666666666666,5.368333333333333,5.2700000000000005,5.809166666666667,6.935,7.97,9.533333333333333,9.635,8.9625,5.713333333333334,5.913333333333334,5.800833333333333,5.44,4.477,5.445454545454545,4.4871428571428575,7.290909090909091,9.476666666666667,10.4025,9.150833333333333,7.060833333333334,7.854166666666667,9.755833333333333,12.665,18.803333333333335],\"yaxis\":\"y\",\"type\":\"scatter\"},{\"hovertemplate\":\"variable=y_pred_wfv<br>index=%{x}<br>PM2.5=%{y}<extra></extra>\",\"legendgroup\":\"y_pred_wfv\",\"line\":{\"color\":\"#EF553B\",\"dash\":\"solid\"},\"marker\":{\"symbol\":\"circle\"},\"mode\":\"lines\",\"name\":\"y_pred_wfv\",\"orientation\":\"v\",\"showlegend\":true,\"x\":[\"2018-12-26T00:00:00+03:00\",\"2018-12-26T01:00:00+03:00\",\"2018-12-26T02:00:00+03:00\",\"2018-12-26T03:00:00+03:00\",\"2018-12-26T04:00:00+03:00\",\"2018-12-26T05:00:00+03:00\",\"2018-12-26T06:00:00+03:00\",\"2018-12-26T07:00:00+03:00\",\"2018-12-26T08:00:00+03:00\",\"2018-12-26T09:00:00+03:00\",\"2018-12-26T10:00:00+03:00\",\"2018-12-26T11:00:00+03:00\",\"2018-12-26T12:00:00+03:00\",\"2018-12-26T13:00:00+03:00\",\"2018-12-26T14:00:00+03:00\",\"2018-12-26T15:00:00+03:00\",\"2018-12-26T16:00:00+03:00\",\"2018-12-26T17:00:00+03:00\",\"2018-12-26T18:00:00+03:00\",\"2018-12-26T19:00:00+03:00\",\"2018-12-26T20:00:00+03:00\",\"2018-12-26T21:00:00+03:00\",\"2018-12-26T22:00:00+03:00\",\"2018-12-26T23:00:00+03:00\",\"2018-12-27T00:00:00+03:00\",\"2018-12-27T01:00:00+03:00\",\"2018-12-27T02:00:00+03:00\",\"2018-12-27T03:00:00+03:00\",\"2018-12-27T04:00:00+03:00\",\"2018-12-27T05:00:00+03:00\",\"2018-12-27T06:00:00+03:00\",\"2018-12-27T07:00:00+03:00\",\"2018-12-27T08:00:00+03:00\",\"2018-12-27T09:00:00+03:00\",\"2018-12-27T10:00:00+03:00\",\"2018-12-27T11:00:00+03:00\",\"2018-12-27T12:00:00+03:00\",\"2018-12-27T13:00:00+03:00\",\"2018-12-27T14:00:00+03:00\",\"2018-12-27T15:00:00+03:00\",\"2018-12-27T16:00:00+03:00\",\"2018-12-27T17:00:00+03:00\",\"2018-12-27T18:00:00+03:00\",\"2018-12-27T19:00:00+03:00\",\"2018-12-27T20:00:00+03:00\",\"2018-12-27T21:00:00+03:00\",\"2018-12-27T22:00:00+03:00\",\"2018-12-27T23:00:00+03:00\",\"2018-12-28T00:00:00+03:00\",\"2018-12-28T01:00:00+03:00\",\"2018-12-28T02:00:00+03:00\",\"2018-12-28T03:00:00+03:00\",\"2018-12-28T04:00:00+03:00\",\"2018-12-28T05:00:00+03:00\",\"2018-12-28T06:00:00+03:00\",\"2018-12-28T07:00:00+03:00\",\"2018-12-28T08:00:00+03:00\",\"2018-12-28T09:00:00+03:00\",\"2018-12-28T10:00:00+03:00\",\"2018-12-28T11:00:00+03:00\",\"2018-12-28T12:00:00+03:00\",\"2018-12-28T13:00:00+03:00\",\"2018-12-28T14:00:00+03:00\",\"2018-12-28T15:00:00+03:00\",\"2018-12-28T16:00:00+03:00\",\"2018-12-28T17:00:00+03:00\",\"2018-12-28T18:00:00+03:00\",\"2018-12-28T19:00:00+03:00\",\"2018-12-28T20:00:00+03:00\",\"2018-12-28T21:00:00+03:00\",\"2018-12-28T22:00:00+03:00\",\"2018-12-28T23:00:00+03:00\",\"2018-12-29T00:00:00+03:00\",\"2018-12-29T01:00:00+03:00\",\"2018-12-29T02:00:00+03:00\",\"2018-12-29T03:00:00+03:00\",\"2018-12-29T04:00:00+03:00\",\"2018-12-29T05:00:00+03:00\",\"2018-12-29T06:00:00+03:00\",\"2018-12-29T07:00:00+03:00\",\"2018-12-29T08:00:00+03:00\",\"2018-12-29T09:00:00+03:00\",\"2018-12-29T10:00:00+03:00\",\"2018-12-29T11:00:00+03:00\",\"2018-12-29T12:00:00+03:00\",\"2018-12-29T13:00:00+03:00\",\"2018-12-29T14:00:00+03:00\",\"2018-12-29T15:00:00+03:00\",\"2018-12-29T16:00:00+03:00\",\"2018-12-29T17:00:00+03:00\",\"2018-12-29T18:00:00+03:00\",\"2018-12-29T19:00:00+03:00\",\"2018-12-29T20:00:00+03:00\",\"2018-12-29T21:00:00+03:00\",\"2018-12-29T22:00:00+03:00\",\"2018-12-29T23:00:00+03:00\",\"2018-12-30T00:00:00+03:00\",\"2018-12-30T01:00:00+03:00\",\"2018-12-30T02:00:00+03:00\",\"2018-12-30T03:00:00+03:00\",\"2018-12-30T04:00:00+03:00\",\"2018-12-30T05:00:00+03:00\",\"2018-12-30T06:00:00+03:00\",\"2018-12-30T07:00:00+03:00\",\"2018-12-30T08:00:00+03:00\",\"2018-12-30T09:00:00+03:00\",\"2018-12-30T10:00:00+03:00\",\"2018-12-30T11:00:00+03:00\",\"2018-12-30T12:00:00+03:00\",\"2018-12-30T13:00:00+03:00\",\"2018-12-30T14:00:00+03:00\",\"2018-12-30T15:00:00+03:00\",\"2018-12-30T16:00:00+03:00\",\"2018-12-30T17:00:00+03:00\",\"2018-12-30T18:00:00+03:00\",\"2018-12-30T19:00:00+03:00\",\"2018-12-30T20:00:00+03:00\",\"2018-12-30T21:00:00+03:00\",\"2018-12-30T22:00:00+03:00\",\"2018-12-30T23:00:00+03:00\",\"2018-12-31T00:00:00+03:00\",\"2018-12-31T01:00:00+03:00\",\"2018-12-31T02:00:00+03:00\",\"2018-12-31T03:00:00+03:00\",\"2018-12-31T04:00:00+03:00\",\"2018-12-31T05:00:00+03:00\",\"2018-12-31T06:00:00+03:00\",\"2018-12-31T07:00:00+03:00\",\"2018-12-31T08:00:00+03:00\",\"2018-12-31T09:00:00+03:00\",\"2018-12-31T10:00:00+03:00\",\"2018-12-31T11:00:00+03:00\",\"2018-12-31T12:00:00+03:00\",\"2018-12-31T13:00:00+03:00\",\"2018-12-31T14:00:00+03:00\",\"2018-12-31T15:00:00+03:00\",\"2018-12-31T16:00:00+03:00\",\"2018-12-31T17:00:00+03:00\",\"2018-12-31T18:00:00+03:00\",\"2018-12-31T19:00:00+03:00\",\"2018-12-31T20:00:00+03:00\",\"2018-12-31T21:00:00+03:00\",\"2018-12-31T22:00:00+03:00\",\"2018-12-31T23:00:00+03:00\",\"2019-01-01T00:00:00+03:00\",\"2019-01-01T01:00:00+03:00\",\"2019-01-01T02:00:00+03:00\"],\"xaxis\":\"x\",\"y\":[6.717606382234214,6.652194153166813,6.180631450063729,6.010500441698376,6.102229429989028,6.366213097721237,7.3348919685277565,8.859726857002228,10.856627021627652,10.841276830834824,8.043093300542973,8.095211669052949,7.587844865032639,7.083080303531331,7.435465753855043,8.35798987947985,8.323210171239088,8.238523896930412,9.062359838289652,9.897086260334328,10.071516909711407,10.67133977044055,10.1783095836148,9.93252509255356,10.32139682048205,9.849853804521079,9.629951983342213,9.825779515426927,10.129750625685798,11.02572690789771,13.495762848784475,14.321074635731792,12.630899721299969,12.255667732411634,10.426898125571231,9.622108291318725,8.784640979900702,7.855371040836418,7.030693121445796,7.253740079224203,7.648775340369043,7.3788499521922635,7.434615927121597,8.308747643706495,8.292707908874476,8.114550301508512,7.969711521915277,8.127193906431886,7.794302997329907,7.124894286287724,6.81015301189239,7.037314619795884,6.956352497881276,7.157415931087755,7.467728716197901,8.588393957260944,7.297057124617517,6.905153267046724,6.686769208011232,8.931416662561233,8.091820550694354,7.007291497718762,5.732320096374111,5.367111827370233,4.942063294766223,4.40936956811221,4.84709648726929,6.014437850657489,7.6769746561122485,6.7382808189995504,7.34049707549213,6.982710535804596,6.60138646159231,6.591608033458574,6.095808104963807,5.319627888322802,5.311808161377923,5.798991306212423,5.672759334997327,5.987733391912822,8.559105016547992,9.233537790388757,7.7863756338586905,7.1546523086171945,7.034990829445141,5.692206849404795,4.656321915797948,4.572237517423801,4.699777367339206,5.568190120650865,5.567223043416854,6.878139822853777,8.928609069168349,10.146324872321168,6.484753766537111,5.584591801360912,6.108691349145713,5.535320472757171,4.239490365099525,4.5923583341277885,5.533001149998808,5.847012054907331,6.591625781679907,9.064321547146317,10.938469148939049,7.02057479191698,7.082838864803246,5.650490906389269,5.182616806938304,4.525631211758405,5.219525987746976,4.868652483674972,4.370757853227398,5.565510998031623,5.991804610859411,6.822639474754523,8.129122877156025,7.37135862000529,5.884182195547504,6.4133444215033375,8.309935035984994,4.915091809218943,4.942190635703385,4.866936820690331,6.275264075855257,6.339095597712035,7.46235354374595,7.993042473597638,8.438439460934244,8.340990650987415,9.133672707147479,8.229645018130087,6.312007475776222,6.273773816388057,5.979293453295595,5.7913474870750985,5.3534529530670625,6.90586281899422,6.445058123176566,7.840165077645197,9.352590239301321,9.88967327931992,8.76562282382849,7.3642280916663125,7.791623086652448,7.865696772568415,10.259856231008902],\"yaxis\":\"y\",\"type\":\"scatter\"}],                        {\"template\":{\"data\":{\"histogram2dcontour\":[{\"type\":\"histogram2dcontour\",\"colorbar\":{\"outlinewidth\":0,\"ticks\":\"\"},\"colorscale\":[[0.0,\"#0d0887\"],[0.1111111111111111,\"#46039f\"],[0.2222222222222222,\"#7201a8\"],[0.3333333333333333,\"#9c179e\"],[0.4444444444444444,\"#bd3786\"],[0.5555555555555556,\"#d8576b\"],[0.6666666666666666,\"#ed7953\"],[0.7777777777777778,\"#fb9f3a\"],[0.8888888888888888,\"#fdca26\"],[1.0,\"#f0f921\"]]}],\"choropleth\":[{\"type\":\"choropleth\",\"colorbar\":{\"outlinewidth\":0,\"ticks\":\"\"}}],\"histogram2d\":[{\"type\":\"histogram2d\",\"colorbar\":{\"outlinewidth\":0,\"ticks\":\"\"},\"colorscale\":[[0.0,\"#0d0887\"],[0.1111111111111111,\"#46039f\"],[0.2222222222222222,\"#7201a8\"],[0.3333333333333333,\"#9c179e\"],[0.4444444444444444,\"#bd3786\"],[0.5555555555555556,\"#d8576b\"],[0.6666666666666666,\"#ed7953\"],[0.7777777777777778,\"#fb9f3a\"],[0.8888888888888888,\"#fdca26\"],[1.0,\"#f0f921\"]]}],\"heatmap\":[{\"type\":\"heatmap\",\"colorbar\":{\"outlinewidth\":0,\"ticks\":\"\"},\"colorscale\":[[0.0,\"#0d0887\"],[0.1111111111111111,\"#46039f\"],[0.2222222222222222,\"#7201a8\"],[0.3333333333333333,\"#9c179e\"],[0.4444444444444444,\"#bd3786\"],[0.5555555555555556,\"#d8576b\"],[0.6666666666666666,\"#ed7953\"],[0.7777777777777778,\"#fb9f3a\"],[0.8888888888888888,\"#fdca26\"],[1.0,\"#f0f921\"]]}],\"heatmapgl\":[{\"type\":\"heatmapgl\",\"colorbar\":{\"outlinewidth\":0,\"ticks\":\"\"},\"colorscale\":[[0.0,\"#0d0887\"],[0.1111111111111111,\"#46039f\"],[0.2222222222222222,\"#7201a8\"],[0.3333333333333333,\"#9c179e\"],[0.4444444444444444,\"#bd3786\"],[0.5555555555555556,\"#d8576b\"],[0.6666666666666666,\"#ed7953\"],[0.7777777777777778,\"#fb9f3a\"],[0.8888888888888888,\"#fdca26\"],[1.0,\"#f0f921\"]]}],\"contourcarpet\":[{\"type\":\"contourcarpet\",\"colorbar\":{\"outlinewidth\":0,\"ticks\":\"\"}}],\"contour\":[{\"type\":\"contour\",\"colorbar\":{\"outlinewidth\":0,\"ticks\":\"\"},\"colorscale\":[[0.0,\"#0d0887\"],[0.1111111111111111,\"#46039f\"],[0.2222222222222222,\"#7201a8\"],[0.3333333333333333,\"#9c179e\"],[0.4444444444444444,\"#bd3786\"],[0.5555555555555556,\"#d8576b\"],[0.6666666666666666,\"#ed7953\"],[0.7777777777777778,\"#fb9f3a\"],[0.8888888888888888,\"#fdca26\"],[1.0,\"#f0f921\"]]}],\"surface\":[{\"type\":\"surface\",\"colorbar\":{\"outlinewidth\":0,\"ticks\":\"\"},\"colorscale\":[[0.0,\"#0d0887\"],[0.1111111111111111,\"#46039f\"],[0.2222222222222222,\"#7201a8\"],[0.3333333333333333,\"#9c179e\"],[0.4444444444444444,\"#bd3786\"],[0.5555555555555556,\"#d8576b\"],[0.6666666666666666,\"#ed7953\"],[0.7777777777777778,\"#fb9f3a\"],[0.8888888888888888,\"#fdca26\"],[1.0,\"#f0f921\"]]}],\"mesh3d\":[{\"type\":\"mesh3d\",\"colorbar\":{\"outlinewidth\":0,\"ticks\":\"\"}}],\"scatter\":[{\"fillpattern\":{\"fillmode\":\"overlay\",\"size\":10,\"solidity\":0.2},\"type\":\"scatter\"}],\"parcoords\":[{\"type\":\"parcoords\",\"line\":{\"colorbar\":{\"outlinewidth\":0,\"ticks\":\"\"}}}],\"scatterpolargl\":[{\"type\":\"scatterpolargl\",\"marker\":{\"colorbar\":{\"outlinewidth\":0,\"ticks\":\"\"}}}],\"bar\":[{\"error_x\":{\"color\":\"#2a3f5f\"},\"error_y\":{\"color\":\"#2a3f5f\"},\"marker\":{\"line\":{\"color\":\"#E5ECF6\",\"width\":0.5},\"pattern\":{\"fillmode\":\"overlay\",\"size\":10,\"solidity\":0.2}},\"type\":\"bar\"}],\"scattergeo\":[{\"type\":\"scattergeo\",\"marker\":{\"colorbar\":{\"outlinewidth\":0,\"ticks\":\"\"}}}],\"scatterpolar\":[{\"type\":\"scatterpolar\",\"marker\":{\"colorbar\":{\"outlinewidth\":0,\"ticks\":\"\"}}}],\"histogram\":[{\"marker\":{\"pattern\":{\"fillmode\":\"overlay\",\"size\":10,\"solidity\":0.2}},\"type\":\"histogram\"}],\"scattergl\":[{\"type\":\"scattergl\",\"marker\":{\"colorbar\":{\"outlinewidth\":0,\"ticks\":\"\"}}}],\"scatter3d\":[{\"type\":\"scatter3d\",\"line\":{\"colorbar\":{\"outlinewidth\":0,\"ticks\":\"\"}},\"marker\":{\"colorbar\":{\"outlinewidth\":0,\"ticks\":\"\"}}}],\"scattermapbox\":[{\"type\":\"scattermapbox\",\"marker\":{\"colorbar\":{\"outlinewidth\":0,\"ticks\":\"\"}}}],\"scatterternary\":[{\"type\":\"scatterternary\",\"marker\":{\"colorbar\":{\"outlinewidth\":0,\"ticks\":\"\"}}}],\"scattercarpet\":[{\"type\":\"scattercarpet\",\"marker\":{\"colorbar\":{\"outlinewidth\":0,\"ticks\":\"\"}}}],\"carpet\":[{\"aaxis\":{\"endlinecolor\":\"#2a3f5f\",\"gridcolor\":\"white\",\"linecolor\":\"white\",\"minorgridcolor\":\"white\",\"startlinecolor\":\"#2a3f5f\"},\"baxis\":{\"endlinecolor\":\"#2a3f5f\",\"gridcolor\":\"white\",\"linecolor\":\"white\",\"minorgridcolor\":\"white\",\"startlinecolor\":\"#2a3f5f\"},\"type\":\"carpet\"}],\"table\":[{\"cells\":{\"fill\":{\"color\":\"#EBF0F8\"},\"line\":{\"color\":\"white\"}},\"header\":{\"fill\":{\"color\":\"#C8D4E3\"},\"line\":{\"color\":\"white\"}},\"type\":\"table\"}],\"barpolar\":[{\"marker\":{\"line\":{\"color\":\"#E5ECF6\",\"width\":0.5},\"pattern\":{\"fillmode\":\"overlay\",\"size\":10,\"solidity\":0.2}},\"type\":\"barpolar\"}],\"pie\":[{\"automargin\":true,\"type\":\"pie\"}]},\"layout\":{\"autotypenumbers\":\"strict\",\"colorway\":[\"#636efa\",\"#EF553B\",\"#00cc96\",\"#ab63fa\",\"#FFA15A\",\"#19d3f3\",\"#FF6692\",\"#B6E880\",\"#FF97FF\",\"#FECB52\"],\"font\":{\"color\":\"#2a3f5f\"},\"hovermode\":\"closest\",\"hoverlabel\":{\"align\":\"left\"},\"paper_bgcolor\":\"white\",\"plot_bgcolor\":\"#E5ECF6\",\"polar\":{\"bgcolor\":\"#E5ECF6\",\"angularaxis\":{\"gridcolor\":\"white\",\"linecolor\":\"white\",\"ticks\":\"\"},\"radialaxis\":{\"gridcolor\":\"white\",\"linecolor\":\"white\",\"ticks\":\"\"}},\"ternary\":{\"bgcolor\":\"#E5ECF6\",\"aaxis\":{\"gridcolor\":\"white\",\"linecolor\":\"white\",\"ticks\":\"\"},\"baxis\":{\"gridcolor\":\"white\",\"linecolor\":\"white\",\"ticks\":\"\"},\"caxis\":{\"gridcolor\":\"white\",\"linecolor\":\"white\",\"ticks\":\"\"}},\"coloraxis\":{\"colorbar\":{\"outlinewidth\":0,\"ticks\":\"\"}},\"colorscale\":{\"sequential\":[[0.0,\"#0d0887\"],[0.1111111111111111,\"#46039f\"],[0.2222222222222222,\"#7201a8\"],[0.3333333333333333,\"#9c179e\"],[0.4444444444444444,\"#bd3786\"],[0.5555555555555556,\"#d8576b\"],[0.6666666666666666,\"#ed7953\"],[0.7777777777777778,\"#fb9f3a\"],[0.8888888888888888,\"#fdca26\"],[1.0,\"#f0f921\"]],\"sequentialminus\":[[0.0,\"#0d0887\"],[0.1111111111111111,\"#46039f\"],[0.2222222222222222,\"#7201a8\"],[0.3333333333333333,\"#9c179e\"],[0.4444444444444444,\"#bd3786\"],[0.5555555555555556,\"#d8576b\"],[0.6666666666666666,\"#ed7953\"],[0.7777777777777778,\"#fb9f3a\"],[0.8888888888888888,\"#fdca26\"],[1.0,\"#f0f921\"]],\"diverging\":[[0,\"#8e0152\"],[0.1,\"#c51b7d\"],[0.2,\"#de77ae\"],[0.3,\"#f1b6da\"],[0.4,\"#fde0ef\"],[0.5,\"#f7f7f7\"],[0.6,\"#e6f5d0\"],[0.7,\"#b8e186\"],[0.8,\"#7fbc41\"],[0.9,\"#4d9221\"],[1,\"#276419\"]]},\"xaxis\":{\"gridcolor\":\"white\",\"linecolor\":\"white\",\"ticks\":\"\",\"title\":{\"standoff\":15},\"zerolinecolor\":\"white\",\"automargin\":true,\"zerolinewidth\":2},\"yaxis\":{\"gridcolor\":\"white\",\"linecolor\":\"white\",\"ticks\":\"\",\"title\":{\"standoff\":15},\"zerolinecolor\":\"white\",\"automargin\":true,\"zerolinewidth\":2},\"scene\":{\"xaxis\":{\"backgroundcolor\":\"#E5ECF6\",\"gridcolor\":\"white\",\"linecolor\":\"white\",\"showbackground\":true,\"ticks\":\"\",\"zerolinecolor\":\"white\",\"gridwidth\":2},\"yaxis\":{\"backgroundcolor\":\"#E5ECF6\",\"gridcolor\":\"white\",\"linecolor\":\"white\",\"showbackground\":true,\"ticks\":\"\",\"zerolinecolor\":\"white\",\"gridwidth\":2},\"zaxis\":{\"backgroundcolor\":\"#E5ECF6\",\"gridcolor\":\"white\",\"linecolor\":\"white\",\"showbackground\":true,\"ticks\":\"\",\"zerolinecolor\":\"white\",\"gridwidth\":2}},\"shapedefaults\":{\"line\":{\"color\":\"#2a3f5f\"}},\"annotationdefaults\":{\"arrowcolor\":\"#2a3f5f\",\"arrowhead\":0,\"arrowwidth\":1},\"geo\":{\"bgcolor\":\"white\",\"landcolor\":\"#E5ECF6\",\"subunitcolor\":\"white\",\"showland\":true,\"showlakes\":true,\"lakecolor\":\"white\"},\"title\":{\"x\":0.05},\"mapbox\":{\"style\":\"light\"}}},\"xaxis\":{\"anchor\":\"y\",\"domain\":[0.0,1.0],\"title\":{\"text\":\"index\"}},\"yaxis\":{\"anchor\":\"x\",\"domain\":[0.0,1.0],\"title\":{\"text\":\"PM2.5\"}},\"legend\":{\"title\":{\"text\":\"variable\"},\"tracegroupgap\":0},\"margin\":{\"t\":60}},                        {\"responsive\": true}                    ).then(function(){\n",
       "                            \n",
       "var gd = document.getElementById('65484bfb-7c80-470b-aad1-65bb0f2dd90a');\n",
       "var x = new MutationObserver(function (mutations, observer) {{\n",
       "        var display = window.getComputedStyle(gd).display;\n",
       "        if (!display || display === 'none') {{\n",
       "            console.log([gd, 'removed!']);\n",
       "            Plotly.purge(gd);\n",
       "            observer.disconnect();\n",
       "        }}\n",
       "}});\n",
       "\n",
       "// Listen for the removal of the full notebook cells\n",
       "var notebookContainer = gd.closest('#notebook-container');\n",
       "if (notebookContainer) {{\n",
       "    x.observe(notebookContainer, {childList: true});\n",
       "}}\n",
       "\n",
       "// Listen for the clearing of the current output cell\n",
       "var outputEl = gd.closest('.output');\n",
       "if (outputEl) {{\n",
       "    x.observe(outputEl, {childList: true});\n",
       "}}\n",
       "\n",
       "                        })                };                });            </script>        </div>"
      ]
     },
     "metadata": {},
     "output_type": "display_data"
    }
   ],
   "source": [
    "df_pred_test = pd.DataFrame(\n",
    "    {\"y_test\": y_test, \"y_pred_wfv\":y_pred_wfv}\n",
    ")\n",
    "fig = px.line(df_pred_test,labels={\"value\":\"PM2.5\"})\n",
    "fig.show()"
   ]
  },
  {
   "cell_type": "markdown",
   "id": "5610af83",
   "metadata": {
    "deletable": false,
    "editable": false
   },
   "source": [
    "---\n",
    "Copyright © 2022 WorldQuant University. This\n",
    "content is licensed solely for personal use. Redistribution or\n",
    "publication of this material is strictly prohibited.\n"
   ]
  }
 ],
 "metadata": {
  "execution": {
   "timeout": 600
  },
  "kernelspec": {
   "display_name": "Python 3 (ipykernel)",
   "language": "python",
   "name": "python3"
  },
  "language_info": {
   "codemirror_mode": {
    "name": "ipython",
    "version": 3
   },
   "file_extension": ".py",
   "mimetype": "text/x-python",
   "name": "python",
   "nbconvert_exporter": "python",
   "pygments_lexer": "ipython3",
   "version": "3.9.6"
  },
  "toc-autonumbering": true
 },
 "nbformat": 4,
 "nbformat_minor": 5
}
