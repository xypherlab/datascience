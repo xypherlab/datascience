{
 "cells": [
  {
   "cell_type": "markdown",
   "id": "361b7c4f-1fd2-4e6f-9e60-1d97f3e05afb",
   "metadata": {
    "deletable": false,
    "editable": false
   },
   "source": [
    "<font size=\"+3\"><strong>5.5. Bankruptcy in Taiwan 🇹🇼</strong></font>"
   ]
  },
  {
   "cell_type": "code",
   "execution_count": 9,
   "id": "c789a400-a0e9-4665-8eea-55e5b17004be",
   "metadata": {
    "deletable": false,
    "editable": false,
    "init_cell": true,
    "tags": []
   },
   "outputs": [
    {
     "data": {
      "text/html": [
       "\n",
       "<style>\n",
       "  \n",
       "  .checkmark {\n",
       "    width: 56px;\n",
       "    height: 56px;\n",
       "    border-radius: 50%;\n",
       "    display: block;\n",
       "    stroke-width: 2;\n",
       "    stroke: #fff;\n",
       "    stroke-miterlimit: 10;\n",
       "    box-shadow: inset 0px 0px 0px #7ac142;\n",
       "    animation: fill .4s ease-in-out .4s forwards, scale .3s ease-in-out .9s both;\n",
       "  }\n",
       "  \n",
       "  .checkmark__circle {\n",
       "    stroke-dasharray: 166;\n",
       "    stroke-dashoffset: 166;\n",
       "    stroke-width: 2;\n",
       "    stroke-miterlimit: 10;\n",
       "    stroke: #7ac142;\n",
       "    fill: none;\n",
       "    animation: stroke .6s cubic-bezier(0.650, 0.000, 0.450, 1.000) forwards;\n",
       "  }\n",
       "  \n",
       "  .checkmark__check {\n",
       "    transform-origin: 50% 50%;\n",
       "    stroke-dasharray: 48;\n",
       "    stroke-dashoffset: 48;\n",
       "    animation: stroke .3s cubic-bezier(0.650, 0.000, 0.450, 1.000) .8s forwards;\n",
       "  }\n",
       "  \n",
       "  .failmark {\n",
       "    width: 56px;\n",
       "    height: 56px;\n",
       "    border-radius: 50%;\n",
       "    display: block;\n",
       "    stroke-width: 2;\n",
       "    stroke: #fff;\n",
       "    stroke-miterlimit: 10;\n",
       "    box-shadow: inset 0px 0px 0px #F34811;\n",
       "    animation: failfill .4s ease-in-out .4s forwards, scale .3s ease-in-out .9s both;\n",
       "  }\n",
       "  \n",
       "  .failmark__circle {\n",
       "    stroke-dasharray: 166;\n",
       "    stroke-dashoffset: 166;\n",
       "    stroke-width: 2;\n",
       "    stroke-miterlimit: 10;\n",
       "    stroke: #F34811;\n",
       "    fill: none;\n",
       "    animation: stroke .6s cubic-bezier(0.650, 0.000, 0.450, 1.000) forwards;\n",
       "  }\n",
       "  \n",
       "  @keyframes stroke {\n",
       "    100% {\n",
       "      stroke-dashoffset: 0;\n",
       "    }\n",
       "  }\n",
       "  \n",
       "  @keyframes scale {\n",
       "    0%, 100% {\n",
       "      transform: none;\n",
       "    }\n",
       "    50% {\n",
       "      transform: scale3d(1.1, 1.1, 1);\n",
       "    }\n",
       "  }\n",
       "  \n",
       "  @keyframes fill {\n",
       "    100% {\n",
       "      box-shadow: inset 0px 0px 0px 30px #7ac142;\n",
       "    }\n",
       "  }\n",
       "  \n",
       "  @keyframes failfill {\n",
       "    100% {\n",
       "      box-shadow: inset 0px 0px 0px 30px #F34811;\n",
       "    }\n",
       "  }\n",
       "  \n",
       "  \n",
       "  .wqet-result {\n",
       "    width: 450px;\n",
       "    clear: both;\n",
       "  }\n",
       "  \n",
       "  .wqet-result .animation {\n",
       "    float: left;\n",
       "    width: 100px;\n",
       "  }\n",
       "  \n",
       "  .wqet-result .animation .checkmark,\n",
       "  .wqet-result .animation .failmark {\n",
       "    margin: 20px auto 20px auto;\n",
       "  }\n",
       "  \n",
       "  .wqet-result .details {\n",
       "    float: right;\n",
       "    width: 349px;\n",
       "    padding: 28px 0;\n",
       "  }\n",
       "  \n",
       "  .wqet-result .details .title {\n",
       "    font-weight: bold;\n",
       "    font-size: 110%;\n",
       "  }\n",
       "  .wqet-result .details p {\n",
       "    margin: 0;\n",
       "  }\n",
       "</style>\n"
      ],
      "text/plain": [
       "<IPython.core.display.HTML object>"
      ]
     },
     "metadata": {},
     "output_type": "display_data"
    }
   ],
   "source": [
    "import wqet_grader\n",
    "\n",
    "wqet_grader.init(\"Project 5 Assessment\")"
   ]
  },
  {
   "cell_type": "code",
   "execution_count": 5,
   "id": "bfb5048c-b025-4997-b391-16b806b43f8f",
   "metadata": {
    "deletable": false,
    "tags": []
   },
   "outputs": [],
   "source": [
    "# Import libraries here\n",
    "import gzip\n",
    "import json\n",
    "import pickle\n",
    "import pandas as pd\n",
    "\n",
    "import matplotlib.pyplot as plt\n",
    "import seaborn as sns\n",
    "\n",
    "from ipywidgets import interact\n",
    "from teaching_tools.widgets import ConfusionMatrixWidget\n",
    "\n",
    "from sklearn.ensemble import GradientBoostingClassifier\n",
    "from sklearn.ensemble import RandomForestClassifier\n",
    "from sklearn.tree import DecisionTreeClassifier\n",
    "\n",
    "from sklearn.impute import SimpleImputer\n",
    "from imblearn.over_sampling import RandomOverSampler\n",
    "from imblearn.under_sampling import RandomUnderSampler\n",
    "\n",
    "from sklearn.metrics import (\n",
    "    ConfusionMatrixDisplay,\n",
    "    classification_report,\n",
    "    confusion_matrix,\n",
    ")\n",
    "\n",
    "from sklearn.model_selection import GridSearchCV, cross_val_score, train_test_split\n",
    "from sklearn.pipeline import make_pipeline\n"
   ]
  },
  {
   "cell_type": "markdown",
   "id": "341db403-0701-4165-b646-8d01cb154f8c",
   "metadata": {
    "deletable": false,
    "editable": false
   },
   "source": [
    "# Prepare Data"
   ]
  },
  {
   "cell_type": "markdown",
   "id": "74522f26-cf58-47a8-9f3e-20bb9d0b4324",
   "metadata": {
    "deletable": false,
    "editable": false
   },
   "source": [
    "## Import"
   ]
  },
  {
   "cell_type": "markdown",
   "id": "ad2b932d-e036-4918-9eeb-2d6b2530a3a5",
   "metadata": {
    "deletable": false,
    "editable": false
   },
   "source": [
    "**Task 5.5.1:** Load the contents of the `\"data/taiwan-bankruptcy-data.json.gz\"` and assign it to the variable <code>taiwan_data</code>. \n",
    "\n",
    "Note that <code>taiwan_data</code> should be a dictionary. You'll create a DataFrame in a later task."
   ]
  },
  {
   "cell_type": "code",
   "execution_count": 7,
   "id": "b692714a-3837-449c-a617-3173951341e8",
   "metadata": {
    "deletable": false
   },
   "outputs": [
    {
     "name": "stdout",
     "output_type": "stream",
     "text": [
      "<class 'dict'>\n"
     ]
    }
   ],
   "source": [
    "# Load data file\n",
    "with gzip.open(\"data/taiwan-bankruptcy-data.json.gz\",\"r\") as f:\n",
    "    taiwan_data = json.load(f)\n",
    "print(type(taiwan_data))"
   ]
  },
  {
   "cell_type": "code",
   "execution_count": 10,
   "id": "a268754f-e12e-435a-8f60-d8fb76654166",
   "metadata": {
    "deletable": false,
    "editable": false
   },
   "outputs": [
    {
     "data": {
      "text/html": [
       "\n",
       "    <div class=\"wqet-result\">\n",
       "      <div class=\"animation\">\n",
       "        <svg class=\"checkmark\" xmlns=\"http://www.w3.org/2000/svg\" viewBox=\"0 0 52 52\">\n",
       "          <circle class=\"checkmark__circle\" cx=\"26\" cy=\"26\" r=\"25\" fill=\"none\"/>\n",
       "          <path class=\"checkmark__check\" fill=\"none\" d=\"M14.1 27.2l7.1 7.2 16.7-16.8\"/>\n",
       "        </svg>\n",
       "      </div>\n",
       "      <div class=\"details\">\n",
       "        <p class=\"title\"><p>That's the right answer. Keep it up!</p></p>\n",
       "        <p>Score: 1</p>\n",
       "      </div>\n",
       "    </div>\n"
      ],
      "text/plain": [
       "<IPython.core.display.HTML object>"
      ]
     },
     "metadata": {},
     "output_type": "display_data"
    }
   ],
   "source": [
    "\n",
    "wqet_grader.grade(\"Project 5 Assessment\", \"Task 5.5.1\", taiwan_data[\"metadata\"])"
   ]
  },
  {
   "cell_type": "markdown",
   "id": "233a292e-d47c-42e4-b5d9-7262d707b58b",
   "metadata": {
    "deletable": false,
    "editable": false
   },
   "source": [
    "**Task 5.5.2:** Extract the key names from <code>taiwan_data</code> and assign them to the variable <code>taiwan_data_keys</code>.\n",
    "\n",
    "<div class=\"alert alert-info\" role=\"alert\">\n",
    "    <b>Tip:</b> The data in this assignment might be organized differently than the data from the project, so be sure to inspect it first. \n",
    "</div>"
   ]
  },
  {
   "cell_type": "code",
   "execution_count": 11,
   "id": "3b5e0062-1286-40c3-8c04-8b89ecf3e2d1",
   "metadata": {
    "deletable": false
   },
   "outputs": [
    {
     "name": "stdout",
     "output_type": "stream",
     "text": [
      "dict_keys(['schema', 'metadata', 'observations'])\n"
     ]
    }
   ],
   "source": [
    "taiwan_data_keys = taiwan_data.keys()\n",
    "print(taiwan_data_keys)"
   ]
  },
  {
   "cell_type": "code",
   "execution_count": 25,
   "id": "4b894f7b-6136-414a-a274-b3e5723207cb",
   "metadata": {},
   "outputs": [
    {
     "data": {
      "text/plain": [
       "{'id': 1,\n",
       " 'bankrupt': True,\n",
       " 'feat_1': 0.3705942573,\n",
       " 'feat_2': 0.4243894461,\n",
       " 'feat_3': 0.4057497725,\n",
       " 'feat_4': 0.6014572133,\n",
       " 'feat_5': 0.6014572133,\n",
       " 'feat_6': 0.9989692032,\n",
       " 'feat_7': 0.7968871459,\n",
       " 'feat_8': 0.8088093609,\n",
       " 'feat_9': 0.3026464339,\n",
       " 'feat_10': 0.7809848502,\n",
       " 'feat_11': 0.0001256969,\n",
       " 'feat_12': 0.0,\n",
       " 'feat_13': 0.4581431435,\n",
       " 'feat_14': 0.0007250725,\n",
       " 'feat_15': 0.0,\n",
       " 'feat_16': 0.1479499389,\n",
       " 'feat_17': 0.1479499389,\n",
       " 'feat_18': 0.1479499389,\n",
       " 'feat_19': 0.1691405881,\n",
       " 'feat_20': 0.3116644267,\n",
       " 'feat_21': 0.0175597804,\n",
       " 'feat_22': 0.0959205276,\n",
       " 'feat_23': 0.1387361603,\n",
       " 'feat_24': 0.0221022784,\n",
       " 'feat_25': 0.8481949945,\n",
       " 'feat_26': 0.6889794628,\n",
       " 'feat_27': 0.6889794628,\n",
       " 'feat_28': 0.2175353862,\n",
       " 'feat_29': 4980000000.0,\n",
       " 'feat_30': 0.0003269773,\n",
       " 'feat_31': 0.2630999837,\n",
       " 'feat_32': 0.363725271,\n",
       " 'feat_33': 0.0022589633,\n",
       " 'feat_34': 0.0012077551,\n",
       " 'feat_35': 0.629951302,\n",
       " 'feat_36': 0.0212659244,\n",
       " 'feat_37': 0.2075762615,\n",
       " 'feat_38': 0.7924237385,\n",
       " 'feat_39': 0.0050244547,\n",
       " 'feat_40': 0.3902843544,\n",
       " 'feat_41': 0.0064785025,\n",
       " 'feat_42': 0.095884834,\n",
       " 'feat_43': 0.1377573335,\n",
       " 'feat_44': 0.3980356983,\n",
       " 'feat_45': 0.0869565217,\n",
       " 'feat_46': 0.0018138841,\n",
       " 'feat_47': 0.0034873643,\n",
       " 'feat_48': 0.0001820926,\n",
       " 'feat_49': 0.0001165007,\n",
       " 'feat_50': 0.0329032258,\n",
       " 'feat_51': 0.034164182,\n",
       " 'feat_52': 0.3929128695,\n",
       " 'feat_53': 0.0371353016,\n",
       " 'feat_54': 0.6727752925,\n",
       " 'feat_55': 0.1666729588,\n",
       " 'feat_56': 0.1906429591,\n",
       " 'feat_57': 0.004094406,\n",
       " 'feat_58': 0.0019967709,\n",
       " 'feat_59': 0.000147336,\n",
       " 'feat_60': 0.1473084504,\n",
       " 'feat_61': 0.3340151713,\n",
       " 'feat_62': 0.2769201582,\n",
       " 'feat_63': 0.00103599,\n",
       " 'feat_64': 0.6762691762,\n",
       " 'feat_65': 0.7212745515,\n",
       " 'feat_66': 0.3390770068,\n",
       " 'feat_67': 0.025592368,\n",
       " 'feat_68': 0.9032247712,\n",
       " 'feat_69': 0.002021613,\n",
       " 'feat_70': 0.0648557077,\n",
       " 'feat_71': 701000000.0,\n",
       " 'feat_72': 6550000000.0,\n",
       " 'feat_73': 0.593830504,\n",
       " 'feat_74': 458000000.0,\n",
       " 'feat_75': 0.6715676536,\n",
       " 'feat_76': 0.4242057622,\n",
       " 'feat_77': 0.6762691762,\n",
       " 'feat_78': 0.3390770068,\n",
       " 'feat_79': 0.1265494878,\n",
       " 'feat_80': 0.6375553953,\n",
       " 'feat_81': 0.4586091477,\n",
       " 'feat_82': 0.5203819179,\n",
       " 'feat_83': 0.3129049481,\n",
       " 'feat_84': 0.1182504766,\n",
       " 'feat_85': 0,\n",
       " 'feat_86': 0.7168453432,\n",
       " 'feat_87': 0.00921944,\n",
       " 'feat_88': 0.6228789594,\n",
       " 'feat_89': 0.6014532901,\n",
       " 'feat_90': 0.827890214,\n",
       " 'feat_91': 0.2902018928,\n",
       " 'feat_92': 0.0266006308,\n",
       " 'feat_93': 0.5640501123,\n",
       " 'feat_94': 1,\n",
       " 'feat_95': 0.0164687409}"
      ]
     },
     "execution_count": 25,
     "metadata": {},
     "output_type": "execute_result"
    }
   ],
   "source": [
    "taiwan_data[\"observations\"][0]"
   ]
  },
  {
   "cell_type": "code",
   "execution_count": 12,
   "id": "98c2038e-14a6-4747-a94e-1f40c4ae00a5",
   "metadata": {
    "deletable": false,
    "editable": false
   },
   "outputs": [
    {
     "data": {
      "text/html": [
       "\n",
       "    <div class=\"wqet-result\">\n",
       "      <div class=\"animation\">\n",
       "        <svg class=\"checkmark\" xmlns=\"http://www.w3.org/2000/svg\" viewBox=\"0 0 52 52\">\n",
       "          <circle class=\"checkmark__circle\" cx=\"26\" cy=\"26\" r=\"25\" fill=\"none\"/>\n",
       "          <path class=\"checkmark__check\" fill=\"none\" d=\"M14.1 27.2l7.1 7.2 16.7-16.8\"/>\n",
       "        </svg>\n",
       "      </div>\n",
       "      <div class=\"details\">\n",
       "        <p class=\"title\"><p>You got it. Dance party time! 🕺💃🕺💃</p></p>\n",
       "        <p>Score: 1</p>\n",
       "      </div>\n",
       "    </div>\n"
      ],
      "text/plain": [
       "<IPython.core.display.HTML object>"
      ]
     },
     "metadata": {},
     "output_type": "display_data"
    }
   ],
   "source": [
    "wqet_grader.grade(\"Project 5 Assessment\", \"Task 5.5.2\", list(taiwan_data_keys))"
   ]
  },
  {
   "cell_type": "markdown",
   "id": "51e4cebc-dc66-4946-ad06-8e1b2e5b8e8a",
   "metadata": {
    "deletable": false,
    "editable": false
   },
   "source": [
    "**Task 5.5.3:** Calculate how many companies are in `taiwan_data` and assign the result to `n_companies`. "
   ]
  },
  {
   "cell_type": "code",
   "execution_count": 14,
   "id": "0ef61745-634f-490b-bdbd-261336c4c7d9",
   "metadata": {
    "deletable": false
   },
   "outputs": [
    {
     "name": "stdout",
     "output_type": "stream",
     "text": [
      "6137\n"
     ]
    }
   ],
   "source": [
    "n_companies = len(taiwan_data[\"observations\"])\n",
    "print(n_companies)"
   ]
  },
  {
   "cell_type": "code",
   "execution_count": 15,
   "id": "4a28f550-faf5-469e-96d9-f86763d6f67f",
   "metadata": {
    "deletable": false,
    "editable": false
   },
   "outputs": [
    {
     "data": {
      "text/html": [
       "\n",
       "    <div class=\"wqet-result\">\n",
       "      <div class=\"animation\">\n",
       "        <svg class=\"checkmark\" xmlns=\"http://www.w3.org/2000/svg\" viewBox=\"0 0 52 52\">\n",
       "          <circle class=\"checkmark__circle\" cx=\"26\" cy=\"26\" r=\"25\" fill=\"none\"/>\n",
       "          <path class=\"checkmark__check\" fill=\"none\" d=\"M14.1 27.2l7.1 7.2 16.7-16.8\"/>\n",
       "        </svg>\n",
       "      </div>\n",
       "      <div class=\"details\">\n",
       "        <p class=\"title\"><p>You're making this look easy. 😉</p></p>\n",
       "        <p>Score: 1</p>\n",
       "      </div>\n",
       "    </div>\n"
      ],
      "text/plain": [
       "<IPython.core.display.HTML object>"
      ]
     },
     "metadata": {},
     "output_type": "display_data"
    }
   ],
   "source": [
    "wqet_grader.grade(\"Project 5 Assessment\", \"Task 5.5.3\", [n_companies])"
   ]
  },
  {
   "cell_type": "markdown",
   "id": "9ba47fc4-6b37-475d-9463-a7eb805ff8d6",
   "metadata": {
    "deletable": false,
    "editable": false
   },
   "source": [
    "**Task 5.5.4:** Calculate the number of features associated with each company and assign the result to `n_features`."
   ]
  },
  {
   "cell_type": "code",
   "execution_count": 16,
   "id": "8b6d6d0e-1d03-41e4-852e-d3802317f345",
   "metadata": {
    "deletable": false
   },
   "outputs": [
    {
     "name": "stdout",
     "output_type": "stream",
     "text": [
      "97\n"
     ]
    }
   ],
   "source": [
    "n_features = len(taiwan_data[\"observations\"][0])\n",
    "print(n_features)"
   ]
  },
  {
   "cell_type": "code",
   "execution_count": 17,
   "id": "265ce95b-b1b4-43a4-ba96-fe683f40823b",
   "metadata": {
    "deletable": false,
    "editable": false
   },
   "outputs": [
    {
     "data": {
      "text/html": [
       "\n",
       "    <div class=\"wqet-result\">\n",
       "      <div class=\"animation\">\n",
       "        <svg class=\"checkmark\" xmlns=\"http://www.w3.org/2000/svg\" viewBox=\"0 0 52 52\">\n",
       "          <circle class=\"checkmark__circle\" cx=\"26\" cy=\"26\" r=\"25\" fill=\"none\"/>\n",
       "          <path class=\"checkmark__check\" fill=\"none\" d=\"M14.1 27.2l7.1 7.2 16.7-16.8\"/>\n",
       "        </svg>\n",
       "      </div>\n",
       "      <div class=\"details\">\n",
       "        <p class=\"title\"><p>Way to go!</p></p>\n",
       "        <p>Score: 1</p>\n",
       "      </div>\n",
       "    </div>\n"
      ],
      "text/plain": [
       "<IPython.core.display.HTML object>"
      ]
     },
     "metadata": {},
     "output_type": "display_data"
    }
   ],
   "source": [
    "wqet_grader.grade(\"Project 5 Assessment\", \"Task 5.5.4\", [n_features])"
   ]
  },
  {
   "cell_type": "markdown",
   "id": "6df07bb9-5816-4532-a640-840e16023478",
   "metadata": {
    "deletable": false,
    "editable": false
   },
   "source": [
    "**Task 5.5.5:** Create a `wrangle` function that takes as input the path of a compressed JSON file and returns the file's contents as a DataFrame. Be sure that the index of the DataFrame contains the ID of the companies. When your function is complete, use it to load the data into the DataFrame `df`."
   ]
  },
  {
   "cell_type": "code",
   "execution_count": 26,
   "id": "bec08e49-fa77-4b55-8c58-5c1dd090c07c",
   "metadata": {
    "deletable": false
   },
   "outputs": [],
   "source": [
    "# Create wrangle function\n",
    "def wrangle(filename):\n",
    "    \n",
    "    # Open compressed file, load into dictionary\n",
    "    with gzip.open(filename,\"r\") as f:\n",
    "        data = json.load(f)\n",
    "    \n",
    "    # Load dictionary into DataFrame, set index\n",
    "    df = pd.DataFrame().from_dict(data[\"observations\"]).set_index(\"id\")\n",
    "    return df"
   ]
  },
  {
   "cell_type": "code",
   "execution_count": 27,
   "id": "dd06e4fb-25a2-4582-8051-99bc6f13e57e",
   "metadata": {
    "deletable": false
   },
   "outputs": [
    {
     "name": "stdout",
     "output_type": "stream",
     "text": [
      "(6137, 96)\n"
     ]
    },
    {
     "data": {
      "text/html": [
       "<div>\n",
       "<style scoped>\n",
       "    .dataframe tbody tr th:only-of-type {\n",
       "        vertical-align: middle;\n",
       "    }\n",
       "\n",
       "    .dataframe tbody tr th {\n",
       "        vertical-align: top;\n",
       "    }\n",
       "\n",
       "    .dataframe thead th {\n",
       "        text-align: right;\n",
       "    }\n",
       "</style>\n",
       "<table border=\"1\" class=\"dataframe\">\n",
       "  <thead>\n",
       "    <tr style=\"text-align: right;\">\n",
       "      <th></th>\n",
       "      <th>bankrupt</th>\n",
       "      <th>feat_1</th>\n",
       "      <th>feat_2</th>\n",
       "      <th>feat_3</th>\n",
       "      <th>feat_4</th>\n",
       "      <th>feat_5</th>\n",
       "      <th>feat_6</th>\n",
       "      <th>feat_7</th>\n",
       "      <th>feat_8</th>\n",
       "      <th>feat_9</th>\n",
       "      <th>...</th>\n",
       "      <th>feat_86</th>\n",
       "      <th>feat_87</th>\n",
       "      <th>feat_88</th>\n",
       "      <th>feat_89</th>\n",
       "      <th>feat_90</th>\n",
       "      <th>feat_91</th>\n",
       "      <th>feat_92</th>\n",
       "      <th>feat_93</th>\n",
       "      <th>feat_94</th>\n",
       "      <th>feat_95</th>\n",
       "    </tr>\n",
       "    <tr>\n",
       "      <th>id</th>\n",
       "      <th></th>\n",
       "      <th></th>\n",
       "      <th></th>\n",
       "      <th></th>\n",
       "      <th></th>\n",
       "      <th></th>\n",
       "      <th></th>\n",
       "      <th></th>\n",
       "      <th></th>\n",
       "      <th></th>\n",
       "      <th></th>\n",
       "      <th></th>\n",
       "      <th></th>\n",
       "      <th></th>\n",
       "      <th></th>\n",
       "      <th></th>\n",
       "      <th></th>\n",
       "      <th></th>\n",
       "      <th></th>\n",
       "      <th></th>\n",
       "      <th></th>\n",
       "    </tr>\n",
       "  </thead>\n",
       "  <tbody>\n",
       "    <tr>\n",
       "      <th>1</th>\n",
       "      <td>True</td>\n",
       "      <td>0.370594</td>\n",
       "      <td>0.424389</td>\n",
       "      <td>0.405750</td>\n",
       "      <td>0.601457</td>\n",
       "      <td>0.601457</td>\n",
       "      <td>0.998969</td>\n",
       "      <td>0.796887</td>\n",
       "      <td>0.808809</td>\n",
       "      <td>0.302646</td>\n",
       "      <td>...</td>\n",
       "      <td>0.716845</td>\n",
       "      <td>0.009219</td>\n",
       "      <td>0.622879</td>\n",
       "      <td>0.601453</td>\n",
       "      <td>0.827890</td>\n",
       "      <td>0.290202</td>\n",
       "      <td>0.026601</td>\n",
       "      <td>0.564050</td>\n",
       "      <td>1</td>\n",
       "      <td>0.016469</td>\n",
       "    </tr>\n",
       "    <tr>\n",
       "      <th>2</th>\n",
       "      <td>True</td>\n",
       "      <td>0.464291</td>\n",
       "      <td>0.538214</td>\n",
       "      <td>0.516730</td>\n",
       "      <td>0.610235</td>\n",
       "      <td>0.610235</td>\n",
       "      <td>0.998946</td>\n",
       "      <td>0.797380</td>\n",
       "      <td>0.809301</td>\n",
       "      <td>0.303556</td>\n",
       "      <td>...</td>\n",
       "      <td>0.795297</td>\n",
       "      <td>0.008323</td>\n",
       "      <td>0.623652</td>\n",
       "      <td>0.610237</td>\n",
       "      <td>0.839969</td>\n",
       "      <td>0.283846</td>\n",
       "      <td>0.264577</td>\n",
       "      <td>0.570175</td>\n",
       "      <td>1</td>\n",
       "      <td>0.020794</td>\n",
       "    </tr>\n",
       "    <tr>\n",
       "      <th>3</th>\n",
       "      <td>True</td>\n",
       "      <td>0.426071</td>\n",
       "      <td>0.499019</td>\n",
       "      <td>0.472295</td>\n",
       "      <td>0.601450</td>\n",
       "      <td>0.601364</td>\n",
       "      <td>0.998857</td>\n",
       "      <td>0.796403</td>\n",
       "      <td>0.808388</td>\n",
       "      <td>0.302035</td>\n",
       "      <td>...</td>\n",
       "      <td>0.774670</td>\n",
       "      <td>0.040003</td>\n",
       "      <td>0.623841</td>\n",
       "      <td>0.601449</td>\n",
       "      <td>0.836774</td>\n",
       "      <td>0.290189</td>\n",
       "      <td>0.026555</td>\n",
       "      <td>0.563706</td>\n",
       "      <td>1</td>\n",
       "      <td>0.016474</td>\n",
       "    </tr>\n",
       "    <tr>\n",
       "      <th>4</th>\n",
       "      <td>True</td>\n",
       "      <td>0.399844</td>\n",
       "      <td>0.451265</td>\n",
       "      <td>0.457733</td>\n",
       "      <td>0.583541</td>\n",
       "      <td>0.583541</td>\n",
       "      <td>0.998700</td>\n",
       "      <td>0.796967</td>\n",
       "      <td>0.808966</td>\n",
       "      <td>0.303350</td>\n",
       "      <td>...</td>\n",
       "      <td>0.739555</td>\n",
       "      <td>0.003252</td>\n",
       "      <td>0.622929</td>\n",
       "      <td>0.583538</td>\n",
       "      <td>0.834697</td>\n",
       "      <td>0.281721</td>\n",
       "      <td>0.026697</td>\n",
       "      <td>0.564663</td>\n",
       "      <td>1</td>\n",
       "      <td>0.023982</td>\n",
       "    </tr>\n",
       "    <tr>\n",
       "      <th>5</th>\n",
       "      <td>True</td>\n",
       "      <td>0.465022</td>\n",
       "      <td>0.538432</td>\n",
       "      <td>0.522298</td>\n",
       "      <td>0.598783</td>\n",
       "      <td>0.598783</td>\n",
       "      <td>0.998973</td>\n",
       "      <td>0.797366</td>\n",
       "      <td>0.809304</td>\n",
       "      <td>0.303475</td>\n",
       "      <td>...</td>\n",
       "      <td>0.795016</td>\n",
       "      <td>0.003878</td>\n",
       "      <td>0.623521</td>\n",
       "      <td>0.598782</td>\n",
       "      <td>0.839973</td>\n",
       "      <td>0.278514</td>\n",
       "      <td>0.024752</td>\n",
       "      <td>0.575617</td>\n",
       "      <td>1</td>\n",
       "      <td>0.035490</td>\n",
       "    </tr>\n",
       "  </tbody>\n",
       "</table>\n",
       "<p>5 rows × 96 columns</p>\n",
       "</div>"
      ],
      "text/plain": [
       "    bankrupt    feat_1    feat_2    feat_3    feat_4    feat_5    feat_6  \\\n",
       "id                                                                         \n",
       "1       True  0.370594  0.424389  0.405750  0.601457  0.601457  0.998969   \n",
       "2       True  0.464291  0.538214  0.516730  0.610235  0.610235  0.998946   \n",
       "3       True  0.426071  0.499019  0.472295  0.601450  0.601364  0.998857   \n",
       "4       True  0.399844  0.451265  0.457733  0.583541  0.583541  0.998700   \n",
       "5       True  0.465022  0.538432  0.522298  0.598783  0.598783  0.998973   \n",
       "\n",
       "      feat_7    feat_8    feat_9  ...   feat_86   feat_87   feat_88   feat_89  \\\n",
       "id                                ...                                           \n",
       "1   0.796887  0.808809  0.302646  ...  0.716845  0.009219  0.622879  0.601453   \n",
       "2   0.797380  0.809301  0.303556  ...  0.795297  0.008323  0.623652  0.610237   \n",
       "3   0.796403  0.808388  0.302035  ...  0.774670  0.040003  0.623841  0.601449   \n",
       "4   0.796967  0.808966  0.303350  ...  0.739555  0.003252  0.622929  0.583538   \n",
       "5   0.797366  0.809304  0.303475  ...  0.795016  0.003878  0.623521  0.598782   \n",
       "\n",
       "     feat_90   feat_91   feat_92   feat_93  feat_94   feat_95  \n",
       "id                                                             \n",
       "1   0.827890  0.290202  0.026601  0.564050        1  0.016469  \n",
       "2   0.839969  0.283846  0.264577  0.570175        1  0.020794  \n",
       "3   0.836774  0.290189  0.026555  0.563706        1  0.016474  \n",
       "4   0.834697  0.281721  0.026697  0.564663        1  0.023982  \n",
       "5   0.839973  0.278514  0.024752  0.575617        1  0.035490  \n",
       "\n",
       "[5 rows x 96 columns]"
      ]
     },
     "execution_count": 27,
     "metadata": {},
     "output_type": "execute_result"
    }
   ],
   "source": [
    "df = wrangle(\"data/taiwan-bankruptcy-data.json.gz\")\n",
    "print(df.shape)\n",
    "df.head()"
   ]
  },
  {
   "cell_type": "code",
   "execution_count": 28,
   "id": "b0687b86-7350-4b47-9be1-b94857838aeb",
   "metadata": {
    "deletable": false,
    "editable": false
   },
   "outputs": [
    {
     "data": {
      "text/html": [
       "\n",
       "    <div class=\"wqet-result\">\n",
       "      <div class=\"animation\">\n",
       "        <svg class=\"checkmark\" xmlns=\"http://www.w3.org/2000/svg\" viewBox=\"0 0 52 52\">\n",
       "          <circle class=\"checkmark__circle\" cx=\"26\" cy=\"26\" r=\"25\" fill=\"none\"/>\n",
       "          <path class=\"checkmark__check\" fill=\"none\" d=\"M14.1 27.2l7.1 7.2 16.7-16.8\"/>\n",
       "        </svg>\n",
       "      </div>\n",
       "      <div class=\"details\">\n",
       "        <p class=\"title\"><p>Yes! Keep on rockin'. 🎸That's right.</p></p>\n",
       "        <p>Score: 1</p>\n",
       "      </div>\n",
       "    </div>\n"
      ],
      "text/plain": [
       "<IPython.core.display.HTML object>"
      ]
     },
     "metadata": {},
     "output_type": "display_data"
    }
   ],
   "source": [
    "\n",
    "wqet_grader.grade(\"Project 5 Assessment\", \"Task 5.5.5\", df)"
   ]
  },
  {
   "cell_type": "markdown",
   "id": "21dff117-59fd-4b60-958e-4f9e91d5db6e",
   "metadata": {
    "deletable": false,
    "editable": false
   },
   "source": [
    "## Explore"
   ]
  },
  {
   "cell_type": "markdown",
   "id": "02d5c558-b7d7-43ff-b646-f4e14db22a06",
   "metadata": {
    "deletable": false,
    "editable": false
   },
   "source": [
    "**Task 5.5.6:** Is there any missing data in the dataset? Create a Series where the index contains the name of the columns in `df` and the values are the number of <code>NaN</code>s in each column. Assign the result to <code>nans_by_col</code>. Neither the Series itself nor its index require a name. "
   ]
  },
  {
   "cell_type": "code",
   "execution_count": 30,
   "id": "3177f6b9-80ca-4837-b236-0c9d6d1cf589",
   "metadata": {
    "deletable": false,
    "tags": []
   },
   "outputs": [
    {
     "name": "stdout",
     "output_type": "stream",
     "text": [
      "nans_by_col shape: (96,)\n"
     ]
    },
    {
     "data": {
      "text/plain": [
       "bankrupt    0\n",
       "feat_1      0\n",
       "feat_2      0\n",
       "feat_3      0\n",
       "feat_4      0\n",
       "dtype: int64"
      ]
     },
     "execution_count": 30,
     "metadata": {},
     "output_type": "execute_result"
    }
   ],
   "source": [
    "nans_by_col = pd.Series(df.isna().sum(),index=df.columns)\n",
    "print(\"nans_by_col shape:\", nans_by_col.shape)\n",
    "nans_by_col.head()"
   ]
  },
  {
   "cell_type": "code",
   "execution_count": 31,
   "id": "9ef5252f-357a-419a-850e-4aa86032ea6a",
   "metadata": {
    "deletable": false,
    "editable": false
   },
   "outputs": [
    {
     "data": {
      "text/html": [
       "\n",
       "    <div class=\"wqet-result\">\n",
       "      <div class=\"animation\">\n",
       "        <svg class=\"checkmark\" xmlns=\"http://www.w3.org/2000/svg\" viewBox=\"0 0 52 52\">\n",
       "          <circle class=\"checkmark__circle\" cx=\"26\" cy=\"26\" r=\"25\" fill=\"none\"/>\n",
       "          <path class=\"checkmark__check\" fill=\"none\" d=\"M14.1 27.2l7.1 7.2 16.7-16.8\"/>\n",
       "        </svg>\n",
       "      </div>\n",
       "      <div class=\"details\">\n",
       "        <p class=\"title\"><p>Boom! You got it.</p></p>\n",
       "        <p>Score: 1</p>\n",
       "      </div>\n",
       "    </div>\n"
      ],
      "text/plain": [
       "<IPython.core.display.HTML object>"
      ]
     },
     "metadata": {},
     "output_type": "display_data"
    }
   ],
   "source": [
    "\n",
    "wqet_grader.grade(\"Project 5 Assessment\", \"Task 5.5.6\", nans_by_col)"
   ]
  },
  {
   "cell_type": "markdown",
   "id": "9cb1aa5a-9ea0-4e99-8bba-ba843ca987f5",
   "metadata": {
    "deletable": false,
    "editable": false
   },
   "source": [
    "**Task 5.5.7:** Is the data imbalanced? Create a bar chart that shows the normalized value counts for the column `df[\"bankrupt\"]`. Be sure to label your x-axis `\"Bankrupt\"`, your y-axis `\"Frequency\"`, and use the title `\"Class Balance\"`."
   ]
  },
  {
   "cell_type": "code",
   "execution_count": 32,
   "id": "6a2a5fe0-a1cd-48a5-84ee-525e7fc4cc44",
   "metadata": {
    "deletable": false
   },
   "outputs": [
    {
     "data": {
      "image/png": "[encoded data removed]",
      "text/plain": [
       "<Figure size 432x288 with 1 Axes>"
      ]
     },
     "metadata": {
      "needs_background": "light"
     },
     "output_type": "display_data"
    }
   ],
   "source": [
    "# Plot class balance\n",
    "df[\"bankrupt\"].value_counts(normalize=True).plot(\n",
    "    kind=\"bar\",\n",
    "    xlabel=\"Bankrupt\",\n",
    "    ylabel=\"Frequency\",\n",
    "    title=\"Class Balance\"\n",
    ")\n",
    "# Don't delete the code below 👇\n",
    "plt.savefig(\"images/5-5-7.png\", dpi=150)\n"
   ]
  },
  {
   "cell_type": "code",
   "execution_count": 33,
   "id": "481c54fc-e3e8-467d-91ba-65945f550a4f",
   "metadata": {
    "deletable": false,
    "editable": false
   },
   "outputs": [
    {
     "data": {
      "text/html": [
       "\n",
       "    <div class=\"wqet-result\">\n",
       "      <div class=\"animation\">\n",
       "        <svg class=\"checkmark\" xmlns=\"http://www.w3.org/2000/svg\" viewBox=\"0 0 52 52\">\n",
       "          <circle class=\"checkmark__circle\" cx=\"26\" cy=\"26\" r=\"25\" fill=\"none\"/>\n",
       "          <path class=\"checkmark__check\" fill=\"none\" d=\"M14.1 27.2l7.1 7.2 16.7-16.8\"/>\n",
       "        </svg>\n",
       "      </div>\n",
       "      <div class=\"details\">\n",
       "        <p class=\"title\"><p>Correct.</p></p>\n",
       "        <p>Score: 1</p>\n",
       "      </div>\n",
       "    </div>\n"
      ],
      "text/plain": [
       "<IPython.core.display.HTML object>"
      ]
     },
     "metadata": {},
     "output_type": "display_data"
    }
   ],
   "source": [
    "with open(\"images/5-5-7.png\", \"rb\") as file:\n",
    "    wqet_grader.grade(\"Project 5 Assessment\", \"Task 5.5.7\", file)"
   ]
  },
  {
   "cell_type": "markdown",
   "id": "47242176-15c2-4e50-981a-4a2791e6ea5f",
   "metadata": {
    "deletable": false,
    "editable": false
   },
   "source": [
    "## Split"
   ]
  },
  {
   "cell_type": "markdown",
   "id": "e941ed58-7723-4def-8b0d-24b8b3447c9b",
   "metadata": {
    "deletable": false,
    "editable": false
   },
   "source": [
    "**Task 5.5.8:** Create your feature matrix `X` and target vector `y`. Your target is `\"bankrupt\"`. "
   ]
  },
  {
   "cell_type": "code",
   "execution_count": 34,
   "id": "feeb0205-bdd2-493a-aaa9-a5fe4fa030a7",
   "metadata": {
    "deletable": false
   },
   "outputs": [
    {
     "name": "stdout",
     "output_type": "stream",
     "text": [
      "X shape: (6137, 95)\n",
      "y shape: (6137,)\n"
     ]
    }
   ],
   "source": [
    "target = \"bankrupt\"\n",
    "X = df.drop(columns=target)\n",
    "y = df[target]\n",
    "\n",
    "print(\"X shape:\", X.shape)\n",
    "print(\"y shape:\", y.shape)"
   ]
  },
  {
   "cell_type": "code",
   "execution_count": 35,
   "id": "464f5dbb-734b-435b-8ddc-0b26e5400702",
   "metadata": {
    "deletable": false,
    "editable": false
   },
   "outputs": [
    {
     "data": {
      "text/html": [
       "\n",
       "    <div class=\"wqet-result\">\n",
       "      <div class=\"animation\">\n",
       "        <svg class=\"checkmark\" xmlns=\"http://www.w3.org/2000/svg\" viewBox=\"0 0 52 52\">\n",
       "          <circle class=\"checkmark__circle\" cx=\"26\" cy=\"26\" r=\"25\" fill=\"none\"/>\n",
       "          <path class=\"checkmark__check\" fill=\"none\" d=\"M14.1 27.2l7.1 7.2 16.7-16.8\"/>\n",
       "        </svg>\n",
       "      </div>\n",
       "      <div class=\"details\">\n",
       "        <p class=\"title\"><p>Very impressive.</p></p>\n",
       "        <p>Score: 1</p>\n",
       "      </div>\n",
       "    </div>\n"
      ],
      "text/plain": [
       "<IPython.core.display.HTML object>"
      ]
     },
     "metadata": {},
     "output_type": "display_data"
    }
   ],
   "source": [
    "\n",
    "wqet_grader.grade(\"Project 5 Assessment\", \"Task 5.5.8a\", X)"
   ]
  },
  {
   "cell_type": "code",
   "execution_count": 37,
   "id": "b0925347-11cb-4794-a263-c456c269bf3e",
   "metadata": {
    "deletable": false,
    "editable": false
   },
   "outputs": [
    {
     "data": {
      "text/html": [
       "\n",
       "    <div class=\"wqet-result\">\n",
       "      <div class=\"animation\">\n",
       "        <svg class=\"checkmark\" xmlns=\"http://www.w3.org/2000/svg\" viewBox=\"0 0 52 52\">\n",
       "          <circle class=\"checkmark__circle\" cx=\"26\" cy=\"26\" r=\"25\" fill=\"none\"/>\n",
       "          <path class=\"checkmark__check\" fill=\"none\" d=\"M14.1 27.2l7.1 7.2 16.7-16.8\"/>\n",
       "        </svg>\n",
       "      </div>\n",
       "      <div class=\"details\">\n",
       "        <p class=\"title\"><p>You got it. Dance party time! 🕺💃🕺💃</p></p>\n",
       "        <p>Score: 1</p>\n",
       "      </div>\n",
       "    </div>\n"
      ],
      "text/plain": [
       "<IPython.core.display.HTML object>"
      ]
     },
     "metadata": {},
     "output_type": "display_data"
    }
   ],
   "source": [
    "\n",
    "wqet_grader.grade(\"Project 5 Assessment\", \"Task 5.5.8b\", y)"
   ]
  },
  {
   "cell_type": "markdown",
   "id": "b0e5791a-ed64-485e-85cc-998340b3c162",
   "metadata": {
    "deletable": false,
    "editable": false
   },
   "source": [
    "**Task 5.5.9:** Divide your dataset into training and test sets using a randomized split. Your test set should be 20% of your data. Be sure to set `random_state` to `42`."
   ]
  },
  {
   "cell_type": "code",
   "execution_count": 38,
   "id": "31d44df7-8211-4066-a399-6c31c1b0864c",
   "metadata": {
    "deletable": false
   },
   "outputs": [
    {
     "name": "stdout",
     "output_type": "stream",
     "text": [
      "X_train shape: (4909, 95)\n",
      "y_train shape: (4909,)\n",
      "X_test shape: (1228, 95)\n",
      "y_test shape: (1228,)\n"
     ]
    }
   ],
   "source": [
    "X_train, X_test, y_train, y_test = train_test_split(\n",
    "X,y,test_size=0.2,random_state=42\n",
    ")\n",
    "print(\"X_train shape:\", X_train.shape)\n",
    "print(\"y_train shape:\", y_train.shape)\n",
    "print(\"X_test shape:\", X_test.shape)\n",
    "print(\"y_test shape:\", y_test.shape)"
   ]
  },
  {
   "cell_type": "code",
   "execution_count": 39,
   "id": "c084e2c5-9476-4f98-ae7b-c566c8f89a87",
   "metadata": {
    "deletable": false,
    "editable": false
   },
   "outputs": [
    {
     "data": {
      "text/html": [
       "\n",
       "    <div class=\"wqet-result\">\n",
       "      <div class=\"animation\">\n",
       "        <svg class=\"checkmark\" xmlns=\"http://www.w3.org/2000/svg\" viewBox=\"0 0 52 52\">\n",
       "          <circle class=\"checkmark__circle\" cx=\"26\" cy=\"26\" r=\"25\" fill=\"none\"/>\n",
       "          <path class=\"checkmark__check\" fill=\"none\" d=\"M14.1 27.2l7.1 7.2 16.7-16.8\"/>\n",
       "        </svg>\n",
       "      </div>\n",
       "      <div class=\"details\">\n",
       "        <p class=\"title\"><p>Good work!</p></p>\n",
       "        <p>Score: 1</p>\n",
       "      </div>\n",
       "    </div>\n"
      ],
      "text/plain": [
       "<IPython.core.display.HTML object>"
      ]
     },
     "metadata": {},
     "output_type": "display_data"
    }
   ],
   "source": [
    "wqet_grader.grade(\"Project 5 Assessment\", \"Task 5.5.9\", list(X_train.shape))"
   ]
  },
  {
   "cell_type": "markdown",
   "id": "3b51378d-7f0a-4109-861c-1cbbbcbff707",
   "metadata": {
    "deletable": false,
    "editable": false
   },
   "source": [
    "## Resample"
   ]
  },
  {
   "cell_type": "markdown",
   "id": "b4ba1574-15ea-49e8-abe0-13adde0d1513",
   "metadata": {
    "deletable": false,
    "editable": false
   },
   "source": [
    "**Task 5.5.10:** Create a new feature matrix `X_train_over` and target vector `y_train_over` by performing random over-sampling on the training data. Be sure to set the `random_state` to `42`."
   ]
  },
  {
   "cell_type": "code",
   "execution_count": 40,
   "id": "40d10781-032f-4b17-9f3b-e4919dbb3af5",
   "metadata": {
    "deletable": false
   },
   "outputs": [
    {
     "name": "stdout",
     "output_type": "stream",
     "text": [
      "X_train_over shape: (9512, 95)\n"
     ]
    },
    {
     "data": {
      "text/html": [
       "<div>\n",
       "<style scoped>\n",
       "    .dataframe tbody tr th:only-of-type {\n",
       "        vertical-align: middle;\n",
       "    }\n",
       "\n",
       "    .dataframe tbody tr th {\n",
       "        vertical-align: top;\n",
       "    }\n",
       "\n",
       "    .dataframe thead th {\n",
       "        text-align: right;\n",
       "    }\n",
       "</style>\n",
       "<table border=\"1\" class=\"dataframe\">\n",
       "  <thead>\n",
       "    <tr style=\"text-align: right;\">\n",
       "      <th></th>\n",
       "      <th>feat_1</th>\n",
       "      <th>feat_2</th>\n",
       "      <th>feat_3</th>\n",
       "      <th>feat_4</th>\n",
       "      <th>feat_5</th>\n",
       "      <th>feat_6</th>\n",
       "      <th>feat_7</th>\n",
       "      <th>feat_8</th>\n",
       "      <th>feat_9</th>\n",
       "      <th>feat_10</th>\n",
       "      <th>...</th>\n",
       "      <th>feat_86</th>\n",
       "      <th>feat_87</th>\n",
       "      <th>feat_88</th>\n",
       "      <th>feat_89</th>\n",
       "      <th>feat_90</th>\n",
       "      <th>feat_91</th>\n",
       "      <th>feat_92</th>\n",
       "      <th>feat_93</th>\n",
       "      <th>feat_94</th>\n",
       "      <th>feat_95</th>\n",
       "    </tr>\n",
       "  </thead>\n",
       "  <tbody>\n",
       "    <tr>\n",
       "      <th>0</th>\n",
       "      <td>0.535855</td>\n",
       "      <td>0.599160</td>\n",
       "      <td>0.594411</td>\n",
       "      <td>0.627099</td>\n",
       "      <td>0.627099</td>\n",
       "      <td>0.999220</td>\n",
       "      <td>0.797686</td>\n",
       "      <td>0.809591</td>\n",
       "      <td>0.303518</td>\n",
       "      <td>0.781865</td>\n",
       "      <td>...</td>\n",
       "      <td>0.834091</td>\n",
       "      <td>0.022025</td>\n",
       "      <td>0.624364</td>\n",
       "      <td>0.627101</td>\n",
       "      <td>0.841977</td>\n",
       "      <td>0.275384</td>\n",
       "      <td>0.026791</td>\n",
       "      <td>0.565158</td>\n",
       "      <td>1</td>\n",
       "      <td>0.147943</td>\n",
       "    </tr>\n",
       "    <tr>\n",
       "      <th>1</th>\n",
       "      <td>0.554136</td>\n",
       "      <td>0.612734</td>\n",
       "      <td>0.595000</td>\n",
       "      <td>0.607388</td>\n",
       "      <td>0.607388</td>\n",
       "      <td>0.999120</td>\n",
       "      <td>0.797614</td>\n",
       "      <td>0.809483</td>\n",
       "      <td>0.303600</td>\n",
       "      <td>0.781754</td>\n",
       "      <td>...</td>\n",
       "      <td>0.840293</td>\n",
       "      <td>0.002407</td>\n",
       "      <td>0.624548</td>\n",
       "      <td>0.607385</td>\n",
       "      <td>0.842645</td>\n",
       "      <td>0.276532</td>\n",
       "      <td>0.026791</td>\n",
       "      <td>0.565158</td>\n",
       "      <td>1</td>\n",
       "      <td>0.062544</td>\n",
       "    </tr>\n",
       "    <tr>\n",
       "      <th>2</th>\n",
       "      <td>0.549554</td>\n",
       "      <td>0.603467</td>\n",
       "      <td>0.599122</td>\n",
       "      <td>0.620166</td>\n",
       "      <td>0.620166</td>\n",
       "      <td>0.999119</td>\n",
       "      <td>0.797569</td>\n",
       "      <td>0.809470</td>\n",
       "      <td>0.303524</td>\n",
       "      <td>0.781740</td>\n",
       "      <td>...</td>\n",
       "      <td>0.840403</td>\n",
       "      <td>0.000840</td>\n",
       "      <td>0.624010</td>\n",
       "      <td>0.620163</td>\n",
       "      <td>0.842873</td>\n",
       "      <td>0.277249</td>\n",
       "      <td>0.026800</td>\n",
       "      <td>0.565200</td>\n",
       "      <td>1</td>\n",
       "      <td>0.047929</td>\n",
       "    </tr>\n",
       "    <tr>\n",
       "      <th>3</th>\n",
       "      <td>0.543801</td>\n",
       "      <td>0.603249</td>\n",
       "      <td>0.606992</td>\n",
       "      <td>0.622515</td>\n",
       "      <td>0.622515</td>\n",
       "      <td>0.999259</td>\n",
       "      <td>0.797728</td>\n",
       "      <td>0.809649</td>\n",
       "      <td>0.303510</td>\n",
       "      <td>0.781930</td>\n",
       "      <td>...</td>\n",
       "      <td>0.831514</td>\n",
       "      <td>0.006176</td>\n",
       "      <td>0.626775</td>\n",
       "      <td>0.622513</td>\n",
       "      <td>0.842989</td>\n",
       "      <td>0.280013</td>\n",
       "      <td>0.026839</td>\n",
       "      <td>0.565375</td>\n",
       "      <td>1</td>\n",
       "      <td>0.028386</td>\n",
       "    </tr>\n",
       "    <tr>\n",
       "      <th>4</th>\n",
       "      <td>0.498659</td>\n",
       "      <td>0.562364</td>\n",
       "      <td>0.546978</td>\n",
       "      <td>0.603670</td>\n",
       "      <td>0.603670</td>\n",
       "      <td>0.998904</td>\n",
       "      <td>0.797584</td>\n",
       "      <td>0.809459</td>\n",
       "      <td>0.304000</td>\n",
       "      <td>0.781713</td>\n",
       "      <td>...</td>\n",
       "      <td>0.811988</td>\n",
       "      <td>0.004256</td>\n",
       "      <td>0.623674</td>\n",
       "      <td>0.603669</td>\n",
       "      <td>0.841105</td>\n",
       "      <td>0.277628</td>\n",
       "      <td>0.026897</td>\n",
       "      <td>0.565618</td>\n",
       "      <td>1</td>\n",
       "      <td>0.043080</td>\n",
       "    </tr>\n",
       "  </tbody>\n",
       "</table>\n",
       "<p>5 rows × 95 columns</p>\n",
       "</div>"
      ],
      "text/plain": [
       "     feat_1    feat_2    feat_3    feat_4    feat_5    feat_6    feat_7  \\\n",
       "0  0.535855  0.599160  0.594411  0.627099  0.627099  0.999220  0.797686   \n",
       "1  0.554136  0.612734  0.595000  0.607388  0.607388  0.999120  0.797614   \n",
       "2  0.549554  0.603467  0.599122  0.620166  0.620166  0.999119  0.797569   \n",
       "3  0.543801  0.603249  0.606992  0.622515  0.622515  0.999259  0.797728   \n",
       "4  0.498659  0.562364  0.546978  0.603670  0.603670  0.998904  0.797584   \n",
       "\n",
       "     feat_8    feat_9   feat_10  ...   feat_86   feat_87   feat_88   feat_89  \\\n",
       "0  0.809591  0.303518  0.781865  ...  0.834091  0.022025  0.624364  0.627101   \n",
       "1  0.809483  0.303600  0.781754  ...  0.840293  0.002407  0.624548  0.607385   \n",
       "2  0.809470  0.303524  0.781740  ...  0.840403  0.000840  0.624010  0.620163   \n",
       "3  0.809649  0.303510  0.781930  ...  0.831514  0.006176  0.626775  0.622513   \n",
       "4  0.809459  0.304000  0.781713  ...  0.811988  0.004256  0.623674  0.603669   \n",
       "\n",
       "    feat_90   feat_91   feat_92   feat_93  feat_94   feat_95  \n",
       "0  0.841977  0.275384  0.026791  0.565158        1  0.147943  \n",
       "1  0.842645  0.276532  0.026791  0.565158        1  0.062544  \n",
       "2  0.842873  0.277249  0.026800  0.565200        1  0.047929  \n",
       "3  0.842989  0.280013  0.026839  0.565375        1  0.028386  \n",
       "4  0.841105  0.277628  0.026897  0.565618        1  0.043080  \n",
       "\n",
       "[5 rows x 95 columns]"
      ]
     },
     "execution_count": 40,
     "metadata": {},
     "output_type": "execute_result"
    }
   ],
   "source": [
    "over_sampler = RandomOverSampler(random_state=42)\n",
    "X_train_over, y_train_over = over_sampler.fit_resample(X_train,y_train)\n",
    "print(\"X_train_over shape:\", X_train_over.shape)\n",
    "X_train_over.head()"
   ]
  },
  {
   "cell_type": "code",
   "execution_count": 41,
   "id": "7ae8233c-4afd-4495-b73a-3cc1d96867b1",
   "metadata": {
    "deletable": false,
    "editable": false
   },
   "outputs": [
    {
     "data": {
      "text/html": [
       "\n",
       "    <div class=\"wqet-result\">\n",
       "      <div class=\"animation\">\n",
       "        <svg class=\"checkmark\" xmlns=\"http://www.w3.org/2000/svg\" viewBox=\"0 0 52 52\">\n",
       "          <circle class=\"checkmark__circle\" cx=\"26\" cy=\"26\" r=\"25\" fill=\"none\"/>\n",
       "          <path class=\"checkmark__check\" fill=\"none\" d=\"M14.1 27.2l7.1 7.2 16.7-16.8\"/>\n",
       "        </svg>\n",
       "      </div>\n",
       "      <div class=\"details\">\n",
       "        <p class=\"title\"><p>Excellent work.</p></p>\n",
       "        <p>Score: 1</p>\n",
       "      </div>\n",
       "    </div>\n"
      ],
      "text/plain": [
       "<IPython.core.display.HTML object>"
      ]
     },
     "metadata": {},
     "output_type": "display_data"
    }
   ],
   "source": [
    "wqet_grader.grade(\"Project 5 Assessment\", \"Task 5.5.10\", list(X_train_over.shape))"
   ]
  },
  {
   "cell_type": "markdown",
   "id": "56432e44-2454-4811-828b-61887df09346",
   "metadata": {
    "deletable": false,
    "editable": false
   },
   "source": [
    "# Build Model"
   ]
  },
  {
   "cell_type": "markdown",
   "id": "3783e564-560e-432f-b49e-f2e585a865f8",
   "metadata": {
    "deletable": false,
    "editable": false
   },
   "source": [
    "## Iterate"
   ]
  },
  {
   "cell_type": "markdown",
   "id": "ef7c2d9d-08b1-4668-bf2e-e4910293dbe0",
   "metadata": {
    "deletable": false,
    "editable": false
   },
   "source": [
    "**Task 5.5.11:** Create a classifier <code>clf</code> that can be trained on `(X_train_over, y_train_over)`. You can use any of the predictors you've learned about in the Data Science Lab. "
   ]
  },
  {
   "cell_type": "code",
   "execution_count": 44,
   "id": "b37aca3d-8a72-440e-a99c-e069f9850bd2",
   "metadata": {
    "deletable": false
   },
   "outputs": [],
   "source": [
    "clf = GradientBoostingClassifier()"
   ]
  },
  {
   "cell_type": "code",
   "execution_count": 45,
   "id": "e711d907-7cf6-4667-ab56-ac7aec9d6749",
   "metadata": {
    "deletable": false,
    "editable": false
   },
   "outputs": [
    {
     "data": {
      "text/html": [
       "\n",
       "    <div class=\"wqet-result\">\n",
       "      <div class=\"animation\">\n",
       "        <svg class=\"checkmark\" xmlns=\"http://www.w3.org/2000/svg\" viewBox=\"0 0 52 52\">\n",
       "          <circle class=\"checkmark__circle\" cx=\"26\" cy=\"26\" r=\"25\" fill=\"none\"/>\n",
       "          <path class=\"checkmark__check\" fill=\"none\" d=\"M14.1 27.2l7.1 7.2 16.7-16.8\"/>\n",
       "        </svg>\n",
       "      </div>\n",
       "      <div class=\"details\">\n",
       "        <p class=\"title\"><p>You got it. Dance party time! 🕺💃🕺💃</p></p>\n",
       "        <p>Score: 1</p>\n",
       "      </div>\n",
       "    </div>\n"
      ],
      "text/plain": [
       "<IPython.core.display.HTML object>"
      ]
     },
     "metadata": {},
     "output_type": "display_data"
    }
   ],
   "source": [
    "wqet_grader.grade(\"Project 5 Assessment\", \"Task 5.5.11\", clf)"
   ]
  },
  {
   "cell_type": "markdown",
   "id": "ff7a967c-756f-4c2d-998e-90b67e9918ac",
   "metadata": {
    "deletable": false,
    "editable": false
   },
   "source": [
    "**Task 5.5.12:** Perform cross-validation with your classifier using the over-sampled training data, and assign your results to <code>cv_scores</code>. Be sure to set the <code>cv</code> argument to 5. "
   ]
  },
  {
   "cell_type": "markdown",
   "id": "e5ee8f58-aac7-40d8-a2e2-20f3db4898bd",
   "metadata": {
    "deletable": false,
    "editable": false
   },
   "source": [
    "<div class=\"alert alert-info\" role=\"alert\">\n",
    "    <p><b>Tip:</b> Use your CV scores to evaluate different classifiers. Choose the one that gives you the best scores.</p>\n",
    "</div>"
   ]
  },
  {
   "cell_type": "code",
   "execution_count": 46,
   "id": "b4e861a8-c2ea-49b2-b789-0b3dbe586384",
   "metadata": {
    "deletable": false
   },
   "outputs": [
    {
     "name": "stderr",
     "output_type": "stream",
     "text": [
      "[Parallel(n_jobs=-1)]: Using backend SequentialBackend with 1 concurrent workers.\n"
     ]
    },
    {
     "name": "stdout",
     "output_type": "stream",
     "text": [
      "[0.96952181 0.97162375 0.96950578 0.97160883 0.96845426]\n"
     ]
    },
    {
     "name": "stderr",
     "output_type": "stream",
     "text": [
      "[Parallel(n_jobs=-1)]: Done   5 out of   5 | elapsed:  2.5min finished\n"
     ]
    }
   ],
   "source": [
    "cv_scores = cross_val_score(clf,X_train_over,y_train_over,cv=5,n_jobs=-1,verbose=True)\n",
    "print(cv_scores)"
   ]
  },
  {
   "cell_type": "code",
   "execution_count": 47,
   "id": "6aaabf4c-d484-44ba-bb59-76de9119a708",
   "metadata": {
    "deletable": false,
    "editable": false
   },
   "outputs": [
    {
     "data": {
      "text/html": [
       "\n",
       "    <div class=\"wqet-result\">\n",
       "      <div class=\"animation\">\n",
       "        <svg class=\"checkmark\" xmlns=\"http://www.w3.org/2000/svg\" viewBox=\"0 0 52 52\">\n",
       "          <circle class=\"checkmark__circle\" cx=\"26\" cy=\"26\" r=\"25\" fill=\"none\"/>\n",
       "          <path class=\"checkmark__check\" fill=\"none\" d=\"M14.1 27.2l7.1 7.2 16.7-16.8\"/>\n",
       "        </svg>\n",
       "      </div>\n",
       "      <div class=\"details\">\n",
       "        <p class=\"title\"><p>That's the right answer. Keep it up!</p></p>\n",
       "        <p>Score: 1</p>\n",
       "      </div>\n",
       "    </div>\n"
      ],
      "text/plain": [
       "<IPython.core.display.HTML object>"
      ]
     },
     "metadata": {},
     "output_type": "display_data"
    }
   ],
   "source": [
    "wqet_grader.grade(\"Project 5 Assessment\", \"Task 5.5.12\", list(cv_scores))"
   ]
  },
  {
   "cell_type": "markdown",
   "id": "bfd434c3-e5af-47f5-b169-8a78a4c9483d",
   "metadata": {
    "deletable": false,
    "editable": false
   },
   "source": [
    "**Ungraded Task:** Create a dictionary <code>params</code> with the range of hyperparameters that you want to evaluate for your classifier. If you're not sure which hyperparameters to tune, check the [scikit-learn](https://scikit-learn.org/stable/) documentation for your predictor for ideas."
   ]
  },
  {
   "cell_type": "markdown",
   "id": "f676fdcf-76c2-4e3b-b619-11fbca6f247e",
   "metadata": {
    "deletable": false,
    "editable": false
   },
   "source": [
    "<div class=\"alert alert-info\" role=\"alert\">\n",
    "<p><b>Tip:</b> If the classifier you built is a predictor only (not a pipeline with multiple steps), you don't need to include the step name in the keys of your <code>params</code> dictionary. For example, if your classifier was only a random forest (not a pipeline containing a random forest), your would access the number of estimators using <code>\"n_estimators\"</code>, not <code>\"randomforestclassifier__n_estimators\"</code>.</p>\n",
    "</div>"
   ]
  },
  {
   "cell_type": "code",
   "execution_count": 52,
   "id": "dd75b82b-6b93-49f0-a329-175d75c56cfb",
   "metadata": {
    "deletable": false
   },
   "outputs": [],
   "source": [
    "params = params = {\n",
    "\"n_estimators\":range(20,31,5),\n",
    "\"max_depth\":range(2,5)\n",
    "}"
   ]
  },
  {
   "cell_type": "markdown",
   "id": "fc280d9a-3cd4-4ddb-9c93-01f9b84c748b",
   "metadata": {
    "deletable": false,
    "editable": false
   },
   "source": [
    "**Task 5.5.13:** Create a <code>GridSearchCV</code> named `model` that includes your classifier and hyperparameter grid. Be sure to set `cv` to 5, `n_jobs` to -1, and `verbose` to 1. "
   ]
  },
  {
   "cell_type": "code",
   "execution_count": 53,
   "id": "28c7e9a9-0f16-418f-b299-f888df1d7f41",
   "metadata": {
    "deletable": false
   },
   "outputs": [],
   "source": [
    "model = GridSearchCV(clf,param_grid=params,cv=5,n_jobs=-1,verbose=1)"
   ]
  },
  {
   "cell_type": "code",
   "execution_count": 54,
   "id": "643a639b-2145-40e7-bd25-74bc3e332af3",
   "metadata": {
    "deletable": false,
    "editable": false
   },
   "outputs": [
    {
     "data": {
      "text/html": [
       "\n",
       "    <div class=\"wqet-result\">\n",
       "      <div class=\"animation\">\n",
       "        <svg class=\"checkmark\" xmlns=\"http://www.w3.org/2000/svg\" viewBox=\"0 0 52 52\">\n",
       "          <circle class=\"checkmark__circle\" cx=\"26\" cy=\"26\" r=\"25\" fill=\"none\"/>\n",
       "          <path class=\"checkmark__check\" fill=\"none\" d=\"M14.1 27.2l7.1 7.2 16.7-16.8\"/>\n",
       "        </svg>\n",
       "      </div>\n",
       "      <div class=\"details\">\n",
       "        <p class=\"title\"><p>Excellent! Keep going.</p></p>\n",
       "        <p>Score: 1</p>\n",
       "      </div>\n",
       "    </div>\n"
      ],
      "text/plain": [
       "<IPython.core.display.HTML object>"
      ]
     },
     "metadata": {},
     "output_type": "display_data"
    }
   ],
   "source": [
    "\n",
    "wqet_grader.grade(\"Project 5 Assessment\", \"Task 5.5.13\", model)"
   ]
  },
  {
   "cell_type": "markdown",
   "id": "10252f2b-c9cc-4e25-960e-e88e5a13aaa7",
   "metadata": {
    "deletable": false,
    "editable": false
   },
   "source": [
    "**Ungraded Task:** Fit your model to the over-sampled training data. "
   ]
  },
  {
   "cell_type": "code",
   "execution_count": 55,
   "id": "ede4b08f-12b6-4f02-91ec-43917193adf3",
   "metadata": {
    "deletable": false
   },
   "outputs": [
    {
     "name": "stdout",
     "output_type": "stream",
     "text": [
      "Fitting 5 folds for each of 9 candidates, totalling 45 fits\n"
     ]
    },
    {
     "data": {
      "text/html": [
       "<style>#sk-container-id-1 {color: black;background-color: white;}#sk-container-id-1 pre{padding: 0;}#sk-container-id-1 div.sk-toggleable {background-color: white;}#sk-container-id-1 label.sk-toggleable__label {cursor: pointer;display: block;width: 100%;margin-bottom: 0;padding: 0.3em;box-sizing: border-box;text-align: center;}#sk-container-id-1 label.sk-toggleable__label-arrow:before {content: \"▸\";float: left;margin-right: 0.25em;color: #696969;}#sk-container-id-1 label.sk-toggleable__label-arrow:hover:before {color: black;}#sk-container-id-1 div.sk-estimator:hover label.sk-toggleable__label-arrow:before {color: black;}#sk-container-id-1 div.sk-toggleable__content {max-height: 0;max-width: 0;overflow: hidden;text-align: left;background-color: #f0f8ff;}#sk-container-id-1 div.sk-toggleable__content pre {margin: 0.2em;color: black;border-radius: 0.25em;background-color: #f0f8ff;}#sk-container-id-1 input.sk-toggleable__control:checked~div.sk-toggleable__content {max-height: 200px;max-width: 100%;overflow: auto;}#sk-container-id-1 input.sk-toggleable__control:checked~label.sk-toggleable__label-arrow:before {content: \"▾\";}#sk-container-id-1 div.sk-estimator input.sk-toggleable__control:checked~label.sk-toggleable__label {background-color: #d4ebff;}#sk-container-id-1 div.sk-label input.sk-toggleable__control:checked~label.sk-toggleable__label {background-color: #d4ebff;}#sk-container-id-1 input.sk-hidden--visually {border: 0;clip: rect(1px 1px 1px 1px);clip: rect(1px, 1px, 1px, 1px);height: 1px;margin: -1px;overflow: hidden;padding: 0;position: absolute;width: 1px;}#sk-container-id-1 div.sk-estimator {font-family: monospace;background-color: #f0f8ff;border: 1px dotted black;border-radius: 0.25em;box-sizing: border-box;margin-bottom: 0.5em;}#sk-container-id-1 div.sk-estimator:hover {background-color: #d4ebff;}#sk-container-id-1 div.sk-parallel-item::after {content: \"\";width: 100%;border-bottom: 1px solid gray;flex-grow: 1;}#sk-container-id-1 div.sk-label:hover label.sk-toggleable__label {background-color: #d4ebff;}#sk-container-id-1 div.sk-serial::before {content: \"\";position: absolute;border-left: 1px solid gray;box-sizing: border-box;top: 0;bottom: 0;left: 50%;z-index: 0;}#sk-container-id-1 div.sk-serial {display: flex;flex-direction: column;align-items: center;background-color: white;padding-right: 0.2em;padding-left: 0.2em;position: relative;}#sk-container-id-1 div.sk-item {position: relative;z-index: 1;}#sk-container-id-1 div.sk-parallel {display: flex;align-items: stretch;justify-content: center;background-color: white;position: relative;}#sk-container-id-1 div.sk-item::before, #sk-container-id-1 div.sk-parallel-item::before {content: \"\";position: absolute;border-left: 1px solid gray;box-sizing: border-box;top: 0;bottom: 0;left: 50%;z-index: -1;}#sk-container-id-1 div.sk-parallel-item {display: flex;flex-direction: column;z-index: 1;position: relative;background-color: white;}#sk-container-id-1 div.sk-parallel-item:first-child::after {align-self: flex-end;width: 50%;}#sk-container-id-1 div.sk-parallel-item:last-child::after {align-self: flex-start;width: 50%;}#sk-container-id-1 div.sk-parallel-item:only-child::after {width: 0;}#sk-container-id-1 div.sk-dashed-wrapped {border: 1px dashed gray;margin: 0 0.4em 0.5em 0.4em;box-sizing: border-box;padding-bottom: 0.4em;background-color: white;}#sk-container-id-1 div.sk-label label {font-family: monospace;font-weight: bold;display: inline-block;line-height: 1.2em;}#sk-container-id-1 div.sk-label-container {text-align: center;}#sk-container-id-1 div.sk-container {/* jupyter's `normalize.less` sets `[hidden] { display: none; }` but bootstrap.min.css set `[hidden] { display: none !important; }` so we also need the `!important` here to be able to override the default hidden behavior on the sphinx rendered scikit-learn.org. See: https://github.com/scikit-learn/scikit-learn/issues/21755 */display: inline-block !important;position: relative;}#sk-container-id-1 div.sk-text-repr-fallback {display: none;}</style><div id=\"sk-container-id-1\" class=\"sk-top-container\"><div class=\"sk-text-repr-fallback\"><pre>GridSearchCV(cv=5, estimator=GradientBoostingClassifier(), n_jobs=-1,\n",
       "             param_grid={&#x27;max_depth&#x27;: range(2, 5),\n",
       "                         &#x27;n_estimators&#x27;: range(20, 31, 5)},\n",
       "             verbose=1)</pre><b>In a Jupyter environment, please rerun this cell to show the HTML representation or trust the notebook. <br />On GitHub, the HTML representation is unable to render, please try loading this page with nbviewer.org.</b></div><div class=\"sk-container\" hidden><div class=\"sk-item sk-dashed-wrapped\"><div class=\"sk-label-container\"><div class=\"sk-label sk-toggleable\"><input class=\"sk-toggleable__control sk-hidden--visually\" id=\"sk-estimator-id-1\" type=\"checkbox\" ><label for=\"sk-estimator-id-1\" class=\"sk-toggleable__label sk-toggleable__label-arrow\">GridSearchCV</label><div class=\"sk-toggleable__content\"><pre>GridSearchCV(cv=5, estimator=GradientBoostingClassifier(), n_jobs=-1,\n",
       "             param_grid={&#x27;max_depth&#x27;: range(2, 5),\n",
       "                         &#x27;n_estimators&#x27;: range(20, 31, 5)},\n",
       "             verbose=1)</pre></div></div></div><div class=\"sk-parallel\"><div class=\"sk-parallel-item\"><div class=\"sk-item\"><div class=\"sk-label-container\"><div class=\"sk-label sk-toggleable\"><input class=\"sk-toggleable__control sk-hidden--visually\" id=\"sk-estimator-id-2\" type=\"checkbox\" ><label for=\"sk-estimator-id-2\" class=\"sk-toggleable__label sk-toggleable__label-arrow\">estimator: GradientBoostingClassifier</label><div class=\"sk-toggleable__content\"><pre>GradientBoostingClassifier()</pre></div></div></div><div class=\"sk-serial\"><div class=\"sk-item\"><div class=\"sk-estimator sk-toggleable\"><input class=\"sk-toggleable__control sk-hidden--visually\" id=\"sk-estimator-id-3\" type=\"checkbox\" ><label for=\"sk-estimator-id-3\" class=\"sk-toggleable__label sk-toggleable__label-arrow\">GradientBoostingClassifier</label><div class=\"sk-toggleable__content\"><pre>GradientBoostingClassifier()</pre></div></div></div></div></div></div></div></div></div></div>"
      ],
      "text/plain": [
       "GridSearchCV(cv=5, estimator=GradientBoostingClassifier(), n_jobs=-1,\n",
       "             param_grid={'max_depth': range(2, 5),\n",
       "                         'n_estimators': range(20, 31, 5)},\n",
       "             verbose=1)"
      ]
     },
     "execution_count": 55,
     "metadata": {},
     "output_type": "execute_result"
    }
   ],
   "source": [
    "model.fit(X_train_over, y_train_over)"
   ]
  },
  {
   "cell_type": "markdown",
   "id": "053c6eea-f08a-4699-8502-3099f2ba6422",
   "metadata": {
    "deletable": false,
    "editable": false
   },
   "source": [
    "**Task 5.5.14:** Extract the cross-validation results from your model, and load them into a DataFrame named <code>cv_results</code>. Looking at the results, which set of hyperparameters led to the best performance?"
   ]
  },
  {
   "cell_type": "code",
   "execution_count": 56,
   "id": "47e2ba81-a16c-4563-bb45-885eba3dc953",
   "metadata": {
    "deletable": false
   },
   "outputs": [
    {
     "data": {
      "text/html": [
       "<div>\n",
       "<style scoped>\n",
       "    .dataframe tbody tr th:only-of-type {\n",
       "        vertical-align: middle;\n",
       "    }\n",
       "\n",
       "    .dataframe tbody tr th {\n",
       "        vertical-align: top;\n",
       "    }\n",
       "\n",
       "    .dataframe thead th {\n",
       "        text-align: right;\n",
       "    }\n",
       "</style>\n",
       "<table border=\"1\" class=\"dataframe\">\n",
       "  <thead>\n",
       "    <tr style=\"text-align: right;\">\n",
       "      <th></th>\n",
       "      <th>mean_fit_time</th>\n",
       "      <th>std_fit_time</th>\n",
       "      <th>mean_score_time</th>\n",
       "      <th>std_score_time</th>\n",
       "      <th>param_max_depth</th>\n",
       "      <th>param_n_estimators</th>\n",
       "      <th>params</th>\n",
       "      <th>split0_test_score</th>\n",
       "      <th>split1_test_score</th>\n",
       "      <th>split2_test_score</th>\n",
       "      <th>split3_test_score</th>\n",
       "      <th>split4_test_score</th>\n",
       "      <th>mean_test_score</th>\n",
       "      <th>std_test_score</th>\n",
       "      <th>rank_test_score</th>\n",
       "    </tr>\n",
       "  </thead>\n",
       "  <tbody>\n",
       "    <tr>\n",
       "      <th>0</th>\n",
       "      <td>3.957644</td>\n",
       "      <td>0.027775</td>\n",
       "      <td>0.016976</td>\n",
       "      <td>0.025195</td>\n",
       "      <td>2</td>\n",
       "      <td>20</td>\n",
       "      <td>{'max_depth': 2, 'n_estimators': 20}</td>\n",
       "      <td>0.909616</td>\n",
       "      <td>0.897530</td>\n",
       "      <td>0.903260</td>\n",
       "      <td>0.905363</td>\n",
       "      <td>0.906414</td>\n",
       "      <td>0.904437</td>\n",
       "      <td>0.004017</td>\n",
       "      <td>9</td>\n",
       "    </tr>\n",
       "    <tr>\n",
       "      <th>1</th>\n",
       "      <td>4.963715</td>\n",
       "      <td>0.037588</td>\n",
       "      <td>0.017190</td>\n",
       "      <td>0.025597</td>\n",
       "      <td>2</td>\n",
       "      <td>25</td>\n",
       "      <td>{'max_depth': 2, 'n_estimators': 25}</td>\n",
       "      <td>0.912769</td>\n",
       "      <td>0.913820</td>\n",
       "      <td>0.917455</td>\n",
       "      <td>0.913775</td>\n",
       "      <td>0.912198</td>\n",
       "      <td>0.914004</td>\n",
       "      <td>0.001832</td>\n",
       "      <td>8</td>\n",
       "    </tr>\n",
       "    <tr>\n",
       "      <th>2</th>\n",
       "      <td>5.942686</td>\n",
       "      <td>0.037942</td>\n",
       "      <td>0.016537</td>\n",
       "      <td>0.023934</td>\n",
       "      <td>2</td>\n",
       "      <td>30</td>\n",
       "      <td>{'max_depth': 2, 'n_estimators': 30}</td>\n",
       "      <td>0.923279</td>\n",
       "      <td>0.917499</td>\n",
       "      <td>0.916930</td>\n",
       "      <td>0.923239</td>\n",
       "      <td>0.919558</td>\n",
       "      <td>0.920101</td>\n",
       "      <td>0.002723</td>\n",
       "      <td>7</td>\n",
       "    </tr>\n",
       "    <tr>\n",
       "      <th>3</th>\n",
       "      <td>5.759468</td>\n",
       "      <td>0.077517</td>\n",
       "      <td>0.004418</td>\n",
       "      <td>0.000072</td>\n",
       "      <td>3</td>\n",
       "      <td>20</td>\n",
       "      <td>{'max_depth': 3, 'n_estimators': 20}</td>\n",
       "      <td>0.929585</td>\n",
       "      <td>0.930636</td>\n",
       "      <td>0.932177</td>\n",
       "      <td>0.934805</td>\n",
       "      <td>0.931651</td>\n",
       "      <td>0.931771</td>\n",
       "      <td>0.001758</td>\n",
       "      <td>6</td>\n",
       "    </tr>\n",
       "    <tr>\n",
       "      <th>4</th>\n",
       "      <td>7.161945</td>\n",
       "      <td>0.031129</td>\n",
       "      <td>0.004496</td>\n",
       "      <td>0.000113</td>\n",
       "      <td>3</td>\n",
       "      <td>25</td>\n",
       "      <td>{'max_depth': 3, 'n_estimators': 25}</td>\n",
       "      <td>0.935365</td>\n",
       "      <td>0.931687</td>\n",
       "      <td>0.939537</td>\n",
       "      <td>0.937434</td>\n",
       "      <td>0.935331</td>\n",
       "      <td>0.935871</td>\n",
       "      <td>0.002605</td>\n",
       "      <td>5</td>\n",
       "    </tr>\n",
       "  </tbody>\n",
       "</table>\n",
       "</div>"
      ],
      "text/plain": [
       "   mean_fit_time  std_fit_time  mean_score_time  std_score_time  \\\n",
       "0       3.957644      0.027775         0.016976        0.025195   \n",
       "1       4.963715      0.037588         0.017190        0.025597   \n",
       "2       5.942686      0.037942         0.016537        0.023934   \n",
       "3       5.759468      0.077517         0.004418        0.000072   \n",
       "4       7.161945      0.031129         0.004496        0.000113   \n",
       "\n",
       "  param_max_depth param_n_estimators                                params  \\\n",
       "0               2                 20  {'max_depth': 2, 'n_estimators': 20}   \n",
       "1               2                 25  {'max_depth': 2, 'n_estimators': 25}   \n",
       "2               2                 30  {'max_depth': 2, 'n_estimators': 30}   \n",
       "3               3                 20  {'max_depth': 3, 'n_estimators': 20}   \n",
       "4               3                 25  {'max_depth': 3, 'n_estimators': 25}   \n",
       "\n",
       "   split0_test_score  split1_test_score  split2_test_score  split3_test_score  \\\n",
       "0           0.909616           0.897530           0.903260           0.905363   \n",
       "1           0.912769           0.913820           0.917455           0.913775   \n",
       "2           0.923279           0.917499           0.916930           0.923239   \n",
       "3           0.929585           0.930636           0.932177           0.934805   \n",
       "4           0.935365           0.931687           0.939537           0.937434   \n",
       "\n",
       "   split4_test_score  mean_test_score  std_test_score  rank_test_score  \n",
       "0           0.906414         0.904437        0.004017                9  \n",
       "1           0.912198         0.914004        0.001832                8  \n",
       "2           0.919558         0.920101        0.002723                7  \n",
       "3           0.931651         0.931771        0.001758                6  \n",
       "4           0.935331         0.935871        0.002605                5  "
      ]
     },
     "execution_count": 56,
     "metadata": {},
     "output_type": "execute_result"
    }
   ],
   "source": [
    "cv_results = pd.DataFrame(model.cv_results_)\n",
    "cv_results.head(5)"
   ]
  },
  {
   "cell_type": "code",
   "execution_count": 57,
   "id": "8bda80ad-d138-4b5a-b2e0-e2d930b152c5",
   "metadata": {
    "deletable": false,
    "editable": false
   },
   "outputs": [
    {
     "data": {
      "text/html": [
       "\n",
       "    <div class=\"wqet-result\">\n",
       "      <div class=\"animation\">\n",
       "        <svg class=\"checkmark\" xmlns=\"http://www.w3.org/2000/svg\" viewBox=\"0 0 52 52\">\n",
       "          <circle class=\"checkmark__circle\" cx=\"26\" cy=\"26\" r=\"25\" fill=\"none\"/>\n",
       "          <path class=\"checkmark__check\" fill=\"none\" d=\"M14.1 27.2l7.1 7.2 16.7-16.8\"/>\n",
       "        </svg>\n",
       "      </div>\n",
       "      <div class=\"details\">\n",
       "        <p class=\"title\"><p>Wow, you're making great progress.</p></p>\n",
       "        <p>Score: 1</p>\n",
       "      </div>\n",
       "    </div>\n"
      ],
      "text/plain": [
       "<IPython.core.display.HTML object>"
      ]
     },
     "metadata": {},
     "output_type": "display_data"
    }
   ],
   "source": [
    "\n",
    "wqet_grader.grade(\"Project 5 Assessment\", \"Task 5.5.14\", cv_results)"
   ]
  },
  {
   "cell_type": "markdown",
   "id": "3664fb33-2b5d-426d-af7f-0daa582575cc",
   "metadata": {
    "deletable": false,
    "editable": false
   },
   "source": [
    "**Task 5.5.15:** Extract the best hyperparameters from your model and assign them to <code>best_params</code>. "
   ]
  },
  {
   "cell_type": "code",
   "execution_count": 58,
   "id": "5bca6dd7-0711-4a4c-8c10-848bbdbba92c",
   "metadata": {
    "deletable": false
   },
   "outputs": [
    {
     "name": "stdout",
     "output_type": "stream",
     "text": [
      "{'max_depth': 4, 'n_estimators': 30}\n"
     ]
    }
   ],
   "source": [
    "best_params = model.best_params_\n",
    "print(best_params)"
   ]
  },
  {
   "cell_type": "code",
   "execution_count": 59,
   "id": "7c57b829-8b42-4edf-a1ed-ef1154c60d6d",
   "metadata": {
    "deletable": false,
    "editable": false
   },
   "outputs": [
    {
     "data": {
      "text/html": [
       "\n",
       "    <div class=\"wqet-result\">\n",
       "      <div class=\"animation\">\n",
       "        <svg class=\"checkmark\" xmlns=\"http://www.w3.org/2000/svg\" viewBox=\"0 0 52 52\">\n",
       "          <circle class=\"checkmark__circle\" cx=\"26\" cy=\"26\" r=\"25\" fill=\"none\"/>\n",
       "          <path class=\"checkmark__check\" fill=\"none\" d=\"M14.1 27.2l7.1 7.2 16.7-16.8\"/>\n",
       "        </svg>\n",
       "      </div>\n",
       "      <div class=\"details\">\n",
       "        <p class=\"title\"><p>Python master 😁</p></p>\n",
       "        <p>Score: 1</p>\n",
       "      </div>\n",
       "    </div>\n"
      ],
      "text/plain": [
       "<IPython.core.display.HTML object>"
      ]
     },
     "metadata": {},
     "output_type": "display_data"
    }
   ],
   "source": [
    "wqet_grader.grade(\n",
    "    \"Project 5 Assessment\", \"Task 5.5.15\", [isinstance(best_params, dict)]\n",
    ")"
   ]
  },
  {
   "cell_type": "markdown",
   "id": "6dbab4ae-2376-4a5a-b92e-ccd4bd39ec88",
   "metadata": {
    "deletable": false,
    "editable": false
   },
   "source": [
    "## Evaluate"
   ]
  },
  {
   "cell_type": "markdown",
   "id": "546758ef-9a65-4275-bdf8-0bd3e43c0b30",
   "metadata": {
    "deletable": false,
    "editable": false
   },
   "source": [
    "**Ungraded Task:** Test the quality of your model by calculating accuracy scores for the training and test data."
   ]
  },
  {
   "cell_type": "code",
   "execution_count": 60,
   "id": "428e0694-ede2-40ff-aa6f-9cb8665ce024",
   "metadata": {
    "deletable": false
   },
   "outputs": [
    {
     "name": "stdout",
     "output_type": "stream",
     "text": [
      "Model Training Accuracy: 0.9466\n",
      "Model Test Accuracy: 0.9389\n"
     ]
    }
   ],
   "source": [
    "acc_train = model.score(X_train,y_train)\n",
    "acc_test = model.score(X_test,y_test)\n",
    "\n",
    "print(\"Model Training Accuracy:\", round(acc_train, 4))\n",
    "print(\"Model Test Accuracy:\", round(acc_test, 4))"
   ]
  },
  {
   "cell_type": "markdown",
   "id": "00e35b54-acc0-47ea-b053-75212c0b631c",
   "metadata": {
    "deletable": false,
    "editable": false
   },
   "source": [
    "**Task 5.5.16:** Plot a confusion matrix that shows how your model performed on your test set."
   ]
  },
  {
   "cell_type": "code",
   "execution_count": 61,
   "id": "4d6875a6-62b7-4198-b8a2-5871dd7dd156",
   "metadata": {
    "deletable": false
   },
   "outputs": [
    {
     "data": {
      "image/png": "[encoded data removed]",
      "text/plain": [
       "<Figure size 432x288 with 2 Axes>"
      ]
     },
     "metadata": {
      "needs_background": "light"
     },
     "output_type": "display_data"
    }
   ],
   "source": [
    "ConfusionMatrixDisplay.from_estimator(model,X_test,y_test);\n",
    "# Don't delete the code below 👇\n",
    "plt.savefig(\"images/5-5-16.png\", dpi=150)\n"
   ]
  },
  {
   "cell_type": "code",
   "execution_count": 62,
   "id": "ff78cdf4-96fb-4d0b-a7ff-6159d128d4b3",
   "metadata": {
    "deletable": false,
    "editable": false
   },
   "outputs": [
    {
     "data": {
      "text/html": [
       "\n",
       "    <div class=\"wqet-result\">\n",
       "      <div class=\"animation\">\n",
       "        <svg class=\"checkmark\" xmlns=\"http://www.w3.org/2000/svg\" viewBox=\"0 0 52 52\">\n",
       "          <circle class=\"checkmark__circle\" cx=\"26\" cy=\"26\" r=\"25\" fill=\"none\"/>\n",
       "          <path class=\"checkmark__check\" fill=\"none\" d=\"M14.1 27.2l7.1 7.2 16.7-16.8\"/>\n",
       "        </svg>\n",
       "      </div>\n",
       "      <div class=\"details\">\n",
       "        <p class=\"title\"><p>🥳</p></p>\n",
       "        <p>Score: 1</p>\n",
       "      </div>\n",
       "    </div>\n"
      ],
      "text/plain": [
       "<IPython.core.display.HTML object>"
      ]
     },
     "metadata": {},
     "output_type": "display_data"
    }
   ],
   "source": [
    "with open(\"images/5-5-16.png\", \"rb\") as file:\n",
    "    wqet_grader.grade(\"Project 5 Assessment\", \"Task 5.5.16\", file)"
   ]
  },
  {
   "cell_type": "markdown",
   "id": "5d31978d-b6d8-4397-a884-0ab6d9dc5ddb",
   "metadata": {
    "deletable": false,
    "editable": false
   },
   "source": [
    "**Task 5.5.17:** Generate a classification report for your model's performance on the test data and assign it to `class_report`."
   ]
  },
  {
   "cell_type": "code",
   "execution_count": 63,
   "id": "0b04df35-1326-482b-b86c-489f3eeb992f",
   "metadata": {
    "deletable": false
   },
   "outputs": [
    {
     "name": "stdout",
     "output_type": "stream",
     "text": [
      "              precision    recall  f1-score   support\n",
      "\n",
      "       False       0.99      0.94      0.97      1191\n",
      "        True       0.31      0.81      0.44        37\n",
      "\n",
      "    accuracy                           0.94      1228\n",
      "   macro avg       0.65      0.88      0.71      1228\n",
      "weighted avg       0.97      0.94      0.95      1228\n",
      "\n"
     ]
    }
   ],
   "source": [
    "class_report = classification_report(y_test, model.predict(X_test))\n",
    "print(class_report)"
   ]
  },
  {
   "cell_type": "code",
   "execution_count": 64,
   "id": "7fb56e0f-9386-4b75-989c-0e9d3aea150d",
   "metadata": {
    "deletable": false,
    "editable": false
   },
   "outputs": [
    {
     "data": {
      "text/html": [
       "\n",
       "    <div class=\"wqet-result\">\n",
       "      <div class=\"animation\">\n",
       "        <svg class=\"checkmark\" xmlns=\"http://www.w3.org/2000/svg\" viewBox=\"0 0 52 52\">\n",
       "          <circle class=\"checkmark__circle\" cx=\"26\" cy=\"26\" r=\"25\" fill=\"none\"/>\n",
       "          <path class=\"checkmark__check\" fill=\"none\" d=\"M14.1 27.2l7.1 7.2 16.7-16.8\"/>\n",
       "        </svg>\n",
       "      </div>\n",
       "      <div class=\"details\">\n",
       "        <p class=\"title\"><p>Yes! Your hard work is paying off.</p></p>\n",
       "        <p>Score: 1</p>\n",
       "      </div>\n",
       "    </div>\n"
      ],
      "text/plain": [
       "<IPython.core.display.HTML object>"
      ]
     },
     "metadata": {},
     "output_type": "display_data"
    }
   ],
   "source": [
    "wqet_grader.grade(\"Project 5 Assessment\", \"Task 5.5.17\", class_report)"
   ]
  },
  {
   "cell_type": "markdown",
   "id": "64153890-7c5d-4b8d-9265-08444c4c3068",
   "metadata": {
    "deletable": false,
    "editable": false
   },
   "source": [
    "# Communicate"
   ]
  },
  {
   "cell_type": "markdown",
   "id": "bd293667-cf33-4645-9a6d-6102fed6a8b8",
   "metadata": {
    "deletable": false,
    "editable": false
   },
   "source": [
    "**Task 5.5.18:** Create a horizontal bar chart with the 10 most important features for your model. Be sure to label the x-axis `\"Gini Importance\"`, the y-axis `\"Feature\"`, and use the title `\"Feature Importance\"`."
   ]
  },
  {
   "cell_type": "code",
   "execution_count": 66,
   "id": "682d409c-30bd-43b2-8fa9-942b241b26f0",
   "metadata": {
    "deletable": false
   },
   "outputs": [
    {
     "data": {
      "image/png": "[encoded data removed]",
      "text/plain": [
       "<Figure size 432x288 with 1 Axes>"
      ]
     },
     "metadata": {
      "needs_background": "light"
     },
     "output_type": "display_data"
    }
   ],
   "source": [
    "\n",
    "features = X_train_over.columns\n",
    "\n",
    "importances = model.best_estimator_.feature_importances_\n",
    "\n",
    "feat_imp = pd.Series(importances,index=features).sort_values()\n",
    "\n",
    "feat_imp.tail(10).plot(kind=\"barh\")\n",
    "plt.xlabel(\"Gini Importance\")\n",
    "plt.ylabel(\"Feature\")\n",
    "plt.title(\"Feature Importance\");\n",
    "# Don't delete the code below 👇\n",
    "plt.savefig(\"images/5-5-17.png\", dpi=150)\n"
   ]
  },
  {
   "cell_type": "code",
   "execution_count": 67,
   "id": "0ee1cad2-3862-4871-929a-464bb3881c7b",
   "metadata": {
    "deletable": false,
    "editable": false
   },
   "outputs": [
    {
     "data": {
      "text/html": [
       "\n",
       "    <div class=\"wqet-result\">\n",
       "      <div class=\"animation\">\n",
       "        <svg class=\"checkmark\" xmlns=\"http://www.w3.org/2000/svg\" viewBox=\"0 0 52 52\">\n",
       "          <circle class=\"checkmark__circle\" cx=\"26\" cy=\"26\" r=\"25\" fill=\"none\"/>\n",
       "          <path class=\"checkmark__check\" fill=\"none\" d=\"M14.1 27.2l7.1 7.2 16.7-16.8\"/>\n",
       "        </svg>\n",
       "      </div>\n",
       "      <div class=\"details\">\n",
       "        <p class=\"title\"><p>Excellent work.</p></p>\n",
       "        <p>Score: 1</p>\n",
       "      </div>\n",
       "    </div>\n"
      ],
      "text/plain": [
       "<IPython.core.display.HTML object>"
      ]
     },
     "metadata": {},
     "output_type": "display_data"
    }
   ],
   "source": [
    "with open(\"images/5-5-17.png\", \"rb\") as file:\n",
    "    wqet_grader.grade(\"Project 5 Assessment\", \"Task 5.5.18\", file)"
   ]
  },
  {
   "cell_type": "markdown",
   "id": "1edec385-98f2-4d33-95a6-72ee4378038c",
   "metadata": {
    "deletable": false,
    "editable": false
   },
   "source": [
    "**Task 5.5.19:** Save your best-performing model to a a file named <code>\"model-5-5.pkl\"</code>."
   ]
  },
  {
   "cell_type": "code",
   "execution_count": 68,
   "id": "418d11d0-1f01-4f41-b248-7f9f6fd0bf55",
   "metadata": {
    "deletable": false
   },
   "outputs": [],
   "source": [
    "# Save model\n",
    "with open(\"model-5-5.pkl\",\"wb\") as f:\n",
    "    pickle.dump(model,f)"
   ]
  },
  {
   "cell_type": "code",
   "execution_count": 69,
   "id": "0c4e753c-6321-4fa7-97de-51ea50981b34",
   "metadata": {
    "deletable": false,
    "editable": false
   },
   "outputs": [
    {
     "ename": "Exception",
     "evalue": "Could not grade submission: Could not verify access to this assessment: Received error from WQET submission API: You have already passed this course!",
     "output_type": "error",
     "traceback": [
      "\u001b[0;31m---------------------------------------------------------------------------\u001b[0m",
      "\u001b[0;31mException\u001b[0m                                 Traceback (most recent call last)",
      "Cell \u001b[0;32mIn [69], line 2\u001b[0m\n\u001b[1;32m      1\u001b[0m \u001b[38;5;28;01mwith\u001b[39;00m \u001b[38;5;28mopen\u001b[39m(\u001b[38;5;124m\"\u001b[39m\u001b[38;5;124mmodel-5-5.pkl\u001b[39m\u001b[38;5;124m\"\u001b[39m, \u001b[38;5;124m\"\u001b[39m\u001b[38;5;124mrb\u001b[39m\u001b[38;5;124m\"\u001b[39m) \u001b[38;5;28;01mas\u001b[39;00m f:\n\u001b[0;32m----> 2\u001b[0m     \u001b[43mwqet_grader\u001b[49m\u001b[38;5;241;43m.\u001b[39;49m\u001b[43mgrade\u001b[49m\u001b[43m(\u001b[49m\u001b[38;5;124;43m\"\u001b[39;49m\u001b[38;5;124;43mProject 5 Assessment\u001b[39;49m\u001b[38;5;124;43m\"\u001b[39;49m\u001b[43m,\u001b[49m\u001b[43m \u001b[49m\u001b[38;5;124;43m\"\u001b[39;49m\u001b[38;5;124;43mTask 5.5.19\u001b[39;49m\u001b[38;5;124;43m\"\u001b[39;49m\u001b[43m,\u001b[49m\u001b[43m \u001b[49m\u001b[43mpickle\u001b[49m\u001b[38;5;241;43m.\u001b[39;49m\u001b[43mload\u001b[49m\u001b[43m(\u001b[49m\u001b[43mf\u001b[49m\u001b[43m)\u001b[49m\u001b[43m)\u001b[49m\n",
      "File \u001b[0;32m/opt/conda/lib/python3.9/site-packages/wqet_grader/__init__.py:182\u001b[0m, in \u001b[0;36mgrade\u001b[0;34m(assessment_id, question_id, submission)\u001b[0m\n\u001b[1;32m    177\u001b[0m \u001b[38;5;28;01mdef\u001b[39;00m \u001b[38;5;21mgrade\u001b[39m(assessment_id, question_id, submission):\n\u001b[1;32m    178\u001b[0m   submission_object \u001b[38;5;241m=\u001b[39m {\n\u001b[1;32m    179\u001b[0m     \u001b[38;5;124m'\u001b[39m\u001b[38;5;124mtype\u001b[39m\u001b[38;5;124m'\u001b[39m: \u001b[38;5;124m'\u001b[39m\u001b[38;5;124msimple\u001b[39m\u001b[38;5;124m'\u001b[39m,\n\u001b[1;32m    180\u001b[0m     \u001b[38;5;124m'\u001b[39m\u001b[38;5;124margument\u001b[39m\u001b[38;5;124m'\u001b[39m: [submission]\n\u001b[1;32m    181\u001b[0m   }\n\u001b[0;32m--> 182\u001b[0m   \u001b[38;5;28;01mreturn\u001b[39;00m show_score(\u001b[43mgrade_submission\u001b[49m\u001b[43m(\u001b[49m\u001b[43massessment_id\u001b[49m\u001b[43m,\u001b[49m\u001b[43m \u001b[49m\u001b[43mquestion_id\u001b[49m\u001b[43m,\u001b[49m\u001b[43m \u001b[49m\u001b[43msubmission_object\u001b[49m\u001b[43m)\u001b[49m)\n",
      "File \u001b[0;32m/opt/conda/lib/python3.9/site-packages/wqet_grader/transport.py:146\u001b[0m, in \u001b[0;36mgrade_submission\u001b[0;34m(assessment_id, question_id, submission_object)\u001b[0m\n\u001b[1;32m    144\u001b[0m     \u001b[38;5;28;01mraise\u001b[39;00m \u001b[38;5;167;01mException\u001b[39;00m(\u001b[38;5;124m'\u001b[39m\u001b[38;5;124mGrader raised error: \u001b[39m\u001b[38;5;132;01m{}\u001b[39;00m\u001b[38;5;124m'\u001b[39m\u001b[38;5;241m.\u001b[39mformat(error[\u001b[38;5;124m'\u001b[39m\u001b[38;5;124mmessage\u001b[39m\u001b[38;5;124m'\u001b[39m]))\n\u001b[1;32m    145\u001b[0m   \u001b[38;5;28;01melse\u001b[39;00m:\n\u001b[0;32m--> 146\u001b[0m     \u001b[38;5;28;01mraise\u001b[39;00m \u001b[38;5;167;01mException\u001b[39;00m(\u001b[38;5;124m'\u001b[39m\u001b[38;5;124mCould not grade submission: \u001b[39m\u001b[38;5;132;01m{}\u001b[39;00m\u001b[38;5;124m'\u001b[39m\u001b[38;5;241m.\u001b[39mformat(error[\u001b[38;5;124m'\u001b[39m\u001b[38;5;124mmessage\u001b[39m\u001b[38;5;124m'\u001b[39m]))\n\u001b[1;32m    147\u001b[0m result \u001b[38;5;241m=\u001b[39m envelope[\u001b[38;5;124m'\u001b[39m\u001b[38;5;124mdata\u001b[39m\u001b[38;5;124m'\u001b[39m][\u001b[38;5;124m'\u001b[39m\u001b[38;5;124mresult\u001b[39m\u001b[38;5;124m'\u001b[39m]\n\u001b[1;32m    149\u001b[0m \u001b[38;5;66;03m# Used only in testing\u001b[39;00m\n",
      "\u001b[0;31mException\u001b[0m: Could not grade submission: Could not verify access to this assessment: Received error from WQET submission API: You have already passed this course!"
     ]
    }
   ],
   "source": [
    "\n",
    "with open(\"model-5-5.pkl\", \"rb\") as f:\n",
    "    wqet_grader.grade(\"Project 5 Assessment\", \"Task 5.5.19\", pickle.load(f))"
   ]
  },
  {
   "cell_type": "markdown",
   "id": "93cae90c-fdfd-4295-8bca-0a670185e86a",
   "metadata": {
    "deletable": false,
    "editable": false
   },
   "source": [
    "**Task 5.5.20:** Open the file <code>my_predictor_assignment.py</code>. Add your `wrangle` function, and then create a `make_predictions` function that takes two arguments: `data_filepath` and <code>model_filepath</code>. Use the cell below to test your module. When you're satisfied with the result, submit it to the grader. "
   ]
  },
  {
   "cell_type": "code",
   "execution_count": 74,
   "id": "8708d162-ebf0-4f11-92f1-05f65088f576",
   "metadata": {
    "deletable": false
   },
   "outputs": [
    {
     "name": "stdout",
     "output_type": "stream",
     "text": [
      "predictions shape: (682,)\n"
     ]
    },
    {
     "data": {
      "text/plain": [
       "id\n",
       "18    False\n",
       "20    False\n",
       "24     True\n",
       "32     True\n",
       "38    False\n",
       "Name: bankrupt, dtype: bool"
      ]
     },
     "execution_count": 74,
     "metadata": {},
     "output_type": "execute_result"
    }
   ],
   "source": [
    "# Import your module\n",
    "from my_predictor_assignment import make_predictions\n",
    "\n",
    "# Generate predictions\n",
    "y_test_pred = make_predictions(\n",
    "    data_filepath=\"data/taiwan-bankruptcy-data-test-features.json.gz\",\n",
    "    model_filepath=\"model-5-5.pkl\",\n",
    ")\n",
    "\n",
    "print(\"predictions shape:\", y_test_pred.shape)\n",
    "y_test_pred.head()"
   ]
  },
  {
   "cell_type": "markdown",
   "id": "e96df798-3221-44d6-876a-3488c1772300",
   "metadata": {
    "deletable": false,
    "editable": false
   },
   "source": [
    "<div class=\"alert alert-info\" role=\"alert\">\n",
    "    <b>Tip:</b> If you get an <code style=\"color:#E45E5C;background-color:#FEDDDE\">ImportError</code> when you try to import <code>make_predictions</code> from <code>my_predictor_assignment</code>, try restarting your kernel. Go to the <b>Kernel</b> menu and click on  <b>Restart Kernel and Clear All Outputs</b>. Then rerun just the cell above. ☝️\n",
    "</div>"
   ]
  },
  {
   "cell_type": "code",
   "execution_count": 75,
   "id": "8024773b-e820-41cb-89a4-abb39cd4d9a2",
   "metadata": {
    "deletable": false,
    "editable": false
   },
   "outputs": [
    {
     "ename": "Exception",
     "evalue": "Could not grade submission: Could not verify access to this assessment: Received error from WQET submission API: You have already passed this course!",
     "output_type": "error",
     "traceback": [
      "\u001b[0;31m---------------------------------------------------------------------------\u001b[0m",
      "\u001b[0;31mException\u001b[0m                                 Traceback (most recent call last)",
      "Cell \u001b[0;32mIn [75], line 1\u001b[0m\n\u001b[0;32m----> 1\u001b[0m \u001b[43mwqet_grader\u001b[49m\u001b[38;5;241;43m.\u001b[39;49m\u001b[43mgrade\u001b[49m\u001b[43m(\u001b[49m\n\u001b[1;32m      2\u001b[0m \u001b[43m    \u001b[49m\u001b[38;5;124;43m\"\u001b[39;49m\u001b[38;5;124;43mProject 5 Assessment\u001b[39;49m\u001b[38;5;124;43m\"\u001b[39;49m\u001b[43m,\u001b[49m\n\u001b[1;32m      3\u001b[0m \u001b[43m    \u001b[49m\u001b[38;5;124;43m\"\u001b[39;49m\u001b[38;5;124;43mTask 5.5.20\u001b[39;49m\u001b[38;5;124;43m\"\u001b[39;49m\u001b[43m,\u001b[49m\n\u001b[1;32m      4\u001b[0m \u001b[43m    \u001b[49m\u001b[43mmake_predictions\u001b[49m\u001b[43m(\u001b[49m\n\u001b[1;32m      5\u001b[0m \u001b[43m        \u001b[49m\u001b[43mdata_filepath\u001b[49m\u001b[38;5;241;43m=\u001b[39;49m\u001b[38;5;124;43m\"\u001b[39;49m\u001b[38;5;124;43mdata/taiwan-bankruptcy-data-test-features.json.gz\u001b[39;49m\u001b[38;5;124;43m\"\u001b[39;49m\u001b[43m,\u001b[49m\n\u001b[1;32m      6\u001b[0m \u001b[43m        \u001b[49m\u001b[43mmodel_filepath\u001b[49m\u001b[38;5;241;43m=\u001b[39;49m\u001b[38;5;124;43m\"\u001b[39;49m\u001b[38;5;124;43mmodel-5-5.pkl\u001b[39;49m\u001b[38;5;124;43m\"\u001b[39;49m\u001b[43m,\u001b[49m\n\u001b[1;32m      7\u001b[0m \u001b[43m    \u001b[49m\u001b[43m)\u001b[49m\u001b[43m,\u001b[49m\n\u001b[1;32m      8\u001b[0m \u001b[43m)\u001b[49m\n",
      "File \u001b[0;32m/opt/conda/lib/python3.9/site-packages/wqet_grader/__init__.py:182\u001b[0m, in \u001b[0;36mgrade\u001b[0;34m(assessment_id, question_id, submission)\u001b[0m\n\u001b[1;32m    177\u001b[0m \u001b[38;5;28;01mdef\u001b[39;00m \u001b[38;5;21mgrade\u001b[39m(assessment_id, question_id, submission):\n\u001b[1;32m    178\u001b[0m   submission_object \u001b[38;5;241m=\u001b[39m {\n\u001b[1;32m    179\u001b[0m     \u001b[38;5;124m'\u001b[39m\u001b[38;5;124mtype\u001b[39m\u001b[38;5;124m'\u001b[39m: \u001b[38;5;124m'\u001b[39m\u001b[38;5;124msimple\u001b[39m\u001b[38;5;124m'\u001b[39m,\n\u001b[1;32m    180\u001b[0m     \u001b[38;5;124m'\u001b[39m\u001b[38;5;124margument\u001b[39m\u001b[38;5;124m'\u001b[39m: [submission]\n\u001b[1;32m    181\u001b[0m   }\n\u001b[0;32m--> 182\u001b[0m   \u001b[38;5;28;01mreturn\u001b[39;00m show_score(\u001b[43mgrade_submission\u001b[49m\u001b[43m(\u001b[49m\u001b[43massessment_id\u001b[49m\u001b[43m,\u001b[49m\u001b[43m \u001b[49m\u001b[43mquestion_id\u001b[49m\u001b[43m,\u001b[49m\u001b[43m \u001b[49m\u001b[43msubmission_object\u001b[49m\u001b[43m)\u001b[49m)\n",
      "File \u001b[0;32m/opt/conda/lib/python3.9/site-packages/wqet_grader/transport.py:146\u001b[0m, in \u001b[0;36mgrade_submission\u001b[0;34m(assessment_id, question_id, submission_object)\u001b[0m\n\u001b[1;32m    144\u001b[0m     \u001b[38;5;28;01mraise\u001b[39;00m \u001b[38;5;167;01mException\u001b[39;00m(\u001b[38;5;124m'\u001b[39m\u001b[38;5;124mGrader raised error: \u001b[39m\u001b[38;5;132;01m{}\u001b[39;00m\u001b[38;5;124m'\u001b[39m\u001b[38;5;241m.\u001b[39mformat(error[\u001b[38;5;124m'\u001b[39m\u001b[38;5;124mmessage\u001b[39m\u001b[38;5;124m'\u001b[39m]))\n\u001b[1;32m    145\u001b[0m   \u001b[38;5;28;01melse\u001b[39;00m:\n\u001b[0;32m--> 146\u001b[0m     \u001b[38;5;28;01mraise\u001b[39;00m \u001b[38;5;167;01mException\u001b[39;00m(\u001b[38;5;124m'\u001b[39m\u001b[38;5;124mCould not grade submission: \u001b[39m\u001b[38;5;132;01m{}\u001b[39;00m\u001b[38;5;124m'\u001b[39m\u001b[38;5;241m.\u001b[39mformat(error[\u001b[38;5;124m'\u001b[39m\u001b[38;5;124mmessage\u001b[39m\u001b[38;5;124m'\u001b[39m]))\n\u001b[1;32m    147\u001b[0m result \u001b[38;5;241m=\u001b[39m envelope[\u001b[38;5;124m'\u001b[39m\u001b[38;5;124mdata\u001b[39m\u001b[38;5;124m'\u001b[39m][\u001b[38;5;124m'\u001b[39m\u001b[38;5;124mresult\u001b[39m\u001b[38;5;124m'\u001b[39m]\n\u001b[1;32m    149\u001b[0m \u001b[38;5;66;03m# Used only in testing\u001b[39;00m\n",
      "\u001b[0;31mException\u001b[0m: Could not grade submission: Could not verify access to this assessment: Received error from WQET submission API: You have already passed this course!"
     ]
    }
   ],
   "source": [
    "wqet_grader.grade(\n",
    "    \"Project 5 Assessment\",\n",
    "    \"Task 5.5.20\",\n",
    "    make_predictions(\n",
    "        data_filepath=\"data/taiwan-bankruptcy-data-test-features.json.gz\",\n",
    "        model_filepath=\"model-5-5.pkl\",\n",
    "    ),\n",
    ")"
   ]
  },
  {
   "cell_type": "markdown",
   "id": "dfec05f4",
   "metadata": {
    "deletable": false,
    "editable": false
   },
   "source": [
    "---\n",
    "Copyright © 2022 WorldQuant University. This\n",
    "content is licensed solely for personal use. Redistribution or\n",
    "publication of this material is strictly prohibited.\n"
   ]
  }
 ],
 "metadata": {
  "kernelspec": {
   "display_name": "Python 3 (ipykernel)",
   "language": "python",
   "name": "python3"
  },
  "language_info": {
   "codemirror_mode": {
    "name": "ipython",
    "version": 3
   },
   "file_extension": ".py",
   "mimetype": "text/x-python",
   "name": "python",
   "nbconvert_exporter": "python",
   "pygments_lexer": "ipython3",
   "version": "3.9.6"
  },
  "toc-autonumbering": false
 },
 "nbformat": 4,
 "nbformat_minor": 5
}
