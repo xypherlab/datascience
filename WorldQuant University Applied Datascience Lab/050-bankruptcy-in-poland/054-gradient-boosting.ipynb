{
 "cells": [
  {
   "cell_type": "markdown",
   "id": "6561878f-82ed-4b15-9fdc-065d1367a935",
   "metadata": {
    "deletable": false,
    "editable": false
   },
   "source": [
    "<font size=\"+3\"><strong>5.4. Gradient Boosting Trees</strong></font>"
   ]
  },
  {
   "cell_type": "markdown",
   "id": "f1b81dd3-c78c-4efe-b021-2e4a3a40d549",
   "metadata": {
    "deletable": false,
    "editable": false
   },
   "source": [
    "You've been working hard, and now you have all the tools you need to build and tune  models. We'll start this lesson the same way we've started the others: preparing the data and building our model, and this time with a new ensemble model. Once it's working, we'll learn some new performance metrics to evaluate it. By the end of this lesson, you'll have written your first Python module!  "
   ]
  },
  {
   "cell_type": "code",
   "execution_count": 1,
   "id": "7a7a4299-5989-4091-91ed-a3e5608ab633",
   "metadata": {
    "deletable": false,
    "editable": false,
    "init_cell": true
   },
   "outputs": [
    {
     "data": {
      "text/html": [
       "\n",
       "<style>\n",
       "  \n",
       "  .checkmark {\n",
       "    width: 56px;\n",
       "    height: 56px;\n",
       "    border-radius: 50%;\n",
       "    display: block;\n",
       "    stroke-width: 2;\n",
       "    stroke: #fff;\n",
       "    stroke-miterlimit: 10;\n",
       "    box-shadow: inset 0px 0px 0px #7ac142;\n",
       "    animation: fill .4s ease-in-out .4s forwards, scale .3s ease-in-out .9s both;\n",
       "  }\n",
       "  \n",
       "  .checkmark__circle {\n",
       "    stroke-dasharray: 166;\n",
       "    stroke-dashoffset: 166;\n",
       "    stroke-width: 2;\n",
       "    stroke-miterlimit: 10;\n",
       "    stroke: #7ac142;\n",
       "    fill: none;\n",
       "    animation: stroke .6s cubic-bezier(0.650, 0.000, 0.450, 1.000) forwards;\n",
       "  }\n",
       "  \n",
       "  .checkmark__check {\n",
       "    transform-origin: 50% 50%;\n",
       "    stroke-dasharray: 48;\n",
       "    stroke-dashoffset: 48;\n",
       "    animation: stroke .3s cubic-bezier(0.650, 0.000, 0.450, 1.000) .8s forwards;\n",
       "  }\n",
       "  \n",
       "  .failmark {\n",
       "    width: 56px;\n",
       "    height: 56px;\n",
       "    border-radius: 50%;\n",
       "    display: block;\n",
       "    stroke-width: 2;\n",
       "    stroke: #fff;\n",
       "    stroke-miterlimit: 10;\n",
       "    box-shadow: inset 0px 0px 0px #F34811;\n",
       "    animation: failfill .4s ease-in-out .4s forwards, scale .3s ease-in-out .9s both;\n",
       "  }\n",
       "  \n",
       "  .failmark__circle {\n",
       "    stroke-dasharray: 166;\n",
       "    stroke-dashoffset: 166;\n",
       "    stroke-width: 2;\n",
       "    stroke-miterlimit: 10;\n",
       "    stroke: #F34811;\n",
       "    fill: none;\n",
       "    animation: stroke .6s cubic-bezier(0.650, 0.000, 0.450, 1.000) forwards;\n",
       "  }\n",
       "  \n",
       "  @keyframes stroke {\n",
       "    100% {\n",
       "      stroke-dashoffset: 0;\n",
       "    }\n",
       "  }\n",
       "  \n",
       "  @keyframes scale {\n",
       "    0%, 100% {\n",
       "      transform: none;\n",
       "    }\n",
       "    50% {\n",
       "      transform: scale3d(1.1, 1.1, 1);\n",
       "    }\n",
       "  }\n",
       "  \n",
       "  @keyframes fill {\n",
       "    100% {\n",
       "      box-shadow: inset 0px 0px 0px 30px #7ac142;\n",
       "    }\n",
       "  }\n",
       "  \n",
       "  @keyframes failfill {\n",
       "    100% {\n",
       "      box-shadow: inset 0px 0px 0px 30px #F34811;\n",
       "    }\n",
       "  }\n",
       "  \n",
       "  \n",
       "  .wqet-result {\n",
       "    width: 450px;\n",
       "    clear: both;\n",
       "  }\n",
       "  \n",
       "  .wqet-result .animation {\n",
       "    float: left;\n",
       "    width: 100px;\n",
       "  }\n",
       "  \n",
       "  .wqet-result .animation .checkmark,\n",
       "  .wqet-result .animation .failmark {\n",
       "    margin: 20px auto 20px auto;\n",
       "  }\n",
       "  \n",
       "  .wqet-result .details {\n",
       "    float: right;\n",
       "    width: 349px;\n",
       "    padding: 28px 0;\n",
       "  }\n",
       "  \n",
       "  .wqet-result .details .title {\n",
       "    font-weight: bold;\n",
       "    font-size: 110%;\n",
       "  }\n",
       "  .wqet-result .details p {\n",
       "    margin: 0;\n",
       "  }\n",
       "</style>\n"
      ],
      "text/plain": [
       "<IPython.core.display.HTML object>"
      ]
     },
     "metadata": {},
     "output_type": "display_data"
    }
   ],
   "source": [
    "import gzip\n",
    "import json\n",
    "import pickle\n",
    "\n",
    "import ipywidgets as widgets\n",
    "import pandas as pd\n",
    "import wqet_grader\n",
    "from imblearn.over_sampling import RandomOverSampler\n",
    "from IPython.display import VimeoVideo\n",
    "from ipywidgets import interact\n",
    "from sklearn.ensemble import GradientBoostingClassifier\n",
    "from sklearn.impute import SimpleImputer\n",
    "from sklearn.metrics import (\n",
    "    ConfusionMatrixDisplay,\n",
    "    classification_report,\n",
    "    confusion_matrix,\n",
    ")\n",
    "from sklearn.model_selection import GridSearchCV, train_test_split\n",
    "from sklearn.pipeline import make_pipeline\n",
    "from teaching_tools.widgets import ConfusionMatrixWidget\n",
    "\n",
    "wqet_grader.init(\"Project 5 Assessment\")"
   ]
  },
  {
   "cell_type": "code",
   "execution_count": 2,
   "id": "900ab95b-642f-4d74-89e4-5c05c33d15f6",
   "metadata": {
    "deletable": false,
    "editable": false,
    "init_cell": true
   },
   "outputs": [
    {
     "data": {
      "text/html": [
       "\n",
       "        <iframe\n",
       "            width=\"600\"\n",
       "            height=\"300\"\n",
       "            src=\"https://player.vimeo.com/video/696221191?h=275ffd1421\"\n",
       "            frameborder=\"0\"\n",
       "            allowfullscreen\n",
       "            \n",
       "        ></iframe>\n",
       "        "
      ],
      "text/plain": [
       "<IPython.lib.display.VimeoVideo at 0x7fb47c0ef640>"
      ]
     },
     "execution_count": 2,
     "metadata": {},
     "output_type": "execute_result"
    }
   ],
   "source": [
    "VimeoVideo(\"696221191\", h=\"275ffd1421\", width=600)"
   ]
  },
  {
   "cell_type": "code",
   "execution_count": 2,
   "id": "e7106f64-d96b-4578-8dfc-1ef08d434582",
   "metadata": {},
   "outputs": [],
   "source": [
    "from IPython.display import VimeoVideo"
   ]
  },
  {
   "cell_type": "markdown",
   "id": "7c7d858a-ba64-4886-a3a4-36fcb21d78c8",
   "metadata": {
    "deletable": false,
    "editable": false
   },
   "source": [
    "# Prepare Data"
   ]
  },
  {
   "cell_type": "markdown",
   "id": "d3e610f8-20f6-44c1-88c8-97af43cc3cf2",
   "metadata": {
    "deletable": false,
    "editable": false
   },
   "source": [
    "All the data preparation for this module is the same as it was last time around. See you on the other side!"
   ]
  },
  {
   "cell_type": "markdown",
   "id": "8188935f-c22e-48b8-ba9b-0e89049691fa",
   "metadata": {
    "deletable": false,
    "editable": false
   },
   "source": [
    "## Import"
   ]
  },
  {
   "cell_type": "markdown",
   "id": "f46941b3-2f3a-4338-a5bb-ea5eedc8852f",
   "metadata": {
    "deletable": false,
    "editable": false
   },
   "source": [
    "**Task 5.4.1:** Complete the `wrangle` function below using the code you developed in the  lesson 5.1. Then use it to import `poland-bankruptcy-data-2009.json.gz` into the DataFrame `df`.\n",
    "\n",
    "- [<span id='technique'>Write a function in <span id='tool'>Python</span></span>.](../%40textbook/02-python-advanced.ipynb#Functions)"
   ]
  },
  {
   "cell_type": "code",
   "execution_count": 3,
   "id": "07e0d506-4f52-458a-b3e7-c133eb6225ac",
   "metadata": {
    "deletable": false
   },
   "outputs": [],
   "source": [
    "def wrangle(filename):\n",
    "    \n",
    "    # Open compressed file, load into dictionary\n",
    "    with gzip.open(filename,\"r\") as f:\n",
    "        data = json.load(f)\n",
    "    \n",
    "    # Load dictionary into DataFrame, set index\n",
    "    df = pd.DataFrame().from_dict(data[\"data\"]).set_index(\"company_id\")\n",
    "    return df"
   ]
  },
  {
   "cell_type": "code",
   "execution_count": 4,
   "id": "7cc479f1-fd50-4db6-9619-7ed61b613703",
   "metadata": {
    "deletable": false
   },
   "outputs": [
    {
     "name": "stdout",
     "output_type": "stream",
     "text": [
      "(9977, 65)\n"
     ]
    },
    {
     "data": {
      "text/html": [
       "<div>\n",
       "<style scoped>\n",
       "    .dataframe tbody tr th:only-of-type {\n",
       "        vertical-align: middle;\n",
       "    }\n",
       "\n",
       "    .dataframe tbody tr th {\n",
       "        vertical-align: top;\n",
       "    }\n",
       "\n",
       "    .dataframe thead th {\n",
       "        text-align: right;\n",
       "    }\n",
       "</style>\n",
       "<table border=\"1\" class=\"dataframe\">\n",
       "  <thead>\n",
       "    <tr style=\"text-align: right;\">\n",
       "      <th></th>\n",
       "      <th>feat_1</th>\n",
       "      <th>feat_2</th>\n",
       "      <th>feat_3</th>\n",
       "      <th>feat_4</th>\n",
       "      <th>feat_5</th>\n",
       "      <th>feat_6</th>\n",
       "      <th>feat_7</th>\n",
       "      <th>feat_8</th>\n",
       "      <th>feat_9</th>\n",
       "      <th>feat_10</th>\n",
       "      <th>...</th>\n",
       "      <th>feat_56</th>\n",
       "      <th>feat_57</th>\n",
       "      <th>feat_58</th>\n",
       "      <th>feat_59</th>\n",
       "      <th>feat_60</th>\n",
       "      <th>feat_61</th>\n",
       "      <th>feat_62</th>\n",
       "      <th>feat_63</th>\n",
       "      <th>feat_64</th>\n",
       "      <th>bankrupt</th>\n",
       "    </tr>\n",
       "    <tr>\n",
       "      <th>company_id</th>\n",
       "      <th></th>\n",
       "      <th></th>\n",
       "      <th></th>\n",
       "      <th></th>\n",
       "      <th></th>\n",
       "      <th></th>\n",
       "      <th></th>\n",
       "      <th></th>\n",
       "      <th></th>\n",
       "      <th></th>\n",
       "      <th></th>\n",
       "      <th></th>\n",
       "      <th></th>\n",
       "      <th></th>\n",
       "      <th></th>\n",
       "      <th></th>\n",
       "      <th></th>\n",
       "      <th></th>\n",
       "      <th></th>\n",
       "      <th></th>\n",
       "      <th></th>\n",
       "    </tr>\n",
       "  </thead>\n",
       "  <tbody>\n",
       "    <tr>\n",
       "      <th>1</th>\n",
       "      <td>0.174190</td>\n",
       "      <td>0.41299</td>\n",
       "      <td>0.14371</td>\n",
       "      <td>1.3480</td>\n",
       "      <td>-28.9820</td>\n",
       "      <td>0.60383</td>\n",
       "      <td>0.219460</td>\n",
       "      <td>1.12250</td>\n",
       "      <td>1.1961</td>\n",
       "      <td>0.46359</td>\n",
       "      <td>...</td>\n",
       "      <td>0.163960</td>\n",
       "      <td>0.375740</td>\n",
       "      <td>0.83604</td>\n",
       "      <td>0.000007</td>\n",
       "      <td>9.7145</td>\n",
       "      <td>6.2813</td>\n",
       "      <td>84.291</td>\n",
       "      <td>4.3303</td>\n",
       "      <td>4.0341</td>\n",
       "      <td>False</td>\n",
       "    </tr>\n",
       "    <tr>\n",
       "      <th>2</th>\n",
       "      <td>0.146240</td>\n",
       "      <td>0.46038</td>\n",
       "      <td>0.28230</td>\n",
       "      <td>1.6294</td>\n",
       "      <td>2.5952</td>\n",
       "      <td>0.00000</td>\n",
       "      <td>0.171850</td>\n",
       "      <td>1.17210</td>\n",
       "      <td>1.6018</td>\n",
       "      <td>0.53962</td>\n",
       "      <td>...</td>\n",
       "      <td>0.027516</td>\n",
       "      <td>0.271000</td>\n",
       "      <td>0.90108</td>\n",
       "      <td>0.000000</td>\n",
       "      <td>5.9882</td>\n",
       "      <td>4.1103</td>\n",
       "      <td>102.190</td>\n",
       "      <td>3.5716</td>\n",
       "      <td>5.9500</td>\n",
       "      <td>False</td>\n",
       "    </tr>\n",
       "    <tr>\n",
       "      <th>3</th>\n",
       "      <td>0.000595</td>\n",
       "      <td>0.22612</td>\n",
       "      <td>0.48839</td>\n",
       "      <td>3.1599</td>\n",
       "      <td>84.8740</td>\n",
       "      <td>0.19114</td>\n",
       "      <td>0.004572</td>\n",
       "      <td>2.98810</td>\n",
       "      <td>1.0077</td>\n",
       "      <td>0.67566</td>\n",
       "      <td>...</td>\n",
       "      <td>0.007639</td>\n",
       "      <td>0.000881</td>\n",
       "      <td>0.99236</td>\n",
       "      <td>0.000000</td>\n",
       "      <td>6.7742</td>\n",
       "      <td>3.7922</td>\n",
       "      <td>64.846</td>\n",
       "      <td>5.6287</td>\n",
       "      <td>4.4581</td>\n",
       "      <td>False</td>\n",
       "    </tr>\n",
       "    <tr>\n",
       "      <th>5</th>\n",
       "      <td>0.188290</td>\n",
       "      <td>0.41504</td>\n",
       "      <td>0.34231</td>\n",
       "      <td>1.9279</td>\n",
       "      <td>-58.2740</td>\n",
       "      <td>0.00000</td>\n",
       "      <td>0.233580</td>\n",
       "      <td>1.40940</td>\n",
       "      <td>1.3393</td>\n",
       "      <td>0.58496</td>\n",
       "      <td>...</td>\n",
       "      <td>0.176480</td>\n",
       "      <td>0.321880</td>\n",
       "      <td>0.82635</td>\n",
       "      <td>0.073039</td>\n",
       "      <td>2.5912</td>\n",
       "      <td>7.0756</td>\n",
       "      <td>100.540</td>\n",
       "      <td>3.6303</td>\n",
       "      <td>4.6375</td>\n",
       "      <td>False</td>\n",
       "    </tr>\n",
       "    <tr>\n",
       "      <th>6</th>\n",
       "      <td>0.182060</td>\n",
       "      <td>0.55615</td>\n",
       "      <td>0.32191</td>\n",
       "      <td>1.6045</td>\n",
       "      <td>16.3140</td>\n",
       "      <td>0.00000</td>\n",
       "      <td>0.182060</td>\n",
       "      <td>0.79808</td>\n",
       "      <td>1.8126</td>\n",
       "      <td>0.44385</td>\n",
       "      <td>...</td>\n",
       "      <td>0.555770</td>\n",
       "      <td>0.410190</td>\n",
       "      <td>0.46957</td>\n",
       "      <td>0.029421</td>\n",
       "      <td>8.4553</td>\n",
       "      <td>3.3488</td>\n",
       "      <td>107.240</td>\n",
       "      <td>3.4036</td>\n",
       "      <td>12.4540</td>\n",
       "      <td>False</td>\n",
       "    </tr>\n",
       "  </tbody>\n",
       "</table>\n",
       "<p>5 rows × 65 columns</p>\n",
       "</div>"
      ],
      "text/plain": [
       "              feat_1   feat_2   feat_3  feat_4   feat_5   feat_6    feat_7  \\\n",
       "company_id                                                                   \n",
       "1           0.174190  0.41299  0.14371  1.3480 -28.9820  0.60383  0.219460   \n",
       "2           0.146240  0.46038  0.28230  1.6294   2.5952  0.00000  0.171850   \n",
       "3           0.000595  0.22612  0.48839  3.1599  84.8740  0.19114  0.004572   \n",
       "5           0.188290  0.41504  0.34231  1.9279 -58.2740  0.00000  0.233580   \n",
       "6           0.182060  0.55615  0.32191  1.6045  16.3140  0.00000  0.182060   \n",
       "\n",
       "             feat_8  feat_9  feat_10  ...   feat_56   feat_57  feat_58  \\\n",
       "company_id                            ...                                \n",
       "1           1.12250  1.1961  0.46359  ...  0.163960  0.375740  0.83604   \n",
       "2           1.17210  1.6018  0.53962  ...  0.027516  0.271000  0.90108   \n",
       "3           2.98810  1.0077  0.67566  ...  0.007639  0.000881  0.99236   \n",
       "5           1.40940  1.3393  0.58496  ...  0.176480  0.321880  0.82635   \n",
       "6           0.79808  1.8126  0.44385  ...  0.555770  0.410190  0.46957   \n",
       "\n",
       "             feat_59  feat_60  feat_61  feat_62  feat_63  feat_64  bankrupt  \n",
       "company_id                                                                   \n",
       "1           0.000007   9.7145   6.2813   84.291   4.3303   4.0341     False  \n",
       "2           0.000000   5.9882   4.1103  102.190   3.5716   5.9500     False  \n",
       "3           0.000000   6.7742   3.7922   64.846   5.6287   4.4581     False  \n",
       "5           0.073039   2.5912   7.0756  100.540   3.6303   4.6375     False  \n",
       "6           0.029421   8.4553   3.3488  107.240   3.4036  12.4540     False  \n",
       "\n",
       "[5 rows x 65 columns]"
      ]
     },
     "execution_count": 4,
     "metadata": {},
     "output_type": "execute_result"
    }
   ],
   "source": [
    "df = wrangle(\"data/poland-bankruptcy-data-2009.json.gz\")\n",
    "print(df.shape)\n",
    "df.head()"
   ]
  },
  {
   "cell_type": "markdown",
   "id": "7d20331e-5c04-41e3-809a-920775f8bc6d",
   "metadata": {
    "deletable": false,
    "editable": false,
    "tags": []
   },
   "source": [
    "## Split"
   ]
  },
  {
   "cell_type": "markdown",
   "id": "1c66332a-8d32-40db-b60a-a397862e181f",
   "metadata": {
    "deletable": false,
    "editable": false
   },
   "source": [
    "**Task 5.4.2:** Create your feature matrix `X` and target vector `y`. Your target is `\"bankrupt\"`. \n",
    "\n",
    "- [What's a <span id='term'>feature matrix</span>?](../%40textbook/15-ml-regression.ipynb#Linear-Regression)\n",
    "- [What's a <span id='term'>target vector</span>?](../%40textbook/15-ml-regression.ipynb#Linear-Regression)\n",
    "- [<span id='technique'>Subset a DataFrame by selecting one or more columns in <span id='tool'>pandas</span></span>.](../%40textbook/04-pandas-advanced.ipynb#Subset-a-DataFrame-by-Selecting-One-or-More-Columns) \n",
    "- [<span id='technique'>Select a Series from a DataFrame in <span id='tool'>pandas</span></span>.](../%40textbook/04-pandas-advanced.ipynb#Combine-multiple-categories-in-a-Series) "
   ]
  },
  {
   "cell_type": "code",
   "execution_count": 5,
   "id": "800de6bc-0a8a-4cbb-9e6e-a4c55e5745b3",
   "metadata": {
    "deletable": false
   },
   "outputs": [
    {
     "name": "stdout",
     "output_type": "stream",
     "text": [
      "X shape: (9977, 64)\n",
      "y shape: (9977,)\n"
     ]
    }
   ],
   "source": [
    "target = \"bankrupt\"\n",
    "X = df.drop(columns=target)\n",
    "y = df[target]\n",
    "\n",
    "print(\"X shape:\", X.shape)\n",
    "print(\"y shape:\", y.shape)"
   ]
  },
  {
   "cell_type": "markdown",
   "id": "f2820a11-9843-4d4d-9eb4-9eac11fa1a25",
   "metadata": {
    "deletable": false,
    "editable": false
   },
   "source": [
    "**Task 5.4.3:** Divide your data (`X` and `y`) into training and test sets using a randomized train-test split. Your test set should be 20% of your total data. And don't forget to set a `random_state` for reproducibility. \n",
    "\n",
    "- [<span id='technique'>Perform a randomized train-test split using <span id='tool'>scikit-learn</span></span>.](../%40textbook/14-ml-classification.ipynb#Randomized-Train-Test-split)"
   ]
  },
  {
   "cell_type": "code",
   "execution_count": 6,
   "id": "dc44fa95-1813-40d8-a2ae-c9dcd0daa1f2",
   "metadata": {
    "deletable": false
   },
   "outputs": [
    {
     "name": "stdout",
     "output_type": "stream",
     "text": [
      "X_train shape: (7981, 64)\n",
      "y_train shape: (7981,)\n",
      "X_test shape: (1996, 64)\n",
      "y_test shape: (1996,)\n"
     ]
    }
   ],
   "source": [
    "X_train, X_test, y_train, y_test = train_test_split(\n",
    "X,y,test_size=0.2,random_state=42\n",
    ")\n",
    "\n",
    "\n",
    "print(\"X_train shape:\", X_train.shape)\n",
    "print(\"y_train shape:\", y_train.shape)\n",
    "print(\"X_test shape:\", X_test.shape)\n",
    "print(\"y_test shape:\", y_test.shape)"
   ]
  },
  {
   "cell_type": "markdown",
   "id": "762d668c-e5c6-4bbf-afd0-6fcb0f8fac5d",
   "metadata": {
    "deletable": false,
    "editable": false
   },
   "source": [
    "## Resample"
   ]
  },
  {
   "cell_type": "markdown",
   "id": "f336cad2-a9f2-46fb-aa09-c0c609e04820",
   "metadata": {
    "deletable": false,
    "editable": false
   },
   "source": [
    "**Task 5.4.4:** Create a new feature matrix `X_train_over` and target vector `y_train_over` by performing random over-sampling on the training data.\n",
    "\n",
    "- [What is over-sampling?](../%40textbook/13-ml-data-pre-processing-and-production.ipynb#Over-sampling)\n",
    "- [Perform random over-sampling using imbalanced-learn.](../%40textbook/13-ml-data-pre-processing-and-production.ipynb#Over-sampling)"
   ]
  },
  {
   "cell_type": "code",
   "execution_count": 7,
   "id": "3b0160f0-5a0c-48ab-b6cf-0e6cf5a07b35",
   "metadata": {
    "deletable": false
   },
   "outputs": [
    {
     "name": "stdout",
     "output_type": "stream",
     "text": [
      "X_train_over shape: (15194, 64)\n"
     ]
    },
    {
     "data": {
      "text/html": [
       "<div>\n",
       "<style scoped>\n",
       "    .dataframe tbody tr th:only-of-type {\n",
       "        vertical-align: middle;\n",
       "    }\n",
       "\n",
       "    .dataframe tbody tr th {\n",
       "        vertical-align: top;\n",
       "    }\n",
       "\n",
       "    .dataframe thead th {\n",
       "        text-align: right;\n",
       "    }\n",
       "</style>\n",
       "<table border=\"1\" class=\"dataframe\">\n",
       "  <thead>\n",
       "    <tr style=\"text-align: right;\">\n",
       "      <th></th>\n",
       "      <th>feat_1</th>\n",
       "      <th>feat_2</th>\n",
       "      <th>feat_3</th>\n",
       "      <th>feat_4</th>\n",
       "      <th>feat_5</th>\n",
       "      <th>feat_6</th>\n",
       "      <th>feat_7</th>\n",
       "      <th>feat_8</th>\n",
       "      <th>feat_9</th>\n",
       "      <th>feat_10</th>\n",
       "      <th>...</th>\n",
       "      <th>feat_55</th>\n",
       "      <th>feat_56</th>\n",
       "      <th>feat_57</th>\n",
       "      <th>feat_58</th>\n",
       "      <th>feat_59</th>\n",
       "      <th>feat_60</th>\n",
       "      <th>feat_61</th>\n",
       "      <th>feat_62</th>\n",
       "      <th>feat_63</th>\n",
       "      <th>feat_64</th>\n",
       "    </tr>\n",
       "  </thead>\n",
       "  <tbody>\n",
       "    <tr>\n",
       "      <th>0</th>\n",
       "      <td>0.279320</td>\n",
       "      <td>0.053105</td>\n",
       "      <td>0.852030</td>\n",
       "      <td>17.0440</td>\n",
       "      <td>199.080</td>\n",
       "      <td>0.741770</td>\n",
       "      <td>0.353570</td>\n",
       "      <td>16.00600</td>\n",
       "      <td>1.2346</td>\n",
       "      <td>0.84997</td>\n",
       "      <td>...</td>\n",
       "      <td>52857.00</td>\n",
       "      <td>0.190040</td>\n",
       "      <td>0.328630</td>\n",
       "      <td>0.80996</td>\n",
       "      <td>0.00000</td>\n",
       "      <td>NaN</td>\n",
       "      <td>4.1858</td>\n",
       "      <td>11.002</td>\n",
       "      <td>33.1760</td>\n",
       "      <td>18.5720</td>\n",
       "    </tr>\n",
       "    <tr>\n",
       "      <th>1</th>\n",
       "      <td>0.001871</td>\n",
       "      <td>0.735120</td>\n",
       "      <td>0.156460</td>\n",
       "      <td>1.2269</td>\n",
       "      <td>-10.837</td>\n",
       "      <td>0.000000</td>\n",
       "      <td>0.002938</td>\n",
       "      <td>0.36032</td>\n",
       "      <td>1.4809</td>\n",
       "      <td>0.26488</td>\n",
       "      <td>...</td>\n",
       "      <td>440.02</td>\n",
       "      <td>0.014794</td>\n",
       "      <td>0.007064</td>\n",
       "      <td>0.99803</td>\n",
       "      <td>0.00000</td>\n",
       "      <td>7.4268</td>\n",
       "      <td>2.2925</td>\n",
       "      <td>169.960</td>\n",
       "      <td>2.1476</td>\n",
       "      <td>9.6185</td>\n",
       "    </tr>\n",
       "    <tr>\n",
       "      <th>2</th>\n",
       "      <td>0.113940</td>\n",
       "      <td>0.490250</td>\n",
       "      <td>0.077121</td>\n",
       "      <td>1.2332</td>\n",
       "      <td>-43.184</td>\n",
       "      <td>-0.000171</td>\n",
       "      <td>0.113940</td>\n",
       "      <td>1.03980</td>\n",
       "      <td>1.1649</td>\n",
       "      <td>0.50975</td>\n",
       "      <td>...</td>\n",
       "      <td>4617.40</td>\n",
       "      <td>0.214890</td>\n",
       "      <td>0.223520</td>\n",
       "      <td>0.78761</td>\n",
       "      <td>0.27412</td>\n",
       "      <td>6.2791</td>\n",
       "      <td>6.1622</td>\n",
       "      <td>103.630</td>\n",
       "      <td>3.5220</td>\n",
       "      <td>1.9673</td>\n",
       "    </tr>\n",
       "    <tr>\n",
       "      <th>3</th>\n",
       "      <td>0.008136</td>\n",
       "      <td>0.652610</td>\n",
       "      <td>0.148120</td>\n",
       "      <td>1.2628</td>\n",
       "      <td>29.071</td>\n",
       "      <td>0.000000</td>\n",
       "      <td>0.008136</td>\n",
       "      <td>0.53230</td>\n",
       "      <td>1.2891</td>\n",
       "      <td>0.34739</td>\n",
       "      <td>...</td>\n",
       "      <td>920.98</td>\n",
       "      <td>0.045169</td>\n",
       "      <td>0.023421</td>\n",
       "      <td>0.99434</td>\n",
       "      <td>0.14403</td>\n",
       "      <td>22.7480</td>\n",
       "      <td>2.2673</td>\n",
       "      <td>159.580</td>\n",
       "      <td>2.2872</td>\n",
       "      <td>4.4718</td>\n",
       "    </tr>\n",
       "    <tr>\n",
       "      <th>4</th>\n",
       "      <td>0.045396</td>\n",
       "      <td>0.279640</td>\n",
       "      <td>0.708730</td>\n",
       "      <td>3.7656</td>\n",
       "      <td>238.120</td>\n",
       "      <td>0.000000</td>\n",
       "      <td>0.056710</td>\n",
       "      <td>2.57610</td>\n",
       "      <td>1.0169</td>\n",
       "      <td>0.72036</td>\n",
       "      <td>...</td>\n",
       "      <td>10744.00</td>\n",
       "      <td>0.047501</td>\n",
       "      <td>0.063019</td>\n",
       "      <td>0.94624</td>\n",
       "      <td>0.00000</td>\n",
       "      <td>13.8860</td>\n",
       "      <td>49.0660</td>\n",
       "      <td>91.984</td>\n",
       "      <td>3.9681</td>\n",
       "      <td>29.0460</td>\n",
       "    </tr>\n",
       "  </tbody>\n",
       "</table>\n",
       "<p>5 rows × 64 columns</p>\n",
       "</div>"
      ],
      "text/plain": [
       "     feat_1    feat_2    feat_3   feat_4   feat_5    feat_6    feat_7  \\\n",
       "0  0.279320  0.053105  0.852030  17.0440  199.080  0.741770  0.353570   \n",
       "1  0.001871  0.735120  0.156460   1.2269  -10.837  0.000000  0.002938   \n",
       "2  0.113940  0.490250  0.077121   1.2332  -43.184 -0.000171  0.113940   \n",
       "3  0.008136  0.652610  0.148120   1.2628   29.071  0.000000  0.008136   \n",
       "4  0.045396  0.279640  0.708730   3.7656  238.120  0.000000  0.056710   \n",
       "\n",
       "     feat_8  feat_9  feat_10  ...   feat_55   feat_56   feat_57  feat_58  \\\n",
       "0  16.00600  1.2346  0.84997  ...  52857.00  0.190040  0.328630  0.80996   \n",
       "1   0.36032  1.4809  0.26488  ...    440.02  0.014794  0.007064  0.99803   \n",
       "2   1.03980  1.1649  0.50975  ...   4617.40  0.214890  0.223520  0.78761   \n",
       "3   0.53230  1.2891  0.34739  ...    920.98  0.045169  0.023421  0.99434   \n",
       "4   2.57610  1.0169  0.72036  ...  10744.00  0.047501  0.063019  0.94624   \n",
       "\n",
       "   feat_59  feat_60  feat_61  feat_62  feat_63  feat_64  \n",
       "0  0.00000      NaN   4.1858   11.002  33.1760  18.5720  \n",
       "1  0.00000   7.4268   2.2925  169.960   2.1476   9.6185  \n",
       "2  0.27412   6.2791   6.1622  103.630   3.5220   1.9673  \n",
       "3  0.14403  22.7480   2.2673  159.580   2.2872   4.4718  \n",
       "4  0.00000  13.8860  49.0660   91.984   3.9681  29.0460  \n",
       "\n",
       "[5 rows x 64 columns]"
      ]
     },
     "execution_count": 7,
     "metadata": {},
     "output_type": "execute_result"
    }
   ],
   "source": [
    "over_sampler = RandomOverSampler(random_state=42)\n",
    "X_train_over, y_train_over = over_sampler.fit_resample(X_train,y_train)\n",
    "print(\"X_train_over shape:\", X_train_over.shape)\n",
    "X_train_over.head()"
   ]
  },
  {
   "cell_type": "markdown",
   "id": "a65ed1ae-0d46-426b-bc94-2f3c18231d8d",
   "metadata": {
    "deletable": false,
    "editable": false
   },
   "source": [
    "# Build Model"
   ]
  },
  {
   "cell_type": "markdown",
   "id": "f6a60638-be78-42d3-9cd5-81ba79d5c169",
   "metadata": {
    "deletable": false,
    "editable": false
   },
   "source": [
    "Now let's put together our model. We'll start by calculating the baseline accuracy, just like we did last time."
   ]
  },
  {
   "cell_type": "markdown",
   "id": "851ebd03-3e95-4cbf-a98c-351184fc6c66",
   "metadata": {
    "deletable": false,
    "editable": false
   },
   "source": [
    "## Baseline"
   ]
  },
  {
   "cell_type": "markdown",
   "id": "5aaad561-eece-48ba-998c-eb18c92d4785",
   "metadata": {
    "deletable": false,
    "editable": false
   },
   "source": [
    "**Task 5.4.5:** Calculate the baseline accuracy score for your model.\n",
    "\n",
    "- [What's <span id='tool'>accuracy score</span>?](../%40textbook/14-ml-classification.ipynb#Calculating-Accuracy-Score)\n",
    "- [Aggregate data in a Series using `value_counts` in pandas.](../%40textbook/04-pandas-advanced.ipynb#Working-with-value_counts-in-a-Series)"
   ]
  },
  {
   "cell_type": "code",
   "execution_count": 8,
   "id": "0f1cc467-ab9a-4ca8-908b-4438896e8aad",
   "metadata": {
    "deletable": false
   },
   "outputs": [
    {
     "name": "stdout",
     "output_type": "stream",
     "text": [
      "Baseline Accuracy: 0.9519\n"
     ]
    }
   ],
   "source": [
    "acc_baseline = y_train.value_counts(normalize=True).max()\n",
    "print(\"Baseline Accuracy:\", round(acc_baseline, 4))"
   ]
  },
  {
   "cell_type": "markdown",
   "id": "26eb3c53-5864-4c69-9233-f6819e9877fe",
   "metadata": {
    "deletable": false,
    "editable": false
   },
   "source": [
    "## Iterate"
   ]
  },
  {
   "cell_type": "markdown",
   "id": "0eec71c2-1067-4e30-bfb8-4a1e8c44dfc9",
   "metadata": {
    "deletable": false,
    "editable": false
   },
   "source": [
    "Even though the building blocks are the same, here's where we start working with something new. First, we're going to use a new type of ensemble model for our classifier. "
   ]
  },
  {
   "cell_type": "code",
   "execution_count": 10,
   "id": "1626187e-66b8-4415-9630-62319afdfb9f",
   "metadata": {
    "deletable": false,
    "editable": false,
    "init_cell": true
   },
   "outputs": [
    {
     "data": {
      "text/html": [
       "\n",
       "        <iframe\n",
       "            width=\"600\"\n",
       "            height=\"300\"\n",
       "            src=\"https://player.vimeo.com/video/696221115?h=44fe95d5d9\"\n",
       "            frameborder=\"0\"\n",
       "            allowfullscreen\n",
       "            \n",
       "        ></iframe>\n",
       "        "
      ],
      "text/plain": [
       "<IPython.lib.display.VimeoVideo at 0x7fb3d30e9580>"
      ]
     },
     "execution_count": 10,
     "metadata": {},
     "output_type": "execute_result"
    }
   ],
   "source": [
    "VimeoVideo(\"696221115\", h=\"44fe95d5d9\", width=600)"
   ]
  },
  {
   "cell_type": "markdown",
   "id": "92b00f4f-c2e3-4abd-b825-055b2f720556",
   "metadata": {
    "deletable": false,
    "editable": false
   },
   "source": [
    "**Task 5.4.6:** Create a pipeline named `clf` (short for \"classifier\") that contains a `SimpleImputer` transformer and a `GradientBoostingClassifier` predictor.\n",
    "\n",
    "- [What's an ensemble model?](../%40textbook/14-ml-classification.ipynb#Classification-with-Ensemble-Models)\n",
    "- [What's a gradient boosting model?](../%40textbook/14-ml-classification.ipynb#Gradient-Boosting-Trees)"
   ]
  },
  {
   "cell_type": "code",
   "execution_count": 9,
   "id": "918f7d60-edf2-4997-b3a6-dc97500120d6",
   "metadata": {
    "deletable": false
   },
   "outputs": [],
   "source": [
    "clf = make_pipeline(SimpleImputer(),GradientBoostingClassifier())"
   ]
  },
  {
   "cell_type": "markdown",
   "id": "a4f98182-0c2a-4757-9465-2f53ec1ed7e4",
   "metadata": {
    "deletable": false,
    "editable": false
   },
   "source": [
    "Remember while we're doing this that we only want to be looking at the *positive* class. Here, the positive class is the one where the companies really did go bankrupt. In the dictionary we made last time, the positive class is made up of the companies with the `bankrupt: true` key-value pair.\n",
    "\n",
    "Next, we're going to tune some of the hyperparameters for our model."
   ]
  },
  {
   "cell_type": "code",
   "execution_count": 12,
   "id": "3a4d8c84-3697-42c5-bf9c-d6866046636e",
   "metadata": {
    "deletable": false,
    "editable": false,
    "init_cell": true
   },
   "outputs": [
    {
     "data": {
      "text/html": [
       "\n",
       "        <iframe\n",
       "            width=\"600\"\n",
       "            height=\"300\"\n",
       "            src=\"https://player.vimeo.com/video/696221055?h=b675d7fec0\"\n",
       "            frameborder=\"0\"\n",
       "            allowfullscreen\n",
       "            \n",
       "        ></iframe>\n",
       "        "
      ],
      "text/plain": [
       "<IPython.lib.display.VimeoVideo at 0x7fb464bdcdf0>"
      ]
     },
     "execution_count": 12,
     "metadata": {},
     "output_type": "execute_result"
    }
   ],
   "source": [
    "VimeoVideo(\"696221055\", h=\"b675d7fec0\", width=600)"
   ]
  },
  {
   "cell_type": "markdown",
   "id": "2f6cf456-e27f-4677-9285-4798de66ae95",
   "metadata": {
    "deletable": false,
    "editable": false
   },
   "source": [
    "GradientBoosting**Task 5.4.7:** Create a dictionary with the range of hyperparameters that we want to evaluate for our classifier. \n",
    "\n",
    "1. For the `SimpleImputer`, try both the `\"mean\"` and `\"median\"` strategies. \n",
    "2. For the `GradientBoostingClassifier`, try `max_depth` settings between 2 and 5. \n",
    "3. Also for the `GradientBoostingClassifier`, try `n_estimators` settings between 20 and 31, by steps of 5.\n",
    "\n",
    "- [What's a dictionary?](../%40textbook/01-python-getting-started.ipynb#Python-Dictionaries)\n",
    "- [What's a hyperparameter?](../%40textbook/17-ts-core.ipynb#Hyperparameters)\n",
    "- [Create a range in Python.](../%40textbook/18-ts-models.ipynb#Hyperparameters)\n",
    "- [Define a hyperparameter grid for model tuning in scikit-learn.](../%40textbook/14-ml-classification.ipynb#Hyperparameter-Tuning)"
   ]
  },
  {
   "cell_type": "code",
   "execution_count": 10,
   "id": "c2b74b45-747b-4e09-b6b4-9c9e8b6f2f3e",
   "metadata": {
    "deletable": false,
    "tags": []
   },
   "outputs": [
    {
     "data": {
      "text/plain": [
       "{'simpleimputer__strategy': ['mean', 'median'],\n",
       " 'gradientboostingclassifier__n_estimators': range(20, 31, 5),\n",
       " 'gradientboostingclassifier__max_depth': range(2, 5)}"
      ]
     },
     "execution_count": 10,
     "metadata": {},
     "output_type": "execute_result"
    }
   ],
   "source": [
    "params = {\n",
    "\"simpleimputer__strategy\":[\"mean\",\"median\"],\n",
    "\"gradientboostingclassifier__n_estimators\":range(20,31,5),\n",
    "\"gradientboostingclassifier__max_depth\":range(2,5)\n",
    "}\n",
    "params"
   ]
  },
  {
   "cell_type": "markdown",
   "id": "787c5ede-d6e8-4f59-8c96-2633ccfe9993",
   "metadata": {
    "deletable": false,
    "editable": false
   },
   "source": [
    "Note that we're trying much smaller numbers of `n_estimators`. This is because `GradientBoostingClassifier` is slower to train than the `RandomForestClassifier`. You can try increasing the number of estimators to see if model performance improves, but keep in mind that you could be waiting a long time!"
   ]
  },
  {
   "cell_type": "code",
   "execution_count": 15,
   "id": "251a9363-b3b4-417d-b64f-a550e55f05bf",
   "metadata": {
    "deletable": false,
    "editable": false,
    "init_cell": true
   },
   "outputs": [
    {
     "data": {
      "text/html": [
       "\n",
       "        <iframe\n",
       "            width=\"600\"\n",
       "            height=\"300\"\n",
       "            src=\"https://player.vimeo.com/video/696221023?h=218915d38e\"\n",
       "            frameborder=\"0\"\n",
       "            allowfullscreen\n",
       "            \n",
       "        ></iframe>\n",
       "        "
      ],
      "text/plain": [
       "<IPython.lib.display.VimeoVideo at 0x7fb464bdc820>"
      ]
     },
     "execution_count": 15,
     "metadata": {},
     "output_type": "execute_result"
    }
   ],
   "source": [
    "VimeoVideo(\"696221023\", h=\"218915d38e\", width=600)"
   ]
  },
  {
   "cell_type": "raw",
   "id": "1a0b54ce-7af4-40cd-bb40-7f32d33a9875",
   "metadata": {
    "deletable": false,
    "editable": false
   },
   "source": [
    "**Task 5.4.8:** Create a `GridSearchCV` named `model` that includes your classifier and hyperparameter grid. Be sure to use the same arguments for `cv` and `n_jobs` that you used above, and set `verbose` to 1. \n",
    "\n",
    "- [What's cross-validation?](../%40textbook/14-ml-classification.ipynb#Cross-Validation)\n",
    "- [What's a grid search?](../%40textbook/14-ml-classification.ipynb#Grid-Search)\n",
    "- [Perform a hyperparameter grid search in scikit-learn.](../%40textbook/14-ml-classification.ipynb#Grid-Search)"
   ]
  },
  {
   "cell_type": "code",
   "execution_count": 11,
   "id": "6b6339c5-13c1-46f1-81d5-01a7193ba5f6",
   "metadata": {
    "deletable": false
   },
   "outputs": [],
   "source": [
    "model = GridSearchCV(clf,param_grid=params,cv=5,n_jobs=-1,verbose=1)"
   ]
  },
  {
   "cell_type": "markdown",
   "id": "4c19d937-1fb7-4dd5-a74a-c32667f3851b",
   "metadata": {
    "deletable": false,
    "editable": false
   },
   "source": [
    "Now that we have everything we need for the model, let's fit it to the data and see what we've got."
   ]
  },
  {
   "cell_type": "code",
   "execution_count": 17,
   "id": "36c6cb26-ab95-4f73-bd55-a9276f40c313",
   "metadata": {
    "deletable": false,
    "editable": false,
    "init_cell": true
   },
   "outputs": [
    {
     "data": {
      "text/html": [
       "\n",
       "        <iframe\n",
       "            width=\"600\"\n",
       "            height=\"300\"\n",
       "            src=\"https://player.vimeo.com/video/696220978?h=008d915f33\"\n",
       "            frameborder=\"0\"\n",
       "            allowfullscreen\n",
       "            \n",
       "        ></iframe>\n",
       "        "
      ],
      "text/plain": [
       "<IPython.lib.display.VimeoVideo at 0x7fb464deaf70>"
      ]
     },
     "execution_count": 17,
     "metadata": {},
     "output_type": "execute_result"
    }
   ],
   "source": [
    "VimeoVideo(\"696220978\", h=\"008d915f33\", width=600)"
   ]
  },
  {
   "cell_type": "markdown",
   "id": "e34cf5e4-b6f7-43f1-9e84-56ee262bd268",
   "metadata": {
    "deletable": false,
    "editable": false
   },
   "source": [
    "**Task 5.4.9:** Fit your `model` to the over-sampled training data."
   ]
  },
  {
   "cell_type": "code",
   "execution_count": 12,
   "id": "abc603b5-1a2f-4d79-ad04-6659f52d5f0e",
   "metadata": {
    "deletable": false
   },
   "outputs": [
    {
     "name": "stdout",
     "output_type": "stream",
     "text": [
      "Fitting 5 folds for each of 18 candidates, totalling 90 fits\n"
     ]
    },
    {
     "data": {
      "text/html": [
       "<style>#sk-container-id-1 {color: black;background-color: white;}#sk-container-id-1 pre{padding: 0;}#sk-container-id-1 div.sk-toggleable {background-color: white;}#sk-container-id-1 label.sk-toggleable__label {cursor: pointer;display: block;width: 100%;margin-bottom: 0;padding: 0.3em;box-sizing: border-box;text-align: center;}#sk-container-id-1 label.sk-toggleable__label-arrow:before {content: \"▸\";float: left;margin-right: 0.25em;color: #696969;}#sk-container-id-1 label.sk-toggleable__label-arrow:hover:before {color: black;}#sk-container-id-1 div.sk-estimator:hover label.sk-toggleable__label-arrow:before {color: black;}#sk-container-id-1 div.sk-toggleable__content {max-height: 0;max-width: 0;overflow: hidden;text-align: left;background-color: #f0f8ff;}#sk-container-id-1 div.sk-toggleable__content pre {margin: 0.2em;color: black;border-radius: 0.25em;background-color: #f0f8ff;}#sk-container-id-1 input.sk-toggleable__control:checked~div.sk-toggleable__content {max-height: 200px;max-width: 100%;overflow: auto;}#sk-container-id-1 input.sk-toggleable__control:checked~label.sk-toggleable__label-arrow:before {content: \"▾\";}#sk-container-id-1 div.sk-estimator input.sk-toggleable__control:checked~label.sk-toggleable__label {background-color: #d4ebff;}#sk-container-id-1 div.sk-label input.sk-toggleable__control:checked~label.sk-toggleable__label {background-color: #d4ebff;}#sk-container-id-1 input.sk-hidden--visually {border: 0;clip: rect(1px 1px 1px 1px);clip: rect(1px, 1px, 1px, 1px);height: 1px;margin: -1px;overflow: hidden;padding: 0;position: absolute;width: 1px;}#sk-container-id-1 div.sk-estimator {font-family: monospace;background-color: #f0f8ff;border: 1px dotted black;border-radius: 0.25em;box-sizing: border-box;margin-bottom: 0.5em;}#sk-container-id-1 div.sk-estimator:hover {background-color: #d4ebff;}#sk-container-id-1 div.sk-parallel-item::after {content: \"\";width: 100%;border-bottom: 1px solid gray;flex-grow: 1;}#sk-container-id-1 div.sk-label:hover label.sk-toggleable__label {background-color: #d4ebff;}#sk-container-id-1 div.sk-serial::before {content: \"\";position: absolute;border-left: 1px solid gray;box-sizing: border-box;top: 0;bottom: 0;left: 50%;z-index: 0;}#sk-container-id-1 div.sk-serial {display: flex;flex-direction: column;align-items: center;background-color: white;padding-right: 0.2em;padding-left: 0.2em;position: relative;}#sk-container-id-1 div.sk-item {position: relative;z-index: 1;}#sk-container-id-1 div.sk-parallel {display: flex;align-items: stretch;justify-content: center;background-color: white;position: relative;}#sk-container-id-1 div.sk-item::before, #sk-container-id-1 div.sk-parallel-item::before {content: \"\";position: absolute;border-left: 1px solid gray;box-sizing: border-box;top: 0;bottom: 0;left: 50%;z-index: -1;}#sk-container-id-1 div.sk-parallel-item {display: flex;flex-direction: column;z-index: 1;position: relative;background-color: white;}#sk-container-id-1 div.sk-parallel-item:first-child::after {align-self: flex-end;width: 50%;}#sk-container-id-1 div.sk-parallel-item:last-child::after {align-self: flex-start;width: 50%;}#sk-container-id-1 div.sk-parallel-item:only-child::after {width: 0;}#sk-container-id-1 div.sk-dashed-wrapped {border: 1px dashed gray;margin: 0 0.4em 0.5em 0.4em;box-sizing: border-box;padding-bottom: 0.4em;background-color: white;}#sk-container-id-1 div.sk-label label {font-family: monospace;font-weight: bold;display: inline-block;line-height: 1.2em;}#sk-container-id-1 div.sk-label-container {text-align: center;}#sk-container-id-1 div.sk-container {/* jupyter's `normalize.less` sets `[hidden] { display: none; }` but bootstrap.min.css set `[hidden] { display: none !important; }` so we also need the `!important` here to be able to override the default hidden behavior on the sphinx rendered scikit-learn.org. See: https://github.com/scikit-learn/scikit-learn/issues/21755 */display: inline-block !important;position: relative;}#sk-container-id-1 div.sk-text-repr-fallback {display: none;}</style><div id=\"sk-container-id-1\" class=\"sk-top-container\"><div class=\"sk-text-repr-fallback\"><pre>GridSearchCV(cv=5,\n",
       "             estimator=Pipeline(steps=[(&#x27;simpleimputer&#x27;, SimpleImputer()),\n",
       "                                       (&#x27;gradientboostingclassifier&#x27;,\n",
       "                                        GradientBoostingClassifier())]),\n",
       "             n_jobs=-1,\n",
       "             param_grid={&#x27;gradientboostingclassifier__max_depth&#x27;: range(2, 5),\n",
       "                         &#x27;gradientboostingclassifier__n_estimators&#x27;: range(20, 31, 5),\n",
       "                         &#x27;simpleimputer__strategy&#x27;: [&#x27;mean&#x27;, &#x27;median&#x27;]},\n",
       "             verbose=1)</pre><b>In a Jupyter environment, please rerun this cell to show the HTML representation or trust the notebook. <br />On GitHub, the HTML representation is unable to render, please try loading this page with nbviewer.org.</b></div><div class=\"sk-container\" hidden><div class=\"sk-item sk-dashed-wrapped\"><div class=\"sk-label-container\"><div class=\"sk-label sk-toggleable\"><input class=\"sk-toggleable__control sk-hidden--visually\" id=\"sk-estimator-id-1\" type=\"checkbox\" ><label for=\"sk-estimator-id-1\" class=\"sk-toggleable__label sk-toggleable__label-arrow\">GridSearchCV</label><div class=\"sk-toggleable__content\"><pre>GridSearchCV(cv=5,\n",
       "             estimator=Pipeline(steps=[(&#x27;simpleimputer&#x27;, SimpleImputer()),\n",
       "                                       (&#x27;gradientboostingclassifier&#x27;,\n",
       "                                        GradientBoostingClassifier())]),\n",
       "             n_jobs=-1,\n",
       "             param_grid={&#x27;gradientboostingclassifier__max_depth&#x27;: range(2, 5),\n",
       "                         &#x27;gradientboostingclassifier__n_estimators&#x27;: range(20, 31, 5),\n",
       "                         &#x27;simpleimputer__strategy&#x27;: [&#x27;mean&#x27;, &#x27;median&#x27;]},\n",
       "             verbose=1)</pre></div></div></div><div class=\"sk-parallel\"><div class=\"sk-parallel-item\"><div class=\"sk-item\"><div class=\"sk-label-container\"><div class=\"sk-label sk-toggleable\"><input class=\"sk-toggleable__control sk-hidden--visually\" id=\"sk-estimator-id-2\" type=\"checkbox\" ><label for=\"sk-estimator-id-2\" class=\"sk-toggleable__label sk-toggleable__label-arrow\">estimator: Pipeline</label><div class=\"sk-toggleable__content\"><pre>Pipeline(steps=[(&#x27;simpleimputer&#x27;, SimpleImputer()),\n",
       "                (&#x27;gradientboostingclassifier&#x27;, GradientBoostingClassifier())])</pre></div></div></div><div class=\"sk-serial\"><div class=\"sk-item\"><div class=\"sk-serial\"><div class=\"sk-item\"><div class=\"sk-estimator sk-toggleable\"><input class=\"sk-toggleable__control sk-hidden--visually\" id=\"sk-estimator-id-3\" type=\"checkbox\" ><label for=\"sk-estimator-id-3\" class=\"sk-toggleable__label sk-toggleable__label-arrow\">SimpleImputer</label><div class=\"sk-toggleable__content\"><pre>SimpleImputer()</pre></div></div></div><div class=\"sk-item\"><div class=\"sk-estimator sk-toggleable\"><input class=\"sk-toggleable__control sk-hidden--visually\" id=\"sk-estimator-id-4\" type=\"checkbox\" ><label for=\"sk-estimator-id-4\" class=\"sk-toggleable__label sk-toggleable__label-arrow\">GradientBoostingClassifier</label><div class=\"sk-toggleable__content\"><pre>GradientBoostingClassifier()</pre></div></div></div></div></div></div></div></div></div></div></div></div>"
      ],
      "text/plain": [
       "GridSearchCV(cv=5,\n",
       "             estimator=Pipeline(steps=[('simpleimputer', SimpleImputer()),\n",
       "                                       ('gradientboostingclassifier',\n",
       "                                        GradientBoostingClassifier())]),\n",
       "             n_jobs=-1,\n",
       "             param_grid={'gradientboostingclassifier__max_depth': range(2, 5),\n",
       "                         'gradientboostingclassifier__n_estimators': range(20, 31, 5),\n",
       "                         'simpleimputer__strategy': ['mean', 'median']},\n",
       "             verbose=1)"
      ]
     },
     "execution_count": 12,
     "metadata": {},
     "output_type": "execute_result"
    }
   ],
   "source": [
    "# Fit model to over-sampled training data\n",
    "model.fit(X_train_over,y_train_over)"
   ]
  },
  {
   "cell_type": "markdown",
   "id": "e2af273e-6152-4403-a6be-0e4241d3a071",
   "metadata": {
    "deletable": false,
    "editable": false
   },
   "source": [
    "This will take longer than our last grid search, so now's a good time to get coffee or cook dinner. 🍲\n",
    "\n",
    "Okay! Let's take a look at the results!"
   ]
  },
  {
   "cell_type": "code",
   "execution_count": 19,
   "id": "0568f3d4-ca83-483b-8ef0-2f1ffab6363d",
   "metadata": {
    "deletable": false,
    "editable": false,
    "init_cell": true
   },
   "outputs": [
    {
     "data": {
      "text/html": [
       "\n",
       "        <iframe\n",
       "            width=\"600\"\n",
       "            height=\"300\"\n",
       "            src=\"https://player.vimeo.com/video/696220937?h=9148032400\"\n",
       "            frameborder=\"0\"\n",
       "            allowfullscreen\n",
       "            \n",
       "        ></iframe>\n",
       "        "
      ],
      "text/plain": [
       "<IPython.lib.display.VimeoVideo at 0x7fb464df20a0>"
      ]
     },
     "execution_count": 19,
     "metadata": {},
     "output_type": "execute_result"
    }
   ],
   "source": [
    "VimeoVideo(\"696220937\", h=\"9148032400\", width=600)"
   ]
  },
  {
   "cell_type": "markdown",
   "id": "26f9551d-c065-4d32-bd07-1508c7aa535c",
   "metadata": {
    "deletable": false,
    "editable": false
   },
   "source": [
    "**Task 5.4.10:** Extract the cross-validation results from `model` and load them into a DataFrame named `cv_results`.\n",
    "\n",
    "- Get cross-validation results from a hyperparameter search in scikit-learn."
   ]
  },
  {
   "cell_type": "code",
   "execution_count": 13,
   "id": "e067484a-3c24-4025-9b73-cf9a889d4e09",
   "metadata": {
    "deletable": false
   },
   "outputs": [
    {
     "data": {
      "text/html": [
       "<div>\n",
       "<style scoped>\n",
       "    .dataframe tbody tr th:only-of-type {\n",
       "        vertical-align: middle;\n",
       "    }\n",
       "\n",
       "    .dataframe tbody tr th {\n",
       "        vertical-align: top;\n",
       "    }\n",
       "\n",
       "    .dataframe thead th {\n",
       "        text-align: right;\n",
       "    }\n",
       "</style>\n",
       "<table border=\"1\" class=\"dataframe\">\n",
       "  <thead>\n",
       "    <tr style=\"text-align: right;\">\n",
       "      <th></th>\n",
       "      <th>mean_fit_time</th>\n",
       "      <th>std_fit_time</th>\n",
       "      <th>mean_score_time</th>\n",
       "      <th>std_score_time</th>\n",
       "      <th>param_gradientboostingclassifier__max_depth</th>\n",
       "      <th>param_gradientboostingclassifier__n_estimators</th>\n",
       "      <th>param_simpleimputer__strategy</th>\n",
       "      <th>params</th>\n",
       "      <th>split0_test_score</th>\n",
       "      <th>split1_test_score</th>\n",
       "      <th>split2_test_score</th>\n",
       "      <th>split3_test_score</th>\n",
       "      <th>split4_test_score</th>\n",
       "      <th>mean_test_score</th>\n",
       "      <th>std_test_score</th>\n",
       "      <th>rank_test_score</th>\n",
       "    </tr>\n",
       "  </thead>\n",
       "  <tbody>\n",
       "    <tr>\n",
       "      <th>16</th>\n",
       "      <td>14.798576</td>\n",
       "      <td>0.175844</td>\n",
       "      <td>0.019146</td>\n",
       "      <td>0.024062</td>\n",
       "      <td>4</td>\n",
       "      <td>30</td>\n",
       "      <td>mean</td>\n",
       "      <td>{'gradientboostingclassifier__max_depth': 4, '...</td>\n",
       "      <td>0.930240</td>\n",
       "      <td>0.913129</td>\n",
       "      <td>0.913458</td>\n",
       "      <td>0.925962</td>\n",
       "      <td>0.911455</td>\n",
       "      <td>0.918849</td>\n",
       "      <td>0.007705</td>\n",
       "      <td>1</td>\n",
       "    </tr>\n",
       "    <tr>\n",
       "      <th>17</th>\n",
       "      <td>14.986995</td>\n",
       "      <td>0.096429</td>\n",
       "      <td>0.031753</td>\n",
       "      <td>0.029312</td>\n",
       "      <td>4</td>\n",
       "      <td>30</td>\n",
       "      <td>median</td>\n",
       "      <td>{'gradientboostingclassifier__max_depth': 4, '...</td>\n",
       "      <td>0.915762</td>\n",
       "      <td>0.897006</td>\n",
       "      <td>0.909181</td>\n",
       "      <td>0.915762</td>\n",
       "      <td>0.911455</td>\n",
       "      <td>0.909833</td>\n",
       "      <td>0.006898</td>\n",
       "      <td>2</td>\n",
       "    </tr>\n",
       "    <tr>\n",
       "      <th>14</th>\n",
       "      <td>12.293812</td>\n",
       "      <td>0.014628</td>\n",
       "      <td>0.020110</td>\n",
       "      <td>0.026613</td>\n",
       "      <td>4</td>\n",
       "      <td>25</td>\n",
       "      <td>mean</td>\n",
       "      <td>{'gradientboostingclassifier__max_depth': 4, '...</td>\n",
       "      <td>0.916749</td>\n",
       "      <td>0.899638</td>\n",
       "      <td>0.898322</td>\n",
       "      <td>0.909181</td>\n",
       "      <td>0.895655</td>\n",
       "      <td>0.903909</td>\n",
       "      <td>0.007877</td>\n",
       "      <td>3</td>\n",
       "    </tr>\n",
       "    <tr>\n",
       "      <th>15</th>\n",
       "      <td>12.556450</td>\n",
       "      <td>0.076212</td>\n",
       "      <td>0.006976</td>\n",
       "      <td>0.000172</td>\n",
       "      <td>4</td>\n",
       "      <td>25</td>\n",
       "      <td>median</td>\n",
       "      <td>{'gradientboostingclassifier__max_depth': 4, '...</td>\n",
       "      <td>0.906219</td>\n",
       "      <td>0.889108</td>\n",
       "      <td>0.895031</td>\n",
       "      <td>0.897993</td>\n",
       "      <td>0.902238</td>\n",
       "      <td>0.898118</td>\n",
       "      <td>0.005888</td>\n",
       "      <td>4</td>\n",
       "    </tr>\n",
       "    <tr>\n",
       "      <th>12</th>\n",
       "      <td>9.844637</td>\n",
       "      <td>0.048868</td>\n",
       "      <td>0.019125</td>\n",
       "      <td>0.025545</td>\n",
       "      <td>4</td>\n",
       "      <td>20</td>\n",
       "      <td>mean</td>\n",
       "      <td>{'gradientboostingclassifier__max_depth': 4, '...</td>\n",
       "      <td>0.901941</td>\n",
       "      <td>0.888450</td>\n",
       "      <td>0.884501</td>\n",
       "      <td>0.896677</td>\n",
       "      <td>0.872284</td>\n",
       "      <td>0.888771</td>\n",
       "      <td>0.010258</td>\n",
       "      <td>5</td>\n",
       "    </tr>\n",
       "    <tr>\n",
       "      <th>13</th>\n",
       "      <td>10.159680</td>\n",
       "      <td>0.135953</td>\n",
       "      <td>0.019989</td>\n",
       "      <td>0.025440</td>\n",
       "      <td>4</td>\n",
       "      <td>20</td>\n",
       "      <td>median</td>\n",
       "      <td>{'gradientboostingclassifier__max_depth': 4, '...</td>\n",
       "      <td>0.892399</td>\n",
       "      <td>0.878578</td>\n",
       "      <td>0.885160</td>\n",
       "      <td>0.879237</td>\n",
       "      <td>0.883476</td>\n",
       "      <td>0.883770</td>\n",
       "      <td>0.004980</td>\n",
       "      <td>6</td>\n",
       "    </tr>\n",
       "    <tr>\n",
       "      <th>10</th>\n",
       "      <td>11.486144</td>\n",
       "      <td>0.112315</td>\n",
       "      <td>0.007025</td>\n",
       "      <td>0.000565</td>\n",
       "      <td>3</td>\n",
       "      <td>30</td>\n",
       "      <td>mean</td>\n",
       "      <td>{'gradientboostingclassifier__max_depth': 3, '...</td>\n",
       "      <td>0.874959</td>\n",
       "      <td>0.877591</td>\n",
       "      <td>0.869365</td>\n",
       "      <td>0.866074</td>\n",
       "      <td>0.866359</td>\n",
       "      <td>0.870870</td>\n",
       "      <td>0.004637</td>\n",
       "      <td>7</td>\n",
       "    </tr>\n",
       "    <tr>\n",
       "      <th>8</th>\n",
       "      <td>9.679296</td>\n",
       "      <td>0.160631</td>\n",
       "      <td>0.006463</td>\n",
       "      <td>0.000202</td>\n",
       "      <td>3</td>\n",
       "      <td>25</td>\n",
       "      <td>mean</td>\n",
       "      <td>{'gradientboostingclassifier__max_depth': 3, '...</td>\n",
       "      <td>0.862126</td>\n",
       "      <td>0.864758</td>\n",
       "      <td>0.858506</td>\n",
       "      <td>0.857519</td>\n",
       "      <td>0.855826</td>\n",
       "      <td>0.859747</td>\n",
       "      <td>0.003245</td>\n",
       "      <td>8</td>\n",
       "    </tr>\n",
       "    <tr>\n",
       "      <th>11</th>\n",
       "      <td>11.647344</td>\n",
       "      <td>0.050677</td>\n",
       "      <td>0.031388</td>\n",
       "      <td>0.029839</td>\n",
       "      <td>3</td>\n",
       "      <td>30</td>\n",
       "      <td>median</td>\n",
       "      <td>{'gradientboostingclassifier__max_depth': 3, '...</td>\n",
       "      <td>0.863442</td>\n",
       "      <td>0.858506</td>\n",
       "      <td>0.846331</td>\n",
       "      <td>0.862126</td>\n",
       "      <td>0.850889</td>\n",
       "      <td>0.856259</td>\n",
       "      <td>0.006610</td>\n",
       "      <td>9</td>\n",
       "    </tr>\n",
       "    <tr>\n",
       "      <th>6</th>\n",
       "      <td>7.651476</td>\n",
       "      <td>0.069506</td>\n",
       "      <td>0.006426</td>\n",
       "      <td>0.000531</td>\n",
       "      <td>3</td>\n",
       "      <td>20</td>\n",
       "      <td>mean</td>\n",
       "      <td>{'gradientboostingclassifier__max_depth': 3, '...</td>\n",
       "      <td>0.848634</td>\n",
       "      <td>0.844686</td>\n",
       "      <td>0.847318</td>\n",
       "      <td>0.844357</td>\n",
       "      <td>0.853851</td>\n",
       "      <td>0.847769</td>\n",
       "      <td>0.003438</td>\n",
       "      <td>10</td>\n",
       "    </tr>\n",
       "  </tbody>\n",
       "</table>\n",
       "</div>"
      ],
      "text/plain": [
       "    mean_fit_time  std_fit_time  mean_score_time  std_score_time  \\\n",
       "16      14.798576      0.175844         0.019146        0.024062   \n",
       "17      14.986995      0.096429         0.031753        0.029312   \n",
       "14      12.293812      0.014628         0.020110        0.026613   \n",
       "15      12.556450      0.076212         0.006976        0.000172   \n",
       "12       9.844637      0.048868         0.019125        0.025545   \n",
       "13      10.159680      0.135953         0.019989        0.025440   \n",
       "10      11.486144      0.112315         0.007025        0.000565   \n",
       "8        9.679296      0.160631         0.006463        0.000202   \n",
       "11      11.647344      0.050677         0.031388        0.029839   \n",
       "6        7.651476      0.069506         0.006426        0.000531   \n",
       "\n",
       "   param_gradientboostingclassifier__max_depth  \\\n",
       "16                                           4   \n",
       "17                                           4   \n",
       "14                                           4   \n",
       "15                                           4   \n",
       "12                                           4   \n",
       "13                                           4   \n",
       "10                                           3   \n",
       "8                                            3   \n",
       "11                                           3   \n",
       "6                                            3   \n",
       "\n",
       "   param_gradientboostingclassifier__n_estimators  \\\n",
       "16                                             30   \n",
       "17                                             30   \n",
       "14                                             25   \n",
       "15                                             25   \n",
       "12                                             20   \n",
       "13                                             20   \n",
       "10                                             30   \n",
       "8                                              25   \n",
       "11                                             30   \n",
       "6                                              20   \n",
       "\n",
       "   param_simpleimputer__strategy  \\\n",
       "16                          mean   \n",
       "17                        median   \n",
       "14                          mean   \n",
       "15                        median   \n",
       "12                          mean   \n",
       "13                        median   \n",
       "10                          mean   \n",
       "8                           mean   \n",
       "11                        median   \n",
       "6                           mean   \n",
       "\n",
       "                                               params  split0_test_score  \\\n",
       "16  {'gradientboostingclassifier__max_depth': 4, '...           0.930240   \n",
       "17  {'gradientboostingclassifier__max_depth': 4, '...           0.915762   \n",
       "14  {'gradientboostingclassifier__max_depth': 4, '...           0.916749   \n",
       "15  {'gradientboostingclassifier__max_depth': 4, '...           0.906219   \n",
       "12  {'gradientboostingclassifier__max_depth': 4, '...           0.901941   \n",
       "13  {'gradientboostingclassifier__max_depth': 4, '...           0.892399   \n",
       "10  {'gradientboostingclassifier__max_depth': 3, '...           0.874959   \n",
       "8   {'gradientboostingclassifier__max_depth': 3, '...           0.862126   \n",
       "11  {'gradientboostingclassifier__max_depth': 3, '...           0.863442   \n",
       "6   {'gradientboostingclassifier__max_depth': 3, '...           0.848634   \n",
       "\n",
       "    split1_test_score  split2_test_score  split3_test_score  \\\n",
       "16           0.913129           0.913458           0.925962   \n",
       "17           0.897006           0.909181           0.915762   \n",
       "14           0.899638           0.898322           0.909181   \n",
       "15           0.889108           0.895031           0.897993   \n",
       "12           0.888450           0.884501           0.896677   \n",
       "13           0.878578           0.885160           0.879237   \n",
       "10           0.877591           0.869365           0.866074   \n",
       "8            0.864758           0.858506           0.857519   \n",
       "11           0.858506           0.846331           0.862126   \n",
       "6            0.844686           0.847318           0.844357   \n",
       "\n",
       "    split4_test_score  mean_test_score  std_test_score  rank_test_score  \n",
       "16           0.911455         0.918849        0.007705                1  \n",
       "17           0.911455         0.909833        0.006898                2  \n",
       "14           0.895655         0.903909        0.007877                3  \n",
       "15           0.902238         0.898118        0.005888                4  \n",
       "12           0.872284         0.888771        0.010258                5  \n",
       "13           0.883476         0.883770        0.004980                6  \n",
       "10           0.866359         0.870870        0.004637                7  \n",
       "8            0.855826         0.859747        0.003245                8  \n",
       "11           0.850889         0.856259        0.006610                9  \n",
       "6            0.853851         0.847769        0.003438               10  "
      ]
     },
     "execution_count": 13,
     "metadata": {},
     "output_type": "execute_result"
    }
   ],
   "source": [
    "results = pd.DataFrame(model.cv_results_)\n",
    "results.sort_values(\"rank_test_score\").head(10)"
   ]
  },
  {
   "cell_type": "markdown",
   "id": "66902dac-33a5-4202-9406-488b5a95a463",
   "metadata": {
    "deletable": false,
    "editable": false
   },
   "source": [
    "There are quite a few hyperparameters there, so let's pull out the ones that work best for our model."
   ]
  },
  {
   "cell_type": "code",
   "execution_count": 21,
   "id": "eb128403-48a3-400e-9452-cd1600e361c3",
   "metadata": {
    "deletable": false,
    "editable": false,
    "init_cell": true
   },
   "outputs": [
    {
     "data": {
      "text/html": [
       "\n",
       "        <iframe\n",
       "            width=\"600\"\n",
       "            height=\"300\"\n",
       "            src=\"https://player.vimeo.com/video/696220899?h=342d55e7d7\"\n",
       "            frameborder=\"0\"\n",
       "            allowfullscreen\n",
       "            \n",
       "        ></iframe>\n",
       "        "
      ],
      "text/plain": [
       "<IPython.lib.display.VimeoVideo at 0x7fb464bdc970>"
      ]
     },
     "execution_count": 21,
     "metadata": {},
     "output_type": "execute_result"
    }
   ],
   "source": [
    "VimeoVideo(\"696220899\", h=\"342d55e7d7\", width=600)"
   ]
  },
  {
   "cell_type": "markdown",
   "id": "7d227812-addf-4da9-a1eb-5e1204a9cd61",
   "metadata": {
    "deletable": false,
    "editable": false
   },
   "source": [
    "**Task 5.4.11:** Extract the best hyperparameters from `model`.\n",
    "\n",
    "- [Get settings from a hyperparameter search in scikit-learn.](../%40textbook/14-ml-classification.ipynb#Grid-Search)"
   ]
  },
  {
   "cell_type": "code",
   "execution_count": 14,
   "id": "ae01399d-dd9f-4d40-9368-b777c61d994d",
   "metadata": {
    "deletable": false
   },
   "outputs": [
    {
     "data": {
      "text/plain": [
       "{'gradientboostingclassifier__max_depth': 4,\n",
       " 'gradientboostingclassifier__n_estimators': 30,\n",
       " 'simpleimputer__strategy': 'mean'}"
      ]
     },
     "execution_count": 14,
     "metadata": {},
     "output_type": "execute_result"
    }
   ],
   "source": [
    "# Extract best hyperparameters\n",
    "model.best_params_"
   ]
  },
  {
   "cell_type": "markdown",
   "id": "ef0d71d6-73b5-49b8-a0fd-a5ea4852fe56",
   "metadata": {
    "deletable": false,
    "editable": false
   },
   "source": [
    "## Evaluate"
   ]
  },
  {
   "cell_type": "markdown",
   "id": "91752b0a-c824-4904-9833-e5f6dc214a0b",
   "metadata": {
    "deletable": false,
    "editable": false
   },
   "source": [
    "Now that we have a working model that's actually giving us something useful, let's see how good it really is."
   ]
  },
  {
   "cell_type": "markdown",
   "id": "0bacbe52-aff9-4326-af47-edc58b8e1c8a",
   "metadata": {
    "deletable": false,
    "editable": false
   },
   "source": [
    "**Task 5.4.12:** Calculate the training and test accuracy scores for `model`. \n",
    "\n",
    "- [<span id='technique'>Calculate the accuracy score for a model in <span id='term'>scikit-learn</span></span>.](../%40textbook/14-ml-classification.ipynb#Calculating-Accuracy-Score)"
   ]
  },
  {
   "cell_type": "code",
   "execution_count": 15,
   "id": "66f28b5c-67e8-4125-9f2c-7ef3a215351c",
   "metadata": {
    "deletable": false,
    "tags": []
   },
   "outputs": [
    {
     "name": "stdout",
     "output_type": "stream",
     "text": [
      "Training Accuracy: 0.9029\n",
      "Validation Accuracy: 0.8798\n"
     ]
    }
   ],
   "source": [
    "acc_train = model.score(X_train,y_train)\n",
    "acc_test = model.score(X_test,y_test)\n",
    "\n",
    "print(\"Training Accuracy:\", round(acc_train, 4))\n",
    "print(\"Validation Accuracy:\", round(acc_test, 4))"
   ]
  },
  {
   "cell_type": "markdown",
   "id": "c2f18c51-d05f-4056-befe-8fb93ed8d6f5",
   "metadata": {
    "deletable": false,
    "editable": false
   },
   "source": [
    "Just like before, let's make a confusion matrix to see how our model is making its correct and incorrect predictions. "
   ]
  },
  {
   "cell_type": "markdown",
   "id": "987cb21a-336a-4b8a-9048-61061cf18581",
   "metadata": {
    "deletable": false,
    "editable": false
   },
   "source": [
    "**Task 5.4.13:** Plot a confusion matrix that shows how your best model performs on your test set. \n",
    "\n",
    "- [What's a confusion matrix?](../%40textbook/14-ml-classification.ipynb#Confusion-Matrix)\n",
    "- [Create a confusion matrix using scikit-learn.](../%40textbook/14-ml-classification.ipynb#Confusion-Matrix) "
   ]
  },
  {
   "cell_type": "code",
   "execution_count": 16,
   "id": "13aabb10-8065-4dc5-9df0-9c76b19bf332",
   "metadata": {
    "deletable": false
   },
   "outputs": [
    {
     "data": {
      "image/png": "[encoded data removed]",
      "text/plain": [
       "<Figure size 432x288 with 2 Axes>"
      ]
     },
     "metadata": {
      "needs_background": "light"
     },
     "output_type": "display_data"
    }
   ],
   "source": [
    "# Plot confusion matrix\n",
    "ConfusionMatrixDisplay.from_estimator(model,X_test,y_test);"
   ]
  },
  {
   "cell_type": "markdown",
   "id": "389c9dce-ca67-4a04-8087-b6ba8b01af40",
   "metadata": {
    "deletable": false,
    "editable": false
   },
   "source": [
    "This matrix is a great reminder of how imbalanced our data is, and of why accuracy isn't always the best metric for judging whether or not a model is giving us what we want. After all, if 95% of the companies in our dataset didn't go bankrupt, all the model has to do is always predict `{\"bankrupt\": False}`, and it'll be right 95% of the time. The accuracy score will be amazing, but it won't tell us what we really need to know.\n",
    "\n",
    "Instead, we can evaluate our model using two new metrics: **precision** and **recall**.  The precision score is important when we want our model to only predict that a company will go bankrupt if its very confident in its prediction. The *recall* score is important if we want to make sure to identify all the companies that will go bankrupt, even if that means being incorrect sometimes. \n",
    "\n",
    "Let's start with a report you can create with scikit-learn to calculate both metrics. Then we'll look at them one-by-one using a visualization tool we've built especially for the Data Science Lab."
   ]
  },
  {
   "cell_type": "code",
   "execution_count": 27,
   "id": "4be924d4-ba56-4c5b-92ea-a8e5ec8de75c",
   "metadata": {
    "deletable": false,
    "editable": false,
    "init_cell": true
   },
   "outputs": [
    {
     "data": {
      "text/html": [
       "\n",
       "        <iframe\n",
       "            width=\"600\"\n",
       "            height=\"300\"\n",
       "            src=\"https://player.vimeo.com/video/696297886?h=fac5454b22\"\n",
       "            frameborder=\"0\"\n",
       "            allowfullscreen\n",
       "            \n",
       "        ></iframe>\n",
       "        "
      ],
      "text/plain": [
       "<IPython.lib.display.VimeoVideo at 0x7fb464dd1cd0>"
      ]
     },
     "execution_count": 27,
     "metadata": {},
     "output_type": "execute_result"
    }
   ],
   "source": [
    "VimeoVideo(\"696297886\", h=\"fac5454b22\", width=600)"
   ]
  },
  {
   "cell_type": "markdown",
   "id": "60e82afd-0cc0-4193-bad5-8560160de19b",
   "metadata": {
    "deletable": false,
    "editable": false
   },
   "source": [
    "**Task 5.4.14:** Print the classification report for your model, using the test set.\n",
    "\n",
    "- [Generate a classification report with scikit-learn.](../%40textbook/14-ml-classification.ipynb#Classification-Report)"
   ]
  },
  {
   "cell_type": "code",
   "execution_count": 17,
   "id": "ccf1036c-3949-4d6e-9253-03f29d2e2a12",
   "metadata": {
    "deletable": false
   },
   "outputs": [
    {
     "name": "stdout",
     "output_type": "stream",
     "text": [
      "              precision    recall  f1-score   support\n",
      "\n",
      "       False       0.99      0.88      0.93      1913\n",
      "        True       0.22      0.76      0.34        83\n",
      "\n",
      "    accuracy                           0.88      1996\n",
      "   macro avg       0.61      0.82      0.64      1996\n",
      "weighted avg       0.96      0.88      0.91      1996\n",
      "\n"
     ]
    }
   ],
   "source": [
    "# Print classification report\n",
    "print(classification_report(y_test,model.predict(X_test)))"
   ]
  },
  {
   "cell_type": "code",
   "execution_count": 30,
   "id": "2b280716-b3fd-457f-a3e5-34f2e8ea6d53",
   "metadata": {
    "deletable": false,
    "editable": false,
    "init_cell": true
   },
   "outputs": [
    {
     "data": {
      "text/html": [
       "\n",
       "        <iframe\n",
       "            width=\"600\"\n",
       "            height=\"300\"\n",
       "            src=\"https://player.vimeo.com/video/696220837?h=f93be5aba0\"\n",
       "            frameborder=\"0\"\n",
       "            allowfullscreen\n",
       "            \n",
       "        ></iframe>\n",
       "        "
      ],
      "text/plain": [
       "<IPython.lib.display.VimeoVideo at 0x7fb464b0b910>"
      ]
     },
     "execution_count": 30,
     "metadata": {},
     "output_type": "execute_result"
    }
   ],
   "source": [
    "VimeoVideo(\"696220837\", h=\"f93be5aba0\", width=600)"
   ]
  },
  {
   "cell_type": "code",
   "execution_count": 32,
   "id": "5166dde8-6b60-4b05-b3d4-58fe8dda952e",
   "metadata": {
    "deletable": false,
    "editable": false,
    "init_cell": true
   },
   "outputs": [
    {
     "data": {
      "text/html": [
       "\n",
       "        <iframe\n",
       "            width=\"600\"\n",
       "            height=\"300\"\n",
       "            src=\"https://player.vimeo.com/video/696220785?h=8a4c4bff58\"\n",
       "            frameborder=\"0\"\n",
       "            allowfullscreen\n",
       "            \n",
       "        ></iframe>\n",
       "        "
      ],
      "text/plain": [
       "<IPython.lib.display.VimeoVideo at 0x7fb46521bfa0>"
      ]
     },
     "execution_count": 32,
     "metadata": {},
     "output_type": "execute_result"
    }
   ],
   "source": [
    "VimeoVideo(\"696220785\", h=\"8a4c4bff58\", width=600)"
   ]
  },
  {
   "cell_type": "markdown",
   "id": "2f1c98e4-6864-48ba-bff8-dbf98b96cea9",
   "metadata": {
    "deletable": false,
    "editable": false
   },
   "source": [
    "**Task 5.4.15:** Run the cell below to load the confusion matrix widget.\n",
    "\n",
    "- [What's precision?](../%40textbook/14-ml-classification.ipynb#Precision-Score)\n",
    "- [What's recall?](../%40textbook/14-ml-classification.ipynb#Recall-Score)"
   ]
  },
  {
   "cell_type": "code",
   "execution_count": 18,
   "id": "7e141c5e-58ac-4dd7-b2fc-4334144c0c56",
   "metadata": {
    "deletable": false
   },
   "outputs": [
    {
     "data": {
      "application/vnd.jupyter.widget-view+json": {
       "model_id": "b7c6bf91f53048b988d6a1d5a0f58a06",
       "version_major": 2,
       "version_minor": 0
      },
      "text/plain": [
       "FloatSlider(value=0.5, continuous_update=False, description='Threshold:', max=1.0)"
      ]
     },
     "metadata": {},
     "output_type": "display_data"
    },
    {
     "data": {
      "application/vnd.jupyter.widget-view+json": {
       "model_id": "a97476d35bd34241994f7a36b025e6ff",
       "version_major": 2,
       "version_minor": 0
      },
      "text/plain": [
       "HBox(children=(Output(layout=Layout(height='300px', width='300px')), VBox(children=(Output(layout=Layout(heigh…"
      ]
     },
     "metadata": {},
     "output_type": "display_data"
    }
   ],
   "source": [
    "c = ConfusionMatrixWidget(model, X_test, y_test)\n",
    "c.show()"
   ]
  },
  {
   "cell_type": "markdown",
   "id": "f8b564fc-09ed-4e0f-91a3-94b9de706a73",
   "metadata": {
    "deletable": false,
    "editable": false
   },
   "source": [
    "If you move the probability threshold, you can see that there's a tradeoff between precision and recall. That is, as one gets better, the other suffers. As a data scientist, you'll often need to decide whether you want a model with better precision or better recall. What you choose will depend on how to intend to use your model.\n",
    "\n",
    "Let's look at two examples, one where recall is the priority and one where precision is more important. First, let's say you work for a regulatory agency in the European Union that assists companies and investors navigate [insolvency proceedings](https://en.wikipedia.org/wiki/Insolvency_Regulation). You want to build a model to predict which companies could go bankrupt so that you can send debtors information about filing for legal protection before their company becomes insolvent. The administrative costs of sending information to a company is €500. The legal costs to the European court system if a company doesn't file for protection before bankruptcy is €50,000.\n",
    "\n",
    "For a model like this, we want to focus on **recall**, because recall is all about *quantity*. A model that prioritizes recall will cast the widest possible net, which is the way to approach this problem. We want to send information to as many potentially-bankrupt companies as possible, because it costs a lot less to send information to a company that might not become insolvent than it does to skip a company that does. "
   ]
  },
  {
   "cell_type": "code",
   "execution_count": 33,
   "id": "d77840dc-e2f2-43c6-95fd-a0939a8c2314",
   "metadata": {
    "deletable": false,
    "editable": false,
    "init_cell": true
   },
   "outputs": [
    {
     "data": {
      "text/html": [
       "\n",
       "        <iframe\n",
       "            width=\"600\"\n",
       "            height=\"300\"\n",
       "            src=\"https://player.vimeo.com/video/696209314?h=36a14b503c\"\n",
       "            frameborder=\"0\"\n",
       "            allowfullscreen\n",
       "            \n",
       "        ></iframe>\n",
       "        "
      ],
      "text/plain": [
       "<IPython.lib.display.VimeoVideo at 0x7fb46521be20>"
      ]
     },
     "execution_count": 33,
     "metadata": {},
     "output_type": "execute_result"
    }
   ],
   "source": [
    "VimeoVideo(\"696209314\", h=\"36a14b503c\", width=600)"
   ]
  },
  {
   "cell_type": "markdown",
   "id": "9ebf28d5-e3e2-4f60-88cd-d414feb8afcd",
   "metadata": {
    "deletable": false,
    "editable": false
   },
   "source": [
    "**Task 5.4.16:** Run the cell below, and use the slider to change the probability threshold of your model. What relationship do you see between changes in the threshold and changes in wasted administrative and legal costs? In your opinion, which is more important for this model: high precision or high recall?\n",
    "\n",
    "- [What's precision?](../%40textbook/14-ml-classification.ipynb#Precision-Score)\n",
    "- [What's recall?](../%40textbook/14-ml-classification.ipynb#Recall-Score)"
   ]
  },
  {
   "cell_type": "code",
   "execution_count": 19,
   "id": "9b39cd96-491f-43ea-ab46-e906c5aa7427",
   "metadata": {
    "deletable": false
   },
   "outputs": [
    {
     "data": {
      "application/vnd.jupyter.widget-view+json": {
       "model_id": "43668b2d555247398240e746064828a2",
       "version_major": 2,
       "version_minor": 0
      },
      "text/plain": [
       "FloatSlider(value=0.5, continuous_update=False, description='Threshold:', max=1.0)"
      ]
     },
     "metadata": {},
     "output_type": "display_data"
    },
    {
     "data": {
      "application/vnd.jupyter.widget-view+json": {
       "model_id": "c364e293021043c293a8d0f6e7dce818",
       "version_major": 2,
       "version_minor": 0
      },
      "text/plain": [
       "HBox(children=(Output(layout=Layout(height='300px', width='300px')), VBox(children=(Output(layout=Layout(heigh…"
      ]
     },
     "metadata": {},
     "output_type": "display_data"
    }
   ],
   "source": [
    "c.show_eu()"
   ]
  },
  {
   "cell_type": "markdown",
   "id": "e75e2b14-f3c5-4cc4-99bb-411e927b59a5",
   "metadata": {
    "deletable": false,
    "editable": false
   },
   "source": [
    "For the second example, let's say we work at a private equity firm that purchases distressed businesses, improve them, and then sells them for a profit. You want to build a model to predict which companies will go bankrupt so that you can purchase them ahead of your competitors. If the firm purchases a company that is indeed insolvent, it can make a profit of €100 million or more. But if it purchases a company that isn't insolvent and can't be resold at a profit, the firm will lose €250 million. \n",
    "\n",
    "For a model like this, we want to focus on **precision**. If we're trying to maximize our profit, the *quality* of our predictions is much more important than the *quantity* of our predictions. It's not a big deal if we don't catch every single insolvent company, but it's *definitely* a big deal if the companies we catch don't end up becoming insolvent.\n",
    "\n",
    "This time we're going to build the visualization together. "
   ]
  },
  {
   "cell_type": "code",
   "execution_count": 20,
   "id": "340cb239-af20-4b57-8bd5-dc8e0113b720",
   "metadata": {
    "deletable": false,
    "editable": false,
    "init_cell": true
   },
   "outputs": [
    {
     "data": {
      "text/html": [
       "\n",
       "        <iframe\n",
       "            width=\"600\"\n",
       "            height=\"300\"\n",
       "            src=\"https://player.vimeo.com/video/696209348?h=f7e1981c9f\"\n",
       "            frameborder=\"0\"\n",
       "            allowfullscreen\n",
       "            \n",
       "        ></iframe>\n",
       "        "
      ],
      "text/plain": [
       "<IPython.lib.display.VimeoVideo at 0x7f291cd168b0>"
      ]
     },
     "execution_count": 20,
     "metadata": {},
     "output_type": "execute_result"
    }
   ],
   "source": [
    "VimeoVideo(\"696209348\", h=\"f7e1981c9f\", width=600)"
   ]
  },
  {
   "cell_type": "code",
   "execution_count": 38,
   "id": "16b43f5a-fa93-4470-8e0a-9f3da244c8d8",
   "metadata": {},
   "outputs": [
    {
     "name": "stdout",
     "output_type": "stream",
     "text": [
      "Profit: $7800000000\n",
      "Losses: $212750000000\n"
     ]
    },
    {
     "data": {
      "text/plain": [
       "<sklearn.metrics._plot.confusion_matrix.ConfusionMatrixDisplay at 0x7f291c9f2370>"
      ]
     },
     "execution_count": 38,
     "metadata": {},
     "output_type": "execute_result"
    },
    {
     "data": {
      "image/png": "[encoded data removed]",
      "text/plain": [
       "<Figure size 432x288 with 1 Axes>"
      ]
     },
     "metadata": {
      "needs_background": "light"
     },
     "output_type": "display_data"
    }
   ],
   "source": [
    "threshold=0.2\n",
    "y_pred_proba=model.predict_proba(X_test)[:,-1]\n",
    "y_pred=y_pred_proba>threshold\n",
    "conf_matrix=confusion_matrix(y_test,y_pred)\n",
    "tn,fp,fn,tp=conf_matrix.ravel()\n",
    "print(f\"Profit: ${tp *100_000_000}\")\n",
    "print(f\"Losses: ${fp *250_000_000}\")\n",
    "ConfusionMatrixDisplay.from_predictions(y_test,y_pred,colorbar=False)"
   ]
  },
  {
   "cell_type": "markdown",
   "id": "5d493fdf-85b1-4418-b2af-7914c3cf0179",
   "metadata": {
    "deletable": false,
    "editable": false
   },
   "source": [
    "**Task 5.4.17:** Create an interactive dashboard that shows how company profit and losses change in relationship to your model's probability threshold. Start with the `make_cnf_matrix` function, which should calculate and print profit/losses, and display a confusion matrix. Then create a FloatSlider `thresh_widget` that ranges from 0 to 1. Finally combine your function and slider in the `interact` function.\n",
    "\n",
    "- [What's a function?](../%40textbook/02-python-advanced.ipynb#Functions)\n",
    "- [What's a confusion matrix?](../%40textbook/14-ml-classification.ipynb#Confusion-Matrix)\n",
    "- [Create a confusion matrix using scikit-learn.](../%40textbook/14-ml-classification.ipynb#Confusion-Matrix) "
   ]
  },
  {
   "cell_type": "code",
   "execution_count": 39,
   "id": "5305fa70-5d4d-4284-9ada-f362d990be90",
   "metadata": {
    "deletable": false
   },
   "outputs": [
    {
     "data": {
      "application/vnd.jupyter.widget-view+json": {
       "model_id": "10edcfe6e00b40ba9c902a28c80c64a0",
       "version_major": 2,
       "version_minor": 0
      },
      "text/plain": [
       "interactive(children=(FloatSlider(value=0.5, description='threshold', max=1.0, step=0.05), Output()), _dom_cla…"
      ]
     },
     "metadata": {},
     "output_type": "display_data"
    }
   ],
   "source": [
    "def make_cnf_matrix(threshold):\n",
    "    \n",
    "  \n",
    "    y_pred_proba=model.predict_proba(X_test)[:,-1]\n",
    "    y_pred=y_pred_proba>threshold\n",
    "    conf_matrix=confusion_matrix(y_test,y_pred)\n",
    "    tn,fp,fn,tp=conf_matrix.ravel()\n",
    "    print(f\"Profit: ${tp *100_000_000}\")\n",
    "    print(f\"Losses: ${fp *250_000_000}\")\n",
    "    ConfusionMatrixDisplay.from_predictions(y_test,y_pred,colorbar=False)\n",
    "\n",
    "\n",
    "thresh_widget = widgets.FloatSlider(min=0,max=1,value=0.5,step=0.05)\n",
    "\n",
    "interact(make_cnf_matrix, threshold=thresh_widget);"
   ]
  },
  {
   "cell_type": "markdown",
   "id": "fbc8abf1-8b50-4d56-9ce0-b02c402ac002",
   "metadata": {
    "deletable": false,
    "editable": false
   },
   "source": [
    "<div class=\"alert alert-info\" role=\"alert\">\n",
    "    <b>Go Further:</b>💡 Some students have suggested that this widget would be better if it showed the sum of profits and losses. Can you add that total?\n",
    "</div>"
   ]
  },
  {
   "cell_type": "markdown",
   "id": "74240ab0-e4f5-48cb-b71a-f267862a72b8",
   "metadata": {
    "deletable": false,
    "editable": false
   },
   "source": [
    "# Communicate"
   ]
  },
  {
   "cell_type": "markdown",
   "id": "56f32790-e80a-4ab8-bade-94416cc9dc09",
   "metadata": {
    "deletable": false,
    "editable": false
   },
   "source": [
    "Almost there! Save the best model so we can share it with other people, then put it all together with what we learned in the last lesson."
   ]
  },
  {
   "cell_type": "markdown",
   "id": "46763be8-0a76-4f80-a0af-fcd5f88d73bd",
   "metadata": {
    "deletable": false,
    "editable": false
   },
   "source": [
    "**Task 5.4.18:** Using a context manager, save your best-performing model to a file named `\"model-5-4.pkl\"`. \n",
    "\n",
    "- [What's serialization?](../%40textbook/03-pandas-getting-started.ipynb#Pickle-Files)\n",
    "- [Store a Python object as a serialized file using pickle.](../%40textbook/03-pandas-getting-started.ipynb#Pickle-Files) "
   ]
  },
  {
   "cell_type": "code",
   "execution_count": 22,
   "id": "c49a1791-b590-4621-92f0-0f8bff72577f",
   "metadata": {
    "deletable": false
   },
   "outputs": [],
   "source": [
    "# Save model\n",
    "with open(\"model-5-4.pkl\",\"wb\") as f:\n",
    "    pickle.dump(model,f)"
   ]
  },
  {
   "cell_type": "code",
   "execution_count": 40,
   "id": "b89c8c9b-b534-4a2a-b961-0f9dc7832330",
   "metadata": {
    "deletable": false,
    "editable": false,
    "init_cell": true
   },
   "outputs": [
    {
     "data": {
      "text/html": [
       "\n",
       "        <iframe\n",
       "            width=\"600\"\n",
       "            height=\"300\"\n",
       "            src=\"https://player.vimeo.com/video/696220731?h=8086ff0bcd\"\n",
       "            frameborder=\"0\"\n",
       "            allowfullscreen\n",
       "            \n",
       "        ></iframe>\n",
       "        "
      ],
      "text/plain": [
       "<IPython.lib.display.VimeoVideo at 0x7f28dfcff9d0>"
      ]
     },
     "execution_count": 40,
     "metadata": {},
     "output_type": "execute_result"
    }
   ],
   "source": [
    "VimeoVideo(\"696220731\", h=\"8086ff0bcd\", width=600)"
   ]
  },
  {
   "cell_type": "markdown",
   "id": "57772dce-1480-4c6e-9971-6fcd46c28b91",
   "metadata": {
    "deletable": false,
    "editable": false
   },
   "source": [
    "**Task 5.4.19:** Open the file `my_predictor_lesson.py`, add the `wrangle` and `make_predictions` functions from the last lesson, and add all the necessary import statements to the top of the file. Once you're done, save the file. You can check that the contents are correct by running the cell below. \n",
    "\n",
    "- [What's a function?](../%40textbook/02-python-advanced.ipynb#Functions)"
   ]
  },
  {
   "cell_type": "code",
   "execution_count": 41,
   "id": "fddba6da-81ea-4d5d-b1c6-afe99e77e1b4",
   "metadata": {
    "deletable": false
   },
   "outputs": [
    {
     "name": "stdout",
     "output_type": "stream",
     "text": [
      "# Import libraries\n",
      "import gzip\n",
      "import json\n",
      "import pickle\n",
      "\n",
      "import pandas as pd\n",
      "\n",
      "\n",
      "# Add wrangle function from lesson 5.4\n",
      "def wrangle(filename):\n",
      "    \n",
      "    # Open compressed file, load into dictionary\n",
      "    with gzip.open(filename,\"r\") as f:\n",
      "        data = json.load(f)\n",
      "    \n",
      "    # Load dictionary into DataFrame, set index\n",
      "    df = pd.DataFrame().from_dict(data[\"data\"]).set_index(\"company_id\")\n",
      "    return df\n",
      "\n",
      "\n",
      "# Add make_predictions function from lesson 5.3\n",
      "def make_predictions(data_filepath, model_filepath):\n",
      "    # Wrangle JSON file\n",
      "    X_test = wrangle(data_filepath)\n",
      "    # Load model\n",
      "    with open(model_filepath,\"rb\") as f:\n",
      "        model = pickle.load(f)\n",
      "    # Generate predictions\n",
      "    y_test_pred = model.predict(X_test)\n",
      "    # Put predictions into Series with name \"bankrupt\", and same index as X_test\n",
      "    y_test_pred = pd.Series(y_test_pred,index=X_test.index,name=\"bankrupt\")\n",
      "    return y_test_pred\n"
     ]
    }
   ],
   "source": [
    "%%bash\n",
    "\n",
    "cat my_predictor_lesson.py"
   ]
  },
  {
   "cell_type": "markdown",
   "id": "123cfce0-a984-4c3d-a713-cfb8e7c6b29e",
   "metadata": {
    "deletable": false,
    "editable": false
   },
   "source": [
    "Congratulations: You've created your first module!"
   ]
  },
  {
   "cell_type": "code",
   "execution_count": 42,
   "id": "ea89d61a-791d-4550-97e9-feed1f09a703",
   "metadata": {
    "deletable": false,
    "editable": false,
    "init_cell": true
   },
   "outputs": [
    {
     "data": {
      "text/html": [
       "\n",
       "        <iframe\n",
       "            width=\"600\"\n",
       "            height=\"300\"\n",
       "            src=\"https://player.vimeo.com/video/696220643?h=8a3f141262\"\n",
       "            frameborder=\"0\"\n",
       "            allowfullscreen\n",
       "            \n",
       "        ></iframe>\n",
       "        "
      ],
      "text/plain": [
       "<IPython.lib.display.VimeoVideo at 0x7f28dfcca8e0>"
      ]
     },
     "execution_count": 42,
     "metadata": {},
     "output_type": "execute_result"
    }
   ],
   "source": [
    "VimeoVideo(\"696220643\", h=\"8a3f141262\", width=600)"
   ]
  },
  {
   "cell_type": "markdown",
   "id": "21064e25-3458-4a63-89a0-917406dacb69",
   "metadata": {
    "deletable": false,
    "editable": false
   },
   "source": [
    "**Task 5.4.20:** Import your `make_predictions` function from your `my_predictor` module, and use the code below to make sure it works as expected. Once you're satisfied, submit it to the grader.  "
   ]
  },
  {
   "cell_type": "code",
   "execution_count": 43,
   "id": "477fbfc1-05ed-4cdd-b00b-c1732fc58ce9",
   "metadata": {
    "deletable": false
   },
   "outputs": [
    {
     "name": "stdout",
     "output_type": "stream",
     "text": [
      "predictions shape: (526,)\n"
     ]
    },
    {
     "data": {
      "text/plain": [
       "company_id\n",
       "4     False\n",
       "32    False\n",
       "34     True\n",
       "36    False\n",
       "40     True\n",
       "Name: bankrupt, dtype: bool"
      ]
     },
     "execution_count": 43,
     "metadata": {},
     "output_type": "execute_result"
    }
   ],
   "source": [
    "# Import your module\n",
    "from my_predictor_lesson import make_predictions\n",
    "\n",
    "# Generate predictions\n",
    "y_test_pred = make_predictions(\n",
    "    data_filepath=\"data/poland-bankruptcy-data-2009-mvp-features.json.gz\",\n",
    "    model_filepath=\"model-5-4.pkl\",\n",
    ")\n",
    "\n",
    "print(\"predictions shape:\", y_test_pred.shape)\n",
    "y_test_pred.head()"
   ]
  },
  {
   "cell_type": "code",
   "execution_count": 44,
   "id": "c67b35ae-d22b-434f-8dc6-1f2a2f295a20",
   "metadata": {
    "deletable": false,
    "editable": false
   },
   "outputs": [
    {
     "data": {
      "text/html": [
       "\n",
       "    <div class=\"wqet-result\">\n",
       "      <div class=\"animation\">\n",
       "        <svg class=\"checkmark\" xmlns=\"http://www.w3.org/2000/svg\" viewBox=\"0 0 52 52\">\n",
       "          <circle class=\"checkmark__circle\" cx=\"26\" cy=\"26\" r=\"25\" fill=\"none\"/>\n",
       "          <path class=\"checkmark__check\" fill=\"none\" d=\"M14.1 27.2l7.1 7.2 16.7-16.8\"/>\n",
       "        </svg>\n",
       "      </div>\n",
       "      <div class=\"details\">\n",
       "        <p class=\"title\"><p>Your model's accuracy score is <code>0.8859</code>. You're making this look easy. 😉</p></p>\n",
       "        <p>Score: 1</p>\n",
       "      </div>\n",
       "    </div>\n"
      ],
      "text/plain": [
       "<IPython.core.display.HTML object>"
      ]
     },
     "metadata": {},
     "output_type": "display_data"
    }
   ],
   "source": [
    "wqet_grader.grade(\n",
    "    \"Project 5 Assessment\",\n",
    "    \"Task 5.4.20\",\n",
    "    make_predictions(\n",
    "        data_filepath=\"data/poland-bankruptcy-data-2009-mvp-features.json.gz\",\n",
    "        model_filepath=\"model-5-4.pkl\",\n",
    "    ),\n",
    ")"
   ]
  },
  {
   "cell_type": "markdown",
   "id": "f6a118d5",
   "metadata": {
    "deletable": false,
    "editable": false
   },
   "source": [
    "---\n",
    "Copyright © 2022 WorldQuant University. This\n",
    "content is licensed solely for personal use. Redistribution or\n",
    "publication of this material is strictly prohibited.\n"
   ]
  }
 ],
 "metadata": {
  "kernelspec": {
   "display_name": "Python 3 (ipykernel)",
   "language": "python",
   "name": "python3"
  },
  "language_info": {
   "codemirror_mode": {
    "name": "ipython",
    "version": 3
   },
   "file_extension": ".py",
   "mimetype": "text/x-python",
   "name": "python",
   "nbconvert_exporter": "python",
   "pygments_lexer": "ipython3",
   "version": "3.9.6"
  }
 },
 "nbformat": 4,
 "nbformat_minor": 5
}
