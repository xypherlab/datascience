{
 "cells": [
  {
   "cell_type": "markdown",
   "id": "a38665e1-edaf-45c9-ac69-3862e5ff7831",
   "metadata": {
    "deletable": false,
    "editable": false
   },
   "source": [
    "<font size=\"+3\"><strong>5.2. Imbalanced Data</strong></font>"
   ]
  },
  {
   "cell_type": "markdown",
   "id": "ef5d6484-df67-482b-a062-394e715c642e",
   "metadata": {
    "deletable": false,
    "editable": false
   },
   "source": [
    "In the last lesson, we prepared the data. \n",
    "\n",
    "In this lesson, we're going to explore some of the features of the dataset, use visualizations to help us understand those features, and develop a model that solves the problem of imbalanced data by under- and over-sampling."
   ]
  },
  {
   "cell_type": "code",
   "execution_count": null,
   "id": "6b8ede94-6dcb-48b7-b5dc-7e340d70e751",
   "metadata": {},
   "outputs": [],
   "source": []
  },
  {
   "cell_type": "code",
   "execution_count": 1,
   "id": "e89949a0-4a09-4a49-9f79-b51c4b34f1d8",
   "metadata": {
    "deletable": false,
    "editable": false,
    "init_cell": true,
    "tags": []
   },
   "outputs": [
    {
     "data": {
      "text/html": [
       "\n",
       "<style>\n",
       "  \n",
       "  .checkmark {\n",
       "    width: 56px;\n",
       "    height: 56px;\n",
       "    border-radius: 50%;\n",
       "    display: block;\n",
       "    stroke-width: 2;\n",
       "    stroke: #fff;\n",
       "    stroke-miterlimit: 10;\n",
       "    box-shadow: inset 0px 0px 0px #7ac142;\n",
       "    animation: fill .4s ease-in-out .4s forwards, scale .3s ease-in-out .9s both;\n",
       "  }\n",
       "  \n",
       "  .checkmark__circle {\n",
       "    stroke-dasharray: 166;\n",
       "    stroke-dashoffset: 166;\n",
       "    stroke-width: 2;\n",
       "    stroke-miterlimit: 10;\n",
       "    stroke: #7ac142;\n",
       "    fill: none;\n",
       "    animation: stroke .6s cubic-bezier(0.650, 0.000, 0.450, 1.000) forwards;\n",
       "  }\n",
       "  \n",
       "  .checkmark__check {\n",
       "    transform-origin: 50% 50%;\n",
       "    stroke-dasharray: 48;\n",
       "    stroke-dashoffset: 48;\n",
       "    animation: stroke .3s cubic-bezier(0.650, 0.000, 0.450, 1.000) .8s forwards;\n",
       "  }\n",
       "  \n",
       "  .failmark {\n",
       "    width: 56px;\n",
       "    height: 56px;\n",
       "    border-radius: 50%;\n",
       "    display: block;\n",
       "    stroke-width: 2;\n",
       "    stroke: #fff;\n",
       "    stroke-miterlimit: 10;\n",
       "    box-shadow: inset 0px 0px 0px #F34811;\n",
       "    animation: failfill .4s ease-in-out .4s forwards, scale .3s ease-in-out .9s both;\n",
       "  }\n",
       "  \n",
       "  .failmark__circle {\n",
       "    stroke-dasharray: 166;\n",
       "    stroke-dashoffset: 166;\n",
       "    stroke-width: 2;\n",
       "    stroke-miterlimit: 10;\n",
       "    stroke: #F34811;\n",
       "    fill: none;\n",
       "    animation: stroke .6s cubic-bezier(0.650, 0.000, 0.450, 1.000) forwards;\n",
       "  }\n",
       "  \n",
       "  @keyframes stroke {\n",
       "    100% {\n",
       "      stroke-dashoffset: 0;\n",
       "    }\n",
       "  }\n",
       "  \n",
       "  @keyframes scale {\n",
       "    0%, 100% {\n",
       "      transform: none;\n",
       "    }\n",
       "    50% {\n",
       "      transform: scale3d(1.1, 1.1, 1);\n",
       "    }\n",
       "  }\n",
       "  \n",
       "  @keyframes fill {\n",
       "    100% {\n",
       "      box-shadow: inset 0px 0px 0px 30px #7ac142;\n",
       "    }\n",
       "  }\n",
       "  \n",
       "  @keyframes failfill {\n",
       "    100% {\n",
       "      box-shadow: inset 0px 0px 0px 30px #F34811;\n",
       "    }\n",
       "  }\n",
       "  \n",
       "  \n",
       "  .wqet-result {\n",
       "    width: 450px;\n",
       "    clear: both;\n",
       "  }\n",
       "  \n",
       "  .wqet-result .animation {\n",
       "    float: left;\n",
       "    width: 100px;\n",
       "  }\n",
       "  \n",
       "  .wqet-result .animation .checkmark,\n",
       "  .wqet-result .animation .failmark {\n",
       "    margin: 20px auto 20px auto;\n",
       "  }\n",
       "  \n",
       "  .wqet-result .details {\n",
       "    float: right;\n",
       "    width: 349px;\n",
       "    padding: 28px 0;\n",
       "  }\n",
       "  \n",
       "  .wqet-result .details .title {\n",
       "    font-weight: bold;\n",
       "    font-size: 110%;\n",
       "  }\n",
       "  .wqet-result .details p {\n",
       "    margin: 0;\n",
       "  }\n",
       "</style>\n"
      ],
      "text/plain": [
       "<IPython.core.display.HTML object>"
      ]
     },
     "metadata": {},
     "output_type": "display_data"
    }
   ],
   "source": [
    "import gzip\n",
    "import json\n",
    "import pickle\n",
    "\n",
    "import matplotlib.pyplot as plt\n",
    "import pandas as pd\n",
    "import seaborn as sns\n",
    "import wqet_grader\n",
    "from imblearn.over_sampling import RandomOverSampler\n",
    "from imblearn.under_sampling import RandomUnderSampler\n",
    "from IPython.display import VimeoVideo\n",
    "from sklearn.impute import SimpleImputer\n",
    "from sklearn.metrics import ConfusionMatrixDisplay\n",
    "from sklearn.model_selection import train_test_split\n",
    "from sklearn.pipeline import make_pipeline\n",
    "from sklearn.tree import DecisionTreeClassifier\n",
    "\n",
    "wqet_grader.init(\"Project 5 Assessment\")\n"
   ]
  },
  {
   "cell_type": "code",
   "execution_count": 2,
   "id": "658e65ac-3458-4d65-a68b-c51e3034d382",
   "metadata": {},
   "outputs": [],
   "source": [
    "from IPython.display import VimeoVideo"
   ]
  },
  {
   "cell_type": "code",
   "execution_count": 4,
   "id": "fd1507d9-7ecd-4e3c-934e-d2257478ba99",
   "metadata": {
    "deletable": false,
    "editable": false,
    "init_cell": true
   },
   "outputs": [
    {
     "data": {
      "text/html": [
       "\n",
       "        <iframe\n",
       "            width=\"600\"\n",
       "            height=\"300\"\n",
       "            src=\"https://player.vimeo.com/video/694058667?h=44426f200b\"\n",
       "            frameborder=\"0\"\n",
       "            allowfullscreen\n",
       "            \n",
       "        ></iframe>\n",
       "        "
      ],
      "text/plain": [
       "<IPython.lib.display.VimeoVideo at 0x7fc780658eb0>"
      ]
     },
     "execution_count": 4,
     "metadata": {},
     "output_type": "execute_result"
    }
   ],
   "source": [
    "VimeoVideo(\"694058667\", h=\"44426f200b\", width=600)"
   ]
  },
  {
   "cell_type": "markdown",
   "id": "2209334e-f9a2-4764-83d8-150e25c5017f",
   "metadata": {
    "deletable": false,
    "editable": false
   },
   "source": [
    "# Prepare Data"
   ]
  },
  {
   "cell_type": "markdown",
   "id": "dd41eebd-6443-4b5f-9392-641506cd6589",
   "metadata": {
    "deletable": false,
    "editable": false
   },
   "source": [
    "## Import"
   ]
  },
  {
   "cell_type": "markdown",
   "id": "1a5b0717-0975-441c-9036-963c2c432df8",
   "metadata": {
    "deletable": false,
    "editable": false
   },
   "source": [
    "As always, we need to begin by bringing our data into the project, and the function we developed in the previous module is exactly what we need. "
   ]
  },
  {
   "cell_type": "code",
   "execution_count": 3,
   "id": "0674563c-ede3-4440-9992-3c2992655704",
   "metadata": {
    "deletable": false,
    "editable": false,
    "init_cell": true
   },
   "outputs": [
    {
     "data": {
      "text/html": [
       "\n",
       "        <iframe\n",
       "            width=\"600\"\n",
       "            height=\"300\"\n",
       "            src=\"https://player.vimeo.com/video/694058628?h=00b4cfd027\"\n",
       "            frameborder=\"0\"\n",
       "            allowfullscreen\n",
       "            \n",
       "        ></iframe>\n",
       "        "
      ],
      "text/plain": [
       "<IPython.lib.display.VimeoVideo at 0x7fdf3444b430>"
      ]
     },
     "execution_count": 3,
     "metadata": {},
     "output_type": "execute_result"
    }
   ],
   "source": [
    "VimeoVideo(\"694058628\", h=\"00b4cfd027\", width=600)"
   ]
  },
  {
   "cell_type": "markdown",
   "id": "9261a342-9846-4d0c-b653-9ac0d101fdf8",
   "metadata": {
    "deletable": false,
    "editable": false
   },
   "source": [
    "**Task 5.2.1:** Complete the `wrangle` function below using the code you developed in the last lesson. Then use it to import `poland-bankruptcy-data-2009.json.gz` into the DataFrame `df`.\n",
    "\n",
    "- [<span id='technique'>Write a function in <span id='tool'>Python</span></span>.](../%40textbook/02-python-advanced.ipynb#Functions)"
   ]
  },
  {
   "cell_type": "code",
   "execution_count": 4,
   "id": "8189d8c1-e5ad-4739-9502-3e1982998139",
   "metadata": {
    "deletable": false
   },
   "outputs": [],
   "source": [
    "def wrangle(filename):\n",
    "    \n",
    "    # Open compressed file, load into dictionary\n",
    "    with gzip.open(filename,\"r\") as f:\n",
    "        data = json.load(f)\n",
    "    \n",
    "    # Load dictionary into DataFrame, set index\n",
    "    df = pd.DataFrame().from_dict(data[\"data\"]).set_index(\"company_id\")\n",
    "    return df"
   ]
  },
  {
   "cell_type": "code",
   "execution_count": 6,
   "id": "25b19635-4c1a-4a3f-85e1-dfe462874c20",
   "metadata": {
    "deletable": false
   },
   "outputs": [
    {
     "name": "stdout",
     "output_type": "stream",
     "text": [
      "(9977, 65)\n"
     ]
    },
    {
     "data": {
      "text/html": [
       "<div>\n",
       "<style scoped>\n",
       "    .dataframe tbody tr th:only-of-type {\n",
       "        vertical-align: middle;\n",
       "    }\n",
       "\n",
       "    .dataframe tbody tr th {\n",
       "        vertical-align: top;\n",
       "    }\n",
       "\n",
       "    .dataframe thead th {\n",
       "        text-align: right;\n",
       "    }\n",
       "</style>\n",
       "<table border=\"1\" class=\"dataframe\">\n",
       "  <thead>\n",
       "    <tr style=\"text-align: right;\">\n",
       "      <th></th>\n",
       "      <th>feat_1</th>\n",
       "      <th>feat_2</th>\n",
       "      <th>feat_3</th>\n",
       "      <th>feat_4</th>\n",
       "      <th>feat_5</th>\n",
       "      <th>feat_6</th>\n",
       "      <th>feat_7</th>\n",
       "      <th>feat_8</th>\n",
       "      <th>feat_9</th>\n",
       "      <th>feat_10</th>\n",
       "      <th>...</th>\n",
       "      <th>feat_56</th>\n",
       "      <th>feat_57</th>\n",
       "      <th>feat_58</th>\n",
       "      <th>feat_59</th>\n",
       "      <th>feat_60</th>\n",
       "      <th>feat_61</th>\n",
       "      <th>feat_62</th>\n",
       "      <th>feat_63</th>\n",
       "      <th>feat_64</th>\n",
       "      <th>bankrupt</th>\n",
       "    </tr>\n",
       "    <tr>\n",
       "      <th>company_id</th>\n",
       "      <th></th>\n",
       "      <th></th>\n",
       "      <th></th>\n",
       "      <th></th>\n",
       "      <th></th>\n",
       "      <th></th>\n",
       "      <th></th>\n",
       "      <th></th>\n",
       "      <th></th>\n",
       "      <th></th>\n",
       "      <th></th>\n",
       "      <th></th>\n",
       "      <th></th>\n",
       "      <th></th>\n",
       "      <th></th>\n",
       "      <th></th>\n",
       "      <th></th>\n",
       "      <th></th>\n",
       "      <th></th>\n",
       "      <th></th>\n",
       "      <th></th>\n",
       "    </tr>\n",
       "  </thead>\n",
       "  <tbody>\n",
       "    <tr>\n",
       "      <th>1</th>\n",
       "      <td>0.174190</td>\n",
       "      <td>0.41299</td>\n",
       "      <td>0.14371</td>\n",
       "      <td>1.3480</td>\n",
       "      <td>-28.9820</td>\n",
       "      <td>0.60383</td>\n",
       "      <td>0.219460</td>\n",
       "      <td>1.12250</td>\n",
       "      <td>1.1961</td>\n",
       "      <td>0.46359</td>\n",
       "      <td>...</td>\n",
       "      <td>0.163960</td>\n",
       "      <td>0.375740</td>\n",
       "      <td>0.83604</td>\n",
       "      <td>0.000007</td>\n",
       "      <td>9.7145</td>\n",
       "      <td>6.2813</td>\n",
       "      <td>84.291</td>\n",
       "      <td>4.3303</td>\n",
       "      <td>4.0341</td>\n",
       "      <td>False</td>\n",
       "    </tr>\n",
       "    <tr>\n",
       "      <th>2</th>\n",
       "      <td>0.146240</td>\n",
       "      <td>0.46038</td>\n",
       "      <td>0.28230</td>\n",
       "      <td>1.6294</td>\n",
       "      <td>2.5952</td>\n",
       "      <td>0.00000</td>\n",
       "      <td>0.171850</td>\n",
       "      <td>1.17210</td>\n",
       "      <td>1.6018</td>\n",
       "      <td>0.53962</td>\n",
       "      <td>...</td>\n",
       "      <td>0.027516</td>\n",
       "      <td>0.271000</td>\n",
       "      <td>0.90108</td>\n",
       "      <td>0.000000</td>\n",
       "      <td>5.9882</td>\n",
       "      <td>4.1103</td>\n",
       "      <td>102.190</td>\n",
       "      <td>3.5716</td>\n",
       "      <td>5.9500</td>\n",
       "      <td>False</td>\n",
       "    </tr>\n",
       "    <tr>\n",
       "      <th>3</th>\n",
       "      <td>0.000595</td>\n",
       "      <td>0.22612</td>\n",
       "      <td>0.48839</td>\n",
       "      <td>3.1599</td>\n",
       "      <td>84.8740</td>\n",
       "      <td>0.19114</td>\n",
       "      <td>0.004572</td>\n",
       "      <td>2.98810</td>\n",
       "      <td>1.0077</td>\n",
       "      <td>0.67566</td>\n",
       "      <td>...</td>\n",
       "      <td>0.007639</td>\n",
       "      <td>0.000881</td>\n",
       "      <td>0.99236</td>\n",
       "      <td>0.000000</td>\n",
       "      <td>6.7742</td>\n",
       "      <td>3.7922</td>\n",
       "      <td>64.846</td>\n",
       "      <td>5.6287</td>\n",
       "      <td>4.4581</td>\n",
       "      <td>False</td>\n",
       "    </tr>\n",
       "    <tr>\n",
       "      <th>5</th>\n",
       "      <td>0.188290</td>\n",
       "      <td>0.41504</td>\n",
       "      <td>0.34231</td>\n",
       "      <td>1.9279</td>\n",
       "      <td>-58.2740</td>\n",
       "      <td>0.00000</td>\n",
       "      <td>0.233580</td>\n",
       "      <td>1.40940</td>\n",
       "      <td>1.3393</td>\n",
       "      <td>0.58496</td>\n",
       "      <td>...</td>\n",
       "      <td>0.176480</td>\n",
       "      <td>0.321880</td>\n",
       "      <td>0.82635</td>\n",
       "      <td>0.073039</td>\n",
       "      <td>2.5912</td>\n",
       "      <td>7.0756</td>\n",
       "      <td>100.540</td>\n",
       "      <td>3.6303</td>\n",
       "      <td>4.6375</td>\n",
       "      <td>False</td>\n",
       "    </tr>\n",
       "    <tr>\n",
       "      <th>6</th>\n",
       "      <td>0.182060</td>\n",
       "      <td>0.55615</td>\n",
       "      <td>0.32191</td>\n",
       "      <td>1.6045</td>\n",
       "      <td>16.3140</td>\n",
       "      <td>0.00000</td>\n",
       "      <td>0.182060</td>\n",
       "      <td>0.79808</td>\n",
       "      <td>1.8126</td>\n",
       "      <td>0.44385</td>\n",
       "      <td>...</td>\n",
       "      <td>0.555770</td>\n",
       "      <td>0.410190</td>\n",
       "      <td>0.46957</td>\n",
       "      <td>0.029421</td>\n",
       "      <td>8.4553</td>\n",
       "      <td>3.3488</td>\n",
       "      <td>107.240</td>\n",
       "      <td>3.4036</td>\n",
       "      <td>12.4540</td>\n",
       "      <td>False</td>\n",
       "    </tr>\n",
       "  </tbody>\n",
       "</table>\n",
       "<p>5 rows × 65 columns</p>\n",
       "</div>"
      ],
      "text/plain": [
       "              feat_1   feat_2   feat_3  feat_4   feat_5   feat_6    feat_7  \\\n",
       "company_id                                                                   \n",
       "1           0.174190  0.41299  0.14371  1.3480 -28.9820  0.60383  0.219460   \n",
       "2           0.146240  0.46038  0.28230  1.6294   2.5952  0.00000  0.171850   \n",
       "3           0.000595  0.22612  0.48839  3.1599  84.8740  0.19114  0.004572   \n",
       "5           0.188290  0.41504  0.34231  1.9279 -58.2740  0.00000  0.233580   \n",
       "6           0.182060  0.55615  0.32191  1.6045  16.3140  0.00000  0.182060   \n",
       "\n",
       "             feat_8  feat_9  feat_10  ...   feat_56   feat_57  feat_58  \\\n",
       "company_id                            ...                                \n",
       "1           1.12250  1.1961  0.46359  ...  0.163960  0.375740  0.83604   \n",
       "2           1.17210  1.6018  0.53962  ...  0.027516  0.271000  0.90108   \n",
       "3           2.98810  1.0077  0.67566  ...  0.007639  0.000881  0.99236   \n",
       "5           1.40940  1.3393  0.58496  ...  0.176480  0.321880  0.82635   \n",
       "6           0.79808  1.8126  0.44385  ...  0.555770  0.410190  0.46957   \n",
       "\n",
       "             feat_59  feat_60  feat_61  feat_62  feat_63  feat_64  bankrupt  \n",
       "company_id                                                                   \n",
       "1           0.000007   9.7145   6.2813   84.291   4.3303   4.0341     False  \n",
       "2           0.000000   5.9882   4.1103  102.190   3.5716   5.9500     False  \n",
       "3           0.000000   6.7742   3.7922   64.846   5.6287   4.4581     False  \n",
       "5           0.073039   2.5912   7.0756  100.540   3.6303   4.6375     False  \n",
       "6           0.029421   8.4553   3.3488  107.240   3.4036  12.4540     False  \n",
       "\n",
       "[5 rows x 65 columns]"
      ]
     },
     "execution_count": 6,
     "metadata": {},
     "output_type": "execute_result"
    }
   ],
   "source": [
    "df = wrangle(\"data/poland-bankruptcy-data-2009.json.gz\")\n",
    "print(df.shape)\n",
    "df.head()"
   ]
  },
  {
   "cell_type": "markdown",
   "id": "e89f608b-1e91-42d5-b1ce-8008eaa51ef8",
   "metadata": {
    "deletable": false,
    "editable": false
   },
   "source": [
    "## Explore"
   ]
  },
  {
   "cell_type": "markdown",
   "id": "bff799dd-2b03-4122-972a-c93ccec20f8a",
   "metadata": {
    "deletable": false,
    "editable": false
   },
   "source": [
    "Let's take a moment to refresh our memory on what's in this dataset. In the last lesson, we noticed that the data was stored in a JSON file (similar to a Python dictionary), and we explored the key-value pairs. This time, we're going to look at what the values in those pairs actually are."
   ]
  },
  {
   "cell_type": "code",
   "execution_count": 7,
   "id": "fc31dd1f-4dea-4beb-9446-86775b9f1aee",
   "metadata": {
    "deletable": false,
    "editable": false,
    "init_cell": true
   },
   "outputs": [
    {
     "data": {
      "text/html": [
       "\n",
       "        <iframe\n",
       "            width=\"600\"\n",
       "            height=\"300\"\n",
       "            src=\"https://player.vimeo.com/video/694058591?h=8fc20629aa\"\n",
       "            frameborder=\"0\"\n",
       "            allowfullscreen\n",
       "            \n",
       "        ></iframe>\n",
       "        "
      ],
      "text/plain": [
       "<IPython.lib.display.VimeoVideo at 0x7fdf250e78e0>"
      ]
     },
     "execution_count": 7,
     "metadata": {},
     "output_type": "execute_result"
    }
   ],
   "source": [
    "VimeoVideo(\"694058591\", h=\"8fc20629aa\", width=600)"
   ]
  },
  {
   "cell_type": "markdown",
   "id": "d821578e-5c6b-4c5d-8beb-d1904a9f2243",
   "metadata": {
    "deletable": false,
    "editable": false
   },
   "source": [
    "**Task 5.2.2:** Use the `info` method to explore `df`. What type of features does this dataset have? Which column is the target? Are there columns will missing values that we'll need to address?\n",
    "\n",
    "- [Inspect a DataFrame using the `shape`, `info`, and `head` in pandas.](../%40textbook/03-pandas-getting-started.ipynb#Inspecting-DataFrames)"
   ]
  },
  {
   "cell_type": "code",
   "execution_count": 8,
   "id": "03e4b625-da67-4322-8598-4ea4e5de2896",
   "metadata": {
    "deletable": false
   },
   "outputs": [
    {
     "name": "stdout",
     "output_type": "stream",
     "text": [
      "<class 'pandas.core.frame.DataFrame'>\n",
      "Int64Index: 9977 entries, 1 to 10503\n",
      "Data columns (total 65 columns):\n",
      " #   Column    Non-Null Count  Dtype  \n",
      "---  ------    --------------  -----  \n",
      " 0   feat_1    9977 non-null   float64\n",
      " 1   feat_2    9977 non-null   float64\n",
      " 2   feat_3    9977 non-null   float64\n",
      " 3   feat_4    9960 non-null   float64\n",
      " 4   feat_5    9952 non-null   float64\n",
      " 5   feat_6    9977 non-null   float64\n",
      " 6   feat_7    9977 non-null   float64\n",
      " 7   feat_8    9964 non-null   float64\n",
      " 8   feat_9    9974 non-null   float64\n",
      " 9   feat_10   9977 non-null   float64\n",
      " 10  feat_11   9977 non-null   float64\n",
      " 11  feat_12   9960 non-null   float64\n",
      " 12  feat_13   9935 non-null   float64\n",
      " 13  feat_14   9977 non-null   float64\n",
      " 14  feat_15   9970 non-null   float64\n",
      " 15  feat_16   9964 non-null   float64\n",
      " 16  feat_17   9964 non-null   float64\n",
      " 17  feat_18   9977 non-null   float64\n",
      " 18  feat_19   9935 non-null   float64\n",
      " 19  feat_20   9935 non-null   float64\n",
      " 20  feat_21   9205 non-null   float64\n",
      " 21  feat_22   9977 non-null   float64\n",
      " 22  feat_23   9935 non-null   float64\n",
      " 23  feat_24   9764 non-null   float64\n",
      " 24  feat_25   9977 non-null   float64\n",
      " 25  feat_26   9964 non-null   float64\n",
      " 26  feat_27   9312 non-null   float64\n",
      " 27  feat_28   9765 non-null   float64\n",
      " 28  feat_29   9977 non-null   float64\n",
      " 29  feat_30   9935 non-null   float64\n",
      " 30  feat_31   9935 non-null   float64\n",
      " 31  feat_32   9881 non-null   float64\n",
      " 32  feat_33   9960 non-null   float64\n",
      " 33  feat_34   9964 non-null   float64\n",
      " 34  feat_35   9977 non-null   float64\n",
      " 35  feat_36   9977 non-null   float64\n",
      " 36  feat_37   5499 non-null   float64\n",
      " 37  feat_38   9977 non-null   float64\n",
      " 38  feat_39   9935 non-null   float64\n",
      " 39  feat_40   9960 non-null   float64\n",
      " 40  feat_41   9787 non-null   float64\n",
      " 41  feat_42   9935 non-null   float64\n",
      " 42  feat_43   9935 non-null   float64\n",
      " 43  feat_44   9935 non-null   float64\n",
      " 44  feat_45   9416 non-null   float64\n",
      " 45  feat_46   9960 non-null   float64\n",
      " 46  feat_47   9896 non-null   float64\n",
      " 47  feat_48   9977 non-null   float64\n",
      " 48  feat_49   9935 non-null   float64\n",
      " 49  feat_50   9964 non-null   float64\n",
      " 50  feat_51   9977 non-null   float64\n",
      " 51  feat_52   9896 non-null   float64\n",
      " 52  feat_53   9765 non-null   float64\n",
      " 53  feat_54   9765 non-null   float64\n",
      " 54  feat_55   9977 non-null   float64\n",
      " 55  feat_56   9935 non-null   float64\n",
      " 56  feat_57   9977 non-null   float64\n",
      " 57  feat_58   9948 non-null   float64\n",
      " 58  feat_59   9977 non-null   float64\n",
      " 59  feat_60   9415 non-null   float64\n",
      " 60  feat_61   9961 non-null   float64\n",
      " 61  feat_62   9935 non-null   float64\n",
      " 62  feat_63   9960 non-null   float64\n",
      " 63  feat_64   9765 non-null   float64\n",
      " 64  bankrupt  9977 non-null   bool   \n",
      "dtypes: bool(1), float64(64)\n",
      "memory usage: 5.0 MB\n"
     ]
    }
   ],
   "source": [
    "# Inspect DataFrame\n",
    "df.info()"
   ]
  },
  {
   "cell_type": "markdown",
   "id": "0743bccb-2695-478f-b983-3f1345013ea3",
   "metadata": {
    "deletable": false,
    "editable": false
   },
   "source": [
    "That's solid information. We know all our features are numerical and that we have missing data. But, as always, it's a good idea to do some visualizations to see if there are any interesting trends or ideas we should keep in mind while we work. First, let's take a look at how many firms are bankrupt, and how many are not."
   ]
  },
  {
   "cell_type": "code",
   "execution_count": 9,
   "id": "6ac24acf-1ce9-43d0-b563-8fd530809f96",
   "metadata": {
    "deletable": false,
    "editable": false,
    "init_cell": true
   },
   "outputs": [
    {
     "data": {
      "text/html": [
       "\n",
       "        <iframe\n",
       "            width=\"600\"\n",
       "            height=\"300\"\n",
       "            src=\"https://player.vimeo.com/video/694058537?h=01caf9ae83\"\n",
       "            frameborder=\"0\"\n",
       "            allowfullscreen\n",
       "            \n",
       "        ></iframe>\n",
       "        "
      ],
      "text/plain": [
       "<IPython.lib.display.VimeoVideo at 0x7fdef96d25e0>"
      ]
     },
     "execution_count": 9,
     "metadata": {},
     "output_type": "execute_result"
    }
   ],
   "source": [
    "VimeoVideo(\"694058537\", h=\"01caf9ae83\", width=600)"
   ]
  },
  {
   "cell_type": "markdown",
   "id": "91a64015-cca6-40e7-b236-1c38ff0354e9",
   "metadata": {
    "deletable": false,
    "editable": false
   },
   "source": [
    "**Task 5.2.3:** Create a bar chart of the value counts for the `\"bankrupt\"` column. You want to calculate the relative frequencies of the classes, not the raw count, so be sure to set the `normalize` argument to `True`.\n",
    "\n",
    "- [What's a <span id='term'>bar chart</span>?](../%40textbook/06-visualization-matplotlib.ipynb#Bar-Charts)\n",
    "- [What's a <span id='technique'>majority class</span>?](../%40textbook/14-ml-classification.ipynb#Majority-and-Minority-Classes)\n",
    "- [What's a <span id='technique'>minority class</span>?](../%40textbook/14-ml-classification.ipynb#Majority-and-Minority-Classes)\n",
    "- [What's a positive class?](../%40textbook/14-ml-classification.ipynb#Positive-and-Negative-Classes)\n",
    "- [What's a negative class?](../%40textbook/14-ml-classification.ipynb#Positive-and-Negative-Classes)\n",
    "- [Aggregate data in a Series using `value_counts` in pandas.](../%40textbook/04-pandas-advanced.ipynb#Working-with-value_counts-in-a-Series)\n",
    "- [<span id='technique'>Create a bar chart using <span id='tool'>pandas</span></span>.](../%40textbook/07-visualization-pandas.ipynb#Bar-Charts)"
   ]
  },
  {
   "cell_type": "code",
   "execution_count": 15,
   "id": "49357719-acf1-4180-8fde-8ad1b79d281b",
   "metadata": {
    "deletable": false
   },
   "outputs": [
    {
     "data": {
      "text/plain": [
       "<AxesSubplot:title={'center':'Class Balance'}, xlabel='Bankrupt', ylabel='Frequency'>"
      ]
     },
     "execution_count": 15,
     "metadata": {},
     "output_type": "execute_result"
    },
    {
     "data": {
      "image/png": "[encoded data removed]",
      "text/plain": [
       "<Figure size 432x288 with 1 Axes>"
      ]
     },
     "metadata": {
      "needs_background": "light"
     },
     "output_type": "display_data"
    }
   ],
   "source": [
    "# Plot class balance\n",
    "df[\"bankrupt\"].value_counts(normalize=True).plot(\n",
    "    kind=\"bar\",\n",
    "    xlabel=\"Bankrupt\",\n",
    "    ylabel=\"Frequency\",\n",
    "    title=\"Class Balance\"\n",
    ")"
   ]
  },
  {
   "cell_type": "markdown",
   "id": "6b4b37f1-4a10-479c-80df-d7d073d8c005",
   "metadata": {
    "deletable": false,
    "editable": false
   },
   "source": [
    "That's good news for Poland's economy! Since it looks like most of the companies in our dataset are doing all right for themselves, let's drill down a little farther. However, it also shows us that we have an imbalanced dataset, where our majority class is far bigger than our minority class.\n",
    "\n",
    "In the last lesson, we saw that there were 64 features of each company, each of which had some kind of numerical value. It might be useful to understand where the values for one of these features cluster, so let's make a boxplot to see how the values in `\"feat_27\"` are distributed."
   ]
  },
  {
   "cell_type": "code",
   "execution_count": 16,
   "id": "bccc1725-792e-481a-bbb6-4e2bc7dd4046",
   "metadata": {
    "deletable": false,
    "editable": false,
    "init_cell": true
   },
   "outputs": [
    {
     "data": {
      "text/html": [
       "\n",
       "        <iframe\n",
       "            width=\"600\"\n",
       "            height=\"300\"\n",
       "            src=\"https://player.vimeo.com/video/694058487?h=6e066151d9\"\n",
       "            frameborder=\"0\"\n",
       "            allowfullscreen\n",
       "            \n",
       "        ></iframe>\n",
       "        "
      ],
      "text/plain": [
       "<IPython.lib.display.VimeoVideo at 0x7fdf245efa90>"
      ]
     },
     "execution_count": 16,
     "metadata": {},
     "output_type": "execute_result"
    }
   ],
   "source": [
    "VimeoVideo(\"694058487\", h=\"6e066151d9\", width=600)"
   ]
  },
  {
   "cell_type": "markdown",
   "id": "42cbe8e8-265e-47ef-83e9-2956f6c746ff",
   "metadata": {
    "deletable": false,
    "editable": false
   },
   "source": [
    "**Task 5.2.4:** Use seaborn to create a boxplot that shows the distributions of the `\"feat_27\"` column for both groups in the `\"bankrupt\"` column. Remember to label your axes. \n",
    "\n",
    "- [What's a <span id='term'>boxplot</span>?](../%40textbook/06-visualization-matplotlib.ipynb#Boxplots)\n",
    "- [<span id='technique'>Create a boxplot using <span id='tool'>Matplotlib</span></span>.](../%40textbook/06-visualization-matplotlib.ipynb#Boxplots)"
   ]
  },
  {
   "cell_type": "code",
   "execution_count": 17,
   "id": "196afdf0-15bb-48ce-8b14-dc4a660d8253",
   "metadata": {
    "deletable": false
   },
   "outputs": [
    {
     "data": {
      "image/png": "[encoded data removed]",
      "text/plain": [
       "<Figure size 432x288 with 1 Axes>"
      ]
     },
     "metadata": {
      "needs_background": "light"
     },
     "output_type": "display_data"
    }
   ],
   "source": [
    "# Create boxplot\n",
    "sns.boxplot(x=\"bankrupt\",y=\"feat_27\",data=df)\n",
    "plt.xlabel(\"Bankrupt\")\n",
    "plt.ylabel(\"POA / financial expenses\")\n",
    "plt.title(\"Distribution of Profit/Expenses Ratio, by Class\");"
   ]
  },
  {
   "cell_type": "markdown",
   "id": "028779e4-1e06-440f-b12e-c1c13fcfc4eb",
   "metadata": {
    "deletable": false,
    "editable": false
   },
   "source": [
    "Why does this look so funny? Remember that boxplots exist to help us see the quartiles in a dataset, and this one doesn't really do that. Let's check the distribution of `\"feat_27\"`to see if we can figure out what's going on here."
   ]
  },
  {
   "cell_type": "code",
   "execution_count": 18,
   "id": "9f635493-679e-4d48-8d68-4523ce908ef9",
   "metadata": {
    "deletable": false,
    "editable": false,
    "init_cell": true
   },
   "outputs": [
    {
     "data": {
      "text/html": [
       "\n",
       "        <iframe\n",
       "            width=\"600\"\n",
       "            height=\"300\"\n",
       "            src=\"https://player.vimeo.com/video/694058435?h=8f0ae805d6\"\n",
       "            frameborder=\"0\"\n",
       "            allowfullscreen\n",
       "            \n",
       "        ></iframe>\n",
       "        "
      ],
      "text/plain": [
       "<IPython.lib.display.VimeoVideo at 0x7fdf244f3460>"
      ]
     },
     "execution_count": 18,
     "metadata": {},
     "output_type": "execute_result"
    }
   ],
   "source": [
    "VimeoVideo(\"694058435\", h=\"8f0ae805d6\", width=600)"
   ]
  },
  {
   "cell_type": "markdown",
   "id": "7636d728-345d-44af-986b-521d509bed52",
   "metadata": {
    "deletable": false,
    "editable": false
   },
   "source": [
    "**Task 5.2.5:** Use the `describe` method on the column for `\"feat_27\"`. What can you tell about the distribution of the data based on the mean and median?"
   ]
  },
  {
   "cell_type": "code",
   "execution_count": 21,
   "id": "dd909c80-6bb1-4da3-9945-75e3c8e9a68b",
   "metadata": {
    "deletable": false
   },
   "outputs": [
    {
     "data": {
      "text/plain": [
       "count        9,312\n",
       "mean         1,206\n",
       "std         35,477\n",
       "min       -190,130\n",
       "25%              0\n",
       "50%              1\n",
       "75%              5\n",
       "max      2,723,000\n",
       "Name: feat_27, dtype: object"
      ]
     },
     "execution_count": 21,
     "metadata": {},
     "output_type": "execute_result"
    }
   ],
   "source": [
    "# Summary statistics for `feat_27`\n",
    "df[\"feat_27\"].describe().apply(\"{0:,.0f}\".format)"
   ]
  },
  {
   "cell_type": "markdown",
   "id": "956e3938-f05d-4ab4-8c7c-1c128201240b",
   "metadata": {
    "deletable": false,
    "editable": false
   },
   "source": [
    "Hmmm. Note that the median is around 1, but the mean is over 1000. That suggests that this feature is skewed to the right. Let's make a histogram to see what the distribution actually looks like."
   ]
  },
  {
   "cell_type": "code",
   "execution_count": 22,
   "id": "85af2af0-f048-47eb-a0be-cbdbc8cca586",
   "metadata": {
    "deletable": false,
    "editable": false,
    "init_cell": true
   },
   "outputs": [
    {
     "data": {
      "text/html": [
       "\n",
       "        <iframe\n",
       "            width=\"600\"\n",
       "            height=\"300\"\n",
       "            src=\"https://player.vimeo.com/video/694058398?h=1078bb6d8b\"\n",
       "            frameborder=\"0\"\n",
       "            allowfullscreen\n",
       "            \n",
       "        ></iframe>\n",
       "        "
      ],
      "text/plain": [
       "<IPython.lib.display.VimeoVideo at 0x7fde761038b0>"
      ]
     },
     "execution_count": 22,
     "metadata": {},
     "output_type": "execute_result"
    }
   ],
   "source": [
    "VimeoVideo(\"694058398\", h=\"1078bb6d8b\", width=600)"
   ]
  },
  {
   "cell_type": "markdown",
   "id": "3334b78f-c578-4fe8-867c-aaf301cf07c3",
   "metadata": {
    "deletable": false,
    "editable": false
   },
   "source": [
    "**Task 5.2.6:** Create a histogram of `\"feat_27\"`. Make sure to label x-axis `\"POA / financial expenses\"`, the y-axis `\"Count\"`, and use the title `\"Distribution of Profit/Expenses Ratio\"`.\n",
    "\n",
    "- [What's a histogram?](../%40textbook/06-visualization-matplotlib.ipynb#Histograms)\n",
    "- [Create a histogram using Matplotlib.](../%40textbook/06-visualization-matplotlib.ipynb#Histograms) "
   ]
  },
  {
   "cell_type": "code",
   "execution_count": 23,
   "id": "4889da74-cb9d-4f21-a17a-823c9955fbdf",
   "metadata": {
    "deletable": false
   },
   "outputs": [
    {
     "data": {
      "image/png": "[encoded data removed]",
      "text/plain": [
       "<Figure size 432x288 with 1 Axes>"
      ]
     },
     "metadata": {
      "needs_background": "light"
     },
     "output_type": "display_data"
    }
   ],
   "source": [
    "# Plot histogram of `feat_27`\n",
    "df[\"feat_27\"].hist()\n",
    "plt.xlabel(\"POA / financial expenses\")\n",
    "plt.ylabel(\"Count\"),\n",
    "plt.title(\"Distribution of Profit/Expenses Ratio\");"
   ]
  },
  {
   "cell_type": "markdown",
   "id": "38583fa5-9cf8-4021-88f5-4f486c636e59",
   "metadata": {
    "deletable": false,
    "editable": false
   },
   "source": [
    "Aha! We saw it in the numbers and now we see it in the histogram. The data is very skewed. So, in order to create a helpful boxplot, we need to trim the data. "
   ]
  },
  {
   "cell_type": "code",
   "execution_count": 24,
   "id": "77b8aaa6-ee87-464c-a894-8e3885000d10",
   "metadata": {
    "deletable": false,
    "editable": false,
    "init_cell": true
   },
   "outputs": [
    {
     "data": {
      "text/html": [
       "\n",
       "        <iframe\n",
       "            width=\"600\"\n",
       "            height=\"300\"\n",
       "            src=\"https://player.vimeo.com/video/694058328?h=4aecdc442d\"\n",
       "            frameborder=\"0\"\n",
       "            allowfullscreen\n",
       "            \n",
       "        ></iframe>\n",
       "        "
      ],
      "text/plain": [
       "<IPython.lib.display.VimeoVideo at 0x7fde7604c670>"
      ]
     },
     "execution_count": 24,
     "metadata": {},
     "output_type": "execute_result"
    }
   ],
   "source": [
    "VimeoVideo(\"694058328\", h=\"4aecdc442d\", width=600)"
   ]
  },
  {
   "cell_type": "code",
   "execution_count": 28,
   "id": "827894d3-8778-47bb-b24c-3904fecca12b",
   "metadata": {},
   "outputs": [
    {
     "data": {
      "text/plain": [
       "company_id\n",
       "1     True\n",
       "2    False\n",
       "3     True\n",
       "5    False\n",
       "6     True\n",
       "Name: feat_27, dtype: bool"
      ]
     },
     "execution_count": 28,
     "metadata": {},
     "output_type": "execute_result"
    }
   ],
   "source": [
    "q1,q9 = df[\"feat_27\"].quantile([0.1,0.9])\n",
    "mask=df[\"feat_27\"].between(q1,q9)\n",
    "mask.head()"
   ]
  },
  {
   "cell_type": "markdown",
   "id": "ac83aeab-48a6-4a18-9b5a-3768fd69d48f",
   "metadata": {
    "deletable": false,
    "editable": false
   },
   "source": [
    "**Task 5.2.7:** Recreate the boxplot that you made above, this time only using the values for `\"feat_27\"` that fall between the `0.1` and `0.9` quantiles for the column.\n",
    "\n",
    "- [What's a boxplot?](../%40textbook/06-visualization-matplotlib.ipynb#Boxplots)\n",
    "- [What's a quantile?](../%40textbook/05-pandas-summary-statistics.ipynb#Calculate-the-Quantiles-for-a-Series)\n",
    "- [Calculate the quantiles for a Series in pandas.](../%40textbook/05-pandas-summary-statistics.ipynb#Calculate-the-Quantiles-for-a-Series)\n",
    "- [Create a boxplot using Matplotlib.](../%40textbook/06-visualization-matplotlib.ipynb#Boxplots)"
   ]
  },
  {
   "cell_type": "code",
   "execution_count": 29,
   "id": "94328747-6212-4505-9d8d-39c4b68ef126",
   "metadata": {
    "deletable": false
   },
   "outputs": [
    {
     "data": {
      "image/png": "[encoded data removed]",
      "text/plain": [
       "<Figure size 432x288 with 1 Axes>"
      ]
     },
     "metadata": {
      "needs_background": "light"
     },
     "output_type": "display_data"
    }
   ],
   "source": [
    "# Create clipped boxplot\n",
    "q1,q9 = df[\"feat_27\"].quantile([0.1,0.9])\n",
    "mask=df[\"feat_27\"].between(q1,q9)\n",
    "sns.boxplot(x=\"bankrupt\",y=\"feat_27\",data=df[mask])\n",
    "plt.xlabel(\"Bankrupt\")\n",
    "plt.ylabel(\"POA / financial expenses\")\n",
    "plt.title(\"Distribution of Profit/Expenses Ratio, by Bankruptcy Status\");"
   ]
  },
  {
   "cell_type": "markdown",
   "id": "68ad9d1b-3dc4-413e-8264-f5e2058c9c2d",
   "metadata": {
    "deletable": false,
    "editable": false
   },
   "source": [
    "That makes a lot more sense. Let's take a look at some of the other features in the dataset to see what else is out there."
   ]
  },
  {
   "cell_type": "markdown",
   "id": "460743a9-1be1-438f-a7bd-591dfafa8385",
   "metadata": {
    "deletable": false,
    "editable": false
   },
   "source": [
    "<div class=\"alert alert-info\" role=\"alert\">\n",
    "    <p><b>More context on <code>\"feat_27\"</code>:</b> <em>Profit on operating activities</em> is profit that a company makes through its \"normal\" operations. For instance, a car company profits from the sale of its cars. However, a company may have other forms of profit, such as financial investments. So a company's <em>total profit</em> may be positive even when its profit on operating activities is negative.\n",
    "    <p><em>Financial expenses</em> include things like interest due on loans, and does not include \"normal\" expenses (like the money that a car company spends on raw materials to manufacture cars). \n",
    "   </div>"
   ]
  },
  {
   "cell_type": "markdown",
   "id": "3a6390ae-0647-496c-8b45-da345b2baffc",
   "metadata": {
    "deletable": false,
    "editable": false
   },
   "source": [
    "**Task 5.2.8:** Repeat the exploration you just did for `\"feat_27\"` on two other features in the dataset. Do they show the same skewed distribution? Are there large differences between bankrupt and solvent companies?"
   ]
  },
  {
   "cell_type": "code",
   "execution_count": null,
   "id": "051b35a0",
   "metadata": {
    "deletable": false
   },
   "outputs": [],
   "source": [
    "# Explore another feature"
   ]
  },
  {
   "cell_type": "markdown",
   "id": "9bee0894-eeb3-48fa-84b9-50bb3f053c9d",
   "metadata": {
    "deletable": false,
    "editable": false
   },
   "source": [
    "Looking at other features, we can see that they're skewed, too. This will be important to keep in mind when we decide what type of model we want to use.\n",
    "\n",
    "Another important consideration for model selection is whether there are any issues with multicollinearity in our model. Let's check."
   ]
  },
  {
   "cell_type": "code",
   "execution_count": 30,
   "id": "1916f298-bd7e-4a18-9b28-d9d928f5c3bd",
   "metadata": {
    "deletable": false,
    "editable": false,
    "init_cell": true
   },
   "outputs": [
    {
     "data": {
      "text/html": [
       "\n",
       "        <iframe\n",
       "            width=\"600\"\n",
       "            height=\"300\"\n",
       "            src=\"https://player.vimeo.com/video/694058273?h=85b3be2f63\"\n",
       "            frameborder=\"0\"\n",
       "            allowfullscreen\n",
       "            \n",
       "        ></iframe>\n",
       "        "
      ],
      "text/plain": [
       "<IPython.lib.display.VimeoVideo at 0x7fde75fbcbe0>"
      ]
     },
     "execution_count": 30,
     "metadata": {},
     "output_type": "execute_result"
    }
   ],
   "source": [
    "VimeoVideo(\"694058273\", h=\"85b3be2f63\", width=600)"
   ]
  },
  {
   "cell_type": "markdown",
   "id": "dac54512-c22d-475f-9fbf-c0d5ce8946da",
   "metadata": {
    "deletable": false,
    "editable": false
   },
   "source": [
    "**Task 5.2.9:** Plot a correlation heatmap of features in `df`. Since `\"bankrupt\"` will be your target, you don't need to include it in your heatmap.\n",
    "\n",
    "- [What's a <span id='term'>heatmap?](../%40textbook/09-visualization-seaborn.ipynb#Correlation-Heatmaps)\n",
    "- [<span id='technique'>Create a correlation matrix in <span id='tool'>pandas.](../%40textbook/07-visualization-pandas.ipynb#Correlation-Matrices)\n",
    "- [<span id='technique'>Create a heatmap in <span id='tool'>seaborn.](../%40textbook/09-visualization-seaborn.ipynb#Correlation-Heatmaps)"
   ]
  },
  {
   "cell_type": "code",
   "execution_count": 34,
   "id": "40887a1b-bcb2-4ad2-af68-bea899d0c434",
   "metadata": {
    "deletable": false
   },
   "outputs": [
    {
     "data": {
      "text/plain": [
       "<AxesSubplot:>"
      ]
     },
     "execution_count": 34,
     "metadata": {},
     "output_type": "execute_result"
    },
    {
     "data": {
      "image/png": "[encoded data removed]",
      "text/plain": [
       "<Figure size 432x288 with 2 Axes>"
      ]
     },
     "metadata": {
      "needs_background": "light"
     },
     "output_type": "display_data"
    }
   ],
   "source": [
    "corr = df.drop(columns=\"bankrupt\").corr()\n",
    "corr.head()\n",
    "sns.heatmap(corr)"
   ]
  },
  {
   "cell_type": "markdown",
   "id": "c87d1c97-2e52-4bfa-aa15-640dcb2bb2e0",
   "metadata": {
    "deletable": false,
    "editable": false
   },
   "source": [
    "So what did we learn from this EDA? First, our data is imbalanced. This is something we need to address in our data preparation. Second, many of our features have missing values that we'll need to impute. And since the features are highly skewed, the best imputation strategy is likely median, not mean. Finally, we have autocorrelation issues, which means that we should steer clear of linear models, and try a tree-based model instead."
   ]
  },
  {
   "cell_type": "markdown",
   "id": "2f852aed-4154-4b49-9e40-af3fb52caee0",
   "metadata": {
    "deletable": false,
    "editable": false
   },
   "source": [
    "## Split"
   ]
  },
  {
   "cell_type": "markdown",
   "id": "37fa80b9-5bf4-4ced-8c0f-050b8514e1e6",
   "metadata": {
    "deletable": false,
    "editable": false
   },
   "source": [
    "So let's start building that model. If you need a refresher on how and why we split data in these situations, take a look back at the Time Series module."
   ]
  },
  {
   "cell_type": "markdown",
   "id": "034eddda-8e40-47eb-95fe-f31d0e88b929",
   "metadata": {
    "deletable": false,
    "editable": false
   },
   "source": [
    "**Task 5.2.10:** Create your feature matrix `X` and target vector `y`. Your target is `\"bankrupt\"`. \n",
    "\n",
    "- [What's a <span id='term'>feature matrix</span>?](../%40textbook/15-ml-regression.ipynb#Linear-Regression)\n",
    "- [What's a <span id='term'>target vector</span>?](../%40textbook/15-ml-regression.ipynb#Linear-Regression)\n",
    "- [<span id='technique'>Subset a DataFrame by selecting one or more columns in <span id='tool'>pandas</span></span>.](../%40textbook/04-pandas-advanced.ipynb#Subset-a-DataFrame-by-Selecting-One-or-More-Columns) \n",
    "- [<span id='technique'>Select a Series from a DataFrame in <span id='tool'>pandas</span></span>.](../%40textbook/04-pandas-advanced.ipynb#Combine-multiple-categories-in-a-Series) "
   ]
  },
  {
   "cell_type": "code",
   "execution_count": 35,
   "id": "3c1ca108-7089-45f3-8ec7-bc8e738808d9",
   "metadata": {
    "deletable": false
   },
   "outputs": [
    {
     "name": "stdout",
     "output_type": "stream",
     "text": [
      "X shape: (9977, 64)\n",
      "y shape: (9977,)\n"
     ]
    }
   ],
   "source": [
    "target = \"bankrupt\"\n",
    "X = df.drop(columns=target)\n",
    "y = df[target]\n",
    "\n",
    "print(\"X shape:\", X.shape)\n",
    "print(\"y shape:\", y.shape)"
   ]
  },
  {
   "cell_type": "markdown",
   "id": "0c5e37a4-6104-4422-b5ca-493eeb4fed55",
   "metadata": {
    "deletable": false,
    "editable": false
   },
   "source": [
    "In order to make sure that our model can generalize, we need to put aside a test set that we'll use to evaluate our model once it's trained. "
   ]
  },
  {
   "cell_type": "markdown",
   "id": "9500b64a-eaa5-4a89-98a4-8370717be4ff",
   "metadata": {
    "deletable": false,
    "editable": false
   },
   "source": [
    "**Task 5.2.11:** Divide your data (`X` and `y`) into training and test sets using a randomized train-test split. Your validation set should be 20% of your total data. And don't forget to set a `random_state` for reproducibility. \n",
    "\n",
    "- [<span id='technique'>Perform a randomized train-test split using <span id='tool'>scikit-learn</span></span>.](../%40textbook/14-ml-classification.ipynb#Randomized-Train-Test-split)"
   ]
  },
  {
   "cell_type": "code",
   "execution_count": 36,
   "id": "4e1cb3c3-231d-47e5-9361-bec2f83ef353",
   "metadata": {
    "deletable": false
   },
   "outputs": [
    {
     "name": "stdout",
     "output_type": "stream",
     "text": [
      "X_train shape: (7981, 64)\n",
      "y_train shape: (7981,)\n",
      "X_test shape: (1996, 64)\n",
      "y_test shape: (1996,)\n"
     ]
    }
   ],
   "source": [
    "X_train, X_test, y_train, y_test = train_test_split(\n",
    "X,y,test_size=0.2,random_state=42\n",
    ")\n",
    "\n",
    "print(\"X_train shape:\", X_train.shape)\n",
    "print(\"y_train shape:\", y_train.shape)\n",
    "print(\"X_test shape:\", X_test.shape)\n",
    "print(\"y_test shape:\", y_test.shape)"
   ]
  },
  {
   "cell_type": "markdown",
   "id": "a24fc49d-6b3e-424d-8be2-4ff085b8c641",
   "metadata": {
    "deletable": false,
    "editable": false
   },
   "source": [
    "Note that if we wanted to tune any hyperparameters for our model, we'd do another split here, further dividing the training set into training and validation sets. However, we're going to leave hyperparameters for the next lesson, so no need to do the extra split now."
   ]
  },
  {
   "cell_type": "markdown",
   "id": "35999f04-63f3-4178-8e31-75dc45f461ba",
   "metadata": {
    "deletable": false,
    "editable": false
   },
   "source": [
    "## Resample"
   ]
  },
  {
   "cell_type": "markdown",
   "id": "5e6dab03-4e55-4d2a-a9a4-6068aa274ac6",
   "metadata": {
    "deletable": false,
    "editable": false
   },
   "source": [
    "Now that we've split our data into training and validation sets, we can address the class imbalance we saw during our EDA. One strategy is to resample the training data. (This will be different than the resampling we did with time series data in Project 3.) There are many to do this, so let's start with under-sampling."
   ]
  },
  {
   "cell_type": "code",
   "execution_count": 37,
   "id": "6cf88493-1c74-4c0a-8c2e-3c91952c77f8",
   "metadata": {
    "deletable": false,
    "editable": false,
    "init_cell": true
   },
   "outputs": [
    {
     "data": {
      "text/html": [
       "\n",
       "        <iframe\n",
       "            width=\"600\"\n",
       "            height=\"300\"\n",
       "            src=\"https://player.vimeo.com/video/694058220?h=00c3a98358\"\n",
       "            frameborder=\"0\"\n",
       "            allowfullscreen\n",
       "            \n",
       "        ></iframe>\n",
       "        "
      ],
      "text/plain": [
       "<IPython.lib.display.VimeoVideo at 0x7fde75fcf610>"
      ]
     },
     "execution_count": 37,
     "metadata": {},
     "output_type": "execute_result"
    }
   ],
   "source": [
    "VimeoVideo(\"694058220\", h=\"00c3a98358\", width=600)"
   ]
  },
  {
   "cell_type": "code",
   "execution_count": 41,
   "id": "cc9379b0-91f2-4730-99a0-022011e09be9",
   "metadata": {},
   "outputs": [
    {
     "data": {
      "text/plain": [
       "False    0.5\n",
       "True     0.5\n",
       "Name: bankrupt, dtype: float64"
      ]
     },
     "execution_count": 41,
     "metadata": {},
     "output_type": "execute_result"
    }
   ],
   "source": [
    "y_train_under.value_counts(normalize=True)"
   ]
  },
  {
   "cell_type": "markdown",
   "id": "53713713-d9ba-4776-936a-95e327b7d202",
   "metadata": {
    "deletable": false,
    "editable": false
   },
   "source": [
    "**Task 5.2.12:** Create a new feature matrix `X_train_under` and target vector `y_train_under` by performing random under-sampling on your training data.\n",
    "\n",
    "- [What is under-sampling?](../%40textbook/13-ml-data-pre-processing-and-production.ipynb#Under-sampling)\n",
    "- [Perform random under-sampling using imbalanced-learn.](../%40textbook/13-ml-data-pre-processing-and-production.ipynb#Under-sampling)"
   ]
  },
  {
   "cell_type": "code",
   "execution_count": 40,
   "id": "676afb5f-268b-4080-9825-1a4f69e7b558",
   "metadata": {
    "deletable": false
   },
   "outputs": [
    {
     "name": "stdout",
     "output_type": "stream",
     "text": [
      "(768, 64)\n"
     ]
    },
    {
     "data": {
      "text/html": [
       "<div>\n",
       "<style scoped>\n",
       "    .dataframe tbody tr th:only-of-type {\n",
       "        vertical-align: middle;\n",
       "    }\n",
       "\n",
       "    .dataframe tbody tr th {\n",
       "        vertical-align: top;\n",
       "    }\n",
       "\n",
       "    .dataframe thead th {\n",
       "        text-align: right;\n",
       "    }\n",
       "</style>\n",
       "<table border=\"1\" class=\"dataframe\">\n",
       "  <thead>\n",
       "    <tr style=\"text-align: right;\">\n",
       "      <th></th>\n",
       "      <th>feat_1</th>\n",
       "      <th>feat_2</th>\n",
       "      <th>feat_3</th>\n",
       "      <th>feat_4</th>\n",
       "      <th>feat_5</th>\n",
       "      <th>feat_6</th>\n",
       "      <th>feat_7</th>\n",
       "      <th>feat_8</th>\n",
       "      <th>feat_9</th>\n",
       "      <th>feat_10</th>\n",
       "      <th>...</th>\n",
       "      <th>feat_55</th>\n",
       "      <th>feat_56</th>\n",
       "      <th>feat_57</th>\n",
       "      <th>feat_58</th>\n",
       "      <th>feat_59</th>\n",
       "      <th>feat_60</th>\n",
       "      <th>feat_61</th>\n",
       "      <th>feat_62</th>\n",
       "      <th>feat_63</th>\n",
       "      <th>feat_64</th>\n",
       "    </tr>\n",
       "  </thead>\n",
       "  <tbody>\n",
       "    <tr>\n",
       "      <th>0</th>\n",
       "      <td>0.121400</td>\n",
       "      <td>0.097238</td>\n",
       "      <td>0.74500</td>\n",
       "      <td>8.66160</td>\n",
       "      <td>25.8370</td>\n",
       "      <td>0.000000</td>\n",
       "      <td>0.158840</td>\n",
       "      <td>9.284100</td>\n",
       "      <td>2.7588</td>\n",
       "      <td>0.902760</td>\n",
       "      <td>...</td>\n",
       "      <td>775.71</td>\n",
       "      <td>0.075999</td>\n",
       "      <td>0.13447</td>\n",
       "      <td>0.94243</td>\n",
       "      <td>0.000000</td>\n",
       "      <td>4.9049</td>\n",
       "      <td>11.3390</td>\n",
       "      <td>12.865</td>\n",
       "      <td>28.3720</td>\n",
       "      <td>17.4870</td>\n",
       "    </tr>\n",
       "    <tr>\n",
       "      <th>1</th>\n",
       "      <td>0.316280</td>\n",
       "      <td>0.264920</td>\n",
       "      <td>0.65346</td>\n",
       "      <td>3.46660</td>\n",
       "      <td>55.1890</td>\n",
       "      <td>0.290140</td>\n",
       "      <td>0.316280</td>\n",
       "      <td>2.774700</td>\n",
       "      <td>2.4721</td>\n",
       "      <td>0.735080</td>\n",
       "      <td>...</td>\n",
       "      <td>1367.90</td>\n",
       "      <td>0.119990</td>\n",
       "      <td>0.43027</td>\n",
       "      <td>0.87412</td>\n",
       "      <td>0.000000</td>\n",
       "      <td>10.6020</td>\n",
       "      <td>4.5533</td>\n",
       "      <td>39.115</td>\n",
       "      <td>9.3314</td>\n",
       "      <td>30.2870</td>\n",
       "    </tr>\n",
       "    <tr>\n",
       "      <th>2</th>\n",
       "      <td>0.066615</td>\n",
       "      <td>0.890270</td>\n",
       "      <td>-0.48007</td>\n",
       "      <td>0.46076</td>\n",
       "      <td>-76.3080</td>\n",
       "      <td>0.047487</td>\n",
       "      <td>0.087936</td>\n",
       "      <td>-0.011406</td>\n",
       "      <td>1.0952</td>\n",
       "      <td>-0.010155</td>\n",
       "      <td>...</td>\n",
       "      <td>-46566.00</td>\n",
       "      <td>0.086894</td>\n",
       "      <td>-6.56010</td>\n",
       "      <td>0.91311</td>\n",
       "      <td>0.000000</td>\n",
       "      <td>32.0280</td>\n",
       "      <td>10.0480</td>\n",
       "      <td>105.220</td>\n",
       "      <td>3.4689</td>\n",
       "      <td>5.2362</td>\n",
       "    </tr>\n",
       "    <tr>\n",
       "      <th>3</th>\n",
       "      <td>0.208000</td>\n",
       "      <td>0.363630</td>\n",
       "      <td>0.33875</td>\n",
       "      <td>1.93160</td>\n",
       "      <td>-5.3169</td>\n",
       "      <td>0.251870</td>\n",
       "      <td>0.258280</td>\n",
       "      <td>1.603300</td>\n",
       "      <td>1.0535</td>\n",
       "      <td>0.583020</td>\n",
       "      <td>...</td>\n",
       "      <td>187050.00</td>\n",
       "      <td>0.050746</td>\n",
       "      <td>0.35676</td>\n",
       "      <td>0.94925</td>\n",
       "      <td>0.000000</td>\n",
       "      <td>34.8840</td>\n",
       "      <td>19.0030</td>\n",
       "      <td>24.498</td>\n",
       "      <td>14.8990</td>\n",
       "      <td>18.2040</td>\n",
       "    </tr>\n",
       "    <tr>\n",
       "      <th>4</th>\n",
       "      <td>0.096863</td>\n",
       "      <td>0.299320</td>\n",
       "      <td>0.35393</td>\n",
       "      <td>2.42640</td>\n",
       "      <td>31.5630</td>\n",
       "      <td>0.267550</td>\n",
       "      <td>0.125130</td>\n",
       "      <td>2.341000</td>\n",
       "      <td>1.0495</td>\n",
       "      <td>0.700680</td>\n",
       "      <td>...</td>\n",
       "      <td>2993.00</td>\n",
       "      <td>0.047123</td>\n",
       "      <td>0.13824</td>\n",
       "      <td>0.95288</td>\n",
       "      <td>0.073041</td>\n",
       "      <td>13.7820</td>\n",
       "      <td>6.8621</td>\n",
       "      <td>39.668</td>\n",
       "      <td>9.2013</td>\n",
       "      <td>5.7376</td>\n",
       "    </tr>\n",
       "  </tbody>\n",
       "</table>\n",
       "<p>5 rows × 64 columns</p>\n",
       "</div>"
      ],
      "text/plain": [
       "     feat_1    feat_2   feat_3   feat_4   feat_5    feat_6    feat_7  \\\n",
       "0  0.121400  0.097238  0.74500  8.66160  25.8370  0.000000  0.158840   \n",
       "1  0.316280  0.264920  0.65346  3.46660  55.1890  0.290140  0.316280   \n",
       "2  0.066615  0.890270 -0.48007  0.46076 -76.3080  0.047487  0.087936   \n",
       "3  0.208000  0.363630  0.33875  1.93160  -5.3169  0.251870  0.258280   \n",
       "4  0.096863  0.299320  0.35393  2.42640  31.5630  0.267550  0.125130   \n",
       "\n",
       "     feat_8  feat_9   feat_10  ...    feat_55   feat_56  feat_57  feat_58  \\\n",
       "0  9.284100  2.7588  0.902760  ...     775.71  0.075999  0.13447  0.94243   \n",
       "1  2.774700  2.4721  0.735080  ...    1367.90  0.119990  0.43027  0.87412   \n",
       "2 -0.011406  1.0952 -0.010155  ...  -46566.00  0.086894 -6.56010  0.91311   \n",
       "3  1.603300  1.0535  0.583020  ...  187050.00  0.050746  0.35676  0.94925   \n",
       "4  2.341000  1.0495  0.700680  ...    2993.00  0.047123  0.13824  0.95288   \n",
       "\n",
       "    feat_59  feat_60  feat_61  feat_62  feat_63  feat_64  \n",
       "0  0.000000   4.9049  11.3390   12.865  28.3720  17.4870  \n",
       "1  0.000000  10.6020   4.5533   39.115   9.3314  30.2870  \n",
       "2  0.000000  32.0280  10.0480  105.220   3.4689   5.2362  \n",
       "3  0.000000  34.8840  19.0030   24.498  14.8990  18.2040  \n",
       "4  0.073041  13.7820   6.8621   39.668   9.2013   5.7376  \n",
       "\n",
       "[5 rows x 64 columns]"
      ]
     },
     "execution_count": 40,
     "metadata": {},
     "output_type": "execute_result"
    }
   ],
   "source": [
    "under_sampler = RandomUnderSampler(random_state=42)\n",
    "X_train_under, y_train_under = under_sampler.fit_resample(X_train,y_train)\n",
    "print(X_train_under.shape)\n",
    "X_train_under.head()"
   ]
  },
  {
   "cell_type": "markdown",
   "id": "b84cf5b1-2c98-4531-97cf-5855d778a0e8",
   "metadata": {
    "deletable": false,
    "editable": false
   },
   "source": [
    "<div class=\"alert alert-info\" role=\"alert\">\n",
    "    <b>Note:</b> Depending on the random state you set above, you may get a different  shape for <code>X_train_under</code>. Don't worry, it's normal!\n",
    "</div>"
   ]
  },
  {
   "cell_type": "markdown",
   "id": "dd0939f0-25dc-49a0-9421-f1a7de418728",
   "metadata": {
    "deletable": false,
    "editable": false
   },
   "source": [
    "And then we'll over-sample."
   ]
  },
  {
   "cell_type": "code",
   "execution_count": 42,
   "id": "6b735652-e3af-4fa4-983a-c2adb3581514",
   "metadata": {
    "deletable": false,
    "editable": false,
    "init_cell": true
   },
   "outputs": [
    {
     "data": {
      "text/html": [
       "\n",
       "        <iframe\n",
       "            width=\"600\"\n",
       "            height=\"300\"\n",
       "            src=\"https://player.vimeo.com/video/694058177?h=5cef977f2d\"\n",
       "            frameborder=\"0\"\n",
       "            allowfullscreen\n",
       "            \n",
       "        ></iframe>\n",
       "        "
      ],
      "text/plain": [
       "<IPython.lib.display.VimeoVideo at 0x7fde7601c4f0>"
      ]
     },
     "execution_count": 42,
     "metadata": {},
     "output_type": "execute_result"
    }
   ],
   "source": [
    "VimeoVideo(\"694058177\", h=\"5cef977f2d\", width=600)"
   ]
  },
  {
   "cell_type": "markdown",
   "id": "5f1a2efc-3bba-4b7a-b6bb-9dab726d7ab5",
   "metadata": {
    "deletable": false,
    "editable": false
   },
   "source": [
    "**Task 5.2.13:** Create a new feature matrix `X_train_over` and target vector `y_train_over` by performing random over-sampling on your training data.\n",
    "\n",
    "- [What is over-sampling?](../%40textbook/13-ml-data-pre-processing-and-production.ipynb#Over-sampling)\n",
    "- [Perform random over-sampling using imbalanced-learn.](../%40textbook/13-ml-data-pre-processing-and-production.ipynb#Over-sampling)"
   ]
  },
  {
   "cell_type": "code",
   "execution_count": 43,
   "id": "1ddf4a38-4635-4255-ae18-d0a396d4cfa5",
   "metadata": {
    "deletable": false
   },
   "outputs": [
    {
     "name": "stdout",
     "output_type": "stream",
     "text": [
      "(15194, 64)\n"
     ]
    },
    {
     "data": {
      "text/html": [
       "<div>\n",
       "<style scoped>\n",
       "    .dataframe tbody tr th:only-of-type {\n",
       "        vertical-align: middle;\n",
       "    }\n",
       "\n",
       "    .dataframe tbody tr th {\n",
       "        vertical-align: top;\n",
       "    }\n",
       "\n",
       "    .dataframe thead th {\n",
       "        text-align: right;\n",
       "    }\n",
       "</style>\n",
       "<table border=\"1\" class=\"dataframe\">\n",
       "  <thead>\n",
       "    <tr style=\"text-align: right;\">\n",
       "      <th></th>\n",
       "      <th>feat_1</th>\n",
       "      <th>feat_2</th>\n",
       "      <th>feat_3</th>\n",
       "      <th>feat_4</th>\n",
       "      <th>feat_5</th>\n",
       "      <th>feat_6</th>\n",
       "      <th>feat_7</th>\n",
       "      <th>feat_8</th>\n",
       "      <th>feat_9</th>\n",
       "      <th>feat_10</th>\n",
       "      <th>...</th>\n",
       "      <th>feat_55</th>\n",
       "      <th>feat_56</th>\n",
       "      <th>feat_57</th>\n",
       "      <th>feat_58</th>\n",
       "      <th>feat_59</th>\n",
       "      <th>feat_60</th>\n",
       "      <th>feat_61</th>\n",
       "      <th>feat_62</th>\n",
       "      <th>feat_63</th>\n",
       "      <th>feat_64</th>\n",
       "    </tr>\n",
       "  </thead>\n",
       "  <tbody>\n",
       "    <tr>\n",
       "      <th>0</th>\n",
       "      <td>0.279320</td>\n",
       "      <td>0.053105</td>\n",
       "      <td>0.852030</td>\n",
       "      <td>17.0440</td>\n",
       "      <td>199.080</td>\n",
       "      <td>0.741770</td>\n",
       "      <td>0.353570</td>\n",
       "      <td>16.00600</td>\n",
       "      <td>1.2346</td>\n",
       "      <td>0.84997</td>\n",
       "      <td>...</td>\n",
       "      <td>52857.00</td>\n",
       "      <td>0.190040</td>\n",
       "      <td>0.328630</td>\n",
       "      <td>0.80996</td>\n",
       "      <td>0.00000</td>\n",
       "      <td>NaN</td>\n",
       "      <td>4.1858</td>\n",
       "      <td>11.002</td>\n",
       "      <td>33.1760</td>\n",
       "      <td>18.5720</td>\n",
       "    </tr>\n",
       "    <tr>\n",
       "      <th>1</th>\n",
       "      <td>0.001871</td>\n",
       "      <td>0.735120</td>\n",
       "      <td>0.156460</td>\n",
       "      <td>1.2269</td>\n",
       "      <td>-10.837</td>\n",
       "      <td>0.000000</td>\n",
       "      <td>0.002938</td>\n",
       "      <td>0.36032</td>\n",
       "      <td>1.4809</td>\n",
       "      <td>0.26488</td>\n",
       "      <td>...</td>\n",
       "      <td>440.02</td>\n",
       "      <td>0.014794</td>\n",
       "      <td>0.007064</td>\n",
       "      <td>0.99803</td>\n",
       "      <td>0.00000</td>\n",
       "      <td>7.4268</td>\n",
       "      <td>2.2925</td>\n",
       "      <td>169.960</td>\n",
       "      <td>2.1476</td>\n",
       "      <td>9.6185</td>\n",
       "    </tr>\n",
       "    <tr>\n",
       "      <th>2</th>\n",
       "      <td>0.113940</td>\n",
       "      <td>0.490250</td>\n",
       "      <td>0.077121</td>\n",
       "      <td>1.2332</td>\n",
       "      <td>-43.184</td>\n",
       "      <td>-0.000171</td>\n",
       "      <td>0.113940</td>\n",
       "      <td>1.03980</td>\n",
       "      <td>1.1649</td>\n",
       "      <td>0.50975</td>\n",
       "      <td>...</td>\n",
       "      <td>4617.40</td>\n",
       "      <td>0.214890</td>\n",
       "      <td>0.223520</td>\n",
       "      <td>0.78761</td>\n",
       "      <td>0.27412</td>\n",
       "      <td>6.2791</td>\n",
       "      <td>6.1622</td>\n",
       "      <td>103.630</td>\n",
       "      <td>3.5220</td>\n",
       "      <td>1.9673</td>\n",
       "    </tr>\n",
       "    <tr>\n",
       "      <th>3</th>\n",
       "      <td>0.008136</td>\n",
       "      <td>0.652610</td>\n",
       "      <td>0.148120</td>\n",
       "      <td>1.2628</td>\n",
       "      <td>29.071</td>\n",
       "      <td>0.000000</td>\n",
       "      <td>0.008136</td>\n",
       "      <td>0.53230</td>\n",
       "      <td>1.2891</td>\n",
       "      <td>0.34739</td>\n",
       "      <td>...</td>\n",
       "      <td>920.98</td>\n",
       "      <td>0.045169</td>\n",
       "      <td>0.023421</td>\n",
       "      <td>0.99434</td>\n",
       "      <td>0.14403</td>\n",
       "      <td>22.7480</td>\n",
       "      <td>2.2673</td>\n",
       "      <td>159.580</td>\n",
       "      <td>2.2872</td>\n",
       "      <td>4.4718</td>\n",
       "    </tr>\n",
       "    <tr>\n",
       "      <th>4</th>\n",
       "      <td>0.045396</td>\n",
       "      <td>0.279640</td>\n",
       "      <td>0.708730</td>\n",
       "      <td>3.7656</td>\n",
       "      <td>238.120</td>\n",
       "      <td>0.000000</td>\n",
       "      <td>0.056710</td>\n",
       "      <td>2.57610</td>\n",
       "      <td>1.0169</td>\n",
       "      <td>0.72036</td>\n",
       "      <td>...</td>\n",
       "      <td>10744.00</td>\n",
       "      <td>0.047501</td>\n",
       "      <td>0.063019</td>\n",
       "      <td>0.94624</td>\n",
       "      <td>0.00000</td>\n",
       "      <td>13.8860</td>\n",
       "      <td>49.0660</td>\n",
       "      <td>91.984</td>\n",
       "      <td>3.9681</td>\n",
       "      <td>29.0460</td>\n",
       "    </tr>\n",
       "  </tbody>\n",
       "</table>\n",
       "<p>5 rows × 64 columns</p>\n",
       "</div>"
      ],
      "text/plain": [
       "     feat_1    feat_2    feat_3   feat_4   feat_5    feat_6    feat_7  \\\n",
       "0  0.279320  0.053105  0.852030  17.0440  199.080  0.741770  0.353570   \n",
       "1  0.001871  0.735120  0.156460   1.2269  -10.837  0.000000  0.002938   \n",
       "2  0.113940  0.490250  0.077121   1.2332  -43.184 -0.000171  0.113940   \n",
       "3  0.008136  0.652610  0.148120   1.2628   29.071  0.000000  0.008136   \n",
       "4  0.045396  0.279640  0.708730   3.7656  238.120  0.000000  0.056710   \n",
       "\n",
       "     feat_8  feat_9  feat_10  ...   feat_55   feat_56   feat_57  feat_58  \\\n",
       "0  16.00600  1.2346  0.84997  ...  52857.00  0.190040  0.328630  0.80996   \n",
       "1   0.36032  1.4809  0.26488  ...    440.02  0.014794  0.007064  0.99803   \n",
       "2   1.03980  1.1649  0.50975  ...   4617.40  0.214890  0.223520  0.78761   \n",
       "3   0.53230  1.2891  0.34739  ...    920.98  0.045169  0.023421  0.99434   \n",
       "4   2.57610  1.0169  0.72036  ...  10744.00  0.047501  0.063019  0.94624   \n",
       "\n",
       "   feat_59  feat_60  feat_61  feat_62  feat_63  feat_64  \n",
       "0  0.00000      NaN   4.1858   11.002  33.1760  18.5720  \n",
       "1  0.00000   7.4268   2.2925  169.960   2.1476   9.6185  \n",
       "2  0.27412   6.2791   6.1622  103.630   3.5220   1.9673  \n",
       "3  0.14403  22.7480   2.2673  159.580   2.2872   4.4718  \n",
       "4  0.00000  13.8860  49.0660   91.984   3.9681  29.0460  \n",
       "\n",
       "[5 rows x 64 columns]"
      ]
     },
     "execution_count": 43,
     "metadata": {},
     "output_type": "execute_result"
    }
   ],
   "source": [
    "over_sampler = RandomOverSampler(random_state=42)\n",
    "X_train_over, y_train_over = over_sampler.fit_resample(X_train,y_train)\n",
    "print(X_train_over.shape)\n",
    "X_train_over.head()"
   ]
  },
  {
   "cell_type": "code",
   "execution_count": 44,
   "id": "4b1b6eab-d100-4e17-9fe7-1f3f33e50a89",
   "metadata": {},
   "outputs": [
    {
     "data": {
      "text/plain": [
       "False    0.5\n",
       "True     0.5\n",
       "Name: bankrupt, dtype: float64"
      ]
     },
     "execution_count": 44,
     "metadata": {},
     "output_type": "execute_result"
    }
   ],
   "source": [
    "y_train_over.value_counts(normalize=True)"
   ]
  },
  {
   "cell_type": "markdown",
   "id": "d18094c9-d024-4570-ba60-e3c820ec7f66",
   "metadata": {
    "deletable": false,
    "editable": false,
    "tags": []
   },
   "source": [
    "# Build Modelnormalize="
   ]
  },
  {
   "cell_type": "markdown",
   "id": "b093e0e2-1044-4969-81e4-05c1c6276a26",
   "metadata": {
    "deletable": false,
    "editable": false
   },
   "source": [
    "## Baseline"
   ]
  },
  {
   "cell_type": "markdown",
   "id": "751a3ea4-e345-4a9d-b942-ec438dc3d76e",
   "metadata": {
    "deletable": false,
    "editable": false
   },
   "source": [
    "As always, we need to establish the baseline for our model. Since this is a classification problem, we'll use accuracy score."
   ]
  },
  {
   "cell_type": "code",
   "execution_count": 45,
   "id": "5d0bedaa-0569-4326-ae97-3a036995d52a",
   "metadata": {
    "deletable": false,
    "editable": false,
    "init_cell": true
   },
   "outputs": [
    {
     "data": {
      "text/html": [
       "\n",
       "        <iframe\n",
       "            width=\"600\"\n",
       "            height=\"300\"\n",
       "            src=\"https://player.vimeo.com/video/694058140?h=7ae111412f\"\n",
       "            frameborder=\"0\"\n",
       "            allowfullscreen\n",
       "            \n",
       "        ></iframe>\n",
       "        "
      ],
      "text/plain": [
       "<IPython.lib.display.VimeoVideo at 0x7fde759785b0>"
      ]
     },
     "execution_count": 45,
     "metadata": {},
     "output_type": "execute_result"
    }
   ],
   "source": [
    "VimeoVideo(\"694058140\", h=\"7ae111412f\", width=600)"
   ]
  },
  {
   "cell_type": "markdown",
   "id": "f18915ca-86cf-46b8-91e5-0afbcbceb842",
   "metadata": {
    "deletable": false,
    "editable": false
   },
   "source": [
    "**Task 5.2.14:** Calculate the baseline accuracy score for your model.\n",
    "\n",
    "- [What's <span id='tool'>accuracy score</span>?](../%40textbook/14-ml-classification.ipynb#Calculating-Accuracy-Score)\n",
    "- [Aggregate data in a Series using `value_counts` in pandas.](../%40textbook/04-pandas-advanced.ipynb#Working-with-value_counts-in-a-Series)"
   ]
  },
  {
   "cell_type": "code",
   "execution_count": 46,
   "id": "2f2897bc-04b0-476b-b97d-d219f274a645",
   "metadata": {
    "deletable": false
   },
   "outputs": [
    {
     "name": "stdout",
     "output_type": "stream",
     "text": [
      "Baseline Accuracy: 0.9519\n"
     ]
    }
   ],
   "source": [
    "acc_baseline = y_train.value_counts(normalize=True).max()\n",
    "print(\"Baseline Accuracy:\", round(acc_baseline, 4))"
   ]
  },
  {
   "cell_type": "markdown",
   "id": "e65e1626-f07b-4c5f-8aa8-bce7a3222926",
   "metadata": {
    "deletable": false,
    "editable": false
   },
   "source": [
    "Note here that, because our classes are imbalanced, the baseline accuracy is very high. We should keep this in mind because, even if our trained model gets a high validation accuracy score, that doesn't mean it's actually *good.* "
   ]
  },
  {
   "cell_type": "markdown",
   "id": "a0b46478-78d8-4183-b990-fc264ef9a68b",
   "metadata": {
    "deletable": false,
    "editable": false
   },
   "source": [
    "## Iterate"
   ]
  },
  {
   "cell_type": "markdown",
   "id": "7596eb36-4b1a-4140-863e-e4ba5155d33c",
   "metadata": {
    "deletable": false,
    "editable": false
   },
   "source": [
    "Now that we have a baseline, let's build a model to see if we can beat it."
   ]
  },
  {
   "cell_type": "code",
   "execution_count": 47,
   "id": "0f46d66f-4342-49af-b4d1-24ced1b80c3f",
   "metadata": {
    "deletable": false,
    "editable": false,
    "init_cell": true
   },
   "outputs": [
    {
     "data": {
      "text/html": [
       "\n",
       "        <iframe\n",
       "            width=\"600\"\n",
       "            height=\"300\"\n",
       "            src=\"https://player.vimeo.com/video/694058110?h=dc751751bf\"\n",
       "            frameborder=\"0\"\n",
       "            allowfullscreen\n",
       "            \n",
       "        ></iframe>\n",
       "        "
      ],
      "text/plain": [
       "<IPython.lib.display.VimeoVideo at 0x7fde75978340>"
      ]
     },
     "execution_count": 47,
     "metadata": {},
     "output_type": "execute_result"
    }
   ],
   "source": [
    "VimeoVideo(\"694058110\", h=\"dc751751bf\", width=600)"
   ]
  },
  {
   "cell_type": "markdown",
   "id": "892cf7eb-cc7d-4aec-9903-06ddd45e3638",
   "metadata": {
    "deletable": false,
    "editable": false
   },
   "source": [
    "**Task 5.2.15:** Create three identical models: `model_reg`, `model_under` and `model_over`. All of them should use a `SimpleImputer` followed by a `DecisionTreeClassifier`. Train `model_reg` using the unaltered training data. For `model_under`, use the undersampled data. For `model_over`, use the oversampled data.\n",
    "\n",
    "- [What's a <span id='term'>decision tree</span>?](../%40textbook/14-ml-classification.ipynb#Decision-Trees)\n",
    "- [What's imputation?](../%40textbook/12-ml-core.ipynb#Imputation) \n",
    "- [<span id='technique'>Create a pipeline in <span id='tool'>scikit-learn</span></span>.](../%40textbook/13-ml-data-pre-processing-and-production.ipynb#Creating-a-Pipeline-in-scikit-learn)\n",
    "- [<span id='technique'>Fit a model to training data in <span id='tool'>scikit-learn</span></span>.](../%40textbook/15-ml-regression.ipynb#Fitting-a-Model-to-Training-Data)"
   ]
  },
  {
   "cell_type": "code",
   "execution_count": 49,
   "id": "4ff60fd6-184c-4c3c-88e2-11589d212859",
   "metadata": {
    "deletable": false
   },
   "outputs": [
    {
     "data": {
      "text/html": [
       "<style>#sk-container-id-1 {color: black;background-color: white;}#sk-container-id-1 pre{padding: 0;}#sk-container-id-1 div.sk-toggleable {background-color: white;}#sk-container-id-1 label.sk-toggleable__label {cursor: pointer;display: block;width: 100%;margin-bottom: 0;padding: 0.3em;box-sizing: border-box;text-align: center;}#sk-container-id-1 label.sk-toggleable__label-arrow:before {content: \"▸\";float: left;margin-right: 0.25em;color: #696969;}#sk-container-id-1 label.sk-toggleable__label-arrow:hover:before {color: black;}#sk-container-id-1 div.sk-estimator:hover label.sk-toggleable__label-arrow:before {color: black;}#sk-container-id-1 div.sk-toggleable__content {max-height: 0;max-width: 0;overflow: hidden;text-align: left;background-color: #f0f8ff;}#sk-container-id-1 div.sk-toggleable__content pre {margin: 0.2em;color: black;border-radius: 0.25em;background-color: #f0f8ff;}#sk-container-id-1 input.sk-toggleable__control:checked~div.sk-toggleable__content {max-height: 200px;max-width: 100%;overflow: auto;}#sk-container-id-1 input.sk-toggleable__control:checked~label.sk-toggleable__label-arrow:before {content: \"▾\";}#sk-container-id-1 div.sk-estimator input.sk-toggleable__control:checked~label.sk-toggleable__label {background-color: #d4ebff;}#sk-container-id-1 div.sk-label input.sk-toggleable__control:checked~label.sk-toggleable__label {background-color: #d4ebff;}#sk-container-id-1 input.sk-hidden--visually {border: 0;clip: rect(1px 1px 1px 1px);clip: rect(1px, 1px, 1px, 1px);height: 1px;margin: -1px;overflow: hidden;padding: 0;position: absolute;width: 1px;}#sk-container-id-1 div.sk-estimator {font-family: monospace;background-color: #f0f8ff;border: 1px dotted black;border-radius: 0.25em;box-sizing: border-box;margin-bottom: 0.5em;}#sk-container-id-1 div.sk-estimator:hover {background-color: #d4ebff;}#sk-container-id-1 div.sk-parallel-item::after {content: \"\";width: 100%;border-bottom: 1px solid gray;flex-grow: 1;}#sk-container-id-1 div.sk-label:hover label.sk-toggleable__label {background-color: #d4ebff;}#sk-container-id-1 div.sk-serial::before {content: \"\";position: absolute;border-left: 1px solid gray;box-sizing: border-box;top: 0;bottom: 0;left: 50%;z-index: 0;}#sk-container-id-1 div.sk-serial {display: flex;flex-direction: column;align-items: center;background-color: white;padding-right: 0.2em;padding-left: 0.2em;position: relative;}#sk-container-id-1 div.sk-item {position: relative;z-index: 1;}#sk-container-id-1 div.sk-parallel {display: flex;align-items: stretch;justify-content: center;background-color: white;position: relative;}#sk-container-id-1 div.sk-item::before, #sk-container-id-1 div.sk-parallel-item::before {content: \"\";position: absolute;border-left: 1px solid gray;box-sizing: border-box;top: 0;bottom: 0;left: 50%;z-index: -1;}#sk-container-id-1 div.sk-parallel-item {display: flex;flex-direction: column;z-index: 1;position: relative;background-color: white;}#sk-container-id-1 div.sk-parallel-item:first-child::after {align-self: flex-end;width: 50%;}#sk-container-id-1 div.sk-parallel-item:last-child::after {align-self: flex-start;width: 50%;}#sk-container-id-1 div.sk-parallel-item:only-child::after {width: 0;}#sk-container-id-1 div.sk-dashed-wrapped {border: 1px dashed gray;margin: 0 0.4em 0.5em 0.4em;box-sizing: border-box;padding-bottom: 0.4em;background-color: white;}#sk-container-id-1 div.sk-label label {font-family: monospace;font-weight: bold;display: inline-block;line-height: 1.2em;}#sk-container-id-1 div.sk-label-container {text-align: center;}#sk-container-id-1 div.sk-container {/* jupyter's `normalize.less` sets `[hidden] { display: none; }` but bootstrap.min.css set `[hidden] { display: none !important; }` so we also need the `!important` here to be able to override the default hidden behavior on the sphinx rendered scikit-learn.org. See: https://github.com/scikit-learn/scikit-learn/issues/21755 */display: inline-block !important;position: relative;}#sk-container-id-1 div.sk-text-repr-fallback {display: none;}</style><div id=\"sk-container-id-1\" class=\"sk-top-container\"><div class=\"sk-text-repr-fallback\"><pre>Pipeline(steps=[(&#x27;simpleimputer&#x27;, SimpleImputer(strategy=&#x27;median&#x27;)),\n",
       "                (&#x27;decisiontreeclassifier&#x27;,\n",
       "                 DecisionTreeClassifier(random_state=42))])</pre><b>In a Jupyter environment, please rerun this cell to show the HTML representation or trust the notebook. <br />On GitHub, the HTML representation is unable to render, please try loading this page with nbviewer.org.</b></div><div class=\"sk-container\" hidden><div class=\"sk-item sk-dashed-wrapped\"><div class=\"sk-label-container\"><div class=\"sk-label sk-toggleable\"><input class=\"sk-toggleable__control sk-hidden--visually\" id=\"sk-estimator-id-1\" type=\"checkbox\" ><label for=\"sk-estimator-id-1\" class=\"sk-toggleable__label sk-toggleable__label-arrow\">Pipeline</label><div class=\"sk-toggleable__content\"><pre>Pipeline(steps=[(&#x27;simpleimputer&#x27;, SimpleImputer(strategy=&#x27;median&#x27;)),\n",
       "                (&#x27;decisiontreeclassifier&#x27;,\n",
       "                 DecisionTreeClassifier(random_state=42))])</pre></div></div></div><div class=\"sk-serial\"><div class=\"sk-item\"><div class=\"sk-estimator sk-toggleable\"><input class=\"sk-toggleable__control sk-hidden--visually\" id=\"sk-estimator-id-2\" type=\"checkbox\" ><label for=\"sk-estimator-id-2\" class=\"sk-toggleable__label sk-toggleable__label-arrow\">SimpleImputer</label><div class=\"sk-toggleable__content\"><pre>SimpleImputer(strategy=&#x27;median&#x27;)</pre></div></div></div><div class=\"sk-item\"><div class=\"sk-estimator sk-toggleable\"><input class=\"sk-toggleable__control sk-hidden--visually\" id=\"sk-estimator-id-3\" type=\"checkbox\" ><label for=\"sk-estimator-id-3\" class=\"sk-toggleable__label sk-toggleable__label-arrow\">DecisionTreeClassifier</label><div class=\"sk-toggleable__content\"><pre>DecisionTreeClassifier(random_state=42)</pre></div></div></div></div></div></div></div>"
      ],
      "text/plain": [
       "Pipeline(steps=[('simpleimputer', SimpleImputer(strategy='median')),\n",
       "                ('decisiontreeclassifier',\n",
       "                 DecisionTreeClassifier(random_state=42))])"
      ]
     },
     "execution_count": 49,
     "metadata": {},
     "output_type": "execute_result"
    }
   ],
   "source": [
    "# Fit on `X_train`, `y_train`\n",
    "model_reg = make_pipeline(\n",
    "SimpleImputer(strategy=\"median\"),DecisionTreeClassifier(random_state=42)\n",
    ")\n",
    "model_reg.fit(X_train, y_train)\n",
    "\n",
    "# Fit on `X_train_under`, `y_train_under`\n",
    "model_under = make_pipeline(\n",
    "SimpleImputer(strategy=\"median\"),DecisionTreeClassifier(random_state=42)\n",
    ")\n",
    "model_under.fit(X_train_under, y_train_under)\n",
    "\n",
    "# Fit on `X_train_over`, `y_train_over`\n",
    "model_over = make_pipeline(\n",
    "SimpleImputer(strategy=\"median\"),DecisionTreeClassifier(random_state=42)\n",
    ")\n",
    "model_over.fit(X_train_over,y_train_over)"
   ]
  },
  {
   "cell_type": "markdown",
   "id": "596ba5e3-c366-44ef-ac73-9f853fb0bbd2",
   "metadata": {
    "deletable": false,
    "editable": false
   },
   "source": [
    "## Evaluate"
   ]
  },
  {
   "cell_type": "markdown",
   "id": "a03c9432-c519-4d27-a517-d3805771a482",
   "metadata": {
    "deletable": false,
    "editable": false
   },
   "source": [
    "How did we do?"
   ]
  },
  {
   "cell_type": "code",
   "execution_count": 50,
   "id": "dc37b9e4-be81-4edb-9ccc-18bfae4e85d9",
   "metadata": {
    "deletable": false,
    "editable": false,
    "init_cell": true
   },
   "outputs": [
    {
     "data": {
      "text/html": [
       "\n",
       "        <iframe\n",
       "            width=\"600\"\n",
       "            height=\"300\"\n",
       "            src=\"https://player.vimeo.com/video/694058076?h=d57fb27d07\"\n",
       "            frameborder=\"0\"\n",
       "            allowfullscreen\n",
       "            \n",
       "        ></iframe>\n",
       "        "
      ],
      "text/plain": [
       "<IPython.lib.display.VimeoVideo at 0x7fde74976e50>"
      ]
     },
     "execution_count": 50,
     "metadata": {},
     "output_type": "execute_result"
    }
   ],
   "source": [
    "VimeoVideo(\"694058076\", h=\"d57fb27d07\", width=600)"
   ]
  },
  {
   "cell_type": "markdown",
   "id": "3b127381-5f48-4ba9-88a6-80191e24e374",
   "metadata": {
    "deletable": false,
    "editable": false
   },
   "source": [
    "**Task 5.2.16:** Calculate training and test accuracy for your three models. \n",
    "\n",
    "- [What's an accuracy score?](../%40textbook/14-ml-classification.ipynb#Evaluation)\n",
    "- [Calculate the accuracy score for a model in scikit-learn.](../%40textbook/14-ml-classification.ipynb#Evaluation)"
   ]
  },
  {
   "cell_type": "code",
   "execution_count": 51,
   "id": "c0ca1a2b-e958-4520-8665-d40f22f07390",
   "metadata": {
    "deletable": false
   },
   "outputs": [
    {
     "name": "stdout",
     "output_type": "stream",
     "text": [
      "Training Accuracy: 1.0\n",
      "Test Accuracy: 0.9359\n",
      "Training Accuracy: 0.7421\n",
      "Test Accuracy: 0.7104\n",
      "Training Accuracy: 1.0\n",
      "Test Accuracy: 0.9344\n"
     ]
    }
   ],
   "source": [
    "for m in [model_reg, model_under, model_over]:\n",
    "    acc_train = m.score(X_train,y_train)\n",
    "    acc_test = m.score(X_test,y_test)\n",
    "\n",
    "    print(\"Training Accuracy:\", round(acc_train, 4))\n",
    "    print(\"Test Accuracy:\", round(acc_test, 4))"
   ]
  },
  {
   "cell_type": "markdown",
   "id": "8f554cac-2023-4940-ace4-03ff0d80b4b8",
   "metadata": {
    "deletable": false,
    "editable": false
   },
   "source": [
    "As we mentioned earlier, \"good\" accuracy scores don't tell us much about the model's performance when dealing with imbalanced data. So instead of looking at what the model got right or wrong, let's see how its predictions differ for the two classes in the dataset."
   ]
  },
  {
   "cell_type": "code",
   "execution_count": 52,
   "id": "c1fbb0b3-0552-4a8a-8096-da9844cff6e3",
   "metadata": {
    "deletable": false,
    "editable": false,
    "init_cell": true
   },
   "outputs": [
    {
     "data": {
      "text/html": [
       "\n",
       "        <iframe\n",
       "            width=\"600\"\n",
       "            height=\"300\"\n",
       "            src=\"https://player.vimeo.com/video/694058022?h=ce29f57dee\"\n",
       "            frameborder=\"0\"\n",
       "            allowfullscreen\n",
       "            \n",
       "        ></iframe>\n",
       "        "
      ],
      "text/plain": [
       "<IPython.lib.display.VimeoVideo at 0x7fde7409e4c0>"
      ]
     },
     "execution_count": 52,
     "metadata": {},
     "output_type": "execute_result"
    }
   ],
   "source": [
    "VimeoVideo(\"694058022\", h=\"ce29f57dee\", width=600)"
   ]
  },
  {
   "cell_type": "markdown",
   "id": "2a281947-e846-4173-81c2-40dbbc944bf0",
   "metadata": {
    "deletable": false,
    "editable": false
   },
   "source": [
    "**Task 5.2.17:** Plot a confusion matrix that shows how your best model performs on your validation set. \n",
    "\n",
    "- [What's a confusion matrix?](../%40textbook/14-ml-classification.ipynb#Confusion-Matrix)\n",
    "- [Create a confusion matrix using scikit-learn.](../%40textbook/14-ml-classification.ipynb#Confusion-Matrix) "
   ]
  },
  {
   "cell_type": "code",
   "execution_count": 54,
   "id": "f47c811c-58bb-433f-8af5-742b2188fddf",
   "metadata": {
    "deletable": false
   },
   "outputs": [
    {
     "data": {
      "image/png": "[encoded data removed]",
      "text/plain": [
       "<Figure size 432x288 with 2 Axes>"
      ]
     },
     "metadata": {
      "needs_background": "light"
     },
     "output_type": "display_data"
    }
   ],
   "source": [
    "# Plot confusion matrix\n",
    "ConfusionMatrixDisplay.from_estimator(model_reg,X_test,y_test);"
   ]
  },
  {
   "cell_type": "markdown",
   "id": "4d23026f-9d8d-4e0d-a93c-9f8599af6d27",
   "metadata": {
    "deletable": false,
    "editable": false
   },
   "source": [
    "In this lesson, we didn't do any hyperparameter tuning, but it will be helpful in the next lesson to know what the depth of the tree `model_over`."
   ]
  },
  {
   "cell_type": "code",
   "execution_count": 55,
   "id": "6c483996-2a99-4197-a850-42f9308c7c54",
   "metadata": {
    "deletable": false,
    "editable": false,
    "init_cell": true
   },
   "outputs": [
    {
     "data": {
      "text/html": [
       "\n",
       "        <iframe\n",
       "            width=\"600\"\n",
       "            height=\"300\"\n",
       "            src=\"https://player.vimeo.com/video/694057996?h=73882663cf\"\n",
       "            frameborder=\"0\"\n",
       "            allowfullscreen\n",
       "            \n",
       "        ></iframe>\n",
       "        "
      ],
      "text/plain": [
       "<IPython.lib.display.VimeoVideo at 0x7fde747c5430>"
      ]
     },
     "execution_count": 55,
     "metadata": {},
     "output_type": "execute_result"
    }
   ],
   "source": [
    "VimeoVideo(\"694057996\", h=\"73882663cf\", width=600)"
   ]
  },
  {
   "cell_type": "markdown",
   "id": "f982fbc2-2802-4e26-9ac4-0477b2511db8",
   "metadata": {
    "deletable": false,
    "editable": false
   },
   "source": [
    "**Task 5.2.18:** Determine the depth of the decision tree in `model_over`.\n",
    "\n",
    "- [What's a decision tree?](../%40textbook/14-ml-classification.ipynb#Decision-Trees)\n",
    "- [Access an object in a pipeline in scikit-learn.](../%40textbook/13-ml-data-pre-processing-and-production.ipynb#Accessing-an-Object-in-a-Pipeline)"
   ]
  },
  {
   "cell_type": "code",
   "execution_count": 57,
   "id": "408b3f41-3444-4515-83d3-0c5fd36483b3",
   "metadata": {
    "deletable": false
   },
   "outputs": [
    {
     "name": "stdout",
     "output_type": "stream",
     "text": [
      "33\n"
     ]
    }
   ],
   "source": [
    "depth = model_over.named_steps[\"decisiontreeclassifier\"].get_depth()\n",
    "print(depth)"
   ]
  },
  {
   "cell_type": "markdown",
   "id": "b0131cd6-b7e6-4ff1-afb1-6913f2dc1a60",
   "metadata": {
    "deletable": false,
    "editable": false
   },
   "source": [
    "# Communicate"
   ]
  },
  {
   "cell_type": "markdown",
   "id": "df2beac9-6df5-4c38-9dfc-3992c50affdf",
   "metadata": {
    "deletable": false,
    "editable": false
   },
   "source": [
    "Now that we have a reasonable model, let's graph the importance of each feature."
   ]
  },
  {
   "cell_type": "code",
   "execution_count": 58,
   "id": "529b15f9-1169-41df-870f-282cb472596e",
   "metadata": {
    "deletable": false,
    "editable": false,
    "init_cell": true
   },
   "outputs": [
    {
     "data": {
      "text/html": [
       "\n",
       "        <iframe\n",
       "            width=\"600\"\n",
       "            height=\"300\"\n",
       "            src=\"https://player.vimeo.com/video/694057962?h=f60aa3b614\"\n",
       "            frameborder=\"0\"\n",
       "            allowfullscreen\n",
       "            \n",
       "        ></iframe>\n",
       "        "
      ],
      "text/plain": [
       "<IPython.lib.display.VimeoVideo at 0x7fde741355b0>"
      ]
     },
     "execution_count": 58,
     "metadata": {},
     "output_type": "execute_result"
    }
   ],
   "source": [
    "VimeoVideo(\"694057962\", h=\"f60aa3b614\", width=600)"
   ]
  },
  {
   "cell_type": "markdown",
   "id": "60b7a603-a3f4-4c95-a514-8c61d9feb2bf",
   "metadata": {
    "deletable": false,
    "editable": false
   },
   "source": [
    "**Task 5.2.19:** Create a horizontal bar chart with the 15 most important features for `model_over`. Be sure to label your x-axis `\"Gini Importance\"`.\n",
    "\n",
    "- [What's a <span id='term'>bar chart</span>?](../%40textbook/07-visualization-pandas.ipynb#Bar-Charts)\n",
    "- [<span id='technique'>Access an object in a pipeline in <span id='tool'>scikit-learn</span></span>.](../%40textbook/13-ml-data-pre-processing-and-production.ipynb#Accessing-an-Object-in-a-Pipeline)\n",
    "- [<span id='technique'>Create a bar chart using <span id='tool'>pandas</span></span>.](../%40textbook/07-visualization-pandas.ipynb#Bar-Charts)\n",
    "- [<span id='technique'>Create a Series in <span id='tool'>pandas</span></span>.](../%40textbook/03-pandas-getting-started.ipynb#Adding-Columns)"
   ]
  },
  {
   "cell_type": "code",
   "execution_count": 60,
   "id": "8275986a-74d1-44d0-80c9-d1cab4183da6",
   "metadata": {
    "deletable": false
   },
   "outputs": [
    {
     "data": {
      "image/png": "[encoded data removed]",
      "text/plain": [
       "<Figure size 432x288 with 1 Axes>"
      ]
     },
     "metadata": {
      "needs_background": "light"
     },
     "output_type": "display_data"
    }
   ],
   "source": [
    "# Get importances\n",
    "importances = model_over.named_steps[\"decisiontreeclassifier\"].feature_importances_\n",
    "\n",
    "# Put importances into a Series\n",
    "feat_imp = pd.Series(importances,index=X_train_over.columns).sort_values()\n",
    "\n",
    "# Plot series\n",
    "feat_imp.tail(15).plot(kind=\"barh\")\n",
    "plt.xlabel(\"Gini Importance\")\n",
    "plt.ylabel(\"Feature\")\n",
    "plt.title(\"model_over Feature Importance\");"
   ]
  },
  {
   "cell_type": "markdown",
   "id": "abc81c45-5048-471f-a8cd-37749bd0052e",
   "metadata": {
    "deletable": false,
    "editable": false
   },
   "source": [
    "There's our old friend `\"feat_27\"` near the top, along with features 34 and 26. It's time to share our findings.\n",
    "\n",
    "Sometimes communication means sharing a visualization. Other times, it means sharing the actual model you've made so that colleagues can use it on new data or deploy your model into production. First step towards production: saving your model."
   ]
  },
  {
   "cell_type": "code",
   "execution_count": 61,
   "id": "55ca1eb8-dec7-43d6-94cd-680035d111d5",
   "metadata": {
    "deletable": false,
    "editable": false,
    "init_cell": true
   },
   "outputs": [
    {
     "data": {
      "text/html": [
       "\n",
       "        <iframe\n",
       "            width=\"600\"\n",
       "            height=\"300\"\n",
       "            src=\"https://player.vimeo.com/video/694057923?h=85a50bb588\"\n",
       "            frameborder=\"0\"\n",
       "            allowfullscreen\n",
       "            \n",
       "        ></iframe>\n",
       "        "
      ],
      "text/plain": [
       "<IPython.lib.display.VimeoVideo at 0x7fde746926d0>"
      ]
     },
     "execution_count": 61,
     "metadata": {},
     "output_type": "execute_result"
    }
   ],
   "source": [
    "VimeoVideo(\"694057923\", h=\"85a50bb588\", width=600)"
   ]
  },
  {
   "cell_type": "markdown",
   "id": "2dfbb91b-9608-49a7-af74-da68695e9341",
   "metadata": {
    "deletable": false,
    "editable": false
   },
   "source": [
    "**Task 5.2.20:** Using a context manager, save your best-performing model to a a file named `\"model-5-2.pkl\"`. \n",
    "\n",
    "- [What's serialization?](../%40textbook/03-pandas-getting-started.ipynb#Pickle-Files)\n",
    "- [Store a Python object as a serialized file using pickle.](../%40textbook/03-pandas-getting-started.ipynb#Pickle-Files) "
   ]
  },
  {
   "cell_type": "code",
   "execution_count": 62,
   "id": "4b4409a0-249f-4a70-b356-2fdd83d501f9",
   "metadata": {
    "deletable": false
   },
   "outputs": [],
   "source": [
    "# Save your model as `\"model-5-2.pkl\"`\n",
    "with open(\"model-5-2.pkl\",\"wb\") as f:\n",
    "    pickle.dump(model_over,f)"
   ]
  },
  {
   "cell_type": "code",
   "execution_count": 63,
   "id": "966dbb0d-29fd-45c1-af6d-102d5e0826f8",
   "metadata": {
    "deletable": false,
    "editable": false,
    "init_cell": true
   },
   "outputs": [
    {
     "data": {
      "text/html": [
       "\n",
       "        <iframe\n",
       "            width=\"600\"\n",
       "            height=\"300\"\n",
       "            src=\"https://player.vimeo.com/video/694057859?h=fecd8f9e54\"\n",
       "            frameborder=\"0\"\n",
       "            allowfullscreen\n",
       "            \n",
       "        ></iframe>\n",
       "        "
      ],
      "text/plain": [
       "<IPython.lib.display.VimeoVideo at 0x7fde742aa0a0>"
      ]
     },
     "execution_count": 63,
     "metadata": {},
     "output_type": "execute_result"
    }
   ],
   "source": [
    "VimeoVideo(\"694057859\", h=\"fecd8f9e54\", width=600)"
   ]
  },
  {
   "cell_type": "markdown",
   "id": "1185a161-dc20-47a6-a8bc-0195793b746b",
   "metadata": {
    "deletable": false,
    "editable": false
   },
   "source": [
    "**Task 5.2.21:** Make sure you've saved your model correctly by loading `\"model-5-2.pkl\"` and assigning to the variable `loaded_model`. Once you're satisfied with the result, run the last cell to submit your model to the grader. \n",
    "\n",
    "- [Load a Python object from a serialized file using pickle.](../%40textbook/03-pandas-getting-started.ipynb#Pickle-Files)"
   ]
  },
  {
   "cell_type": "code",
   "execution_count": 64,
   "id": "7b8b2502-6b8e-442f-9a4b-f9aa14563954",
   "metadata": {
    "deletable": false
   },
   "outputs": [
    {
     "name": "stdout",
     "output_type": "stream",
     "text": [
      "Pipeline(steps=[('simpleimputer', SimpleImputer(strategy='median')),\n",
      "                ('decisiontreeclassifier',\n",
      "                 DecisionTreeClassifier(random_state=42))])\n"
     ]
    }
   ],
   "source": [
    "# Load `\"model-5-2.pkl\"`\n",
    "with open(\"model-5-2.pkl\",\"rb\") as f:\n",
    "    loaded_model = pickle.load(f)  \n",
    "print(loaded_model)"
   ]
  },
  {
   "cell_type": "code",
   "execution_count": 65,
   "id": "18c954f3-4ba2-4c1f-a77b-71f90c5431c8",
   "metadata": {
    "deletable": false,
    "editable": false
   },
   "outputs": [
    {
     "data": {
      "text/html": [
       "\n",
       "    <div class=\"wqet-result\">\n",
       "      <div class=\"animation\">\n",
       "        <svg class=\"checkmark\" xmlns=\"http://www.w3.org/2000/svg\" viewBox=\"0 0 52 52\">\n",
       "          <circle class=\"checkmark__circle\" cx=\"26\" cy=\"26\" r=\"25\" fill=\"none\"/>\n",
       "          <path class=\"checkmark__check\" fill=\"none\" d=\"M14.1 27.2l7.1 7.2 16.7-16.8\"/>\n",
       "        </svg>\n",
       "      </div>\n",
       "      <div class=\"details\">\n",
       "        <p class=\"title\"><p>Way to go!</p></p>\n",
       "        <p>Score: 1</p>\n",
       "      </div>\n",
       "    </div>\n"
      ],
      "text/plain": [
       "<IPython.core.display.HTML object>"
      ]
     },
     "metadata": {},
     "output_type": "display_data"
    }
   ],
   "source": [
    "with open(\"model-5-2.pkl\", \"rb\") as f:\n",
    "    loaded_model = pickle.load(f)\n",
    "    wqet_grader.grade(\n",
    "        \"Project 5 Assessment\",\n",
    "        \"Task 5.2.16\",\n",
    "        loaded_model,\n",
    "    )"
   ]
  },
  {
   "cell_type": "markdown",
   "id": "03a89dc7",
   "metadata": {
    "deletable": false,
    "editable": false
   },
   "source": [
    "---\n",
    "Copyright © 2022 WorldQuant University. This\n",
    "content is licensed solely for personal use. Redistribution or\n",
    "publication of this material is strictly prohibited.\n"
   ]
  }
 ],
 "metadata": {
  "kernelspec": {
   "display_name": "Python 3 (ipykernel)",
   "language": "python",
   "name": "python3"
  },
  "language_info": {
   "codemirror_mode": {
    "name": "ipython",
    "version": 3
   },
   "file_extension": ".py",
   "mimetype": "text/x-python",
   "name": "python",
   "nbconvert_exporter": "python",
   "pygments_lexer": "ipython3",
   "version": "3.9.6"
  }
 },
 "nbformat": 4,
 "nbformat_minor": 5
}
