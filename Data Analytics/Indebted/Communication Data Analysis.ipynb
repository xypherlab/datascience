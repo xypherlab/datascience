{
 "cells": [
  {
   "cell_type": "code",
   "execution_count": 2,
   "metadata": {},
   "outputs": [],
   "source": [
    "import numpy as np\n",
    "import pandas as pd\n",
    "from numpy import unique"
   ]
  },
  {
   "cell_type": "code",
   "execution_count": 3,
   "metadata": {},
   "outputs": [],
   "source": [
    "def wrangle(filepath):\n",
    "    df=pd.read_csv(filepath)\n",
    "    drop_cols=[col for col in df.columns if \"message_id\" in col]\n",
    "    drop_cols.append(\"customer_id\")\n",
    "    drop_cols.append(\"client_id\")\n",
    "    drop_cols.append(\"sent_at\")\n",
    "    drop_cols.append(\"created_at\")\n",
    "    drop_cols.append(\"message_number\")\n",
    "    df.drop(columns=drop_cols,inplace=True)\n",
    "    return df"
   ]
  },
  {
   "cell_type": "code",
   "execution_count": 4,
   "metadata": {},
   "outputs": [
    {
     "name": "stdout",
     "output_type": "stream",
     "text": [
      "(145941, 15)\n",
      "                         message_id                       customer_id  \\\n",
      "0  28d82c62db5989d9441351f58738c6a8  f13e966f9dc1e2aa7bffec6c9efa8e11   \n",
      "1  0f98a1bbf7f2b66f420816a65c8d9b77  f13e966f9dc1e2aa7bffec6c9efa8e11   \n",
      "2  97f9ed967d2334ce0b4ebfcfc9b5c25c  f13e966f9dc1e2aa7bffec6c9efa8e11   \n",
      "3  3d0615ca493d69e16265ab688495c134  f13e966f9dc1e2aa7bffec6c9efa8e11   \n",
      "4  3eb3a03a007bd1adf7482e6d95f7b942  f13e966f9dc1e2aa7bffec6c9efa8e11   \n",
      "\n",
      "                            sent_at  clicked  converted  \\\n",
      "0  2021-01-04 10:03:16.376000+00:00        0          0   \n",
      "1  2021-01-12 08:34:09.376000+00:00        0          0   \n",
      "2  2021-01-19 08:58:11.376000+00:00        0          0   \n",
      "3  2021-01-28 10:43:04.376000+00:00        0          0   \n",
      "4  2021-02-04 11:28:56.376000+00:00        0          0   \n",
      "\n",
      "                          client_id gender customer_country   age  \\\n",
      "0  cfcd208495d565ef66e7dff9f98764da      F              NaN  51.0   \n",
      "1  cfcd208495d565ef66e7dff9f98764da      F              NaN  51.0   \n",
      "2  cfcd208495d565ef66e7dff9f98764da      F              NaN  51.0   \n",
      "3  cfcd208495d565ef66e7dff9f98764da      F              NaN  51.0   \n",
      "4  cfcd208495d565ef66e7dff9f98764da      F              NaN  51.0   \n",
      "\n",
      "                         created_at client_name product_type client_country  \\\n",
      "0  2021-01-03 15:58:50.376000+00:00     SwanPay         BNPL             UK   \n",
      "1  2021-01-03 15:58:50.376000+00:00     SwanPay         BNPL             UK   \n",
      "2  2021-01-03 15:58:50.376000+00:00     SwanPay         BNPL             UK   \n",
      "3  2021-01-03 15:58:50.376000+00:00     SwanPay         BNPL             UK   \n",
      "4  2021-01-03 15:58:50.376000+00:00     SwanPay         BNPL             UK   \n",
      "\n",
      "  channel  message_number  \n",
      "0     SMS               1  \n",
      "1     SMS               2  \n",
      "2   Email               3  \n",
      "3   Email               4  \n",
      "4   Email               5  \n"
     ]
    }
   ],
   "source": [
    "df = pd.read_csv(\"communications.csv\")\n",
    "print(df.shape)\n",
    "print(df.head())"
   ]
  },
  {
   "cell_type": "code",
   "execution_count": 5,
   "metadata": {},
   "outputs": [
    {
     "name": "stdout",
     "output_type": "stream",
     "text": [
      "message_id          145941\n",
      "customer_id           9751\n",
      "sent_at             145937\n",
      "clicked                  2\n",
      "converted                2\n",
      "client_id                8\n",
      "gender                   2\n",
      "customer_country         3\n",
      "age                     79\n",
      "created_at            9751\n",
      "client_name              8\n",
      "product_type             3\n",
      "client_country           3\n",
      "channel                  2\n",
      "message_number          39\n",
      "dtype: int64\n"
     ]
    }
   ],
   "source": [
    "counts=df.nunique()\n",
    "print(counts)"
   ]
  },
  {
   "cell_type": "code",
   "execution_count": 6,
   "metadata": {
    "scrolled": true
   },
   "outputs": [
    {
     "name": "stdout",
     "output_type": "stream",
     "text": [
      "Index([], dtype='object')\n",
      "message_id          145941\n",
      "customer_id           9751\n",
      "sent_at             145937\n",
      "clicked                  2\n",
      "converted                2\n",
      "client_id                8\n",
      "gender                   2\n",
      "customer_country         3\n",
      "age                     79\n",
      "created_at            9751\n",
      "client_name              8\n",
      "product_type             3\n",
      "client_country           3\n",
      "channel                  2\n",
      "message_number          39\n",
      "dtype: int64\n"
     ]
    }
   ],
   "source": [
    "to_del=[i for i,v in enumerate(counts) if v<=1] #Delete Useless Column\n",
    "print(df.columns[to_del])\n",
    "df.drop(df.columns[to_del],axis=1,inplace=True)\n",
    "counts=df.nunique()\n",
    "print(counts)"
   ]
  },
  {
   "cell_type": "code",
   "execution_count": 7,
   "metadata": {},
   "outputs": [
    {
     "name": "stdout",
     "output_type": "stream",
     "text": [
      "False\n",
      "Empty DataFrame\n",
      "Columns: [message_id, customer_id, sent_at, clicked, converted, client_id, gender, customer_country, age, created_at, client_name, product_type, client_country, channel, message_number]\n",
      "Index: []\n"
     ]
    }
   ],
   "source": [
    "dups=df.duplicated()\n",
    "print(dups.any())\n",
    "print(df[dups])\n"
   ]
  },
  {
   "cell_type": "code",
   "execution_count": 8,
   "metadata": {},
   "outputs": [],
   "source": [
    "df.drop_duplicates(inplace=True)"
   ]
  },
  {
   "cell_type": "code",
   "execution_count": 9,
   "metadata": {
    "scrolled": true
   },
   "outputs": [
    {
     "name": "stdout",
     "output_type": "stream",
     "text": [
      "message_id              0\n",
      "customer_id             0\n",
      "sent_at                 0\n",
      "clicked                 0\n",
      "converted               0\n",
      "client_id               0\n",
      "gender              31676\n",
      "customer_country    30146\n",
      "age                 22020\n",
      "created_at              0\n",
      "client_name             0\n",
      "product_type            0\n",
      "client_country          0\n",
      "channel                 0\n",
      "message_number          0\n",
      "dtype: int64\n",
      "message_id           0.000000\n",
      "customer_id          0.000000\n",
      "sent_at              0.000000\n",
      "clicked              0.000000\n",
      "converted            0.000000\n",
      "client_id            0.000000\n",
      "gender              21.704661\n",
      "customer_country    20.656293\n",
      "age                 15.088289\n",
      "created_at           0.000000\n",
      "client_name          0.000000\n",
      "product_type         0.000000\n",
      "client_country       0.000000\n",
      "channel              0.000000\n",
      "message_number       0.000000\n",
      "dtype: float64\n"
     ]
    }
   ],
   "source": [
    "#Count Missing Values\n",
    "print(df.isnull().sum())\n",
    "print(df.isnull().sum()* 100 / len(df))"
   ]
  },
  {
   "cell_type": "code",
   "execution_count": 10,
   "metadata": {},
   "outputs": [],
   "source": [
    "#Categorial Correlation using Chi-Square\n",
    "subset = df[[\"gender\",\"age\",\"clicked\",\"converted\",\"product_type\"]]"
   ]
  },
  {
   "cell_type": "code",
   "execution_count": 11,
   "metadata": {},
   "outputs": [],
   "source": [
    "subset= wrangle(\"communications.csv\")"
   ]
  },
  {
   "cell_type": "code",
   "execution_count": 12,
   "metadata": {},
   "outputs": [
    {
     "data": {
      "text/html": [
       "<div>\n",
       "<style scoped>\n",
       "    .dataframe tbody tr th:only-of-type {\n",
       "        vertical-align: middle;\n",
       "    }\n",
       "\n",
       "    .dataframe tbody tr th {\n",
       "        vertical-align: top;\n",
       "    }\n",
       "\n",
       "    .dataframe thead th {\n",
       "        text-align: right;\n",
       "    }\n",
       "</style>\n",
       "<table border=\"1\" class=\"dataframe\">\n",
       "  <thead>\n",
       "    <tr style=\"text-align: right;\">\n",
       "      <th></th>\n",
       "      <th>clicked</th>\n",
       "      <th>converted</th>\n",
       "      <th>gender</th>\n",
       "      <th>customer_country</th>\n",
       "      <th>age</th>\n",
       "      <th>client_name</th>\n",
       "      <th>product_type</th>\n",
       "      <th>client_country</th>\n",
       "      <th>channel</th>\n",
       "    </tr>\n",
       "  </thead>\n",
       "  <tbody>\n",
       "    <tr>\n",
       "      <th>0</th>\n",
       "      <td>0</td>\n",
       "      <td>0</td>\n",
       "      <td>F</td>\n",
       "      <td>NaN</td>\n",
       "      <td>51.0</td>\n",
       "      <td>SwanPay</td>\n",
       "      <td>BNPL</td>\n",
       "      <td>UK</td>\n",
       "      <td>SMS</td>\n",
       "    </tr>\n",
       "    <tr>\n",
       "      <th>1</th>\n",
       "      <td>0</td>\n",
       "      <td>0</td>\n",
       "      <td>F</td>\n",
       "      <td>NaN</td>\n",
       "      <td>51.0</td>\n",
       "      <td>SwanPay</td>\n",
       "      <td>BNPL</td>\n",
       "      <td>UK</td>\n",
       "      <td>SMS</td>\n",
       "    </tr>\n",
       "    <tr>\n",
       "      <th>2</th>\n",
       "      <td>0</td>\n",
       "      <td>0</td>\n",
       "      <td>F</td>\n",
       "      <td>NaN</td>\n",
       "      <td>51.0</td>\n",
       "      <td>SwanPay</td>\n",
       "      <td>BNPL</td>\n",
       "      <td>UK</td>\n",
       "      <td>Email</td>\n",
       "    </tr>\n",
       "    <tr>\n",
       "      <th>3</th>\n",
       "      <td>0</td>\n",
       "      <td>0</td>\n",
       "      <td>F</td>\n",
       "      <td>NaN</td>\n",
       "      <td>51.0</td>\n",
       "      <td>SwanPay</td>\n",
       "      <td>BNPL</td>\n",
       "      <td>UK</td>\n",
       "      <td>Email</td>\n",
       "    </tr>\n",
       "    <tr>\n",
       "      <th>4</th>\n",
       "      <td>0</td>\n",
       "      <td>0</td>\n",
       "      <td>F</td>\n",
       "      <td>NaN</td>\n",
       "      <td>51.0</td>\n",
       "      <td>SwanPay</td>\n",
       "      <td>BNPL</td>\n",
       "      <td>UK</td>\n",
       "      <td>Email</td>\n",
       "    </tr>\n",
       "  </tbody>\n",
       "</table>\n",
       "</div>"
      ],
      "text/plain": [
       "   clicked  converted gender customer_country   age client_name product_type  \\\n",
       "0        0          0      F              NaN  51.0     SwanPay         BNPL   \n",
       "1        0          0      F              NaN  51.0     SwanPay         BNPL   \n",
       "2        0          0      F              NaN  51.0     SwanPay         BNPL   \n",
       "3        0          0      F              NaN  51.0     SwanPay         BNPL   \n",
       "4        0          0      F              NaN  51.0     SwanPay         BNPL   \n",
       "\n",
       "  client_country channel  \n",
       "0             UK     SMS  \n",
       "1             UK     SMS  \n",
       "2             UK   Email  \n",
       "3             UK   Email  \n",
       "4             UK   Email  "
      ]
     },
     "execution_count": 12,
     "metadata": {},
     "output_type": "execute_result"
    }
   ],
   "source": [
    "subset.head()"
   ]
  },
  {
   "cell_type": "code",
   "execution_count": 68,
   "metadata": {},
   "outputs": [],
   "source": [
    "class relevanceattribute:\n",
    "        def __init__(self,data,targetinput):\n",
    "            self.data=data\n",
    "            self.targetinput=targetinput\n",
    "        def printdata(self):\n",
    "            print(self.data)\n",
    "        def ivanalysis(self):\n",
    "            def calculate_woe_iv(dataset, feature, target):\n",
    "                lst = []\n",
    "                for i in range(dataset[feature].nunique()):\n",
    "                    val = list(dataset[feature].unique())[i]\n",
    "\n",
    "                    lst.append({\n",
    "                        'Value': val,\n",
    "                        'All': dataset[dataset[feature] == val].count()[feature],\n",
    "                        'Good': dataset[(dataset[feature] == val) & (dataset[target] == 0)].count()[feature],\n",
    "                        'Bad': dataset[(dataset[feature] == val) & (dataset[target] == 1)].count()[feature]\n",
    "                    })\n",
    "\n",
    "                dset = pd.DataFrame(lst)\n",
    "                #print(dset)\n",
    "                dset['Distr_Good'] = dset['Good'] / dset['Good'].sum()\n",
    "                dset['Distr_Bad'] = dset['Bad'] / dset['Bad'].sum()\n",
    "                dset['WoE'] = np.log(dset['Distr_Good'] / dset['Distr_Bad'])\n",
    "                dset = dset.replace({'WoE': {np.inf: 0, -np.inf: 0}})\n",
    "                dset['IV'] = (dset['Distr_Good'] - dset['Distr_Bad']) * dset['WoE']\n",
    "                iv = dset['IV'].sum()\n",
    "\n",
    "                dset = dset.sort_values(by='WoE')\n",
    "\n",
    "                return dset, iv  \n",
    "            for col in self.data.columns:\n",
    "                df, iv = calculate_woe_iv(self.data, col, self.targetinput)\n",
    "                if col == self.targetinput: continue\n",
    "                else:\n",
    "                    flag=0\n",
    "                    if iv<0.02 and flag==1:\n",
    "                        print(\"Result: Useless Indicator\")\n",
    "                        flag=1\n",
    "                    elif iv>=0.02 and iv<0.1:\n",
    "                        print(\"Result: Weak Indicator\")\n",
    "                        flag=1\n",
    "                    elif iv>=0.1 and iv<0.3:\n",
    "                        print(\"Result: Medium Indicator\")\n",
    "                        flag=1\n",
    "                    elif iv>=0.3 and iv<0.5:\n",
    "                        print(\"Result: Strong Indicator\")\n",
    "                        flag=1\n",
    "                    elif iv>=0.5:\n",
    "                        print(\"Result: Suspicious Indicator\")\n",
    "                        flag=1\n",
    "                    if flag==1:\n",
    "                        print('WoE and IV for column: {}'.format(col))\n",
    "                        #print(df)\n",
    "                        print('IV score: {:.2f}'.format(iv))\n",
    "                        flag=0\n",
    "                    print('\\n')\n",
    "    "
   ]
  },
  {
   "cell_type": "code",
   "execution_count": 70,
   "metadata": {},
   "outputs": [
    {
     "name": "stdout",
     "output_type": "stream",
     "text": [
      "Result: Suspicious Indicator\n",
      "WoE and IV for column: clicked\n",
      "IV score: 3.00\n",
      "\n",
      "\n"
     ]
    },
    {
     "name": "stderr",
     "output_type": "stream",
     "text": [
      "C:\\Users\\USER\\anaconda3\\lib\\site-packages\\pandas\\core\\arraylike.py:397: RuntimeWarning: divide by zero encountered in log\n",
      "  result = getattr(ufunc, method)(*inputs, **kwargs)\n"
     ]
    },
    {
     "name": "stdout",
     "output_type": "stream",
     "text": [
      "\n",
      "\n",
      "Result: Medium Indicator\n",
      "WoE and IV for column: customer_country\n",
      "IV score: 0.12\n",
      "\n",
      "\n",
      "Result: Strong Indicator\n",
      "WoE and IV for column: age\n",
      "IV score: 0.36\n",
      "\n",
      "\n",
      "Result: Suspicious Indicator\n",
      "WoE and IV for column: client_name\n",
      "IV score: 0.62\n",
      "\n",
      "\n",
      "Result: Strong Indicator\n",
      "WoE and IV for column: product_type\n",
      "IV score: 0.40\n",
      "\n",
      "\n",
      "Result: Medium Indicator\n",
      "WoE and IV for column: client_country\n",
      "IV score: 0.13\n",
      "\n",
      "\n",
      "\n",
      "\n"
     ]
    }
   ],
   "source": [
    "relevanceattribute(subset,'converted').ivanalysis()"
   ]
  },
  {
   "cell_type": "code",
   "execution_count": 71,
   "metadata": {},
   "outputs": [
    {
     "name": "stderr",
     "output_type": "stream",
     "text": [
      "C:\\Users\\USER\\anaconda3\\lib\\site-packages\\pandas\\core\\arraylike.py:397: RuntimeWarning: divide by zero encountered in log\n",
      "  result = getattr(ufunc, method)(*inputs, **kwargs)\n",
      "C:\\Users\\USER\\anaconda3\\lib\\site-packages\\pandas\\core\\arraylike.py:397: RuntimeWarning: divide by zero encountered in log\n",
      "  result = getattr(ufunc, method)(*inputs, **kwargs)\n"
     ]
    },
    {
     "name": "stdout",
     "output_type": "stream",
     "text": [
      "Result: Medium Indicator\n",
      "WoE and IV for column: converted\n",
      "IV score: 0.14\n",
      "\n",
      "\n",
      "\n",
      "\n",
      "\n",
      "\n",
      "Result: Medium Indicator\n",
      "WoE and IV for column: age\n",
      "IV score: 0.14\n",
      "\n",
      "\n",
      "Result: Medium Indicator\n",
      "WoE and IV for column: client_name\n",
      "IV score: 0.28\n",
      "\n",
      "\n",
      "Result: Medium Indicator\n",
      "WoE and IV for column: product_type\n",
      "IV score: 0.15\n",
      "\n",
      "\n",
      "Result: Weak Indicator\n",
      "WoE and IV for column: client_country\n",
      "IV score: 0.10\n",
      "\n",
      "\n",
      "Result: Weak Indicator\n",
      "WoE and IV for column: channel\n",
      "IV score: 0.10\n",
      "\n",
      "\n"
     ]
    }
   ],
   "source": [
    "#Attribute Relevance Analysis\n",
    "# IV Guideline\n",
    "# <0.02 Useless\n",
    "# 0.02-0.1 Weak\n",
    "# 0.1-0.3 Medium\n",
    "# 0.3-0.5 Strong\n",
    "# >0.5 Too good to be true\n",
    "\n",
    "relevanceattribute(subset,'clicked').ivanalysis()\n"
   ]
  },
  {
   "cell_type": "code",
   "execution_count": 72,
   "metadata": {},
   "outputs": [
    {
     "name": "stdout",
     "output_type": "stream",
     "text": [
      "\n",
      "\n",
      "\n",
      "\n",
      "\n",
      "\n",
      "\n",
      "\n",
      "\n",
      "\n",
      "\n",
      "\n",
      "\n",
      "\n",
      "\n",
      "\n"
     ]
    }
   ],
   "source": [
    "# IV Guideline\n",
    "# <0.02 Useless\n",
    "# 0.02-0.1 Weak\n",
    "# 0.1-0.3 Medium\n",
    "# 0.3-0.5 Strong\n",
    "# >0.5 Too good to be true\n",
    "relevanceattribute(subset,'channel').ivanalysis()"
   ]
  },
  {
   "cell_type": "code",
   "execution_count": null,
   "metadata": {},
   "outputs": [],
   "source": []
  }
 ],
 "metadata": {
  "kernelspec": {
   "display_name": "Python 3 (ipykernel)",
   "language": "python",
   "name": "python3"
  },
  "language_info": {
   "codemirror_mode": {
    "name": "ipython",
    "version": 3
   },
   "file_extension": ".py",
   "mimetype": "text/x-python",
   "name": "python",
   "nbconvert_exporter": "python",
   "pygments_lexer": "ipython3",
   "version": "3.9.13"
  }
 },
 "nbformat": 4,
 "nbformat_minor": 4
}
